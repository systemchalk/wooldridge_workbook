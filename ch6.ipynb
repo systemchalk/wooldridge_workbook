{
 "cells": [
  {
   "cell_type": "markdown",
   "metadata": {},
   "source": [
    "## Chapter 6"
   ]
  },
  {
   "cell_type": "code",
   "execution_count": 1,
   "metadata": {},
   "outputs": [],
   "source": [
    "import pandas as pd\n",
    "import statsmodels.api as sm\n",
    "import numpy as np"
   ]
  },
  {
   "cell_type": "code",
   "execution_count": 2,
   "metadata": {},
   "outputs": [
    {
     "name": "stdout",
     "output_type": "stream",
     "text": [
      "                            OLS Regression Results                            \n",
      "==============================================================================\n",
      "Dep. Variable:                 lprice   R-squared:                       0.180\n",
      "Model:                            OLS   Adj. R-squared:                  0.174\n",
      "Method:                 Least Squares   F-statistic:                     30.79\n",
      "Date:                Sun, 24 May 2020   Prob (F-statistic):           1.40e-07\n",
      "Time:                        23:28:04   Log-Likelihood:                -53.138\n",
      "No. Observations:                 142   AIC:                             110.3\n",
      "Df Residuals:                     140   BIC:                             116.2\n",
      "Df Model:                           1                                         \n",
      "Covariance Type:            nonrobust                                         \n",
      "==============================================================================\n",
      "                 coef    std err          t      P>|t|      [0.025      0.975]\n",
      "------------------------------------------------------------------------------\n",
      "const          8.0472      0.646     12.452      0.000       6.770       9.325\n",
      "ldist          0.3649      0.066      5.548      0.000       0.235       0.495\n",
      "==============================================================================\n",
      "Omnibus:                        0.598   Durbin-Watson:                   1.235\n",
      "Prob(Omnibus):                  0.741   Jarque-Bera (JB):                0.719\n",
      "Skew:                           0.058   Prob(JB):                        0.698\n",
      "Kurtosis:                       2.671   Cond. No.                         216.\n",
      "==============================================================================\n",
      "\n",
      "Warnings:\n",
      "[1] Standard Errors assume that the covariance matrix of the errors is correctly specified.\n"
     ]
    }
   ],
   "source": [
    "#Exercise C1\n",
    "kielmc = pd.read_stata(\"stata/KIELMC.DTA\")\n",
    "kielmc_1981 = kielmc[kielmc.year == 1981]\n",
    "\n",
    "y = kielmc_1981.lprice\n",
    "X = sm.add_constant(kielmc_1981[[\"ldist\"]])\n",
    "model = sm.OLS(y, X).fit()\n",
    "model_summary = model.summary()\n",
    "print(model_summary)"
   ]
  },
  {
   "cell_type": "code",
   "execution_count": 3,
   "metadata": {},
   "outputs": [
    {
     "name": "stdout",
     "output_type": "stream",
     "text": [
      "                            OLS Regression Results                            \n",
      "==============================================================================\n",
      "Dep. Variable:                 lprice   R-squared:                       0.748\n",
      "Model:                            OLS   Adj. R-squared:                  0.734\n",
      "Method:                 Least Squares   F-statistic:                     56.68\n",
      "Date:                Sun, 24 May 2020   Prob (F-statistic):           5.10e-37\n",
      "Time:                        23:28:04   Log-Likelihood:                 30.482\n",
      "No. Observations:                 142   AIC:                            -44.96\n",
      "Df Residuals:                     134   BIC:                            -21.32\n",
      "Df Model:                           7                                         \n",
      "Covariance Type:            nonrobust                                         \n",
      "==============================================================================\n",
      "                 coef    std err          t      P>|t|      [0.025      0.975]\n",
      "------------------------------------------------------------------------------\n",
      "const          7.5923      0.642     11.831      0.000       6.323       8.862\n",
      "ldist          0.0554      0.058      0.961      0.338      -0.059       0.169\n",
      "lintst        -0.0390      0.052     -0.756      0.451      -0.141       0.063\n",
      "larea          0.3193      0.076      4.178      0.000       0.168       0.470\n",
      "lland          0.0768      0.040      1.945      0.054      -0.001       0.155\n",
      "rooms          0.0425      0.028      1.505      0.135      -0.013       0.098\n",
      "baths          0.1669      0.042      3.980      0.000       0.084       0.250\n",
      "age           -0.0036      0.001     -3.369      0.001      -0.006      -0.001\n",
      "==============================================================================\n",
      "Omnibus:                       11.436   Durbin-Watson:                   1.486\n",
      "Prob(Omnibus):                  0.003   Jarque-Bera (JB):               24.121\n",
      "Skew:                          -0.257   Prob(JB):                     5.78e-06\n",
      "Kurtosis:                       4.953   Cond. No.                     1.15e+03\n",
      "==============================================================================\n",
      "\n",
      "Warnings:\n",
      "[1] Standard Errors assume that the covariance matrix of the errors is correctly specified.\n",
      "[2] The condition number is large, 1.15e+03. This might indicate that there are\n",
      "strong multicollinearity or other numerical problems.\n"
     ]
    }
   ],
   "source": [
    "X = sm.add_constant(kielmc_1981[[\"ldist\", \"lintst\", \"larea\", \"lland\", \"rooms\", \"baths\", \"age\"]])\n",
    "\n",
    "model = sm.OLS(y, X).fit()\n",
    "model_summary = model.summary()\n",
    "print(model_summary)"
   ]
  },
  {
   "cell_type": "code",
   "execution_count": 4,
   "metadata": {},
   "outputs": [
    {
     "name": "stdout",
     "output_type": "stream",
     "text": [
      "                            OLS Regression Results                            \n",
      "==============================================================================\n",
      "Dep. Variable:                 lprice   R-squared:                       0.778\n",
      "Model:                            OLS   Adj. R-squared:                  0.764\n",
      "Method:                 Least Squares   F-statistic:                     58.11\n",
      "Date:                Sun, 24 May 2020   Prob (F-statistic):           9.95e-40\n",
      "Time:                        23:28:04   Log-Likelihood:                 39.466\n",
      "No. Observations:                 142   AIC:                            -60.93\n",
      "Df Residuals:                     133   BIC:                            -34.33\n",
      "Df Model:                           8                                         \n",
      "Covariance Type:            nonrobust                                         \n",
      "==============================================================================\n",
      "                 coef    std err          t      P>|t|      [0.025      0.975]\n",
      "------------------------------------------------------------------------------\n",
      "const         -3.3171      2.646     -1.254      0.212      -8.550       1.916\n",
      "ldist          0.1852      0.062      2.971      0.004       0.062       0.309\n",
      "lintst         2.0728      0.501      4.138      0.000       1.082       3.064\n",
      "larea          0.3593      0.073      4.948      0.000       0.216       0.503\n",
      "lland          0.0914      0.037      2.445      0.016       0.017       0.165\n",
      "rooms          0.0381      0.027      1.431      0.155      -0.015       0.091\n",
      "baths          0.1496      0.040      3.764      0.000       0.071       0.228\n",
      "age           -0.0029      0.001     -2.900      0.004      -0.005      -0.001\n",
      "lintst2       -0.1193      0.028     -4.236      0.000      -0.175      -0.064\n",
      "==============================================================================\n",
      "Omnibus:                        9.766   Durbin-Watson:                   1.618\n",
      "Prob(Omnibus):                  0.008   Jarque-Bera (JB):               19.463\n",
      "Skew:                          -0.197   Prob(JB):                     5.94e-05\n",
      "Kurtosis:                       4.770   Cond. No.                     1.59e+04\n",
      "==============================================================================\n",
      "\n",
      "Warnings:\n",
      "[1] Standard Errors assume that the covariance matrix of the errors is correctly specified.\n",
      "[2] The condition number is large, 1.59e+04. This might indicate that there are\n",
      "strong multicollinearity or other numerical problems.\n"
     ]
    },
    {
     "name": "stderr",
     "output_type": "stream",
     "text": [
      "/home/systemchalk/anaconda3/lib/python3.7/site-packages/ipykernel_launcher.py:1: SettingWithCopyWarning: \n",
      "A value is trying to be set on a copy of a slice from a DataFrame.\n",
      "Try using .loc[row_indexer,col_indexer] = value instead\n",
      "\n",
      "See the caveats in the documentation: https://pandas.pydata.org/pandas-docs/stable/user_guide/indexing.html#returning-a-view-versus-a-copy\n",
      "  \"\"\"Entry point for launching an IPython kernel.\n"
     ]
    }
   ],
   "source": [
    "kielmc_1981[\"lintst2\"] = kielmc_1981.lintst ** 2\n",
    "X = sm.add_constant(kielmc_1981[[\"ldist\", \"lintst\", \"larea\", \"lland\", \"rooms\", \"baths\", \"age\", \"lintst2\"]])\n",
    "\n",
    "model = sm.OLS(y, X).fit()\n",
    "model_summary = model.summary()\n",
    "print(model_summary)"
   ]
  },
  {
   "cell_type": "code",
   "execution_count": 5,
   "metadata": {},
   "outputs": [
    {
     "name": "stdout",
     "output_type": "stream",
     "text": [
      "                            OLS Regression Results                            \n",
      "==============================================================================\n",
      "Dep. Variable:                 lprice   R-squared:                       0.778\n",
      "Model:                            OLS   Adj. R-squared:                  0.763\n",
      "Method:                 Least Squares   F-statistic:                     51.32\n",
      "Date:                Sun, 24 May 2020   Prob (F-statistic):           7.44e-39\n",
      "Time:                        23:28:04   Log-Likelihood:                 39.525\n",
      "No. Observations:                 142   AIC:                            -59.05\n",
      "Df Residuals:                     132   BIC:                            -29.49\n",
      "Df Model:                           9                                         \n",
      "Covariance Type:            nonrobust                                         \n",
      "==============================================================================\n",
      "                 coef    std err          t      P>|t|      [0.025      0.975]\n",
      "------------------------------------------------------------------------------\n",
      "const         -5.9213      8.295     -0.714      0.477     -22.329      10.487\n",
      "ldist          0.8711      2.071      0.421      0.675      -3.225       4.967\n",
      "lintst         1.9340      0.654      2.956      0.004       0.640       3.228\n",
      "larea          0.3553      0.074      4.810      0.000       0.209       0.501\n",
      "lland          0.0879      0.039      2.254      0.026       0.011       0.165\n",
      "rooms          0.0381      0.027      1.424      0.157      -0.015       0.091\n",
      "baths          0.1507      0.040      3.766      0.000       0.072       0.230\n",
      "age           -0.0029      0.001     -2.794      0.006      -0.005      -0.001\n",
      "lintst2       -0.1107      0.038     -2.887      0.005      -0.187      -0.035\n",
      "ldist2        -0.0365      0.110     -0.331      0.741      -0.254       0.181\n",
      "==============================================================================\n",
      "Omnibus:                       10.175   Durbin-Watson:                   1.619\n",
      "Prob(Omnibus):                  0.006   Jarque-Bera (JB):               20.548\n",
      "Skew:                          -0.213   Prob(JB):                     3.45e-05\n",
      "Kurtosis:                       4.814   Cond. No.                     7.21e+04\n",
      "==============================================================================\n",
      "\n",
      "Warnings:\n",
      "[1] Standard Errors assume that the covariance matrix of the errors is correctly specified.\n",
      "[2] The condition number is large, 7.21e+04. This might indicate that there are\n",
      "strong multicollinearity or other numerical problems.\n"
     ]
    },
    {
     "name": "stderr",
     "output_type": "stream",
     "text": [
      "/home/systemchalk/anaconda3/lib/python3.7/site-packages/ipykernel_launcher.py:1: SettingWithCopyWarning: \n",
      "A value is trying to be set on a copy of a slice from a DataFrame.\n",
      "Try using .loc[row_indexer,col_indexer] = value instead\n",
      "\n",
      "See the caveats in the documentation: https://pandas.pydata.org/pandas-docs/stable/user_guide/indexing.html#returning-a-view-versus-a-copy\n",
      "  \"\"\"Entry point for launching an IPython kernel.\n"
     ]
    }
   ],
   "source": [
    "kielmc_1981[\"ldist2\"] = kielmc_1981.ldist ** 2\n",
    "X = sm.add_constant(kielmc_1981[[\"ldist\", \"lintst\", \"larea\", \"lland\", \"rooms\", \"baths\", \"age\", \"lintst2\", \"ldist2\"]])\n",
    "\n",
    "model = sm.OLS(y, X).fit()\n",
    "model_summary = model.summary()\n",
    "print(model_summary)"
   ]
  },
  {
   "cell_type": "markdown",
   "metadata": {},
   "source": [
    "C1.i This suggests prices increase with distance from the incenerator (implying that the incenerator decreases values)\n",
    "\n",
    "C1.ii The effects of the incinerator now vanish due to other factors associated with house prices being accounted for\n",
    "\n",
    "C1.iii ldist becomes significant. Functional form matters!\n",
    "\n",
    "C1.iv It is not"
   ]
  },
  {
   "cell_type": "code",
   "execution_count": 6,
   "metadata": {},
   "outputs": [
    {
     "name": "stdout",
     "output_type": "stream",
     "text": [
      "                            OLS Regression Results                            \n",
      "==============================================================================\n",
      "Dep. Variable:                  lwage   R-squared:                       0.300\n",
      "Model:                            OLS   Adj. R-squared:                  0.296\n",
      "Method:                 Least Squares   F-statistic:                     74.67\n",
      "Date:                Sun, 24 May 2020   Prob (F-statistic):           3.38e-40\n",
      "Time:                        23:28:05   Log-Likelihood:                -319.53\n",
      "No. Observations:                 526   AIC:                             647.1\n",
      "Df Residuals:                     522   BIC:                             664.1\n",
      "Df Model:                           3                                         \n",
      "Covariance Type:            nonrobust                                         \n",
      "==============================================================================\n",
      "                 coef    std err          t      P>|t|      [0.025      0.975]\n",
      "------------------------------------------------------------------------------\n",
      "const          0.1280      0.106      1.208      0.227      -0.080       0.336\n",
      "educ           0.0904      0.007     12.100      0.000       0.076       0.105\n",
      "exper          0.0410      0.005      7.892      0.000       0.031       0.051\n",
      "expersq       -0.0007      0.000     -6.164      0.000      -0.001      -0.000\n",
      "==============================================================================\n",
      "Omnibus:                        5.379   Durbin-Watson:                   1.785\n",
      "Prob(Omnibus):                  0.068   Jarque-Bera (JB):                7.152\n",
      "Skew:                           0.028   Prob(JB):                       0.0280\n",
      "Kurtosis:                       3.568   Cond. No.                     4.24e+03\n",
      "==============================================================================\n",
      "\n",
      "Warnings:\n",
      "[1] Standard Errors assume that the covariance matrix of the errors is correctly specified.\n",
      "[2] The condition number is large, 4.24e+03. This might indicate that there are\n",
      "strong multicollinearity or other numerical problems.\n"
     ]
    }
   ],
   "source": [
    "#Exercise C2\n",
    "wage1 = pd.read_stata(\"stata/WAGE1.DTA\")\n",
    "\n",
    "y = wage1.lwage\n",
    "X = sm.add_constant(wage1[[\"educ\", \"exper\", \"expersq\"]])\n",
    "model = sm.OLS(y, X).fit()\n",
    "model_summary = model.summary()\n",
    "print(model_summary)"
   ]
  },
  {
   "cell_type": "code",
   "execution_count": 7,
   "metadata": {},
   "outputs": [
    {
     "name": "stdout",
     "output_type": "stream",
     "text": [
      "3.3873293897328556\n",
      "1.2466549129434912\n"
     ]
    }
   ],
   "source": [
    "print(100 * (model.params[2] + (2 * (model.params[3] * 5))))\n",
    "print(100 * (model.params[2] + (2 * (model.params[3] * 20))))"
   ]
  },
  {
   "cell_type": "code",
   "execution_count": 8,
   "metadata": {},
   "outputs": [
    {
     "data": {
      "text/plain": [
       "28.735482156165478"
      ]
     },
     "execution_count": 8,
     "metadata": {},
     "output_type": "execute_result"
    }
   ],
   "source": [
    "abs(model.params[2] / (2 * model.params[3]))"
   ]
  },
  {
   "cell_type": "code",
   "execution_count": 9,
   "metadata": {},
   "outputs": [
    {
     "data": {
      "text/plain": [
       "121"
      ]
     },
     "execution_count": 9,
     "metadata": {},
     "output_type": "execute_result"
    }
   ],
   "source": [
    "wage1[wage1.exper > 28.8].shape[0]"
   ]
  },
  {
   "cell_type": "markdown",
   "metadata": {},
   "source": [
    "C2.ii It is significant at the 1% level\n",
    "\n",
    "C2.iii 3.39%; 1.25%\n",
    "\n",
    "C2.iv 28.74; 121 observations have a higher level of experience than this"
   ]
  },
  {
   "cell_type": "code",
   "execution_count": 10,
   "metadata": {},
   "outputs": [
    {
     "name": "stdout",
     "output_type": "stream",
     "text": [
      "                            OLS Regression Results                            \n",
      "==============================================================================\n",
      "Dep. Variable:                  lwage   R-squared:                       0.135\n",
      "Model:                            OLS   Adj. R-squared:                  0.132\n",
      "Method:                 Least Squares   F-statistic:                     48.41\n",
      "Date:                Sun, 24 May 2020   Prob (F-statistic):           4.47e-29\n",
      "Time:                        23:28:05   Log-Likelihood:                -449.87\n",
      "No. Observations:                 935   AIC:                             907.7\n",
      "Df Residuals:                     931   BIC:                             927.1\n",
      "Df Model:                           3                                         \n",
      "Covariance Type:            nonrobust                                         \n",
      "==============================================================================\n",
      "                 coef    std err          t      P>|t|      [0.025      0.975]\n",
      "------------------------------------------------------------------------------\n",
      "const          5.9495      0.241     24.704      0.000       5.477       6.422\n",
      "educ           0.0440      0.017      2.533      0.011       0.010       0.078\n",
      "exper         -0.0215      0.020     -1.076      0.282      -0.061       0.018\n",
      "educexper      0.0032      0.002      2.095      0.036       0.000       0.006\n",
      "==============================================================================\n",
      "Omnibus:                       30.632   Durbin-Watson:                   1.789\n",
      "Prob(Omnibus):                  0.000   Jarque-Bera (JB):               39.721\n",
      "Skew:                          -0.344   Prob(JB):                     2.37e-09\n",
      "Kurtosis:                       3.739   Cond. No.                     3.03e+03\n",
      "==============================================================================\n",
      "\n",
      "Warnings:\n",
      "[1] Standard Errors assume that the covariance matrix of the errors is correctly specified.\n",
      "[2] The condition number is large, 3.03e+03. This might indicate that there are\n",
      "strong multicollinearity or other numerical problems.\n"
     ]
    }
   ],
   "source": [
    "#Exercise C3\n",
    "wage2 = pd.read_stata(\"stata/WAGE2.DTA\")\n",
    "wage2[\"educexper\"] = wage2.educ.astype(\"int\") * wage2.exper.astype(\"int\")\n",
    "\n",
    "y = wage2.lwage\n",
    "X = sm.add_constant(wage2[[\"educ\", \"exper\", \"educexper\"]])\n",
    "model = sm.OLS(y, X).fit()\n",
    "model_summary = model.summary()\n",
    "print(model_summary)"
   ]
  },
  {
   "cell_type": "code",
   "execution_count": 11,
   "metadata": {},
   "outputs": [
    {
     "name": "stdout",
     "output_type": "stream",
     "text": [
      "                            OLS Regression Results                            \n",
      "==============================================================================\n",
      "Dep. Variable:                  lwage   R-squared:                       0.135\n",
      "Model:                            OLS   Adj. R-squared:                  0.132\n",
      "Method:                 Least Squares   F-statistic:                     48.41\n",
      "Date:                Sun, 24 May 2020   Prob (F-statistic):           4.47e-29\n",
      "Time:                        23:28:05   Log-Likelihood:                -449.87\n",
      "No. Observations:                 935   AIC:                             907.7\n",
      "Df Residuals:                     931   BIC:                             927.1\n",
      "Df Model:                           3                                         \n",
      "Covariance Type:            nonrobust                                         \n",
      "==============================================================================\n",
      "                 coef    std err          t      P>|t|      [0.025      0.975]\n",
      "------------------------------------------------------------------------------\n",
      "const          5.9495      0.241     24.704      0.000       5.477       6.422\n",
      "educ           0.0761      0.007     11.501      0.000       0.063       0.089\n",
      "exper         -0.0215      0.020     -1.076      0.282      -0.061       0.018\n",
      "b3_var         0.0032      0.002      2.095      0.036       0.000       0.006\n",
      "==============================================================================\n",
      "Omnibus:                       30.632   Durbin-Watson:                   1.789\n",
      "Prob(Omnibus):                  0.000   Jarque-Bera (JB):               39.721\n",
      "Skew:                          -0.344   Prob(JB):                     2.37e-09\n",
      "Kurtosis:                       3.739   Cond. No.                     1.12e+03\n",
      "==============================================================================\n",
      "\n",
      "Warnings:\n",
      "[1] Standard Errors assume that the covariance matrix of the errors is correctly specified.\n",
      "[2] The condition number is large, 1.12e+03. This might indicate that there are\n",
      "strong multicollinearity or other numerical problems.\n"
     ]
    }
   ],
   "source": [
    "wage2[\"b3_var\"] = wage2.educexper.astype(\"int\") - (10 * wage2.educ.astype(\"int\"))\n",
    "\n",
    "y = wage2.lwage\n",
    "X = sm.add_constant(wage2[[\"educ\", \"exper\", \"b3_var\"]])\n",
    "model = sm.OLS(y, X).fit()\n",
    "model_summary = model.summary()\n",
    "print(model_summary)"
   ]
  },
  {
   "cell_type": "markdown",
   "metadata": {},
   "source": [
    "C3.i Using calculus, $\\frac{d}{deduc} = \\beta_1 + \\beta_3 exper$\n",
    "\n",
    "C3.ii $\\beta_2 = 0$ alternative is $\\beta_2 \\neq 0$\n",
    "\n",
    "C3.iii We reject the null\n",
    "\n",
    "C3.iv 0.0761, [0.063, 0.089]"
   ]
  },
  {
   "cell_type": "code",
   "execution_count": 12,
   "metadata": {},
   "outputs": [
    {
     "name": "stdout",
     "output_type": "stream",
     "text": [
      "                            OLS Regression Results                            \n",
      "==============================================================================\n",
      "Dep. Variable:                    sat   R-squared:                       0.008\n",
      "Model:                            OLS   Adj. R-squared:                  0.007\n",
      "Method:                 Least Squares   F-statistic:                     15.78\n",
      "Date:                Sun, 24 May 2020   Prob (F-statistic):           1.49e-07\n",
      "Time:                        23:28:05   Log-Likelihood:                -26274.\n",
      "No. Observations:                4136   AIC:                         5.255e+04\n",
      "Df Residuals:                    4133   BIC:                         5.257e+04\n",
      "Df Model:                           2                                         \n",
      "Covariance Type:            nonrobust                                         \n",
      "==============================================================================\n",
      "                 coef    std err          t      P>|t|      [0.025      0.975]\n",
      "------------------------------------------------------------------------------\n",
      "const        998.1312      6.209    160.744      0.000     985.957    1010.305\n",
      "hsize         19.7297      3.994      4.940      0.000      11.900      27.559\n",
      "hsizesq       -2.1208      0.549     -3.861      0.000      -3.198      -1.044\n",
      "==============================================================================\n",
      "Omnibus:                        9.676   Durbin-Watson:                   1.955\n",
      "Prob(Omnibus):                  0.008   Jarque-Bera (JB):               10.411\n",
      "Skew:                           0.077   Prob(JB):                      0.00549\n",
      "Kurtosis:                       3.191   Cond. No.                         56.7\n",
      "==============================================================================\n",
      "\n",
      "Warnings:\n",
      "[1] Standard Errors assume that the covariance matrix of the errors is correctly specified.\n"
     ]
    }
   ],
   "source": [
    "#Exercise C4\n",
    "gpa2 = pd.read_excel(\"excel/gpa2.xls\", \n",
    "                     names = [\"sat\", \"tothrs\", \"colgpa\", \"athlete\", \"verbmath\", \"hsize\", \"hsrank\", \"hsperc\", \"female\", \"white\", \"black\", \"hsizesq\"],\n",
    "                     sep = \" \")\n",
    "\n",
    "y = gpa2.sat\n",
    "X = sm.add_constant(gpa2[[\"hsize\", \"hsizesq\"]])\n",
    "model = sm.OLS(y, X).fit()\n",
    "model_summary = model.summary()\n",
    "print(model_summary)"
   ]
  },
  {
   "cell_type": "code",
   "execution_count": 13,
   "metadata": {},
   "outputs": [
    {
     "data": {
      "text/plain": [
       "4.651379609491661"
      ]
     },
     "execution_count": 13,
     "metadata": {},
     "output_type": "execute_result"
    }
   ],
   "source": [
    "model.params[1] / (2 * abs(model.params[2]))"
   ]
  },
  {
   "cell_type": "code",
   "execution_count": 14,
   "metadata": {},
   "outputs": [
    {
     "name": "stdout",
     "output_type": "stream",
     "text": [
      "                            OLS Regression Results                            \n",
      "==============================================================================\n",
      "Dep. Variable:                   lsat   R-squared:                       0.008\n",
      "Model:                            OLS   Adj. R-squared:                  0.007\n",
      "Method:                 Least Squares   F-statistic:                     16.05\n",
      "Date:                Sun, 24 May 2020   Prob (F-statistic):           1.14e-07\n",
      "Time:                        23:28:05   Log-Likelihood:                 2331.6\n",
      "No. Observations:                4136   AIC:                            -4657.\n",
      "Df Residuals:                    4133   BIC:                            -4638.\n",
      "Df Model:                           2                                         \n",
      "Covariance Type:            nonrobust                                         \n",
      "==============================================================================\n",
      "                 coef    std err          t      P>|t|      [0.025      0.975]\n",
      "------------------------------------------------------------------------------\n",
      "const          6.8962      0.006   1119.962      0.000       6.884       6.908\n",
      "hsize          0.0195      0.004      4.930      0.000       0.012       0.027\n",
      "hsizesq       -0.0021      0.001     -3.815      0.000      -0.003      -0.001\n",
      "==============================================================================\n",
      "Omnibus:                      189.952   Durbin-Watson:                   1.952\n",
      "Prob(Omnibus):                  0.000   Jarque-Bera (JB):              277.158\n",
      "Skew:                          -0.425   Prob(JB):                     6.54e-61\n",
      "Kurtosis:                       3.942   Cond. No.                         56.7\n",
      "==============================================================================\n",
      "\n",
      "Warnings:\n",
      "[1] Standard Errors assume that the covariance matrix of the errors is correctly specified.\n"
     ]
    }
   ],
   "source": [
    "gpa2[\"lsat\"] = np.log(gpa2.sat)\n",
    "y = gpa2.lsat\n",
    "\n",
    "model = sm.OLS(y, X).fit()\n",
    "model_summary = model.summary()\n",
    "print(model_summary)"
   ]
  },
  {
   "cell_type": "code",
   "execution_count": 15,
   "metadata": {},
   "outputs": [
    {
     "data": {
      "text/plain": [
       "4.69745656429681"
      ]
     },
     "execution_count": 15,
     "metadata": {},
     "output_type": "execute_result"
    }
   ],
   "source": [
    "model.params[1] / (2 * abs(model.params[2]))"
   ]
  },
  {
   "cell_type": "markdown",
   "metadata": {},
   "source": [
    "C4.i The quadratic term is statistically significant\n",
    "\n",
    "C4.ii The optimal high school size is 465 as the quadratic term overwhelms the positive term beyond this point\n",
    "\n",
    "C4.iii It is not clear where this GPA data comes from but 4136 observations without any information as to districts or states it is difficult to see how this is a convincing general statement\n",
    "\n",
    "C4.iv The optimal class size in logs is 469, not substantially different from the level regression"
   ]
  },
  {
   "cell_type": "code",
   "execution_count": 16,
   "metadata": {},
   "outputs": [
    {
     "name": "stdout",
     "output_type": "stream",
     "text": [
      "                            OLS Regression Results                            \n",
      "==============================================================================\n",
      "Dep. Variable:                 lprice   R-squared:                       0.643\n",
      "Model:                            OLS   Adj. R-squared:                  0.630\n",
      "Method:                 Least Squares   F-statistic:                     50.42\n",
      "Date:                Sun, 24 May 2020   Prob (F-statistic):           9.74e-19\n",
      "Time:                        23:28:06   Log-Likelihood:                 25.861\n",
      "No. Observations:                  88   AIC:                            -43.72\n",
      "Df Residuals:                      84   BIC:                            -33.81\n",
      "Df Model:                           3                                         \n",
      "Covariance Type:            nonrobust                                         \n",
      "==============================================================================\n",
      "                 coef    std err          t      P>|t|      [0.025      0.975]\n",
      "------------------------------------------------------------------------------\n",
      "const         -1.2970      0.651     -1.992      0.050      -2.592      -0.002\n",
      "llotsize       0.1680      0.038      4.388      0.000       0.092       0.244\n",
      "lsqrft         0.7002      0.093      7.540      0.000       0.516       0.885\n",
      "bdrms          0.0370      0.028      1.342      0.183      -0.018       0.092\n",
      "==============================================================================\n",
      "Omnibus:                       12.060   Durbin-Watson:                   2.089\n",
      "Prob(Omnibus):                  0.002   Jarque-Bera (JB):               34.889\n",
      "Skew:                          -0.188   Prob(JB):                     2.65e-08\n",
      "Kurtosis:                       6.062   Cond. No.                         410.\n",
      "==============================================================================\n",
      "\n",
      "Warnings:\n",
      "[1] Standard Errors assume that the covariance matrix of the errors is correctly specified.\n"
     ]
    }
   ],
   "source": [
    "#Exercise C5\n",
    "hprice1 = pd.read_stata(\"stata/hprice1.dta\")\n",
    "\n",
    "y = hprice1.lprice\n",
    "X = sm.add_constant(hprice1[[\"llotsize\", \"lsqrft\", \"bdrms\"]])\n",
    "model = sm.OLS(y, X).fit()\n",
    "model_summary = model.summary()\n",
    "print(model_summary)"
   ]
  },
  {
   "cell_type": "code",
   "execution_count": 17,
   "metadata": {},
   "outputs": [
    {
     "name": "stdout",
     "output_type": "stream",
     "text": [
      "0    5.992898\n",
      "dtype: float64\n"
     ]
    }
   ],
   "source": [
    "X_p = pd.DataFrame({\"const\" : [1.0], \"lotsize\" : [np.log(20000)], \"lsqrft\": [np.log(2500)], \"bdrms\": [4]})\n",
    "print(model.predict(exog=X_p))"
   ]
  },
  {
   "cell_type": "code",
   "execution_count": 18,
   "metadata": {},
   "outputs": [
    {
     "data": {
      "text/plain": [
       "0    407.122394\n",
       "dtype: float64"
      ]
     },
     "execution_count": 18,
     "metadata": {},
     "output_type": "execute_result"
    }
   ],
   "source": [
    "(sum(np.exp(model.resid)) / model.nobs) * np.exp(model.predict(exog=X_p))"
   ]
  },
  {
   "cell_type": "code",
   "execution_count": 19,
   "metadata": {},
   "outputs": [
    {
     "data": {
      "text/plain": [
       "0    409.752133\n",
       "dtype: float64"
      ]
     },
     "execution_count": 19,
     "metadata": {},
     "output_type": "execute_result"
    }
   ],
   "source": [
    "((np.exp(model.fittedvalues) * np.exp(hprice1.lprice)).sum() / (np.exp(model.fittedvalues)**2).sum()) * np.exp(model.predict(exog=X_p))"
   ]
  },
  {
   "cell_type": "code",
   "execution_count": 20,
   "metadata": {},
   "outputs": [
    {
     "name": "stdout",
     "output_type": "stream",
     "text": [
      "                            OLS Regression Results                            \n",
      "==============================================================================\n",
      "Dep. Variable:                  price   R-squared:                       0.672\n",
      "Model:                            OLS   Adj. R-squared:                  0.661\n",
      "Method:                 Least Squares   F-statistic:                     57.46\n",
      "Date:                Sun, 24 May 2020   Prob (F-statistic):           2.70e-20\n",
      "Time:                        23:28:06   Log-Likelihood:                -482.88\n",
      "No. Observations:                  88   AIC:                             973.8\n",
      "Df Residuals:                      84   BIC:                             983.7\n",
      "Df Model:                           3                                         \n",
      "Covariance Type:            nonrobust                                         \n",
      "==============================================================================\n",
      "                 coef    std err          t      P>|t|      [0.025      0.975]\n",
      "------------------------------------------------------------------------------\n",
      "const        -21.7703     29.475     -0.739      0.462     -80.385      36.844\n",
      "lotsize        0.0021      0.001      3.220      0.002       0.001       0.003\n",
      "sqrft          0.1228      0.013      9.275      0.000       0.096       0.149\n",
      "bdrms         13.8525      9.010      1.537      0.128      -4.065      31.770\n",
      "==============================================================================\n",
      "Omnibus:                       20.398   Durbin-Watson:                   2.110\n",
      "Prob(Omnibus):                  0.000   Jarque-Bera (JB):               32.278\n",
      "Skew:                           0.961   Prob(JB):                     9.79e-08\n",
      "Kurtosis:                       5.261   Cond. No.                     6.41e+04\n",
      "==============================================================================\n",
      "\n",
      "Warnings:\n",
      "[1] Standard Errors assume that the covariance matrix of the errors is correctly specified.\n",
      "[2] The condition number is large, 6.41e+04. This might indicate that there are\n",
      "strong multicollinearity or other numerical problems.\n"
     ]
    }
   ],
   "source": [
    "y = hprice1.price\n",
    "X = sm.add_constant(hprice1[[\"lotsize\", \"sqrft\", \"bdrms\"]])\n",
    "model = sm.OLS(y, X).fit()\n",
    "model_summary = model.summary()\n",
    "print(model_summary)"
   ]
  },
  {
   "cell_type": "markdown",
   "metadata": {},
   "source": [
    "C5.iii The level model has a slightly higher R-squared, making it preferable"
   ]
  },
  {
   "cell_type": "code",
   "execution_count": 21,
   "metadata": {},
   "outputs": [
    {
     "name": "stdout",
     "output_type": "stream",
     "text": [
      "                            OLS Regression Results                            \n",
      "==============================================================================\n",
      "Dep. Variable:                  voteA   R-squared:                       0.571\n",
      "Model:                            OLS   Adj. R-squared:                  0.561\n",
      "Method:                 Least Squares   F-statistic:                     55.86\n",
      "Date:                Sun, 24 May 2020   Prob (F-statistic):           6.77e-30\n",
      "Time:                        23:28:06   Log-Likelihood:                -659.75\n",
      "No. Observations:                 173   AIC:                             1329.\n",
      "Df Residuals:                     168   BIC:                             1345.\n",
      "Df Model:                           4                                         \n",
      "Covariance Type:            nonrobust                                         \n",
      "==================================================================================\n",
      "                     coef    std err          t      P>|t|      [0.025      0.975]\n",
      "----------------------------------------------------------------------------------\n",
      "const             32.1174      4.591      6.995      0.000      23.054      41.181\n",
      "prtystrA           0.3419      0.088      3.886      0.000       0.168       0.516\n",
      "expendA            0.0383      0.005      7.718      0.000       0.028       0.048\n",
      "expendB           -0.0317      0.005     -6.915      0.000      -0.041      -0.023\n",
      "expendAexpendB -6.629e-06   7.19e-06     -0.923      0.358   -2.08e-05    7.56e-06\n",
      "==============================================================================\n",
      "Omnibus:                        1.031   Durbin-Watson:                   1.362\n",
      "Prob(Omnibus):                  0.597   Jarque-Bera (JB):                1.007\n",
      "Skew:                          -0.004   Prob(JB):                        0.604\n",
      "Kurtosis:                       2.626   Cond. No.                     1.60e+06\n",
      "==============================================================================\n",
      "\n",
      "Warnings:\n",
      "[1] Standard Errors assume that the covariance matrix of the errors is correctly specified.\n",
      "[2] The condition number is large, 1.6e+06. This might indicate that there are\n",
      "strong multicollinearity or other numerical problems.\n"
     ]
    }
   ],
   "source": [
    "#Exercise C6\n",
    "vote1 = pd.read_stata(\"stata/VOTE1.DTA\")\n",
    "vote1[\"expendAexpendB\"] = vote1.expendA * vote1.expendB\n",
    "\n",
    "y = vote1.voteA\n",
    "X = sm.add_constant(vote1[[\"prtystrA\", \"expendA\", \"expendB\", \"expendAexpendB\"]])\n",
    "model = sm.OLS(y, X).fit()\n",
    "model_summary = model.summary()\n",
    "print(model_summary)"
   ]
  },
  {
   "cell_type": "code",
   "execution_count": 22,
   "metadata": {},
   "outputs": [
    {
     "data": {
      "text/plain": [
       "310.61090087890625"
      ]
     },
     "execution_count": 22,
     "metadata": {},
     "output_type": "execute_result"
    }
   ],
   "source": [
    "vote1.expendA.mean()"
   ]
  },
  {
   "cell_type": "code",
   "execution_count": 23,
   "metadata": {},
   "outputs": [
    {
     "data": {
      "text/plain": [
       "-3.37126929986698"
      ]
     },
     "execution_count": 23,
     "metadata": {},
     "output_type": "execute_result"
    }
   ],
   "source": [
    "(model.params[3] + (model.params[4] * 300)) * 100"
   ]
  },
  {
   "cell_type": "code",
   "execution_count": 24,
   "metadata": {},
   "outputs": [
    {
     "data": {
      "text/plain": [
       "3.7617990731507858"
      ]
     },
     "execution_count": 24,
     "metadata": {},
     "output_type": "execute_result"
    }
   ],
   "source": [
    "(model.params[2] + (model.params[4] * 100)) * 100"
   ]
  },
  {
   "cell_type": "code",
   "execution_count": 25,
   "metadata": {},
   "outputs": [
    {
     "name": "stdout",
     "output_type": "stream",
     "text": [
      "                            OLS Regression Results                            \n",
      "==============================================================================\n",
      "Dep. Variable:                  voteA   R-squared:                       0.868\n",
      "Model:                            OLS   Adj. R-squared:                  0.865\n",
      "Method:                 Least Squares   F-statistic:                     276.5\n",
      "Date:                Sun, 24 May 2020   Prob (F-statistic):           9.03e-73\n",
      "Time:                        23:28:06   Log-Likelihood:                -557.66\n",
      "No. Observations:                 173   AIC:                             1125.\n",
      "Df Residuals:                     168   BIC:                             1141.\n",
      "Df Model:                           4                                         \n",
      "Covariance Type:            nonrobust                                         \n",
      "==============================================================================\n",
      "                 coef    std err          t      P>|t|      [0.025      0.975]\n",
      "------------------------------------------------------------------------------\n",
      "const         18.1954      2.568      7.086      0.000      13.126      23.265\n",
      "prtystrA       0.1573      0.050      3.165      0.002       0.059       0.255\n",
      "expendA       -0.0067      0.003     -2.354      0.020      -0.012      -0.001\n",
      "expendB        0.0043      0.003      1.637      0.104      -0.001       0.009\n",
      "shareA         0.4944      0.025     19.535      0.000       0.444       0.544\n",
      "==============================================================================\n",
      "Omnibus:                       36.148   Durbin-Watson:                   1.743\n",
      "Prob(Omnibus):                  0.000   Jarque-Bera (JB):              112.238\n",
      "Skew:                           0.789   Prob(JB):                     4.24e-25\n",
      "Kurtosis:                       6.616   Cond. No.                     3.05e+03\n",
      "==============================================================================\n",
      "\n",
      "Warnings:\n",
      "[1] Standard Errors assume that the covariance matrix of the errors is correctly specified.\n",
      "[2] The condition number is large, 3.05e+03. This might indicate that there are\n",
      "strong multicollinearity or other numerical problems.\n"
     ]
    }
   ],
   "source": [
    "y = vote1.voteA\n",
    "X = sm.add_constant(vote1[[\"prtystrA\", \"expendA\", \"expendB\", \"shareA\"]])\n",
    "model = sm.OLS(y, X).fit()\n",
    "model_summary = model.summary()\n",
    "print(model_summary)"
   ]
  },
  {
   "cell_type": "code",
   "execution_count": 26,
   "metadata": {},
   "outputs": [
    {
     "data": {
      "text/plain": [
       "-0.0016479811989954254"
      ]
     },
     "execution_count": 26,
     "metadata": {},
     "output_type": "execute_result"
    }
   ],
   "source": [
    "-model.params[4] * (300 / (300 ** 2))"
   ]
  },
  {
   "cell_type": "markdown",
   "metadata": {},
   "source": [
    "C6.i It is not at all obvious what the sign of the interaction should be.\n",
    "\n",
    "C6.ii The interaction is not statistically significant.\n",
    "\n",
    "C6.iii The shift is about 3% of the vote. Given that the mean of Vote A is 50, this does mean the difference in the election.\n",
    "\n",
    "C6.iv This increases the vote share by about 3.7. Slightly higher than expenditure on vote B but consistent with the idea that spending for both candidates are equal.\n",
    "\n",
    "C6.v This does not have a lot of intuitive sense since the share is measuring the difference between the two candidates which should be captured by the expenditure values.\n",
    "\n",
    "C6.vi The change is 0.0016. It implies that spending will reduce the vote share by 0.1% by adding expenditure"
   ]
  },
  {
   "cell_type": "code",
   "execution_count": 27,
   "metadata": {},
   "outputs": [
    {
     "name": "stdout",
     "output_type": "stream",
     "text": [
      "                            OLS Regression Results                            \n",
      "==============================================================================\n",
      "Dep. Variable:                stndfnl   R-squared:                       0.229\n",
      "Model:                            OLS   Adj. R-squared:                  0.222\n",
      "Method:                 Least Squares   F-statistic:                     33.33\n",
      "Date:                Sun, 24 May 2020   Prob (F-statistic):           2.93e-35\n",
      "Time:                        23:28:06   Log-Likelihood:                -868.72\n",
      "No. Observations:                 680   AIC:                             1751.\n",
      "Df Residuals:                     673   BIC:                             1783.\n",
      "Df Model:                           6                                         \n",
      "Covariance Type:            nonrobust                                         \n",
      "=================================================================================\n",
      "                    coef    std err          t      P>|t|      [0.025      0.975]\n",
      "---------------------------------------------------------------------------------\n",
      "const             2.1164      1.357      1.560      0.119      -0.548       4.781\n",
      "atndrte          -0.0079      0.010     -0.779      0.436      -0.028       0.012\n",
      "priGPA           -1.6411      0.481     -3.414      0.001      -2.585      -0.697\n",
      "ACT              -0.1286      0.098     -1.306      0.192      -0.322       0.065\n",
      "priGPAsq          0.2902      0.101      2.880      0.004       0.092       0.488\n",
      "ACTsq             0.0045      0.002      2.090      0.037       0.000       0.009\n",
      "priGPAatndrte     0.0061      0.004      1.425      0.155      -0.002       0.015\n",
      "==============================================================================\n",
      "Omnibus:                        2.583   Durbin-Watson:                   2.280\n",
      "Prob(Omnibus):                  0.275   Jarque-Bera (JB):                2.482\n",
      "Skew:                          -0.094   Prob(JB):                        0.289\n",
      "Kurtosis:                       3.229   Cond. No.                     2.42e+04\n",
      "==============================================================================\n",
      "\n",
      "Warnings:\n",
      "[1] Standard Errors assume that the covariance matrix of the errors is correctly specified.\n",
      "[2] The condition number is large, 2.42e+04. This might indicate that there are\n",
      "strong multicollinearity or other numerical problems.\n"
     ]
    }
   ],
   "source": [
    "#Exercise C7\n",
    "attend = pd.read_stata(\"stata/attend.dta\")\n",
    "attend[\"priGPAsq\"] = attend.priGPA ** 2\n",
    "attend[\"ACTsq\"] = attend.ACT.astype(\"int\") ** 2\n",
    "attend[\"priGPAatndrte\"] = attend.priGPA * attend.atndrte.astype(\"int\")\n",
    "\n",
    "y = attend.stndfnl\n",
    "X = sm.add_constant(attend[[\"atndrte\", \"priGPA\", \"ACT\", \"priGPAsq\", \"ACTsq\", \"priGPAatndrte\"]])\n",
    "model = sm.OLS(y, X).fit()\n",
    "model_summary = model.summary()\n",
    "print(model_summary)"
   ]
  },
  {
   "cell_type": "code",
   "execution_count": 28,
   "metadata": {},
   "outputs": [
    {
     "name": "stdout",
     "output_type": "stream",
     "text": [
      "-0.13263760851809578\n",
      "-0.09212800000000014\n"
     ]
    }
   ],
   "source": [
    "print(model.params[2] + (2 * model.params[4] * 2.59) + (model.params[6] * .82))\n",
    "\n",
    "# Compare this to text's estimates\n",
    "print(-1.63 + (2 * 0.296 * 2.59) + (0.0056 * .82))"
   ]
  },
  {
   "cell_type": "code",
   "execution_count": 29,
   "metadata": {},
   "outputs": [
    {
     "name": "stdout",
     "output_type": "stream",
     "text": [
      "                            OLS Regression Results                            \n",
      "==============================================================================\n",
      "Dep. Variable:                stndfnl   R-squared:                       0.216\n",
      "Model:                            OLS   Adj. R-squared:                  0.209\n",
      "Method:                 Least Squares   F-statistic:                     30.85\n",
      "Date:                Sun, 24 May 2020   Prob (F-statistic):           8.46e-33\n",
      "Time:                        23:28:06   Log-Likelihood:                -874.57\n",
      "No. Observations:                 680   AIC:                             1763.\n",
      "Df Residuals:                     673   BIC:                             1795.\n",
      "Df Model:                           6                                         \n",
      "Covariance Type:            nonrobust                                         \n",
      "==============================================================================\n",
      "                 coef    std err          t      P>|t|      [0.025      0.975]\n",
      "------------------------------------------------------------------------------\n",
      "const          0.0091      1.319      0.007      0.994      -2.580       2.599\n",
      "atndrte       -0.0052      0.007     -0.760      0.448      -0.019       0.008\n",
      "priGPA         0.4412      0.099      4.442      0.000       0.246       0.636\n",
      "ACT           -0.1539      0.099     -1.558      0.120      -0.348       0.040\n",
      "new_b4         0.0676      0.062      1.086      0.278      -0.055       0.190\n",
      "ACTsq          0.0052      0.002      2.403      0.017       0.001       0.010\n",
      "new_b6         0.0061      0.004      1.700      0.090      -0.001       0.013\n",
      "==============================================================================\n",
      "Omnibus:                        2.465   Durbin-Watson:                   2.293\n",
      "Prob(Omnibus):                  0.292   Jarque-Bera (JB):                2.346\n",
      "Skew:                          -0.093   Prob(JB):                        0.309\n",
      "Kurtosis:                       3.219   Cond. No.                     2.15e+04\n",
      "==============================================================================\n",
      "\n",
      "Warnings:\n",
      "[1] Standard Errors assume that the covariance matrix of the errors is correctly specified.\n",
      "[2] The condition number is large, 2.15e+04. This might indicate that there are\n",
      "strong multicollinearity or other numerical problems.\n"
     ]
    }
   ],
   "source": [
    "attend[\"new_b4\"] = (attend.priGPA.astype(\"int\") - 2.59) ** 2\n",
    "attend[\"new_b6\"] = attend.priGPA.astype(\"int\") * (attend.atndrte.astype(\"int\") - 82)\n",
    "\n",
    "X = sm.add_constant(attend[[\"atndrte\", \"priGPA\", \"ACT\", \"new_b4\", \"ACTsq\", \"new_b6\"]])\n",
    "model = sm.OLS(y, X).fit()\n",
    "model_summary = model.summary()\n",
    "print(model_summary)"
   ]
  },
  {
   "cell_type": "markdown",
   "metadata": {},
   "source": [
    "C7.i The estimates appear different from the text but the calculated value from my estimation is -0.13"
   ]
  },
  {
   "cell_type": "code",
   "execution_count": 30,
   "metadata": {},
   "outputs": [
    {
     "name": "stdout",
     "output_type": "stream",
     "text": [
      "                            OLS Regression Results                            \n",
      "==============================================================================\n",
      "Dep. Variable:                  price   R-squared:                       0.672\n",
      "Model:                            OLS   Adj. R-squared:                  0.661\n",
      "Method:                 Least Squares   F-statistic:                     57.46\n",
      "Date:                Sun, 24 May 2020   Prob (F-statistic):           2.70e-20\n",
      "Time:                        23:28:06   Log-Likelihood:                -482.88\n",
      "No. Observations:                  88   AIC:                             973.8\n",
      "Df Residuals:                      84   BIC:                             983.7\n",
      "Df Model:                           3                                         \n",
      "Covariance Type:            nonrobust                                         \n",
      "==============================================================================\n",
      "                 coef    std err          t      P>|t|      [0.025      0.975]\n",
      "------------------------------------------------------------------------------\n",
      "const        -21.7703     29.475     -0.739      0.462     -80.385      36.844\n",
      "lotsize        0.0021      0.001      3.220      0.002       0.001       0.003\n",
      "sqrft          0.1228      0.013      9.275      0.000       0.096       0.149\n",
      "bdrms         13.8525      9.010      1.537      0.128      -4.065      31.770\n",
      "==============================================================================\n",
      "Omnibus:                       20.398   Durbin-Watson:                   2.110\n",
      "Prob(Omnibus):                  0.000   Jarque-Bera (JB):               32.278\n",
      "Skew:                           0.961   Prob(JB):                     9.79e-08\n",
      "Kurtosis:                       5.261   Cond. No.                     6.41e+04\n",
      "==============================================================================\n",
      "\n",
      "Warnings:\n",
      "[1] Standard Errors assume that the covariance matrix of the errors is correctly specified.\n",
      "[2] The condition number is large, 6.41e+04. This might indicate that there are\n",
      "strong multicollinearity or other numerical problems.\n"
     ]
    }
   ],
   "source": [
    "#Exercise C8\n",
    "hprice1 = pd.read_stata(\"stata/hprice1.dta\")\n",
    "\n",
    "y = hprice1.price\n",
    "X = sm.add_constant(hprice1[[\"lotsize\", \"sqrft\", \"bdrms\"]])\n",
    "model = sm.OLS(y, X).fit()\n",
    "model_summary = model.summary()\n",
    "print(model_summary)"
   ]
  },
  {
   "cell_type": "code",
   "execution_count": 31,
   "metadata": {},
   "outputs": [
    {
     "data": {
      "text/plain": [
       "59.8334797507195"
      ]
     },
     "execution_count": 31,
     "metadata": {},
     "output_type": "execute_result"
    }
   ],
   "source": [
    "np.sqrt(model.mse_resid)"
   ]
  },
  {
   "cell_type": "code",
   "execution_count": 32,
   "metadata": {},
   "outputs": [
    {
     "data": {
      "text/plain": [
       "3580.04529907976"
      ]
     },
     "execution_count": 32,
     "metadata": {},
     "output_type": "execute_result"
    }
   ],
   "source": [
    "model.ssr / model.df_resid"
   ]
  },
  {
   "cell_type": "code",
   "execution_count": 33,
   "metadata": {},
   "outputs": [
    {
     "name": "stdout",
     "output_type": "stream",
     "text": [
      "0    336.706671\n",
      "dtype: float64\n"
     ]
    }
   ],
   "source": [
    "X_p = pd.DataFrame({\"const\" : [1.0], \"lotsize\" : [10000], \"sqrft\": [2300], \"bdrms\": [4]})\n",
    "print(model.predict(exog=X_p))"
   ]
  },
  {
   "cell_type": "code",
   "execution_count": 34,
   "metadata": {},
   "outputs": [
    {
     "name": "stdout",
     "output_type": "stream",
     "text": [
      "                            OLS Regression Results                            \n",
      "==============================================================================\n",
      "Dep. Variable:                  price   R-squared:                       0.672\n",
      "Model:                            OLS   Adj. R-squared:                  0.661\n",
      "Method:                 Least Squares   F-statistic:                     57.46\n",
      "Date:                Sun, 24 May 2020   Prob (F-statistic):           2.70e-20\n",
      "Time:                        23:28:06   Log-Likelihood:                -482.88\n",
      "No. Observations:                  88   AIC:                             973.8\n",
      "Df Residuals:                      84   BIC:                             983.7\n",
      "Df Model:                           3                                         \n",
      "Covariance Type:            nonrobust                                         \n",
      "==============================================================================\n",
      "                 coef    std err          t      P>|t|      [0.025      0.975]\n",
      "------------------------------------------------------------------------------\n",
      "const        336.7067      7.374     45.658      0.000     322.042     351.372\n",
      "adjLotsize     0.0021      0.001      3.220      0.002       0.001       0.003\n",
      "adjSqrft       0.1228      0.013      9.275      0.000       0.096       0.149\n",
      "adjBdrms      13.8525      9.010      1.537      0.128      -4.065      31.770\n",
      "==============================================================================\n",
      "Omnibus:                       20.398   Durbin-Watson:                   2.110\n",
      "Prob(Omnibus):                  0.000   Jarque-Bera (JB):               32.278\n",
      "Skew:                           0.961   Prob(JB):                     9.79e-08\n",
      "Kurtosis:                       5.261   Cond. No.                     1.51e+04\n",
      "==============================================================================\n",
      "\n",
      "Warnings:\n",
      "[1] Standard Errors assume that the covariance matrix of the errors is correctly specified.\n",
      "[2] The condition number is large, 1.51e+04. This might indicate that there are\n",
      "strong multicollinearity or other numerical problems.\n"
     ]
    }
   ],
   "source": [
    "hprice1[\"adjLotsize\"] = hprice1.lotsize - 10000\n",
    "hprice1[\"adjSqrft\"] = hprice1.sqrft - 2300\n",
    "hprice1[\"adjBdrms\"] = hprice1.bdrms - 4\n",
    "\n",
    "y = hprice1.price\n",
    "X = sm.add_constant(hprice1[[\"adjLotsize\", \"adjSqrft\", \"adjBdrms\"]])\n",
    "model = sm.OLS(y, X).fit()\n",
    "model_summary = model.summary()\n",
    "print(model_summary)"
   ]
  },
  {
   "cell_type": "code",
   "execution_count": 35,
   "metadata": {},
   "outputs": [
    {
     "name": "stdout",
     "output_type": "stream",
     "text": [
      "(218.5456841629536, 454.86765783704635) Width:  236.32197367409276\n"
     ]
    }
   ],
   "source": [
    "# By equation 6.36\n",
    "se_e0 = np.sqrt((model.bse[0] ** 2) + model.mse_resid)\n",
    "\n",
    "CI = (336.706671 - (1.96 * se_e0), 336.706671 + (1.96 * se_e0))\n",
    "print(CI, \"Width: \", CI[1] - CI[0])"
   ]
  },
  {
   "cell_type": "markdown",
   "metadata": {},
   "source": [
    "C8.i Standard error is 59.83, Predicted price is 336.70\n",
    "\n",
    "C8.ii Confidence interval is (322.042, 351.372)\n",
    "\n",
    "C8.iii Width is ~236 which is very wide (which would be understandable since we haven't used much to explain the house price)"
   ]
  },
  {
   "cell_type": "code",
   "execution_count": 36,
   "metadata": {},
   "outputs": [
    {
     "name": "stdout",
     "output_type": "stream",
     "text": [
      "                            OLS Regression Results                            \n",
      "==============================================================================\n",
      "Dep. Variable:                 points   R-squared:                       0.141\n",
      "Model:                            OLS   Adj. R-squared:                  0.128\n",
      "Method:                 Least Squares   F-statistic:                     10.85\n",
      "Date:                Sun, 24 May 2020   Prob (F-statistic):           3.69e-08\n",
      "Time:                        23:28:06   Log-Likelihood:                -838.21\n",
      "No. Observations:                 269   AIC:                             1686.\n",
      "Df Residuals:                     264   BIC:                             1704.\n",
      "Df Model:                           4                                         \n",
      "Covariance Type:            nonrobust                                         \n",
      "==============================================================================\n",
      "                 coef    std err          t      P>|t|      [0.025      0.975]\n",
      "------------------------------------------------------------------------------\n",
      "const         35.2183      6.987      5.041      0.000      21.462      48.975\n",
      "exper          2.3636      0.405      5.829      0.000       1.565       3.162\n",
      "expersq       -0.0770      0.023     -3.280      0.001      -0.123      -0.031\n",
      "age           -1.0740      0.295     -3.640      0.000      -1.655      -0.493\n",
      "coll          -1.2863      0.451     -2.855      0.005      -2.173      -0.399\n",
      "==============================================================================\n",
      "Omnibus:                       19.945   Durbin-Watson:                   2.201\n",
      "Prob(Omnibus):                  0.000   Jarque-Bera (JB):               22.142\n",
      "Skew:                           0.670   Prob(JB):                     1.56e-05\n",
      "Kurtosis:                       3.425   Cond. No.                     1.33e+03\n",
      "==============================================================================\n",
      "\n",
      "Warnings:\n",
      "[1] Standard Errors assume that the covariance matrix of the errors is correctly specified.\n",
      "[2] The condition number is large, 1.33e+03. This might indicate that there are\n",
      "strong multicollinearity or other numerical problems.\n"
     ]
    }
   ],
   "source": [
    "# Exercise 9\n",
    "nbasal = pd.read_stata(\"stata/nbasal.dta\")\n",
    "\n",
    "y = nbasal.points\n",
    "X = sm.add_constant(nbasal[[\"exper\", \"expersq\", \"age\", \"coll\"]])\n",
    "model = sm.OLS(y, X).fit()\n",
    "model_summary = model.summary()\n",
    "print(model_summary)"
   ]
  },
  {
   "cell_type": "code",
   "execution_count": 37,
   "metadata": {},
   "outputs": [
    {
     "data": {
      "text/plain": [
       "15.342896101914247"
      ]
     },
     "execution_count": 37,
     "metadata": {},
     "output_type": "execute_result"
    }
   ],
   "source": [
    "abs(model.params[1])/abs(2 * model.params[2])"
   ]
  },
  {
   "cell_type": "code",
   "execution_count": 38,
   "metadata": {},
   "outputs": [
    {
     "name": "stdout",
     "output_type": "stream",
     "text": [
      "                            OLS Regression Results                            \n",
      "==============================================================================\n",
      "Dep. Variable:                 points   R-squared:                       0.145\n",
      "Model:                            OLS   Adj. R-squared:                  0.129\n",
      "Method:                 Least Squares   F-statistic:                     8.925\n",
      "Date:                Sun, 24 May 2020   Prob (F-statistic):           7.61e-08\n",
      "Time:                        23:28:06   Log-Likelihood:                -837.61\n",
      "No. Observations:                 269   AIC:                             1687.\n",
      "Df Residuals:                     263   BIC:                             1709.\n",
      "Df Model:                           5                                         \n",
      "Covariance Type:            nonrobust                                         \n",
      "==============================================================================\n",
      "                 coef    std err          t      P>|t|      [0.025      0.975]\n",
      "------------------------------------------------------------------------------\n",
      "const         73.5903     35.933      2.048      0.042       2.837     144.344\n",
      "exper          2.8638      0.613      4.674      0.000       1.657       4.070\n",
      "expersq       -0.1281      0.052     -2.442      0.015      -0.231      -0.025\n",
      "age           -3.9837      2.689     -1.481      0.140      -9.279       1.311\n",
      "agesq          0.0536      0.049      1.089      0.277      -0.043       0.150\n",
      "coll          -1.3126      0.451     -2.910      0.004      -2.201      -0.424\n",
      "==============================================================================\n",
      "Omnibus:                       18.662   Durbin-Watson:                   2.207\n",
      "Prob(Omnibus):                  0.000   Jarque-Bera (JB):               20.480\n",
      "Skew:                           0.652   Prob(JB):                     3.57e-05\n",
      "Kurtosis:                       3.354   Cond. No.                     8.46e+04\n",
      "==============================================================================\n",
      "\n",
      "Warnings:\n",
      "[1] Standard Errors assume that the covariance matrix of the errors is correctly specified.\n",
      "[2] The condition number is large, 8.46e+04. This might indicate that there are\n",
      "strong multicollinearity or other numerical problems.\n"
     ]
    }
   ],
   "source": [
    "X = sm.add_constant(nbasal[[\"exper\", \"expersq\", \"age\", \"agesq\", \"coll\"]])\n",
    "model = sm.OLS(y, X).fit()\n",
    "model_summary = model.summary()\n",
    "print(model_summary)"
   ]
  },
  {
   "cell_type": "code",
   "execution_count": 39,
   "metadata": {},
   "outputs": [
    {
     "name": "stdout",
     "output_type": "stream",
     "text": [
      "                            OLS Regression Results                            \n",
      "==============================================================================\n",
      "Dep. Variable:                  lwage   R-squared:                       0.488\n",
      "Model:                            OLS   Adj. R-squared:                  0.478\n",
      "Method:                 Least Squares   F-statistic:                     50.10\n",
      "Date:                Sun, 24 May 2020   Prob (F-statistic):           2.43e-36\n",
      "Time:                        23:28:06   Log-Likelihood:                -257.23\n",
      "No. Observations:                 269   AIC:                             526.5\n",
      "Df Residuals:                     263   BIC:                             548.0\n",
      "Df Model:                           5                                         \n",
      "Covariance Type:            nonrobust                                         \n",
      "==============================================================================\n",
      "                 coef    std err          t      P>|t|      [0.025      0.975]\n",
      "------------------------------------------------------------------------------\n",
      "const          6.7790      0.845      8.019      0.000       5.114       8.444\n",
      "points         0.0777      0.007     10.928      0.000       0.064       0.092\n",
      "exper          0.2178      0.050      4.375      0.000       0.120       0.316\n",
      "expersq       -0.0071      0.003     -2.558      0.011      -0.013      -0.002\n",
      "age           -0.0481      0.035     -1.377      0.170      -0.117       0.021\n",
      "coll          -0.0403      0.053     -0.762      0.447      -0.144       0.064\n",
      "==============================================================================\n",
      "Omnibus:                       17.601   Durbin-Watson:                   2.025\n",
      "Prob(Omnibus):                  0.000   Jarque-Bera (JB):               19.113\n",
      "Skew:                          -0.628   Prob(JB):                     7.08e-05\n",
      "Kurtosis:                       3.357   Cond. No.                     1.40e+03\n",
      "==============================================================================\n",
      "\n",
      "Warnings:\n",
      "[1] Standard Errors assume that the covariance matrix of the errors is correctly specified.\n",
      "[2] The condition number is large, 1.4e+03. This might indicate that there are\n",
      "strong multicollinearity or other numerical problems.\n"
     ]
    }
   ],
   "source": [
    "y = nbasal.lwage\n",
    "X = sm.add_constant(nbasal[[\"points\", \"exper\", \"expersq\", \"age\", \"coll\"]])\n",
    "model = sm.OLS(y, X).fit()\n",
    "model_summary = model.summary()\n",
    "print(model_summary)"
   ]
  },
  {
   "cell_type": "code",
   "execution_count": 40,
   "metadata": {},
   "outputs": [
    {
     "data": {
      "text/plain": [
       "<class 'statsmodels.stats.contrast.ContrastResults'>\n",
       "<F test: F=array([[1.18907125]]), p=0.3061355102306365, df_denom=263, df_num=2>"
      ]
     },
     "execution_count": 40,
     "metadata": {},
     "output_type": "execute_result"
    }
   ],
   "source": [
    "model.f_test(\"(age = 0), (coll = 0)\")"
   ]
  },
  {
   "cell_type": "markdown",
   "metadata": {},
   "source": [
    "C9.ii Experience begins to have a negative effect on points at 15.34. Intuitively, this does not make sense since this is likely to be more related to age than anything\n",
    "\n",
    "C9.iii If NBA players can be drafted before college then this means that the college players who remain are not 'first picks' and so staying later will select players with less ability\n",
    "\n",
    "C9.iv Age is significant but the quadratic term is not.\n",
    "\n",
    "C9.vi age and college experience are not jointly significance. If they have any seperate effects once productivity and seniority are accounted for, we do not have any evidence for it"
   ]
  },
  {
   "cell_type": "code",
   "execution_count": 41,
   "metadata": {},
   "outputs": [
    {
     "name": "stdout",
     "output_type": "stream",
     "text": [
      "                            OLS Regression Results                            \n",
      "==============================================================================\n",
      "Dep. Variable:                 lbwght   R-squared:                       0.021\n",
      "Model:                            OLS   Adj. R-squared:                  0.020\n",
      "Method:                 Least Squares   F-statistic:                     19.12\n",
      "Date:                Sun, 24 May 2020   Prob (F-statistic):           6.10e-09\n",
      "Time:                        23:28:07   Log-Likelihood:                 310.56\n",
      "No. Observations:                1764   AIC:                            -615.1\n",
      "Df Residuals:                    1761   BIC:                            -598.7\n",
      "Df Model:                           2                                         \n",
      "Covariance Type:            nonrobust                                         \n",
      "==============================================================================\n",
      "                 coef    std err          t      P>|t|      [0.025      0.975]\n",
      "------------------------------------------------------------------------------\n",
      "const          7.9579      0.027    291.364      0.000       7.904       8.011\n",
      "npvis          0.0189      0.004      5.140      0.000       0.012       0.026\n",
      "npvissq       -0.0004      0.000     -3.573      0.000      -0.001      -0.000\n",
      "==============================================================================\n",
      "Omnibus:                     1169.962   Durbin-Watson:                   1.905\n",
      "Prob(Omnibus):                  0.000   Jarque-Bera (JB):            27576.021\n",
      "Skew:                          -2.740   Prob(JB):                         0.00\n",
      "Kurtosis:                      21.578   Cond. No.                     1.06e+03\n",
      "==============================================================================\n",
      "\n",
      "Warnings:\n",
      "[1] Standard Errors assume that the covariance matrix of the errors is correctly specified.\n",
      "[2] The condition number is large, 1.06e+03. This might indicate that there are\n",
      "strong multicollinearity or other numerical problems.\n"
     ]
    }
   ],
   "source": [
    "# Exercise 10\n",
    "bwght2 = pd.read_stata(\"stata/bwght2.dta\")\n",
    "bwght_sample = bwght2[[\"lbwght\", \"npvis\", \"npvissq\"]].dropna()\n",
    "\n",
    "y = bwght_sample.lbwght\n",
    "X = sm.add_constant(bwght_sample[[\"npvis\", \"npvissq\"]])\n",
    "model = sm.OLS(y, X).fit()\n",
    "model_summary = model.summary()\n",
    "print(model_summary)"
   ]
  },
  {
   "cell_type": "code",
   "execution_count": 42,
   "metadata": {},
   "outputs": [
    {
     "data": {
      "text/plain": [
       "22.059998742704906"
      ]
     },
     "execution_count": 42,
     "metadata": {},
     "output_type": "execute_result"
    }
   ],
   "source": [
    "abs(model.params[1] / (2 * model.params[2]))"
   ]
  },
  {
   "cell_type": "code",
   "execution_count": 43,
   "metadata": {},
   "outputs": [
    {
     "data": {
      "text/plain": [
       "19"
      ]
     },
     "execution_count": 43,
     "metadata": {},
     "output_type": "execute_result"
    }
   ],
   "source": [
    "bwght_sample[bwght_sample[\"npvis\"] > 22].shape[0]"
   ]
  },
  {
   "cell_type": "code",
   "execution_count": 44,
   "metadata": {},
   "outputs": [
    {
     "name": "stdout",
     "output_type": "stream",
     "text": [
      "                            OLS Regression Results                            \n",
      "==============================================================================\n",
      "Dep. Variable:                 lbwght   R-squared:                       0.026\n",
      "Model:                            OLS   Adj. R-squared:                  0.023\n",
      "Method:                 Least Squares   F-statistic:                     11.56\n",
      "Date:                Sun, 24 May 2020   Prob (F-statistic):           2.87e-09\n",
      "Time:                        23:28:07   Log-Likelihood:                 314.51\n",
      "No. Observations:                1764   AIC:                            -619.0\n",
      "Df Residuals:                    1759   BIC:                            -591.6\n",
      "Df Model:                           4                                         \n",
      "Covariance Type:            nonrobust                                         \n",
      "==============================================================================\n",
      "                 coef    std err          t      P>|t|      [0.025      0.975]\n",
      "------------------------------------------------------------------------------\n",
      "const          7.5837      0.137     55.333      0.000       7.315       7.853\n",
      "npvis          0.0180      0.004      4.864      0.000       0.011       0.025\n",
      "npvissq       -0.0004      0.000     -3.387      0.001      -0.001      -0.000\n",
      "mage           0.0254      0.009      2.744      0.006       0.007       0.044\n",
      "magesq        -0.0004      0.000     -2.661      0.008      -0.001      -0.000\n",
      "==============================================================================\n",
      "Omnibus:                     1179.672   Durbin-Watson:                   1.899\n",
      "Prob(Omnibus):                  0.000   Jarque-Bera (JB):            28799.249\n",
      "Skew:                          -2.761   Prob(JB):                         0.00\n",
      "Kurtosis:                      22.009   Cond. No.                     2.71e+04\n",
      "==============================================================================\n",
      "\n",
      "Warnings:\n",
      "[1] Standard Errors assume that the covariance matrix of the errors is correctly specified.\n",
      "[2] The condition number is large, 2.71e+04. This might indicate that there are\n",
      "strong multicollinearity or other numerical problems.\n"
     ]
    }
   ],
   "source": [
    "bwght_sample = bwght2[[\"lbwght\", \"npvis\", \"npvissq\", \"mage\", \"magesq\"]].dropna()\n",
    "X = sm.add_constant(bwght_sample[[\"npvis\", \"npvissq\", \"mage\", \"magesq\"]])\n",
    "model = sm.OLS(y, X).fit()\n",
    "model_summary = model.summary()\n",
    "lbweight_fit = model.fittedvalues\n",
    "print(model_summary)"
   ]
  },
  {
   "cell_type": "code",
   "execution_count": 45,
   "metadata": {},
   "outputs": [
    {
     "data": {
      "text/plain": [
       "30.82546325949819"
      ]
     },
     "execution_count": 45,
     "metadata": {},
     "output_type": "execute_result"
    }
   ],
   "source": [
    "abs(model.params[3] / (2 * model.params[4]))"
   ]
  },
  {
   "cell_type": "code",
   "execution_count": 46,
   "metadata": {},
   "outputs": [
    {
     "data": {
      "text/plain": [
       "720"
      ]
     },
     "execution_count": 46,
     "metadata": {},
     "output_type": "execute_result"
    }
   ],
   "source": [
    "bwght_sample[bwght_sample[\"mage\"] > abs(model.params[3] / (2 * model.params[4]))].shape[0]"
   ]
  },
  {
   "cell_type": "code",
   "execution_count": 47,
   "metadata": {},
   "outputs": [
    {
     "name": "stdout",
     "output_type": "stream",
     "text": [
      "                            OLS Regression Results                            \n",
      "==============================================================================\n",
      "Dep. Variable:                  bwght   R-squared:                       0.019\n",
      "Model:                            OLS   Adj. R-squared:                  0.017\n",
      "Method:                 Least Squares   F-statistic:                     8.590\n",
      "Date:                Sun, 24 May 2020   Prob (F-statistic):           7.29e-07\n",
      "Time:                        23:28:07   Log-Likelihood:                -13711.\n",
      "No. Observations:                1764   AIC:                         2.743e+04\n",
      "Df Residuals:                    1759   BIC:                         2.746e+04\n",
      "Df Model:                           4                                         \n",
      "Covariance Type:            nonrobust                                         \n",
      "==============================================================================\n",
      "                 coef    std err          t      P>|t|      [0.025      0.975]\n",
      "------------------------------------------------------------------------------\n",
      "const       1860.3805    388.977      4.783      0.000    1097.475    2623.286\n",
      "npvis         37.4739     10.525      3.560      0.000      16.830      58.117\n",
      "npvissq       -0.7863      0.342     -2.301      0.022      -1.457      -0.116\n",
      "mage          81.6055     26.264      3.107      0.002      30.094     133.117\n",
      "magesq        -1.3272      0.439     -3.021      0.003      -2.189      -0.466\n",
      "==============================================================================\n",
      "Omnibus:                      151.285   Durbin-Watson:                   1.913\n",
      "Prob(Omnibus):                  0.000   Jarque-Bera (JB):              335.706\n",
      "Skew:                          -0.527   Prob(JB):                     1.27e-73\n",
      "Kurtosis:                       4.859   Cond. No.                     2.71e+04\n",
      "==============================================================================\n",
      "\n",
      "Warnings:\n",
      "[1] Standard Errors assume that the covariance matrix of the errors is correctly specified.\n",
      "[2] The condition number is large, 2.71e+04. This might indicate that there are\n",
      "strong multicollinearity or other numerical problems.\n"
     ]
    }
   ],
   "source": [
    "bwght_sample = bwght2[[\"bwght\", \"npvis\", \"npvissq\", \"mage\", \"magesq\"]].dropna()\n",
    "y = bwght_sample.bwght\n",
    "X = sm.add_constant(bwght_sample[[\"npvis\", \"npvissq\", \"mage\", \"magesq\"]])\n",
    "model = sm.OLS(y, X).fit()\n",
    "model_summary = model.summary()\n",
    "bweight_fit = model.fittedvalues\n",
    "print(model_summary)"
   ]
  },
  {
   "cell_type": "markdown",
   "metadata": {},
   "source": [
    "C10.i The quadratic term is statistically significant but quite small\n",
    "\n",
    "C10.ii 19 women had greater tan 22 prenatalvisits.\n",
    "\n",
    "C10.iii If there is a problem, it is more likely that women will make more visits\n",
    "\n",
    "C10.iv The age is maximized at approximately 30 (a little over), 720 women (about 40% of the sample) are older than 30\n",
    "\n",
    "C10.v The log form only explains about 2% of the variation\n",
    "\n",
    "C10.vi We cannot directly compare r-squareds, but I cannot find the method recommended in the text (section 6.4)."
   ]
  },
  {
   "cell_type": "code",
   "execution_count": 48,
   "metadata": {},
   "outputs": [
    {
     "name": "stdout",
     "output_type": "stream",
     "text": [
      "                            OLS Regression Results                            \n",
      "==============================================================================\n",
      "Dep. Variable:                 ecolbs   R-squared:                       0.036\n",
      "Model:                            OLS   Adj. R-squared:                  0.033\n",
      "Method:                 Least Squares   F-statistic:                     12.41\n",
      "Date:                Sun, 24 May 2020   Prob (F-statistic):           5.11e-06\n",
      "Time:                        23:28:07   Log-Likelihood:                -1535.3\n",
      "No. Observations:                 660   AIC:                             3077.\n",
      "Df Residuals:                     657   BIC:                             3090.\n",
      "Df Model:                           2                                         \n",
      "Covariance Type:            nonrobust                                         \n",
      "==============================================================================\n",
      "                 coef    std err          t      P>|t|      [0.025      0.975]\n",
      "------------------------------------------------------------------------------\n",
      "const          1.9653      0.380      5.171      0.000       1.219       2.712\n",
      "ecoprc        -2.9265      0.588     -4.978      0.000      -4.081      -1.772\n",
      "regprc         3.0289      0.711      4.261      0.000       1.633       4.425\n",
      "==============================================================================\n",
      "Omnibus:                      991.053   Durbin-Watson:                   2.020\n",
      "Prob(Omnibus):                  0.000   Jarque-Bera (JB):           354819.834\n",
      "Skew:                           8.309   Prob(JB):                         0.00\n",
      "Kurtosis:                     115.367   Cond. No.                         16.0\n",
      "==============================================================================\n",
      "\n",
      "Warnings:\n",
      "[1] Standard Errors assume that the covariance matrix of the errors is correctly specified.\n"
     ]
    }
   ],
   "source": [
    "# Exercise 11\n",
    "apple = pd.read_stata(\"stata/APPLE.DTA\")\n",
    "\n",
    "y = apple.ecolbs\n",
    "X = sm.add_constant(apple[[\"ecoprc\", \"regprc\"]])\n",
    "model = sm.OLS(y, X).fit()\n",
    "model_summary = model.summary()\n",
    "print(model_summary)"
   ]
  },
  {
   "cell_type": "code",
   "execution_count": 49,
   "metadata": {},
   "outputs": [
    {
     "data": {
      "text/plain": [
       "(0.8551603344584171, 2.087215047435918)"
      ]
     },
     "execution_count": 49,
     "metadata": {},
     "output_type": "execute_result"
    }
   ],
   "source": [
    "(model.fittedvalues.min(), model.fittedvalues.max())"
   ]
  },
  {
   "cell_type": "code",
   "execution_count": 50,
   "metadata": {},
   "outputs": [
    {
     "data": {
      "text/plain": [
       "0.37575757575757573"
      ]
     },
     "execution_count": 50,
     "metadata": {},
     "output_type": "execute_result"
    }
   ],
   "source": [
    "apple[apple.ecolbs == 0].shape[0] / apple.shape[0]"
   ]
  },
  {
   "cell_type": "code",
   "execution_count": 51,
   "metadata": {},
   "outputs": [
    {
     "name": "stdout",
     "output_type": "stream",
     "text": [
      "                            OLS Regression Results                            \n",
      "==============================================================================\n",
      "Dep. Variable:                 ecolbs   R-squared:                       0.040\n",
      "Model:                            OLS   Adj. R-squared:                  0.031\n",
      "Method:                 Least Squares   F-statistic:                     4.561\n",
      "Date:                Sun, 24 May 2020   Prob (F-statistic):           0.000152\n",
      "Time:                        23:28:07   Log-Likelihood:                -1534.0\n",
      "No. Observations:                 660   AIC:                             3082.\n",
      "Df Residuals:                     653   BIC:                             3113.\n",
      "Df Model:                           6                                         \n",
      "Covariance Type:            nonrobust                                         \n",
      "==============================================================================\n",
      "                 coef    std err          t      P>|t|      [0.025      0.975]\n",
      "------------------------------------------------------------------------------\n",
      "const          1.0568      0.893      1.184      0.237      -0.696       2.810\n",
      "ecoprc        -2.8612      0.592     -4.833      0.000      -4.024      -1.699\n",
      "regprc         3.0061      0.712      4.220      0.000       1.607       4.405\n",
      "faminc         0.0022      0.003      0.766      0.444      -0.003       0.008\n",
      "hhsize         0.0631      0.068      0.931      0.352      -0.070       0.196\n",
      "educ           0.0343      0.045      0.757      0.449      -0.055       0.123\n",
      "age            0.0014      0.007      0.205      0.837      -0.012       0.015\n",
      "==============================================================================\n",
      "Omnibus:                      994.773   Durbin-Watson:                   2.014\n",
      "Prob(Omnibus):                  0.000   Jarque-Bera (JB):           361998.196\n",
      "Skew:                           8.366   Prob(JB):                         0.00\n",
      "Kurtosis:                     116.506   Cond. No.                         724.\n",
      "==============================================================================\n",
      "\n",
      "Warnings:\n",
      "[1] Standard Errors assume that the covariance matrix of the errors is correctly specified.\n"
     ]
    }
   ],
   "source": [
    "X = sm.add_constant(apple[[\"ecoprc\", \"regprc\", \"faminc\", \"hhsize\", \"educ\", \"age\"]])\n",
    "model = sm.OLS(y, X).fit()\n",
    "model_summary = model.summary()\n",
    "print(model_summary)"
   ]
  },
  {
   "cell_type": "code",
   "execution_count": 52,
   "metadata": {},
   "outputs": [
    {
     "data": {
      "text/plain": [
       "<class 'statsmodels.stats.contrast.ContrastResults'>\n",
       "<F test: F=array([[0.64785687]]), p=0.6285503171166624, df_denom=653, df_num=4>"
      ]
     },
     "execution_count": 52,
     "metadata": {},
     "output_type": "execute_result"
    }
   ],
   "source": [
    "model.f_test(\"(faminc = 0), (hhsize = 0), (educ = 0), (age = 0)\")"
   ]
  },
  {
   "cell_type": "code",
   "execution_count": 53,
   "metadata": {},
   "outputs": [
    {
     "name": "stdout",
     "output_type": "stream",
     "text": [
      "                            OLS Regression Results                            \n",
      "==============================================================================\n",
      "Dep. Variable:                 ecolbs   R-squared:                       0.010\n",
      "Model:                            OLS   Adj. R-squared:                  0.008\n",
      "Method:                 Least Squares   F-statistic:                     6.501\n",
      "Date:                Sun, 24 May 2020   Prob (F-statistic):             0.0110\n",
      "Time:                        23:28:07   Log-Likelihood:                -1544.3\n",
      "No. Observations:                 660   AIC:                             3093.\n",
      "Df Residuals:                     658   BIC:                             3102.\n",
      "Df Model:                           1                                         \n",
      "Covariance Type:            nonrobust                                         \n",
      "==============================================================================\n",
      "                 coef    std err          t      P>|t|      [0.025      0.975]\n",
      "------------------------------------------------------------------------------\n",
      "const          2.3881      0.372      6.426      0.000       1.658       3.118\n",
      "ecoprc        -0.8452      0.331     -2.550      0.011      -1.496      -0.194\n",
      "==============================================================================\n",
      "Omnibus:                      994.316   Durbin-Watson:                   2.037\n",
      "Prob(Omnibus):                  0.000   Jarque-Bera (JB):           361763.891\n",
      "Skew:                           8.358   Prob(JB):                         0.00\n",
      "Kurtosis:                     116.471   Cond. No.                         7.51\n",
      "==============================================================================\n",
      "\n",
      "Warnings:\n",
      "[1] Standard Errors assume that the covariance matrix of the errors is correctly specified.\n"
     ]
    }
   ],
   "source": [
    "X = sm.add_constant(apple[[\"ecoprc\"]])\n",
    "model = sm.OLS(y, X).fit()\n",
    "model_summary = model.summary()\n",
    "print(model_summary)"
   ]
  },
  {
   "cell_type": "code",
   "execution_count": 54,
   "metadata": {},
   "outputs": [
    {
     "name": "stdout",
     "output_type": "stream",
     "text": [
      "                            OLS Regression Results                            \n",
      "==============================================================================\n",
      "Dep. Variable:                 ecolbs   R-squared:                       0.000\n",
      "Model:                            OLS   Adj. R-squared:                 -0.001\n",
      "Method:                 Least Squares   F-statistic:                   0.04937\n",
      "Date:                Sun, 24 May 2020   Prob (F-statistic):              0.824\n",
      "Time:                        23:28:07   Log-Likelihood:                -1547.5\n",
      "No. Observations:                 660   AIC:                             3099.\n",
      "Df Residuals:                     658   BIC:                             3108.\n",
      "Df Model:                           1                                         \n",
      "Covariance Type:            nonrobust                                         \n",
      "==============================================================================\n",
      "                 coef    std err          t      P>|t|      [0.025      0.975]\n",
      "------------------------------------------------------------------------------\n",
      "const          1.3950      0.369      3.782      0.000       0.671       2.119\n",
      "regprc         0.0895      0.403      0.222      0.824      -0.701       0.880\n",
      "==============================================================================\n",
      "Omnibus:                      982.839   Durbin-Watson:                   2.028\n",
      "Prob(Omnibus):                  0.000   Jarque-Bera (JB):           340229.474\n",
      "Skew:                           8.184   Prob(JB):                         0.00\n",
      "Kurtosis:                     113.018   Cond. No.                         7.39\n",
      "==============================================================================\n",
      "\n",
      "Warnings:\n",
      "[1] Standard Errors assume that the covariance matrix of the errors is correctly specified.\n"
     ]
    }
   ],
   "source": [
    "X = sm.add_constant(apple[[\"regprc\"]])\n",
    "model = sm.OLS(y, X).fit()\n",
    "model_summary = model.summary()\n",
    "print(model_summary)"
   ]
  },
  {
   "cell_type": "code",
   "execution_count": 55,
   "metadata": {},
   "outputs": [
    {
     "data": {
      "text/plain": [
       "0.00866310567899933"
      ]
     },
     "execution_count": 55,
     "metadata": {},
     "output_type": "execute_result"
    }
   ],
   "source": [
    "apple.ecolbs.corr(apple.regprc)"
   ]
  },
  {
   "cell_type": "markdown",
   "metadata": {},
   "source": [
    "C11.i Consumption of eco apples decreses with price and increases when the price of a susbtitute (regular) rises\n",
    "\n",
    "C11.ii Both are statistically significant with p-values of 0.000\n",
    "\n",
    "C11.iii Fitted values range from 0.85 to 2.05. 38% of the sample does not consume any\n",
    "\n",
    "C11.iv The price variables explain less than 10% of the variation\n",
    "\n",
    "C11.v The joint significance of the added values has a p-value of 0.6 and so we do not have evidence to suggest they significantly affect consumption of eco apples\n",
    "\n",
    "C11.vi They are much smaller but have the same signs. regprc loses its significance, likely due to the fact that the two variables do not appear to be correlated"
   ]
  },
  {
   "cell_type": "code",
   "execution_count": 56,
   "metadata": {},
   "outputs": [
    {
     "data": {
      "text/plain": [
       "25"
      ]
     },
     "execution_count": 56,
     "metadata": {},
     "output_type": "execute_result"
    }
   ],
   "source": [
    "# Exercise 12\n",
    "k401subs = pd.read_stata(\"stata/401ksubs.dta\")\n",
    "k401subs_sub = k401subs[k401subs.fsize == 1]\n",
    "\n",
    "k401subs_sub.age.min()"
   ]
  },
  {
   "cell_type": "code",
   "execution_count": 57,
   "metadata": {},
   "outputs": [
    {
     "data": {
      "text/plain": [
       "99"
      ]
     },
     "execution_count": 57,
     "metadata": {},
     "output_type": "execute_result"
    }
   ],
   "source": [
    "k401subs_sub[k401subs_sub.age == 25].shape[0]"
   ]
  },
  {
   "cell_type": "code",
   "execution_count": 58,
   "metadata": {},
   "outputs": [
    {
     "name": "stdout",
     "output_type": "stream",
     "text": [
      "                            OLS Regression Results                            \n",
      "==============================================================================\n",
      "Dep. Variable:                 nettfa   R-squared:                       0.123\n",
      "Model:                            OLS   Adj. R-squared:                  0.122\n",
      "Method:                 Least Squares   F-statistic:                     93.99\n",
      "Date:                Sun, 24 May 2020   Prob (F-statistic):           6.30e-57\n",
      "Time:                        23:28:07   Log-Likelihood:                -10520.\n",
      "No. Observations:                2017   AIC:                         2.105e+04\n",
      "Df Residuals:                    2013   BIC:                         2.107e+04\n",
      "Df Model:                           3                                         \n",
      "Covariance Type:            nonrobust                                         \n",
      "==============================================================================\n",
      "                 coef    std err          t      P>|t|      [0.025      0.975]\n",
      "------------------------------------------------------------------------------\n",
      "const         -1.2042     15.281     -0.079      0.937     -31.172      28.763\n",
      "inc            0.8248      0.060     13.679      0.000       0.707       0.943\n",
      "age           -1.3218      0.767     -1.722      0.085      -2.827       0.183\n",
      "agesq          0.0256      0.009      2.841      0.005       0.008       0.043\n",
      "==============================================================================\n",
      "Omnibus:                     3737.631   Durbin-Watson:                   1.969\n",
      "Prob(Omnibus):                  0.000   Jarque-Bera (JB):          6811024.943\n",
      "Skew:                          13.349   Prob(JB):                         0.00\n",
      "Kurtosis:                     286.427   Cond. No.                     2.93e+04\n",
      "==============================================================================\n",
      "\n",
      "Warnings:\n",
      "[1] Standard Errors assume that the covariance matrix of the errors is correctly specified.\n",
      "[2] The condition number is large, 2.93e+04. This might indicate that there are\n",
      "strong multicollinearity or other numerical problems.\n"
     ]
    }
   ],
   "source": [
    "y = k401subs_sub.nettfa\n",
    "X = sm.add_constant(k401subs_sub[[\"inc\", \"age\", \"agesq\"]])\n",
    "model = sm.OLS(y, X).fit()\n",
    "model_summary = model.summary()\n",
    "print(model_summary)"
   ]
  },
  {
   "cell_type": "code",
   "execution_count": 59,
   "metadata": {},
   "outputs": [
    {
     "name": "stdout",
     "output_type": "stream",
     "text": [
      "                            OLS Regression Results                            \n",
      "==============================================================================\n",
      "Dep. Variable:                 nettfa   R-squared:                       0.123\n",
      "Model:                            OLS   Adj. R-squared:                  0.122\n",
      "Method:                 Least Squares   F-statistic:                     93.99\n",
      "Date:                Sun, 24 May 2020   Prob (F-statistic):           6.30e-57\n",
      "Time:                        23:28:07   Log-Likelihood:                -10520.\n",
      "No. Observations:                2017   AIC:                         2.105e+04\n",
      "Df Residuals:                    2013   BIC:                         2.107e+04\n",
      "Df Model:                           3                                         \n",
      "Covariance Type:            nonrobust                                         \n",
      "===============================================================================\n",
      "                  coef    std err          t      P>|t|      [0.025      0.975]\n",
      "-------------------------------------------------------------------------------\n",
      "const         -17.1807      9.973     -1.723      0.085     -36.739       2.378\n",
      "inc             0.8248      0.060     13.679      0.000       0.707       0.943\n",
      "age            -0.0437      0.325     -0.134      0.893      -0.682       0.594\n",
      "adjusted_b3     0.0256      0.009      2.841      0.005       0.008       0.043\n",
      "==============================================================================\n",
      "Omnibus:                     3737.631   Durbin-Watson:                   1.969\n",
      "Prob(Omnibus):                  0.000   Jarque-Bera (JB):          6811024.943\n",
      "Skew:                          13.349   Prob(JB):                         0.00\n",
      "Kurtosis:                     286.427   Cond. No.                     5.10e+03\n",
      "==============================================================================\n",
      "\n",
      "Warnings:\n",
      "[1] Standard Errors assume that the covariance matrix of the errors is correctly specified.\n",
      "[2] The condition number is large, 5.1e+03. This might indicate that there are\n",
      "strong multicollinearity or other numerical problems.\n"
     ]
    },
    {
     "name": "stderr",
     "output_type": "stream",
     "text": [
      "/home/systemchalk/anaconda3/lib/python3.7/site-packages/ipykernel_launcher.py:1: SettingWithCopyWarning: \n",
      "A value is trying to be set on a copy of a slice from a DataFrame.\n",
      "Try using .loc[row_indexer,col_indexer] = value instead\n",
      "\n",
      "See the caveats in the documentation: https://pandas.pydata.org/pandas-docs/stable/user_guide/indexing.html#returning-a-view-versus-a-copy\n",
      "  \"\"\"Entry point for launching an IPython kernel.\n"
     ]
    }
   ],
   "source": [
    "k401subs_sub[\"adjusted_b3\"] = (k401subs_sub.age.astype(\"int\") - 25) ** 2\n",
    "X = sm.add_constant(k401subs_sub[[\"inc\", \"age\", \"adjusted_b3\"]])\n",
    "model = sm.OLS(y, X).fit()\n",
    "model_summary = model.summary()\n",
    "print(model_summary)"
   ]
  },
  {
   "cell_type": "code",
   "execution_count": 60,
   "metadata": {},
   "outputs": [
    {
     "name": "stdout",
     "output_type": "stream",
     "text": [
      "                            OLS Regression Results                            \n",
      "==============================================================================\n",
      "Dep. Variable:                 nettfa   R-squared:                       0.123\n",
      "Model:                            OLS   Adj. R-squared:                  0.122\n",
      "Method:                 Least Squares   F-statistic:                     141.0\n",
      "Date:                Sun, 24 May 2020   Prob (F-statistic):           4.73e-58\n",
      "Time:                        23:28:07   Log-Likelihood:                -10520.\n",
      "No. Observations:                2017   AIC:                         2.105e+04\n",
      "Df Residuals:                    2014   BIC:                         2.106e+04\n",
      "Df Model:                           2                                         \n",
      "Covariance Type:            nonrobust                                         \n",
      "===============================================================================\n",
      "                  coef    std err          t      P>|t|      [0.025      0.975]\n",
      "-------------------------------------------------------------------------------\n",
      "const         -18.4881      2.178     -8.490      0.000     -22.759     -14.218\n",
      "inc             0.8236      0.060     13.826      0.000       0.707       0.940\n",
      "adjusted_b3     0.0244      0.003      9.605      0.000       0.019       0.029\n",
      "==============================================================================\n",
      "Omnibus:                     3737.887   Durbin-Watson:                   1.970\n",
      "Prob(Omnibus):                  0.000   Jarque-Bera (JB):          6811961.805\n",
      "Skew:                          13.351   Prob(JB):                         0.00\n",
      "Kurtosis:                     286.446   Cond. No.                     1.11e+03\n",
      "==============================================================================\n",
      "\n",
      "Warnings:\n",
      "[1] Standard Errors assume that the covariance matrix of the errors is correctly specified.\n",
      "[2] The condition number is large, 1.11e+03. This might indicate that there are\n",
      "strong multicollinearity or other numerical problems.\n"
     ]
    },
    {
     "name": "stderr",
     "output_type": "stream",
     "text": [
      "/home/systemchalk/anaconda3/lib/python3.7/site-packages/ipykernel_launcher.py:1: SettingWithCopyWarning: \n",
      "A value is trying to be set on a copy of a slice from a DataFrame.\n",
      "Try using .loc[row_indexer,col_indexer] = value instead\n",
      "\n",
      "See the caveats in the documentation: https://pandas.pydata.org/pandas-docs/stable/user_guide/indexing.html#returning-a-view-versus-a-copy\n",
      "  \"\"\"Entry point for launching an IPython kernel.\n"
     ]
    }
   ],
   "source": [
    "k401subs_sub[\"adjusted_b3\"] = (k401subs_sub.age.astype(\"int\") - 25) ** 2\n",
    "X = sm.add_constant(k401subs_sub[[\"inc\",  \"adjusted_b3\"]])\n",
    "model = sm.OLS(y, X).fit()\n",
    "model_summary = model.summary()\n",
    "print(model_summary)"
   ]
  },
  {
   "cell_type": "markdown",
   "metadata": {},
   "source": [
    "C12.i Youngest age is 25 with 99 at that age\n",
    "\n",
    "C12.ii Increase in age holding all other factors, including age squared, fixed. This isn't particularly helpful on its own.\n",
    "\n",
    "C12.iii Results reported above. The negative coefficient for age isn't as much of a concern because age squared is positive.\n",
    "\n",
    "C12.iv Results above\n",
    "\n",
    "C12.v The model doesn't fit entirely that much better in terms of goodness of fit."
   ]
  },
  {
   "cell_type": "code",
   "execution_count": 61,
   "metadata": {},
   "outputs": [
    {
     "name": "stdout",
     "output_type": "stream",
     "text": [
      "                            OLS Regression Results                            \n",
      "==============================================================================\n",
      "Dep. Variable:                  math4   R-squared:                       0.373\n",
      "Model:                            OLS   Adj. R-squared:                  0.372\n",
      "Method:                 Least Squares   F-statistic:                     334.6\n",
      "Date:                Sun, 24 May 2020   Prob (F-statistic):          1.83e-170\n",
      "Time:                        23:28:07   Log-Likelihood:                -7014.6\n",
      "No. Observations:                1692   AIC:                         1.404e+04\n",
      "Df Residuals:                    1688   BIC:                         1.406e+04\n",
      "Df Model:                           3                                         \n",
      "Covariance Type:            nonrobust                                         \n",
      "==============================================================================\n",
      "                 coef    std err          t      P>|t|      [0.025      0.975]\n",
      "------------------------------------------------------------------------------\n",
      "const         91.9325     19.962      4.605      0.000      52.780     131.085\n",
      "lexppp         3.5247      2.098      1.680      0.093      -0.590       7.639\n",
      "lenroll       -5.3992      0.940     -5.741      0.000      -7.244      -3.555\n",
      "lunch         -0.4487      0.015    -30.648      0.000      -0.477      -0.420\n",
      "==============================================================================\n",
      "Omnibus:                       45.618   Durbin-Watson:                   1.701\n",
      "Prob(Omnibus):                  0.000   Jarque-Bera (JB):               67.625\n",
      "Skew:                          -0.267   Prob(JB):                     2.07e-15\n",
      "Kurtosis:                       3.821   Cond. No.                     2.58e+03\n",
      "==============================================================================\n",
      "\n",
      "Warnings:\n",
      "[1] Standard Errors assume that the covariance matrix of the errors is correctly specified.\n",
      "[2] The condition number is large, 2.58e+03. This might indicate that there are\n",
      "strong multicollinearity or other numerical problems.\n"
     ]
    }
   ],
   "source": [
    "# Exercise 13\n",
    "meap00 = pd.read_stata(\"stata/meap00_01.dta\")\n",
    "\n",
    "y = meap00.math4\n",
    "X = sm.add_constant(meap00[[\"lexppp\", \"lenroll\", \"lunch\"]])\n",
    "model = sm.OLS(y, X).fit()\n",
    "model_summary = model.summary()\n",
    "print(model_summary)"
   ]
  },
  {
   "cell_type": "code",
   "execution_count": 62,
   "metadata": {},
   "outputs": [
    {
     "data": {
      "text/plain": [
       "(42.41416403600728, 92.67098076453601)"
      ]
     },
     "execution_count": 62,
     "metadata": {},
     "output_type": "execute_result"
    }
   ],
   "source": [
    "(model.fittedvalues.min(), model.fittedvalues.max())"
   ]
  },
  {
   "cell_type": "code",
   "execution_count": 63,
   "metadata": {},
   "outputs": [
    {
     "data": {
      "text/plain": [
       "(0.0, 100.0)"
      ]
     },
     "execution_count": 63,
     "metadata": {},
     "output_type": "execute_result"
    }
   ],
   "source": [
    "(meap00.math4.min(), meap00.math4.max())"
   ]
  },
  {
   "cell_type": "code",
   "execution_count": 64,
   "metadata": {},
   "outputs": [],
   "source": [
    "meap00[\"resid\"] = model.resid"
   ]
  },
  {
   "cell_type": "code",
   "execution_count": 65,
   "metadata": {},
   "outputs": [
    {
     "data": {
      "text/plain": [
       "1175    1141\n",
       "Name: bcode, dtype: int16"
      ]
     },
     "execution_count": 65,
     "metadata": {},
     "output_type": "execute_result"
    }
   ],
   "source": [
    "meap00[\"bcode\"][meap00.resid == model.resid.max()]"
   ]
  },
  {
   "cell_type": "code",
   "execution_count": 66,
   "metadata": {},
   "outputs": [
    {
     "name": "stdout",
     "output_type": "stream",
     "text": [
      "                            OLS Regression Results                            \n",
      "==============================================================================\n",
      "Dep. Variable:                  math4   R-squared:                       0.373\n",
      "Model:                            OLS   Adj. R-squared:                  0.371\n",
      "Method:                 Least Squares   F-statistic:                     167.4\n",
      "Date:                Sun, 24 May 2020   Prob (F-statistic):          4.21e-167\n",
      "Time:                        23:28:08   Log-Likelihood:                -7013.9\n",
      "No. Observations:                1692   AIC:                         1.404e+04\n",
      "Df Residuals:                    1685   BIC:                         1.408e+04\n",
      "Df Model:                           6                                         \n",
      "Covariance Type:            nonrobust                                         \n",
      "==============================================================================\n",
      "                 coef    std err          t      P>|t|      [0.025      0.975]\n",
      "------------------------------------------------------------------------------\n",
      "const         79.1976    334.604      0.237      0.813    -577.086     735.482\n",
      "lexppp        -7.8438     80.476     -0.097      0.922    -165.687     149.999\n",
      "lenroll       15.9770     17.438      0.916      0.360     -18.225      50.179\n",
      "lunch         -0.4510      0.054     -8.377      0.000      -0.557      -0.345\n",
      "lexpppsq       0.6528      4.723      0.138      0.890      -8.610       9.916\n",
      "lenrollsq     -1.8294      1.488     -1.229      0.219      -4.749       1.090\n",
      "lunchsq     6.472e-05      0.001      0.111      0.911      -0.001       0.001\n",
      "==============================================================================\n",
      "Omnibus:                       43.296   Durbin-Watson:                   1.702\n",
      "Prob(Omnibus):                  0.000   Jarque-Bera (JB):               63.750\n",
      "Skew:                          -0.257   Prob(JB):                     1.43e-14\n",
      "Kurtosis:                       3.800   Cond. No.                     3.07e+06\n",
      "==============================================================================\n",
      "\n",
      "Warnings:\n",
      "[1] Standard Errors assume that the covariance matrix of the errors is correctly specified.\n",
      "[2] The condition number is large, 3.07e+06. This might indicate that there are\n",
      "strong multicollinearity or other numerical problems.\n"
     ]
    }
   ],
   "source": [
    "meap00[\"lexpppsq\"] = meap00.lexppp ** 2\n",
    "meap00[\"lenrollsq\"] = meap00.lenroll ** 2\n",
    "meap00[\"lunchsq\"] = meap00.lunch ** 2\n",
    "\n",
    "X = sm.add_constant(meap00[[\"lexppp\", \"lenroll\", \"lunch\", \"lexpppsq\", \"lenrollsq\", \"lunchsq\"]])\n",
    "model = sm.OLS(y, X).fit()\n",
    "model_summary = model.summary()\n",
    "print(model_summary)"
   ]
  },
  {
   "cell_type": "code",
   "execution_count": 67,
   "metadata": {},
   "outputs": [
    {
     "data": {
      "text/plain": [
       "<class 'statsmodels.stats.contrast.ContrastResults'>\n",
       "<F test: F=array([[0.51802367]]), p=0.6699065564363909, df_denom=1.68e+03, df_num=3>"
      ]
     },
     "execution_count": 67,
     "metadata": {},
     "output_type": "execute_result"
    }
   ],
   "source": [
    "model.f_test(\"(lexpppsq = 0), (lenrollsq = 0), (lunchsq = 0)\")"
   ]
  },
  {
   "cell_type": "code",
   "execution_count": 68,
   "metadata": {},
   "outputs": [
    {
     "name": "stdout",
     "output_type": "stream",
     "text": [
      "                            OLS Regression Results                            \n",
      "==============================================================================\n",
      "Dep. Variable:               math4std   R-squared:                       0.373\n",
      "Model:                            OLS   Adj. R-squared:                  0.372\n",
      "Method:                 Least Squares   F-statistic:                     334.6\n",
      "Date:                Sun, 24 May 2020   Prob (F-statistic):          1.83e-170\n",
      "Time:                        23:28:08   Log-Likelihood:                -2005.6\n",
      "No. Observations:                1692   AIC:                             4019.\n",
      "Df Residuals:                    1688   BIC:                             4041.\n",
      "Df Model:                           3                                         \n",
      "Covariance Type:            nonrobust                                         \n",
      "==============================================================================\n",
      "                 coef    std err          t      P>|t|      [0.025      0.975]\n",
      "------------------------------------------------------------------------------\n",
      "const          4.7618      1.034      4.605      0.000       2.734       6.790\n",
      "lexpppstd      0.0347      0.021      1.680      0.093      -0.006       0.075\n",
      "lenrollstd    -0.1146      0.020     -5.741      0.000      -0.154      -0.075\n",
      "lunchstd      -0.6129      0.020    -30.648      0.000      -0.652      -0.574\n",
      "==============================================================================\n",
      "Omnibus:                       45.618   Durbin-Watson:                   1.701\n",
      "Prob(Omnibus):                  0.000   Jarque-Bera (JB):               67.625\n",
      "Skew:                          -0.267   Prob(JB):                     2.07e-15\n",
      "Kurtosis:                       3.821   Cond. No.                     2.53e+03\n",
      "==============================================================================\n",
      "\n",
      "Warnings:\n",
      "[1] Standard Errors assume that the covariance matrix of the errors is correctly specified.\n",
      "[2] The condition number is large, 2.53e+03. This might indicate that there are\n",
      "strong multicollinearity or other numerical problems.\n"
     ]
    }
   ],
   "source": [
    "meap00[\"lexpppstd\"] = meap00.lexppp / meap00.lexppp.std()\n",
    "meap00[\"lenrollstd\"] = meap00.lenroll / meap00.lenroll.std()\n",
    "meap00[\"lunchstd\"] = meap00.lunch / meap00.lunch.std()\n",
    "meap00[\"math4std\"] = meap00.math4 / meap00.math4.std()\n",
    "\n",
    "y = meap00.math4std\n",
    "X = sm.add_constant(meap00[[\"lexpppstd\", \"lenrollstd\", \"lunchstd\"]])\n",
    "model = sm.OLS(y, X).fit()\n",
    "model_summary = model.summary()\n",
    "print(model_summary)"
   ]
  },
  {
   "cell_type": "markdown",
   "metadata": {},
   "source": [
    "C13.i All but lexppp\n",
    "\n",
    "C13.ii (42.4141640360071, 92.670980764536) vs (0, 100)\n",
    "\n",
    "C13.iii Building code 1141 has the largest positive residual. This school had an uncommonly strong math result\n",
    "\n",
    "C13.iv The f-test fails to provide evidence that any of the quadratic terms are significant. There is little reason to leave them in\n",
    "\n",
    "C13.v The largest change in terms of standard deviation is brought on by the lunch variable (negative effect)"
   ]
  },
  {
   "cell_type": "code",
   "execution_count": 69,
   "metadata": {},
   "outputs": [
    {
     "name": "stdout",
     "output_type": "stream",
     "text": [
      "                            OLS Regression Results                            \n",
      "==============================================================================\n",
      "Dep. Variable:                lavgsal   R-squared:                       0.005\n",
      "Model:                            OLS   Adj. R-squared:                  0.004\n",
      "Method:                 Least Squares   F-statistic:                     9.182\n",
      "Date:                Sun, 24 May 2020   Prob (F-statistic):            0.00248\n",
      "Time:                        23:28:08   Log-Likelihood:                 75.732\n",
      "No. Observations:                1848   AIC:                            -147.5\n",
      "Df Residuals:                    1846   BIC:                            -136.4\n",
      "Df Model:                           1                                         \n",
      "Covariance Type:            nonrobust                                         \n",
      "==============================================================================\n",
      "                 coef    std err          t      P>|t|      [0.025      0.975]\n",
      "------------------------------------------------------------------------------\n",
      "const         10.6476      0.057    186.018      0.000      10.535      10.760\n",
      "bs            -0.5035      0.166     -3.030      0.002      -0.829      -0.178\n",
      "==============================================================================\n",
      "Omnibus:                       83.625   Durbin-Watson:                   0.937\n",
      "Prob(Omnibus):                  0.000   Jarque-Bera (JB):              164.366\n",
      "Skew:                          -0.317   Prob(JB):                     2.03e-36\n",
      "Kurtosis:                       4.316   Cond. No.                         34.4\n",
      "==============================================================================\n",
      "\n",
      "Warnings:\n",
      "[1] Standard Errors assume that the covariance matrix of the errors is correctly specified.\n"
     ]
    }
   ],
   "source": [
    "# Exercise 14\n",
    "benefits = pd.read_stata(\"stata/benefits.dta\")\n",
    "\n",
    "y = benefits.lavgsal\n",
    "X = sm.add_constant(benefits[[\"bs\"]])\n",
    "model = sm.OLS(y, X).fit()\n",
    "model_summary = model.summary()\n",
    "print(model_summary)"
   ]
  },
  {
   "cell_type": "code",
   "execution_count": 70,
   "metadata": {},
   "outputs": [
    {
     "data": {
      "text/plain": [
       "<class 'statsmodels.stats.contrast.ContrastResults'>\n",
       "                             Test for Constraints                             \n",
       "==============================================================================\n",
       "                 coef    std err          t      P>|t|      [0.025      0.975]\n",
       "------------------------------------------------------------------------------\n",
       "c0            -0.5035      0.166      2.988      0.003      -0.829      -0.178\n",
       "=============================================================================="
      ]
     },
     "execution_count": 70,
     "metadata": {},
     "output_type": "execute_result"
    }
   ],
   "source": [
    "model.t_test(\"bs = -1\")"
   ]
  },
  {
   "cell_type": "code",
   "execution_count": 71,
   "metadata": {},
   "outputs": [
    {
     "name": "stdout",
     "output_type": "stream",
     "text": [
      "-2.33083176612854 -0.416291207075119 0.0968237817287445\n",
      "                            OLS Regression Results                            \n",
      "==============================================================================\n",
      "Dep. Variable:                lavgsal   R-squared:                       0.004\n",
      "Model:                            OLS   Adj. R-squared:                  0.003\n",
      "Method:                 Least Squares   F-statistic:                     7.241\n",
      "Date:                Sun, 24 May 2020   Prob (F-statistic):            0.00719\n",
      "Time:                        23:28:08   Log-Likelihood:                 74.765\n",
      "No. Observations:                1848   AIC:                            -145.5\n",
      "Df Residuals:                    1846   BIC:                            -134.5\n",
      "Df Model:                           1                                         \n",
      "Covariance Type:            nonrobust                                         \n",
      "==============================================================================\n",
      "                 coef    std err          t      P>|t|      [0.025      0.975]\n",
      "------------------------------------------------------------------------------\n",
      "const         10.3133      0.060    171.062      0.000      10.195      10.432\n",
      "lbs           -0.1504      0.056     -2.691      0.007      -0.260      -0.041\n",
      "==============================================================================\n",
      "Omnibus:                       83.888   Durbin-Watson:                   0.939\n",
      "Prob(Omnibus):                  0.000   Jarque-Bera (JB):              163.345\n",
      "Skew:                          -0.321   Prob(JB):                     3.39e-36\n",
      "Kurtosis:                       4.307   Cond. No.                         22.3\n",
      "==============================================================================\n",
      "\n",
      "Warnings:\n",
      "[1] Standard Errors assume that the covariance matrix of the errors is correctly specified.\n"
     ]
    }
   ],
   "source": [
    "benefits[\"lbs\"] = np.log(benefits.bs)\n",
    "print(benefits.lbs.min(), benefits.lbs.max(), benefits.lbs.std())\n",
    "\n",
    "X = sm.add_constant(benefits[[\"lbs\"]])\n",
    "model = sm.OLS(y, X).fit()\n",
    "model_summary = model.summary()\n",
    "print(model_summary)"
   ]
  },
  {
   "cell_type": "code",
   "execution_count": 72,
   "metadata": {},
   "outputs": [
    {
     "name": "stdout",
     "output_type": "stream",
     "text": [
      "                            OLS Regression Results                            \n",
      "==============================================================================\n",
      "Dep. Variable:                lavgsal   R-squared:                       0.483\n",
      "Model:                            OLS   Adj. R-squared:                  0.481\n",
      "Method:                 Least Squares   F-statistic:                     429.8\n",
      "Date:                Sun, 24 May 2020   Prob (F-statistic):          8.56e-262\n",
      "Time:                        23:28:08   Log-Likelihood:                 680.03\n",
      "No. Observations:                1848   AIC:                            -1350.\n",
      "Df Residuals:                    1843   BIC:                            -1322.\n",
      "Df Model:                           4                                         \n",
      "Covariance Type:            nonrobust                                         \n",
      "==============================================================================\n",
      "                 coef    std err          t      P>|t|      [0.025      0.975]\n",
      "------------------------------------------------------------------------------\n",
      "const         13.7236      0.112    122.413      0.000      13.504      13.943\n",
      "bs            -0.1774      0.122     -1.455      0.146      -0.417       0.062\n",
      "lenroll       -0.0292      0.008     -3.440      0.001      -0.046      -0.013\n",
      "lstaff        -0.6907      0.018    -37.417      0.000      -0.727      -0.654\n",
      "lunch         -0.0008      0.000     -5.213      0.000      -0.001      -0.001\n",
      "==============================================================================\n",
      "Omnibus:                      109.521   Durbin-Watson:                   0.938\n",
      "Prob(Omnibus):                  0.000   Jarque-Bera (JB):              420.576\n",
      "Skew:                          -0.126   Prob(JB):                     4.71e-92\n",
      "Kurtosis:                       5.323   Cond. No.                     1.58e+03\n",
      "==============================================================================\n",
      "\n",
      "Warnings:\n",
      "[1] Standard Errors assume that the covariance matrix of the errors is correctly specified.\n",
      "[2] The condition number is large, 1.58e+03. This might indicate that there are\n",
      "strong multicollinearity or other numerical problems.\n"
     ]
    }
   ],
   "source": [
    "X = sm.add_constant(benefits[[\"bs\", \"lenroll\", \"lstaff\", \"lunch\"]])\n",
    "model = sm.OLS(y, X).fit()\n",
    "model_summary = model.summary()\n",
    "print(model_summary)"
   ]
  },
  {
   "cell_type": "code",
   "execution_count": 73,
   "metadata": {},
   "outputs": [
    {
     "name": "stdout",
     "output_type": "stream",
     "text": [
      "                            OLS Regression Results                            \n",
      "==============================================================================\n",
      "Dep. Variable:                lavgsal   R-squared:                       0.491\n",
      "Model:                            OLS   Adj. R-squared:                  0.490\n",
      "Method:                 Least Squares   F-statistic:                     355.6\n",
      "Date:                Sun, 24 May 2020   Prob (F-statistic):          4.33e-267\n",
      "Time:                        23:28:08   Log-Likelihood:                 695.39\n",
      "No. Observations:                1848   AIC:                            -1379.\n",
      "Df Residuals:                    1842   BIC:                            -1346.\n",
      "Df Model:                           5                                         \n",
      "Covariance Type:            nonrobust                                         \n",
      "==============================================================================\n",
      "                 coef    std err          t      P>|t|      [0.025      0.975]\n",
      "------------------------------------------------------------------------------\n",
      "const         13.8334      0.113    122.471      0.000      13.612      14.055\n",
      "bs            -0.1656      0.121     -1.368      0.171      -0.403       0.072\n",
      "lenroll       -0.0341      0.008     -4.025      0.000      -0.051      -0.017\n",
      "lstaff        -0.7016      0.018    -38.097      0.000      -0.738      -0.666\n",
      "lunch         -0.0036      0.001     -6.911      0.000      -0.005      -0.003\n",
      "lunchsq     3.178e-05   5.72e-06      5.557      0.000    2.06e-05     4.3e-05\n",
      "==============================================================================\n",
      "Omnibus:                      122.576   Durbin-Watson:                   0.963\n",
      "Prob(Omnibus):                  0.000   Jarque-Bera (JB):              487.208\n",
      "Skew:                          -0.183   Prob(JB):                    1.60e-106\n",
      "Kurtosis:                       5.489   Cond. No.                     1.07e+05\n",
      "==============================================================================\n",
      "\n",
      "Warnings:\n",
      "[1] Standard Errors assume that the covariance matrix of the errors is correctly specified.\n",
      "[2] The condition number is large, 1.07e+05. This might indicate that there are\n",
      "strong multicollinearity or other numerical problems.\n"
     ]
    }
   ],
   "source": [
    "benefits[\"lunchsq\"] = benefits.lunch ** 2\n",
    "\n",
    "X = sm.add_constant(benefits[[\"bs\", \"lenroll\", \"lstaff\", \"lunch\", \"lunchsq\"]])\n",
    "model = sm.OLS(y, X).fit()\n",
    "model_summary = model.summary()\n",
    "print(model_summary)"
   ]
  },
  {
   "cell_type": "code",
   "execution_count": 74,
   "metadata": {},
   "outputs": [
    {
     "data": {
      "text/plain": [
       "56.63195040623062"
      ]
     },
     "execution_count": 74,
     "metadata": {},
     "output_type": "execute_result"
    }
   ],
   "source": [
    "abs(model.params[4] / (2 * model.params[5]))"
   ]
  },
  {
   "cell_type": "code",
   "execution_count": 75,
   "metadata": {},
   "outputs": [
    {
     "data": {
      "text/plain": [
       "418"
      ]
     },
     "execution_count": 75,
     "metadata": {},
     "output_type": "execute_result"
    }
   ],
   "source": [
    "benefits[benefits.lunch > abs(model.params[4] / (2 * model.params[5]))].shape[0]"
   ]
  },
  {
   "cell_type": "markdown",
   "metadata": {},
   "source": [
    "C14.i We can reject the null at all levels. P-values are above but the one sided test must be divided by two\n",
    "\n",
    "C14.ii Reported above\n",
    "\n",
    "C14.iii It does not\n",
    "\n",
    "C14.iv Coefficient ceases to be different from zero\n",
    "\n",
    "C14.v More staff hired when labour is cheap or, alternatively, HR budget must be spread thin\n",
    "\n",
    "C14.vi The quadratic is statistically significant with a turning point at 56.63. There are 418 values above this point\n",
    "\n",
    "C14.vii Teacher salaries are lower with school poverty rates up to over half of the school being in poverty. IN this case, lunch=100 would be the ideal school"
   ]
  }
 ],
 "metadata": {
  "kernelspec": {
   "display_name": "Python 3",
   "language": "python",
   "name": "python3"
  },
  "language_info": {
   "codemirror_mode": {
    "name": "ipython",
    "version": 3
   },
   "file_extension": ".py",
   "mimetype": "text/x-python",
   "name": "python",
   "nbconvert_exporter": "python",
   "pygments_lexer": "ipython3",
   "version": "3.7.6"
  }
 },
 "nbformat": 4,
 "nbformat_minor": 4
}
