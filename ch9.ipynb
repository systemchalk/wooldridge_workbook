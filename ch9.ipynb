{
 "cells": [
  {
   "cell_type": "markdown",
   "metadata": {},
   "source": [
    "# Chapter 9"
   ]
  },
  {
   "cell_type": "code",
   "execution_count": 1,
   "metadata": {},
   "outputs": [],
   "source": [
    "import pandas as pd\n",
    "import statsmodels.api as sm\n",
    "import numpy as np"
   ]
  },
  {
   "cell_type": "code",
   "execution_count": 2,
   "metadata": {},
   "outputs": [
    {
     "name": "stdout",
     "output_type": "stream",
     "text": [
      "<Wald test (chi2): statistic=[[2.66707016]], p-value=0.26354396347186887, df_denom=2>\n"
     ]
    }
   ],
   "source": [
    "from statsmodels.stats.diagnostic import linear_reset\n",
    "\n",
    "# Exercise 1\n",
    "ceosal1 = pd.read_stata(\"stata/CEOSAL1.DTA\")\n",
    "ceosal1[\"rosneg\"] = (ceosal1.ros < 0).astype('int32')\n",
    "\n",
    "y = ceosal1.lsalary\n",
    "X = sm.add_constant(ceosal1[[\"lsales\", \"roe\", \"rosneg\"]])\n",
    "model = sm.OLS(y, X).fit()\n",
    "print(linear_reset(model))"
   ]
  },
  {
   "cell_type": "code",
   "execution_count": 3,
   "metadata": {},
   "outputs": [
    {
     "data": {
      "text/plain": [
       "<class 'statsmodels.stats.contrast.ContrastResults'>\n",
       "<Wald test (chi2): statistic=[[2.99859337]], p-value=0.22328714637257752, df_denom=2>"
      ]
     },
     "execution_count": 3,
     "metadata": {},
     "output_type": "execute_result"
    }
   ],
   "source": [
    "linear_reset(model, cov_type = \"HC3\")"
   ]
  },
  {
   "cell_type": "markdown",
   "metadata": {},
   "source": [
    "C1.i The p-value for the RESET test is about 0.26 which could not be considered evidence of functional form misspecification.\n",
    "\n",
    "C1.ii When considering a heteroskedacticity robust RESET the p-value falls to about 0.22, but this is far from any value we would consider evidence of misspecification."
   ]
  },
  {
   "cell_type": "code",
   "execution_count": 4,
   "metadata": {},
   "outputs": [
    {
     "name": "stdout",
     "output_type": "stream",
     "text": [
      "                            OLS Regression Results                            \n",
      "==============================================================================\n",
      "Dep. Variable:                  lwage   R-squared:                       0.259\n",
      "Model:                            OLS   Adj. R-squared:                  0.252\n",
      "Method:                 Least Squares   F-statistic:                     35.97\n",
      "Date:                Sat, 06 Jun 2020   Prob (F-statistic):           8.91e-55\n",
      "Time:                        15:32:18   Log-Likelihood:                -377.34\n",
      "No. Observations:                 935   AIC:                             774.7\n",
      "Df Residuals:                     925   BIC:                             823.1\n",
      "Df Model:                           9                                         \n",
      "Covariance Type:            nonrobust                                         \n",
      "==============================================================================\n",
      "                 coef    std err          t      P>|t|      [0.025      0.975]\n",
      "------------------------------------------------------------------------------\n",
      "const          5.3557      0.114     47.113      0.000       5.133       5.579\n",
      "educ           0.0580      0.007      8.464      0.000       0.045       0.071\n",
      "exper          0.0123      0.003      3.785      0.000       0.006       0.019\n",
      "tenure         0.0110      0.002      4.485      0.000       0.006       0.016\n",
      "married        0.1876      0.039      4.794      0.000       0.111       0.264\n",
      "south         -0.0910      0.026     -3.478      0.001      -0.142      -0.040\n",
      "urban          0.1753      0.027      6.485      0.000       0.122       0.228\n",
      "black         -0.1645      0.039     -4.268      0.000      -0.240      -0.089\n",
      "KWW            0.0050      0.002      2.737      0.006       0.001       0.009\n",
      "educ_kww      -0.0001      0.000     -0.849      0.396      -0.000       0.000\n",
      "==============================================================================\n",
      "Omnibus:                       46.012   Durbin-Watson:                   1.817\n",
      "Prob(Omnibus):                  0.000   Jarque-Bera (JB):              106.138\n",
      "Skew:                          -0.267   Prob(JB):                     8.96e-24\n",
      "Kurtosis:                       4.562   Cond. No.                         713.\n",
      "==============================================================================\n",
      "\n",
      "Warnings:\n",
      "[1] Standard Errors assume that the covariance matrix of the errors is correctly specified.\n"
     ]
    }
   ],
   "source": [
    "# Exercise 2\n",
    "wage2 = pd.read_stata(\"stata/WAGE2.DTA\")\n",
    "wage2[\"educ_iq\"] = wage2.educ * wage2.IQ\n",
    "wage2[\"educ_kww\"] = wage2.educ * wage2.KWW\n",
    "\n",
    "y = wage2.lwage\n",
    "X = sm.add_constant(wage2[[\"educ\", \"exper\", \"tenure\", \"married\", \"south\", \"urban\", \"black\", \"KWW\", \"educ_kww\"]])\n",
    "model = sm.OLS(y, X).fit()\n",
    "print(model.summary())"
   ]
  },
  {
   "cell_type": "code",
   "execution_count": 5,
   "metadata": {},
   "outputs": [
    {
     "name": "stdout",
     "output_type": "stream",
     "text": [
      "                            OLS Regression Results                            \n",
      "==============================================================================\n",
      "Dep. Variable:                  lwage   R-squared:                       0.266\n",
      "Model:                            OLS   Adj. R-squared:                  0.258\n",
      "Method:                 Least Squares   F-statistic:                     33.53\n",
      "Date:                Sat, 06 Jun 2020   Prob (F-statistic):           7.48e-56\n",
      "Time:                        15:32:18   Log-Likelihood:                -372.88\n",
      "No. Observations:                 935   AIC:                             767.8\n",
      "Df Residuals:                     924   BIC:                             821.0\n",
      "Df Model:                          10                                         \n",
      "Covariance Type:            nonrobust                                         \n",
      "=================================================================================\n",
      "                    coef    std err          t      P>|t|      [0.025      0.975]\n",
      "---------------------------------------------------------------------------------\n",
      "const             5.1756      0.128     40.486      0.000       4.925       5.427\n",
      "educ              0.0494      0.007      6.661      0.000       0.035       0.064\n",
      "exper             0.0127      0.003      3.933      0.000       0.006       0.019\n",
      "tenure            0.0109      0.002      4.469      0.000       0.006       0.016\n",
      "married           0.1933      0.039      4.946      0.000       0.117       0.270\n",
      "south            -0.0825      0.026     -3.140      0.002      -0.134      -0.031\n",
      "urban             0.1759      0.027      6.533      0.000       0.123       0.229\n",
      "black            -0.1319      0.040     -3.283      0.001      -0.211      -0.053\n",
      "IQ                0.0032      0.001      3.095      0.002       0.001       0.005\n",
      "KWW               0.0039      0.002      2.091      0.037       0.000       0.008\n",
      "educ_combined  2.074e-07   6.22e-07      0.334      0.739   -1.01e-06    1.43e-06\n",
      "==============================================================================\n",
      "Omnibus:                       49.924   Durbin-Watson:                   1.817\n",
      "Prob(Omnibus):                  0.000   Jarque-Bera (JB):              119.045\n",
      "Skew:                          -0.285   Prob(JB):                     1.41e-26\n",
      "Kurtosis:                       4.652   Cond. No.                     2.22e+05\n",
      "==============================================================================\n",
      "\n",
      "Warnings:\n",
      "[1] Standard Errors assume that the covariance matrix of the errors is correctly specified.\n",
      "[2] The condition number is large, 2.22e+05. This might indicate that there are\n",
      "strong multicollinearity or other numerical problems.\n",
      "<F test: F=array([[8.53845302]]), p=0.00021166405662835709, df_denom=924, df_num=2>\n"
     ]
    }
   ],
   "source": [
    "wage2[\"combined\"] = wage2.IQ * wage2.KWW\n",
    "wage2[\"educ_combined\"] = wage2.combined * wage2.educ\n",
    "X = sm.add_constant(wage2[[\"educ\", \"exper\", \"tenure\", \"married\", \"south\", \"urban\", \"black\", \"IQ\", \"KWW\", \"educ_combined\"]])\n",
    "model = sm.OLS(y, X).fit()\n",
    "print(model.summary())\n",
    "print(model.f_test(\"(IQ = 0), (KWW = 0)\"))"
   ]
  },
  {
   "cell_type": "markdown",
   "metadata": {},
   "source": [
    "C2.i The estimated return to education when using KWW as a proxy for ability is about 5.8%\n",
    "\n",
    "C2.ii The return to education falls to about 4.9%\n",
    "\n",
    "C.iii Both IQ and KWW are significant at the 5% level (in fact, IQ is significant at the 1% level) individually. The F-test provides strong evidence that they are jointly significant."
   ]
  },
  {
   "cell_type": "code",
   "execution_count": 6,
   "metadata": {},
   "outputs": [
    {
     "name": "stdout",
     "output_type": "stream",
     "text": [
      "                            OLS Regression Results                            \n",
      "==============================================================================\n",
      "Dep. Variable:                 lscrap   R-squared:                       0.000\n",
      "Model:                            OLS   Adj. R-squared:                 -0.019\n",
      "Method:                 Least Squares   F-statistic:                   0.01948\n",
      "Date:                Sat, 06 Jun 2020   Prob (F-statistic):              0.890\n",
      "Time:                        15:32:18   Log-Likelihood:                -94.660\n",
      "No. Observations:                  54   AIC:                             193.3\n",
      "Df Residuals:                      52   BIC:                             197.3\n",
      "Df Model:                           1                                         \n",
      "Covariance Type:            nonrobust                                         \n",
      "==============================================================================\n",
      "                 coef    std err          t      P>|t|      [0.025      0.975]\n",
      "------------------------------------------------------------------------------\n",
      "const          0.4085      0.241      1.698      0.095      -0.074       0.891\n",
      "grant          0.0566      0.406      0.140      0.890      -0.757       0.870\n",
      "==============================================================================\n",
      "Omnibus:                        0.074   Durbin-Watson:                   1.931\n",
      "Prob(Omnibus):                  0.963   Jarque-Bera (JB):                0.086\n",
      "Skew:                          -0.067   Prob(JB):                        0.958\n",
      "Kurtosis:                       2.859   Cond. No.                         2.42\n",
      "==============================================================================\n",
      "\n",
      "Warnings:\n",
      "[1] Standard Errors assume that the covariance matrix of the errors is correctly specified.\n",
      "                            OLS Regression Results                            \n",
      "==============================================================================\n",
      "Dep. Variable:                 lscrap   R-squared:                       0.000\n",
      "Model:                            OLS   Adj. R-squared:                 -0.019\n",
      "Method:                 Least Squares   F-statistic:                   0.02226\n",
      "Date:                Sat, 06 Jun 2020   Prob (F-statistic):              0.882\n",
      "Time:                        15:32:18   Log-Likelihood:                -94.660\n",
      "No. Observations:                  54   AIC:                             193.3\n",
      "Df Residuals:                      52   BIC:                             197.3\n",
      "Df Model:                           1                                         \n",
      "Covariance Type:                  HC3                                         \n",
      "==============================================================================\n",
      "                 coef    std err          t      P>|t|      [0.025      0.975]\n",
      "------------------------------------------------------------------------------\n",
      "const          0.4085      0.266      1.538      0.130      -0.124       0.941\n",
      "grant          0.0566      0.379      0.149      0.882      -0.705       0.818\n",
      "==============================================================================\n",
      "Omnibus:                        0.074   Durbin-Watson:                   1.931\n",
      "Prob(Omnibus):                  0.963   Jarque-Bera (JB):                0.086\n",
      "Skew:                          -0.067   Prob(JB):                        0.958\n",
      "Kurtosis:                       2.859   Cond. No.                         2.42\n",
      "==============================================================================\n",
      "\n",
      "Warnings:\n",
      "[1] Standard Errors are heteroscedasticity robust (HC3)\n"
     ]
    }
   ],
   "source": [
    "# Exercise 3\n",
    "jtrain = pd.read_stata(\"stata/JTRAIN.DTA\")\n",
    "jtrain_1988 = jtrain.loc[jtrain[\"year\"] == 1988, [\"lscrap\", \"grant\"]].dropna()\n",
    "y = jtrain_1988.lscrap\n",
    "X = sm.add_constant(jtrain_1988.grant)\n",
    "\n",
    "model = sm.OLS(y, X).fit()\n",
    "print(model.summary())\n",
    "print(model.get_robustcov_results(cov_type = \"HC3\").summary())"
   ]
  },
  {
   "cell_type": "code",
   "execution_count": 7,
   "metadata": {},
   "outputs": [
    {
     "name": "stdout",
     "output_type": "stream",
     "text": [
      "                            OLS Regression Results                            \n",
      "==============================================================================\n",
      "Dep. Variable:                 lscrap   R-squared:                       0.873\n",
      "Model:                            OLS   Adj. R-squared:                  0.868\n",
      "Method:                 Least Squares   F-statistic:                     174.9\n",
      "Date:                Sat, 06 Jun 2020   Prob (F-statistic):           1.47e-23\n",
      "Time:                        15:32:18   Log-Likelihood:                -39.000\n",
      "No. Observations:                  54   AIC:                             84.00\n",
      "Df Residuals:                      51   BIC:                             89.97\n",
      "Df Model:                           2                                         \n",
      "Covariance Type:            nonrobust                                         \n",
      "==============================================================================\n",
      "                 coef    std err          t      P>|t|      [0.025      0.975]\n",
      "------------------------------------------------------------------------------\n",
      "const          0.0212      0.089      0.238      0.813      -0.158       0.200\n",
      "grant         -0.2540      0.147     -1.727      0.090      -0.549       0.041\n",
      "lscrap_lag     0.8312      0.044     18.701      0.000       0.742       0.920\n",
      "==============================================================================\n",
      "Omnibus:                       13.769   Durbin-Watson:                   1.541\n",
      "Prob(Omnibus):                  0.001   Jarque-Bera (JB):               35.075\n",
      "Skew:                          -0.526   Prob(JB):                     2.42e-08\n",
      "Kurtosis:                       6.805   Cond. No.                         3.95\n",
      "==============================================================================\n",
      "\n",
      "Warnings:\n",
      "[1] Standard Errors assume that the covariance matrix of the errors is correctly specified.\n",
      "One sided p-value for grant is:  0.045081345662734355\n",
      "                            OLS Regression Results                            \n",
      "==============================================================================\n",
      "Dep. Variable:                 lscrap   R-squared:                       0.873\n",
      "Model:                            OLS   Adj. R-squared:                  0.868\n",
      "Method:                 Least Squares   F-statistic:                     55.82\n",
      "Date:                Sat, 06 Jun 2020   Prob (F-statistic):           1.43e-13\n",
      "Time:                        15:32:18   Log-Likelihood:                -39.000\n",
      "No. Observations:                  54   AIC:                             84.00\n",
      "Df Residuals:                      51   BIC:                             89.97\n",
      "Df Model:                           2                                         \n",
      "Covariance Type:                  HC3                                         \n",
      "==============================================================================\n",
      "                 coef    std err          t      P>|t|      [0.025      0.975]\n",
      "------------------------------------------------------------------------------\n",
      "const          0.0212      0.116      0.183      0.855      -0.212       0.254\n",
      "grant         -0.2540      0.153     -1.663      0.102      -0.561       0.053\n",
      "lscrap_lag     0.8312      0.088      9.424      0.000       0.654       1.008\n",
      "==============================================================================\n",
      "Omnibus:                       13.769   Durbin-Watson:                   1.541\n",
      "Prob(Omnibus):                  0.001   Jarque-Bera (JB):               35.075\n",
      "Skew:                          -0.526   Prob(JB):                     2.42e-08\n",
      "Kurtosis:                       6.805   Cond. No.                         3.95\n",
      "==============================================================================\n",
      "\n",
      "Warnings:\n",
      "[1] Standard Errors are heteroscedasticity robust (HC3)\n",
      "One sided p-value for grant is:  0.05122786867683199\n"
     ]
    }
   ],
   "source": [
    "jtrain[\"lscrap_lag\"] = jtrain[\"lscrap\"].shift(1)\n",
    "jtrain_1988 = jtrain.loc[jtrain[\"year\"] == 1988, [\"lscrap\", \"lscrap_lag\", \"grant\"]].dropna()\n",
    "y = jtrain_1988.lscrap\n",
    "X = sm.add_constant(jtrain_1988[[\"grant\", \"lscrap_lag\"]])\n",
    "\n",
    "model = sm.OLS(y, X).fit()\n",
    "model_hc3 = model.get_robustcov_results(cov_type = \"HC3\")\n",
    "print(model.summary())\n",
    "print(\"One sided p-value for grant is: \", (model.pvalues[1] / 2))\n",
    "print(model_hc3.summary())\n",
    "print(\"One sided p-value for grant is: \", (model_hc3.pvalues[1] / 2))"
   ]
  },
  {
   "cell_type": "code",
   "execution_count": 8,
   "metadata": {},
   "outputs": [
    {
     "name": "stdout",
     "output_type": "stream",
     "text": [
      "                             Test for Constraints                             \n",
      "==============================================================================\n",
      "                 coef    std err          t      P>|t|      [0.025      0.975]\n",
      "------------------------------------------------------------------------------\n",
      "c0             0.8312      0.044     -3.799      0.000       0.742       0.920\n",
      "==============================================================================\n",
      "                             Test for Constraints                             \n",
      "==============================================================================\n",
      "                 coef    std err          t      P>|t|      [0.025      0.975]\n",
      "------------------------------------------------------------------------------\n",
      "c0             0.8312      0.088     -1.914      0.061       0.654       1.008\n",
      "==============================================================================\n"
     ]
    }
   ],
   "source": [
    "print(model.t_test(\"lscrap_lag = 1\"))\n",
    "print(model_hc3.t_test(\"lscrap_lag = 1\"))"
   ]
  },
  {
   "cell_type": "markdown",
   "metadata": {},
   "source": [
    "C3.i Quite a lot depends on how grants are assigned. It would be fair to say that grants can be assigned to over or under performing firms, depending on who is administering the program. In either case the factors leading to higher or lower productivity are unobserved but would be correlated with grant.\n",
    "\n",
    "C3.ii The simple regression does not provide evidence that receiving a job training grant significantly lowers a firm's scrap rate. With a positive coefficient, a significant result would mean the grant increased the scrap rate!\n",
    "\n",
    "C3.iii Adding the lag turns the coefficient for grant negative. It is statistically significant at the 5% level with a p-value of 0.045 against the one sided test $\\beta_{grant} < 0$.\n",
    "\n",
    "C3.iv The t-test is listed above and the p-value is incredibly small (0.000).\n",
    "\n",
    "C3.v Robust results are reported below the standard results. The results from part (ii) do not substantively change. While the question did not ask to check part (iii), grant is now only significant at the 10% level when tested against the one sided alternative. The robust standard error is quite a bit larger and the test is now significant only at the 10% level."
   ]
  },
  {
   "cell_type": "code",
   "execution_count": 9,
   "metadata": {},
   "outputs": [
    {
     "name": "stdout",
     "output_type": "stream",
     "text": [
      "                            OLS Regression Results                            \n",
      "==============================================================================\n",
      "Dep. Variable:                infmort   R-squared:                       0.691\n",
      "Model:                            OLS   Adj. R-squared:                  0.664\n",
      "Method:                 Least Squares   F-statistic:                     25.71\n",
      "Date:                Sat, 06 Jun 2020   Prob (F-statistic):           3.15e-11\n",
      "Time:                        15:32:18   Log-Likelihood:                -80.968\n",
      "No. Observations:                  51   AIC:                             171.9\n",
      "Df Residuals:                      46   BIC:                             181.6\n",
      "Df Model:                           4                                         \n",
      "Covariance Type:            nonrobust                                         \n",
      "==============================================================================\n",
      "                 coef    std err          t      P>|t|      [0.025      0.975]\n",
      "------------------------------------------------------------------------------\n",
      "const         23.9548     12.419      1.929      0.060      -1.044      48.954\n",
      "lpcinc        -0.5669      1.641     -0.345      0.731      -3.871       2.737\n",
      "lphysic       -2.7418      1.191     -2.303      0.026      -5.139      -0.345\n",
      "lpopul         0.6292      0.191      3.293      0.002       0.245       1.014\n",
      "DC            16.0350      1.769      9.064      0.000      12.474      19.596\n",
      "==============================================================================\n",
      "Omnibus:                        0.803   Durbin-Watson:                   1.442\n",
      "Prob(Omnibus):                  0.669   Jarque-Bera (JB):                0.863\n",
      "Skew:                           0.170   Prob(JB):                        0.649\n",
      "Kurtosis:                       2.461   Cond. No.                         986.\n",
      "==============================================================================\n",
      "\n",
      "Warnings:\n",
      "[1] Standard Errors assume that the covariance matrix of the errors is correctly specified.\n"
     ]
    }
   ],
   "source": [
    "# Exercise 4\n",
    "infmrt = pd.read_stata(\"stata/infmrt.dta\")\n",
    "infmrt_1990 = infmrt[infmrt.year == 1990]\n",
    "y = infmrt_1990.infmort\n",
    "X = sm.add_constant(infmrt_1990[[\"lpcinc\", \"lphysic\", \"lpopul\", \"DC\"]])\n",
    "\n",
    "model = sm.OLS(y, X).fit()\n",
    "print(model.summary())"
   ]
  },
  {
   "cell_type": "markdown",
   "metadata": {},
   "source": [
    "C4.i The coefficient indicates that once income, number of physicians, and population are accounted for, DC suffers 16 more infant deaths per 1000 live births. This is a large and significant effect.\n",
    "\n",
    "C4.ii The coefficients are identical to 9.44 (on page 331). Including the dummy accounts for the distortion created by the outlier. This is only true for a single observation."
   ]
  },
  {
   "cell_type": "code",
   "execution_count": 10,
   "metadata": {},
   "outputs": [
    {
     "name": "stdout",
     "output_type": "stream",
     "text": [
      "                            OLS Regression Results                            \n",
      "==============================================================================\n",
      "Dep. Variable:               rdintens   R-squared:                       0.190\n",
      "Model:                            OLS   Adj. R-squared:                  0.104\n",
      "Method:                 Least Squares   F-statistic:                     2.196\n",
      "Date:                Sat, 06 Jun 2020   Prob (F-statistic):              0.111\n",
      "Time:                        15:32:18   Log-Likelihood:                -61.610\n",
      "No. Observations:                  32   AIC:                             131.2\n",
      "Df Residuals:                      28   BIC:                             137.1\n",
      "Df Model:                           3                                         \n",
      "Covariance Type:            nonrobust                                         \n",
      "==============================================================================\n",
      "                 coef    std err          t      P>|t|      [0.025      0.975]\n",
      "------------------------------------------------------------------------------\n",
      "const          2.0590      0.626      3.288      0.003       0.776       3.342\n",
      "sales          0.3166      0.139      2.280      0.030       0.032       0.601\n",
      "salessq       -0.0074      0.004     -1.989      0.057      -0.015       0.000\n",
      "profmarg       0.0533      0.044      1.206      0.238      -0.037       0.144\n",
      "==============================================================================\n",
      "Omnibus:                       17.063   Durbin-Watson:                   1.696\n",
      "Prob(Omnibus):                  0.000   Jarque-Bera (JB):               20.823\n",
      "Skew:                           1.455   Prob(JB):                     3.01e-05\n",
      "Kurtosis:                       5.673   Cond. No.                         580.\n",
      "==============================================================================\n",
      "\n",
      "Warnings:\n",
      "[1] Standard Errors assume that the covariance matrix of the errors is correctly specified.\n",
      "                            OLS Regression Results                            \n",
      "==============================================================================\n",
      "Dep. Variable:               rdintens   R-squared:                       0.191\n",
      "Model:                            OLS   Adj. R-squared:                  0.101\n",
      "Method:                 Least Squares   F-statistic:                     2.128\n",
      "Date:                Sat, 06 Jun 2020   Prob (F-statistic):              0.120\n",
      "Time:                        15:32:18   Log-Likelihood:                -60.147\n",
      "No. Observations:                  31   AIC:                             128.3\n",
      "Df Residuals:                      27   BIC:                             134.0\n",
      "Df Model:                           3                                         \n",
      "Covariance Type:            nonrobust                                         \n",
      "==============================================================================\n",
      "                 coef    std err          t      P>|t|      [0.025      0.975]\n",
      "------------------------------------------------------------------------------\n",
      "const          1.9835      0.718      2.764      0.010       0.511       3.456\n",
      "sales          0.3606      0.239      1.510      0.143      -0.130       0.851\n",
      "salessq       -0.0103      0.013     -0.784      0.440      -0.037       0.017\n",
      "profmarg       0.0553      0.046      1.207      0.238      -0.039       0.149\n",
      "==============================================================================\n",
      "Omnibus:                       14.915   Durbin-Watson:                   1.677\n",
      "Prob(Omnibus):                  0.001   Jarque-Bera (JB):               16.350\n",
      "Skew:                           1.358   Prob(JB):                     0.000282\n",
      "Kurtosis:                       5.299   Cond. No.                         166.\n",
      "==============================================================================\n",
      "\n",
      "Warnings:\n",
      "[1] Standard Errors assume that the covariance matrix of the errors is correctly specified.\n"
     ]
    }
   ],
   "source": [
    "# Exercise 5\n",
    "rdchem = pd.read_stata(\"stata/RDCHEM.DTA\")\n",
    "rdchem[\"sales\"]  = rdchem[\"sales\"] / 1000\n",
    "rdchem[\"salessq\"] = np.power(rdchem[\"sales\"], 2)\n",
    "rdchem_limit = rdchem[rdchem.sales < 20]\n",
    "y = rdchem.rdintens\n",
    "X = sm.add_constant(rdchem[[\"sales\", \"salessq\", \"profmarg\"]])\n",
    "\n",
    "model = sm.OLS(y, X).fit()\n",
    "print(model.summary())\n",
    "\n",
    "y = rdchem_limit.rdintens\n",
    "X = sm.add_constant(rdchem_limit[[\"sales\", \"salessq\", \"profmarg\"]])\n",
    "\n",
    "model = sm.OLS(y, X).fit()\n",
    "print(model.summary())"
   ]
  },
  {
   "cell_type": "code",
   "execution_count": 11,
   "metadata": {},
   "outputs": [
    {
     "name": "stdout",
     "output_type": "stream",
     "text": [
      "                         QuantReg Regression Results                          \n",
      "==============================================================================\n",
      "Dep. Variable:               rdintens   Pseudo R-squared:              0.09743\n",
      "Model:                       QuantReg   Bandwidth:                       2.034\n",
      "Method:                 Least Squares   Sparsity:                        4.266\n",
      "Date:                Sat, 06 Jun 2020   No. Observations:                   32\n",
      "Time:                        15:32:18   Df Residuals:                       28\n",
      "                                        Df Model:                            3\n",
      "==============================================================================\n",
      "                 coef    std err          t      P>|t|      [0.025      0.975]\n",
      "------------------------------------------------------------------------------\n",
      "const          1.4043      0.753      1.865      0.073      -0.138       2.947\n",
      "sales          0.2635      0.167      1.578      0.126      -0.079       0.605\n",
      "salessq       -0.0060      0.004     -1.343      0.190      -0.015       0.003\n",
      "profmarg       0.1140      0.053      2.144      0.041       0.005       0.223\n",
      "==============================================================================\n",
      "                         QuantReg Regression Results                          \n",
      "==============================================================================\n",
      "Dep. Variable:               rdintens   Pseudo R-squared:               0.1020\n",
      "Model:                       QuantReg   Bandwidth:                       1.816\n",
      "Method:                 Least Squares   Sparsity:                        3.915\n",
      "Date:                Sat, 06 Jun 2020   No. Observations:                   31\n",
      "Time:                        15:32:18   Df Residuals:                       27\n",
      "                                        Df Model:                            3\n",
      "==============================================================================\n",
      "                 coef    std err          t      P>|t|      [0.025      0.975]\n",
      "------------------------------------------------------------------------------\n",
      "const          2.6105      0.779      3.353      0.002       1.013       4.208\n",
      "sales         -0.2236      0.259     -0.863      0.396      -0.755       0.308\n",
      "salessq        0.0168      0.014      1.185      0.246      -0.012       0.046\n",
      "profmarg       0.0759      0.050      1.529      0.138      -0.026       0.178\n",
      "==============================================================================\n"
     ]
    }
   ],
   "source": [
    "y = rdchem.rdintens\n",
    "X = sm.add_constant(rdchem[[\"sales\", \"salessq\", \"profmarg\"]])\n",
    "model = sm.QuantReg(y, X).fit(q = .5)\n",
    "print(model.summary())\n",
    "\n",
    "y = rdchem_limit.rdintens\n",
    "X = sm.add_constant(rdchem_limit[[\"sales\", \"salessq\", \"profmarg\"]])\n",
    "model = sm.QuantReg(y, X).fit(q = .5)\n",
    "print(model.summary())"
   ]
  },
  {
   "cell_type": "markdown",
   "metadata": {},
   "source": [
    "C5.i The largest changes are in sales, with sales changing by 0.05 and the quadratic term falling a further 0.003. More noteably, sales was significant at the 5% level and the quadratic was significant at the 10% level while removing the outlier removes all significance.\n",
    "\n",
    "C5.ii Removing the outlier flips the sign of the sales coefficients! standard errors grow, but none of the results were significant in the first place.\n",
    "\n",
    "C5.iii The text introduced LAD as being resilient to outliers. I am not at all confident in a method that flips signs depending on the inclusion of a variable, but one expectation was that we would have a large sample, and we are falling from 32 to 31 observations. Based on these results, I would say OLS is more resilient to outliers."
   ]
  },
  {
   "cell_type": "code",
   "execution_count": 12,
   "metadata": {},
   "outputs": [
    {
     "name": "stdout",
     "output_type": "stream",
     "text": [
      "4\n"
     ]
    }
   ],
   "source": [
    "# Exercise 6\n",
    "meap93 = pd.read_stata(\"stata/MEAP93.DTA\")\n",
    "meap93_limit = meap93[meap93.bensal > 0.01]\n",
    "print(meap93.shape[0] - meap93_limit.shape[0])"
   ]
  },
  {
   "cell_type": "code",
   "execution_count": 13,
   "metadata": {},
   "outputs": [
    {
     "name": "stdout",
     "output_type": "stream",
     "text": [
      "                            OLS Regression Results                            \n",
      "==============================================================================\n",
      "Dep. Variable:                lsalary   R-squared:                       0.354\n",
      "Model:                            OLS   Adj. R-squared:                  0.346\n",
      "Method:                 Least Squares   F-statistic:                     43.55\n",
      "Date:                Sat, 06 Jun 2020   Prob (F-statistic):           8.75e-36\n",
      "Time:                        15:32:18   Log-Likelihood:                 272.94\n",
      "No. Observations:                 404   AIC:                            -533.9\n",
      "Df Residuals:                     398   BIC:                            -509.9\n",
      "Df Model:                           5                                         \n",
      "Covariance Type:            nonrobust                                         \n",
      "==============================================================================\n",
      "                 coef    std err          t      P>|t|      [0.025      0.975]\n",
      "------------------------------------------------------------------------------\n",
      "const         10.7053      0.260     41.119      0.000      10.194      11.217\n",
      "bensal        -0.4208      0.196     -2.145      0.033      -0.806      -0.035\n",
      "lenroll        0.0889      0.007     12.022      0.000       0.074       0.103\n",
      "lstaff        -0.2190      0.050     -4.382      0.000      -0.317      -0.121\n",
      "droprate      -0.0002      0.002     -0.142      0.887      -0.003       0.003\n",
      "gradrate       0.0009      0.001      1.363      0.174      -0.000       0.002\n",
      "==============================================================================\n",
      "Omnibus:                       23.819   Durbin-Watson:                   1.844\n",
      "Prob(Omnibus):                  0.000   Jarque-Bera (JB):               26.356\n",
      "Skew:                           0.609   Prob(JB):                     1.89e-06\n",
      "Kurtosis:                       3.284   Cond. No.                     3.72e+03\n",
      "==============================================================================\n",
      "\n",
      "Warnings:\n",
      "[1] Standard Errors assume that the covariance matrix of the errors is correctly specified.\n",
      "[2] The condition number is large, 3.72e+03. This might indicate that there are\n",
      "strong multicollinearity or other numerical problems.\n"
     ]
    }
   ],
   "source": [
    "y = meap93_limit.lsalary\n",
    "X = sm.add_constant(meap93_limit[[\"bensal\", \"lenroll\", \"lstaff\", \"droprate\", \"gradrate\"]])\n",
    "\n",
    "model = sm.OLS(y, X).fit()\n",
    "print(model.summary())"
   ]
  },
  {
   "cell_type": "markdown",
   "metadata": {},
   "source": [
    "C6.i Four of the observations have a benefits/salary ratio of less than 0.01\n",
    "\n",
    "C6.ii The magnitude of bensal (b/s in the text) is quite a bit smaller than in Example 4.10 (page 156), shrinking from -0.589 to -0.421. The standard error has also grown, though the result is still significant at the 5% level. The remaining coefficients are consistent."
   ]
  },
  {
   "cell_type": "code",
   "execution_count": 14,
   "metadata": {},
   "outputs": [
    {
     "name": "stdout",
     "output_type": "stream",
     "text": [
      "205\n"
     ]
    }
   ],
   "source": [
    "# Exercise 7\n",
    "loanapp = pd.read_stata(\"stata/loanapp.dta\")\n",
    "print(loanapp[loanapp.obrat > 40].shape[0])"
   ]
  },
  {
   "cell_type": "code",
   "execution_count": 15,
   "metadata": {},
   "outputs": [
    {
     "name": "stdout",
     "output_type": "stream",
     "text": [
      "                            OLS Regression Results                            \n",
      "==============================================================================\n",
      "Dep. Variable:                approve   R-squared:                       0.129\n",
      "Model:                            OLS   Adj. R-squared:                  0.122\n",
      "Method:                 Least Squares   F-statistic:                     17.35\n",
      "Date:                Sat, 06 Jun 2020   Prob (F-statistic):           2.63e-43\n",
      "Time:                        15:32:18   Log-Likelihood:                -249.57\n",
      "No. Observations:                1768   AIC:                             531.1\n",
      "Df Residuals:                    1752   BIC:                             618.8\n",
      "Df Model:                          15                                         \n",
      "Covariance Type:            nonrobust                                         \n",
      "==============================================================================\n",
      "                 coef    std err          t      P>|t|      [0.025      0.975]\n",
      "------------------------------------------------------------------------------\n",
      "const          0.7872      0.055     14.377      0.000       0.680       0.895\n",
      "white          0.1286      0.020      6.508      0.000       0.090       0.167\n",
      "hrat           0.0021      0.001      1.514      0.130      -0.001       0.005\n",
      "obrat         -0.0008      0.001     -0.583      0.560      -0.003       0.002\n",
      "loanprc       -0.1232      0.038     -3.262      0.001      -0.197      -0.049\n",
      "unem          -0.0058      0.003     -1.843      0.065      -0.012       0.000\n",
      "male          -0.0027      0.018     -0.147      0.883      -0.039       0.033\n",
      "married        0.0231      0.016      1.454      0.146      -0.008       0.054\n",
      "dep           -0.0025      0.007     -0.375      0.708      -0.016       0.011\n",
      "sch            0.0058      0.016      0.359      0.720      -0.026       0.038\n",
      "cosign         0.0665      0.044      1.524      0.128      -0.019       0.152\n",
      "chist          0.1265      0.019      6.592      0.000       0.089       0.164\n",
      "pubrec        -0.2190      0.029     -7.475      0.000      -0.276      -0.162\n",
      "mortlat1      -0.0394      0.052     -0.761      0.447      -0.141       0.062\n",
      "mortlat2      -0.0693      0.067     -1.033      0.302      -0.201       0.062\n",
      "vr            -0.0404      0.014     -2.944      0.003      -0.067      -0.013\n",
      "==============================================================================\n",
      "Omnibus:                      803.255   Durbin-Watson:                   1.998\n",
      "Prob(Omnibus):                  0.000   Jarque-Bera (JB):             3186.210\n",
      "Skew:                          -2.277   Prob(JB):                         0.00\n",
      "Kurtosis:                       7.745   Cond. No.                         406.\n",
      "==============================================================================\n",
      "\n",
      "Warnings:\n",
      "[1] Standard Errors assume that the covariance matrix of the errors is correctly specified.\n"
     ]
    }
   ],
   "source": [
    "loanapp_reg = loanapp.loc[loanapp.obrat <= 40, [\"approve\", \"white\", \"hrat\", \"obrat\", \"loanprc\", \"unem\", \"male\", \"married\", \"dep\", \"sch\", \"cosign\", \"chist\", \"pubrec\", \"mortlat1\", \"mortlat2\", \"vr\"]].dropna()\n",
    "\n",
    "y = loanapp_reg.approve\n",
    "X = sm.add_constant(loanapp_reg[[\"white\", \"hrat\", \"obrat\", \"loanprc\", \"unem\", \"male\", \"married\", \"dep\", \"sch\", \"cosign\", \"chist\", \"pubrec\", \"mortlat1\", \"mortlat2\", \"vr\"]])\n",
    "model = sm.OLS(y, X).fit()\n",
    "model_summary = model.summary()\n",
    "print(model_summary)"
   ]
  },
  {
   "cell_type": "markdown",
   "metadata": {},
   "source": [
    "C7.i 205 observations have other debt obligations in excess of 40% of their income\n",
    "\n",
    "C7.ii The coefficient for white is consistent, moving from 0.1288 to 0.1286. The t statistic shrinks from 6.529 to 6.508. These are not large changes.\n",
    "\n",
    "C7.iii It does not appear that the estimate for $\\beta_{white}$ is overly sensitive to the sample used (at least with regards to the debt obligations)"
   ]
  },
  {
   "cell_type": "code",
   "execution_count": 16,
   "metadata": {},
   "outputs": [
    {
     "name": "stdout",
     "output_type": "stream",
     "text": [
      "The sample mean of stotal is: 0.04748285189270973\n",
      "The standard deviation is: 0.8535629510879517\n"
     ]
    }
   ],
   "source": [
    "# Exercise 8\n",
    "twoyear = pd.read_stata(\"stata/twoyear.dta\")\n",
    "print(\"The sample mean of stotal is:\", twoyear.stotal.mean())\n",
    "print(\"The standard deviation is:\", twoyear.stotal.std())"
   ]
  },
  {
   "cell_type": "code",
   "execution_count": 17,
   "metadata": {},
   "outputs": [
    {
     "name": "stdout",
     "output_type": "stream",
     "text": [
      "                            OLS Regression Results                            \n",
      "==============================================================================\n",
      "Dep. Variable:                 stotal   R-squared:                       0.000\n",
      "Model:                            OLS   Adj. R-squared:                  0.000\n",
      "Method:                 Least Squares   F-statistic:                     1.032\n",
      "Date:                Sat, 06 Jun 2020   Prob (F-statistic):              0.310\n",
      "Time:                        15:32:18   Log-Likelihood:                -8524.3\n",
      "No. Observations:                6763   AIC:                         1.705e+04\n",
      "Df Residuals:                    6761   BIC:                         1.707e+04\n",
      "Df Model:                           1                                         \n",
      "Covariance Type:            nonrobust                                         \n",
      "==============================================================================\n",
      "                 coef    std err          t      P>|t|      [0.025      0.975]\n",
      "------------------------------------------------------------------------------\n",
      "const          0.0429      0.011      3.781      0.000       0.021       0.065\n",
      "jc             0.0137      0.013      1.016      0.310      -0.013       0.040\n",
      "==============================================================================\n",
      "Omnibus:                      302.732   Durbin-Watson:                   2.020\n",
      "Prob(Omnibus):                  0.000   Jarque-Bera (JB):              363.143\n",
      "Skew:                          -0.493   Prob(JB):                     1.39e-79\n",
      "Kurtosis:                       3.563   Cond. No.                         1.59\n",
      "==============================================================================\n",
      "\n",
      "Warnings:\n",
      "[1] Standard Errors assume that the covariance matrix of the errors is correctly specified.\n",
      "                            OLS Regression Results                            \n",
      "==============================================================================\n",
      "Dep. Variable:                 stotal   R-squared:                       0.189\n",
      "Model:                            OLS   Adj. R-squared:                  0.189\n",
      "Method:                 Least Squares   F-statistic:                     1575.\n",
      "Date:                Sat, 06 Jun 2020   Prob (F-statistic):          8.95e-310\n",
      "Time:                        15:32:18   Log-Likelihood:                -7816.8\n",
      "No. Observations:                6763   AIC:                         1.564e+04\n",
      "Df Residuals:                    6761   BIC:                         1.565e+04\n",
      "Df Model:                           1                                         \n",
      "Covariance Type:            nonrobust                                         \n",
      "==============================================================================\n",
      "                 coef    std err          t      P>|t|      [0.025      0.975]\n",
      "------------------------------------------------------------------------------\n",
      "const         -0.2636      0.012    -21.608      0.000      -0.288      -0.240\n",
      "univ           0.1615      0.004     39.683      0.000       0.154       0.169\n",
      "==============================================================================\n",
      "Omnibus:                      312.833   Durbin-Watson:                   2.012\n",
      "Prob(Omnibus):                  0.000   Jarque-Bera (JB):              379.629\n",
      "Skew:                          -0.499   Prob(JB):                     3.67e-83\n",
      "Kurtosis:                       3.594   Cond. No.                         4.10\n",
      "==============================================================================\n",
      "\n",
      "Warnings:\n",
      "[1] Standard Errors assume that the covariance matrix of the errors is correctly specified.\n"
     ]
    }
   ],
   "source": [
    "y = twoyear.stotal\n",
    "X = sm.add_constant(twoyear.jc)\n",
    "\n",
    "model = sm.OLS(y, X).fit()\n",
    "print(model.summary())\n",
    "\n",
    "X = sm.add_constant(twoyear.univ)\n",
    "model = sm.OLS(y, X).fit()\n",
    "print(model.summary())"
   ]
  },
  {
   "cell_type": "code",
   "execution_count": 18,
   "metadata": {},
   "outputs": [
    {
     "name": "stdout",
     "output_type": "stream",
     "text": [
      "                            OLS Regression Results                            \n",
      "==============================================================================\n",
      "Dep. Variable:                  lwage   R-squared:                       0.228\n",
      "Model:                            OLS   Adj. R-squared:                  0.228\n",
      "Method:                 Least Squares   F-statistic:                     500.2\n",
      "Date:                Sat, 06 Jun 2020   Prob (F-statistic):               0.00\n",
      "Time:                        15:32:18   Log-Likelihood:                -3862.5\n",
      "No. Observations:                6763   AIC:                             7735.\n",
      "Df Residuals:                    6758   BIC:                             7769.\n",
      "Df Model:                           4                                         \n",
      "Covariance Type:            nonrobust                                         \n",
      "==============================================================================\n",
      "                 coef    std err          t      P>|t|      [0.025      0.975]\n",
      "------------------------------------------------------------------------------\n",
      "const          1.4953      0.021     70.473      0.000       1.454       1.537\n",
      "jc             0.0631      0.007      9.243      0.000       0.050       0.076\n",
      "univ           0.0686      0.003     26.759      0.000       0.064       0.074\n",
      "exper          0.0049      0.000     31.036      0.000       0.005       0.005\n",
      "stotal         0.0494      0.007      7.251      0.000       0.036       0.063\n",
      "==============================================================================\n",
      "Omnibus:                       86.983   Durbin-Watson:                   1.965\n",
      "Prob(Omnibus):                  0.000   Jarque-Bera (JB):              156.100\n",
      "Skew:                          -0.029   Prob(JB):                     1.27e-34\n",
      "Kurtosis:                       3.742   Cond. No.                         518.\n",
      "==============================================================================\n",
      "\n",
      "Warnings:\n",
      "[1] Standard Errors assume that the covariance matrix of the errors is correctly specified.\n"
     ]
    }
   ],
   "source": [
    "y = twoyear.lwage\n",
    "X = sm.add_constant(twoyear[[\"jc\", \"univ\", \"exper\", \"stotal\"]])\n",
    "\n",
    "model = sm.OLS(y, X).fit()\n",
    "print(model.summary())"
   ]
  },
  {
   "cell_type": "code",
   "execution_count": 19,
   "metadata": {},
   "outputs": [
    {
     "name": "stdout",
     "output_type": "stream",
     "text": [
      "                            OLS Regression Results                            \n",
      "==============================================================================\n",
      "Dep. Variable:                  lwage   R-squared:                       0.228\n",
      "Model:                            OLS   Adj. R-squared:                  0.228\n",
      "Method:                 Least Squares   F-statistic:                     400.2\n",
      "Date:                Sat, 06 Jun 2020   Prob (F-statistic):               0.00\n",
      "Time:                        15:32:19   Log-Likelihood:                -3862.4\n",
      "No. Observations:                6763   AIC:                             7737.\n",
      "Df Residuals:                    6757   BIC:                             7778.\n",
      "Df Model:                           5                                         \n",
      "Covariance Type:            nonrobust                                         \n",
      "==============================================================================\n",
      "                 coef    std err          t      P>|t|      [0.025      0.975]\n",
      "------------------------------------------------------------------------------\n",
      "const          1.4940      0.021     69.635      0.000       1.452       1.536\n",
      "jc             0.0632      0.007      9.251      0.000       0.050       0.077\n",
      "univ           0.0685      0.003     26.508      0.000       0.063       0.074\n",
      "exper          0.0049      0.000     31.036      0.000       0.005       0.005\n",
      "stotal         0.0502      0.007      7.086      0.000       0.036       0.064\n",
      "stotal_sq      0.0019      0.005      0.404      0.686      -0.007       0.011\n",
      "==============================================================================\n",
      "Omnibus:                       86.922   Durbin-Watson:                   1.965\n",
      "Prob(Omnibus):                  0.000   Jarque-Bera (JB):              155.915\n",
      "Skew:                          -0.030   Prob(JB):                     1.39e-34\n",
      "Kurtosis:                       3.741   Cond. No.                         524.\n",
      "==============================================================================\n",
      "\n",
      "Warnings:\n",
      "[1] Standard Errors assume that the covariance matrix of the errors is correctly specified.\n"
     ]
    }
   ],
   "source": [
    "twoyear[\"stotal_sq\"] = np.power(twoyear.stotal, 2)\n",
    "\n",
    "X = sm.add_constant(twoyear[[\"jc\", \"univ\", \"exper\", \"stotal\", \"stotal_sq\"]])\n",
    "\n",
    "model = sm.OLS(y, X).fit()\n",
    "print(model.summary())"
   ]
  },
  {
   "cell_type": "code",
   "execution_count": 20,
   "metadata": {},
   "outputs": [
    {
     "name": "stdout",
     "output_type": "stream",
     "text": [
      "                            OLS Regression Results                            \n",
      "==============================================================================\n",
      "Dep. Variable:                  lwage   R-squared:                       0.229\n",
      "Model:                            OLS   Adj. R-squared:                  0.228\n",
      "Method:                 Least Squares   F-statistic:                     334.2\n",
      "Date:                Sat, 06 Jun 2020   Prob (F-statistic):               0.00\n",
      "Time:                        15:32:19   Log-Likelihood:                -3860.5\n",
      "No. Observations:                6763   AIC:                             7735.\n",
      "Df Residuals:                    6756   BIC:                             7783.\n",
      "Df Model:                           6                                         \n",
      "Covariance Type:            nonrobust                                         \n",
      "===============================================================================\n",
      "                  coef    std err          t      P>|t|      [0.025      0.975]\n",
      "-------------------------------------------------------------------------------\n",
      "const           1.4959      0.021     70.419      0.000       1.454       1.538\n",
      "jc              0.0636      0.007      9.225      0.000       0.050       0.077\n",
      "univ            0.0690      0.003     25.136      0.000       0.064       0.074\n",
      "exper           0.0049      0.000     31.079      0.000       0.005       0.005\n",
      "stotal          0.0582      0.009      6.691      0.000       0.041       0.075\n",
      "stotal_jc      -0.0169      0.009     -1.820      0.069      -0.035       0.001\n",
      "stotal_univ    -0.0027      0.003     -0.892      0.373      -0.009       0.003\n",
      "==============================================================================\n",
      "Omnibus:                       86.615   Durbin-Watson:                   1.965\n",
      "Prob(Omnibus):                  0.000   Jarque-Bera (JB):              155.038\n",
      "Skew:                          -0.031   Prob(JB):                     2.16e-34\n",
      "Kurtosis:                       3.739   Cond. No.                         519.\n",
      "==============================================================================\n",
      "\n",
      "Warnings:\n",
      "[1] Standard Errors assume that the covariance matrix of the errors is correctly specified.\n",
      "<F test: F=array([[1.95942058]]), p=0.14102014620208694, df_denom=6.76e+03, df_num=2>\n"
     ]
    }
   ],
   "source": [
    "twoyear[\"stotal_jc\"] = twoyear.stotal * twoyear.jc\n",
    "twoyear[\"stotal_univ\"] = twoyear.stotal * twoyear.univ\n",
    "\n",
    "X = sm.add_constant(twoyear[[\"jc\", \"univ\", \"exper\", \"stotal\", \"stotal_jc\", \"stotal_univ\"]])\n",
    "\n",
    "model = sm.OLS(y, X).fit()\n",
    "print(model.summary())\n",
    "print(model.f_test(\"(stotal_jc = 0, stotal_univ = 0)\"))"
   ]
  },
  {
   "cell_type": "markdown",
   "metadata": {},
   "source": [
    "C8.i The mean is 0.047 and the standard deviation is 0.854.\n",
    "\n",
    "C8.ii Only univ is statistically related to stotal. We know this because of the significant relationship between univ and stotal (while jc small and not significant).\n",
    "\n",
    "C8.iii The effect of univ is smaller and more precise.\n",
    "\n",
    "C8.iv Adding $stotal^2$ produces a small coefficient that is not significantly different from 0.\n",
    "\n",
    "C8.v The interaction terms are not jointly significant even at the 10% level.\n",
    "\n",
    "C8.vi The model from part iii should be enough. We did not find any evidence that any of the alternatives explored in iv or v added anything to the analysis."
   ]
  },
  {
   "cell_type": "code",
   "execution_count": 21,
   "metadata": {},
   "outputs": [
    {
     "name": "stdout",
     "output_type": "stream",
     "text": [
      "                            OLS Regression Results                            \n",
      "==============================================================================\n",
      "Dep. Variable:                 nettfa   R-squared:                       0.202\n",
      "Model:                            OLS   Adj. R-squared:                  0.202\n",
      "Method:                 Least Squares   F-statistic:                     391.6\n",
      "Date:                Sat, 06 Jun 2020   Prob (F-statistic):               0.00\n",
      "Time:                        15:32:19   Log-Likelihood:                -50681.\n",
      "No. Observations:                9275   AIC:                         1.014e+05\n",
      "Df Residuals:                    9268   BIC:                         1.014e+05\n",
      "Df Model:                           6                                         \n",
      "Covariance Type:            nonrobust                                         \n",
      "==============================================================================\n",
      "                 coef    std err          t      P>|t|      [0.025      0.975]\n",
      "------------------------------------------------------------------------------\n",
      "const         21.1978      9.992      2.121      0.034       1.611      40.785\n",
      "inc           -0.2702      0.075     -3.622      0.000      -0.416      -0.124\n",
      "incsq          0.0102      0.001     17.400      0.000       0.009       0.011\n",
      "age           -1.9398      0.483     -4.012      0.000      -2.887      -0.992\n",
      "agesq          0.0346      0.006      6.230      0.000       0.024       0.045\n",
      "male           3.3690      1.486      2.267      0.023       0.457       6.282\n",
      "e401k          9.7135      1.277      7.606      0.000       7.210      12.217\n",
      "==============================================================================\n",
      "Omnibus:                    14617.968   Durbin-Watson:                   1.939\n",
      "Prob(Omnibus):                  0.000   Jarque-Bera (JB):         13728295.443\n",
      "Skew:                           9.935   Prob(JB):                         0.00\n",
      "Kurtosis:                     190.426   Cond. No.                     6.53e+04\n",
      "==============================================================================\n",
      "\n",
      "Warnings:\n",
      "[1] Standard Errors assume that the covariance matrix of the errors is correctly specified.\n",
      "[2] The condition number is large, 6.53e+04. This might indicate that there are\n",
      "strong multicollinearity or other numerical problems.\n"
     ]
    }
   ],
   "source": [
    "# Exercise 9\n",
    "\n",
    "k401subs = pd.read_stata(\"stata/401ksubs.dta\")\n",
    "y = k401subs.nettfa\n",
    "X = sm.add_constant(k401subs[[\"inc\", \"incsq\", \"age\", \"agesq\", \"male\", \"e401k\"]])\n",
    "\n",
    "model = sm.OLS(y, X).fit()\n",
    "print(model.summary())"
   ]
  },
  {
   "cell_type": "code",
   "execution_count": 22,
   "metadata": {},
   "outputs": [
    {
     "name": "stdout",
     "output_type": "stream",
     "text": [
      "(346.6439627872171, 8.107902005744488e-72, 59.97177669516518, 3.338601184163747e-73)\n"
     ]
    }
   ],
   "source": [
    "import statsmodels.stats.diagnostic as smd\n",
    "print(smd.het_breuschpagan(model.resid, X))"
   ]
  },
  {
   "cell_type": "code",
   "execution_count": 23,
   "metadata": {},
   "outputs": [
    {
     "name": "stdout",
     "output_type": "stream",
     "text": [
      "                         QuantReg Regression Results                          \n",
      "==============================================================================\n",
      "Dep. Variable:                 nettfa   Pseudo R-squared:               0.1088\n",
      "Model:                       QuantReg   Bandwidth:                       2.514\n",
      "Method:                 Least Squares   Sparsity:                        16.54\n",
      "Date:                Sat, 06 Jun 2020   No. Observations:                 9275\n",
      "Time:                        15:32:19   Df Residuals:                     9268\n",
      "                                        Df Model:                            6\n",
      "==============================================================================\n",
      "                 coef    std err          t      P>|t|      [0.025      0.975]\n",
      "------------------------------------------------------------------------------\n",
      "const         12.4912      1.446      8.637      0.000       9.656      15.326\n",
      "inc           -0.2616      0.011    -24.221      0.000      -0.283      -0.240\n",
      "incsq          0.0071    8.5e-05     83.381      0.000       0.007       0.007\n",
      "age           -0.7227      0.070    -10.327      0.000      -0.860      -0.585\n",
      "agesq          0.0111      0.001     13.789      0.000       0.009       0.013\n",
      "male           1.0184      0.215      4.735      0.000       0.597       1.440\n",
      "e401k          3.7373      0.185     20.218      0.000       3.375       4.100\n",
      "==============================================================================\n",
      "\n",
      "The condition number is large, 6.53e+04. This might indicate that there are\n",
      "strong multicollinearity or other numerical problems.\n"
     ]
    }
   ],
   "source": [
    "model = sm.QuantReg(y, X).fit(q = .5)\n",
    "print(model.summary())"
   ]
  },
  {
   "cell_type": "markdown",
   "metadata": {},
   "source": [
    "C9.i e401k indicates that on average people who are eligible for a 401k have \\$9,713 higher financial assets.\n",
    "\n",
    "C9.ii There is strong evidence of heteroskedasticity. The p-value is near zero (F statistic of 59.97)\n",
    "\n",
    "C9.iii LAD produces a noticeably smaller coefficient for e401k. This would mean the median individiual eligible for a 401k has about \\$3,737 more in financial assets.\n",
    "\n",
    "C9.iv The difference between the two mark the difference between mean and median. Given that we are considering financial assets it makes sense that the mean would be higher than the median (as with income). We would expect futher investigation to show a skewed distribution."
   ]
  },
  {
   "cell_type": "code",
   "execution_count": 24,
   "metadata": {},
   "outputs": [
    {
     "name": "stdout",
     "output_type": "stream",
     "text": [
      "0.4157303370786517 of jtrain2 received job training\n",
      "0.0691588785046729 of jtrain3 received job training\n"
     ]
    }
   ],
   "source": [
    "# Exercise 10\n",
    "\n",
    "jtrain2 = pd.read_stata(\"stata/JTRAIN2.DTA\")\n",
    "jtrain3 = pd.read_stata(\"stata/jtrain3.dta\")\n",
    "\n",
    "print(jtrain2.train.sum() / jtrain2.shape[0], \"of jtrain2 received job training\")\n",
    "print(jtrain3.train.sum() / jtrain3.shape[0], \"of jtrain3 received job training\")"
   ]
  },
  {
   "cell_type": "code",
   "execution_count": 25,
   "metadata": {},
   "outputs": [
    {
     "name": "stdout",
     "output_type": "stream",
     "text": [
      "                            OLS Regression Results                            \n",
      "==============================================================================\n",
      "Dep. Variable:                   re78   R-squared:                       0.018\n",
      "Model:                            OLS   Adj. R-squared:                  0.016\n",
      "Method:                 Least Squares   F-statistic:                     8.039\n",
      "Date:                Sat, 06 Jun 2020   Prob (F-statistic):            0.00479\n",
      "Time:                        15:32:19   Log-Likelihood:                -1468.8\n",
      "No. Observations:                 445   AIC:                             2942.\n",
      "Df Residuals:                     443   BIC:                             2950.\n",
      "Df Model:                           1                                         \n",
      "Covariance Type:            nonrobust                                         \n",
      "==============================================================================\n",
      "                 coef    std err          t      P>|t|      [0.025      0.975]\n",
      "------------------------------------------------------------------------------\n",
      "const          4.5548      0.408     11.162      0.000       3.753       5.357\n",
      "train          1.7943      0.633      2.835      0.005       0.551       3.038\n",
      "==============================================================================\n",
      "Omnibus:                      282.071   Durbin-Watson:                   2.064\n",
      "Prob(Omnibus):                  0.000   Jarque-Bera (JB):             3430.874\n",
      "Skew:                           2.547   Prob(JB):                         0.00\n",
      "Kurtosis:                      15.613   Cond. No.                         2.47\n",
      "==============================================================================\n",
      "\n",
      "Warnings:\n",
      "[1] Standard Errors assume that the covariance matrix of the errors is correctly specified.\n"
     ]
    }
   ],
   "source": [
    "y = jtrain2.re78\n",
    "X = sm.add_constant(jtrain2[[\"train\"]])\n",
    "model = sm.OLS(y, X).fit()\n",
    "\n",
    "print(model.summary())"
   ]
  },
  {
   "cell_type": "code",
   "execution_count": 26,
   "metadata": {},
   "outputs": [
    {
     "name": "stdout",
     "output_type": "stream",
     "text": [
      "                            OLS Regression Results                            \n",
      "==============================================================================\n",
      "Dep. Variable:                   re78   R-squared:                       0.055\n",
      "Model:                            OLS   Adj. R-squared:                  0.040\n",
      "Method:                 Least Squares   F-statistic:                     3.617\n",
      "Date:                Sat, 06 Jun 2020   Prob (F-statistic):           0.000840\n",
      "Time:                        15:32:19   Log-Likelihood:                -1460.3\n",
      "No. Observations:                 445   AIC:                             2937.\n",
      "Df Residuals:                     437   BIC:                             2969.\n",
      "Df Model:                           7                                         \n",
      "Covariance Type:            nonrobust                                         \n",
      "==============================================================================\n",
      "                 coef    std err          t      P>|t|      [0.025      0.975]\n",
      "------------------------------------------------------------------------------\n",
      "const          0.6741      2.423      0.278      0.781      -4.088       5.436\n",
      "train          1.6800      0.631      2.663      0.008       0.440       2.920\n",
      "re74           0.0833      0.077      1.089      0.277      -0.067       0.234\n",
      "re75           0.0468      0.131      0.358      0.721      -0.210       0.304\n",
      "educ           0.4036      0.175      2.308      0.021       0.060       0.747\n",
      "age            0.0543      0.044      1.240      0.216      -0.032       0.140\n",
      "black         -2.1801      1.156     -1.887      0.060      -4.451       0.091\n",
      "hisp           0.1436      1.541      0.093      0.926      -2.885       3.172\n",
      "==============================================================================\n",
      "Omnibus:                      284.815   Durbin-Watson:                   2.058\n",
      "Prob(Omnibus):                  0.000   Jarque-Bera (JB):             3771.053\n",
      "Skew:                           2.545   Prob(JB):                         0.00\n",
      "Kurtosis:                      16.322   Cond. No.                         245.\n",
      "==============================================================================\n",
      "\n",
      "Warnings:\n",
      "[1] Standard Errors assume that the covariance matrix of the errors is correctly specified.\n"
     ]
    }
   ],
   "source": [
    "X = sm.add_constant(jtrain2[[\"train\", \"re74\", \"re75\", \"educ\", \"age\", \"black\", \"hisp\"]])\n",
    "model = sm.OLS(y, X).fit()\n",
    "\n",
    "print(model.summary())"
   ]
  },
  {
   "cell_type": "code",
   "execution_count": 27,
   "metadata": {},
   "outputs": [
    {
     "name": "stdout",
     "output_type": "stream",
     "text": [
      "                            OLS Regression Results                            \n",
      "==============================================================================\n",
      "Dep. Variable:                   re78   R-squared:                       0.061\n",
      "Model:                            OLS   Adj. R-squared:                  0.061\n",
      "Method:                 Least Squares   F-statistic:                     173.4\n",
      "Date:                Sat, 06 Jun 2020   Prob (F-statistic):           2.03e-38\n",
      "Time:                        15:32:19   Log-Likelihood:                -11066.\n",
      "No. Observations:                2675   AIC:                         2.214e+04\n",
      "Df Residuals:                    2673   BIC:                         2.215e+04\n",
      "Df Model:                           1                                         \n",
      "Covariance Type:            nonrobust                                         \n",
      "==============================================================================\n",
      "                 coef    std err          t      P>|t|      [0.025      0.975]\n",
      "------------------------------------------------------------------------------\n",
      "const         21.5539      0.304     70.985      0.000      20.959      22.149\n",
      "train        -15.2048      1.155    -13.169      0.000     -17.469     -12.941\n",
      "==============================================================================\n",
      "Omnibus:                      715.201   Durbin-Watson:                   0.919\n",
      "Prob(Omnibus):                  0.000   Jarque-Bera (JB):             2698.169\n",
      "Skew:                           1.278   Prob(JB):                         0.00\n",
      "Kurtosis:                       7.205   Cond. No.                         3.96\n",
      "==============================================================================\n",
      "\n",
      "Warnings:\n",
      "[1] Standard Errors assume that the covariance matrix of the errors is correctly specified.\n",
      "                            OLS Regression Results                            \n",
      "==============================================================================\n",
      "Dep. Variable:                   re78   R-squared:                       0.586\n",
      "Model:                            OLS   Adj. R-squared:                  0.584\n",
      "Method:                 Least Squares   F-statistic:                     538.4\n",
      "Date:                Sat, 06 Jun 2020   Prob (F-statistic):               0.00\n",
      "Time:                        15:32:19   Log-Likelihood:                -9971.5\n",
      "No. Observations:                2675   AIC:                         1.996e+04\n",
      "Df Residuals:                    2667   BIC:                         2.001e+04\n",
      "Df Model:                           7                                         \n",
      "Covariance Type:            nonrobust                                         \n",
      "==============================================================================\n",
      "                 coef    std err          t      P>|t|      [0.025      0.975]\n",
      "------------------------------------------------------------------------------\n",
      "const          1.6476      1.301      1.266      0.205      -0.903       4.198\n",
      "train          0.2132      0.853      0.250      0.803      -1.460       1.887\n",
      "re74           0.2810      0.028     10.071      0.000       0.226       0.336\n",
      "re75           0.5693      0.028     20.648      0.000       0.515       0.623\n",
      "educ           0.5201      0.075      6.914      0.000       0.373       0.668\n",
      "age           -0.0751      0.020     -3.667      0.000      -0.115      -0.035\n",
      "black         -0.6477      0.492     -1.317      0.188      -1.612       0.317\n",
      "hisp           2.2026      1.093      2.016      0.044       0.060       4.345\n",
      "==============================================================================\n",
      "Omnibus:                      993.426   Durbin-Watson:                   1.845\n",
      "Prob(Omnibus):                  0.000   Jarque-Bera (JB):            21879.254\n",
      "Skew:                           1.227   Prob(JB):                         0.00\n",
      "Kurtosis:                      16.794   Cond. No.                         326.\n",
      "==============================================================================\n",
      "\n",
      "Warnings:\n",
      "[1] Standard Errors assume that the covariance matrix of the errors is correctly specified.\n"
     ]
    }
   ],
   "source": [
    "y = jtrain3.re78\n",
    "X = sm.add_constant(jtrain3[[\"train\"]])\n",
    "model = sm.OLS(y, X).fit()\n",
    "\n",
    "print(model.summary())\n",
    "\n",
    "X = sm.add_constant(jtrain3[[\"train\", \"re74\", \"re75\", \"educ\", \"age\", \"black\", \"hisp\"]])\n",
    "model = sm.OLS(y, X).fit()\n",
    "\n",
    "print(model.summary())"
   ]
  },
  {
   "cell_type": "code",
   "execution_count": 28,
   "metadata": {},
   "outputs": [
    {
     "name": "stdout",
     "output_type": "stream",
     "text": [
      "jtrain2 avgre\n",
      "Avg. 1.7397023439407349\n",
      "S.d. 3.9000966548919678\n",
      "Min. 0.0\n",
      "Max. 24.37645149230957\n",
      "jtrain3 avgre\n",
      "Avg. 18.040435791015625\n",
      "S.d. 13.293451309204102\n",
      "Min. 0.0\n",
      "Max. 146.9010009765625\n"
     ]
    }
   ],
   "source": [
    "jtrain2[\"avgre\"] = (jtrain2.re74 + jtrain2.re75) / 2\n",
    "jtrain3[\"avgre\"] = (jtrain3.re74 + jtrain3.re75) / 2\n",
    "\n",
    "print(\"jtrain2 avgre\")\n",
    "print(\"Avg.\", jtrain2.avgre.mean())\n",
    "print(\"S.d.\", jtrain2.avgre.std())\n",
    "print(\"Min.\", jtrain2.avgre.min())\n",
    "print(\"Max.\", jtrain2.avgre.max())\n",
    "\n",
    "print(\"jtrain3 avgre\")\n",
    "print(\"Avg.\", jtrain3.avgre.mean())\n",
    "print(\"S.d.\", jtrain3.avgre.std())\n",
    "print(\"Min.\", jtrain3.avgre.min())\n",
    "print(\"Max.\", jtrain3.avgre.max())"
   ]
  },
  {
   "cell_type": "code",
   "execution_count": 29,
   "metadata": {},
   "outputs": [
    {
     "name": "stdout",
     "output_type": "stream",
     "text": [
      "                            OLS Regression Results                            \n",
      "==============================================================================\n",
      "Dep. Variable:                   re78   R-squared:                       0.046\n",
      "Model:                            OLS   Adj. R-squared:                  0.030\n",
      "Method:                 Least Squares   F-statistic:                     2.904\n",
      "Date:                Sat, 06 Jun 2020   Prob (F-statistic):            0.00564\n",
      "Time:                        15:32:20   Log-Likelihood:                -1393.0\n",
      "No. Observations:                 427   AIC:                             2802.\n",
      "Df Residuals:                     419   BIC:                             2834.\n",
      "Df Model:                           7                                         \n",
      "Covariance Type:            nonrobust                                         \n",
      "==============================================================================\n",
      "                 coef    std err          t      P>|t|      [0.025      0.975]\n",
      "------------------------------------------------------------------------------\n",
      "const          1.7369      2.446      0.710      0.478      -3.071       6.545\n",
      "train          1.5830      0.632      2.503      0.013       0.340       2.826\n",
      "re74          -0.1168      0.124     -0.943      0.346      -0.360       0.127\n",
      "re75           0.1732      0.189      0.917      0.359      -0.198       0.544\n",
      "educ           0.3582      0.176      2.036      0.042       0.012       0.704\n",
      "age            0.0440      0.044      1.003      0.317      -0.042       0.130\n",
      "black         -2.3835      1.168     -2.041      0.042      -4.679      -0.088\n",
      "hisp          -0.3694      1.551     -0.238      0.812      -3.418       2.679\n",
      "==============================================================================\n",
      "Omnibus:                      289.938   Durbin-Watson:                   2.074\n",
      "Prob(Omnibus):                  0.000   Jarque-Bera (JB):             4410.023\n",
      "Skew:                           2.693   Prob(JB):                         0.00\n",
      "Kurtosis:                      17.794   Cond. No.                         246.\n",
      "==============================================================================\n",
      "\n",
      "Warnings:\n",
      "[1] Standard Errors assume that the covariance matrix of the errors is correctly specified.\n"
     ]
    }
   ],
   "source": [
    "jtrain2_limited = jtrain2[jtrain2.avgre <= 10]\n",
    "\n",
    "y = jtrain2_limited.re78\n",
    "X = sm.add_constant(jtrain2_limited[[\"train\", \"re74\", \"re75\", \"educ\", \"age\", \"black\", \"hisp\"]])\n",
    "model = sm.OLS(y, X).fit()\n",
    "\n",
    "print(model.summary())"
   ]
  },
  {
   "cell_type": "code",
   "execution_count": 30,
   "metadata": {},
   "outputs": [
    {
     "name": "stdout",
     "output_type": "stream",
     "text": [
      "                            OLS Regression Results                            \n",
      "==============================================================================\n",
      "Dep. Variable:                   re78   R-squared:                       0.234\n",
      "Model:                            OLS   Adj. R-squared:                  0.227\n",
      "Method:                 Least Squares   F-statistic:                     33.11\n",
      "Date:                Sat, 06 Jun 2020   Prob (F-statistic):           2.89e-40\n",
      "Time:                        15:32:20   Log-Likelihood:                -2668.6\n",
      "No. Observations:                 765   AIC:                             5353.\n",
      "Df Residuals:                     757   BIC:                             5390.\n",
      "Df Model:                           7                                         \n",
      "Covariance Type:            nonrobust                                         \n",
      "==============================================================================\n",
      "                 coef    std err          t      P>|t|      [0.025      0.975]\n",
      "------------------------------------------------------------------------------\n",
      "const          3.4480      2.141      1.610      0.108      -0.756       7.652\n",
      "train          1.8445      0.893      2.065      0.039       0.091       3.598\n",
      "re74           0.3131      0.069      4.525      0.000       0.177       0.449\n",
      "re75           0.7743      0.076     10.247      0.000       0.626       0.923\n",
      "educ           0.3283      0.110      2.975      0.003       0.112       0.545\n",
      "age           -0.0832      0.031     -2.710      0.007      -0.143      -0.023\n",
      "black         -1.9733      0.721     -2.738      0.006      -3.388      -0.558\n",
      "hisp          -1.1007      1.432     -0.769      0.442      -3.912       1.710\n",
      "==============================================================================\n",
      "Omnibus:                      414.650   Durbin-Watson:                   1.951\n",
      "Prob(Omnibus):                  0.000   Jarque-Bera (JB):             4127.096\n",
      "Skew:                           2.252   Prob(JB):                         0.00\n",
      "Kurtosis:                      13.450   Cond. No.                         276.\n",
      "==============================================================================\n",
      "\n",
      "Warnings:\n",
      "[1] Standard Errors assume that the covariance matrix of the errors is correctly specified.\n"
     ]
    }
   ],
   "source": [
    "jtrain3_limited = jtrain3[jtrain3.avgre <= 10]\n",
    "\n",
    "y = jtrain3_limited.re78\n",
    "X = sm.add_constant(jtrain3_limited[[\"train\", \"re74\", \"re75\", \"educ\", \"age\", \"black\", \"hisp\"]])\n",
    "model = sm.OLS(y, X).fit()\n",
    "\n",
    "print(model.summary())"
   ]
  },
  {
   "cell_type": "code",
   "execution_count": 31,
   "metadata": {},
   "outputs": [
    {
     "name": "stdout",
     "output_type": "stream",
     "text": [
      "                            OLS Regression Results                            \n",
      "==============================================================================\n",
      "Dep. Variable:                   re78   R-squared:                       0.025\n",
      "Model:                            OLS   Adj. R-squared:                  0.022\n",
      "Method:                 Least Squares   F-statistic:                     7.144\n",
      "Date:                Sat, 06 Jun 2020   Prob (F-statistic):            0.00797\n",
      "Time:                        15:32:20   Log-Likelihood:                -879.83\n",
      "No. Observations:                 280   AIC:                             1764.\n",
      "Df Residuals:                     278   BIC:                             1771.\n",
      "Df Model:                           1                                         \n",
      "Covariance Type:            nonrobust                                         \n",
      "==============================================================================\n",
      "                 coef    std err          t      P>|t|      [0.025      0.975]\n",
      "------------------------------------------------------------------------------\n",
      "const          4.1124      0.430      9.563      0.000       3.266       4.959\n",
      "train          1.8421      0.689      2.673      0.008       0.485       3.199\n",
      "==============================================================================\n",
      "Omnibus:                       80.532   Durbin-Watson:                   2.114\n",
      "Prob(Omnibus):                  0.000   Jarque-Bera (JB):              174.053\n",
      "Skew:                           1.426   Prob(JB):                     1.60e-38\n",
      "Kurtosis:                       5.606   Cond. No.                         2.44\n",
      "==============================================================================\n",
      "\n",
      "Warnings:\n",
      "[1] Standard Errors assume that the covariance matrix of the errors is correctly specified.\n",
      "                            OLS Regression Results                            \n",
      "==============================================================================\n",
      "Dep. Variable:                   re78   R-squared:                       0.064\n",
      "Model:                            OLS   Adj. R-squared:                  0.061\n",
      "Method:                 Least Squares   F-statistic:                     18.52\n",
      "Date:                Sat, 06 Jun 2020   Prob (F-statistic):           2.36e-05\n",
      "Time:                        15:32:20   Log-Likelihood:                -916.01\n",
      "No. Observations:                 271   AIC:                             1836.\n",
      "Df Residuals:                     269   BIC:                             1843.\n",
      "Df Model:                           1                                         \n",
      "Covariance Type:            nonrobust                                         \n",
      "==============================================================================\n",
      "                 coef    std err          t      P>|t|      [0.025      0.975]\n",
      "------------------------------------------------------------------------------\n",
      "const          2.1512      0.560      3.838      0.000       1.048       3.255\n",
      "train          3.8033      0.884      4.303      0.000       2.063       5.543\n",
      "==============================================================================\n",
      "Omnibus:                      273.496   Durbin-Watson:                   2.136\n",
      "Prob(Omnibus):                  0.000   Jarque-Bera (JB):             8961.344\n",
      "Skew:                           4.128   Prob(JB):                         0.00\n",
      "Kurtosis:                      29.935   Cond. No.                         2.45\n",
      "==============================================================================\n",
      "\n",
      "Warnings:\n",
      "[1] Standard Errors assume that the covariance matrix of the errors is correctly specified.\n"
     ]
    }
   ],
   "source": [
    "jtrain2_limited = jtrain2[(jtrain2.unem74 == 1) & (jtrain2.unem75 == 1)]\n",
    "\n",
    "y = jtrain2_limited.re78\n",
    "X = sm.add_constant(jtrain2_limited[[\"train\"]])\n",
    "model = sm.OLS(y, X).fit()\n",
    "\n",
    "print(model.summary())\n",
    "\n",
    "jtrain3_limited = jtrain3[(jtrain3.unem74 == 1) & (jtrain3.unem75 == 1)]\n",
    "\n",
    "y = jtrain3_limited.re78\n",
    "X = sm.add_constant(jtrain3_limited[[\"train\"]])\n",
    "model = sm.OLS(y, X).fit()\n",
    "\n",
    "print(model.summary())"
   ]
  },
  {
   "cell_type": "markdown",
   "metadata": {},
   "source": [
    "C10.i 41.5% of jtrain2 participated in training while only 6.9% of jtrain3 participated. This indicates the difference between the experiment (which would ideally have 50%) and self selection.\n",
    "\n",
    "C10.ii The estimated effect of job trainign on earnings is \\$1,790 (in real terms).\n",
    "\n",
    "C10.iii The difference after the controls is about \\$100 less, which is not a very large effect. This makes sense since this is experimental data and so it is reasonable to assume that the controls that were previously in the error term were uncorrelated with the training variable.\n",
    "\n",
    "C10.iv The simple regression implies the training program reduces real earnings by \\\\$15,204, while the regression with controls, while controls produce an estimate of about \\$200 (and not statistically significant). We have already remarked that this sample is self-selected and we are seeing the specific consequence of low earners choosing job training. The difference between the two estimates is attributible to factors that were unaccounted for in the simple regression.\n",
    "\n",
    "C10.v jtrain2 has an average of 1.74, a standard deviation of 3.90, a miin of 0 and a max of 24.38. jtrain3 has an average of 18.04, standard deviation of of 13.29, a min of 0 and a max of 146.90. Both cannot be representative.\n",
    "\n",
    "C10.vi For jtrain2 the effect is about \\\\$1,580, not to different from before. From jtrain3 the effect is about \\$1,845, quite a bit closer to the estimate from the experiment.\n",
    "\n",
    "C10.vii jtrain2's estimate is 1.84 compared to jtrain3's 3.80.\n",
    "\n",
    "C10.viii The effects are closer when we have comparable samples (such as the average real income case). The divergence between the two data sets came from the smaller proportion of people looking for a job, entangling the effect of the training program with the effect of unemployment."
   ]
  },
  {
   "cell_type": "code",
   "execution_count": 32,
   "metadata": {},
   "outputs": [],
   "source": [
    "# Exercise 11\n",
    "murder = pd.read_stata(\"stata/MURDER.DTA\")\n",
    "murder[\"mrdrte_lag\"] = murder.mrdrte.shift(1)\n",
    "murder_1993 = murder[murder.year == 93]"
   ]
  },
  {
   "cell_type": "code",
   "execution_count": 33,
   "metadata": {},
   "outputs": [
    {
     "name": "stdout",
     "output_type": "stream",
     "text": [
      "                            OLS Regression Results                            \n",
      "==============================================================================\n",
      "Dep. Variable:                 mrdrte   R-squared:                       0.115\n",
      "Model:                            OLS   Adj. R-squared:                  0.078\n",
      "Method:                 Least Squares   F-statistic:                     3.126\n",
      "Date:                Sat, 06 Jun 2020   Prob (F-statistic):             0.0529\n",
      "Time:                        15:32:20   Log-Likelihood:                -189.70\n",
      "No. Observations:                  51   AIC:                             385.4\n",
      "Df Residuals:                      48   BIC:                             391.2\n",
      "Df Model:                           2                                         \n",
      "Covariance Type:            nonrobust                                         \n",
      "==============================================================================\n",
      "                 coef    std err          t      P>|t|      [0.025      0.975]\n",
      "------------------------------------------------------------------------------\n",
      "const         -6.5686      6.315     -1.040      0.303     -19.266       6.128\n",
      "exec           0.0849      0.288      0.295      0.769      -0.494       0.663\n",
      "unem           2.4158      0.981      2.463      0.017       0.443       4.388\n",
      "==============================================================================\n",
      "Omnibus:                       94.666   Durbin-Watson:                   2.098\n",
      "Prob(Omnibus):                  0.000   Jarque-Bera (JB):             2323.736\n",
      "Skew:                           5.210   Prob(JB):                         0.00\n",
      "Kurtosis:                      34.384   Cond. No.                         30.7\n",
      "==============================================================================\n",
      "\n",
      "Warnings:\n",
      "[1] Standard Errors assume that the covariance matrix of the errors is correctly specified.\n"
     ]
    }
   ],
   "source": [
    "y = murder_1993.mrdrte\n",
    "X = sm.add_constant(murder_1993[[\"exec\", \"unem\"]])\n",
    "model = sm.OLS(y, X).fit()\n",
    "\n",
    "print(model.summary())"
   ]
  },
  {
   "cell_type": "code",
   "execution_count": 34,
   "metadata": {},
   "outputs": [
    {
     "data": {
      "text/plain": [
       "131    34\n",
       "Name: exec, dtype: int8"
      ]
     },
     "execution_count": 34,
     "metadata": {},
     "output_type": "execute_result"
    }
   ],
   "source": [
    "murder_1993.loc[murder_1993.state  == \"TX\", \"exec\"]"
   ]
  },
  {
   "cell_type": "code",
   "execution_count": 35,
   "metadata": {},
   "outputs": [
    {
     "name": "stdout",
     "output_type": "stream",
     "text": [
      "                            OLS Regression Results                            \n",
      "==============================================================================\n",
      "Dep. Variable:                 mrdrte   R-squared:                       0.117\n",
      "Model:                            OLS   Adj. R-squared:                  0.061\n",
      "Method:                 Least Squares   F-statistic:                     2.079\n",
      "Date:                Sat, 06 Jun 2020   Prob (F-statistic):              0.116\n",
      "Time:                        15:32:20   Log-Likelihood:                -189.65\n",
      "No. Observations:                  51   AIC:                             387.3\n",
      "Df Residuals:                      47   BIC:                             395.0\n",
      "Df Model:                           3                                         \n",
      "Covariance Type:            nonrobust                                         \n",
      "==============================================================================\n",
      "                 coef    std err          t      P>|t|      [0.025      0.975]\n",
      "------------------------------------------------------------------------------\n",
      "const         -6.8265      6.426     -1.062      0.293     -19.753       6.100\n",
      "exec           0.2949      0.717      0.411      0.683      -1.148       1.738\n",
      "unem           2.4304      0.991      2.452      0.018       0.436       4.425\n",
      "texas         -8.3123     25.971     -0.320      0.750     -60.558      43.934\n",
      "==============================================================================\n",
      "Omnibus:                       95.336   Durbin-Watson:                   2.120\n",
      "Prob(Omnibus):                  0.000   Jarque-Bera (JB):             2386.211\n",
      "Skew:                           5.263   Prob(JB):                         0.00\n",
      "Kurtosis:                      34.814   Cond. No.                         124.\n",
      "==============================================================================\n",
      "\n",
      "Warnings:\n",
      "[1] Standard Errors assume that the covariance matrix of the errors is correctly specified.\n"
     ]
    },
    {
     "name": "stderr",
     "output_type": "stream",
     "text": [
      "/home/systemchalk/anaconda3/lib/python3.7/site-packages/ipykernel_launcher.py:1: SettingWithCopyWarning: \n",
      "A value is trying to be set on a copy of a slice from a DataFrame.\n",
      "Try using .loc[row_indexer,col_indexer] = value instead\n",
      "\n",
      "See the caveats in the documentation: https://pandas.pydata.org/pandas-docs/stable/user_guide/indexing.html#returning-a-view-versus-a-copy\n",
      "  \"\"\"Entry point for launching an IPython kernel.\n"
     ]
    }
   ],
   "source": [
    "murder_1993[\"texas\"] = (murder_1993.state == \"TX\").astype(\"int\")\n",
    "X = sm.add_constant(murder_1993[[\"exec\", \"unem\", \"texas\"]])\n",
    "model = sm.OLS(y, X).fit()\n",
    "\n",
    "print(model.summary())"
   ]
  },
  {
   "cell_type": "code",
   "execution_count": 36,
   "metadata": {},
   "outputs": [
    {
     "name": "stdout",
     "output_type": "stream",
     "text": [
      "                            OLS Regression Results                            \n",
      "==============================================================================\n",
      "Dep. Variable:                 mrdrte   R-squared:                       0.990\n",
      "Model:                            OLS   Adj. R-squared:                  0.990\n",
      "Method:                 Least Squares   F-statistic:                     1609.\n",
      "Date:                Sat, 06 Jun 2020   Prob (F-statistic):           2.34e-47\n",
      "Time:                        15:32:20   Log-Likelihood:                -74.461\n",
      "No. Observations:                  51   AIC:                             156.9\n",
      "Df Residuals:                      47   BIC:                             164.6\n",
      "Df Model:                           3                                         \n",
      "Covariance Type:            nonrobust                                         \n",
      "==============================================================================\n",
      "                 coef    std err          t      P>|t|      [0.025      0.975]\n",
      "------------------------------------------------------------------------------\n",
      "const          0.8826      0.676      1.306      0.198      -0.477       2.242\n",
      "exec          -0.0713      0.030     -2.342      0.023      -0.133      -0.010\n",
      "unem          -0.0903      0.110     -0.819      0.417      -0.312       0.132\n",
      "mrdrte_lag     1.0098      0.015     65.319      0.000       0.979       1.041\n",
      "==============================================================================\n",
      "Omnibus:                        2.097   Durbin-Watson:                   2.153\n",
      "Prob(Omnibus):                  0.351   Jarque-Bera (JB):                1.308\n",
      "Skew:                           0.359   Prob(JB):                        0.520\n",
      "Kurtosis:                       3.318   Cond. No.                         64.6\n",
      "==============================================================================\n",
      "\n",
      "Warnings:\n",
      "[1] Standard Errors assume that the covariance matrix of the errors is correctly specified.\n"
     ]
    }
   ],
   "source": [
    "X = sm.add_constant(murder_1993[[\"exec\", \"unem\", \"mrdrte_lag\"]])\n",
    "model = sm.OLS(y, X).fit()\n",
    "\n",
    "print(model.summary())"
   ]
  },
  {
   "cell_type": "code",
   "execution_count": 37,
   "metadata": {},
   "outputs": [
    {
     "name": "stdout",
     "output_type": "stream",
     "text": [
      "                            OLS Regression Results                            \n",
      "==============================================================================\n",
      "Dep. Variable:                 mrdrte   R-squared:                       0.990\n",
      "Model:                            OLS   Adj. R-squared:                  0.990\n",
      "Method:                 Least Squares   F-statistic:                     1185.\n",
      "Date:                Sat, 06 Jun 2020   Prob (F-statistic):           9.55e-46\n",
      "Time:                        15:32:21   Log-Likelihood:                -74.383\n",
      "No. Observations:                  51   AIC:                             158.8\n",
      "Df Residuals:                      46   BIC:                             168.4\n",
      "Df Model:                           4                                         \n",
      "Covariance Type:            nonrobust                                         \n",
      "==============================================================================\n",
      "                 coef    std err          t      P>|t|      [0.025      0.975]\n",
      "------------------------------------------------------------------------------\n",
      "const          0.8491      0.688      1.234      0.223      -0.536       2.234\n",
      "exec          -0.0454      0.076     -0.599      0.552      -0.198       0.107\n",
      "unem          -0.0879      0.112     -0.788      0.435      -0.313       0.137\n",
      "mrdrte_lag     1.0095      0.016     64.648      0.000       0.978       1.041\n",
      "texas         -1.0243      2.741     -0.374      0.710      -6.542       4.494\n",
      "==============================================================================\n",
      "Omnibus:                        1.456   Durbin-Watson:                   2.154\n",
      "Prob(Omnibus):                  0.483   Jarque-Bera (JB):                0.853\n",
      "Skew:                           0.300   Prob(JB):                        0.653\n",
      "Kurtosis:                       3.201   Cond. No.                         257.\n",
      "==============================================================================\n",
      "\n",
      "Warnings:\n",
      "[1] Standard Errors assume that the covariance matrix of the errors is correctly specified.\n"
     ]
    }
   ],
   "source": [
    "X = sm.add_constant(murder_1993[[\"exec\", \"unem\", \"mrdrte_lag\", \"texas\"]])\n",
    "model = sm.OLS(y, X).fit()\n",
    "\n",
    "print(model.summary())"
   ]
  },
  {
   "cell_type": "code",
   "execution_count": 38,
   "metadata": {},
   "outputs": [
    {
     "name": "stdout",
     "output_type": "stream",
     "text": [
      "                            OLS Regression Results                            \n",
      "==============================================================================\n",
      "Dep. Variable:                 mrdrte   R-squared:                       0.990\n",
      "Model:                            OLS   Adj. R-squared:                  0.990\n",
      "Method:                 Least Squares   F-statistic:                     1577.\n",
      "Date:                Sat, 06 Jun 2020   Prob (F-statistic):           2.29e-46\n",
      "Time:                        15:32:21   Log-Likelihood:                -73.420\n",
      "No. Observations:                  50   AIC:                             154.8\n",
      "Df Residuals:                      46   BIC:                             162.5\n",
      "Df Model:                           3                                         \n",
      "Covariance Type:            nonrobust                                         \n",
      "==============================================================================\n",
      "                 coef    std err          t      P>|t|      [0.025      0.975]\n",
      "------------------------------------------------------------------------------\n",
      "const          0.8491      0.688      1.234      0.223      -0.536       2.234\n",
      "exec          -0.0454      0.076     -0.599      0.552      -0.198       0.107\n",
      "unem          -0.0879      0.112     -0.788      0.435      -0.313       0.137\n",
      "mrdrte_lag     1.0095      0.016     64.648      0.000       0.978       1.041\n",
      "==============================================================================\n",
      "Omnibus:                        1.299   Durbin-Watson:                   2.143\n",
      "Prob(Omnibus):                  0.522   Jarque-Bera (JB):                0.777\n",
      "Skew:                           0.297   Prob(JB):                        0.678\n",
      "Kurtosis:                       3.138   Cond. No.                         64.1\n",
      "==============================================================================\n",
      "\n",
      "Warnings:\n",
      "[1] Standard Errors assume that the covariance matrix of the errors is correctly specified.\n"
     ]
    },
    {
     "name": "stderr",
     "output_type": "stream",
     "text": [
      "/home/systemchalk/anaconda3/lib/python3.7/site-packages/ipykernel_launcher.py:1: UserWarning: Boolean Series key will be reindexed to match DataFrame index.\n",
      "  \"\"\"Entry point for launching an IPython kernel.\n"
     ]
    }
   ],
   "source": [
    "murder_1993_notx = murder_1993[murder.state != \"TX\"]\n",
    "\n",
    "y = murder_1993_notx.mrdrte\n",
    "X = sm.add_constant(murder_1993_notx[[\"exec\", \"unem\", \"mrdrte_lag\"]])\n",
    "model = sm.OLS(y, X).fit()\n",
    "\n",
    "print(model.summary())"
   ]
  },
  {
   "cell_type": "markdown",
   "metadata": {},
   "source": [
    "C11.i The coefficient is small (and positive) and statistically indistinguishable from zero. This is not evidence of a deterrent effect for capital punishment.\n",
    "\n",
    "C11.ii There were 34 executions reported for Texas. The t-statistic from adding it to the regression is not large and it does not appear to be an outlier.\n",
    "\n",
    "C11.iii The coefficient $\\hat{\\beta}_{exec}$ flips to a negative value and is now significant. This would suggest a deterrent effect.\n",
    "\n",
    "C11.iv When adding a Texas dummy the coefficient for exec is no longer significant, but texas itself is not significant and our aim is to see if it is an outlier. From this, we do not have evidence it is an outlier. Dropping it from the regression produces the same coefficients as including the dummy (as expected) and we see that we are no longer able to precisely estimate a deterrent effect by dropping Texas."
   ]
  },
  {
   "cell_type": "code",
   "execution_count": 39,
   "metadata": {},
   "outputs": [
    {
     "name": "stdout",
     "output_type": "stream",
     "text": [
      "                            OLS Regression Results                            \n",
      "==============================================================================\n",
      "Dep. Variable:                lavgsal   R-squared:                       0.488\n",
      "Model:                            OLS   Adj. R-squared:                  0.487\n",
      "Method:                 Least Squares   F-statistic:                     439.4\n",
      "Date:                Sat, 06 Jun 2020   Prob (F-statistic):          4.22e-266\n",
      "Time:                        15:32:21   Log-Likelihood:                 689.98\n",
      "No. Observations:                1848   AIC:                            -1370.\n",
      "Df Residuals:                    1843   BIC:                            -1342.\n",
      "Df Model:                           4                                         \n",
      "Covariance Type:            nonrobust                                         \n",
      "==============================================================================\n",
      "                 coef    std err          t      P>|t|      [0.025      0.975]\n",
      "------------------------------------------------------------------------------\n",
      "const         13.8315      0.110    126.055      0.000      13.616      14.047\n",
      "bs            -0.5161      0.110     -4.702      0.000      -0.731      -0.301\n",
      "lenrol        -0.0284      0.008     -3.360      0.001      -0.045      -0.012\n",
      "lstaff        -0.6906      0.018    -37.615      0.000      -0.727      -0.655\n",
      "lunch         -0.0008      0.000     -4.695      0.000      -0.001      -0.000\n",
      "==============================================================================\n",
      "Omnibus:                       46.324   Durbin-Watson:                   0.921\n",
      "Prob(Omnibus):                  0.000   Jarque-Bera (JB):              105.674\n",
      "Skew:                           0.009   Prob(JB):                     1.13e-23\n",
      "Kurtosis:                       4.171   Cond. No.                     1.46e+03\n",
      "==============================================================================\n",
      "\n",
      "Warnings:\n",
      "[1] Standard Errors assume that the covariance matrix of the errors is correctly specified.\n",
      "[2] The condition number is large, 1.46e+03. This might indicate that there are\n",
      "strong multicollinearity or other numerical problems.\n",
      "                            OLS Regression Results                            \n",
      "==============================================================================\n",
      "Dep. Variable:                lavgsal   R-squared:                       0.488\n",
      "Model:                            OLS   Adj. R-squared:                  0.487\n",
      "Method:                 Least Squares   F-statistic:                     356.5\n",
      "Date:                Sat, 06 Jun 2020   Prob (F-statistic):          1.71e-227\n",
      "Time:                        15:32:21   Log-Likelihood:                 689.98\n",
      "No. Observations:                1848   AIC:                            -1370.\n",
      "Df Residuals:                    1843   BIC:                            -1342.\n",
      "Df Model:                           4                                         \n",
      "Covariance Type:                  HC3                                         \n",
      "==============================================================================\n",
      "                 coef    std err          t      P>|t|      [0.025      0.975]\n",
      "------------------------------------------------------------------------------\n",
      "const         13.8315      0.184     75.278      0.000      13.471      14.192\n",
      "bs            -0.5161      0.338     -1.529      0.126      -1.178       0.146\n",
      "lenrol        -0.0284      0.012     -2.317      0.021      -0.052      -0.004\n",
      "lstaff        -0.6906      0.021    -33.041      0.000      -0.732      -0.650\n",
      "lunch         -0.0008      0.000     -4.270      0.000      -0.001      -0.000\n",
      "==============================================================================\n",
      "Omnibus:                       46.324   Durbin-Watson:                   0.921\n",
      "Prob(Omnibus):                  0.000   Jarque-Bera (JB):              105.674\n",
      "Skew:                           0.009   Prob(JB):                     1.13e-23\n",
      "Kurtosis:                       4.171   Cond. No.                     1.46e+03\n",
      "==============================================================================\n",
      "\n",
      "Warnings:\n",
      "[1] Standard Errors are heteroscedasticity robust (HC3)\n",
      "[2] The condition number is large, 1.46e+03. This might indicate that there are\n",
      "strong multicollinearity or other numerical problems.\n"
     ]
    }
   ],
   "source": [
    "# Exercise 13\n",
    "elem94_95 = pd.read_stata(\"stata/elem94_95.dta\")\n",
    "\n",
    "y = elem94_95.lavgsal\n",
    "X = sm.add_constant(elem94_95[[\"bs\", \"lenrol\", \"lstaff\", \"lunch\"]])\n",
    "model = sm.OLS(y, X).fit()\n",
    "\n",
    "print(model.summary())\n",
    "print(model.get_robustcov_results(cov_type = \"HC3\").summary())"
   ]
  },
  {
   "cell_type": "code",
   "execution_count": 40,
   "metadata": {},
   "outputs": [
    {
     "name": "stdout",
     "output_type": "stream",
     "text": [
      "                            OLS Regression Results                            \n",
      "==============================================================================\n",
      "Dep. Variable:                lavgsal   R-squared:                       0.489\n",
      "Model:                            OLS   Adj. R-squared:                  0.488\n",
      "Method:                 Least Squares   F-statistic:                     439.7\n",
      "Date:                Sat, 06 Jun 2020   Prob (F-statistic):          4.58e-266\n",
      "Time:                        15:32:21   Log-Likelihood:                 707.02\n",
      "No. Observations:                1844   AIC:                            -1404.\n",
      "Df Residuals:                    1839   BIC:                            -1376.\n",
      "Df Model:                           4                                         \n",
      "Covariance Type:            nonrobust                                         \n",
      "==============================================================================\n",
      "                 coef    std err          t      P>|t|      [0.025      0.975]\n",
      "------------------------------------------------------------------------------\n",
      "const         13.7101      0.111    123.071      0.000      13.492      13.929\n",
      "bs            -0.1865      0.126     -1.475      0.140      -0.434       0.061\n",
      "lenrol        -0.0270      0.008     -3.223      0.001      -0.043      -0.011\n",
      "lstaff        -0.6901      0.018    -37.858      0.000      -0.726      -0.654\n",
      "lunch         -0.0008      0.000     -5.017      0.000      -0.001      -0.000\n",
      "==============================================================================\n",
      "Omnibus:                       30.790   Durbin-Watson:                   0.922\n",
      "Prob(Omnibus):                  0.000   Jarque-Bera (JB):               53.026\n",
      "Skew:                           0.105   Prob(JB):                     3.06e-12\n",
      "Kurtosis:                       3.804   Cond. No.                     1.64e+03\n",
      "==============================================================================\n",
      "\n",
      "Warnings:\n",
      "[1] Standard Errors assume that the covariance matrix of the errors is correctly specified.\n",
      "[2] The condition number is large, 1.64e+03. This might indicate that there are\n",
      "strong multicollinearity or other numerical problems.\n",
      "                            OLS Regression Results                            \n",
      "==============================================================================\n",
      "Dep. Variable:                lavgsal   R-squared:                       0.489\n",
      "Model:                            OLS   Adj. R-squared:                  0.488\n",
      "Method:                 Least Squares   F-statistic:                     357.3\n",
      "Date:                Sat, 06 Jun 2020   Prob (F-statistic):          9.50e-228\n",
      "Time:                        15:32:21   Log-Likelihood:                 707.02\n",
      "No. Observations:                1844   AIC:                            -1404.\n",
      "Df Residuals:                    1839   BIC:                            -1376.\n",
      "Df Model:                           4                                         \n",
      "Covariance Type:                  HC3                                         \n",
      "==============================================================================\n",
      "                 coef    std err          t      P>|t|      [0.025      0.975]\n",
      "------------------------------------------------------------------------------\n",
      "const         13.7101      0.140     97.587      0.000      13.435      13.986\n",
      "bs            -0.1865      0.149     -1.253      0.210      -0.478       0.105\n",
      "lenrol        -0.0270      0.012     -2.278      0.023      -0.050      -0.004\n",
      "lstaff        -0.6901      0.021    -32.850      0.000      -0.731      -0.649\n",
      "lunch         -0.0008      0.000     -4.708      0.000      -0.001      -0.000\n",
      "==============================================================================\n",
      "Omnibus:                       30.790   Durbin-Watson:                   0.922\n",
      "Prob(Omnibus):                  0.000   Jarque-Bera (JB):               53.026\n",
      "Skew:                           0.105   Prob(JB):                     3.06e-12\n",
      "Kurtosis:                       3.804   Cond. No.                     1.64e+03\n",
      "==============================================================================\n",
      "\n",
      "Warnings:\n",
      "[1] Standard Errors are heteroscedasticity robust (HC3)\n",
      "[2] The condition number is large, 1.64e+03. This might indicate that there are\n",
      "strong multicollinearity or other numerical problems.\n"
     ]
    }
   ],
   "source": [
    "elem94_95_limit = elem94_95[elem94_95.bs <= .5]\n",
    "\n",
    "y = elem94_95_limit.lavgsal\n",
    "X = sm.add_constant(elem94_95_limit[[\"bs\", \"lenrol\", \"lstaff\", \"lunch\"]])\n",
    "model = sm.OLS(y, X).fit()\n",
    "\n",
    "print(model.summary())\n",
    "print(model.get_robustcov_results(cov_type = \"HC3\").summary())"
   ]
  },
  {
   "cell_type": "code",
   "execution_count": 41,
   "metadata": {},
   "outputs": [
    {
     "data": {
      "text/plain": [
       "67      0.659488\n",
       "1126    0.574776\n",
       "1507    0.999785\n",
       "1669    0.502258\n",
       "Name: bs, dtype: float32"
      ]
     },
     "execution_count": 41,
     "metadata": {},
     "output_type": "execute_result"
    }
   ],
   "source": [
    "elem94_95.bs[elem94_95.bs > .5]"
   ]
  },
  {
   "cell_type": "code",
   "execution_count": 42,
   "metadata": {},
   "outputs": [],
   "source": [
    "elem94_95[\"d68\"] = 0\n",
    "elem94_95[\"d1127\"] = 0\n",
    "elem94_95[\"d1508\"] = 0\n",
    "elem94_95[\"d1670\"] = 0\n",
    "\n",
    "elem94_95.loc[67, \"d68\"] = 1\n",
    "elem94_95.loc[1126, \"d1127\"] = 1\n",
    "elem94_95.loc[1507, \"d1508\"] = 1\n",
    "elem94_95.loc[1669, \"d1670\"] = 1"
   ]
  },
  {
   "cell_type": "code",
   "execution_count": 43,
   "metadata": {},
   "outputs": [
    {
     "name": "stdout",
     "output_type": "stream",
     "text": [
      "                            OLS Regression Results                            \n",
      "==============================================================================\n",
      "Dep. Variable:                lavgsal   R-squared:                       0.499\n",
      "Model:                            OLS   Adj. R-squared:                  0.497\n",
      "Method:                 Least Squares   F-statistic:                     229.3\n",
      "Date:                Sat, 06 Jun 2020   Prob (F-statistic):          7.48e-270\n",
      "Time:                        15:32:21   Log-Likelihood:                 710.55\n",
      "No. Observations:                1848   AIC:                            -1403.\n",
      "Df Residuals:                    1839   BIC:                            -1353.\n",
      "Df Model:                           8                                         \n",
      "Covariance Type:            nonrobust                                         \n",
      "==============================================================================\n",
      "                 coef    std err          t      P>|t|      [0.025      0.975]\n",
      "------------------------------------------------------------------------------\n",
      "const         13.7101      0.111    123.071      0.000      13.492      13.929\n",
      "bs            -0.1865      0.126     -1.475      0.140      -0.434       0.061\n",
      "lenrol        -0.0270      0.008     -3.223      0.001      -0.043      -0.011\n",
      "lstaff        -0.6901      0.018    -37.858      0.000      -0.726      -0.654\n",
      "lunch         -0.0008      0.000     -5.017      0.000      -0.001      -0.000\n",
      "d68           -0.2420      0.170     -1.423      0.155      -0.576       0.092\n",
      "d1127          0.1567      0.168      0.931      0.352      -0.173       0.487\n",
      "d1508         -1.1374      0.185     -6.161      0.000      -1.499      -0.775\n",
      "d1670          0.0834      0.167      0.501      0.617      -0.243       0.410\n",
      "==============================================================================\n",
      "Omnibus:                       31.271   Durbin-Watson:                   0.923\n",
      "Prob(Omnibus):                  0.000   Jarque-Bera (JB):               54.175\n",
      "Skew:                           0.105   Prob(JB):                     1.72e-12\n",
      "Kurtosis:                       3.812   Cond. No.                     2.44e+03\n",
      "==============================================================================\n",
      "\n",
      "Warnings:\n",
      "[1] Standard Errors assume that the covariance matrix of the errors is correctly specified.\n",
      "[2] The condition number is large, 2.44e+03. This might indicate that there are\n",
      "strong multicollinearity or other numerical problems.\n",
      "                            OLS Regression Results                            \n",
      "==============================================================================\n",
      "Dep. Variable:                lavgsal   R-squared:                       0.499\n",
      "Model:                            OLS   Adj. R-squared:                  0.497\n",
      "Method:                 Least Squares   F-statistic:                     178.7\n",
      "Date:                Sat, 06 Jun 2020   Prob (F-statistic):          2.32e-223\n",
      "Time:                        15:32:21   Log-Likelihood:                 710.55\n",
      "No. Observations:                1848   AIC:                            -1403.\n",
      "Df Residuals:                    1839   BIC:                            -1353.\n",
      "Df Model:                           8                                         \n",
      "Covariance Type:                  HC3                                         \n",
      "==============================================================================\n",
      "                 coef    std err          t      P>|t|      [0.025      0.975]\n",
      "------------------------------------------------------------------------------\n",
      "const         13.7101      0.140     97.587      0.000      13.435      13.986\n",
      "bs            -0.1865      0.149     -1.253      0.210      -0.478       0.105\n",
      "lenrol        -0.0270      0.012     -2.278      0.023      -0.050      -0.004\n",
      "lstaff        -0.6901      0.021    -32.850      0.000      -0.731      -0.649\n",
      "lunch         -0.0008      0.000     -4.708      0.000      -0.001      -0.000\n",
      "d68           -0.2420      0.642     -0.377      0.706      -1.501       1.017\n",
      "d1127          0.1567     10.667      0.015      0.988     -20.764      21.077\n",
      "d1508         -1.1374      8.433     -0.135      0.893     -17.677      15.402\n",
      "d1670          0.0834     32.000      0.003      0.998     -62.677      62.844\n",
      "==============================================================================\n",
      "Omnibus:                       31.271   Durbin-Watson:                   0.923\n",
      "Prob(Omnibus):                  0.000   Jarque-Bera (JB):               54.175\n",
      "Skew:                           0.105   Prob(JB):                     1.72e-12\n",
      "Kurtosis:                       3.812   Cond. No.                     2.44e+03\n",
      "==============================================================================\n",
      "\n",
      "Warnings:\n",
      "[1] Standard Errors are heteroscedasticity robust (HC3)\n",
      "[2] The condition number is large, 2.44e+03. This might indicate that there are\n",
      "strong multicollinearity or other numerical problems.\n"
     ]
    }
   ],
   "source": [
    "y = elem94_95.lavgsal\n",
    "X = sm.add_constant(elem94_95[[\"bs\", \"lenrol\", \"lstaff\", \"lunch\", \"d68\", \"d1127\", \"d1508\", \"d1670\"]])\n",
    "model = sm.OLS(y, X).fit()\n",
    "\n",
    "print(model.summary())\n",
    "print(model.get_robustcov_results(cov_type = \"HC3\").summary())"
   ]
  },
  {
   "cell_type": "code",
   "execution_count": 44,
   "metadata": {},
   "outputs": [
    {
     "name": "stdout",
     "output_type": "stream",
     "text": [
      "                            OLS Regression Results                            \n",
      "==============================================================================\n",
      "Dep. Variable:                lavgsal   R-squared:                       0.489\n",
      "Model:                            OLS   Adj. R-squared:                  0.488\n",
      "Method:                 Least Squares   F-statistic:                     441.4\n",
      "Date:                Sat, 06 Jun 2020   Prob (F-statistic):          6.17e-267\n",
      "Time:                        15:32:21   Log-Likelihood:                 708.02\n",
      "No. Observations:                1847   AIC:                            -1406.\n",
      "Df Residuals:                    1842   BIC:                            -1378.\n",
      "Df Model:                           4                                         \n",
      "Covariance Type:            nonrobust                                         \n",
      "==============================================================================\n",
      "                 coef    std err          t      P>|t|      [0.025      0.975]\n",
      "------------------------------------------------------------------------------\n",
      "const         13.7096      0.110    124.163      0.000      13.493      13.926\n",
      "bs            -0.2000      0.120     -1.664      0.096      -0.436       0.036\n",
      "lenrol        -0.0265      0.008     -3.164      0.002      -0.043      -0.010\n",
      "lstaff        -0.6896      0.018    -37.933      0.000      -0.725      -0.654\n",
      "lunch         -0.0008      0.000     -5.058      0.000      -0.001      -0.000\n",
      "==============================================================================\n",
      "Omnibus:                       30.363   Durbin-Watson:                   0.920\n",
      "Prob(Omnibus):                  0.000   Jarque-Bera (JB):               52.006\n",
      "Skew:                           0.104   Prob(JB):                     5.09e-12\n",
      "Kurtosis:                       3.795   Cond. No.                     1.58e+03\n",
      "==============================================================================\n",
      "\n",
      "Warnings:\n",
      "[1] Standard Errors assume that the covariance matrix of the errors is correctly specified.\n",
      "[2] The condition number is large, 1.58e+03. This might indicate that there are\n",
      "strong multicollinearity or other numerical problems.\n",
      "                            OLS Regression Results                            \n",
      "==============================================================================\n",
      "Dep. Variable:                lavgsal   R-squared:                       0.488\n",
      "Model:                            OLS   Adj. R-squared:                  0.487\n",
      "Method:                 Least Squares   F-statistic:                     438.3\n",
      "Date:                Sat, 06 Jun 2020   Prob (F-statistic):          1.46e-265\n",
      "Time:                        15:32:21   Log-Likelihood:                 689.47\n",
      "No. Observations:                1847   AIC:                            -1369.\n",
      "Df Residuals:                    1842   BIC:                            -1341.\n",
      "Df Model:                           4                                         \n",
      "Covariance Type:            nonrobust                                         \n",
      "==============================================================================\n",
      "                 coef    std err          t      P>|t|      [0.025      0.975]\n",
      "------------------------------------------------------------------------------\n",
      "const         13.8266      0.110    125.829      0.000      13.611      14.042\n",
      "bs            -0.4963      0.112     -4.421      0.000      -0.716      -0.276\n",
      "lenrol        -0.0287      0.008     -3.393      0.001      -0.045      -0.012\n",
      "lstaff        -0.6906      0.018    -37.611      0.000      -0.727      -0.655\n",
      "lunch         -0.0008      0.000     -4.720      0.000      -0.001      -0.000\n",
      "==============================================================================\n",
      "Omnibus:                       47.768   Durbin-Watson:                   0.922\n",
      "Prob(Omnibus):                  0.000   Jarque-Bera (JB):              110.796\n",
      "Skew:                           0.004   Prob(JB):                     8.73e-25\n",
      "Kurtosis:                       4.200   Cond. No.                     1.48e+03\n",
      "==============================================================================\n",
      "\n",
      "Warnings:\n",
      "[1] Standard Errors assume that the covariance matrix of the errors is correctly specified.\n",
      "[2] The condition number is large, 1.48e+03. This might indicate that there are\n",
      "strong multicollinearity or other numerical problems.\n",
      "                            OLS Regression Results                            \n",
      "==============================================================================\n",
      "Dep. Variable:                lavgsal   R-squared:                       0.489\n",
      "Model:                            OLS   Adj. R-squared:                  0.487\n",
      "Method:                 Least Squares   F-statistic:                     440.0\n",
      "Date:                Sat, 06 Jun 2020   Prob (F-statistic):          2.64e-266\n",
      "Time:                        15:32:21   Log-Likelihood:                 690.14\n",
      "No. Observations:                1847   AIC:                            -1370.\n",
      "Df Residuals:                    1842   BIC:                            -1343.\n",
      "Df Model:                           4                                         \n",
      "Covariance Type:            nonrobust                                         \n",
      "==============================================================================\n",
      "                 coef    std err          t      P>|t|      [0.025      0.975]\n",
      "------------------------------------------------------------------------------\n",
      "const         13.8472      0.110    125.611      0.000      13.631      14.063\n",
      "bs            -0.5413      0.111     -4.871      0.000      -0.759      -0.323\n",
      "lenrol        -0.0286      0.008     -3.384      0.001      -0.045      -0.012\n",
      "lstaff        -0.6921      0.018    -37.646      0.000      -0.728      -0.656\n",
      "lunch         -0.0007      0.000     -4.581      0.000      -0.001      -0.000\n",
      "==============================================================================\n",
      "Omnibus:                       45.071   Durbin-Watson:                   0.922\n",
      "Prob(Omnibus):                  0.000   Jarque-Bera (JB):              101.309\n",
      "Skew:                           0.015   Prob(JB):                     1.00e-22\n",
      "Kurtosis:                       4.147   Cond. No.                     1.48e+03\n",
      "==============================================================================\n",
      "\n",
      "Warnings:\n",
      "[1] Standard Errors assume that the covariance matrix of the errors is correctly specified.\n",
      "[2] The condition number is large, 1.48e+03. This might indicate that there are\n",
      "strong multicollinearity or other numerical problems.\n",
      "                            OLS Regression Results                            \n",
      "==============================================================================\n",
      "Dep. Variable:                lavgsal   R-squared:                       0.488\n",
      "Model:                            OLS   Adj. R-squared:                  0.487\n",
      "Method:                 Least Squares   F-statistic:                     438.4\n",
      "Date:                Sat, 06 Jun 2020   Prob (F-statistic):          1.26e-265\n",
      "Time:                        15:32:21   Log-Likelihood:                 689.45\n",
      "No. Observations:                1847   AIC:                            -1369.\n",
      "Df Residuals:                    1842   BIC:                            -1341.\n",
      "Df Model:                           4                                         \n",
      "Covariance Type:            nonrobust                                         \n",
      "==============================================================================\n",
      "                 coef    std err          t      P>|t|      [0.025      0.975]\n",
      "------------------------------------------------------------------------------\n",
      "const         13.8305      0.110    126.028      0.000      13.615      14.046\n",
      "bs            -0.5257      0.110     -4.762      0.000      -0.742      -0.309\n",
      "lenrol        -0.0282      0.008     -3.337      0.001      -0.045      -0.012\n",
      "lstaff        -0.6899      0.018    -37.531      0.000      -0.726      -0.654\n",
      "lunch         -0.0008      0.000     -4.687      0.000      -0.001      -0.000\n",
      "==============================================================================\n",
      "Omnibus:                       45.628   Durbin-Watson:                   0.921\n",
      "Prob(Omnibus):                  0.000   Jarque-Bera (JB):              103.265\n",
      "Skew:                           0.012   Prob(JB):                     3.77e-23\n",
      "Kurtosis:                       4.158   Cond. No.                     1.46e+03\n",
      "==============================================================================\n",
      "\n",
      "Warnings:\n",
      "[1] Standard Errors assume that the covariance matrix of the errors is correctly specified.\n",
      "[2] The condition number is large, 1.46e+03. This might indicate that there are\n",
      "strong multicollinearity or other numerical problems.\n"
     ]
    }
   ],
   "source": [
    "elem94_95_limit = elem94_95[elem94_95.d1508 == 0]\n",
    "\n",
    "y = elem94_95_limit.lavgsal\n",
    "X = sm.add_constant(elem94_95_limit[[\"bs\", \"lenrol\", \"lstaff\", \"lunch\"]])\n",
    "model = sm.OLS(y, X).fit()\n",
    "\n",
    "print(model.summary())\n",
    "\n",
    "elem94_95_limit = elem94_95[elem94_95.d68 == 0]\n",
    "\n",
    "y = elem94_95_limit.lavgsal\n",
    "X = sm.add_constant(elem94_95_limit[[\"bs\", \"lenrol\", \"lstaff\", \"lunch\"]])\n",
    "model = sm.OLS(y, X).fit()\n",
    "\n",
    "print(model.summary())\n",
    "\n",
    "elem94_95_limit = elem94_95[elem94_95.d1127 == 0]\n",
    "\n",
    "y = elem94_95_limit.lavgsal\n",
    "X = sm.add_constant(elem94_95_limit[[\"bs\", \"lenrol\", \"lstaff\", \"lunch\"]])\n",
    "model = sm.OLS(y, X).fit()\n",
    "\n",
    "print(model.summary())\n",
    "\n",
    "elem94_95_limit = elem94_95[elem94_95.d1670 == 0]\n",
    "\n",
    "y = elem94_95_limit.lavgsal\n",
    "X = sm.add_constant(elem94_95_limit[[\"bs\", \"lenrol\", \"lstaff\", \"lunch\"]])\n",
    "model = sm.OLS(y, X).fit()\n",
    "\n",
    "print(model.summary())"
   ]
  },
  {
   "cell_type": "code",
   "execution_count": 45,
   "metadata": {},
   "outputs": [
    {
     "name": "stdout",
     "output_type": "stream",
     "text": [
      "                         QuantReg Regression Results                          \n",
      "==============================================================================\n",
      "Dep. Variable:                lavgsal   Pseudo R-squared:               0.2893\n",
      "Model:                       QuantReg   Bandwidth:                     0.06254\n",
      "Method:                 Least Squares   Sparsity:                       0.3878\n",
      "Date:                Sat, 06 Jun 2020   No. Observations:                 1848\n",
      "Time:                        15:32:21   Df Residuals:                     1843\n",
      "                                        Df Model:                            4\n",
      "==============================================================================\n",
      "                 coef    std err          t      P>|t|      [0.025      0.975]\n",
      "------------------------------------------------------------------------------\n",
      "const         13.9873      0.128    109.664      0.000      13.737      14.237\n",
      "bs            -0.1091      0.128     -0.855      0.393      -0.359       0.141\n",
      "lenrol        -0.0572      0.010     -5.823      0.000      -0.077      -0.038\n",
      "lstaff        -0.7217      0.021    -33.814      0.000      -0.764      -0.680\n",
      "lunch         -0.0007      0.000     -3.845      0.000      -0.001      -0.000\n",
      "==============================================================================\n",
      "\n",
      "The condition number is large, 1.46e+03. This might indicate that there are\n",
      "strong multicollinearity or other numerical problems.\n",
      "                         QuantReg Regression Results                          \n",
      "==============================================================================\n",
      "Dep. Variable:                lavgsal   Pseudo R-squared:               0.2900\n",
      "Model:                       QuantReg   Bandwidth:                     0.06227\n",
      "Method:                 Least Squares   Sparsity:                       0.3875\n",
      "Date:                Sat, 06 Jun 2020   No. Observations:                 1847\n",
      "Time:                        15:32:21   Df Residuals:                     1842\n",
      "                                        Df Model:                            4\n",
      "==============================================================================\n",
      "                 coef    std err          t      P>|t|      [0.025      0.975]\n",
      "------------------------------------------------------------------------------\n",
      "const         13.9709      0.130    107.855      0.000      13.717      14.225\n",
      "bs            -0.0969      0.141     -0.687      0.492      -0.373       0.180\n",
      "lenrol        -0.0570      0.010     -5.797      0.000      -0.076      -0.038\n",
      "lstaff        -0.7191      0.021    -33.721      0.000      -0.761      -0.677\n",
      "lunch         -0.0007      0.000     -3.878      0.000      -0.001      -0.000\n",
      "==============================================================================\n",
      "\n",
      "The condition number is large, 1.58e+03. This might indicate that there are\n",
      "strong multicollinearity or other numerical problems.\n"
     ]
    }
   ],
   "source": [
    "y = elem94_95.lavgsal\n",
    "X = sm.add_constant(elem94_95[[\"bs\", \"lenrol\", \"lstaff\", \"lunch\"]])\n",
    "\n",
    "model = sm.QuantReg(y, X).fit(q = .5)\n",
    "\n",
    "print(model.summary())\n",
    "\n",
    "elem94_95_limit = elem94_95[elem94_95.d1508 == 0]\n",
    "\n",
    "y = elem94_95_limit.lavgsal\n",
    "X = sm.add_constant(elem94_95_limit[[\"bs\", \"lenrol\", \"lstaff\", \"lunch\"]])\n",
    "model = sm.QuantReg(y, X).fit(q = .5)\n",
    "\n",
    "print(model.summary())"
   ]
  },
  {
   "cell_type": "markdown",
   "metadata": {},
   "source": [
    "C12.i The estimate is significant and economically significant in the first model, but the heteroskedasticity-robust errors mean the significance falls.\n",
    "\n",
    "C12.ii The coefficient is much smaller and is no longer statistically significant.\n",
    "\n",
    "C12.iii The OLS estimates are the same from the dropped version when we include dummies. The observation 1508 is statistically significant (indexing in Python starts at 0 so this is in position 1507)\n",
    "\n",
    "C12.iv The values of the coefficients can be confirmed above (they match). Only dropping observation 1508 (index 1507) produces a substantial difference.\n",
    "\n",
    "C12.v OLS is still sensitive to a single observation, even when there are lots of observations.\n",
    "\n",
    "C12.vi In contrast to OLS, LAD is less sensitive to the outlier with the coefficient of -0.109 shrinking to -0.097 and both not being statistically significant"
   ]
  },
  {
   "cell_type": "code",
   "execution_count": 46,
   "metadata": {},
   "outputs": [
    {
     "name": "stdout",
     "output_type": "stream",
     "text": [
      "                            OLS Regression Results                            \n",
      "==============================================================================\n",
      "Dep. Variable:                lsalary   R-squared:                       0.343\n",
      "Model:                            OLS   Adj. R-squared:                  0.328\n",
      "Method:                 Least Squares   F-statistic:                     22.45\n",
      "Date:                Sat, 06 Jun 2020   Prob (F-statistic):           6.26e-15\n",
      "Time:                        15:32:21   Log-Likelihood:                -124.84\n",
      "No. Observations:                 177   AIC:                             259.7\n",
      "Df Residuals:                     172   BIC:                             275.6\n",
      "Df Model:                           4                                         \n",
      "Covariance Type:            nonrobust                                         \n",
      "==============================================================================\n",
      "                 coef    std err          t      P>|t|      [0.025      0.975]\n",
      "------------------------------------------------------------------------------\n",
      "const          4.3686      0.259     16.884      0.000       3.858       4.879\n",
      "lsales         0.1646      0.039      4.261      0.000       0.088       0.241\n",
      "lmktval        0.1085      0.049      2.223      0.028       0.012       0.205\n",
      "ceoten         0.0451      0.014      3.196      0.002       0.017       0.073\n",
      "ceotensq      -0.0012      0.000     -2.549      0.012      -0.002      -0.000\n",
      "==============================================================================\n",
      "Omnibus:                       23.553   Durbin-Watson:                   2.064\n",
      "Prob(Omnibus):                  0.000   Jarque-Bera (JB):               96.785\n",
      "Skew:                          -0.310   Prob(JB):                     9.63e-22\n",
      "Kurtosis:                       6.569   Cond. No.                     1.68e+03\n",
      "==============================================================================\n",
      "\n",
      "Warnings:\n",
      "[1] Standard Errors assume that the covariance matrix of the errors is correctly specified.\n",
      "[2] The condition number is large, 1.68e+03. This might indicate that there are\n",
      "strong multicollinearity or other numerical problems.\n",
      "                            OLS Regression Results                            \n",
      "==============================================================================\n",
      "Dep. Variable:                lsalary   R-squared:                       0.343\n",
      "Model:                            OLS   Adj. R-squared:                  0.328\n",
      "Method:                 Least Squares   F-statistic:                     21.79\n",
      "Date:                Sat, 06 Jun 2020   Prob (F-statistic):           1.46e-14\n",
      "Time:                        15:32:21   Log-Likelihood:                -124.84\n",
      "No. Observations:                 177   AIC:                             259.7\n",
      "Df Residuals:                     172   BIC:                             275.6\n",
      "Df Model:                           4                                         \n",
      "Covariance Type:                  HC3                                         \n",
      "==============================================================================\n",
      "                 coef    std err          t      P>|t|      [0.025      0.975]\n",
      "------------------------------------------------------------------------------\n",
      "const          4.3686      0.276     15.825      0.000       3.824       4.913\n",
      "lsales         0.1646      0.040      4.155      0.000       0.086       0.243\n",
      "lmktval        0.1085      0.052      2.102      0.037       0.007       0.210\n",
      "ceoten         0.0451      0.016      2.757      0.006       0.013       0.077\n",
      "ceotensq      -0.0012      0.001     -1.775      0.078      -0.003       0.000\n",
      "==============================================================================\n",
      "Omnibus:                       23.553   Durbin-Watson:                   2.064\n",
      "Prob(Omnibus):                  0.000   Jarque-Bera (JB):               96.785\n",
      "Skew:                          -0.310   Prob(JB):                     9.63e-22\n",
      "Kurtosis:                       6.569   Cond. No.                     1.68e+03\n",
      "==============================================================================\n",
      "\n",
      "Warnings:\n",
      "[1] Standard Errors are heteroscedasticity robust (HC3)\n",
      "[2] The condition number is large, 1.68e+03. This might indicate that there are\n",
      "strong multicollinearity or other numerical problems.\n"
     ]
    }
   ],
   "source": [
    "# Exercise 13\n",
    "ceosal2 = pd.read_stata(\"stata/CEOSAL2.DTA\")\n",
    "\n",
    "y = ceosal2.lsalary\n",
    "X = sm.add_constant(ceosal2[[\"lsales\", \"lmktval\", \"ceoten\", \"ceotensq\"]])\n",
    "model = sm.OLS(y, X).fit()\n",
    "ols_b = model.params\n",
    "\n",
    "print(model.summary())\n",
    "print(model.get_robustcov_results(cov_type = \"HC3\").summary())"
   ]
  },
  {
   "cell_type": "code",
   "execution_count": 47,
   "metadata": {},
   "outputs": [
    {
     "data": {
      "text/plain": [
       "9"
      ]
     },
     "execution_count": 47,
     "metadata": {},
     "output_type": "execute_result"
    }
   ],
   "source": [
    "from statsmodels.stats.outliers_influence import OLSInfluence\n",
    "\n",
    "ceosal2[\"str\"] = OLSInfluence(model).resid_studentized\n",
    "(abs(ceosal2[\"str\"]) > 1.96).sum()"
   ]
  },
  {
   "cell_type": "code",
   "execution_count": 48,
   "metadata": {},
   "outputs": [
    {
     "name": "stdout",
     "output_type": "stream",
     "text": [
      "                            OLS Regression Results                            \n",
      "==============================================================================\n",
      "Dep. Variable:                lsalary   R-squared:                       0.504\n",
      "Model:                            OLS   Adj. R-squared:                  0.492\n",
      "Method:                 Least Squares   F-statistic:                     41.43\n",
      "Date:                Sat, 06 Jun 2020   Prob (F-statistic):           6.26e-24\n",
      "Time:                        15:32:21   Log-Likelihood:                -72.748\n",
      "No. Observations:                 168   AIC:                             155.5\n",
      "Df Residuals:                     163   BIC:                             171.1\n",
      "Df Model:                           4                                         \n",
      "Covariance Type:            nonrobust                                         \n",
      "==============================================================================\n",
      "                 coef    std err          t      P>|t|      [0.025      0.975]\n",
      "------------------------------------------------------------------------------\n",
      "const          4.1381      0.204     20.302      0.000       3.736       4.541\n",
      "lsales         0.1538      0.030      5.103      0.000       0.094       0.213\n",
      "lmktval        0.1535      0.038      4.053      0.000       0.079       0.228\n",
      "ceoten         0.0360      0.012      3.106      0.002       0.013       0.059\n",
      "ceotensq      -0.0008      0.000     -1.953      0.052      -0.002    8.87e-06\n",
      "==============================================================================\n",
      "Omnibus:                        2.872   Durbin-Watson:                   1.887\n",
      "Prob(Omnibus):                  0.238   Jarque-Bera (JB):                1.973\n",
      "Skew:                           0.023   Prob(JB):                        0.373\n",
      "Kurtosis:                       2.471   Cond. No.                     1.47e+03\n",
      "==============================================================================\n",
      "\n",
      "Warnings:\n",
      "[1] Standard Errors assume that the covariance matrix of the errors is correctly specified.\n",
      "[2] The condition number is large, 1.47e+03. This might indicate that there are\n",
      "strong multicollinearity or other numerical problems.\n"
     ]
    }
   ],
   "source": [
    "ceosal2_limit = ceosal2[abs(ceosal2.str) < 1.96]\n",
    "\n",
    "y = ceosal2_limit.lsalary\n",
    "X = sm.add_constant(ceosal2_limit[[\"lsales\", \"lmktval\", \"ceoten\", \"ceotensq\"]])\n",
    "model = sm.OLS(y, X).fit()\n",
    "lim_b = model.params\n",
    "\n",
    "print(model.summary())"
   ]
  },
  {
   "cell_type": "code",
   "execution_count": 49,
   "metadata": {},
   "outputs": [
    {
     "name": "stdout",
     "output_type": "stream",
     "text": [
      "                         QuantReg Regression Results                          \n",
      "==============================================================================\n",
      "Dep. Variable:                lsalary   Pseudo R-squared:               0.2668\n",
      "Model:                       QuantReg   Bandwidth:                      0.3845\n",
      "Method:                 Least Squares   Sparsity:                        1.155\n",
      "Date:                Sat, 06 Jun 2020   No. Observations:                  177\n",
      "Time:                        15:32:21   Df Residuals:                      172\n",
      "                                        Df Model:                            4\n",
      "==============================================================================\n",
      "                 coef    std err          t      P>|t|      [0.025      0.975]\n",
      "------------------------------------------------------------------------------\n",
      "const          4.1343      0.301     13.753      0.000       3.541       4.728\n",
      "lsales         0.1492      0.045      3.324      0.001       0.061       0.238\n",
      "lmktval        0.1529      0.057      2.696      0.008       0.041       0.265\n",
      "ceoten         0.0431      0.016      2.629      0.009       0.011       0.075\n",
      "ceotensq      -0.0010      0.001     -1.788      0.076      -0.002       0.000\n",
      "==============================================================================\n",
      "\n",
      "The condition number is large, 1.68e+03. This might indicate that there are\n",
      "strong multicollinearity or other numerical problems.\n"
     ]
    }
   ],
   "source": [
    "y = ceosal2.lsalary\n",
    "X = sm.add_constant(ceosal2[[\"lsales\", \"lmktval\", \"ceoten\", \"ceotensq\"]])\n",
    "model = sm.QuantReg(y, X).fit(q = .5)\n",
    "lad_b = model.params\n",
    "\n",
    "print(model.summary())"
   ]
  },
  {
   "cell_type": "code",
   "execution_count": 51,
   "metadata": {},
   "outputs": [
    {
     "name": "stdout",
     "output_type": "stream",
     "text": [
      "const       0.234264\n",
      "lsales      0.015384\n",
      "lmktval    -0.044394\n",
      "ceoten      0.001995\n",
      "ceotensq   -0.000224\n",
      "dtype: float64\n",
      "const       0.003831\n",
      "lsales      0.004559\n",
      "lmktval     0.000570\n",
      "ceoten     -0.007122\n",
      "ceotensq    0.000174\n",
      "dtype: float64\n"
     ]
    }
   ],
   "source": [
    "print(ols_b - lad_b)\n",
    "print(lim_b - lad_b)"
   ]
  },
  {
   "cell_type": "markdown",
   "metadata": {},
   "source": [
    "C13.i The results are reported above\n",
    "\n",
    "C13.ii 9 observations have studentized residuals above 1.96. Taking 5% of 177 and using the closest integer gives 9 and so this is consistent with expectations.\n",
    "\n",
    "C13.iii lmktvalue sems to have gained at the expense of lsales. Tenure's effects are slightly diminished.\n",
    "\n",
    "C13.iv The coefficient for lsales is closer to the limited regression than the full, but the coefficient for ceo tenure is closer to the full regression.\n",
    "\n",
    "C13.v The statement is not demonstrated with this example. While lsalary was closer to the LAD estimate, the effects of ceo tenure (and the quadratic term) are are closer to OLS."
   ]
  },
  {
   "cell_type": "code",
   "execution_count": null,
   "metadata": {},
   "outputs": [],
   "source": []
  }
 ],
 "metadata": {
  "kernelspec": {
   "display_name": "Python 3",
   "language": "python",
   "name": "python3"
  },
  "language_info": {
   "codemirror_mode": {
    "name": "ipython",
    "version": 3
   },
   "file_extension": ".py",
   "mimetype": "text/x-python",
   "name": "python",
   "nbconvert_exporter": "python",
   "pygments_lexer": "ipython3",
   "version": "3.7.6"
  }
 },
 "nbformat": 4,
 "nbformat_minor": 4
}
