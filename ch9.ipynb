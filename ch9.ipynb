{
 "cells": [
  {
   "cell_type": "markdown",
   "metadata": {},
   "source": [
    "# Chapter 9"
   ]
  },
  {
   "cell_type": "code",
   "execution_count": 1,
   "metadata": {},
   "outputs": [],
   "source": [
    "import pandas as pd\n",
    "import statsmodels.api as sm\n",
    "import numpy as np"
   ]
  },
  {
   "cell_type": "code",
   "execution_count": 2,
   "metadata": {},
   "outputs": [
    {
     "name": "stdout",
     "output_type": "stream",
     "text": [
      "<Wald test (chi2): statistic=[[2.66707016]], p-value=0.26354396347186887, df_denom=2>\n"
     ]
    }
   ],
   "source": [
    "from statsmodels.stats.diagnostic import linear_reset\n",
    "\n",
    "# Exercise 1\n",
    "ceosal1 = pd.read_stata(\"stata/CEOSAL1.DTA\")\n",
    "ceosal1[\"rosneg\"] = (ceosal1.ros < 0).astype('int32')\n",
    "\n",
    "y = ceosal1.lsalary\n",
    "X = sm.add_constant(ceosal1[[\"lsales\", \"roe\", \"rosneg\"]])\n",
    "model = sm.OLS(y, X).fit()\n",
    "print(linear_reset(model))"
   ]
  },
  {
   "cell_type": "code",
   "execution_count": 3,
   "metadata": {},
   "outputs": [
    {
     "data": {
      "text/plain": [
       "<class 'statsmodels.stats.contrast.ContrastResults'>\n",
       "<Wald test (chi2): statistic=[[2.99859337]], p-value=0.22328714637257752, df_denom=2>"
      ]
     },
     "execution_count": 3,
     "metadata": {},
     "output_type": "execute_result"
    }
   ],
   "source": [
    "linear_reset(model, cov_type = \"HC3\")"
   ]
  },
  {
   "cell_type": "markdown",
   "metadata": {},
   "source": [
    "C1.i The p-value for the RESET test is about 0.26 which could not be considered evidence of functional form misspecification.\n",
    "\n",
    "C1.ii When considering a heteroskedacticity robust RESET the p-value falls to about 0.22, but this is far from any value we would consider evidence of misspecification."
   ]
  },
  {
   "cell_type": "code",
   "execution_count": 4,
   "metadata": {},
   "outputs": [
    {
     "name": "stdout",
     "output_type": "stream",
     "text": [
      "                            OLS Regression Results                            \n",
      "==============================================================================\n",
      "Dep. Variable:                  lwage   R-squared:                       0.259\n",
      "Model:                            OLS   Adj. R-squared:                  0.252\n",
      "Method:                 Least Squares   F-statistic:                     35.97\n",
      "Date:                Sun, 31 May 2020   Prob (F-statistic):           8.91e-55\n",
      "Time:                        01:35:30   Log-Likelihood:                -377.34\n",
      "No. Observations:                 935   AIC:                             774.7\n",
      "Df Residuals:                     925   BIC:                             823.1\n",
      "Df Model:                           9                                         \n",
      "Covariance Type:            nonrobust                                         \n",
      "==============================================================================\n",
      "                 coef    std err          t      P>|t|      [0.025      0.975]\n",
      "------------------------------------------------------------------------------\n",
      "const          5.3557      0.114     47.113      0.000       5.133       5.579\n",
      "educ           0.0580      0.007      8.464      0.000       0.045       0.071\n",
      "exper          0.0123      0.003      3.785      0.000       0.006       0.019\n",
      "tenure         0.0110      0.002      4.485      0.000       0.006       0.016\n",
      "married        0.1876      0.039      4.794      0.000       0.111       0.264\n",
      "south         -0.0910      0.026     -3.478      0.001      -0.142      -0.040\n",
      "urban          0.1753      0.027      6.485      0.000       0.122       0.228\n",
      "black         -0.1645      0.039     -4.268      0.000      -0.240      -0.089\n",
      "KWW            0.0050      0.002      2.737      0.006       0.001       0.009\n",
      "educ_kww      -0.0001      0.000     -0.849      0.396      -0.000       0.000\n",
      "==============================================================================\n",
      "Omnibus:                       46.012   Durbin-Watson:                   1.817\n",
      "Prob(Omnibus):                  0.000   Jarque-Bera (JB):              106.138\n",
      "Skew:                          -0.267   Prob(JB):                     8.96e-24\n",
      "Kurtosis:                       4.562   Cond. No.                         713.\n",
      "==============================================================================\n",
      "\n",
      "Warnings:\n",
      "[1] Standard Errors assume that the covariance matrix of the errors is correctly specified.\n"
     ]
    }
   ],
   "source": [
    "# Exercise 2\n",
    "wage2 = pd.read_stata(\"stata/WAGE2.DTA\")\n",
    "wage2[\"educ_iq\"] = wage2.educ * wage2.IQ\n",
    "wage2[\"educ_kww\"] = wage2.educ * wage2.KWW\n",
    "\n",
    "y = wage2.lwage\n",
    "X = sm.add_constant(wage2[[\"educ\", \"exper\", \"tenure\", \"married\", \"south\", \"urban\", \"black\", \"KWW\", \"educ_kww\"]])\n",
    "model = sm.OLS(y, X).fit()\n",
    "print(model.summary())"
   ]
  },
  {
   "cell_type": "code",
   "execution_count": 5,
   "metadata": {},
   "outputs": [
    {
     "name": "stdout",
     "output_type": "stream",
     "text": [
      "                            OLS Regression Results                            \n",
      "==============================================================================\n",
      "Dep. Variable:                  lwage   R-squared:                       0.266\n",
      "Model:                            OLS   Adj. R-squared:                  0.258\n",
      "Method:                 Least Squares   F-statistic:                     33.53\n",
      "Date:                Sun, 31 May 2020   Prob (F-statistic):           7.48e-56\n",
      "Time:                        01:35:30   Log-Likelihood:                -372.88\n",
      "No. Observations:                 935   AIC:                             767.8\n",
      "Df Residuals:                     924   BIC:                             821.0\n",
      "Df Model:                          10                                         \n",
      "Covariance Type:            nonrobust                                         \n",
      "=================================================================================\n",
      "                    coef    std err          t      P>|t|      [0.025      0.975]\n",
      "---------------------------------------------------------------------------------\n",
      "const             5.1756      0.128     40.486      0.000       4.925       5.427\n",
      "educ              0.0494      0.007      6.661      0.000       0.035       0.064\n",
      "exper             0.0127      0.003      3.933      0.000       0.006       0.019\n",
      "tenure            0.0109      0.002      4.469      0.000       0.006       0.016\n",
      "married           0.1933      0.039      4.946      0.000       0.117       0.270\n",
      "south            -0.0825      0.026     -3.140      0.002      -0.134      -0.031\n",
      "urban             0.1759      0.027      6.533      0.000       0.123       0.229\n",
      "black            -0.1319      0.040     -3.283      0.001      -0.211      -0.053\n",
      "IQ                0.0032      0.001      3.095      0.002       0.001       0.005\n",
      "KWW               0.0039      0.002      2.091      0.037       0.000       0.008\n",
      "educ_combined  2.074e-07   6.22e-07      0.334      0.739   -1.01e-06    1.43e-06\n",
      "==============================================================================\n",
      "Omnibus:                       49.924   Durbin-Watson:                   1.817\n",
      "Prob(Omnibus):                  0.000   Jarque-Bera (JB):              119.045\n",
      "Skew:                          -0.285   Prob(JB):                     1.41e-26\n",
      "Kurtosis:                       4.652   Cond. No.                     2.22e+05\n",
      "==============================================================================\n",
      "\n",
      "Warnings:\n",
      "[1] Standard Errors assume that the covariance matrix of the errors is correctly specified.\n",
      "[2] The condition number is large, 2.22e+05. This might indicate that there are\n",
      "strong multicollinearity or other numerical problems.\n",
      "<F test: F=array([[8.53845302]]), p=0.00021166405662835709, df_denom=924, df_num=2>\n"
     ]
    }
   ],
   "source": [
    "wage2[\"combined\"] = wage2.IQ * wage2.KWW\n",
    "wage2[\"educ_combined\"] = wage2.combined * wage2.educ\n",
    "X = sm.add_constant(wage2[[\"educ\", \"exper\", \"tenure\", \"married\", \"south\", \"urban\", \"black\", \"IQ\", \"KWW\", \"educ_combined\"]])\n",
    "model = sm.OLS(y, X).fit()\n",
    "print(model.summary())\n",
    "print(model.f_test(\"(IQ = 0), (KWW = 0)\"))"
   ]
  },
  {
   "cell_type": "markdown",
   "metadata": {},
   "source": [
    "C2.i The estimated return to education when using KWW as a proxy for ability is about 5.8%\n",
    "\n",
    "C2.ii The return to education falls to about 4.9%\n",
    "\n",
    "C.iii Both IQ and KWW are significant at the 5% level (in fact, IQ is significant at the 1% level) individually. The F-test provides strong evidence that they are jointly significant."
   ]
  },
  {
   "cell_type": "code",
   "execution_count": 6,
   "metadata": {},
   "outputs": [
    {
     "name": "stdout",
     "output_type": "stream",
     "text": [
      "                            OLS Regression Results                            \n",
      "==============================================================================\n",
      "Dep. Variable:                 lscrap   R-squared:                       0.000\n",
      "Model:                            OLS   Adj. R-squared:                 -0.019\n",
      "Method:                 Least Squares   F-statistic:                   0.01948\n",
      "Date:                Sun, 31 May 2020   Prob (F-statistic):              0.890\n",
      "Time:                        01:35:30   Log-Likelihood:                -94.660\n",
      "No. Observations:                  54   AIC:                             193.3\n",
      "Df Residuals:                      52   BIC:                             197.3\n",
      "Df Model:                           1                                         \n",
      "Covariance Type:            nonrobust                                         \n",
      "==============================================================================\n",
      "                 coef    std err          t      P>|t|      [0.025      0.975]\n",
      "------------------------------------------------------------------------------\n",
      "const          0.4085      0.241      1.698      0.095      -0.074       0.891\n",
      "grant          0.0566      0.406      0.140      0.890      -0.757       0.870\n",
      "==============================================================================\n",
      "Omnibus:                        0.074   Durbin-Watson:                   1.931\n",
      "Prob(Omnibus):                  0.963   Jarque-Bera (JB):                0.086\n",
      "Skew:                          -0.067   Prob(JB):                        0.958\n",
      "Kurtosis:                       2.859   Cond. No.                         2.42\n",
      "==============================================================================\n",
      "\n",
      "Warnings:\n",
      "[1] Standard Errors assume that the covariance matrix of the errors is correctly specified.\n",
      "                            OLS Regression Results                            \n",
      "==============================================================================\n",
      "Dep. Variable:                 lscrap   R-squared:                       0.000\n",
      "Model:                            OLS   Adj. R-squared:                 -0.019\n",
      "Method:                 Least Squares   F-statistic:                   0.02226\n",
      "Date:                Sun, 31 May 2020   Prob (F-statistic):              0.882\n",
      "Time:                        01:35:30   Log-Likelihood:                -94.660\n",
      "No. Observations:                  54   AIC:                             193.3\n",
      "Df Residuals:                      52   BIC:                             197.3\n",
      "Df Model:                           1                                         \n",
      "Covariance Type:                  HC3                                         \n",
      "==============================================================================\n",
      "                 coef    std err          t      P>|t|      [0.025      0.975]\n",
      "------------------------------------------------------------------------------\n",
      "const          0.4085      0.266      1.538      0.130      -0.124       0.941\n",
      "grant          0.0566      0.379      0.149      0.882      -0.705       0.818\n",
      "==============================================================================\n",
      "Omnibus:                        0.074   Durbin-Watson:                   1.931\n",
      "Prob(Omnibus):                  0.963   Jarque-Bera (JB):                0.086\n",
      "Skew:                          -0.067   Prob(JB):                        0.958\n",
      "Kurtosis:                       2.859   Cond. No.                         2.42\n",
      "==============================================================================\n",
      "\n",
      "Warnings:\n",
      "[1] Standard Errors are heteroscedasticity robust (HC3)\n"
     ]
    }
   ],
   "source": [
    "# Exercise 3\n",
    "jtrain = pd.read_stata(\"stata/JTRAIN.DTA\")\n",
    "jtrain_1988 = jtrain.loc[jtrain[\"year\"] == 1988, [\"lscrap\", \"grant\"]].dropna()\n",
    "y = jtrain_1988.lscrap\n",
    "X = sm.add_constant(jtrain_1988.grant)\n",
    "\n",
    "model = sm.OLS(y, X).fit()\n",
    "print(model.summary())\n",
    "print(model.get_robustcov_results(cov_type = \"HC3\").summary())"
   ]
  },
  {
   "cell_type": "code",
   "execution_count": 7,
   "metadata": {},
   "outputs": [
    {
     "name": "stdout",
     "output_type": "stream",
     "text": [
      "                            OLS Regression Results                            \n",
      "==============================================================================\n",
      "Dep. Variable:                 lscrap   R-squared:                       0.873\n",
      "Model:                            OLS   Adj. R-squared:                  0.868\n",
      "Method:                 Least Squares   F-statistic:                     174.9\n",
      "Date:                Sun, 31 May 2020   Prob (F-statistic):           1.47e-23\n",
      "Time:                        01:35:30   Log-Likelihood:                -39.000\n",
      "No. Observations:                  54   AIC:                             84.00\n",
      "Df Residuals:                      51   BIC:                             89.97\n",
      "Df Model:                           2                                         \n",
      "Covariance Type:            nonrobust                                         \n",
      "==============================================================================\n",
      "                 coef    std err          t      P>|t|      [0.025      0.975]\n",
      "------------------------------------------------------------------------------\n",
      "const          0.0212      0.089      0.238      0.813      -0.158       0.200\n",
      "grant         -0.2540      0.147     -1.727      0.090      -0.549       0.041\n",
      "lscrap_lag     0.8312      0.044     18.701      0.000       0.742       0.920\n",
      "==============================================================================\n",
      "Omnibus:                       13.769   Durbin-Watson:                   1.541\n",
      "Prob(Omnibus):                  0.001   Jarque-Bera (JB):               35.075\n",
      "Skew:                          -0.526   Prob(JB):                     2.42e-08\n",
      "Kurtosis:                       6.805   Cond. No.                         3.95\n",
      "==============================================================================\n",
      "\n",
      "Warnings:\n",
      "[1] Standard Errors assume that the covariance matrix of the errors is correctly specified.\n",
      "One sided p-value for grant is:  0.045081345662734355\n",
      "                            OLS Regression Results                            \n",
      "==============================================================================\n",
      "Dep. Variable:                 lscrap   R-squared:                       0.873\n",
      "Model:                            OLS   Adj. R-squared:                  0.868\n",
      "Method:                 Least Squares   F-statistic:                     55.82\n",
      "Date:                Sun, 31 May 2020   Prob (F-statistic):           1.43e-13\n",
      "Time:                        01:35:30   Log-Likelihood:                -39.000\n",
      "No. Observations:                  54   AIC:                             84.00\n",
      "Df Residuals:                      51   BIC:                             89.97\n",
      "Df Model:                           2                                         \n",
      "Covariance Type:                  HC3                                         \n",
      "==============================================================================\n",
      "                 coef    std err          t      P>|t|      [0.025      0.975]\n",
      "------------------------------------------------------------------------------\n",
      "const          0.0212      0.116      0.183      0.855      -0.212       0.254\n",
      "grant         -0.2540      0.153     -1.663      0.102      -0.561       0.053\n",
      "lscrap_lag     0.8312      0.088      9.424      0.000       0.654       1.008\n",
      "==============================================================================\n",
      "Omnibus:                       13.769   Durbin-Watson:                   1.541\n",
      "Prob(Omnibus):                  0.001   Jarque-Bera (JB):               35.075\n",
      "Skew:                          -0.526   Prob(JB):                     2.42e-08\n",
      "Kurtosis:                       6.805   Cond. No.                         3.95\n",
      "==============================================================================\n",
      "\n",
      "Warnings:\n",
      "[1] Standard Errors are heteroscedasticity robust (HC3)\n",
      "One sided p-value for grant is:  0.05122786867683199\n"
     ]
    }
   ],
   "source": [
    "jtrain[\"lscrap_lag\"] = jtrain[\"lscrap\"].shift(1)\n",
    "jtrain_1988 = jtrain.loc[jtrain[\"year\"] == 1988, [\"lscrap\", \"lscrap_lag\", \"grant\"]].dropna()\n",
    "y = jtrain_1988.lscrap\n",
    "X = sm.add_constant(jtrain_1988[[\"grant\", \"lscrap_lag\"]])\n",
    "\n",
    "model = sm.OLS(y, X).fit()\n",
    "model_hc3 = model.get_robustcov_results(cov_type = \"HC3\")\n",
    "print(model.summary())\n",
    "print(\"One sided p-value for grant is: \", (model.pvalues[1] / 2))\n",
    "print(model_hc3.summary())\n",
    "print(\"One sided p-value for grant is: \", (model_hc3.pvalues[1] / 2))"
   ]
  },
  {
   "cell_type": "code",
   "execution_count": 8,
   "metadata": {},
   "outputs": [
    {
     "name": "stdout",
     "output_type": "stream",
     "text": [
      "                             Test for Constraints                             \n",
      "==============================================================================\n",
      "                 coef    std err          t      P>|t|      [0.025      0.975]\n",
      "------------------------------------------------------------------------------\n",
      "c0             0.8312      0.044     -3.799      0.000       0.742       0.920\n",
      "==============================================================================\n",
      "                             Test for Constraints                             \n",
      "==============================================================================\n",
      "                 coef    std err          t      P>|t|      [0.025      0.975]\n",
      "------------------------------------------------------------------------------\n",
      "c0             0.8312      0.088     -1.914      0.061       0.654       1.008\n",
      "==============================================================================\n"
     ]
    }
   ],
   "source": [
    "print(model.t_test(\"lscrap_lag = 1\"))\n",
    "print(model_hc3.t_test(\"lscrap_lag = 1\"))"
   ]
  },
  {
   "cell_type": "markdown",
   "metadata": {},
   "source": [
    "C3.i Quite a lot depends on how grants are assigned. It would be fair to say that grants can be assigned to over or under performing firms, depending on who is administering the program. In either case the factors leading to higher or lower productivity are unobserved but would be correlated with grant.\n",
    "\n",
    "C3.ii The simple regression does not provide evidence that receiving a job training grant significantly lowers a firm's scrap rate. With a positive coefficient, a significant result would mean the grant increased the scrap rate!\n",
    "\n",
    "C3.iii Adding the lag turns the coefficient for grant negative. It is statistically significant at the 5% level with a p-value of 0.045 against the one sided test $\\beta_{grant} < 0$.\n",
    "\n",
    "C3.iv The t-test is listed above and the p-value is incredibly small (0.000).\n",
    "\n",
    "C3.v Robust results are reported below the standard results. The results from part (ii) do not substantively change. While the question did not ask to check part (iii), grant is now only significant at the 10% level when tested against the one sided alternative. The robust standard error is quite a bit larger and the test is now significant only at the 10% level."
   ]
  },
  {
   "cell_type": "code",
   "execution_count": 9,
   "metadata": {},
   "outputs": [
    {
     "name": "stdout",
     "output_type": "stream",
     "text": [
      "                            OLS Regression Results                            \n",
      "==============================================================================\n",
      "Dep. Variable:                infmort   R-squared:                       0.691\n",
      "Model:                            OLS   Adj. R-squared:                  0.664\n",
      "Method:                 Least Squares   F-statistic:                     25.71\n",
      "Date:                Sun, 31 May 2020   Prob (F-statistic):           3.15e-11\n",
      "Time:                        01:35:30   Log-Likelihood:                -80.968\n",
      "No. Observations:                  51   AIC:                             171.9\n",
      "Df Residuals:                      46   BIC:                             181.6\n",
      "Df Model:                           4                                         \n",
      "Covariance Type:            nonrobust                                         \n",
      "==============================================================================\n",
      "                 coef    std err          t      P>|t|      [0.025      0.975]\n",
      "------------------------------------------------------------------------------\n",
      "const         23.9548     12.419      1.929      0.060      -1.044      48.954\n",
      "lpcinc        -0.5669      1.641     -0.345      0.731      -3.871       2.737\n",
      "lphysic       -2.7418      1.191     -2.303      0.026      -5.139      -0.345\n",
      "lpopul         0.6292      0.191      3.293      0.002       0.245       1.014\n",
      "DC            16.0350      1.769      9.064      0.000      12.474      19.596\n",
      "==============================================================================\n",
      "Omnibus:                        0.803   Durbin-Watson:                   1.442\n",
      "Prob(Omnibus):                  0.669   Jarque-Bera (JB):                0.863\n",
      "Skew:                           0.170   Prob(JB):                        0.649\n",
      "Kurtosis:                       2.461   Cond. No.                         986.\n",
      "==============================================================================\n",
      "\n",
      "Warnings:\n",
      "[1] Standard Errors assume that the covariance matrix of the errors is correctly specified.\n"
     ]
    }
   ],
   "source": [
    "# Exercise 4\n",
    "infmrt = pd.read_stata(\"stata/infmrt.dta\")\n",
    "infmrt_1990 = infmrt[infmrt.year == 1990]\n",
    "y = infmrt_1990.infmort\n",
    "X = sm.add_constant(infmrt_1990[[\"lpcinc\", \"lphysic\", \"lpopul\", \"DC\"]])\n",
    "\n",
    "model = sm.OLS(y, X).fit()\n",
    "print(model.summary())"
   ]
  },
  {
   "cell_type": "markdown",
   "metadata": {},
   "source": [
    "C4.i The coefficient indicates that once income, number of physicians, and population are accounted for, DC suffers 16 more infant deaths per 1000 live births. This is a large and significant effect.\n",
    "\n",
    "C4.ii The coefficients are identical to 9.44 (on page 331). Including the dummy accounts for the distortion created by the outlier. This is only true for a single observation."
   ]
  },
  {
   "cell_type": "code",
   "execution_count": 10,
   "metadata": {},
   "outputs": [
    {
     "name": "stdout",
     "output_type": "stream",
     "text": [
      "                            OLS Regression Results                            \n",
      "==============================================================================\n",
      "Dep. Variable:               rdintens   R-squared:                       0.190\n",
      "Model:                            OLS   Adj. R-squared:                  0.104\n",
      "Method:                 Least Squares   F-statistic:                     2.196\n",
      "Date:                Sun, 31 May 2020   Prob (F-statistic):              0.111\n",
      "Time:                        01:35:30   Log-Likelihood:                -61.610\n",
      "No. Observations:                  32   AIC:                             131.2\n",
      "Df Residuals:                      28   BIC:                             137.1\n",
      "Df Model:                           3                                         \n",
      "Covariance Type:            nonrobust                                         \n",
      "==============================================================================\n",
      "                 coef    std err          t      P>|t|      [0.025      0.975]\n",
      "------------------------------------------------------------------------------\n",
      "const          2.0590      0.626      3.288      0.003       0.776       3.342\n",
      "sales          0.3166      0.139      2.280      0.030       0.032       0.601\n",
      "salessq       -0.0074      0.004     -1.989      0.057      -0.015       0.000\n",
      "profmarg       0.0533      0.044      1.206      0.238      -0.037       0.144\n",
      "==============================================================================\n",
      "Omnibus:                       17.063   Durbin-Watson:                   1.696\n",
      "Prob(Omnibus):                  0.000   Jarque-Bera (JB):               20.823\n",
      "Skew:                           1.455   Prob(JB):                     3.01e-05\n",
      "Kurtosis:                       5.673   Cond. No.                         580.\n",
      "==============================================================================\n",
      "\n",
      "Warnings:\n",
      "[1] Standard Errors assume that the covariance matrix of the errors is correctly specified.\n",
      "                            OLS Regression Results                            \n",
      "==============================================================================\n",
      "Dep. Variable:               rdintens   R-squared:                       0.191\n",
      "Model:                            OLS   Adj. R-squared:                  0.101\n",
      "Method:                 Least Squares   F-statistic:                     2.128\n",
      "Date:                Sun, 31 May 2020   Prob (F-statistic):              0.120\n",
      "Time:                        01:35:30   Log-Likelihood:                -60.147\n",
      "No. Observations:                  31   AIC:                             128.3\n",
      "Df Residuals:                      27   BIC:                             134.0\n",
      "Df Model:                           3                                         \n",
      "Covariance Type:            nonrobust                                         \n",
      "==============================================================================\n",
      "                 coef    std err          t      P>|t|      [0.025      0.975]\n",
      "------------------------------------------------------------------------------\n",
      "const          1.9835      0.718      2.764      0.010       0.511       3.456\n",
      "sales          0.3606      0.239      1.510      0.143      -0.130       0.851\n",
      "salessq       -0.0103      0.013     -0.784      0.440      -0.037       0.017\n",
      "profmarg       0.0553      0.046      1.207      0.238      -0.039       0.149\n",
      "==============================================================================\n",
      "Omnibus:                       14.915   Durbin-Watson:                   1.677\n",
      "Prob(Omnibus):                  0.001   Jarque-Bera (JB):               16.350\n",
      "Skew:                           1.358   Prob(JB):                     0.000282\n",
      "Kurtosis:                       5.299   Cond. No.                         166.\n",
      "==============================================================================\n",
      "\n",
      "Warnings:\n",
      "[1] Standard Errors assume that the covariance matrix of the errors is correctly specified.\n"
     ]
    }
   ],
   "source": [
    "# Exercise 5\n",
    "rdchem = pd.read_stata(\"stata/RDCHEM.DTA\")\n",
    "rdchem[\"sales\"]  = rdchem[\"sales\"] / 1000\n",
    "rdchem[\"salessq\"] = np.power(rdchem[\"sales\"], 2)\n",
    "rdchem_limit = rdchem[rdchem.sales < 20]\n",
    "y = rdchem.rdintens\n",
    "X = sm.add_constant(rdchem[[\"sales\", \"salessq\", \"profmarg\"]])\n",
    "\n",
    "model = sm.OLS(y, X).fit()\n",
    "print(model.summary())\n",
    "\n",
    "y = rdchem_limit.rdintens\n",
    "X = sm.add_constant(rdchem_limit[[\"sales\", \"salessq\", \"profmarg\"]])\n",
    "\n",
    "model = sm.OLS(y, X).fit()\n",
    "print(model.summary())"
   ]
  },
  {
   "cell_type": "code",
   "execution_count": 11,
   "metadata": {},
   "outputs": [
    {
     "name": "stdout",
     "output_type": "stream",
     "text": [
      "                         QuantReg Regression Results                          \n",
      "==============================================================================\n",
      "Dep. Variable:               rdintens   Pseudo R-squared:              0.09743\n",
      "Model:                       QuantReg   Bandwidth:                       2.034\n",
      "Method:                 Least Squares   Sparsity:                        4.266\n",
      "Date:                Sun, 31 May 2020   No. Observations:                   32\n",
      "Time:                        01:35:30   Df Residuals:                       28\n",
      "                                        Df Model:                            3\n",
      "==============================================================================\n",
      "                 coef    std err          t      P>|t|      [0.025      0.975]\n",
      "------------------------------------------------------------------------------\n",
      "const          1.4043      0.753      1.865      0.073      -0.138       2.947\n",
      "sales          0.2635      0.167      1.578      0.126      -0.079       0.605\n",
      "salessq       -0.0060      0.004     -1.343      0.190      -0.015       0.003\n",
      "profmarg       0.1140      0.053      2.144      0.041       0.005       0.223\n",
      "==============================================================================\n",
      "                         QuantReg Regression Results                          \n",
      "==============================================================================\n",
      "Dep. Variable:               rdintens   Pseudo R-squared:               0.1020\n",
      "Model:                       QuantReg   Bandwidth:                       1.816\n",
      "Method:                 Least Squares   Sparsity:                        3.915\n",
      "Date:                Sun, 31 May 2020   No. Observations:                   31\n",
      "Time:                        01:35:30   Df Residuals:                       27\n",
      "                                        Df Model:                            3\n",
      "==============================================================================\n",
      "                 coef    std err          t      P>|t|      [0.025      0.975]\n",
      "------------------------------------------------------------------------------\n",
      "const          2.6105      0.779      3.353      0.002       1.013       4.208\n",
      "sales         -0.2236      0.259     -0.863      0.396      -0.755       0.308\n",
      "salessq        0.0168      0.014      1.185      0.246      -0.012       0.046\n",
      "profmarg       0.0759      0.050      1.529      0.138      -0.026       0.178\n",
      "==============================================================================\n"
     ]
    }
   ],
   "source": [
    "y = rdchem.rdintens\n",
    "X = sm.add_constant(rdchem[[\"sales\", \"salessq\", \"profmarg\"]])\n",
    "model = sm.QuantReg(y, X).fit(q = .5)\n",
    "print(model.summary())\n",
    "\n",
    "y = rdchem_limit.rdintens\n",
    "X = sm.add_constant(rdchem_limit[[\"sales\", \"salessq\", \"profmarg\"]])\n",
    "model = sm.QuantReg(y, X).fit(q = .5)\n",
    "print(model.summary())"
   ]
  },
  {
   "cell_type": "markdown",
   "metadata": {},
   "source": [
    "C5.i The largest changes are in sales, with sales changing by 0.05 and the quadratic term falling a further 0.003. More noteably, sales was significant at the 5% level and the quadratic was significant at the 10% level while removing the outlier removes all significance.\n",
    "\n",
    "C5.ii Removing the outlier flips the sign of the sales coefficients! standard errors grow, but none of the results were significant in the first place.\n",
    "\n",
    "C5.iii The text introduced LAD as being resilient to outliers. I am not at all confident in a method that flips signs depending on the inclusion of a variable, but one expectation was that we would have a large sample, and we are falling from 32 to 31 observations. Based on these results, I would say OLS is more resilient to outliers."
   ]
  },
  {
   "cell_type": "code",
   "execution_count": 20,
   "metadata": {},
   "outputs": [
    {
     "name": "stdout",
     "output_type": "stream",
     "text": [
      "4\n"
     ]
    }
   ],
   "source": [
    "# Exercise 6\n",
    "meap93 = pd.read_stata(\"stata/MEAP93.DTA\")\n",
    "meap93_limit = meap93[meap93.bensal > 0.01]\n",
    "print(meap93.shape[0] - meap93_limit.shape[0])"
   ]
  },
  {
   "cell_type": "code",
   "execution_count": 21,
   "metadata": {},
   "outputs": [
    {
     "name": "stdout",
     "output_type": "stream",
     "text": [
      "                            OLS Regression Results                            \n",
      "==============================================================================\n",
      "Dep. Variable:                lsalary   R-squared:                       0.354\n",
      "Model:                            OLS   Adj. R-squared:                  0.346\n",
      "Method:                 Least Squares   F-statistic:                     43.55\n",
      "Date:                Sun, 31 May 2020   Prob (F-statistic):           8.75e-36\n",
      "Time:                        01:44:44   Log-Likelihood:                 272.94\n",
      "No. Observations:                 404   AIC:                            -533.9\n",
      "Df Residuals:                     398   BIC:                            -509.9\n",
      "Df Model:                           5                                         \n",
      "Covariance Type:            nonrobust                                         \n",
      "==============================================================================\n",
      "                 coef    std err          t      P>|t|      [0.025      0.975]\n",
      "------------------------------------------------------------------------------\n",
      "const         10.7053      0.260     41.119      0.000      10.194      11.217\n",
      "bensal        -0.4208      0.196     -2.145      0.033      -0.806      -0.035\n",
      "lenroll        0.0889      0.007     12.022      0.000       0.074       0.103\n",
      "lstaff        -0.2190      0.050     -4.382      0.000      -0.317      -0.121\n",
      "droprate      -0.0002      0.002     -0.142      0.887      -0.003       0.003\n",
      "gradrate       0.0009      0.001      1.363      0.174      -0.000       0.002\n",
      "==============================================================================\n",
      "Omnibus:                       23.819   Durbin-Watson:                   1.844\n",
      "Prob(Omnibus):                  0.000   Jarque-Bera (JB):               26.356\n",
      "Skew:                           0.609   Prob(JB):                     1.89e-06\n",
      "Kurtosis:                       3.284   Cond. No.                     3.72e+03\n",
      "==============================================================================\n",
      "\n",
      "Warnings:\n",
      "[1] Standard Errors assume that the covariance matrix of the errors is correctly specified.\n",
      "[2] The condition number is large, 3.72e+03. This might indicate that there are\n",
      "strong multicollinearity or other numerical problems.\n"
     ]
    }
   ],
   "source": [
    "y = meap93_limit.lsalary\n",
    "X = sm.add_constant(meap93_limit[[\"bensal\", \"lenroll\", \"lstaff\", \"droprate\", \"gradrate\"]])\n",
    "\n",
    "model = sm.OLS(y, X).fit()\n",
    "print(model.summary())"
   ]
  },
  {
   "cell_type": "markdown",
   "metadata": {},
   "source": [
    "C6.i Four of the observations have a benefits/salary ratio of less than 0.01\n",
    "\n",
    "C6.ii The magnitude of bensal (b/s in the text) is quite a bit smaller than in Example 4.10 (page 156), shrinking from -0.589 to -0.421. The standard error has also grown, though the result is still significant at the 5% level. The remaining coefficients are consistent."
   ]
  },
  {
   "cell_type": "code",
   "execution_count": 22,
   "metadata": {},
   "outputs": [
    {
     "name": "stdout",
     "output_type": "stream",
     "text": [
      "205\n"
     ]
    }
   ],
   "source": [
    "# Exercise 7\n",
    "loanapp = pd.read_stata(\"stata/loanapp.dta\")\n",
    "print(loanapp[loanapp.obrat > 40].shape[0])"
   ]
  },
  {
   "cell_type": "code",
   "execution_count": 23,
   "metadata": {},
   "outputs": [
    {
     "name": "stdout",
     "output_type": "stream",
     "text": [
      "                            OLS Regression Results                            \n",
      "==============================================================================\n",
      "Dep. Variable:                approve   R-squared:                       0.129\n",
      "Model:                            OLS   Adj. R-squared:                  0.122\n",
      "Method:                 Least Squares   F-statistic:                     17.35\n",
      "Date:                Sun, 31 May 2020   Prob (F-statistic):           2.63e-43\n",
      "Time:                        02:08:00   Log-Likelihood:                -249.57\n",
      "No. Observations:                1768   AIC:                             531.1\n",
      "Df Residuals:                    1752   BIC:                             618.8\n",
      "Df Model:                          15                                         \n",
      "Covariance Type:            nonrobust                                         \n",
      "==============================================================================\n",
      "                 coef    std err          t      P>|t|      [0.025      0.975]\n",
      "------------------------------------------------------------------------------\n",
      "const          0.7872      0.055     14.377      0.000       0.680       0.895\n",
      "white          0.1286      0.020      6.508      0.000       0.090       0.167\n",
      "hrat           0.0021      0.001      1.514      0.130      -0.001       0.005\n",
      "obrat         -0.0008      0.001     -0.583      0.560      -0.003       0.002\n",
      "loanprc       -0.1232      0.038     -3.262      0.001      -0.197      -0.049\n",
      "unem          -0.0058      0.003     -1.843      0.065      -0.012       0.000\n",
      "male          -0.0027      0.018     -0.147      0.883      -0.039       0.033\n",
      "married        0.0231      0.016      1.454      0.146      -0.008       0.054\n",
      "dep           -0.0025      0.007     -0.375      0.708      -0.016       0.011\n",
      "sch            0.0058      0.016      0.359      0.720      -0.026       0.038\n",
      "cosign         0.0665      0.044      1.524      0.128      -0.019       0.152\n",
      "chist          0.1265      0.019      6.592      0.000       0.089       0.164\n",
      "pubrec        -0.2190      0.029     -7.475      0.000      -0.276      -0.162\n",
      "mortlat1      -0.0394      0.052     -0.761      0.447      -0.141       0.062\n",
      "mortlat2      -0.0693      0.067     -1.033      0.302      -0.201       0.062\n",
      "vr            -0.0404      0.014     -2.944      0.003      -0.067      -0.013\n",
      "==============================================================================\n",
      "Omnibus:                      803.255   Durbin-Watson:                   1.998\n",
      "Prob(Omnibus):                  0.000   Jarque-Bera (JB):             3186.210\n",
      "Skew:                          -2.277   Prob(JB):                         0.00\n",
      "Kurtosis:                       7.745   Cond. No.                         406.\n",
      "==============================================================================\n",
      "\n",
      "Warnings:\n",
      "[1] Standard Errors assume that the covariance matrix of the errors is correctly specified.\n"
     ]
    }
   ],
   "source": [
    "loanapp_reg = loanapp.loc[loanapp.obrat <= 40, [\"approve\", \"white\", \"hrat\", \"obrat\", \"loanprc\", \"unem\", \"male\", \"married\", \"dep\", \"sch\", \"cosign\", \"chist\", \"pubrec\", \"mortlat1\", \"mortlat2\", \"vr\"]].dropna()\n",
    "\n",
    "y = loanapp_reg.approve\n",
    "X = sm.add_constant(loanapp_reg[[\"white\", \"hrat\", \"obrat\", \"loanprc\", \"unem\", \"male\", \"married\", \"dep\", \"sch\", \"cosign\", \"chist\", \"pubrec\", \"mortlat1\", \"mortlat2\", \"vr\"]])\n",
    "model = sm.OLS(y, X).fit()\n",
    "model_summary = model.summary()\n",
    "print(model_summary)"
   ]
  },
  {
   "cell_type": "markdown",
   "metadata": {},
   "source": [
    "C7.i 405 observations have other debt obligations in excess of 40% of their income\n",
    "\n",
    "C7.ii White's coefficient is consistent, moving from 0.1288 to 0.1286. The t statistic shrinks from 6.529 to 6.508. These are not large changes.\n",
    "\n",
    "C7.iii It does not appear that the estimate for $\\beta_{white}$ is overly sensitive to the sample used (at least with regards to the debt obligations)"
   ]
  },
  {
   "cell_type": "code",
   "execution_count": null,
   "metadata": {},
   "outputs": [],
   "source": []
  }
 ],
 "metadata": {
  "kernelspec": {
   "display_name": "Python 3",
   "language": "python",
   "name": "python3"
  },
  "language_info": {
   "codemirror_mode": {
    "name": "ipython",
    "version": 3
   },
   "file_extension": ".py",
   "mimetype": "text/x-python",
   "name": "python",
   "nbconvert_exporter": "python",
   "pygments_lexer": "ipython3",
   "version": "3.7.6"
  }
 },
 "nbformat": 4,
 "nbformat_minor": 4
}
