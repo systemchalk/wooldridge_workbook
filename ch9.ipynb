{
 "cells": [
  {
   "cell_type": "markdown",
   "metadata": {},
   "source": [
    "# Chapter 9"
   ]
  },
  {
   "cell_type": "code",
   "execution_count": 1,
   "metadata": {},
   "outputs": [],
   "source": [
    "import pandas as pd\n",
    "import statsmodels.api as sm\n",
    "import numpy as np"
   ]
  },
  {
   "cell_type": "code",
   "execution_count": 2,
   "metadata": {},
   "outputs": [
    {
     "name": "stdout",
     "output_type": "stream",
     "text": [
      "<Wald test (chi2): statistic=[[2.66707016]], p-value=0.26354396347186887, df_denom=2>\n"
     ]
    }
   ],
   "source": [
    "from statsmodels.stats.diagnostic import linear_reset\n",
    "\n",
    "# Exercise 1\n",
    "ceosal1 = pd.read_stata(\"stata/CEOSAL1.DTA\")\n",
    "ceosal1[\"rosneg\"] = (ceosal1.ros < 0).astype('int32')\n",
    "\n",
    "y = ceosal1.lsalary\n",
    "X = sm.add_constant(ceosal1[[\"lsales\", \"roe\", \"rosneg\"]])\n",
    "model = sm.OLS(y, X).fit()\n",
    "print(linear_reset(model))"
   ]
  },
  {
   "cell_type": "code",
   "execution_count": 3,
   "metadata": {},
   "outputs": [
    {
     "data": {
      "text/plain": [
       "<class 'statsmodels.stats.contrast.ContrastResults'>\n",
       "<Wald test (chi2): statistic=[[2.99859337]], p-value=0.22328714637257752, df_denom=2>"
      ]
     },
     "execution_count": 3,
     "metadata": {},
     "output_type": "execute_result"
    }
   ],
   "source": [
    "linear_reset(model, cov_type = \"HC3\")"
   ]
  },
  {
   "cell_type": "markdown",
   "metadata": {},
   "source": [
    "C1.i The p-value for the RESET test is about 0.26 which could not be considered evidence of functional form misspecification.\n",
    "\n",
    "C1.ii When considering a heteroskedacticity robust RESET the p-value falls to about 0.22, but this is far from any value we would consider evidence of misspecification."
   ]
  },
  {
   "cell_type": "code",
   "execution_count": 4,
   "metadata": {},
   "outputs": [
    {
     "name": "stdout",
     "output_type": "stream",
     "text": [
      "                            OLS Regression Results                            \n",
      "==============================================================================\n",
      "Dep. Variable:                  lwage   R-squared:                       0.259\n",
      "Model:                            OLS   Adj. R-squared:                  0.252\n",
      "Method:                 Least Squares   F-statistic:                     35.97\n",
      "Date:                Sat, 30 May 2020   Prob (F-statistic):           8.91e-55\n",
      "Time:                        19:28:33   Log-Likelihood:                -377.34\n",
      "No. Observations:                 935   AIC:                             774.7\n",
      "Df Residuals:                     925   BIC:                             823.1\n",
      "Df Model:                           9                                         \n",
      "Covariance Type:            nonrobust                                         \n",
      "==============================================================================\n",
      "                 coef    std err          t      P>|t|      [0.025      0.975]\n",
      "------------------------------------------------------------------------------\n",
      "const          5.3557      0.114     47.113      0.000       5.133       5.579\n",
      "educ           0.0580      0.007      8.464      0.000       0.045       0.071\n",
      "exper          0.0123      0.003      3.785      0.000       0.006       0.019\n",
      "tenure         0.0110      0.002      4.485      0.000       0.006       0.016\n",
      "married        0.1876      0.039      4.794      0.000       0.111       0.264\n",
      "south         -0.0910      0.026     -3.478      0.001      -0.142      -0.040\n",
      "urban          0.1753      0.027      6.485      0.000       0.122       0.228\n",
      "black         -0.1645      0.039     -4.268      0.000      -0.240      -0.089\n",
      "KWW            0.0050      0.002      2.737      0.006       0.001       0.009\n",
      "educ_kww      -0.0001      0.000     -0.849      0.396      -0.000       0.000\n",
      "==============================================================================\n",
      "Omnibus:                       46.012   Durbin-Watson:                   1.817\n",
      "Prob(Omnibus):                  0.000   Jarque-Bera (JB):              106.138\n",
      "Skew:                          -0.267   Prob(JB):                     8.96e-24\n",
      "Kurtosis:                       4.562   Cond. No.                         713.\n",
      "==============================================================================\n",
      "\n",
      "Warnings:\n",
      "[1] Standard Errors assume that the covariance matrix of the errors is correctly specified.\n"
     ]
    }
   ],
   "source": [
    "# Exercise 2\n",
    "wage2 = pd.read_stata(\"stata/WAGE2.DTA\")\n",
    "wage2[\"educ_iq\"] = wage2.educ * wage2.IQ\n",
    "wage2[\"educ_kww\"] = wage2.educ * wage2.KWW\n",
    "\n",
    "y = wage2.lwage\n",
    "X = sm.add_constant(wage2[[\"educ\", \"exper\", \"tenure\", \"married\", \"south\", \"urban\", \"black\", \"KWW\", \"educ_kww\"]])\n",
    "model = sm.OLS(y, X).fit()\n",
    "print(model.summary())"
   ]
  },
  {
   "cell_type": "code",
   "execution_count": 5,
   "metadata": {},
   "outputs": [
    {
     "name": "stdout",
     "output_type": "stream",
     "text": [
      "                            OLS Regression Results                            \n",
      "==============================================================================\n",
      "Dep. Variable:                  lwage   R-squared:                       0.266\n",
      "Model:                            OLS   Adj. R-squared:                  0.258\n",
      "Method:                 Least Squares   F-statistic:                     33.53\n",
      "Date:                Sat, 30 May 2020   Prob (F-statistic):           7.48e-56\n",
      "Time:                        19:28:33   Log-Likelihood:                -372.88\n",
      "No. Observations:                 935   AIC:                             767.8\n",
      "Df Residuals:                     924   BIC:                             821.0\n",
      "Df Model:                          10                                         \n",
      "Covariance Type:            nonrobust                                         \n",
      "=================================================================================\n",
      "                    coef    std err          t      P>|t|      [0.025      0.975]\n",
      "---------------------------------------------------------------------------------\n",
      "const             5.1756      0.128     40.486      0.000       4.925       5.427\n",
      "educ              0.0494      0.007      6.661      0.000       0.035       0.064\n",
      "exper             0.0127      0.003      3.933      0.000       0.006       0.019\n",
      "tenure            0.0109      0.002      4.469      0.000       0.006       0.016\n",
      "married           0.1933      0.039      4.946      0.000       0.117       0.270\n",
      "south            -0.0825      0.026     -3.140      0.002      -0.134      -0.031\n",
      "urban             0.1759      0.027      6.533      0.000       0.123       0.229\n",
      "black            -0.1319      0.040     -3.283      0.001      -0.211      -0.053\n",
      "IQ                0.0032      0.001      3.095      0.002       0.001       0.005\n",
      "KWW               0.0039      0.002      2.091      0.037       0.000       0.008\n",
      "educ_combined  2.074e-07   6.22e-07      0.334      0.739   -1.01e-06    1.43e-06\n",
      "==============================================================================\n",
      "Omnibus:                       49.924   Durbin-Watson:                   1.817\n",
      "Prob(Omnibus):                  0.000   Jarque-Bera (JB):              119.045\n",
      "Skew:                          -0.285   Prob(JB):                     1.41e-26\n",
      "Kurtosis:                       4.652   Cond. No.                     2.22e+05\n",
      "==============================================================================\n",
      "\n",
      "Warnings:\n",
      "[1] Standard Errors assume that the covariance matrix of the errors is correctly specified.\n",
      "[2] The condition number is large, 2.22e+05. This might indicate that there are\n",
      "strong multicollinearity or other numerical problems.\n",
      "<F test: F=array([[8.53845302]]), p=0.00021166405662835709, df_denom=924, df_num=2>\n"
     ]
    }
   ],
   "source": [
    "wage2[\"combined\"] = wage2.IQ * wage2.KWW\n",
    "wage2[\"educ_combined\"] = wage2.combined * wage2.educ\n",
    "X = sm.add_constant(wage2[[\"educ\", \"exper\", \"tenure\", \"married\", \"south\", \"urban\", \"black\", \"IQ\", \"KWW\", \"educ_combined\"]])\n",
    "model = sm.OLS(y, X).fit()\n",
    "print(model.summary())\n",
    "print(model.f_test(\"(IQ = 0), (KWW = 0)\"))"
   ]
  },
  {
   "cell_type": "markdown",
   "metadata": {},
   "source": [
    "C2.i The estimated return to education when using KWW as a proxy for ability is about 5.8%\n",
    "\n",
    "C2.ii The return to education falls to about 4.9%\n",
    "\n",
    "C.iii Both IQ and KWW are significant at the 5% level (in fact, IQ is significant at the 1% level) individually. The F-test provides strong evidence that they are jointly significant."
   ]
  },
  {
   "cell_type": "code",
   "execution_count": 6,
   "metadata": {},
   "outputs": [
    {
     "name": "stdout",
     "output_type": "stream",
     "text": [
      "                            OLS Regression Results                            \n",
      "==============================================================================\n",
      "Dep. Variable:                 lscrap   R-squared:                       0.000\n",
      "Model:                            OLS   Adj. R-squared:                 -0.019\n",
      "Method:                 Least Squares   F-statistic:                   0.01948\n",
      "Date:                Sat, 30 May 2020   Prob (F-statistic):              0.890\n",
      "Time:                        19:28:34   Log-Likelihood:                -94.660\n",
      "No. Observations:                  54   AIC:                             193.3\n",
      "Df Residuals:                      52   BIC:                             197.3\n",
      "Df Model:                           1                                         \n",
      "Covariance Type:            nonrobust                                         \n",
      "==============================================================================\n",
      "                 coef    std err          t      P>|t|      [0.025      0.975]\n",
      "------------------------------------------------------------------------------\n",
      "const          0.4085      0.241      1.698      0.095      -0.074       0.891\n",
      "grant          0.0566      0.406      0.140      0.890      -0.757       0.870\n",
      "==============================================================================\n",
      "Omnibus:                        0.074   Durbin-Watson:                   1.931\n",
      "Prob(Omnibus):                  0.963   Jarque-Bera (JB):                0.086\n",
      "Skew:                          -0.067   Prob(JB):                        0.958\n",
      "Kurtosis:                       2.859   Cond. No.                         2.42\n",
      "==============================================================================\n",
      "\n",
      "Warnings:\n",
      "[1] Standard Errors assume that the covariance matrix of the errors is correctly specified.\n",
      "                            OLS Regression Results                            \n",
      "==============================================================================\n",
      "Dep. Variable:                 lscrap   R-squared:                       0.000\n",
      "Model:                            OLS   Adj. R-squared:                 -0.019\n",
      "Method:                 Least Squares   F-statistic:                   0.02226\n",
      "Date:                Sat, 30 May 2020   Prob (F-statistic):              0.882\n",
      "Time:                        19:28:34   Log-Likelihood:                -94.660\n",
      "No. Observations:                  54   AIC:                             193.3\n",
      "Df Residuals:                      52   BIC:                             197.3\n",
      "Df Model:                           1                                         \n",
      "Covariance Type:                  HC3                                         \n",
      "==============================================================================\n",
      "                 coef    std err          t      P>|t|      [0.025      0.975]\n",
      "------------------------------------------------------------------------------\n",
      "const          0.4085      0.266      1.538      0.130      -0.124       0.941\n",
      "grant          0.0566      0.379      0.149      0.882      -0.705       0.818\n",
      "==============================================================================\n",
      "Omnibus:                        0.074   Durbin-Watson:                   1.931\n",
      "Prob(Omnibus):                  0.963   Jarque-Bera (JB):                0.086\n",
      "Skew:                          -0.067   Prob(JB):                        0.958\n",
      "Kurtosis:                       2.859   Cond. No.                         2.42\n",
      "==============================================================================\n",
      "\n",
      "Warnings:\n",
      "[1] Standard Errors are heteroscedasticity robust (HC3)\n"
     ]
    }
   ],
   "source": [
    "# Exercise 3\n",
    "jtrain = pd.read_stata(\"stata/JTRAIN.DTA\")\n",
    "jtrain_1988 = jtrain.loc[jtrain[\"year\"] == 1988, [\"lscrap\", \"grant\"]].dropna()\n",
    "y = jtrain_1988.lscrap\n",
    "X = sm.add_constant(jtrain_1988.grant)\n",
    "\n",
    "model = sm.OLS(y, X).fit()\n",
    "print(model.summary())\n",
    "print(model.get_robustcov_results(cov_type = \"HC3\").summary())"
   ]
  },
  {
   "cell_type": "code",
   "execution_count": 7,
   "metadata": {},
   "outputs": [
    {
     "name": "stdout",
     "output_type": "stream",
     "text": [
      "                            OLS Regression Results                            \n",
      "==============================================================================\n",
      "Dep. Variable:                 lscrap   R-squared:                       0.873\n",
      "Model:                            OLS   Adj. R-squared:                  0.868\n",
      "Method:                 Least Squares   F-statistic:                     174.9\n",
      "Date:                Sat, 30 May 2020   Prob (F-statistic):           1.47e-23\n",
      "Time:                        19:28:34   Log-Likelihood:                -39.000\n",
      "No. Observations:                  54   AIC:                             84.00\n",
      "Df Residuals:                      51   BIC:                             89.97\n",
      "Df Model:                           2                                         \n",
      "Covariance Type:            nonrobust                                         \n",
      "==============================================================================\n",
      "                 coef    std err          t      P>|t|      [0.025      0.975]\n",
      "------------------------------------------------------------------------------\n",
      "const          0.0212      0.089      0.238      0.813      -0.158       0.200\n",
      "grant         -0.2540      0.147     -1.727      0.090      -0.549       0.041\n",
      "lscrap_lag     0.8312      0.044     18.701      0.000       0.742       0.920\n",
      "==============================================================================\n",
      "Omnibus:                       13.769   Durbin-Watson:                   1.541\n",
      "Prob(Omnibus):                  0.001   Jarque-Bera (JB):               35.075\n",
      "Skew:                          -0.526   Prob(JB):                     2.42e-08\n",
      "Kurtosis:                       6.805   Cond. No.                         3.95\n",
      "==============================================================================\n",
      "\n",
      "Warnings:\n",
      "[1] Standard Errors assume that the covariance matrix of the errors is correctly specified.\n",
      "One sided p-value for grant is:  0.045081345662734355\n",
      "                            OLS Regression Results                            \n",
      "==============================================================================\n",
      "Dep. Variable:                 lscrap   R-squared:                       0.873\n",
      "Model:                            OLS   Adj. R-squared:                  0.868\n",
      "Method:                 Least Squares   F-statistic:                     55.82\n",
      "Date:                Sat, 30 May 2020   Prob (F-statistic):           1.43e-13\n",
      "Time:                        19:28:34   Log-Likelihood:                -39.000\n",
      "No. Observations:                  54   AIC:                             84.00\n",
      "Df Residuals:                      51   BIC:                             89.97\n",
      "Df Model:                           2                                         \n",
      "Covariance Type:                  HC3                                         \n",
      "==============================================================================\n",
      "                 coef    std err          t      P>|t|      [0.025      0.975]\n",
      "------------------------------------------------------------------------------\n",
      "const          0.0212      0.116      0.183      0.855      -0.212       0.254\n",
      "grant         -0.2540      0.153     -1.663      0.102      -0.561       0.053\n",
      "lscrap_lag     0.8312      0.088      9.424      0.000       0.654       1.008\n",
      "==============================================================================\n",
      "Omnibus:                       13.769   Durbin-Watson:                   1.541\n",
      "Prob(Omnibus):                  0.001   Jarque-Bera (JB):               35.075\n",
      "Skew:                          -0.526   Prob(JB):                     2.42e-08\n",
      "Kurtosis:                       6.805   Cond. No.                         3.95\n",
      "==============================================================================\n",
      "\n",
      "Warnings:\n",
      "[1] Standard Errors are heteroscedasticity robust (HC3)\n",
      "One sided p-value for grant is:  0.05122786867683199\n"
     ]
    }
   ],
   "source": [
    "jtrain[\"lscrap_lag\"] = jtrain[\"lscrap\"].shift(1)\n",
    "jtrain_1988 = jtrain.loc[jtrain[\"year\"] == 1988, [\"lscrap\", \"lscrap_lag\", \"grant\"]].dropna()\n",
    "y = jtrain_1988.lscrap\n",
    "X = sm.add_constant(jtrain_1988[[\"grant\", \"lscrap_lag\"]])\n",
    "\n",
    "model = sm.OLS(y, X).fit()\n",
    "model_hc3 = model.get_robustcov_results(cov_type = \"HC3\")\n",
    "print(model.summary())\n",
    "print(\"One sided p-value for grant is: \", (model.pvalues[1] / 2))\n",
    "print(model_hc3.summary())\n",
    "print(\"One sided p-value for grant is: \", (model_hc3.pvalues[1] / 2))"
   ]
  },
  {
   "cell_type": "code",
   "execution_count": 8,
   "metadata": {},
   "outputs": [
    {
     "name": "stdout",
     "output_type": "stream",
     "text": [
      "                             Test for Constraints                             \n",
      "==============================================================================\n",
      "                 coef    std err          t      P>|t|      [0.025      0.975]\n",
      "------------------------------------------------------------------------------\n",
      "c0             0.8312      0.044     -3.799      0.000       0.742       0.920\n",
      "==============================================================================\n",
      "                             Test for Constraints                             \n",
      "==============================================================================\n",
      "                 coef    std err          t      P>|t|      [0.025      0.975]\n",
      "------------------------------------------------------------------------------\n",
      "c0             0.8312      0.088     -1.914      0.061       0.654       1.008\n",
      "==============================================================================\n"
     ]
    }
   ],
   "source": [
    "print(model.t_test(\"lscrap_lag = 1\"))\n",
    "print(model_hc3.t_test(\"lscrap_lag = 1\"))"
   ]
  },
  {
   "cell_type": "markdown",
   "metadata": {},
   "source": [
    "C3.i Quite a lot depends on how grants are assigned. It would be fair to say that grants can be assigned to over or under performing firms, depending on who is administering the program. In either case the factors leading to higher or lower productivity are unobserved but would be correlated with grant.\n",
    "\n",
    "C3.ii The simple regression does not provide evidence that receiving a job training grant significantly lowers a firm's scrap rate. With a positive coefficient, a significant result would mean the grant increased the scrap rate!\n",
    "\n",
    "C3.iii Adding the lag turns the coefficient for grant negative. It is statistically significant at the 5% level with a p-value of 0.045 against the one sided test $\\beta_{grant} < 0$\n",
    "\n",
    "C3.iv The t-test is listed above and the p-value is incredibly small (0.000)\n",
    "\n",
    "C3.v Robust results are reported below the standard results. The results from part (ii) do not substantively change. While the question did not ask to check part (iii), grant is now only significant at the 10% level when tested against the one sided alternative. The robust standard error is quite a bit larger and the test is now significant only at the 10% level."
   ]
  },
  {
   "cell_type": "code",
   "execution_count": null,
   "metadata": {},
   "outputs": [],
   "source": []
  }
 ],
 "metadata": {
  "kernelspec": {
   "display_name": "Python 3",
   "language": "python",
   "name": "python3"
  },
  "language_info": {
   "codemirror_mode": {
    "name": "ipython",
    "version": 3
   },
   "file_extension": ".py",
   "mimetype": "text/x-python",
   "name": "python",
   "nbconvert_exporter": "python",
   "pygments_lexer": "ipython3",
   "version": "3.7.6"
  }
 },
 "nbformat": 4,
 "nbformat_minor": 4
}
