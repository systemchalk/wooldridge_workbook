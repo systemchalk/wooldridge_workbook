{
 "cells": [
  {
   "cell_type": "markdown",
   "metadata": {},
   "source": [
    "## Chapter 5"
   ]
  },
  {
   "cell_type": "code",
   "execution_count": 1,
   "metadata": {},
   "outputs": [],
   "source": [
    "import pandas as pd\n",
    "import statsmodels.api as sm\n",
    "import numpy as np\n",
    "import matplotlib.pyplot as plt"
   ]
  },
  {
   "cell_type": "code",
   "execution_count": 2,
   "metadata": {},
   "outputs": [
    {
     "name": "stdout",
     "output_type": "stream",
     "text": [
      "                            OLS Regression Results                            \n",
      "==============================================================================\n",
      "Dep. Variable:                   wage   R-squared:                       0.306\n",
      "Model:                            OLS   Adj. R-squared:                  0.302\n",
      "Method:                 Least Squares   F-statistic:                     76.87\n",
      "Date:                Sun, 24 May 2020   Prob (F-statistic):           3.41e-41\n",
      "Time:                        23:25:35   Log-Likelihood:                -1336.8\n",
      "No. Observations:                 526   AIC:                             2682.\n",
      "Df Residuals:                     522   BIC:                             2699.\n",
      "Df Model:                           3                                         \n",
      "Covariance Type:            nonrobust                                         \n",
      "==============================================================================\n",
      "                 coef    std err          t      P>|t|      [0.025      0.975]\n",
      "------------------------------------------------------------------------------\n",
      "const         -2.8727      0.729     -3.941      0.000      -4.305      -1.441\n",
      "educ           0.5990      0.051     11.679      0.000       0.498       0.700\n",
      "exper          0.0223      0.012      1.853      0.064      -0.001       0.046\n",
      "tenure         0.1693      0.022      7.820      0.000       0.127       0.212\n",
      "==============================================================================\n",
      "Omnibus:                      179.597   Durbin-Watson:                   1.791\n",
      "Prob(Omnibus):                  0.000   Jarque-Bera (JB):              650.808\n",
      "Skew:                           1.555   Prob(JB):                    4.77e-142\n",
      "Kurtosis:                       7.475   Cond. No.                         135.\n",
      "==============================================================================\n",
      "\n",
      "Warnings:\n",
      "[1] Standard Errors assume that the covariance matrix of the errors is correctly specified.\n"
     ]
    },
    {
     "data": {
      "text/plain": [
       "(array([  7.,  37., 182., 172.,  70.,  35.,  11.,   4.,   4.,   4.]),\n",
       " array([-7.6067704 , -5.38073337, -3.15469634, -0.9286593 ,  1.29737773,\n",
       "         3.52341476,  5.74945179,  7.97548883, 10.20152586, 12.42756289,\n",
       "        14.65359993]),\n",
       " <a list of 10 Patch objects>)"
      ]
     },
     "execution_count": 2,
     "metadata": {},
     "output_type": "execute_result"
    },
    {
     "data": {
      "image/png": "[encoded data removed]",
      "text/plain": [
       "<Figure size 432x288 with 1 Axes>"
      ]
     },
     "metadata": {
      "needs_background": "light"
     },
     "output_type": "display_data"
    }
   ],
   "source": [
    "#Exercise C1\n",
    "wage1 = pd.read_stata(\"stata/WAGE1.DTA\")\n",
    "\n",
    "y = wage1.wage\n",
    "X = sm.add_constant(wage1[[\"educ\", \"exper\", \"tenure\"]])\n",
    "\n",
    "model = sm.OLS(y, X).fit()\n",
    "model_summary = model.summary()\n",
    "print(model_summary)\n",
    "plt.hist(model.resid)"
   ]
  },
  {
   "cell_type": "code",
   "execution_count": 3,
   "metadata": {},
   "outputs": [
    {
     "name": "stdout",
     "output_type": "stream",
     "text": [
      "                            OLS Regression Results                            \n",
      "==============================================================================\n",
      "Dep. Variable:                  lwage   R-squared:                       0.316\n",
      "Model:                            OLS   Adj. R-squared:                  0.312\n",
      "Method:                 Least Squares   F-statistic:                     80.39\n",
      "Date:                Sun, 24 May 2020   Prob (F-statistic):           9.13e-43\n",
      "Time:                        23:25:35   Log-Likelihood:                -313.55\n",
      "No. Observations:                 526   AIC:                             635.1\n",
      "Df Residuals:                     522   BIC:                             652.2\n",
      "Df Model:                           3                                         \n",
      "Covariance Type:            nonrobust                                         \n",
      "==============================================================================\n",
      "                 coef    std err          t      P>|t|      [0.025      0.975]\n",
      "------------------------------------------------------------------------------\n",
      "const          0.2844      0.104      2.729      0.007       0.080       0.489\n",
      "educ           0.0920      0.007     12.555      0.000       0.078       0.106\n",
      "exper          0.0041      0.002      2.391      0.017       0.001       0.008\n",
      "tenure         0.0221      0.003      7.133      0.000       0.016       0.028\n",
      "==============================================================================\n",
      "Omnibus:                       11.534   Durbin-Watson:                   1.769\n",
      "Prob(Omnibus):                  0.003   Jarque-Bera (JB):               20.941\n",
      "Skew:                           0.021   Prob(JB):                     2.84e-05\n",
      "Kurtosis:                       3.977   Cond. No.                         135.\n",
      "==============================================================================\n",
      "\n",
      "Warnings:\n",
      "[1] Standard Errors assume that the covariance matrix of the errors is correctly specified.\n"
     ]
    },
    {
     "data": {
      "text/plain": [
       "(array([  1.,   1.,   5.,  20.,  91., 174., 138.,  70.,  19.,   7.]),\n",
       " array([-2.05801628, -1.70940549, -1.3607947 , -1.01218391, -0.66357312,\n",
       "        -0.31496233,  0.03364847,  0.38225926,  0.73087005,  1.07948084,\n",
       "         1.42809163]),\n",
       " <a list of 10 Patch objects>)"
      ]
     },
     "execution_count": 3,
     "metadata": {},
     "output_type": "execute_result"
    },
    {
     "data": {
      "image/png": "[encoded data removed]",
      "text/plain": [
       "<Figure size 432x288 with 1 Axes>"
      ]
     },
     "metadata": {
      "needs_background": "light"
     },
     "output_type": "display_data"
    }
   ],
   "source": [
    "y = wage1.lwage\n",
    "\n",
    "model = sm.OLS(y, X).fit()\n",
    "model_summary = model.summary()\n",
    "print(model_summary)\n",
    "plt.hist(model.resid)"
   ]
  },
  {
   "cell_type": "markdown",
   "metadata": {},
   "source": [
    "Results from previous section are above and don't require exposition \n",
    "\n",
    "C1.iii The log-level model seems to meet the normality assumption better"
   ]
  },
  {
   "cell_type": "code",
   "execution_count": 4,
   "metadata": {},
   "outputs": [
    {
     "name": "stdout",
     "output_type": "stream",
     "text": [
      "                            OLS Regression Results                            \n",
      "==============================================================================\n",
      "Dep. Variable:                 colgpa   R-squared:                       0.273\n",
      "Model:                            OLS   Adj. R-squared:                  0.273\n",
      "Method:                 Least Squares   F-statistic:                     777.2\n",
      "Date:                Sun, 24 May 2020   Prob (F-statistic):          3.05e-287\n",
      "Time:                        23:25:36   Log-Likelihood:                -3481.0\n",
      "No. Observations:                4136   AIC:                             6968.\n",
      "Df Residuals:                    4133   BIC:                             6987.\n",
      "Df Model:                           2                                         \n",
      "Covariance Type:            nonrobust                                         \n",
      "==============================================================================\n",
      "                 coef    std err          t      P>|t|      [0.025      0.975]\n",
      "------------------------------------------------------------------------------\n",
      "const          1.3919      0.072     19.453      0.000       1.252       1.532\n",
      "hsperc        -0.0135      0.001    -24.593      0.000      -0.015      -0.012\n",
      "sat            0.0015   6.53e-05     22.599      0.000       0.001       0.002\n",
      "==============================================================================\n",
      "Omnibus:                      185.146   Durbin-Watson:                   1.872\n",
      "Prob(Omnibus):                  0.000   Jarque-Bera (JB):              226.430\n",
      "Skew:                          -0.481   Prob(JB):                     6.78e-50\n",
      "Kurtosis:                       3.624   Cond. No.                     8.52e+03\n",
      "==============================================================================\n",
      "\n",
      "Warnings:\n",
      "[1] Standard Errors assume that the covariance matrix of the errors is correctly specified.\n",
      "[2] The condition number is large, 8.52e+03. This might indicate that there are\n",
      "strong multicollinearity or other numerical problems.\n"
     ]
    }
   ],
   "source": [
    "#Exercise C2\n",
    "gpa2 = pd.read_excel(\"excel/gpa2.xls\", \n",
    "                     names = [\"sat\", \"tothrs\", \"colgpa\", \"athlete\", \"verbmath\", \"hsize\", \"hsrank\", \"hsperc\", \"female\", \"white\", \"black\", \"hsizesq\"],\n",
    "                     sep = \" \")\n",
    "\n",
    "y = gpa2.colgpa\n",
    "X = sm.add_constant(gpa2[[\"hsperc\", \"sat\"]])\n",
    "\n",
    "model = sm.OLS(y, X).fit()\n",
    "model_summary = model.summary()\n",
    "print(model_summary)\n",
    "m1_hsperc_se = model.bse[1]"
   ]
  },
  {
   "cell_type": "code",
   "execution_count": 5,
   "metadata": {},
   "outputs": [
    {
     "name": "stdout",
     "output_type": "stream",
     "text": [
      "                            OLS Regression Results                            \n",
      "==============================================================================\n",
      "Dep. Variable:                 colgpa   R-squared:                       0.282\n",
      "Model:                            OLS   Adj. R-squared:                  0.281\n",
      "Method:                 Least Squares   F-statistic:                     406.1\n",
      "Date:                Sun, 24 May 2020   Prob (F-statistic):          1.68e-149\n",
      "Time:                        23:25:36   Log-Likelihood:                -1660.5\n",
      "No. Observations:                2071   AIC:                             3327.\n",
      "Df Residuals:                    2068   BIC:                             3344.\n",
      "Df Model:                           2                                         \n",
      "Covariance Type:            nonrobust                                         \n",
      "==============================================================================\n",
      "                 coef    std err          t      P>|t|      [0.025      0.975]\n",
      "------------------------------------------------------------------------------\n",
      "const          1.4418      0.098     14.739      0.000       1.250       1.634\n",
      "hsperc        -0.0128      0.001    -17.755      0.000      -0.014      -0.011\n",
      "sat            0.0015   8.86e-05     16.516      0.000       0.001       0.002\n",
      "==============================================================================\n",
      "Omnibus:                       91.140   Durbin-Watson:                   1.932\n",
      "Prob(Omnibus):                  0.000   Jarque-Bera (JB):              108.646\n",
      "Skew:                          -0.480   Prob(JB):                     2.56e-24\n",
      "Kurtosis:                       3.580   Cond. No.                     8.63e+03\n",
      "==============================================================================\n",
      "\n",
      "Warnings:\n",
      "[1] Standard Errors assume that the covariance matrix of the errors is correctly specified.\n",
      "[2] The condition number is large, 8.63e+03. This might indicate that there are\n",
      "strong multicollinearity or other numerical problems.\n"
     ]
    }
   ],
   "source": [
    "gpa2_limit = gpa2[:2071] # Observation 2071 is not included\n",
    "\n",
    "y = gpa2_limit.colgpa\n",
    "X = sm.add_constant(gpa2_limit[[\"hsperc\", \"sat\"]])\n",
    "\n",
    "model = sm.OLS(y, X).fit()\n",
    "model_summary = model.summary()\n",
    "print(model_summary)\n",
    "m2_hsperc_se = model.bse[1]"
   ]
  },
  {
   "cell_type": "code",
   "execution_count": 6,
   "metadata": {},
   "outputs": [
    {
     "data": {
      "text/plain": [
       "0.7644972590676546"
      ]
     },
     "execution_count": 6,
     "metadata": {},
     "output_type": "execute_result"
    }
   ],
   "source": [
    "m1_hsperc_se / m2_hsperc_se"
   ]
  },
  {
   "cell_type": "code",
   "execution_count": 7,
   "metadata": {},
   "outputs": [
    {
     "data": {
      "text/plain": [
       "0.7074486263992582"
      ]
     },
     "execution_count": 7,
     "metadata": {},
     "output_type": "execute_result"
    }
   ],
   "source": [
    "np.sqrt(2070 / 4136)"
   ]
  },
  {
   "cell_type": "markdown",
   "metadata": {},
   "source": [
    "C2.iii Close? I'm unclear as to how close it should be"
   ]
  },
  {
   "cell_type": "code",
   "execution_count": 8,
   "metadata": {},
   "outputs": [
    {
     "name": "stdout",
     "output_type": "stream",
     "text": [
      "                            OLS Regression Results                            \n",
      "==============================================================================\n",
      "Dep. Variable:                  bwght   R-squared:                       0.036\n",
      "Model:                            OLS   Adj. R-squared:                  0.034\n",
      "Method:                 Least Squares   F-statistic:                     14.95\n",
      "Date:                Sun, 24 May 2020   Prob (F-statistic):           1.47e-09\n",
      "Time:                        23:25:36   Log-Likelihood:                -5243.7\n",
      "No. Observations:                1191   AIC:                         1.050e+04\n",
      "Df Residuals:                    1187   BIC:                         1.052e+04\n",
      "Df Model:                           3                                         \n",
      "Covariance Type:            nonrobust                                         \n",
      "==============================================================================\n",
      "                 coef    std err          t      P>|t|      [0.025      0.975]\n",
      "------------------------------------------------------------------------------\n",
      "const        115.4699      1.656     69.733      0.000     112.221     118.719\n",
      "cigs          -0.5979      0.109     -5.496      0.000      -0.811      -0.384\n",
      "parity         1.8323      0.658      2.787      0.005       0.542       3.122\n",
      "faminc         0.0671      0.032      2.070      0.039       0.004       0.131\n",
      "==============================================================================\n",
      "Omnibus:                      119.243   Durbin-Watson:                   1.940\n",
      "Prob(Omnibus):                  0.000   Jarque-Bera (JB):              813.708\n",
      "Skew:                          -0.117   Prob(JB):                    2.02e-177\n",
      "Kurtosis:                       7.043   Cond. No.                         111.\n",
      "==============================================================================\n",
      "\n",
      "Warnings:\n",
      "[1] Standard Errors assume that the covariance matrix of the errors is correctly specified.\n"
     ]
    }
   ],
   "source": [
    "#Exercise C3\n",
    "bwght = pd.read_stata(\"stata/BWGHT.DTA\").dropna()\n",
    "\n",
    "y = bwght.bwght\n",
    "X = sm.add_constant(bwght[[\"cigs\", \"parity\", \"faminc\"]])\n",
    "\n",
    "model = sm.OLS(y, X).fit()\n",
    "model_summary = model.summary()\n",
    "print(model_summary)"
   ]
  },
  {
   "cell_type": "code",
   "execution_count": 9,
   "metadata": {},
   "outputs": [],
   "source": [
    "restrict_resid = model.resid"
   ]
  },
  {
   "cell_type": "code",
   "execution_count": 10,
   "metadata": {},
   "outputs": [
    {
     "name": "stdout",
     "output_type": "stream",
     "text": [
      "                            OLS Regression Results                            \n",
      "==============================================================================\n",
      "Dep. Variable:                      y   R-squared:                       0.002\n",
      "Model:                            OLS   Adj. R-squared:                 -0.002\n",
      "Method:                 Least Squares   F-statistic:                    0.5749\n",
      "Date:                Sun, 24 May 2020   Prob (F-statistic):              0.719\n",
      "Time:                        23:25:36   Log-Likelihood:                -5242.2\n",
      "No. Observations:                1191   AIC:                         1.050e+04\n",
      "Df Residuals:                    1185   BIC:                         1.053e+04\n",
      "Df Model:                           5                                         \n",
      "Covariance Type:            nonrobust                                         \n",
      "==============================================================================\n",
      "                 coef    std err          t      P>|t|      [0.025      0.975]\n",
      "------------------------------------------------------------------------------\n",
      "const         -0.9456      3.728     -0.254      0.800      -8.261       6.370\n",
      "cigs           0.0019      0.110      0.017      0.986      -0.215       0.218\n",
      "parity        -0.0447      0.659     -0.068      0.946      -1.338       1.249\n",
      "faminc        -0.0110      0.037     -0.301      0.763      -0.083       0.061\n",
      "motheduc      -0.3705      0.320     -1.158      0.247      -0.998       0.257\n",
      "fatheduc       0.4724      0.283      1.671      0.095      -0.082       1.027\n",
      "==============================================================================\n",
      "Omnibus:                      120.762   Durbin-Watson:                   1.938\n",
      "Prob(Omnibus):                  0.000   Jarque-Bera (JB):              838.114\n",
      "Skew:                          -0.119   Prob(JB):                    1.01e-182\n",
      "Kurtosis:                       7.103   Cond. No.                         266.\n",
      "==============================================================================\n",
      "\n",
      "Warnings:\n",
      "[1] Standard Errors assume that the covariance matrix of the errors is correctly specified.\n"
     ]
    }
   ],
   "source": [
    "y = restrict_resid\n",
    "X = sm.add_constant(bwght[[\"cigs\", \"parity\", \"faminc\", \"motheduc\", \"fatheduc\"]])\n",
    "model = sm.OLS(y, X).fit()\n",
    "model_summary = model.summary()\n",
    "print(model_summary)"
   ]
  },
  {
   "cell_type": "code",
   "execution_count": 11,
   "metadata": {},
   "outputs": [
    {
     "data": {
      "text/plain": [
       "2.8821005843631924"
      ]
     },
     "execution_count": 11,
     "metadata": {},
     "output_type": "execute_result"
    }
   ],
   "source": [
    "model.rsquared * model.nobs"
   ]
  },
  {
   "cell_type": "markdown",
   "metadata": {},
   "source": [
    "C3 We fail to reject the null that the two variables are jointly significant"
   ]
  },
  {
   "cell_type": "code",
   "execution_count": 12,
   "metadata": {},
   "outputs": [
    {
     "name": "stdout",
     "output_type": "stream",
     "text": [
      "1.8631844899011036\n",
      "0.3607680911109561\n"
     ]
    },
    {
     "name": "stderr",
     "output_type": "stream",
     "text": [
      "/home/systemchalk/anaconda3/lib/python3.7/site-packages/ipykernel_launcher.py:4: SettingWithCopyWarning: \n",
      "A value is trying to be set on a copy of a slice from a DataFrame.\n",
      "Try using .loc[row_indexer,col_indexer] = value instead\n",
      "\n",
      "See the caveats in the documentation: https://pandas.pydata.org/pandas-docs/stable/user_guide/indexing.html#returning-a-view-versus-a-copy\n",
      "  after removing the cwd from sys.path.\n"
     ]
    }
   ],
   "source": [
    "#Exercise C4\n",
    "ksubs = pd.read_stata(\"stata/401ksubs.dta\")\n",
    "ksubs_single = ksubs[ksubs.fsize == 1]\n",
    "ksubs_single[\"linc\"] = np.log(ksubs.inc)\n",
    "\n",
    "print((((ksubs_single.inc - ksubs_single.inc.mean()) / ksubs_single.inc.std()) ** 3).sum() / (ksubs_single.inc.shape[0] - 1))\n",
    "print((((ksubs_single.linc - ksubs_single.linc.mean()) / ksubs_single.linc.std()) ** 3).sum() / (ksubs_single.inc.shape[0] - 1))"
   ]
  },
  {
   "cell_type": "code",
   "execution_count": 13,
   "metadata": {},
   "outputs": [
    {
     "name": "stdout",
     "output_type": "stream",
     "text": [
      "-0.6004840697737879\n",
      "-2.950182512117695\n"
     ]
    }
   ],
   "source": [
    "bwght2 = pd.read_stata(\"stata/bwght2.dta\")\n",
    "bwght2[\"lbwght\"] = np.log(bwght2.bwght)\n",
    "\n",
    "print((((bwght2.bwght - bwght2.bwght.mean()) / bwght2.bwght.std()) ** 3).sum() / (bwght2.bwght.shape[0] - 1))\n",
    "print((((bwght2.lbwght - bwght2.lbwght.mean()) / bwght2.lbwght.std()) ** 3).sum() / (bwght2.lbwght.shape[0] - 1))"
   ]
  },
  {
   "cell_type": "markdown",
   "metadata": {},
   "source": [
    "C4.i Log shows less skewness\n",
    "\n",
    "C4.ii log shows more skewness\n",
    "\n",
    "C4.iii As seen by ii, this is not true\n",
    "\n",
    "C4.iv We should be studying conditional distributions."
   ]
  },
  {
   "cell_type": "code",
   "execution_count": 14,
   "metadata": {},
   "outputs": [
    {
     "name": "stdout",
     "output_type": "stream",
     "text": [
      "[15 13 18 12 17 16 20 14 11  9  8 10 19  7  6]\n"
     ]
    },
    {
     "data": {
      "image/png": "[encoded data removed]",
      "text/plain": [
       "<Figure size 432x288 with 1 Axes>"
      ]
     },
     "metadata": {
      "needs_background": "light"
     },
     "output_type": "display_data"
    }
   ],
   "source": [
    "#Exercise C5\n",
    "htv = pd.read_stata(\"stata/HTV.DTA\")\n",
    "htv[\"abil2\"] = htv.abil ** 2\n",
    "\n",
    "print(htv.educ.unique())\n",
    "\n",
    "from scipy.stats import norm\n",
    "import seaborn as sns\n",
    "\n",
    "sns.distplot(htv.educ, bins = 10)\n",
    "plt.show()"
   ]
  },
  {
   "cell_type": "markdown",
   "metadata": {},
   "source": [
    "C5.i No, discrete values year over year (14 different values)\n",
    "\n",
    "C5.ii Doesn't seem to be normal\n",
    "\n",
    "C5.iii Error is not normal and so the errors may be incorrect"
   ]
  }
 ],
 "metadata": {
  "kernelspec": {
   "display_name": "Python 3",
   "language": "python",
   "name": "python3"
  },
  "language_info": {
   "codemirror_mode": {
    "name": "ipython",
    "version": 3
   },
   "file_extension": ".py",
   "mimetype": "text/x-python",
   "name": "python",
   "nbconvert_exporter": "python",
   "pygments_lexer": "ipython3",
   "version": "3.7.6"
  }
 },
 "nbformat": 4,
 "nbformat_minor": 4
}
