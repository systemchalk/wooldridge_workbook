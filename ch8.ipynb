{
 "cells": [
  {
   "cell_type": "markdown",
   "metadata": {},
   "source": [
    "## Chapter 8"
   ]
  },
  {
   "cell_type": "code",
   "execution_count": 1,
   "metadata": {},
   "outputs": [],
   "source": [
    "import pandas as pd\n",
    "import statsmodels.api as sm\n",
    "import numpy as np"
   ]
  },
  {
   "cell_type": "code",
   "execution_count": 2,
   "metadata": {},
   "outputs": [
    {
     "name": "stdout",
     "output_type": "stream",
     "text": [
      "                            OLS Regression Results                            \n",
      "==============================================================================\n",
      "Dep. Variable:                  sleep   R-squared:                       0.123\n",
      "Model:                            OLS   Adj. R-squared:                  0.115\n",
      "Method:                 Least Squares   F-statistic:                     16.30\n",
      "Date:                Mon, 25 May 2020   Prob (F-statistic):           1.28e-17\n",
      "Time:                        17:06:29   Log-Likelihood:                -5259.3\n",
      "No. Observations:                 706   AIC:                         1.053e+04\n",
      "Df Residuals:                     699   BIC:                         1.056e+04\n",
      "Df Model:                           6                                         \n",
      "Covariance Type:            nonrobust                                         \n",
      "==============================================================================\n",
      "                 coef    std err          t      P>|t|      [0.025      0.975]\n",
      "------------------------------------------------------------------------------\n",
      "const       3840.8521    239.414     16.043      0.000    3370.795    4310.909\n",
      "totwrk        -0.1634      0.018     -8.997      0.000      -0.199      -0.128\n",
      "educ         -11.7133      5.872     -1.995      0.046     -23.242      -0.184\n",
      "age           -8.6974     11.329     -0.768      0.443     -30.941      13.546\n",
      "agesq          0.1284      0.135      0.954      0.341      -0.136       0.393\n",
      "yngkid        -0.0228     50.276     -0.000      1.000     -98.734      98.688\n",
      "male          87.7546     34.668      2.531      0.012      19.689     155.820\n",
      "==============================================================================\n",
      "Omnibus:                       67.254   Durbin-Watson:                   1.938\n",
      "Prob(Omnibus):                  0.000   Jarque-Bera (JB):              184.068\n",
      "Skew:                          -0.480   Prob(JB):                     1.07e-40\n",
      "Kurtosis:                       5.310   Cond. No.                     4.32e+04\n",
      "==============================================================================\n",
      "\n",
      "Warnings:\n",
      "[1] Standard Errors assume that the covariance matrix of the errors is correctly specified.\n",
      "[2] The condition number is large, 4.32e+04. This might indicate that there are\n",
      "strong multicollinearity or other numerical problems.\n"
     ]
    }
   ],
   "source": [
    "# Exercise 1\n",
    "sleep75 = pd.read_stata(\"stata/SLEEP75.DTA\")\n",
    "\n",
    "y = sleep75.sleep\n",
    "X = sm.add_constant(sleep75[[\"totwrk\", \"educ\", \"age\", \"agesq\", \"yngkid\", \"male\"]])\n",
    "model = sm.OLS(y, X).fit()\n",
    "model_summary = model.summary()\n",
    "print(model_summary)"
   ]
  },
  {
   "cell_type": "code",
   "execution_count": 3,
   "metadata": {},
   "outputs": [
    {
     "name": "stdout",
     "output_type": "stream",
     "text": [
      "                            OLS Regression Results                            \n",
      "==============================================================================\n",
      "Dep. Variable:              u_squared   R-squared:                       0.002\n",
      "Model:                            OLS   Adj. R-squared:                  0.000\n",
      "Method:                 Least Squares   F-statistic:                     1.117\n",
      "Date:                Mon, 25 May 2020   Prob (F-statistic):              0.291\n",
      "Time:                        17:06:30   Log-Likelihood:                -10032.\n",
      "No. Observations:                 706   AIC:                         2.007e+04\n",
      "Df Residuals:                     704   BIC:                         2.008e+04\n",
      "Df Model:                           1                                         \n",
      "Covariance Type:            nonrobust                                         \n",
      "==============================================================================\n",
      "                 coef    std err          t      P>|t|      [0.025      0.975]\n",
      "------------------------------------------------------------------------------\n",
      "const       1.894e+05   2.05e+04      9.216      0.000    1.49e+05     2.3e+05\n",
      "male       -2.885e+04   2.73e+04     -1.057      0.291   -8.24e+04    2.47e+04\n",
      "==============================================================================\n",
      "Omnibus:                      982.035   Durbin-Watson:                   2.038\n",
      "Prob(Omnibus):                  0.000   Jarque-Bera (JB):           230588.128\n",
      "Skew:                           7.369   Prob(JB):                         0.00\n",
      "Kurtosis:                      90.301   Cond. No.                         2.80\n",
      "==============================================================================\n",
      "\n",
      "Warnings:\n",
      "[1] Standard Errors assume that the covariance matrix of the errors is correctly specified.\n"
     ]
    }
   ],
   "source": [
    "sleep75[\"u_squared\"] = model.resid ** 2\n",
    "\n",
    "model = sm.OLS(sleep75.u_squared, sm.add_constant(sleep75.male)).fit()\n",
    "model_summary = model.summary()\n",
    "print(model_summary)"
   ]
  },
  {
   "cell_type": "markdown",
   "metadata": {},
   "source": [
    "C1.i $Var(u_i|male_i) = \\pi_0 + \\pi_1 male_i$\n",
    "\n",
    "C1.ii Results above. Since male is negative it implies that the variance is higher for women.\n",
    "\n",
    "C1.iii The t-statistic is just over 1 (p-value 0.291) and so the variance of $u$ is not statistically different for men and women"
   ]
  },
  {
   "cell_type": "code",
   "execution_count": 4,
   "metadata": {},
   "outputs": [
    {
     "name": "stdout",
     "output_type": "stream",
     "text": [
      "                            OLS Regression Results                            \n",
      "==============================================================================\n",
      "Dep. Variable:                  price   R-squared:                       0.672\n",
      "Model:                            OLS   Adj. R-squared:                  0.661\n",
      "Method:                 Least Squares   F-statistic:                     19.54\n",
      "Date:                Mon, 25 May 2020   Prob (F-statistic):           1.06e-09\n",
      "Time:                        17:06:30   Log-Likelihood:                -482.88\n",
      "No. Observations:                  88   AIC:                             973.8\n",
      "Df Residuals:                      84   BIC:                             983.7\n",
      "Df Model:                           3                                         \n",
      "Covariance Type:                  HC3                                         \n",
      "==============================================================================\n",
      "                 coef    std err          t      P>|t|      [0.025      0.975]\n",
      "------------------------------------------------------------------------------\n",
      "const        -21.7703     41.033     -0.531      0.597    -103.368      59.828\n",
      "lotsize        0.0021      0.007      0.289      0.773      -0.012       0.016\n",
      "sqrft          0.1228      0.041      3.014      0.003       0.042       0.204\n",
      "bdrms         13.8525     11.562      1.198      0.234      -9.139      36.844\n",
      "==============================================================================\n",
      "Omnibus:                       20.398   Durbin-Watson:                   2.110\n",
      "Prob(Omnibus):                  0.000   Jarque-Bera (JB):               32.278\n",
      "Skew:                           0.961   Prob(JB):                     9.79e-08\n",
      "Kurtosis:                       5.261   Cond. No.                     6.41e+04\n",
      "==============================================================================\n",
      "\n",
      "Warnings:\n",
      "[1] Standard Errors are heteroscedasticity robust (HC3)\n",
      "[2] The condition number is large, 6.41e+04. This might indicate that there are\n",
      "strong multicollinearity or other numerical problems.\n"
     ]
    }
   ],
   "source": [
    "# Exercise 2\n",
    "hprice1 = pd.read_stata(\"stata/hprice1.dta\")\n",
    "\n",
    "y = hprice1.price\n",
    "X = sm.add_constant(hprice1[[\"lotsize\", \"sqrft\", \"bdrms\"]])\n",
    "model = sm.OLS(y, X).fit()\n",
    "model_hc = model.get_robustcov_results(cov_type = \"HC3\")\n",
    "model_summary = model_hc.summary()\n",
    "print(model_summary)"
   ]
  },
  {
   "cell_type": "code",
   "execution_count": 5,
   "metadata": {},
   "outputs": [
    {
     "name": "stdout",
     "output_type": "stream",
     "text": [
      "                            OLS Regression Results                            \n",
      "==============================================================================\n",
      "Dep. Variable:                 lprice   R-squared:                       0.643\n",
      "Model:                            OLS   Adj. R-squared:                  0.630\n",
      "Method:                 Least Squares   F-statistic:                     44.82\n",
      "Date:                Mon, 25 May 2020   Prob (F-statistic):           2.14e-17\n",
      "Time:                        17:06:30   Log-Likelihood:                 25.861\n",
      "No. Observations:                  88   AIC:                            -43.72\n",
      "Df Residuals:                      84   BIC:                            -33.81\n",
      "Df Model:                           3                                         \n",
      "Covariance Type:                  HC3                                         \n",
      "==============================================================================\n",
      "                 coef    std err          t      P>|t|      [0.025      0.975]\n",
      "------------------------------------------------------------------------------\n",
      "const         -1.2970      0.850     -1.525      0.131      -2.988       0.394\n",
      "llotsize       0.1680      0.053      3.153      0.002       0.062       0.274\n",
      "lsqrft         0.7002      0.121      5.768      0.000       0.459       0.942\n",
      "bdrms          0.0370      0.036      1.039      0.302      -0.034       0.108\n",
      "==============================================================================\n",
      "Omnibus:                       12.060   Durbin-Watson:                   2.089\n",
      "Prob(Omnibus):                  0.002   Jarque-Bera (JB):               34.889\n",
      "Skew:                          -0.188   Prob(JB):                     2.65e-08\n",
      "Kurtosis:                       6.062   Cond. No.                         410.\n",
      "==============================================================================\n",
      "\n",
      "Warnings:\n",
      "[1] Standard Errors are heteroscedasticity robust (HC3)\n"
     ]
    }
   ],
   "source": [
    "y = hprice1.lprice\n",
    "X = sm.add_constant(hprice1[[\"llotsize\", \"lsqrft\", \"bdrms\"]])\n",
    "model = sm.OLS(y, X).fit()\n",
    "model_hc = model.get_robustcov_results(cov_type = \"HC3\")\n",
    "model_summary = model_hc.summary()\n",
    "print(model_summary)"
   ]
  },
  {
   "cell_type": "markdown",
   "metadata": {},
   "source": [
    "C2.i The standard erros increase substantially across the board, particularly with lotsize which is no longer significant.\n",
    "\n",
    "C2.ii Standard errors are higher but not as dramatically. \n",
    "\n",
    "C2.iii Transforming the variable can mitigate the effects of heteroskedasticity"
   ]
  },
  {
   "cell_type": "code",
   "execution_count": 6,
   "metadata": {},
   "outputs": [
    {
     "data": {
      "text/plain": [
       "(9.549448521078983, 0.3881743289213765, 1.0549560917353393, 0.4053127292220229)"
      ]
     },
     "execution_count": 6,
     "metadata": {},
     "output_type": "execute_result"
    }
   ],
   "source": [
    "# Exercies 3\n",
    "import statsmodels.stats.diagnostic as smd\n",
    "\n",
    "smd.het_white(model.resid, X)"
   ]
  },
  {
   "cell_type": "code",
   "execution_count": 7,
   "metadata": {},
   "outputs": [
    {
     "data": {
      "text/plain": [
       "<class 'statsmodels.stats.contrast.ContrastResults'>\n",
       "<F test: F=array([[1.83947824]]), p=0.07413714664998507, df_denom=78, df_num=9>"
      ]
     },
     "execution_count": 7,
     "metadata": {},
     "output_type": "execute_result"
    }
   ],
   "source": [
    "hprice1[\"u\"] = model.resid\n",
    "hprice1[\"llotsizesq\"] = hprice1.llotsize ** 2\n",
    "hprice1[\"lsqrftsq\"] = hprice1.lsqrft ** 2\n",
    "hprice1[\"bdrmssq\"] = hprice1.bdrms ** 2\n",
    "hprice1[\"llotsizelsqrft\"] = hprice1.llotsize * hprice1.lsqrft\n",
    "hprice1[\"llotsizebdrms\"] = hprice1.llotsize * hprice1.bdrms\n",
    "hprice1[\"lsqrftbdrms\"] = hprice1.lsqrft * hprice1.bdrms\n",
    "\n",
    "y = hprice1.u\n",
    "X = sm.add_constant(hprice1[[\"llotsize\", \"lsqrft\", \"bdrms\", \"llotsizesq\", \"lsqrftsq\", \"bdrmssq\", \"llotsizelsqrft\", \"llotsizebdrms\", \"lsqrftbdrms\"]])\n",
    "model = sm.OLS(y, X).fit()\n",
    "\n",
    "model.f_test(\"(llotsize = 0), (lsqrft = 0), (bdrms = 0), (llotsizesq = 0), (lsqrftsq = 0), (bdrmssq = 0), (llotsizelsqrft = 0), (llotsizebdrms = 0), (lsqrftbdrms = 0)\")"
   ]
  },
  {
   "cell_type": "markdown",
   "metadata": {},
   "source": [
    "C3 Both the F-test version and LM version fail to reject the null that the parameters are any different, though the F-test is significant at the 10% level"
   ]
  },
  {
   "cell_type": "code",
   "execution_count": 8,
   "metadata": {},
   "outputs": [
    {
     "name": "stdout",
     "output_type": "stream",
     "text": [
      "                            OLS Regression Results                            \n",
      "==============================================================================\n",
      "Dep. Variable:                  voteA   R-squared:                       0.801\n",
      "Model:                            OLS   Adj. R-squared:                  0.796\n",
      "Method:                 Least Squares   F-statistic:                     169.2\n",
      "Date:                Mon, 25 May 2020   Prob (F-statistic):           8.09e-58\n",
      "Time:                        17:06:30   Log-Likelihood:                -593.20\n",
      "No. Observations:                 173   AIC:                             1196.\n",
      "Df Residuals:                     168   BIC:                             1212.\n",
      "Df Model:                           4                                         \n",
      "Covariance Type:            nonrobust                                         \n",
      "==============================================================================\n",
      "                 coef    std err          t      P>|t|      [0.025      0.975]\n",
      "------------------------------------------------------------------------------\n",
      "const         37.6614      4.736      7.952      0.000      28.312      47.011\n",
      "prtystrA       0.2519      0.071      3.534      0.001       0.111       0.393\n",
      "democA         3.7929      1.407      2.697      0.008       1.016       6.570\n",
      "lexpendA       5.7793      0.392     14.750      0.000       5.006       6.553\n",
      "lexpendB      -6.2378      0.397    -15.694      0.000      -7.022      -5.453\n",
      "==============================================================================\n",
      "Omnibus:                        6.304   Durbin-Watson:                   1.525\n",
      "Prob(Omnibus):                  0.043   Jarque-Bera (JB):                6.030\n",
      "Skew:                           0.448   Prob(JB):                       0.0491\n",
      "Kurtosis:                       3.182   Cond. No.                         429.\n",
      "==============================================================================\n",
      "\n",
      "Warnings:\n",
      "[1] Standard Errors assume that the covariance matrix of the errors is correctly specified.\n",
      "                            OLS Regression Results                            \n",
      "==============================================================================\n",
      "Dep. Variable:                      y   R-squared:                      -0.000\n",
      "Model:                            OLS   Adj. R-squared:                 -0.024\n",
      "Method:                 Least Squares   F-statistic:                -7.929e-15\n",
      "Date:                Mon, 25 May 2020   Prob (F-statistic):               1.00\n",
      "Time:                        17:06:30   Log-Likelihood:                -593.20\n",
      "No. Observations:                 173   AIC:                             1196.\n",
      "Df Residuals:                     168   BIC:                             1212.\n",
      "Df Model:                           4                                         \n",
      "Covariance Type:            nonrobust                                         \n",
      "==============================================================================\n",
      "                 coef    std err          t      P>|t|      [0.025      0.975]\n",
      "------------------------------------------------------------------------------\n",
      "const      -1.066e-14      4.736  -2.25e-15      1.000      -9.350       9.350\n",
      "prtystrA   -1.535e-16      0.071  -2.15e-15      1.000      -0.141       0.141\n",
      "democA     -7.661e-15      1.407  -5.45e-15      1.000      -2.777       2.777\n",
      "lexpendA    8.313e-15      0.392   2.12e-14      1.000      -0.774       0.774\n",
      "lexpendB    4.163e-16      0.397   1.05e-15      1.000      -0.785       0.785\n",
      "==============================================================================\n",
      "Omnibus:                        6.304   Durbin-Watson:                   1.525\n",
      "Prob(Omnibus):                  0.043   Jarque-Bera (JB):                6.030\n",
      "Skew:                           0.448   Prob(JB):                       0.0491\n",
      "Kurtosis:                       3.182   Cond. No.                         429.\n",
      "==============================================================================\n",
      "\n",
      "Warnings:\n",
      "[1] Standard Errors assume that the covariance matrix of the errors is correctly specified.\n"
     ]
    }
   ],
   "source": [
    "# Exercise 4\n",
    "vote1 = pd.read_stata(\"stata/VOTE1.DTA\")\n",
    "\n",
    "y = vote1.voteA\n",
    "X = sm.add_constant(vote1[[\"prtystrA\", \"democA\", \"lexpendA\", \"lexpendB\"]])\n",
    "model = sm.OLS(y, X).fit()\n",
    "model_summary = model.summary()\n",
    "print(model_summary)\n",
    "vote1[\"u_sq\"] = model.resid ** 2\n",
    "vote1[\"y_hat\"] = model.fittedvalues\n",
    "vote1[\"y_hat_sq\"] = model.fittedvalues ** 2\n",
    "print(sm.OLS(model.resid, X).fit().summary())"
   ]
  },
  {
   "cell_type": "code",
   "execution_count": 9,
   "metadata": {},
   "outputs": [
    {
     "name": "stdout",
     "output_type": "stream",
     "text": [
      "2.3301128267408124\n",
      "9.093356486631743\n",
      "(9.093356486631743, 0.05880790411090132, 2.330112826740811, 0.058057501107013666)\n"
     ]
    }
   ],
   "source": [
    "r_2 = sm.OLS(model.resid ** 2, X).fit().rsquared\n",
    "print((r_2 / 4)/((1 - r_2)/(173 - 4 - 1)))\n",
    "print(r_2 * model.nobs)\n",
    "print(smd.het_breuschpagan(model.resid, X))"
   ]
  },
  {
   "cell_type": "code",
   "execution_count": 10,
   "metadata": {},
   "outputs": [
    {
     "name": "stdout",
     "output_type": "stream",
     "text": [
      "2.7858276132900985\n"
     ]
    }
   ],
   "source": [
    "y = vote1.u_sq\n",
    "X = sm.add_constant(vote1[[\"y_hat\", \"y_hat_sq\"]])\n",
    "model = sm.OLS(y, X).fit()\n",
    "f_stat = (model.rsquared / model.df_model) / ((1 - model.rsquared) / (model.nobs - model.df_model - 1))\n",
    "print(f_stat)"
   ]
  },
  {
   "cell_type": "markdown",
   "metadata": {},
   "source": [
    "C4.i $R^2$ is 0 seeing as the model imposes the fact that the residuals are not correlated with the explanatory variables\n",
    "\n",
    "C4.ii The p-value is 0.058, not enough to reject at the 5% level\n",
    "\n",
    "C4.iii The F test is about 2.786 which isn't quite enough to suggest heteroskedasticity"
   ]
  },
  {
   "cell_type": "code",
   "execution_count": 11,
   "metadata": {},
   "outputs": [
    {
     "name": "stdout",
     "output_type": "stream",
     "text": [
      "                            OLS Regression Results                            \n",
      "==============================================================================\n",
      "Dep. Variable:                sprdcvr   R-squared:                       0.000\n",
      "Model:                            OLS   Adj. R-squared:                  0.000\n",
      "Method:                 Least Squares   F-statistic:                       nan\n",
      "Date:                Mon, 25 May 2020   Prob (F-statistic):                nan\n",
      "Time:                        17:06:30   Log-Likelihood:                -401.10\n",
      "No. Observations:                 553   AIC:                             804.2\n",
      "Df Residuals:                     552   BIC:                             808.5\n",
      "Df Model:                           0                                         \n",
      "Covariance Type:            nonrobust                                         \n",
      "==============================================================================\n",
      "                 coef    std err          t      P>|t|      [0.025      0.975]\n",
      "------------------------------------------------------------------------------\n",
      "const          0.5154      0.021     24.228      0.000       0.474       0.557\n",
      "==============================================================================\n",
      "Omnibus:                     2254.292   Durbin-Watson:                   2.049\n",
      "Prob(Omnibus):                  0.000   Jarque-Bera (JB):               92.167\n",
      "Skew:                          -0.062   Prob(JB):                     9.69e-21\n",
      "Kurtosis:                       1.004   Cond. No.                         1.00\n",
      "==============================================================================\n",
      "\n",
      "Warnings:\n",
      "[1] Standard Errors assume that the covariance matrix of the errors is correctly specified.\n"
     ]
    }
   ],
   "source": [
    "# Exercise 5\n",
    "pntsprd = pd.read_stata(\"stata/PNTSPRD.DTA\")\n",
    "\n",
    "y = pntsprd.sprdcvr\n",
    "X = np.ones(553)\n",
    "model = sm.OLS(y, X).fit()\n",
    "model_summary = model.summary()\n",
    "print(model_summary)"
   ]
  },
  {
   "cell_type": "code",
   "execution_count": 12,
   "metadata": {},
   "outputs": [
    {
     "data": {
      "text/plain": [
       "35"
      ]
     },
     "execution_count": 12,
     "metadata": {},
     "output_type": "execute_result"
    }
   ],
   "source": [
    "pntsprd.neutral.sum()"
   ]
  },
  {
   "cell_type": "code",
   "execution_count": 13,
   "metadata": {},
   "outputs": [
    {
     "name": "stdout",
     "output_type": "stream",
     "text": [
      "                            OLS Regression Results                            \n",
      "==============================================================================\n",
      "Dep. Variable:                sprdcvr   R-squared:                       0.003\n",
      "Model:                            OLS   Adj. R-squared:                 -0.004\n",
      "Method:                 Least Squares   F-statistic:                    0.4674\n",
      "Date:                Mon, 25 May 2020   Prob (F-statistic):              0.760\n",
      "Time:                        17:06:30   Log-Likelihood:                -400.16\n",
      "No. Observations:                 553   AIC:                             810.3\n",
      "Df Residuals:                     548   BIC:                             831.9\n",
      "Df Model:                           4                                         \n",
      "Covariance Type:            nonrobust                                         \n",
      "==============================================================================\n",
      "                 coef    std err          t      P>|t|      [0.025      0.975]\n",
      "------------------------------------------------------------------------------\n",
      "const          0.4896      0.045     10.938      0.000       0.402       0.577\n",
      "favhome        0.0346      0.050      0.696      0.487      -0.063       0.132\n",
      "neutral        0.1176      0.095      1.242      0.215      -0.068       0.304\n",
      "fav25         -0.0235      0.050     -0.468      0.640      -0.122       0.075\n",
      "und25          0.0179      0.092      0.195      0.846      -0.163       0.198\n",
      "==============================================================================\n",
      "Omnibus:                     2273.298   Durbin-Watson:                   2.041\n",
      "Prob(Omnibus):                  0.000   Jarque-Bera (JB):               90.936\n",
      "Skew:                          -0.060   Prob(JB):                     1.79e-20\n",
      "Kurtosis:                       1.017   Cond. No.                         6.02\n",
      "==============================================================================\n",
      "\n",
      "Warnings:\n",
      "[1] Standard Errors assume that the covariance matrix of the errors is correctly specified.\n",
      "                            OLS Regression Results                            \n",
      "==============================================================================\n",
      "Dep. Variable:                sprdcvr   R-squared:                       0.003\n",
      "Model:                            OLS   Adj. R-squared:                 -0.004\n",
      "Method:                 Least Squares   F-statistic:                    0.4648\n",
      "Date:                Mon, 25 May 2020   Prob (F-statistic):              0.762\n",
      "Time:                        17:06:30   Log-Likelihood:                -400.16\n",
      "No. Observations:                 553   AIC:                             810.3\n",
      "Df Residuals:                     548   BIC:                             831.9\n",
      "Df Model:                           4                                         \n",
      "Covariance Type:                  HC3                                         \n",
      "==============================================================================\n",
      "                 coef    std err          t      P>|t|      [0.025      0.975]\n",
      "------------------------------------------------------------------------------\n",
      "const          0.4896      0.045     10.863      0.000       0.401       0.578\n",
      "favhome        0.0346      0.050      0.691      0.490      -0.064       0.133\n",
      "neutral        0.1176      0.095      1.233      0.218      -0.070       0.305\n",
      "fav25         -0.0235      0.051     -0.462      0.644      -0.123       0.076\n",
      "und25          0.0179      0.093      0.193      0.847      -0.164       0.200\n",
      "==============================================================================\n",
      "Omnibus:                     2273.298   Durbin-Watson:                   2.041\n",
      "Prob(Omnibus):                  0.000   Jarque-Bera (JB):               90.936\n",
      "Skew:                          -0.060   Prob(JB):                     1.79e-20\n",
      "Kurtosis:                       1.017   Cond. No.                         6.02\n",
      "==============================================================================\n",
      "\n",
      "Warnings:\n",
      "[1] Standard Errors are heteroscedasticity robust (HC3)\n"
     ]
    }
   ],
   "source": [
    "X = sm.add_constant(pntsprd[[\"favhome\", \"neutral\", \"fav25\", \"und25\"]])\n",
    "model = sm.OLS(y, X).fit()\n",
    "model_hc = model.get_robustcov_results(cov_type = \"HC3\")\n",
    "model_summary = model_hc.summary()\n",
    "print(model.summary())\n",
    "print(model_summary)"
   ]
  },
  {
   "cell_type": "markdown",
   "metadata": {},
   "source": [
    "C5.i The spread is not significantly different from .5\n",
    "\n",
    "C5.ii 35 games were played on a neutral court\n",
    "\n",
    "C5.iii No variables are statistically significant. Theoretically neutral is the most practically significant, but the confidence interval is large enough we should not consider it as being different from zero\n",
    "\n",
    "C5.iv The coefficients are 0 and so how could the variance be different?\n",
    "\n",
    "C5.v We do not find sufficient evidence to reject the null that these variables have a bearing on the spread cover\n",
    "\n",
    "C5.vi We could not predict Las Vegas covering the spread with this information"
   ]
  },
  {
   "cell_type": "code",
   "execution_count": 14,
   "metadata": {},
   "outputs": [
    {
     "name": "stdout",
     "output_type": "stream",
     "text": [
      "                            OLS Regression Results                            \n",
      "==============================================================================\n",
      "Dep. Variable:                  arr86   R-squared:                       0.047\n",
      "Model:                            OLS   Adj. R-squared:                  0.046\n",
      "Method:                 Least Squares   F-statistic:                     27.03\n",
      "Date:                Mon, 25 May 2020   Prob (F-statistic):           9.09e-27\n",
      "Time:                        17:06:31   Log-Likelihood:                -1609.7\n",
      "No. Observations:                2725   AIC:                             3231.\n",
      "Df Residuals:                    2719   BIC:                             3267.\n",
      "Df Model:                           5                                         \n",
      "Covariance Type:            nonrobust                                         \n",
      "==============================================================================\n",
      "                 coef    std err          t      P>|t|      [0.025      0.975]\n",
      "------------------------------------------------------------------------------\n",
      "const          0.4406      0.017     25.568      0.000       0.407       0.474\n",
      "pcnv          -0.1624      0.021     -7.649      0.000      -0.204      -0.121\n",
      "avgsen         0.0061      0.006      0.947      0.344      -0.007       0.019\n",
      "tottime       -0.0023      0.005     -0.454      0.650      -0.012       0.007\n",
      "ptime86       -0.0220      0.005     -4.739      0.000      -0.031      -0.013\n",
      "qemp86        -0.0428      0.005     -7.925      0.000      -0.053      -0.032\n",
      "==============================================================================\n",
      "Omnibus:                      766.502   Durbin-Watson:                   1.581\n",
      "Prob(Omnibus):                  0.000   Jarque-Bera (JB):              474.581\n",
      "Skew:                           0.903   Prob(JB):                    8.83e-104\n",
      "Kurtosis:                       2.043   Cond. No.                         16.3\n",
      "==============================================================================\n",
      "\n",
      "Warnings:\n",
      "[1] Standard Errors assume that the covariance matrix of the errors is correctly specified.\n"
     ]
    }
   ],
   "source": [
    "# Exercise 6\n",
    "crime1 = pd.read_stata(\"stata/CRIME1.DTA\")\n",
    "crime1[\"arr86\"] = (crime1.narr86 > 0).astype(\"int8\")\n",
    "\n",
    "y = crime1.arr86\n",
    "X = sm.add_constant(crime1[[\"pcnv\", \"avgsen\", \"tottime\", \"ptime86\", \"qemp86\"]])\n",
    "model = sm.OLS(y, X).fit()\n",
    "model_summary = model.summary()\n",
    "print(model_summary)"
   ]
  },
  {
   "cell_type": "code",
   "execution_count": 15,
   "metadata": {},
   "outputs": [
    {
     "name": "stdout",
     "output_type": "stream",
     "text": [
      "0.0066431248405761645\n",
      "0.5576897210365442\n"
     ]
    }
   ],
   "source": [
    "print(model.fittedvalues.min())\n",
    "print(model.fittedvalues.max())"
   ]
  },
  {
   "cell_type": "code",
   "execution_count": 16,
   "metadata": {},
   "outputs": [
    {
     "name": "stdout",
     "output_type": "stream",
     "text": [
      "                                 OLS Regression Results                                \n",
      "=======================================================================================\n",
      "Dep. Variable:                 warr86   R-squared (uncentered):                   0.294\n",
      "Model:                            OLS   Adj. R-squared (uncentered):              0.292\n",
      "Method:                 Least Squares   F-statistic:                              188.3\n",
      "Date:                Mon, 25 May 2020   Prob (F-statistic):                   5.28e-201\n",
      "Time:                        17:06:31   Log-Likelihood:                         -3838.7\n",
      "No. Observations:                2725   AIC:                                      7689.\n",
      "Df Residuals:                    2719   BIC:                                      7725.\n",
      "Df Model:                           6                                                  \n",
      "Covariance Type:            nonrobust                                                  \n",
      "==============================================================================\n",
      "                 coef    std err          t      P>|t|      [0.025      0.975]\n",
      "------------------------------------------------------------------------------\n",
      "wconst         0.4476      0.018     24.877      0.000       0.412       0.483\n",
      "wpcnv         -0.1678      0.019     -8.875      0.000      -0.205      -0.131\n",
      "wavgsen        0.0054      0.005      1.049      0.294      -0.005       0.015\n",
      "wtottime      -0.0018      0.003     -0.542      0.588      -0.008       0.005\n",
      "wptime86      -0.0246      0.003     -8.085      0.000      -0.031      -0.019\n",
      "wqemp86       -0.0452      0.005     -8.333      0.000      -0.056      -0.035\n",
      "==============================================================================\n",
      "Omnibus:                      392.582   Durbin-Watson:                   1.626\n",
      "Prob(Omnibus):                  0.000   Jarque-Bera (JB):              543.894\n",
      "Skew:                           1.074   Prob(JB):                    7.85e-119\n",
      "Kurtosis:                       2.584   Cond. No.                         18.4\n",
      "==============================================================================\n",
      "\n",
      "Warnings:\n",
      "[1] Standard Errors assume that the covariance matrix of the errors is correctly specified.\n",
      "                            WLS Regression Results                            \n",
      "==============================================================================\n",
      "Dep. Variable:                  arr86   R-squared:                       0.074\n",
      "Model:                            WLS   Adj. R-squared:                  0.073\n",
      "Method:                 Least Squares   F-statistic:                     43.70\n",
      "Date:                Mon, 25 May 2020   Prob (F-statistic):           1.79e-43\n",
      "Time:                        17:06:31   Log-Likelihood:                -1527.3\n",
      "No. Observations:                2725   AIC:                             3067.\n",
      "Df Residuals:                    2719   BIC:                             3102.\n",
      "Df Model:                           5                                         \n",
      "Covariance Type:            nonrobust                                         \n",
      "==============================================================================\n",
      "                 coef    std err          t      P>|t|      [0.025      0.975]\n",
      "------------------------------------------------------------------------------\n",
      "const          0.4476      0.018     24.877      0.000       0.412       0.483\n",
      "pcnv          -0.1678      0.019     -8.875      0.000      -0.205      -0.131\n",
      "avgsen         0.0054      0.005      1.049      0.294      -0.005       0.015\n",
      "tottime       -0.0018      0.003     -0.542      0.588      -0.008       0.005\n",
      "ptime86       -0.0246      0.003     -8.085      0.000      -0.031      -0.019\n",
      "qemp86        -0.0452      0.005     -8.333      0.000      -0.056      -0.035\n",
      "==============================================================================\n",
      "Omnibus:                      392.582   Durbin-Watson:                   1.626\n",
      "Prob(Omnibus):                  0.000   Jarque-Bera (JB):              543.894\n",
      "Skew:                           1.074   Prob(JB):                    7.85e-119\n",
      "Kurtosis:                       2.584   Cond. No.                         18.4\n",
      "==============================================================================\n",
      "\n",
      "Warnings:\n",
      "[1] Standard Errors assume that the covariance matrix of the errors is correctly specified.\n"
     ]
    }
   ],
   "source": [
    "crime1[\"h\"] = 1 / (model.fittedvalues * (1 - model.fittedvalues))\n",
    "crime1[\"h_hat_sqrt\"] = np.sqrt(model.fittedvalues * (1 - model.fittedvalues))\n",
    "crime1[\"wconst\"] = 1 / crime1.h_hat_sqrt\n",
    "crime1[\"wpcnv\"] = crime1.pcnv / crime1.h_hat_sqrt\n",
    "crime1[\"wavgsen\"] = crime1.avgsen / crime1.h_hat_sqrt\n",
    "crime1[\"wtottime\"] = crime1.tottime / crime1.h_hat_sqrt\n",
    "crime1[\"wptime86\"] = crime1.ptime86 / crime1.h_hat_sqrt\n",
    "crime1[\"wqemp86\"] = crime1.qemp86 / crime1.h_hat_sqrt\n",
    "crime1[\"warr86\"] = crime1.arr86 / crime1.h_hat_sqrt\n",
    "\n",
    "y = crime1.warr86\n",
    "X = crime1[[\"wconst\", \"wpcnv\", \"wavgsen\", \"wtottime\", \"wptime86\", \"wqemp86\"]]\n",
    "model = sm.OLS(y, X).fit()\n",
    "model_summary = model.summary()\n",
    "print(model_summary)\n",
    "\n",
    "y = crime1.arr86\n",
    "X = sm.add_constant(crime1[[\"pcnv\", \"avgsen\", \"tottime\", \"ptime86\", \"qemp86\"]])\n",
    "model = sm.WLS(y, X, weights = crime1.h).fit()\n",
    "model_summary = model.summary()\n",
    "print(model_summary)"
   ]
  },
  {
   "cell_type": "code",
   "execution_count": 17,
   "metadata": {},
   "outputs": [
    {
     "data": {
      "text/plain": [
       "<class 'statsmodels.stats.contrast.ContrastResults'>\n",
       "<F test: F=array([[0.88493951]]), p=0.41285798000947516, df_denom=2.72e+03, df_num=2>"
      ]
     },
     "execution_count": 17,
     "metadata": {},
     "output_type": "execute_result"
    }
   ],
   "source": [
    "model.f_test(\"(avgsen = 0), (tottime = 0)\")"
   ]
  },
  {
   "cell_type": "markdown",
   "metadata": {},
   "source": [
    "C6.i Fitted values are between 0 and 1 (0.56 is max and 0.01 is smallest)\n",
    "\n",
    "C6.ii WLS and manually weighting both produce the same results\n",
    "\n",
    "C6.iii avgsen and tottime are not jointly significant at the 5% level"
   ]
  },
  {
   "cell_type": "code",
   "execution_count": 18,
   "metadata": {},
   "outputs": [
    {
     "name": "stdout",
     "output_type": "stream",
     "text": [
      "                            OLS Regression Results                            \n",
      "==============================================================================\n",
      "Dep. Variable:                approve   R-squared:                       0.166\n",
      "Model:                            OLS   Adj. R-squared:                  0.159\n",
      "Method:                 Least Squares   F-statistic:                     14.56\n",
      "Date:                Mon, 25 May 2020   Prob (F-statistic):           5.63e-36\n",
      "Time:                        17:06:31   Log-Likelihood:                -429.26\n",
      "No. Observations:                1971   AIC:                             890.5\n",
      "Df Residuals:                    1955   BIC:                             979.9\n",
      "Df Model:                          15                                         \n",
      "Covariance Type:                  HC3                                         \n",
      "==============================================================================\n",
      "                 coef    std err          t      P>|t|      [0.025      0.975]\n",
      "------------------------------------------------------------------------------\n",
      "const          0.9367      0.060     15.560      0.000       0.819       1.055\n",
      "white          0.1288      0.026      4.938      0.000       0.078       0.180\n",
      "hrat           0.0018      0.001      1.235      0.217      -0.001       0.005\n",
      "obrat         -0.0054      0.001     -4.019      0.000      -0.008      -0.003\n",
      "loanprc       -0.1473      0.039     -3.817      0.000      -0.223      -0.072\n",
      "unem          -0.0073      0.004     -1.943      0.052      -0.015    7.02e-05\n",
      "male          -0.0041      0.019     -0.213      0.831      -0.042       0.034\n",
      "married        0.0458      0.017      2.638      0.008       0.012       0.080\n",
      "dep           -0.0068      0.007     -0.979      0.328      -0.021       0.007\n",
      "sch            0.0018      0.017      0.101      0.919      -0.032       0.036\n",
      "cosign         0.0098      0.040      0.241      0.809      -0.070       0.089\n",
      "chist          0.1330      0.025      5.352      0.000       0.084       0.182\n",
      "pubrec        -0.2419      0.043     -5.581      0.000      -0.327      -0.157\n",
      "mortlat1      -0.0573      0.069     -0.835      0.404      -0.192       0.077\n",
      "mortlat2      -0.1137      0.096     -1.185      0.236      -0.302       0.074\n",
      "vr            -0.0314      0.015     -2.156      0.031      -0.060      -0.003\n",
      "==============================================================================\n",
      "Omnibus:                      685.691   Durbin-Watson:                   2.001\n",
      "Prob(Omnibus):                  0.000   Jarque-Bera (JB):             1902.139\n",
      "Skew:                          -1.855   Prob(JB):                         0.00\n",
      "Kurtosis:                       6.066   Cond. No.                         417.\n",
      "==============================================================================\n",
      "\n",
      "Warnings:\n",
      "[1] Standard Errors are heteroscedasticity robust (HC3)\n"
     ]
    }
   ],
   "source": [
    "# Exercise 7\n",
    "loanapp = pd.read_stata(\"stata/loanapp.dta\")\n",
    "\n",
    "loanapp_reg = loanapp[[\"approve\", \"white\", \"hrat\", \"obrat\", \"loanprc\", \"unem\", \"male\", \"married\", \"dep\", \"sch\", \"cosign\", \"chist\", \"pubrec\", \"mortlat1\", \"mortlat2\", \"vr\"]].dropna()\n",
    "\n",
    "y = loanapp_reg.approve\n",
    "X = sm.add_constant(loanapp_reg[[\"white\", \"hrat\", \"obrat\", \"loanprc\", \"unem\", \"male\", \"married\", \"dep\", \"sch\", \"cosign\", \"chist\", \"pubrec\", \"mortlat1\", \"mortlat2\", \"vr\"]])\n",
    "model = sm.OLS(y, X).fit()\n",
    "model_hc = model.get_robustcov_results(cov_type = \"HC3\")\n",
    "model_summary = model_hc.summary()\n",
    "print(model_summary)"
   ]
  },
  {
   "cell_type": "code",
   "execution_count": 19,
   "metadata": {},
   "outputs": [
    {
     "name": "stdout",
     "output_type": "stream",
     "text": [
      "0.2273447305415921 1.1729878406795526\n"
     ]
    }
   ],
   "source": [
    "print(model_hc.fittedvalues.min(), model_hc.fittedvalues.max())"
   ]
  },
  {
   "cell_type": "markdown",
   "metadata": {},
   "source": [
    "C7.i The robust confidence interval is wider. Insignificant with WLS but still significant with HC3\n",
    "\n",
    "C7.ii There are values greater than 1. This means that we cannot directly apply WLS without some kind of adjustment."
   ]
  },
  {
   "cell_type": "code",
   "execution_count": 20,
   "metadata": {},
   "outputs": [
    {
     "name": "stdout",
     "output_type": "stream",
     "text": [
      "                            OLS Regression Results                            \n",
      "==============================================================================\n",
      "Dep. Variable:                 colGPA   R-squared:                       0.259\n",
      "Model:                            OLS   Adj. R-squared:                  0.237\n",
      "Method:                 Least Squares   F-statistic:                     11.90\n",
      "Date:                Mon, 25 May 2020   Prob (F-statistic):           2.55e-08\n",
      "Time:                        17:06:31   Log-Likelihood:                -39.098\n",
      "No. Observations:                 141   AIC:                             88.20\n",
      "Df Residuals:                     136   BIC:                             102.9\n",
      "Df Model:                           4                                         \n",
      "Covariance Type:            nonrobust                                         \n",
      "==============================================================================\n",
      "                 coef    std err          t      P>|t|      [0.025      0.975]\n",
      "------------------------------------------------------------------------------\n",
      "const          1.3565      0.328      4.142      0.000       0.709       2.004\n",
      "hsGPA          0.4130      0.092      4.468      0.000       0.230       0.596\n",
      "ACT            0.0133      0.010      1.278      0.204      -0.007       0.034\n",
      "skipped       -0.0710      0.026     -2.706      0.008      -0.123      -0.019\n",
      "PC             0.1244      0.057      2.171      0.032       0.011       0.238\n",
      "==============================================================================\n",
      "Omnibus:                        1.756   Durbin-Watson:                   1.875\n",
      "Prob(Omnibus):                  0.416   Jarque-Bera (JB):                1.403\n",
      "Skew:                          -0.031   Prob(JB):                        0.496\n",
      "Kurtosis:                       2.515   Cond. No.                         300.\n",
      "==============================================================================\n",
      "\n",
      "Warnings:\n",
      "[1] Standard Errors assume that the covariance matrix of the errors is correctly specified.\n",
      "(22.78504256230843, 0.04432937917724875, 1.8829456415890482, 0.0378776460669246)\n"
     ]
    }
   ],
   "source": [
    "# Exercise 8\n",
    "gpa1 = pd.read_stata(\"stata/GPA1.DTA\")\n",
    "\n",
    "y = gpa1.colGPA\n",
    "X = sm.add_constant(gpa1[[\"hsGPA\", \"ACT\", \"skipped\", \"PC\"]])\n",
    "model = sm.OLS(y, X).fit()\n",
    "model_summary = model.summary()\n",
    "print(model_summary)\n",
    "\n",
    "gpa1[\"u_sq\"] = model.resid ** 2\n",
    "gpa1[\"y_hat\"] = model.fittedvalues\n",
    "gpa1[\"y_hat_sq\"] = gpa1.y_hat ** 2\n",
    "\n",
    "print(smd.het_white(model.resid, X))"
   ]
  },
  {
   "cell_type": "code",
   "execution_count": 21,
   "metadata": {},
   "outputs": [
    {
     "name": "stdout",
     "output_type": "stream",
     "text": [
      "3.581494488337213\n",
      "0.027381357121391055\n"
     ]
    }
   ],
   "source": [
    "y = gpa1.u_sq\n",
    "X = sm.add_constant(gpa1[[\"y_hat\", \"y_hat_sq\"]])\n",
    "model = sm.OLS(y, X).fit()\n",
    "gpa1[\"h_hat\"] = model.fittedvalues\n",
    "\n",
    "print((model.rsquared / model.df_model) / ((1 - model.rsquared) / (model.nobs - model.df_model - 1)))\n",
    "print(gpa1.h_hat.min())"
   ]
  },
  {
   "cell_type": "code",
   "execution_count": 22,
   "metadata": {},
   "outputs": [
    {
     "name": "stdout",
     "output_type": "stream",
     "text": [
      "                            WLS Regression Results                            \n",
      "==============================================================================\n",
      "Dep. Variable:                 colGPA   R-squared:                       0.306\n",
      "Model:                            WLS   Adj. R-squared:                  0.286\n",
      "Method:                 Least Squares   F-statistic:                     15.01\n",
      "Date:                Mon, 25 May 2020   Prob (F-statistic):           3.49e-10\n",
      "Time:                        17:06:31   Log-Likelihood:                -35.364\n",
      "No. Observations:                 141   AIC:                             80.73\n",
      "Df Residuals:                     136   BIC:                             95.47\n",
      "Df Model:                           4                                         \n",
      "Covariance Type:            nonrobust                                         \n",
      "==============================================================================\n",
      "                 coef    std err          t      P>|t|      [0.025      0.975]\n",
      "------------------------------------------------------------------------------\n",
      "const          1.4016      0.298      4.696      0.000       0.811       1.992\n",
      "hsGPA          0.4025      0.083      4.828      0.000       0.238       0.567\n",
      "ACT            0.0132      0.010      1.339      0.183      -0.006       0.033\n",
      "skipped       -0.0764      0.022     -3.444      0.001      -0.120      -0.033\n",
      "PC             0.1260      0.056      2.237      0.027       0.015       0.237\n",
      "==============================================================================\n",
      "Omnibus:                        0.838   Durbin-Watson:                   1.866\n",
      "Prob(Omnibus):                  0.658   Jarque-Bera (JB):                0.885\n",
      "Skew:                           0.049   Prob(JB):                        0.642\n",
      "Kurtosis:                       2.624   Cond. No.                         284.\n",
      "==============================================================================\n",
      "\n",
      "Warnings:\n",
      "[1] Standard Errors assume that the covariance matrix of the errors is correctly specified.\n"
     ]
    }
   ],
   "source": [
    "y = gpa1.colGPA\n",
    "X = sm.add_constant(gpa1[[\"hsGPA\", \"ACT\", \"skipped\", \"PC\"]])\n",
    "model = sm.WLS(y, X, weights = 1 / gpa1.h_hat).fit()\n",
    "model_summary = model.summary()\n",
    "print(model_summary)"
   ]
  },
  {
   "cell_type": "code",
   "execution_count": 23,
   "metadata": {},
   "outputs": [
    {
     "name": "stdout",
     "output_type": "stream",
     "text": [
      "                            WLS Regression Results                            \n",
      "==============================================================================\n",
      "Dep. Variable:                 colGPA   R-squared:                       0.306\n",
      "Model:                            WLS   Adj. R-squared:                  0.286\n",
      "Method:                 Least Squares   F-statistic:                     20.28\n",
      "Date:                Mon, 25 May 2020   Prob (F-statistic):           4.03e-13\n",
      "Time:                        17:06:31   Log-Likelihood:                -35.364\n",
      "No. Observations:                 141   AIC:                             80.73\n",
      "Df Residuals:                     136   BIC:                             95.47\n",
      "Df Model:                           4                                         \n",
      "Covariance Type:                  HC3                                         \n",
      "==============================================================================\n",
      "                 coef    std err          t      P>|t|      [0.025      0.975]\n",
      "------------------------------------------------------------------------------\n",
      "const          1.4016      0.324      4.327      0.000       0.761       2.042\n",
      "hsGPA          0.4025      0.089      4.504      0.000       0.226       0.579\n",
      "ACT            0.0132      0.011      1.206      0.230      -0.008       0.035\n",
      "skipped       -0.0764      0.022     -3.414      0.001      -0.121      -0.032\n",
      "PC             0.1260      0.061      2.079      0.040       0.006       0.246\n",
      "==============================================================================\n",
      "Omnibus:                        0.838   Durbin-Watson:                   1.866\n",
      "Prob(Omnibus):                  0.658   Jarque-Bera (JB):                0.885\n",
      "Skew:                           0.049   Prob(JB):                        0.642\n",
      "Kurtosis:                       2.624   Cond. No.                         284.\n",
      "==============================================================================\n",
      "\n",
      "Warnings:\n",
      "[1] Standard Errors are heteroscedasticity robust (HC3)\n"
     ]
    }
   ],
   "source": [
    "model_hc = model.get_robustcov_results(cov_type = \"HC3\")\n",
    "model_summary = model_hc.summary()\n",
    "print(model_summary)"
   ]
  },
  {
   "cell_type": "markdown",
   "metadata": {},
   "source": [
    "C8.i Results are at the top\n",
    "\n",
    "C8.ii The F statistic is about 3.58, statistically significant (which suggests there is heteroskedasticity)\n",
    "\n",
    "C8.iii The estimates and their significance have both increased slightly\n",
    "\n",
    "C8.iv The errors are slightly larger but not enough to change significance"
   ]
  },
  {
   "cell_type": "code",
   "execution_count": 24,
   "metadata": {},
   "outputs": [
    {
     "name": "stdout",
     "output_type": "stream",
     "text": [
      "                            OLS Regression Results                            \n",
      "==============================================================================\n",
      "Dep. Variable:                   cigs   R-squared:                       0.053\n",
      "Model:                            OLS   Adj. R-squared:                  0.046\n",
      "Method:                 Least Squares   F-statistic:                     7.423\n",
      "Date:                Mon, 25 May 2020   Prob (F-statistic):           9.50e-08\n",
      "Time:                        17:06:31   Log-Likelihood:                -3236.2\n",
      "No. Observations:                 807   AIC:                             6486.\n",
      "Df Residuals:                     800   BIC:                             6519.\n",
      "Df Model:                           6                                         \n",
      "Covariance Type:            nonrobust                                         \n",
      "==============================================================================\n",
      "                 coef    std err          t      P>|t|      [0.025      0.975]\n",
      "------------------------------------------------------------------------------\n",
      "const         -3.6398     24.079     -0.151      0.880     -50.905      43.625\n",
      "lincome        0.8803      0.728      1.210      0.227      -0.548       2.309\n",
      "lcigpric      -0.7509      5.773     -0.130      0.897     -12.084      10.582\n",
      "educ          -0.5015      0.167     -3.002      0.003      -0.829      -0.174\n",
      "age            0.7707      0.160      4.813      0.000       0.456       1.085\n",
      "agesq         -0.0090      0.002     -5.176      0.000      -0.012      -0.006\n",
      "restaurn      -2.8251      1.112     -2.541      0.011      -5.007      -0.643\n",
      "==============================================================================\n",
      "Omnibus:                      225.317   Durbin-Watson:                   2.013\n",
      "Prob(Omnibus):                  0.000   Jarque-Bera (JB):              494.255\n",
      "Skew:                           1.536   Prob(JB):                    4.72e-108\n",
      "Kurtosis:                       5.294   Cond. No.                     1.33e+05\n",
      "==============================================================================\n",
      "\n",
      "Warnings:\n",
      "[1] Standard Errors assume that the covariance matrix of the errors is correctly specified.\n",
      "[2] The condition number is large, 1.33e+05. This might indicate that there are\n",
      "strong multicollinearity or other numerical problems.\n"
     ]
    }
   ],
   "source": [
    "# Exercise 9\n",
    "smoke = pd.read_stata(\"stata/SMOKE.DTA\")\n",
    "\n",
    "y = smoke.cigs\n",
    "X = sm.add_constant(smoke[[\"lincome\", \"lcigpric\", \"educ\", \"age\", \"agesq\", \"restaurn\"]])\n",
    "model = sm.OLS(y, X).fit()\n",
    "model_summary = model.summary()\n",
    "print(model_summary)"
   ]
  },
  {
   "cell_type": "code",
   "execution_count": 25,
   "metadata": {},
   "outputs": [
    {
     "name": "stdout",
     "output_type": "stream",
     "text": [
      "                            WLS Regression Results                            \n",
      "==============================================================================\n",
      "Dep. Variable:                   cigs   R-squared:                       0.113\n",
      "Model:                            WLS   Adj. R-squared:                  0.107\n",
      "Method:                 Least Squares   F-statistic:                     17.06\n",
      "Date:                Mon, 25 May 2020   Prob (F-statistic):           1.32e-18\n",
      "Time:                        17:06:31   Log-Likelihood:                -3207.8\n",
      "No. Observations:                 807   AIC:                             6430.\n",
      "Df Residuals:                     800   BIC:                             6462.\n",
      "Df Model:                           6                                         \n",
      "Covariance Type:            nonrobust                                         \n",
      "==============================================================================\n",
      "                 coef    std err          t      P>|t|      [0.025      0.975]\n",
      "------------------------------------------------------------------------------\n",
      "const          5.6355     17.803      0.317      0.752     -29.311      40.582\n",
      "lincome        1.2952      0.437      2.964      0.003       0.437       2.153\n",
      "lcigpric      -2.9403      4.460     -0.659      0.510     -11.695       5.815\n",
      "educ          -0.4634      0.120     -3.857      0.000      -0.699      -0.228\n",
      "age            0.4819      0.097      4.978      0.000       0.292       0.672\n",
      "agesq         -0.0056      0.001     -5.990      0.000      -0.007      -0.004\n",
      "restaurn      -3.4611      0.796     -4.351      0.000      -5.023      -1.900\n",
      "==============================================================================\n",
      "Omnibus:                      325.055   Durbin-Watson:                   2.050\n",
      "Prob(Omnibus):                  0.000   Jarque-Bera (JB):             1258.138\n",
      "Skew:                           1.908   Prob(JB):                    6.29e-274\n",
      "Kurtosis:                       7.780   Cond. No.                     2.30e+05\n",
      "==============================================================================\n",
      "\n",
      "Warnings:\n",
      "[1] Standard Errors assume that the covariance matrix of the errors is correctly specified.\n",
      "[2] The condition number is large, 2.3e+05. This might indicate that there are\n",
      "strong multicollinearity or other numerical problems.\n"
     ]
    }
   ],
   "source": [
    "smoke[\"h\"] = np.exp(sm.OLS(np.log(np.power(model.resid,2)), X).fit().fittedvalues)\n",
    "model = sm.WLS(y, X, weights = 1 / smoke.h).fit()\n",
    "model_summary = model.summary()\n",
    "print(model_summary)"
   ]
  },
  {
   "cell_type": "code",
   "execution_count": 26,
   "metadata": {},
   "outputs": [
    {
     "name": "stdout",
     "output_type": "stream",
     "text": [
      "(49.656911597129984, 0.0023485874759439757, 2.0483212193376925, 0.0019437274024845035)\n",
      "11.153696142595692\n"
     ]
    }
   ],
   "source": [
    "print(smd.het_white(model.resid, X))\n",
    "smoke[\"u\"] = model.resid / np.sqrt(smoke.h)\n",
    "smoke[\"y\"] = model.fittedvalues / np.sqrt(smoke.h)\n",
    "smoke[\"u_sq\"] = np.power(smoke.u, 2)\n",
    "smoke[\"y_sq\"] = np.power(smoke.y, 2)\n",
    "\n",
    "model = sm.OLS(smoke.u_sq, sm.add_constant(smoke[[\"y\", \"y_sq\"]])).fit()\n",
    "print((model.rsquared / model.df_model) / ((1 - model.rsquared) / (model.nobs - model.df_model - 1)))"
   ]
  },
  {
   "cell_type": "code",
   "execution_count": 27,
   "metadata": {},
   "outputs": [
    {
     "name": "stdout",
     "output_type": "stream",
     "text": [
      "                            WLS Regression Results                            \n",
      "==============================================================================\n",
      "Dep. Variable:                   cigs   R-squared:                       0.113\n",
      "Model:                            WLS   Adj. R-squared:                  0.107\n",
      "Method:                 Least Squares   F-statistic:                     18.77\n",
      "Date:                Mon, 25 May 2020   Prob (F-statistic):           1.69e-20\n",
      "Time:                        17:06:32   Log-Likelihood:                -3207.8\n",
      "No. Observations:                 807   AIC:                             6430.\n",
      "Df Residuals:                     800   BIC:                             6462.\n",
      "Df Model:                           6                                         \n",
      "Covariance Type:                  HC3                                         \n",
      "==============================================================================\n",
      "                 coef    std err          t      P>|t|      [0.025      0.975]\n",
      "------------------------------------------------------------------------------\n",
      "const          5.6355     41.225      0.137      0.891     -75.287      86.558\n",
      "lincome        1.2952      0.595      2.177      0.030       0.127       2.463\n",
      "lcigpric      -2.9403      9.875     -0.298      0.766     -22.324      16.443\n",
      "educ          -0.4634      0.178     -2.607      0.009      -0.812      -0.115\n",
      "age            0.4819      0.143      3.377      0.001       0.202       0.762\n",
      "agesq         -0.0056      0.002     -3.745      0.000      -0.009      -0.003\n",
      "restaurn      -3.4611      0.737     -4.698      0.000      -4.907      -2.015\n",
      "==============================================================================\n",
      "Omnibus:                      325.055   Durbin-Watson:                   2.050\n",
      "Prob(Omnibus):                  0.000   Jarque-Bera (JB):             1258.138\n",
      "Skew:                           1.908   Prob(JB):                    6.29e-274\n",
      "Kurtosis:                       7.780   Cond. No.                     2.30e+05\n",
      "==============================================================================\n",
      "\n",
      "Warnings:\n",
      "[1] Standard Errors are heteroscedasticity robust (HC3)\n",
      "[2] The condition number is large, 2.3e+05. This might indicate that there are\n",
      "strong multicollinearity or other numerical problems.\n"
     ]
    }
   ],
   "source": [
    "model = sm.WLS(y, X, weights = 1 / smoke.h).fit().get_robustcov_results(cov_type = \"HC3\")\n",
    "model_summary = model.summary()\n",
    "print(model_summary)"
   ]
  },
  {
   "cell_type": "markdown",
   "metadata": {},
   "source": [
    "C9.i OLS results are above\n",
    "\n",
    "C9.iii There is evidence for heteroskedasticity using both the special form and the standard White test\n",
    "\n",
    "C9.iv It may be that the form of heteroskedasticity is not properly specified\n",
    "\n",
    "C9.v Reported above"
   ]
  },
  {
   "cell_type": "code",
   "execution_count": 28,
   "metadata": {},
   "outputs": [
    {
     "name": "stdout",
     "output_type": "stream",
     "text": [
      "                            OLS Regression Results                            \n",
      "==============================================================================\n",
      "Dep. Variable:                  e401k   R-squared:                       0.094\n",
      "Model:                            OLS   Adj. R-squared:                  0.094\n",
      "Method:                 Least Squares   F-statistic:                     193.0\n",
      "Date:                Mon, 25 May 2020   Prob (F-statistic):          3.41e-196\n",
      "Time:                        17:06:32   Log-Likelihood:                -6051.5\n",
      "No. Observations:                9275   AIC:                         1.211e+04\n",
      "Df Residuals:                    9269   BIC:                         1.216e+04\n",
      "Df Model:                           5                                         \n",
      "Covariance Type:            nonrobust                                         \n",
      "==============================================================================\n",
      "                 coef    std err          t      P>|t|      [0.025      0.975]\n",
      "------------------------------------------------------------------------------\n",
      "const         -0.5063      0.081     -6.243      0.000      -0.665      -0.347\n",
      "inc            0.0124      0.001     20.993      0.000       0.011       0.014\n",
      "incsq      -6.165e-05   4.73e-06    -13.028      0.000   -7.09e-05   -5.24e-05\n",
      "age            0.0265      0.004      6.758      0.000       0.019       0.034\n",
      "agesq         -0.0003    4.5e-05     -6.782      0.000      -0.000      -0.000\n",
      "male          -0.0035      0.012     -0.292      0.770      -0.027       0.020\n",
      "==============================================================================\n",
      "Omnibus:                    65188.981   Durbin-Watson:                   1.970\n",
      "Prob(Omnibus):                  0.000   Jarque-Bera (JB):             1031.991\n",
      "Skew:                           0.369   Prob(JB):                    8.05e-225\n",
      "Kurtosis:                       1.542   Cond. No.                     6.51e+04\n",
      "==============================================================================\n",
      "\n",
      "Warnings:\n",
      "[1] Standard Errors assume that the covariance matrix of the errors is correctly specified.\n",
      "[2] The condition number is large, 6.51e+04. This might indicate that there are\n",
      "strong multicollinearity or other numerical problems.\n",
      "                            OLS Regression Results                            \n",
      "==============================================================================\n",
      "Dep. Variable:                  e401k   R-squared:                       0.094\n",
      "Model:                            OLS   Adj. R-squared:                  0.094\n",
      "Method:                 Least Squares   F-statistic:                     209.1\n",
      "Date:                Mon, 25 May 2020   Prob (F-statistic):          6.05e-212\n",
      "Time:                        17:06:32   Log-Likelihood:                -6051.5\n",
      "No. Observations:                9275   AIC:                         1.211e+04\n",
      "Df Residuals:                    9269   BIC:                         1.216e+04\n",
      "Df Model:                           5                                         \n",
      "Covariance Type:                  HC3                                         \n",
      "==============================================================================\n",
      "                 coef    std err          t      P>|t|      [0.025      0.975]\n",
      "------------------------------------------------------------------------------\n",
      "const         -0.5063      0.079     -6.441      0.000      -0.660      -0.352\n",
      "inc            0.0124      0.001     20.581      0.000       0.011       0.014\n",
      "incsq      -6.165e-05   5.06e-06    -12.186      0.000   -7.16e-05   -5.17e-05\n",
      "age            0.0265      0.004      6.929      0.000       0.019       0.034\n",
      "agesq         -0.0003   4.38e-05     -6.973      0.000      -0.000      -0.000\n",
      "male          -0.0035      0.012     -0.293      0.770      -0.027       0.020\n",
      "==============================================================================\n",
      "Omnibus:                    65188.981   Durbin-Watson:                   1.970\n",
      "Prob(Omnibus):                  0.000   Jarque-Bera (JB):             1031.991\n",
      "Skew:                           0.369   Prob(JB):                    8.05e-225\n",
      "Kurtosis:                       1.542   Cond. No.                     6.51e+04\n",
      "==============================================================================\n",
      "\n",
      "Warnings:\n",
      "[1] Standard Errors are heteroscedasticity robust (HC3)\n",
      "[2] The condition number is large, 6.51e+04. This might indicate that there are\n",
      "strong multicollinearity or other numerical problems.\n"
     ]
    }
   ],
   "source": [
    "# Exercise 10\n",
    "\n",
    "k401subs = pd.read_stata(\"stata/401ksubs.dta\")\n",
    "\n",
    "y = k401subs.e401k\n",
    "X = sm.add_constant(k401subs[[\"inc\", \"incsq\", \"age\", \"agesq\", \"male\"]])\n",
    "model = sm.OLS(y, X).fit()\n",
    "model_summary = model.summary()\n",
    "print(model_summary)\n",
    "print(model.get_robustcov_results(cov_type = \"HC3\").summary())"
   ]
  },
  {
   "cell_type": "code",
   "execution_count": 29,
   "metadata": {},
   "outputs": [
    {
     "name": "stdout",
     "output_type": "stream",
     "text": [
      "310.3228196883429\n"
     ]
    }
   ],
   "source": [
    "y = np.power(model.resid, 2)\n",
    "k401subs[\"y_hat\"] = model.fittedvalues\n",
    "k401subs[\"y_hat_sq\"] = np.power(k401subs.y_hat, 2)\n",
    "X = sm.add_constant(k401subs[[\"y_hat\", \"y_hat_sq\"]])\n",
    "\n",
    "het_model = sm.OLS(y, X).fit()\n",
    "print((het_model.rsquared / het_model.df_model) / ((1 - het_model.rsquared)/(het_model.nobs - het_model.df_model - 1)))"
   ]
  },
  {
   "cell_type": "code",
   "execution_count": 30,
   "metadata": {},
   "outputs": [
    {
     "name": "stdout",
     "output_type": "stream",
     "text": [
      "0.029917158729936277 0.6971898835393978\n"
     ]
    }
   ],
   "source": [
    "print(model.fittedvalues.min(), model.fittedvalues.max())"
   ]
  },
  {
   "cell_type": "code",
   "execution_count": 31,
   "metadata": {},
   "outputs": [
    {
     "name": "stdout",
     "output_type": "stream",
     "text": [
      "                            WLS Regression Results                            \n",
      "==============================================================================\n",
      "Dep. Variable:                  e401k   R-squared:                       0.108\n",
      "Model:                            WLS   Adj. R-squared:                  0.107\n",
      "Method:                 Least Squares   F-statistic:                     224.2\n",
      "Date:                Mon, 25 May 2020   Prob (F-statistic):          1.28e-226\n",
      "Time:                        17:06:32   Log-Likelihood:                -5953.5\n",
      "No. Observations:                9275   AIC:                         1.192e+04\n",
      "Df Residuals:                    9269   BIC:                         1.196e+04\n",
      "Df Model:                           5                                         \n",
      "Covariance Type:            nonrobust                                         \n",
      "==============================================================================\n",
      "                 coef    std err          t      P>|t|      [0.025      0.975]\n",
      "------------------------------------------------------------------------------\n",
      "const         -0.4880      0.076     -6.456      0.000      -0.636      -0.340\n",
      "inc            0.0126      0.001     23.491      0.000       0.012       0.014\n",
      "incsq       -6.21e-05   4.18e-06    -14.848      0.000   -7.03e-05   -5.39e-05\n",
      "age            0.0255      0.004      6.873      0.000       0.018       0.033\n",
      "agesq         -0.0003   4.25e-05     -6.944      0.000      -0.000      -0.000\n",
      "male          -0.0055      0.012     -0.472      0.637      -0.028       0.017\n",
      "==============================================================================\n",
      "Omnibus:                     7970.617   Durbin-Watson:                   1.967\n",
      "Prob(Omnibus):                  0.000   Jarque-Bera (JB):              946.803\n",
      "Skew:                           0.506   Prob(JB):                    2.54e-206\n",
      "Kurtosis:                       1.806   Cond. No.                     6.15e+04\n",
      "==============================================================================\n",
      "\n",
      "Warnings:\n",
      "[1] Standard Errors assume that the covariance matrix of the errors is correctly specified.\n",
      "[2] The condition number is large, 6.15e+04. This might indicate that there are\n",
      "strong multicollinearity or other numerical problems.\n"
     ]
    }
   ],
   "source": [
    "k401subs[\"h\"] = model.fittedvalues * (1 - model.fittedvalues)\n",
    "y = k401subs.e401k\n",
    "X = sm.add_constant(k401subs[[\"inc\", \"incsq\", \"age\", \"agesq\", \"male\"]])\n",
    "model = sm.WLS(y, X, weights = 1 / k401subs.h).fit()\n",
    "print(model.summary())"
   ]
  },
  {
   "cell_type": "markdown",
   "metadata": {},
   "source": [
    "C10.i There are not any substantial differences between the OLS and heteroskedasticity robust errors.\n",
    "\n",
    "C10.ii Not one to be solved computationally, but in broad strokes This stems from $Var(y|x) - p(x)(1-p(x)$ which can be cast in an error form and written as a regression model. The coefficients are 1 and -1 (for the standard and squared values) since the linear probability model deals with values between 0 and 1.\n",
    "\n",
    "C10.iii The F statistic is very large, 310.32\n",
    "\n",
    "C10.iv All the fitted values fall between 0 and 1. There are no substantial differences between the two models."
   ]
  },
  {
   "cell_type": "code",
   "execution_count": 32,
   "metadata": {},
   "outputs": [
    {
     "name": "stdout",
     "output_type": "stream",
     "text": [
      "                            OLS Regression Results                            \n",
      "==============================================================================\n",
      "Dep. Variable:                 nettfa   R-squared:                       0.131\n",
      "Model:                            OLS   Adj. R-squared:                  0.129\n",
      "Method:                 Least Squares   F-statistic:                     60.74\n",
      "Date:                Mon, 25 May 2020   Prob (F-statistic):           4.43e-59\n",
      "Time:                        17:06:32   Log-Likelihood:                -10511.\n",
      "No. Observations:                2017   AIC:                         2.103e+04\n",
      "Df Residuals:                    2011   BIC:                         2.107e+04\n",
      "Df Model:                           5                                         \n",
      "Covariance Type:            nonrobust                                         \n",
      "===============================================================================\n",
      "                  coef    std err          t      P>|t|      [0.025      0.975]\n",
      "-------------------------------------------------------------------------------\n",
      "const         -17.1956      2.820     -6.097      0.000     -22.726     -11.665\n",
      "inc             0.6275      0.080      7.832      0.000       0.470       0.785\n",
      "agesqdemean     0.0251      0.003      9.682      0.000       0.020       0.030\n",
      "male            2.5356      2.044      1.240      0.215      -1.474       6.545\n",
      "e401k          -3.8335      4.405     -0.870      0.384     -12.472       4.805\n",
      "e401kinc        0.3434      0.124      2.776      0.006       0.101       0.586\n",
      "==============================================================================\n",
      "Omnibus:                     3742.721   Durbin-Watson:                   1.968\n",
      "Prob(Omnibus):                  0.000   Jarque-Bera (JB):          6875280.782\n",
      "Skew:                          13.387   Prob(JB):                         0.00\n",
      "Kurtosis:                     287.765   Cond. No.                     2.41e+03\n",
      "==============================================================================\n",
      "\n",
      "Warnings:\n",
      "[1] Standard Errors assume that the covariance matrix of the errors is correctly specified.\n",
      "[2] The condition number is large, 2.41e+03. This might indicate that there are\n",
      "strong multicollinearity or other numerical problems.\n",
      "                            OLS Regression Results                            \n",
      "==============================================================================\n",
      "Dep. Variable:                 nettfa   R-squared:                       0.131\n",
      "Model:                            OLS   Adj. R-squared:                  0.129\n",
      "Method:                 Least Squares   F-statistic:                     30.14\n",
      "Date:                Mon, 25 May 2020   Prob (F-statistic):           1.25e-29\n",
      "Time:                        17:06:32   Log-Likelihood:                -10511.\n",
      "No. Observations:                2017   AIC:                         2.103e+04\n",
      "Df Residuals:                    2011   BIC:                         2.107e+04\n",
      "Df Model:                           5                                         \n",
      "Covariance Type:                  HC3                                         \n",
      "===============================================================================\n",
      "                  coef    std err          t      P>|t|      [0.025      0.975]\n",
      "-------------------------------------------------------------------------------\n",
      "const         -17.1956      3.257     -5.280      0.000     -23.583     -10.808\n",
      "inc             0.6275      0.099      6.339      0.000       0.433       0.822\n",
      "agesqdemean     0.0251      0.004      5.729      0.000       0.016       0.034\n",
      "male            2.5356      2.072      1.224      0.221      -1.527       6.598\n",
      "e401k          -3.8335      6.360     -0.603      0.547     -16.306       8.639\n",
      "e401kinc        0.3434      0.224      1.534      0.125      -0.096       0.782\n",
      "==============================================================================\n",
      "Omnibus:                     3742.721   Durbin-Watson:                   1.968\n",
      "Prob(Omnibus):                  0.000   Jarque-Bera (JB):          6875280.782\n",
      "Skew:                          13.387   Prob(JB):                         0.00\n",
      "Kurtosis:                     287.765   Cond. No.                     2.41e+03\n",
      "==============================================================================\n",
      "\n",
      "Warnings:\n",
      "[1] Standard Errors are heteroscedasticity robust (HC3)\n",
      "[2] The condition number is large, 2.41e+03. This might indicate that there are\n",
      "strong multicollinearity or other numerical problems.\n"
     ]
    }
   ],
   "source": [
    "# Exercise 11\n",
    "\n",
    "k401subs = pd.read_stata(\"stata/401ksubs.dta\")\n",
    "k401subs[\"e401kinc\"] = k401subs.e401k * k401subs.inc\n",
    "k401subs[\"agesqdemean\"] = (k401subs.age.astype(\"int32\") - 25) ** 2\n",
    "k401subs = k401subs[k401subs.fsize == 1]\n",
    "\n",
    "y = k401subs.nettfa\n",
    "X = sm.add_constant(k401subs[[\"inc\", \"agesqdemean\", \"male\", \"e401k\", \"e401kinc\"]])\n",
    "model = sm.OLS(y, X).fit()\n",
    "model_summary = model.summary()\n",
    "print(model_summary)\n",
    "print(model.get_robustcov_results(cov_type = \"HC3\").summary())"
   ]
  },
  {
   "cell_type": "code",
   "execution_count": 33,
   "metadata": {},
   "outputs": [
    {
     "name": "stdout",
     "output_type": "stream",
     "text": [
      "                            WLS Regression Results                            \n",
      "==============================================================================\n",
      "Dep. Variable:                 nettfa   R-squared:                       0.114\n",
      "Model:                            WLS   Adj. R-squared:                  0.112\n",
      "Method:                 Least Squares   F-statistic:                     51.63\n",
      "Date:                Mon, 25 May 2020   Prob (F-statistic):           1.68e-50\n",
      "Time:                        17:06:32   Log-Likelihood:                -10081.\n",
      "No. Observations:                2017   AIC:                         2.017e+04\n",
      "Df Residuals:                    2011   BIC:                         2.021e+04\n",
      "Df Model:                           5                                         \n",
      "Covariance Type:            nonrobust                                         \n",
      "===============================================================================\n",
      "                  coef    std err          t      P>|t|      [0.025      0.975]\n",
      "-------------------------------------------------------------------------------\n",
      "const         -14.0879      2.270     -6.205      0.000     -18.540      -9.635\n",
      "inc             0.6185      0.084      7.387      0.000       0.454       0.783\n",
      "agesqdemean     0.0175      0.002      9.065      0.000       0.014       0.021\n",
      "male            1.7769      1.562      1.137      0.255      -1.287       4.841\n",
      "e401k          -2.1716      3.664     -0.593      0.553      -9.357       5.014\n",
      "e401kinc        0.2952      0.130      2.268      0.023       0.040       0.550\n",
      "==============================================================================\n",
      "Omnibus:                     3671.916   Durbin-Watson:                   1.981\n",
      "Prob(Omnibus):                  0.000   Jarque-Bera (JB):          6387203.372\n",
      "Skew:                          12.838   Prob(JB):                         0.00\n",
      "Kurtosis:                     277.483   Cond. No.                     2.67e+03\n",
      "==============================================================================\n",
      "\n",
      "Warnings:\n",
      "[1] Standard Errors assume that the covariance matrix of the errors is correctly specified.\n",
      "[2] The condition number is large, 2.67e+03. This might indicate that there are\n",
      "strong multicollinearity or other numerical problems.\n",
      "                            WLS Regression Results                            \n",
      "==============================================================================\n",
      "Dep. Variable:                 nettfa   R-squared:                       0.114\n",
      "Model:                            WLS   Adj. R-squared:                  0.112\n",
      "Method:                 Least Squares   F-statistic:                     32.83\n",
      "Date:                Mon, 25 May 2020   Prob (F-statistic):           2.78e-32\n",
      "Time:                        17:06:32   Log-Likelihood:                -10081.\n",
      "No. Observations:                2017   AIC:                         2.017e+04\n",
      "Df Residuals:                    2011   BIC:                         2.021e+04\n",
      "Df Model:                           5                                         \n",
      "Covariance Type:                  HC3                                         \n",
      "===============================================================================\n",
      "                  coef    std err          t      P>|t|      [0.025      0.975]\n",
      "-------------------------------------------------------------------------------\n",
      "const         -14.0879      2.536     -5.555      0.000     -19.062      -9.114\n",
      "inc             0.6185      0.091      6.781      0.000       0.440       0.797\n",
      "agesqdemean     0.0175      0.003      6.707      0.000       0.012       0.023\n",
      "male            1.7769      1.316      1.350      0.177      -0.805       4.359\n",
      "e401k          -2.1716      3.536     -0.614      0.539      -9.107       4.764\n",
      "e401kinc        0.2952      0.161      1.834      0.067      -0.020       0.611\n",
      "==============================================================================\n",
      "Omnibus:                     3671.916   Durbin-Watson:                   1.981\n",
      "Prob(Omnibus):                  0.000   Jarque-Bera (JB):          6387203.372\n",
      "Skew:                          12.838   Prob(JB):                         0.00\n",
      "Kurtosis:                     277.483   Cond. No.                     2.67e+03\n",
      "==============================================================================\n",
      "\n",
      "Warnings:\n",
      "[1] Standard Errors are heteroscedasticity robust (HC3)\n",
      "[2] The condition number is large, 2.67e+03. This might indicate that there are\n",
      "strong multicollinearity or other numerical problems.\n"
     ]
    }
   ],
   "source": [
    "model = sm.WLS(y, X, weights = 1 / k401subs.inc).fit()\n",
    "print(model.summary())\n",
    "print(model.get_robustcov_results(cov_type = \"HC3\").summary())"
   ]
  },
  {
   "cell_type": "code",
   "execution_count": 34,
   "metadata": {},
   "outputs": [
    {
     "name": "stdout",
     "output_type": "stream",
     "text": [
      "                            WLS Regression Results                            \n",
      "==============================================================================\n",
      "Dep. Variable:                 nettfa   R-squared:                       0.114\n",
      "Model:                            WLS   Adj. R-squared:                  0.112\n",
      "Method:                 Least Squares   F-statistic:                     32.83\n",
      "Date:                Mon, 25 May 2020   Prob (F-statistic):           2.78e-32\n",
      "Time:                        17:06:32   Log-Likelihood:                -10081.\n",
      "No. Observations:                2017   AIC:                         2.017e+04\n",
      "Df Residuals:                    2011   BIC:                         2.021e+04\n",
      "Df Model:                           5                                         \n",
      "Covariance Type:                  HC3                                         \n",
      "================================================================================\n",
      "                   coef    std err          t      P>|t|      [0.025      0.975]\n",
      "--------------------------------------------------------------------------------\n",
      "const          -14.0879      2.536     -5.555      0.000     -19.062      -9.114\n",
      "inc              0.6185      0.091      6.781      0.000       0.440       0.797\n",
      "agesqdemean      0.0175      0.003      6.707      0.000       0.012       0.023\n",
      "male             1.7769      1.316      1.350      0.177      -0.805       4.359\n",
      "e401k            6.6834      2.094      3.192      0.001       2.577      10.790\n",
      "e401kadj_inc     0.2952      0.161      1.834      0.067      -0.020       0.611\n",
      "==============================================================================\n",
      "Omnibus:                     3671.916   Durbin-Watson:                   1.981\n",
      "Prob(Omnibus):                  0.000   Jarque-Bera (JB):          6387203.372\n",
      "Skew:                          12.838   Prob(JB):                         0.00\n",
      "Kurtosis:                     277.483   Cond. No.                     1.65e+03\n",
      "==============================================================================\n",
      "\n",
      "Warnings:\n",
      "[1] Standard Errors are heteroscedasticity robust (HC3)\n",
      "[2] The condition number is large, 1.65e+03. This might indicate that there are\n",
      "strong multicollinearity or other numerical problems.\n"
     ]
    }
   ],
   "source": [
    "k401subs[\"e401kadj_inc\"] = k401subs.e401k * (k401subs.inc - 30)\n",
    "X = sm.add_constant(k401subs[[\"inc\", \"agesqdemean\", \"male\", \"e401k\", \"e401kadj_inc\"]])\n",
    "model = sm.WLS(y, X, weights = 1 / k401subs.inc).fit()\n",
    "print(model.get_robustcov_results(cov_type = \"HC3\").summary())"
   ]
  },
  {
   "cell_type": "markdown",
   "metadata": {},
   "source": [
    "C11.i The significance of the interaction term appears to depend on misspecified errors. With robust standard errors it is not significent.\n",
    "\n",
    "C11.ii The interaction term is not statistically significant when using robust standard errors with WLS (unless we extend to significant at the 0.10 level)\n",
    "\n",
    "C11.iii e401k is not of interest by itself since this is the value at inc = 0\n",
    "\n",
    "C11.iv e401k is now meaningful since this is measuring the difference in netfa for those who are eligible for a 401k plan at the average  income. The result is significant and estimates that workers who are eligible see an increase in netfa of \\$6,683"
   ]
  },
  {
   "cell_type": "code",
   "execution_count": 35,
   "metadata": {},
   "outputs": [
    {
     "name": "stdout",
     "output_type": "stream",
     "text": [
      "                            OLS Regression Results                            \n",
      "==============================================================================\n",
      "Dep. Variable:                  math4   R-squared:                       0.373\n",
      "Model:                            OLS   Adj. R-squared:                  0.372\n",
      "Method:                 Least Squares   F-statistic:                     334.6\n",
      "Date:                Mon, 25 May 2020   Prob (F-statistic):          1.83e-170\n",
      "Time:                        17:06:32   Log-Likelihood:                -7014.6\n",
      "No. Observations:                1692   AIC:                         1.404e+04\n",
      "Df Residuals:                    1688   BIC:                         1.406e+04\n",
      "Df Model:                           3                                         \n",
      "Covariance Type:            nonrobust                                         \n",
      "==============================================================================\n",
      "                 coef    std err          t      P>|t|      [0.025      0.975]\n",
      "------------------------------------------------------------------------------\n",
      "const         91.9325     19.962      4.605      0.000      52.780     131.085\n",
      "lunch         -0.4487      0.015    -30.648      0.000      -0.477      -0.420\n",
      "lenroll       -5.3992      0.940     -5.741      0.000      -7.244      -3.555\n",
      "lexppp         3.5247      2.098      1.680      0.093      -0.590       7.639\n",
      "==============================================================================\n",
      "Omnibus:                       45.618   Durbin-Watson:                   1.701\n",
      "Prob(Omnibus):                  0.000   Jarque-Bera (JB):               67.625\n",
      "Skew:                          -0.267   Prob(JB):                     2.07e-15\n",
      "Kurtosis:                       3.821   Cond. No.                     2.58e+03\n",
      "==============================================================================\n",
      "\n",
      "Warnings:\n",
      "[1] Standard Errors assume that the covariance matrix of the errors is correctly specified.\n",
      "[2] The condition number is large, 2.58e+03. This might indicate that there are\n",
      "strong multicollinearity or other numerical problems.\n",
      "                            OLS Regression Results                            \n",
      "==============================================================================\n",
      "Dep. Variable:                  math4   R-squared:                       0.373\n",
      "Model:                            OLS   Adj. R-squared:                  0.372\n",
      "Method:                 Least Squares   F-statistic:                     246.4\n",
      "Date:                Mon, 25 May 2020   Prob (F-statistic):          1.36e-132\n",
      "Time:                        17:06:32   Log-Likelihood:                -7014.6\n",
      "No. Observations:                1692   AIC:                         1.404e+04\n",
      "Df Residuals:                    1688   BIC:                         1.406e+04\n",
      "Df Model:                           3                                         \n",
      "Covariance Type:                  HC3                                         \n",
      "==============================================================================\n",
      "                 coef    std err          t      P>|t|      [0.025      0.975]\n",
      "------------------------------------------------------------------------------\n",
      "const         91.9325     23.203      3.962      0.000      46.422     137.443\n",
      "lunch         -0.4487      0.017    -26.973      0.000      -0.481      -0.416\n",
      "lenroll       -5.3992      1.135     -4.758      0.000      -7.625      -3.173\n",
      "lexppp         3.5247      2.367      1.489      0.137      -1.118       8.168\n",
      "==============================================================================\n",
      "Omnibus:                       45.618   Durbin-Watson:                   1.701\n",
      "Prob(Omnibus):                  0.000   Jarque-Bera (JB):               67.625\n",
      "Skew:                          -0.267   Prob(JB):                     2.07e-15\n",
      "Kurtosis:                       3.821   Cond. No.                     2.58e+03\n",
      "==============================================================================\n",
      "\n",
      "Warnings:\n",
      "[1] Standard Errors are heteroscedasticity robust (HC3)\n",
      "[2] The condition number is large, 2.58e+03. This might indicate that there are\n",
      "strong multicollinearity or other numerical problems.\n"
     ]
    }
   ],
   "source": [
    "# Exercise 12\n",
    "meap00 = pd.read_stata(\"stata/meap00_01.dta\")\n",
    "\n",
    "y = meap00[\"math4\"]\n",
    "X = sm.add_constant(meap00[[\"lunch\", \"lenroll\", \"lexppp\"]])\n",
    "model = sm.OLS(y, X).fit()\n",
    "print(model.summary())\n",
    "print(model.get_robustcov_results(cov_type = \"HC3\").summary())"
   ]
  },
  {
   "cell_type": "code",
   "execution_count": 36,
   "metadata": {},
   "outputs": [
    {
     "name": "stdout",
     "output_type": "stream",
     "text": [
      "132.71001781141211\n"
     ]
    }
   ],
   "source": [
    "meap00[\"u_sq\"] = model.resid ** 2\n",
    "meap00[\"y_hat\"] = model.fittedvalues\n",
    "meap00[\"y_hat_sq\"] = model.fittedvalues ** 2\n",
    "\n",
    "y = meap00.u_sq\n",
    "X = sm.add_constant(meap00[[\"y_hat\", \"y_hat_sq\"]])\n",
    "model = sm.OLS(y, X).fit()\n",
    "f_stat = (model.rsquared / model.df_model) / ((1 - model.rsquared) / (model.nobs - model.df_model - 1))\n",
    "print(f_stat)"
   ]
  },
  {
   "cell_type": "code",
   "execution_count": 37,
   "metadata": {},
   "outputs": [],
   "source": [
    "y = np.log(meap00.u_sq)\n",
    "X = sm.add_constant(meap00[[\"y_hat\", \"y_hat_sq\"]])\n",
    "model = sm.OLS(y, X).fit()\n",
    "meap00[\"g_hat\"] = model.fittedvalues\n",
    "meap00[\"h_hat\"] = np.exp(meap00[\"g_hat\"])"
   ]
  },
  {
   "cell_type": "code",
   "execution_count": 38,
   "metadata": {},
   "outputs": [
    {
     "name": "stdout",
     "output_type": "stream",
     "text": [
      "                            WLS Regression Results                            \n",
      "==============================================================================\n",
      "Dep. Variable:                  math4   R-squared:                       0.360\n",
      "Model:                            WLS   Adj. R-squared:                  0.359\n",
      "Method:                 Least Squares   F-statistic:                     316.5\n",
      "Date:                Mon, 25 May 2020   Prob (F-statistic):          5.26e-163\n",
      "Time:                        17:06:33   Log-Likelihood:                -6851.5\n",
      "No. Observations:                1692   AIC:                         1.371e+04\n",
      "Df Residuals:                    1688   BIC:                         1.373e+04\n",
      "Df Model:                           3                                         \n",
      "Covariance Type:            nonrobust                                         \n",
      "==============================================================================\n",
      "                 coef    std err          t      P>|t|      [0.025      0.975]\n",
      "------------------------------------------------------------------------------\n",
      "const         50.4782     16.510      3.057      0.002      18.095      82.861\n",
      "lunch         -0.4486      0.015    -30.697      0.000      -0.477      -0.420\n",
      "lenroll       -2.6473      0.836     -3.167      0.002      -4.287      -1.008\n",
      "lexppp         6.4742      1.686      3.840      0.000       3.168       9.781\n",
      "==============================================================================\n",
      "Omnibus:                      144.380   Durbin-Watson:                   1.577\n",
      "Prob(Omnibus):                  0.000   Jarque-Bera (JB):              212.249\n",
      "Skew:                          -0.661   Prob(JB):                     8.14e-47\n",
      "Kurtosis:                       4.124   Cond. No.                     1.80e+03\n",
      "==============================================================================\n",
      "\n",
      "Warnings:\n",
      "[1] Standard Errors assume that the covariance matrix of the errors is correctly specified.\n",
      "[2] The condition number is large, 1.8e+03. This might indicate that there are\n",
      "strong multicollinearity or other numerical problems.\n",
      "                            WLS Regression Results                            \n",
      "==============================================================================\n",
      "Dep. Variable:                  math4   R-squared:                       0.360\n",
      "Model:                            WLS   Adj. R-squared:                  0.359\n",
      "Method:                 Least Squares   F-statistic:                     342.3\n",
      "Date:                Mon, 25 May 2020   Prob (F-statistic):          1.26e-173\n",
      "Time:                        17:06:33   Log-Likelihood:                -6851.5\n",
      "No. Observations:                1692   AIC:                         1.371e+04\n",
      "Df Residuals:                    1688   BIC:                         1.373e+04\n",
      "Df Model:                           3                                         \n",
      "Covariance Type:                  HC3                                         \n",
      "==============================================================================\n",
      "                 coef    std err          t      P>|t|      [0.025      0.975]\n",
      "------------------------------------------------------------------------------\n",
      "const         50.4782     19.023      2.653      0.008      13.166      87.790\n",
      "lunch         -0.4486      0.014    -31.412      0.000      -0.477      -0.421\n",
      "lenroll       -2.6473      1.060     -2.498      0.013      -4.726      -0.568\n",
      "lexppp         6.4742      1.822      3.553      0.000       2.900      10.048\n",
      "==============================================================================\n",
      "Omnibus:                      144.380   Durbin-Watson:                   1.577\n",
      "Prob(Omnibus):                  0.000   Jarque-Bera (JB):              212.249\n",
      "Skew:                          -0.661   Prob(JB):                     8.14e-47\n",
      "Kurtosis:                       4.124   Cond. No.                     1.80e+03\n",
      "==============================================================================\n",
      "\n",
      "Warnings:\n",
      "[1] Standard Errors are heteroscedasticity robust (HC3)\n",
      "[2] The condition number is large, 1.8e+03. This might indicate that there are\n",
      "strong multicollinearity or other numerical problems.\n"
     ]
    }
   ],
   "source": [
    "y = meap00[\"math4\"]\n",
    "X = sm.add_constant(meap00[[\"lunch\", \"lenroll\", \"lexppp\"]])\n",
    "model = sm.WLS(y, X, weights = 1/meap00[\"h_hat\"]).fit()\n",
    "print(model.summary())\n",
    "print(model.get_robustcov_results(cov_type = \"HC3\").summary())"
   ]
  },
  {
   "cell_type": "markdown",
   "metadata": {},
   "source": [
    "C12.i The robust standard errors are larger for each variable. lexppp goes from significant at 10% to not significant.\n",
    "\n",
    "C12.ii The F-Test is 132.7 which is a strong indicator of heteroskedasticity.\n",
    "\n",
    "C12.iii Lunch is the only variable relatively unchanged. lenroll's negative effect is cut in half while lnexppp's effect has grown in magnitude. All of the variables are now significant.\n",
    "\n",
    "C12.iv Again, the errors are larger, but not enough to substantially change the significance of the variables (noting that lenroll goes from significant at the 1% level to the 5% level)\n",
    "\n",
    "C12.v WLS appears to be more precice due to its smaller errors, even when using robust standard errors."
   ]
  },
  {
   "cell_type": "code",
   "execution_count": 39,
   "metadata": {},
   "outputs": [
    {
     "name": "stdout",
     "output_type": "stream",
     "text": [
      "                            OLS Regression Results                            \n",
      "==============================================================================\n",
      "Dep. Variable:               children   R-squared:                       0.573\n",
      "Model:                            OLS   Adj. R-squared:                  0.573\n",
      "Method:                 Least Squares   F-statistic:                     1170.\n",
      "Date:                Mon, 25 May 2020   Prob (F-statistic):               0.00\n",
      "Time:                        17:06:33   Log-Likelihood:                -7806.3\n",
      "No. Observations:                4358   AIC:                         1.562e+04\n",
      "Df Residuals:                    4352   BIC:                         1.566e+04\n",
      "Df Model:                           5                                         \n",
      "Covariance Type:            nonrobust                                         \n",
      "==============================================================================\n",
      "                 coef    std err          t      P>|t|      [0.025      0.975]\n",
      "------------------------------------------------------------------------------\n",
      "const         -4.2225      0.240    -17.580      0.000      -4.693      -3.752\n",
      "age            0.3409      0.017     20.652      0.000       0.309       0.373\n",
      "agesq         -0.0027      0.000    -10.086      0.000      -0.003      -0.002\n",
      "educ          -0.0752      0.006    -11.948      0.000      -0.088      -0.063\n",
      "electric      -0.3100      0.069     -4.493      0.000      -0.445      -0.175\n",
      "urban         -0.2000      0.047     -4.301      0.000      -0.291      -0.109\n",
      "==============================================================================\n",
      "Omnibus:                      203.155   Durbin-Watson:                   1.883\n",
      "Prob(Omnibus):                  0.000   Jarque-Bera (JB):              715.135\n",
      "Skew:                           0.014   Prob(JB):                    5.13e-156\n",
      "Kurtosis:                       4.984   Cond. No.                     1.07e+04\n",
      "==============================================================================\n",
      "\n",
      "Warnings:\n",
      "[1] Standard Errors assume that the covariance matrix of the errors is correctly specified.\n",
      "[2] The condition number is large, 1.07e+04. This might indicate that there are\n",
      "strong multicollinearity or other numerical problems.\n",
      "                            OLS Regression Results                            \n",
      "==============================================================================\n",
      "Dep. Variable:               children   R-squared:                       0.573\n",
      "Model:                            OLS   Adj. R-squared:                  0.573\n",
      "Method:                 Least Squares   F-statistic:                     1159.\n",
      "Date:                Mon, 25 May 2020   Prob (F-statistic):               0.00\n",
      "Time:                        17:06:33   Log-Likelihood:                -7806.3\n",
      "No. Observations:                4358   AIC:                         1.562e+04\n",
      "Df Residuals:                    4352   BIC:                         1.566e+04\n",
      "Df Model:                           5                                         \n",
      "Covariance Type:                  HC3                                         \n",
      "==============================================================================\n",
      "                 coef    std err          t      P>|t|      [0.025      0.975]\n",
      "------------------------------------------------------------------------------\n",
      "const         -4.2225      0.244    -17.277      0.000      -4.702      -3.743\n",
      "age            0.3409      0.019     17.738      0.000       0.303       0.379\n",
      "agesq         -0.0027      0.000     -7.801      0.000      -0.003      -0.002\n",
      "educ          -0.0752      0.006    -11.912      0.000      -0.088      -0.063\n",
      "electric      -0.3100      0.064     -4.839      0.000      -0.436      -0.184\n",
      "urban         -0.2000      0.046     -4.395      0.000      -0.289      -0.111\n",
      "==============================================================================\n",
      "Omnibus:                      203.155   Durbin-Watson:                   1.883\n",
      "Prob(Omnibus):                  0.000   Jarque-Bera (JB):              715.135\n",
      "Skew:                           0.014   Prob(JB):                    5.13e-156\n",
      "Kurtosis:                       4.984   Cond. No.                     1.07e+04\n",
      "==============================================================================\n",
      "\n",
      "Warnings:\n",
      "[1] Standard Errors are heteroscedasticity robust (HC3)\n",
      "[2] The condition number is large, 1.07e+04. This might indicate that there are\n",
      "strong multicollinearity or other numerical problems.\n"
     ]
    }
   ],
   "source": [
    "#Exercise 13\n",
    "\n",
    "fertil2 = pd.read_stata(\"stata/FERTIL2.DTA\")\n",
    "fertil2_clean = fertil2[[\"children\", \"age\", \"agesq\", \"educ\", \"electric\", \"urban\"]].dropna()\n",
    "y = fertil2_clean[\"children\"]\n",
    "X = sm.add_constant(fertil2_clean[[\"age\", \"agesq\", \"educ\", \"electric\", \"urban\"]])\n",
    "model = sm.OLS(y, X).fit()\n",
    "print(model.summary())\n",
    "print(model.get_robustcov_results(cov_type = \"HC3\").summary())"
   ]
  },
  {
   "cell_type": "code",
   "execution_count": 40,
   "metadata": {},
   "outputs": [
    {
     "name": "stdout",
     "output_type": "stream",
     "text": [
      "<F test: F=array([[2.19609286]]), p=0.08640606555549035, df_denom=4.35e+03, df_num=3>\n",
      "<F test: F=array([[2.15096493]]), p=0.09170157102592301, df_denom=4.35e+03, df_num=3>\n"
     ]
    }
   ],
   "source": [
    "fertil2_clean = fertil2[[\"children\", \"age\", \"agesq\", \"educ\", \"electric\", \"urban\", \"spirit\", \"protest\", \"catholic\"]].dropna()\n",
    "y = fertil2_clean[\"children\"]\n",
    "X = sm.add_constant(fertil2_clean[[\"age\", \"agesq\", \"educ\", \"electric\", \"urban\", \"spirit\", \"protest\", \"catholic\"]])\n",
    "model = sm.OLS(y, X).fit()\n",
    "model_hc = model.get_robustcov_results(cov_type = \"HC3\")\n",
    "\n",
    "fertil2_clean[\"y_hat\"] =  model.fittedvalues\n",
    "fertil2_clean[\"u_hat\"] = model.resid\n",
    "fertil2_clean[\"u_hat_sq\"] = np.power(model.resid, 2)\n",
    "fertil2_clean[\"y_hat_sq\"] =  np.power(model.fittedvalues, 2)\n",
    "\n",
    "print(model.f_test(\"(spirit = 0), (protest = 0), (catholic = 0)\"))\n",
    "print(model_hc.f_test(\"(spirit = 0), (protest = 0), (catholic = 0)\"))"
   ]
  },
  {
   "cell_type": "code",
   "execution_count": 41,
   "metadata": {},
   "outputs": [
    {
     "name": "stdout",
     "output_type": "stream",
     "text": [
      "                            OLS Regression Results                            \n",
      "==============================================================================\n",
      "Dep. Variable:               u_hat_sq   R-squared:                       0.250\n",
      "Model:                            OLS   Adj. R-squared:                  0.250\n",
      "Method:                 Least Squares   F-statistic:                     726.1\n",
      "Date:                Mon, 25 May 2020   Prob (F-statistic):          7.19e-273\n",
      "Time:                        17:06:33   Log-Likelihood:                -11803.\n",
      "No. Observations:                4358   AIC:                         2.361e+04\n",
      "Df Residuals:                    4355   BIC:                         2.363e+04\n",
      "Df Model:                           2                                         \n",
      "Covariance Type:            nonrobust                                         \n",
      "==============================================================================\n",
      "                 coef    std err          t      P>|t|      [0.025      0.975]\n",
      "------------------------------------------------------------------------------\n",
      "const          0.3126      0.111      2.807      0.005       0.094       0.531\n",
      "y_hat         -0.1489      0.102     -1.462      0.144      -0.348       0.051\n",
      "y_hat_sq       0.2668      0.020     13.607      0.000       0.228       0.305\n",
      "==============================================================================\n",
      "Omnibus:                     3446.975   Durbin-Watson:                   1.947\n",
      "Prob(Omnibus):                  0.000   Jarque-Bera (JB):           119444.435\n",
      "Skew:                           3.503   Prob(JB):                         0.00\n",
      "Kurtosis:                      27.672   Cond. No.                         31.4\n",
      "==============================================================================\n",
      "\n",
      "Warnings:\n",
      "[1] Standard Errors assume that the covariance matrix of the errors is correctly specified.\n"
     ]
    }
   ],
   "source": [
    "y = fertil2_clean.u_hat_sq\n",
    "X = sm.add_constant(fertil2_clean[[\"y_hat\", \"y_hat_sq\"]])\n",
    "model = sm.OLS(y, X).fit()\n",
    "\n",
    "print(model.summary())"
   ]
  },
  {
   "cell_type": "markdown",
   "metadata": {},
   "source": [
    "C13.i The robust standard errors are not always bigger than nonrobust ones. This is true in this specific case as well as more generally.\n",
    "\n",
    "C13.ii The p-values for the nonrobust test is 0.0864 and the robust test is 0.0917. Neither of these is significant unless we are concerned about the 10% level.\n",
    "\n",
    "C13.iii From C10.ii we know that the probability limit of $\\hat{y}$ should be 1 and $\\hat{y}^2$ should be -1 (with the constant at 0). From the regression we see that the constant is significantly different from 0 (at the 1% level), we do not find evidence to suggest $\\hat{y}$ is any different than 0, and $\\hat{y}^2$'s confidence interval goes from 0.228 to 0.305 (positive and absolute value is nowhere near 1). None of the values we would expect in the case of homoskedasticity are present and so we conclude heteroskedasticity is present in the equation for children.\n",
    "\n",
    "C13.iv While we have evidence for the presence of heteroskedasticity, it is not practically important. The robust standard errors are very similar to the nonrobust ones and the t-statistics are large. The conclusions remain unchanged even when accounting for heteroskedasticity (including the joint significance -- or lack of significance -- for the religious variables)."
   ]
  },
  {
   "cell_type": "code",
   "execution_count": 42,
   "metadata": {},
   "outputs": [
    {
     "name": "stdout",
     "output_type": "stream",
     "text": [
      "                            OLS Regression Results                            \n",
      "==============================================================================\n",
      "Dep. Variable:                  lwage   R-squared:                       0.360\n",
      "Model:                            OLS   Adj. R-squared:                  0.357\n",
      "Method:                 Least Squares   F-statistic:                     120.2\n",
      "Date:                Mon, 25 May 2020   Prob (F-statistic):          5.13e-120\n",
      "Time:                        17:06:33   Log-Likelihood:                -851.19\n",
      "No. Observations:                1260   AIC:                             1716.\n",
      "Df Residuals:                    1253   BIC:                             1752.\n",
      "Df Model:                           6                                         \n",
      "Covariance Type:                  HC3                                         \n",
      "==============================================================================\n",
      "                 coef    std err          t      P>|t|      [0.025      0.975]\n",
      "------------------------------------------------------------------------------\n",
      "const          0.5590      0.082      6.832      0.000       0.398       0.719\n",
      "belavg        -0.1542      0.041     -3.737      0.000      -0.235      -0.073\n",
      "abvavg        -0.0066      0.031     -0.212      0.832      -0.068       0.055\n",
      "female        -0.4533      0.029    -15.466      0.000      -0.511      -0.396\n",
      "educ           0.0663      0.006     11.933      0.000       0.055       0.077\n",
      "exper          0.0408      0.004      9.590      0.000       0.032       0.049\n",
      "expersq       -0.0006   9.51e-05     -6.625      0.000      -0.001      -0.000\n",
      "==============================================================================\n",
      "Omnibus:                       62.591   Durbin-Watson:                   1.885\n",
      "Prob(Omnibus):                  0.000   Jarque-Bera (JB):              193.402\n",
      "Skew:                           0.145   Prob(JB):                     1.01e-42\n",
      "Kurtosis:                       4.897   Cond. No.                     4.28e+03\n",
      "==============================================================================\n",
      "\n",
      "Warnings:\n",
      "[1] Standard Errors are heteroscedasticity robust (HC3)\n",
      "[2] The condition number is large, 4.28e+03. This might indicate that there are\n",
      "strong multicollinearity or other numerical problems.\n"
     ]
    }
   ],
   "source": [
    "# Exercise 14\n",
    "beauty = pd.read_stata(\"stata/beauty.dta\")\n",
    "y = beauty.lwage\n",
    "X = sm.add_constant(beauty[[\"belavg\", \"abvavg\", \"female\", \"educ\", \"exper\", \"expersq\"]])\n",
    "model = sm.OLS(y, X).fit()\n",
    "model_hc = model.get_robustcov_results(cov_type = \"HC3\")\n",
    "print(model_hc.summary())"
   ]
  },
  {
   "cell_type": "code",
   "execution_count": 43,
   "metadata": {},
   "outputs": [
    {
     "name": "stdout",
     "output_type": "stream",
     "text": [
      "                            OLS Regression Results                            \n",
      "==============================================================================\n",
      "Dep. Variable:                  lwage   R-squared:                       0.368\n",
      "Model:                            OLS   Adj. R-squared:                  0.363\n",
      "Method:                 Least Squares   F-statistic:                     67.94\n",
      "Date:                Mon, 25 May 2020   Prob (F-statistic):          5.96e-119\n",
      "Time:                        17:06:33   Log-Likelihood:                -842.59\n",
      "No. Observations:                1260   AIC:                             1709.\n",
      "Df Residuals:                    1248   BIC:                             1771.\n",
      "Df Model:                          11                                         \n",
      "Covariance Type:                  HC3                                         \n",
      "==================================================================================\n",
      "                     coef    std err          t      P>|t|      [0.025      0.975]\n",
      "----------------------------------------------------------------------------------\n",
      "const              0.5375      0.105      5.129      0.000       0.332       0.743\n",
      "belavg            -0.1694      0.053     -3.171      0.002      -0.274      -0.065\n",
      "abvavg            -0.0391      0.039     -0.997      0.319      -0.116       0.038\n",
      "female            -0.4968      0.161     -3.087      0.002      -0.813      -0.181\n",
      "educ               0.0610      0.007      8.551      0.000       0.047       0.075\n",
      "exper              0.0505      0.005      9.279      0.000       0.040       0.061\n",
      "expersq           -0.0008      0.000     -6.956      0.000      -0.001      -0.001\n",
      "belavg_female      0.0436      0.084      0.518      0.604      -0.122       0.209\n",
      "abvavg_female      0.0824      0.065      1.263      0.207      -0.046       0.210\n",
      "educ_female        0.0177      0.011      1.564      0.118      -0.004       0.040\n",
      "exper_female      -0.0207      0.009     -2.236      0.026      -0.039      -0.003\n",
      "expersq_female     0.0003      0.000      1.359      0.174      -0.000       0.001\n",
      "==============================================================================\n",
      "Omnibus:                       61.315   Durbin-Watson:                   1.894\n",
      "Prob(Omnibus):                  0.000   Jarque-Bera (JB):              190.119\n",
      "Skew:                           0.130   Prob(JB):                     5.20e-42\n",
      "Kurtosis:                       4.885   Cond. No.                     9.59e+03\n",
      "==============================================================================\n",
      "\n",
      "Warnings:\n",
      "[1] Standard Errors are heteroscedasticity robust (HC3)\n",
      "[2] The condition number is large, 9.59e+03. This might indicate that there are\n",
      "strong multicollinearity or other numerical problems.\n",
      "<F test: F=array([[3.43094863]]), p=0.00439044407502847, df_denom=1.25e+03, df_num=5>\n",
      "<F test: F=array([[3.75890999]]), p=0.0022075150079984094, df_denom=1.25e+03, df_num=5>\n"
     ]
    }
   ],
   "source": [
    "beauty[\"belavg_female\"] = beauty[\"belavg\"] * beauty[\"female\"]\n",
    "beauty[\"abvavg_female\"] = beauty[\"abvavg\"] * beauty[\"female\"]\n",
    "beauty[\"educ_female\"] = beauty[\"educ\"] * beauty[\"female\"]\n",
    "beauty[\"exper_female\"] = beauty[\"exper\"] * beauty[\"female\"]\n",
    "beauty[\"expersq_female\"] = beauty[\"expersq\"] * beauty[\"female\"]\n",
    "\n",
    "X = sm.add_constant(beauty[[\"belavg\", \"abvavg\", \"female\", \"educ\", \"exper\", \"expersq\", \"belavg_female\", \"abvavg_female\", \"educ_female\", \"exper_female\", \"expersq_female\"]])\n",
    "model = sm.OLS(y, X).fit()\n",
    "model_hc = model.get_robustcov_results(cov_type = \"HC3\")\n",
    "print(model_hc.summary())\n",
    "print(model.f_test(\"(belavg_female = 0), (abvavg_female = 0), (educ_female = 0), (exper_female = 0), (expersq_female = 0)\"))\n",
    "print(model_hc.f_test(\"(belavg_female = 0), (abvavg_female = 0), (educ_female = 0), (exper_female = 0), (expersq_female = 0)\"))"
   ]
  },
  {
   "cell_type": "code",
   "execution_count": 44,
   "metadata": {},
   "outputs": [
    {
     "name": "stdout",
     "output_type": "stream",
     "text": [
      "<F test: F=array([[0.85075801]]), p=0.42733861357216474, df_denom=1.25e+03, df_num=2>\n",
      "<F test: F=array([[0.81801621]]), p=0.4415427219723348, df_denom=1.25e+03, df_num=2>\n"
     ]
    }
   ],
   "source": [
    "print(model.f_test(\"(belavg_female = 0), (abvavg_female = 0)\"))\n",
    "print(model_hc.f_test(\"(belavg_female = 0), (abvavg_female = 0)\"))"
   ]
  },
  {
   "cell_type": "markdown",
   "metadata": {},
   "source": [
    "C14.i Ignoring significance, if we do not find below average looks a surprising result, then we should find a negative coefficient for above average looks to be surprising. A negative coefficient for women is consistent with the expectations for a wage gap, and positive coefficients for education and experience are in line with previous results (as is the negative quadratic term). The female coefficient is large, negative and statistically significant.\n",
    "\n",
    "C14.ii The interaction terms are jointly statistically significant at the 5% level for both the robust and nonrobust versions of the test. The outcome is the same though the p-value is smaller for the robust version.\n",
    "\n",
    "C14.iii When considering only the appearance interactions, both versions of test are not jointly significant. It is hard to say this is because the coefficients are practically small since they are the two largest of the interaction terms and and the above average interaction is larger than education and experience. However, the errors are quite large. This may be driven in part by the fact that there are 144 women marked as above average and 59 women marked as below average (out of 436 women and 1260 observations in total)"
   ]
  },
  {
   "cell_type": "code",
   "execution_count": null,
   "metadata": {},
   "outputs": [],
   "source": []
  }
 ],
 "metadata": {
  "kernelspec": {
   "display_name": "Python 3 (ipykernel)",
   "language": "python",
   "name": "python3"
  },
  "language_info": {
   "codemirror_mode": {
    "name": "ipython",
    "version": 3
   },
   "file_extension": ".py",
   "mimetype": "text/x-python",
   "name": "python",
   "nbconvert_exporter": "python",
   "pygments_lexer": "ipython3",
   "version": "3.9.12"
  }
 },
 "nbformat": 4,
 "nbformat_minor": 4
}
