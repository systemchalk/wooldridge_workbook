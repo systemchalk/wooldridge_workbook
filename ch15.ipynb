{
 "cells": [
  {
   "cell_type": "code",
   "execution_count": 1,
   "id": "10ba4c18-e444-46df-9d66-c90fb3524728",
   "metadata": {},
   "outputs": [],
   "source": [
    "import pandas as pd\n",
    "import statsmodels.api as sm\n",
    "import numpy as np\n",
    "import matplotlib.pyplot as plt\n",
    "from linearmodels.iv import IV2SLS"
   ]
  },
  {
   "cell_type": "code",
   "execution_count": 2,
   "id": "038d6a11-e419-4efa-8403-a7e4c18f6853",
   "metadata": {},
   "outputs": [
    {
     "name": "stderr",
     "output_type": "stream",
     "text": [
      "/home/systemchalk/anaconda3/lib/python3.9/site-packages/statsmodels/tsa/tsatools.py:142: FutureWarning: In a future version of pandas all arguments of concat except for the argument 'objs' will be keyword-only\n",
      "  x = pd.concat(x[::order], 1)\n"
     ]
    },
    {
     "data": {
      "text/html": [
       "<table class=\"simpletable\">\n",
       "<caption>OLS Regression Results</caption>\n",
       "<tr>\n",
       "  <th>Dep. Variable:</th>          <td>lwage</td>      <th>  R-squared:         </th> <td>   0.023</td>\n",
       "</tr>\n",
       "<tr>\n",
       "  <th>Model:</th>                   <td>OLS</td>       <th>  Adj. R-squared:    </th> <td>   0.022</td>\n",
       "</tr>\n",
       "<tr>\n",
       "  <th>Method:</th>             <td>Least Squares</td>  <th>  F-statistic:       </th> <td>   22.31</td>\n",
       "</tr>\n",
       "<tr>\n",
       "  <th>Date:</th>             <td>Wed, 23 Mar 2022</td> <th>  Prob (F-statistic):</th> <td>2.68e-06</td>\n",
       "</tr>\n",
       "<tr>\n",
       "  <th>Time:</th>                 <td>02:20:12</td>     <th>  Log-Likelihood:    </th> <td> -506.59</td>\n",
       "</tr>\n",
       "<tr>\n",
       "  <th>No. Observations:</th>      <td>   935</td>      <th>  AIC:               </th> <td>   1017.</td>\n",
       "</tr>\n",
       "<tr>\n",
       "  <th>Df Residuals:</th>          <td>   933</td>      <th>  BIC:               </th> <td>   1027.</td>\n",
       "</tr>\n",
       "<tr>\n",
       "  <th>Df Model:</th>              <td>     1</td>      <th>                     </th>     <td> </td>   \n",
       "</tr>\n",
       "<tr>\n",
       "  <th>Covariance Type:</th>      <td>nonrobust</td>    <th>                     </th>     <td> </td>   \n",
       "</tr>\n",
       "</table>\n",
       "<table class=\"simpletable\">\n",
       "<tr>\n",
       "    <td></td>       <th>coef</th>     <th>std err</th>      <th>t</th>      <th>P>|t|</th>  <th>[0.025</th>    <th>0.975]</th>  \n",
       "</tr>\n",
       "<tr>\n",
       "  <th>const</th> <td>    6.8611</td> <td>    0.022</td> <td>  310.771</td> <td> 0.000</td> <td>    6.818</td> <td>    6.904</td>\n",
       "</tr>\n",
       "<tr>\n",
       "  <th>sibs</th>  <td>   -0.0279</td> <td>    0.006</td> <td>   -4.723</td> <td> 0.000</td> <td>   -0.039</td> <td>   -0.016</td>\n",
       "</tr>\n",
       "</table>\n",
       "<table class=\"simpletable\">\n",
       "<tr>\n",
       "  <th>Omnibus:</th>       <td>22.562</td> <th>  Durbin-Watson:     </th> <td>   1.726</td>\n",
       "</tr>\n",
       "<tr>\n",
       "  <th>Prob(Omnibus):</th> <td> 0.000</td> <th>  Jarque-Bera (JB):  </th> <td>  26.529</td>\n",
       "</tr>\n",
       "<tr>\n",
       "  <th>Skew:</th>          <td>-0.306</td> <th>  Prob(JB):          </th> <td>1.74e-06</td>\n",
       "</tr>\n",
       "<tr>\n",
       "  <th>Kurtosis:</th>      <td> 3.553</td> <th>  Cond. No.          </th> <td>    6.33</td>\n",
       "</tr>\n",
       "</table><br/><br/>Notes:<br/>[1] Standard Errors assume that the covariance matrix of the errors is correctly specified."
      ],
      "text/plain": [
       "<class 'statsmodels.iolib.summary.Summary'>\n",
       "\"\"\"\n",
       "                            OLS Regression Results                            \n",
       "==============================================================================\n",
       "Dep. Variable:                  lwage   R-squared:                       0.023\n",
       "Model:                            OLS   Adj. R-squared:                  0.022\n",
       "Method:                 Least Squares   F-statistic:                     22.31\n",
       "Date:                Wed, 23 Mar 2022   Prob (F-statistic):           2.68e-06\n",
       "Time:                        02:20:12   Log-Likelihood:                -506.59\n",
       "No. Observations:                 935   AIC:                             1017.\n",
       "Df Residuals:                     933   BIC:                             1027.\n",
       "Df Model:                           1                                         \n",
       "Covariance Type:            nonrobust                                         \n",
       "==============================================================================\n",
       "                 coef    std err          t      P>|t|      [0.025      0.975]\n",
       "------------------------------------------------------------------------------\n",
       "const          6.8611      0.022    310.771      0.000       6.818       6.904\n",
       "sibs          -0.0279      0.006     -4.723      0.000      -0.039      -0.016\n",
       "==============================================================================\n",
       "Omnibus:                       22.562   Durbin-Watson:                   1.726\n",
       "Prob(Omnibus):                  0.000   Jarque-Bera (JB):               26.529\n",
       "Skew:                          -0.306   Prob(JB):                     1.74e-06\n",
       "Kurtosis:                       3.553   Cond. No.                         6.33\n",
       "==============================================================================\n",
       "\n",
       "Notes:\n",
       "[1] Standard Errors assume that the covariance matrix of the errors is correctly specified.\n",
       "\"\"\""
      ]
     },
     "execution_count": 2,
     "metadata": {},
     "output_type": "execute_result"
    }
   ],
   "source": [
    "# Exercise 1\n",
    "wage2 = pd.read_stata(\"./stata/WAGE2.DTA\")\n",
    "X = sm.add_constant(wage2[[\"sibs\"]])\n",
    "model = sm.OLS(wage2.lwage, X, missing=\"drop\").fit()\n",
    "model.summary()"
   ]
  },
  {
   "cell_type": "code",
   "execution_count": 3,
   "id": "a4195e47-decc-47e8-9e61-60d327dc8dbb",
   "metadata": {},
   "outputs": [
    {
     "name": "stderr",
     "output_type": "stream",
     "text": [
      "/home/systemchalk/anaconda3/lib/python3.9/site-packages/statsmodels/tsa/tsatools.py:142: FutureWarning: In a future version of pandas all arguments of concat except for the argument 'objs' will be keyword-only\n",
      "  x = pd.concat(x[::order], 1)\n"
     ]
    },
    {
     "data": {
      "text/html": [
       "<table class=\"simpletable\">\n",
       "<caption>OLS Regression Results</caption>\n",
       "<tr>\n",
       "  <th>Dep. Variable:</th>          <td>educ</td>       <th>  R-squared:         </th> <td>   0.042</td>\n",
       "</tr>\n",
       "<tr>\n",
       "  <th>Model:</th>                   <td>OLS</td>       <th>  Adj. R-squared:    </th> <td>   0.041</td>\n",
       "</tr>\n",
       "<tr>\n",
       "  <th>Method:</th>             <td>Least Squares</td>  <th>  F-statistic:       </th> <td>   37.29</td>\n",
       "</tr>\n",
       "<tr>\n",
       "  <th>Date:</th>             <td>Wed, 23 Mar 2022</td> <th>  Prob (F-statistic):</th> <td>1.55e-09</td>\n",
       "</tr>\n",
       "<tr>\n",
       "  <th>Time:</th>                 <td>02:20:13</td>     <th>  Log-Likelihood:    </th> <td> -1861.9</td>\n",
       "</tr>\n",
       "<tr>\n",
       "  <th>No. Observations:</th>      <td>   852</td>      <th>  AIC:               </th> <td>   3728.</td>\n",
       "</tr>\n",
       "<tr>\n",
       "  <th>Df Residuals:</th>          <td>   850</td>      <th>  BIC:               </th> <td>   3737.</td>\n",
       "</tr>\n",
       "<tr>\n",
       "  <th>Df Model:</th>              <td>     1</td>      <th>                     </th>     <td> </td>   \n",
       "</tr>\n",
       "<tr>\n",
       "  <th>Covariance Type:</th>      <td>nonrobust</td>    <th>                     </th>     <td> </td>   \n",
       "</tr>\n",
       "</table>\n",
       "<table class=\"simpletable\">\n",
       "<tr>\n",
       "     <td></td>        <th>coef</th>     <th>std err</th>      <th>t</th>      <th>P>|t|</th>  <th>[0.025</th>    <th>0.975]</th>  \n",
       "</tr>\n",
       "<tr>\n",
       "  <th>const</th>   <td>   14.1494</td> <td>    0.129</td> <td>  109.962</td> <td> 0.000</td> <td>   13.897</td> <td>   14.402</td>\n",
       "</tr>\n",
       "<tr>\n",
       "  <th>brthord</th> <td>   -0.2826</td> <td>    0.046</td> <td>   -6.106</td> <td> 0.000</td> <td>   -0.373</td> <td>   -0.192</td>\n",
       "</tr>\n",
       "</table>\n",
       "<table class=\"simpletable\">\n",
       "<tr>\n",
       "  <th>Omnibus:</th>       <td>77.090</td> <th>  Durbin-Watson:     </th> <td>   1.784</td>\n",
       "</tr>\n",
       "<tr>\n",
       "  <th>Prob(Omnibus):</th> <td> 0.000</td> <th>  Jarque-Bera (JB):  </th> <td>  53.992</td>\n",
       "</tr>\n",
       "<tr>\n",
       "  <th>Skew:</th>          <td> 0.506</td> <th>  Prob(JB):          </th> <td>1.89e-12</td>\n",
       "</tr>\n",
       "<tr>\n",
       "  <th>Kurtosis:</th>      <td> 2.294</td> <th>  Cond. No.          </th> <td>    5.28</td>\n",
       "</tr>\n",
       "</table><br/><br/>Notes:<br/>[1] Standard Errors assume that the covariance matrix of the errors is correctly specified."
      ],
      "text/plain": [
       "<class 'statsmodels.iolib.summary.Summary'>\n",
       "\"\"\"\n",
       "                            OLS Regression Results                            \n",
       "==============================================================================\n",
       "Dep. Variable:                   educ   R-squared:                       0.042\n",
       "Model:                            OLS   Adj. R-squared:                  0.041\n",
       "Method:                 Least Squares   F-statistic:                     37.29\n",
       "Date:                Wed, 23 Mar 2022   Prob (F-statistic):           1.55e-09\n",
       "Time:                        02:20:13   Log-Likelihood:                -1861.9\n",
       "No. Observations:                 852   AIC:                             3728.\n",
       "Df Residuals:                     850   BIC:                             3737.\n",
       "Df Model:                           1                                         \n",
       "Covariance Type:            nonrobust                                         \n",
       "==============================================================================\n",
       "                 coef    std err          t      P>|t|      [0.025      0.975]\n",
       "------------------------------------------------------------------------------\n",
       "const         14.1494      0.129    109.962      0.000      13.897      14.402\n",
       "brthord       -0.2826      0.046     -6.106      0.000      -0.373      -0.192\n",
       "==============================================================================\n",
       "Omnibus:                       77.090   Durbin-Watson:                   1.784\n",
       "Prob(Omnibus):                  0.000   Jarque-Bera (JB):               53.992\n",
       "Skew:                           0.506   Prob(JB):                     1.89e-12\n",
       "Kurtosis:                       2.294   Cond. No.                         5.28\n",
       "==============================================================================\n",
       "\n",
       "Notes:\n",
       "[1] Standard Errors assume that the covariance matrix of the errors is correctly specified.\n",
       "\"\"\""
      ]
     },
     "execution_count": 3,
     "metadata": {},
     "output_type": "execute_result"
    }
   ],
   "source": [
    "X = sm.add_constant(wage2[[\"brthord\"]])\n",
    "model = sm.OLS(wage2.educ, X, missing=\"drop\").fit()\n",
    "model.summary()"
   ]
  },
  {
   "cell_type": "code",
   "execution_count": 4,
   "id": "78c02ba6-4e85-4a89-93f8-c7c9881e4313",
   "metadata": {},
   "outputs": [
    {
     "name": "stderr",
     "output_type": "stream",
     "text": [
      "/home/systemchalk/anaconda3/lib/python3.9/site-packages/linearmodels/shared/exceptions.py:35: MissingValueWarning: \n",
      "Inputs contain missing values. Dropping rows with missing observations.\n",
      "  warnings.warn(missing_value_warning_msg, MissingValueWarning)\n"
     ]
    },
    {
     "data": {
      "text/html": [
       "<table class=\"simpletable\">\n",
       "<caption>IV-2SLS Estimation Summary</caption>\n",
       "<tr>\n",
       "  <th>Dep. Variable:</th>          <td>lwage</td>      <th>  R-squared:         </th> <td>-0.0286</td>\n",
       "</tr>\n",
       "<tr>\n",
       "  <th>Estimator:</th>             <td>IV-2SLS</td>     <th>  Adj. R-squared:    </th> <td>-0.0298</td>\n",
       "</tr>\n",
       "<tr>\n",
       "  <th>No. Observations:</th>        <td>852</td>       <th>  F-statistic:       </th> <td>16.667</td> \n",
       "</tr>\n",
       "<tr>\n",
       "  <th>Date:</th>             <td>Wed, Mar 23 2022</td> <th>  P-value (F-stat)   </th> <td>0.0000</td> \n",
       "</tr>\n",
       "<tr>\n",
       "  <th>Time:</th>                 <td>02:20:13</td>     <th>  Distribution:      </th> <td>chi2(1)</td>\n",
       "</tr>\n",
       "<tr>\n",
       "  <th>Cov. Estimator:</th>      <td>unadjusted</td>    <th>                     </th>    <td></td>    \n",
       "</tr>\n",
       "<tr>\n",
       "  <th></th>                          <td></td>         <th>                     </th>    <td></td>    \n",
       "</tr>\n",
       "</table>\n",
       "<table class=\"simpletable\">\n",
       "<caption>Parameter Estimates</caption>\n",
       "<tr>\n",
       "    <td></td>   <th>Parameter</th> <th>Std. Err.</th> <th>T-stat</th> <th>P-value</th> <th>Lower CI</th> <th>Upper CI</th>\n",
       "</tr>\n",
       "<tr>\n",
       "  <th>exog</th>  <td>5.0304</td>    <td>0.4324</td>   <td>11.633</td> <td>0.0000</td>   <td>4.1828</td>   <td>5.8780</td> \n",
       "</tr>\n",
       "<tr>\n",
       "  <th>educ</th>  <td>0.1306</td>    <td>0.0320</td>   <td>4.0825</td> <td>0.0000</td>   <td>0.0679</td>   <td>0.1934</td> \n",
       "</tr>\n",
       "</table><br/><br/>Endogenous: educ<br/>Instruments: brthord<br/>Unadjusted Covariance (Homoskedastic)<br/>Debiased: False<br/>id: 0x7fe3fc116f40"
      ],
      "text/plain": [
       "                          IV-2SLS Estimation Summary                          \n",
       "==============================================================================\n",
       "Dep. Variable:                  lwage   R-squared:                     -0.0286\n",
       "Estimator:                    IV-2SLS   Adj. R-squared:                -0.0298\n",
       "No. Observations:                 852   F-statistic:                    16.667\n",
       "Date:                Wed, Mar 23 2022   P-value (F-stat)                0.0000\n",
       "Time:                        02:20:13   Distribution:                  chi2(1)\n",
       "Cov. Estimator:            unadjusted                                         \n",
       "                                                                              \n",
       "                             Parameter Estimates                              \n",
       "==============================================================================\n",
       "            Parameter  Std. Err.     T-stat    P-value    Lower CI    Upper CI\n",
       "------------------------------------------------------------------------------\n",
       "exog           5.0304     0.4324     11.633     0.0000      4.1828      5.8780\n",
       "educ           0.1306     0.0320     4.0825     0.0000      0.0679      0.1934\n",
       "==============================================================================\n",
       "\n",
       "Endogenous: educ\n",
       "Instruments: brthord\n",
       "Unadjusted Covariance (Homoskedastic)\n",
       "Debiased: False\n",
       "IVResults, id: 0x7fe3fc116f40"
      ]
     },
     "execution_count": 4,
     "metadata": {},
     "output_type": "execute_result"
    }
   ],
   "source": [
    "IV2SLS(wage2.lwage, np.ones((wage2.shape[0], 1)), wage2.educ, wage2.brthord).fit(cov_type=\"unadjusted\")"
   ]
  },
  {
   "cell_type": "code",
   "execution_count": 5,
   "id": "ea3ea7b5-7ffb-4ff8-bce3-c01642031bcc",
   "metadata": {},
   "outputs": [
    {
     "name": "stderr",
     "output_type": "stream",
     "text": [
      "/home/systemchalk/anaconda3/lib/python3.9/site-packages/statsmodels/tsa/tsatools.py:142: FutureWarning: In a future version of pandas all arguments of concat except for the argument 'objs' will be keyword-only\n",
      "  x = pd.concat(x[::order], 1)\n"
     ]
    },
    {
     "data": {
      "text/html": [
       "<table class=\"simpletable\">\n",
       "<caption>OLS Regression Results</caption>\n",
       "<tr>\n",
       "  <th>Dep. Variable:</th>          <td>educ</td>       <th>  R-squared:         </th> <td>   0.058</td>\n",
       "</tr>\n",
       "<tr>\n",
       "  <th>Model:</th>                   <td>OLS</td>       <th>  Adj. R-squared:    </th> <td>   0.056</td>\n",
       "</tr>\n",
       "<tr>\n",
       "  <th>Method:</th>             <td>Least Squares</td>  <th>  F-statistic:       </th> <td>   26.29</td>\n",
       "</tr>\n",
       "<tr>\n",
       "  <th>Date:</th>             <td>Wed, 23 Mar 2022</td> <th>  Prob (F-statistic):</th> <td>8.33e-12</td>\n",
       "</tr>\n",
       "<tr>\n",
       "  <th>Time:</th>                 <td>02:20:13</td>     <th>  Log-Likelihood:    </th> <td> -1854.6</td>\n",
       "</tr>\n",
       "<tr>\n",
       "  <th>No. Observations:</th>      <td>   852</td>      <th>  AIC:               </th> <td>   3715.</td>\n",
       "</tr>\n",
       "<tr>\n",
       "  <th>Df Residuals:</th>          <td>   849</td>      <th>  BIC:               </th> <td>   3729.</td>\n",
       "</tr>\n",
       "<tr>\n",
       "  <th>Df Model:</th>              <td>     2</td>      <th>                     </th>     <td> </td>   \n",
       "</tr>\n",
       "<tr>\n",
       "  <th>Covariance Type:</th>      <td>nonrobust</td>    <th>                     </th>     <td> </td>   \n",
       "</tr>\n",
       "</table>\n",
       "<table class=\"simpletable\">\n",
       "<tr>\n",
       "     <td></td>        <th>coef</th>     <th>std err</th>      <th>t</th>      <th>P>|t|</th>  <th>[0.025</th>    <th>0.975]</th>  \n",
       "</tr>\n",
       "<tr>\n",
       "  <th>const</th>   <td>   14.2965</td> <td>    0.133</td> <td>  107.260</td> <td> 0.000</td> <td>   14.035</td> <td>   14.558</td>\n",
       "</tr>\n",
       "<tr>\n",
       "  <th>sibs</th>    <td>   -0.1529</td> <td>    0.040</td> <td>   -3.834</td> <td> 0.000</td> <td>   -0.231</td> <td>   -0.075</td>\n",
       "</tr>\n",
       "<tr>\n",
       "  <th>brthord</th> <td>   -0.1527</td> <td>    0.057</td> <td>   -2.675</td> <td> 0.008</td> <td>   -0.265</td> <td>   -0.041</td>\n",
       "</tr>\n",
       "</table>\n",
       "<table class=\"simpletable\">\n",
       "<tr>\n",
       "  <th>Omnibus:</th>       <td>69.406</td> <th>  Durbin-Watson:     </th> <td>   1.795</td>\n",
       "</tr>\n",
       "<tr>\n",
       "  <th>Prob(Omnibus):</th> <td> 0.000</td> <th>  Jarque-Bera (JB):  </th> <td>  51.104</td>\n",
       "</tr>\n",
       "<tr>\n",
       "  <th>Skew:</th>          <td> 0.497</td> <th>  Prob(JB):          </th> <td>8.00e-12</td>\n",
       "</tr>\n",
       "<tr>\n",
       "  <th>Kurtosis:</th>      <td> 2.329</td> <th>  Cond. No.          </th> <td>    8.46</td>\n",
       "</tr>\n",
       "</table><br/><br/>Notes:<br/>[1] Standard Errors assume that the covariance matrix of the errors is correctly specified."
      ],
      "text/plain": [
       "<class 'statsmodels.iolib.summary.Summary'>\n",
       "\"\"\"\n",
       "                            OLS Regression Results                            \n",
       "==============================================================================\n",
       "Dep. Variable:                   educ   R-squared:                       0.058\n",
       "Model:                            OLS   Adj. R-squared:                  0.056\n",
       "Method:                 Least Squares   F-statistic:                     26.29\n",
       "Date:                Wed, 23 Mar 2022   Prob (F-statistic):           8.33e-12\n",
       "Time:                        02:20:13   Log-Likelihood:                -1854.6\n",
       "No. Observations:                 852   AIC:                             3715.\n",
       "Df Residuals:                     849   BIC:                             3729.\n",
       "Df Model:                           2                                         \n",
       "Covariance Type:            nonrobust                                         \n",
       "==============================================================================\n",
       "                 coef    std err          t      P>|t|      [0.025      0.975]\n",
       "------------------------------------------------------------------------------\n",
       "const         14.2965      0.133    107.260      0.000      14.035      14.558\n",
       "sibs          -0.1529      0.040     -3.834      0.000      -0.231      -0.075\n",
       "brthord       -0.1527      0.057     -2.675      0.008      -0.265      -0.041\n",
       "==============================================================================\n",
       "Omnibus:                       69.406   Durbin-Watson:                   1.795\n",
       "Prob(Omnibus):                  0.000   Jarque-Bera (JB):               51.104\n",
       "Skew:                           0.497   Prob(JB):                     8.00e-12\n",
       "Kurtosis:                       2.329   Cond. No.                         8.46\n",
       "==============================================================================\n",
       "\n",
       "Notes:\n",
       "[1] Standard Errors assume that the covariance matrix of the errors is correctly specified.\n",
       "\"\"\""
      ]
     },
     "execution_count": 5,
     "metadata": {},
     "output_type": "execute_result"
    }
   ],
   "source": [
    "X = sm.add_constant(wage2[[\"sibs\", \"brthord\"]])\n",
    "model = sm.OLS(wage2.educ, X, missing=\"drop\").fit()\n",
    "# We need the fitted values for part vi (first stage results)\n",
    "educ_hat = model.fittedvalues\n",
    "model.summary()"
   ]
  },
  {
   "cell_type": "code",
   "execution_count": 6,
   "id": "e1d1c30c-ec81-4719-8e44-35f7dac2aafb",
   "metadata": {},
   "outputs": [
    {
     "name": "stderr",
     "output_type": "stream",
     "text": [
      "/home/systemchalk/anaconda3/lib/python3.9/site-packages/statsmodels/tsa/tsatools.py:142: FutureWarning: In a future version of pandas all arguments of concat except for the argument 'objs' will be keyword-only\n",
      "  x = pd.concat(x[::order], 1)\n",
      "/home/systemchalk/anaconda3/lib/python3.9/site-packages/linearmodels/shared/exceptions.py:35: MissingValueWarning: \n",
      "Inputs contain missing values. Dropping rows with missing observations.\n",
      "  warnings.warn(missing_value_warning_msg, MissingValueWarning)\n"
     ]
    },
    {
     "data": {
      "text/html": [
       "<table class=\"simpletable\">\n",
       "<caption>IV-2SLS Estimation Summary</caption>\n",
       "<tr>\n",
       "  <th>Dep. Variable:</th>          <td>lwage</td>      <th>  R-squared:         </th> <td>-0.0543</td>\n",
       "</tr>\n",
       "<tr>\n",
       "  <th>Estimator:</th>             <td>IV-2SLS</td>     <th>  Adj. R-squared:    </th> <td>-0.0568</td>\n",
       "</tr>\n",
       "<tr>\n",
       "  <th>No. Observations:</th>        <td>852</td>       <th>  F-statistic:       </th> <td>21.871</td> \n",
       "</tr>\n",
       "<tr>\n",
       "  <th>Date:</th>             <td>Wed, Mar 23 2022</td> <th>  P-value (F-stat)   </th> <td>0.0000</td> \n",
       "</tr>\n",
       "<tr>\n",
       "  <th>Time:</th>                 <td>02:20:13</td>     <th>  Distribution:      </th> <td>chi2(2)</td>\n",
       "</tr>\n",
       "<tr>\n",
       "  <th>Cov. Estimator:</th>      <td>unadjusted</td>    <th>                     </th>    <td></td>    \n",
       "</tr>\n",
       "<tr>\n",
       "  <th></th>                          <td></td>         <th>                     </th>    <td></td>    \n",
       "</tr>\n",
       "</table>\n",
       "<table class=\"simpletable\">\n",
       "<caption>Parameter Estimates</caption>\n",
       "<tr>\n",
       "    <td></td>    <th>Parameter</th> <th>Std. Err.</th> <th>T-stat</th> <th>P-value</th> <th>Lower CI</th> <th>Upper CI</th>\n",
       "</tr>\n",
       "<tr>\n",
       "  <th>const</th>  <td>4.9385</td>    <td>1.0538</td>   <td>4.6863</td> <td>0.0000</td>   <td>2.8731</td>   <td>7.0040</td> \n",
       "</tr>\n",
       "<tr>\n",
       "  <th>sibs</th>   <td>0.0021</td>    <td>0.0173</td>   <td>0.1217</td> <td>0.9031</td>   <td>-0.0319</td>  <td>0.0361</td> \n",
       "</tr>\n",
       "<tr>\n",
       "  <th>educ</th>   <td>0.1370</td>    <td>0.0745</td>   <td>1.8376</td> <td>0.0661</td>   <td>-0.0091</td>  <td>0.2831</td> \n",
       "</tr>\n",
       "</table><br/><br/>Endogenous: educ<br/>Instruments: brthord<br/>Unadjusted Covariance (Homoskedastic)<br/>Debiased: False<br/>id: 0x7fe3fc151b20"
      ],
      "text/plain": [
       "                          IV-2SLS Estimation Summary                          \n",
       "==============================================================================\n",
       "Dep. Variable:                  lwage   R-squared:                     -0.0543\n",
       "Estimator:                    IV-2SLS   Adj. R-squared:                -0.0568\n",
       "No. Observations:                 852   F-statistic:                    21.871\n",
       "Date:                Wed, Mar 23 2022   P-value (F-stat)                0.0000\n",
       "Time:                        02:20:13   Distribution:                  chi2(2)\n",
       "Cov. Estimator:            unadjusted                                         \n",
       "                                                                              \n",
       "                             Parameter Estimates                              \n",
       "==============================================================================\n",
       "            Parameter  Std. Err.     T-stat    P-value    Lower CI    Upper CI\n",
       "------------------------------------------------------------------------------\n",
       "const          4.9385     1.0538     4.6863     0.0000      2.8731      7.0040\n",
       "sibs           0.0021     0.0173     0.1217     0.9031     -0.0319      0.0361\n",
       "educ           0.1370     0.0745     1.8376     0.0661     -0.0091      0.2831\n",
       "==============================================================================\n",
       "\n",
       "Endogenous: educ\n",
       "Instruments: brthord\n",
       "Unadjusted Covariance (Homoskedastic)\n",
       "Debiased: False\n",
       "IVResults, id: 0x7fe3fc151b20"
      ]
     },
     "execution_count": 6,
     "metadata": {},
     "output_type": "execute_result"
    }
   ],
   "source": [
    "X = sm.add_constant(wage2[[\"sibs\"]])\n",
    "IV2SLS(wage2.lwage, X, wage2.educ, wage2.brthord).fit(cov_type=\"unadjusted\")"
   ]
  },
  {
   "cell_type": "code",
   "execution_count": 7,
   "id": "1dd5d6d0-ceed-4116-a5eb-bffd28795036",
   "metadata": {},
   "outputs": [
    {
     "data": {
      "text/plain": [
       "-0.929481763991843"
      ]
     },
     "execution_count": 7,
     "metadata": {},
     "output_type": "execute_result"
    }
   ],
   "source": [
    "educ_hat.corr(wage2.sibs)"
   ]
  },
  {
   "cell_type": "markdown",
   "id": "f5afc527-2c8c-46d7-9793-a9136433afb3",
   "metadata": {},
   "source": [
    "C1.i When plugging in sibs in as a proxy for education, the coefficent is negative, sufficient to show it is not the same as the IV (0.122, from the text). Specifically this regression says that, without controlling for other factors, an additional sibling is associated with a little under 3% less in wages (though we shouldn't place too much emphasis on this as sibs is almost certianly correlated with other factors)\n",
    "\n",
    "C1.ii One intuitive reason why education might be negatively associated with birth order is simply the matter of resource constraints (older children may have money set aside for education while younger children may not). The regression shows a statistically significant negative relationship between education and birth order, with each new position in the rank corresponding to a little over a quarter of a year less in education.\n",
    "\n",
    "C1.iii Results reported above. When using birth order as an instrument for education, we see a larger coefficient for education.\n",
    "\n",
    "C1.iv We are assuming that $\\pi_2 \\neq 0$ (that is, brthord isn't zero). The regression allows us to reject the null hypothesis that this value is zero, and so the identification assumption holds.\n",
    "\n",
    "C1.v Results above. The standard error is considerably higher than the one estimated previously (0.0745 vs. 0.0320), enough to make it lose significance. Sibs has a small standard error, but also a small coefficient, meaning we have no evidence that it is significantly different from zero.\n",
    "\n",
    "C1.vi There is a strong negative correlation between the fitted values of educ and sibs (-0.93). Recalling from section 3 that multicollinearity is a problem for 2SLS, we have an explanation for our large standard errors."
   ]
  },
  {
   "cell_type": "code",
   "execution_count": null,
   "id": "c1f1018c-52b6-4a40-a70c-a0cfb8c65ee2",
   "metadata": {},
   "outputs": [],
   "source": []
  }
 ],
 "metadata": {
  "kernelspec": {
   "display_name": "Python 3 (ipykernel)",
   "language": "python",
   "name": "python3"
  },
  "language_info": {
   "codemirror_mode": {
    "name": "ipython",
    "version": 3
   },
   "file_extension": ".py",
   "mimetype": "text/x-python",
   "name": "python",
   "nbconvert_exporter": "python",
   "pygments_lexer": "ipython3",
   "version": "3.9.7"
  }
 },
 "nbformat": 4,
 "nbformat_minor": 5
}
