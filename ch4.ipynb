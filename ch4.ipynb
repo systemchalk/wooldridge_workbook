{
 "cells": [
  {
   "cell_type": "markdown",
   "metadata": {},
   "source": [
    "## Chapter 4"
   ]
  },
  {
   "cell_type": "markdown",
   "metadata": {},
   "source": [
    "Assumptions required for these tools to work (statistical inference). Classical linear model (CLM) for cross-sectional regression\n",
    "\n",
    "* Linear in parameters: Can be written as $y = \\beta_0 + \\beta_1 x_1 + \\beta_2 x_2 + ... + \\beta_k x_k + u$\n",
    "* Random sampling: We have a random sample of $n$ observations that follow the population model as above\n",
    "* No perfect collinearity: None of the independent variables is a constant and there is no exact linear relationship among the independent variables\n",
    "* Zero conditional mean: The error $u$ has an expected value of zero given any values of the explanatory variables, or $E(u|x_1,x_2,...,x_k) = 0$ (Unobserved factors are, on average, unrelated to the explanatory variable)\n",
    "* Homoskedasticity: The error $u$ has the same variance given any values of the explanatory variables, or $Var(u|x_1, x_2,...,x_k)=\\sigma^2$\n",
    "* Normality: The population error $u$ is independent of the explanatory variales $x_1, x_2, ... x_k$ and is normally distributed with zero mean and variance $\\sigma^2$, or $u~Normal(0,\\sigma^2)$ (this is for small samples)"
   ]
  },
  {
   "cell_type": "code",
   "execution_count": 1,
   "metadata": {},
   "outputs": [],
   "source": [
    "import pandas as pd\n",
    "import statsmodels.api as sm"
   ]
  },
  {
   "cell_type": "code",
   "execution_count": 2,
   "metadata": {},
   "outputs": [
    {
     "name": "stdout",
     "output_type": "stream",
     "text": [
      "                            OLS Regression Results                            \n",
      "==============================================================================\n",
      "Dep. Variable:                  voteA   R-squared:                       0.793\n",
      "Model:                            OLS   Adj. R-squared:                  0.789\n",
      "Method:                 Least Squares   F-statistic:                     215.2\n",
      "Date:                Sun, 24 May 2020   Prob (F-statistic):           1.76e-57\n",
      "Time:                        23:23:52   Log-Likelihood:                -596.86\n",
      "No. Observations:                 173   AIC:                             1202.\n",
      "Df Residuals:                     169   BIC:                             1214.\n",
      "Df Model:                           3                                         \n",
      "Covariance Type:            nonrobust                                         \n",
      "==============================================================================\n",
      "                 coef    std err          t      P>|t|      [0.025      0.975]\n",
      "------------------------------------------------------------------------------\n",
      "const         45.0789      3.926     11.481      0.000      37.328      52.830\n",
      "lexpendA       6.0833      0.382     15.919      0.000       5.329       6.838\n",
      "lexpendB      -6.6154      0.379    -17.463      0.000      -7.363      -5.868\n",
      "prtystrA       0.1520      0.062      2.450      0.015       0.030       0.274\n",
      "==============================================================================\n",
      "Omnibus:                        8.900   Durbin-Watson:                   1.604\n",
      "Prob(Omnibus):                  0.012   Jarque-Bera (JB):                8.832\n",
      "Skew:                           0.493   Prob(JB):                       0.0121\n",
      "Kurtosis:                       3.505   Cond. No.                         344.\n",
      "==============================================================================\n",
      "\n",
      "Warnings:\n",
      "[1] Standard Errors assume that the covariance matrix of the errors is correctly specified.\n"
     ]
    }
   ],
   "source": [
    "#Exercise C1\n",
    "vote1 = pd.read_stata(\"stata/VOTE1.DTA\")\n",
    "\n",
    "y = vote1.voteA\n",
    "X = sm.add_constant(vote1[[\"lexpendA\", \"lexpendB\", \"prtystrA\"]])\n",
    "model = sm.OLS(y,X).fit()\n",
    "model_summary = model.summary()\n",
    "print(model_summary)"
   ]
  },
  {
   "cell_type": "code",
   "execution_count": 3,
   "metadata": {},
   "outputs": [
    {
     "name": "stdout",
     "output_type": "stream",
     "text": [
      "<F test: F=array([[0.99630884]]), p=0.31963233050214857, df_denom=169, df_num=1>\n"
     ]
    }
   ],
   "source": [
    "print(model.f_test(\"lexpendA = -lexpendB\"))"
   ]
  },
  {
   "cell_type": "code",
   "execution_count": 4,
   "metadata": {},
   "outputs": [
    {
     "name": "stdout",
     "output_type": "stream",
     "text": [
      "                            OLS Regression Results                            \n",
      "==============================================================================\n",
      "Dep. Variable:                  voteA   R-squared:                       0.793\n",
      "Model:                            OLS   Adj. R-squared:                  0.789\n",
      "Method:                 Least Squares   F-statistic:                     215.2\n",
      "Date:                Sun, 24 May 2020   Prob (F-statistic):           1.76e-57\n",
      "Time:                        23:23:52   Log-Likelihood:                -596.86\n",
      "No. Observations:                 173   AIC:                             1202.\n",
      "Df Residuals:                     169   BIC:                             1214.\n",
      "Df Model:                           3                                         \n",
      "Covariance Type:            nonrobust                                         \n",
      "===============================================================================\n",
      "                  coef    std err          t      P>|t|      [0.025      0.975]\n",
      "-------------------------------------------------------------------------------\n",
      "const          45.0789      3.926     11.481      0.000      37.328      52.830\n",
      "lexpendA       -0.5321      0.533     -0.998      0.320      -1.584       0.520\n",
      "expend_diff    -6.6154      0.379    -17.463      0.000      -7.363      -5.868\n",
      "prtystrA        0.1520      0.062      2.450      0.015       0.030       0.274\n",
      "==============================================================================\n",
      "Omnibus:                        8.900   Durbin-Watson:                   1.604\n",
      "Prob(Omnibus):                  0.012   Jarque-Bera (JB):                8.832\n",
      "Skew:                           0.493   Prob(JB):                       0.0121\n",
      "Kurtosis:                       3.505   Cond. No.                         343.\n",
      "==============================================================================\n",
      "\n",
      "Warnings:\n",
      "[1] Standard Errors assume that the covariance matrix of the errors is correctly specified.\n"
     ]
    }
   ],
   "source": [
    "vote1[\"expend_diff\"] = vote1.lexpendB - vote1.lexpendA\n",
    "X = sm.add_constant(vote1[[\"lexpendA\", \"expend_diff\", \"prtystrA\"]])\n",
    "model = sm.OLS(y,X).fit()\n",
    "model_summary = model.summary()\n",
    "print(model_summary)"
   ]
  },
  {
   "cell_type": "markdown",
   "metadata": {},
   "source": [
    "C1.i The interpretation is the percent increase of an extra dollar of campaign spending for candidate A\n",
    "\n",
    "C1.ii $\\beta_1 = -\\beta_2$ or $\\beta_1 + \\beta_2 = 0$\n",
    "\n",
    "C1.iii Both coefficients are statistically significant and appear to have the same absolute value. The hypothesis is formally tested and there is not sufficicent evidence to reject.\n",
    "\n",
    "C1.iv By adding the two values and putting it into the regression the result is small with a t-statistic of -0.998, failing to reject the null hypothesis that it is different from zero."
   ]
  },
  {
   "cell_type": "code",
   "execution_count": 5,
   "metadata": {},
   "outputs": [
    {
     "name": "stdout",
     "output_type": "stream",
     "text": [
      "                            OLS Regression Results                            \n",
      "==============================================================================\n",
      "Dep. Variable:                lsalary   R-squared:                       0.842\n",
      "Model:                            OLS   Adj. R-squared:                  0.836\n",
      "Method:                 Least Squares   F-statistic:                     138.2\n",
      "Date:                Sun, 24 May 2020   Prob (F-statistic):           2.93e-50\n",
      "Time:                        23:23:52   Log-Likelihood:                 107.33\n",
      "No. Observations:                 136   AIC:                            -202.7\n",
      "Df Residuals:                     130   BIC:                            -185.2\n",
      "Df Model:                           5                                         \n",
      "Covariance Type:            nonrobust                                         \n",
      "==============================================================================\n",
      "                 coef    std err          t      P>|t|      [0.025      0.975]\n",
      "------------------------------------------------------------------------------\n",
      "const          8.3432      0.533     15.667      0.000       7.290       9.397\n",
      "LSAT           0.0047      0.004      1.171      0.244      -0.003       0.013\n",
      "GPA            0.2475      0.090      2.749      0.007       0.069       0.426\n",
      "llibvol        0.0950      0.033      2.857      0.005       0.029       0.161\n",
      "lcost          0.0376      0.032      1.170      0.244      -0.026       0.101\n",
      "rank          -0.0033      0.000     -9.541      0.000      -0.004      -0.003\n",
      "==============================================================================\n",
      "Omnibus:                        0.198   Durbin-Watson:                   1.706\n",
      "Prob(Omnibus):                  0.906   Jarque-Bera (JB):                0.365\n",
      "Skew:                           0.037   Prob(JB):                        0.833\n",
      "Kurtosis:                       2.757   Cond. No.                     9.89e+03\n",
      "==============================================================================\n",
      "\n",
      "Warnings:\n",
      "[1] Standard Errors assume that the covariance matrix of the errors is correctly specified.\n",
      "[2] The condition number is large, 9.89e+03. This might indicate that there are\n",
      "strong multicollinearity or other numerical problems.\n"
     ]
    }
   ],
   "source": [
    "#Exercise C2\n",
    "lawsch85 = pd.read_stata(\"stata/LAWSCH85.DTA\")\n",
    "lawsch85_reg = lawsch85[[\"lsalary\", \"LSAT\", \"GPA\", \"llibvol\", \"lcost\", \"rank\"]].dropna()\n",
    "\n",
    "y = lawsch85_reg.lsalary\n",
    "X = sm.add_constant(lawsch85_reg[[\"LSAT\", \"GPA\", \"llibvol\", \"lcost\", \"rank\"]])\n",
    "model = sm.OLS(y,X).fit()\n",
    "model_summary = model.summary()\n",
    "print(model_summary)"
   ]
  },
  {
   "cell_type": "code",
   "execution_count": 6,
   "metadata": {},
   "outputs": [
    {
     "name": "stdout",
     "output_type": "stream",
     "text": [
      "<F test: F=array([[9.95175399]]), p=9.518119466666694e-05, df_denom=130, df_num=2>\n"
     ]
    }
   ],
   "source": [
    "print(model.f_test(\"LSAT, GPA\"))"
   ]
  },
  {
   "cell_type": "code",
   "execution_count": 7,
   "metadata": {},
   "outputs": [
    {
     "name": "stdout",
     "output_type": "stream",
     "text": [
      "                            OLS Regression Results                            \n",
      "==============================================================================\n",
      "Dep. Variable:                lsalary   R-squared:                       0.844\n",
      "Model:                            OLS   Adj. R-squared:                  0.835\n",
      "Method:                 Least Squares   F-statistic:                     95.05\n",
      "Date:                Sun, 24 May 2020   Prob (F-statistic):           1.51e-46\n",
      "Time:                        23:23:52   Log-Likelihood:                 103.77\n",
      "No. Observations:                 131   AIC:                            -191.5\n",
      "Df Residuals:                     123   BIC:                            -168.5\n",
      "Df Model:                           7                                         \n",
      "Covariance Type:            nonrobust                                         \n",
      "==============================================================================\n",
      "                 coef    std err          t      P>|t|      [0.025      0.975]\n",
      "------------------------------------------------------------------------------\n",
      "const          8.4159      0.552     15.239      0.000       7.323       9.509\n",
      "LSAT           0.0056      0.004      1.336      0.184      -0.003       0.014\n",
      "GPA            0.2661      0.093      2.853      0.005       0.081       0.451\n",
      "llibvol        0.0552      0.040      1.365      0.175      -0.025       0.135\n",
      "lcost          0.0297      0.035      0.856      0.394      -0.039       0.098\n",
      "rank          -0.0034      0.000     -9.594      0.000      -0.004      -0.003\n",
      "clsize         0.0001      0.000      0.874      0.384      -0.000       0.000\n",
      "faculty     6.748e-05      0.000      0.169      0.866      -0.001       0.001\n",
      "==============================================================================\n",
      "Omnibus:                        0.302   Durbin-Watson:                   1.743\n",
      "Prob(Omnibus):                  0.860   Jarque-Bera (JB):                0.469\n",
      "Skew:                           0.005   Prob(JB):                        0.791\n",
      "Kurtosis:                       2.707   Cond. No.                     1.82e+04\n",
      "==============================================================================\n",
      "\n",
      "Warnings:\n",
      "[1] Standard Errors assume that the covariance matrix of the errors is correctly specified.\n",
      "[2] The condition number is large, 1.82e+04. This might indicate that there are\n",
      "strong multicollinearity or other numerical problems.\n",
      "<F test: F=array([[0.94837665]]), p=0.3901833110396482, df_denom=123, df_num=2>\n"
     ]
    }
   ],
   "source": [
    "lawsch85_reg = lawsch85[[\"lsalary\", \"LSAT\", \"GPA\", \"llibvol\", \"lcost\", \"rank\", \"clsize\", \"faculty\"]].dropna()\n",
    "\n",
    "y = lawsch85_reg.lsalary\n",
    "X = sm.add_constant(lawsch85_reg[[\"LSAT\", \"GPA\", \"llibvol\", \"lcost\", \"rank\", \"clsize\", \"faculty\"]])\n",
    "model = sm.OLS(y,X).fit()\n",
    "model_summary = model.summary()\n",
    "print(model_summary)\n",
    "print(model.f_test(\"clsize, faculty\"))"
   ]
  },
  {
   "cell_type": "markdown",
   "metadata": {},
   "source": [
    "C2.i The null is $\\beta_{rank} = 0$ This null hypothesis is soundly rejected with a t-statistic of -9.541 and the coefficient indicates that there is a small negative relationship between rank and starting salary.\n",
    "\n",
    "C2.ii Only GPA is individually significant (with a large effect), though the pair are jointly significant with a p-value of 0.03\n",
    "\n",
    "C2.iii An F-test on the joint significance of class size and faculty fails to reject the null hypothesis that they are significantly different from zero. We do not have evidence to suggest that their inclusion would improve the model.\n",
    "\n",
    "C2.iv Publications from faculty or other indications of professor quality. Location of school."
   ]
  },
  {
   "cell_type": "code",
   "execution_count": 8,
   "metadata": {},
   "outputs": [
    {
     "name": "stdout",
     "output_type": "stream",
     "text": [
      "                            OLS Regression Results                            \n",
      "==============================================================================\n",
      "Dep. Variable:                 lprice   R-squared:                       0.588\n",
      "Model:                            OLS   Adj. R-squared:                  0.579\n",
      "Method:                 Least Squares   F-statistic:                     60.73\n",
      "Date:                Sun, 24 May 2020   Prob (F-statistic):           4.17e-17\n",
      "Time:                        23:23:52   Log-Likelihood:                 19.592\n",
      "No. Observations:                  88   AIC:                            -33.18\n",
      "Df Residuals:                      85   BIC:                            -25.75\n",
      "Df Model:                           2                                         \n",
      "Covariance Type:            nonrobust                                         \n",
      "==============================================================================\n",
      "                 coef    std err          t      P>|t|      [0.025      0.975]\n",
      "------------------------------------------------------------------------------\n",
      "const          4.7660      0.097     49.112      0.000       4.573       4.959\n",
      "sqrft          0.0004   4.32e-05      8.781      0.000       0.000       0.000\n",
      "bdrms          0.0289      0.030      0.974      0.333      -0.030       0.088\n",
      "==============================================================================\n",
      "Omnibus:                       11.244   Durbin-Watson:                   1.807\n",
      "Prob(Omnibus):                  0.004   Jarque-Bera (JB):               24.634\n",
      "Skew:                          -0.332   Prob(JB):                     4.47e-06\n",
      "Kurtosis:                       5.506   Cond. No.                     9.85e+03\n",
      "==============================================================================\n",
      "\n",
      "Warnings:\n",
      "[1] Standard Errors assume that the covariance matrix of the errors is correctly specified.\n",
      "[2] The condition number is large, 9.85e+03. This might indicate that there are\n",
      "strong multicollinearity or other numerical problems.\n"
     ]
    }
   ],
   "source": [
    "#Exercise C3\n",
    "hprice1 = pd.read_stata(\"stata/hprice1.dta\")\n",
    "\n",
    "y = hprice1.lprice\n",
    "X = sm.add_constant(hprice1[[\"sqrft\", \"bdrms\"]])\n",
    "\n",
    "model = sm.OLS(y, X).fit()\n",
    "model_summary = model.summary()\n",
    "print(model_summary)"
   ]
  },
  {
   "cell_type": "code",
   "execution_count": 9,
   "metadata": {},
   "outputs": [
    {
     "name": "stdout",
     "output_type": "stream",
     "text": [
      "                            OLS Regression Results                            \n",
      "==============================================================================\n",
      "Dep. Variable:                 lprice   R-squared:                       0.588\n",
      "Model:                            OLS   Adj. R-squared:                  0.579\n",
      "Method:                 Least Squares   F-statistic:                     60.73\n",
      "Date:                Sun, 24 May 2020   Prob (F-statistic):           4.17e-17\n",
      "Time:                        23:23:52   Log-Likelihood:                 19.592\n",
      "No. Observations:                  88   AIC:                            -33.18\n",
      "Df Residuals:                      85   BIC:                            -25.75\n",
      "Df Model:                           2                                         \n",
      "Covariance Type:            nonrobust                                         \n",
      "==============================================================================\n",
      "                 coef    std err          t      P>|t|      [0.025      0.975]\n",
      "------------------------------------------------------------------------------\n",
      "const          4.7660      0.097     49.112      0.000       4.573       4.959\n",
      "modB1          0.0004   4.32e-05      8.781      0.000       0.000       0.000\n",
      "bdrms          0.0858      0.027      3.205      0.002       0.033       0.139\n",
      "==============================================================================\n",
      "Omnibus:                       11.244   Durbin-Watson:                   1.807\n",
      "Prob(Omnibus):                  0.004   Jarque-Bera (JB):               24.634\n",
      "Skew:                          -0.332   Prob(JB):                     4.47e-06\n",
      "Kurtosis:                       5.506   Cond. No.                     7.40e+03\n",
      "==============================================================================\n",
      "\n",
      "Warnings:\n",
      "[1] Standard Errors assume that the covariance matrix of the errors is correctly specified.\n",
      "[2] The condition number is large, 7.4e+03. This might indicate that there are\n",
      "strong multicollinearity or other numerical problems.\n"
     ]
    }
   ],
   "source": [
    "hprice1[\"modB1\"] = hprice1.sqrft - (150 * hprice1.bdrms)\n",
    "X_a = sm.add_constant(hprice1[[\"modB1\", \"bdrms\"]])\n",
    "\n",
    "model = sm.OLS(y, X_a).fit()\n",
    "model_summary = model.summary()\n",
    "print(model_summary)"
   ]
  },
  {
   "cell_type": "code",
   "execution_count": 10,
   "metadata": {},
   "outputs": [
    {
     "name": "stdout",
     "output_type": "stream",
     "text": [
      "(0.030660261764766737, 0.140942421648557)\n"
     ]
    }
   ],
   "source": [
    "conf_inv = (model.params[2] - (2.06 * model.bse[2]), model.params[2] + (2.06 * model.bse[2]))\n",
    "print(conf_inv)"
   ]
  },
  {
   "cell_type": "markdown",
   "metadata": {},
   "source": [
    "C3.iii [0.0306, 0.1409]"
   ]
  },
  {
   "cell_type": "code",
   "execution_count": 11,
   "metadata": {},
   "outputs": [
    {
     "name": "stdout",
     "output_type": "stream",
     "text": [
      "                            OLS Regression Results                            \n",
      "==============================================================================\n",
      "Dep. Variable:                  bwght   R-squared:                       0.035\n",
      "Model:                            OLS   Adj. R-squared:                  0.033\n",
      "Method:                 Least Squares   F-statistic:                     16.63\n",
      "Date:                Sun, 24 May 2020   Prob (F-statistic):           1.28e-10\n",
      "Time:                        23:23:52   Log-Likelihood:                -6126.8\n",
      "No. Observations:                1388   AIC:                         1.226e+04\n",
      "Df Residuals:                    1384   BIC:                         1.228e+04\n",
      "Df Model:                           3                                         \n",
      "Covariance Type:            nonrobust                                         \n",
      "==============================================================================\n",
      "                 coef    std err          t      P>|t|      [0.025      0.975]\n",
      "------------------------------------------------------------------------------\n",
      "const        114.2143      1.469     77.734      0.000     111.332     117.097\n",
      "cigs          -0.4772      0.092     -5.214      0.000      -0.657      -0.298\n",
      "parity         1.6164      0.604      2.676      0.008       0.432       2.801\n",
      "faminc         0.0979      0.029      3.355      0.001       0.041       0.155\n",
      "==============================================================================\n",
      "Omnibus:                      118.381   Durbin-Watson:                   1.922\n",
      "Prob(Omnibus):                  0.000   Jarque-Bera (JB):              638.175\n",
      "Skew:                          -0.156   Prob(JB):                    2.64e-139\n",
      "Kurtosis:                       6.307   Cond. No.                         98.8\n",
      "==============================================================================\n",
      "\n",
      "Warnings:\n",
      "[1] Standard Errors assume that the covariance matrix of the errors is correctly specified.\n"
     ]
    }
   ],
   "source": [
    "#Exercise C4\n",
    "bwght = pd.read_stata(\"stata/BWGHT.DTA\")\n",
    "bwght_reduced = bwght[[\"bwght\", \"cigs\", \"parity\", \"faminc\"]]\n",
    "\n",
    "y = bwght_reduced.bwght\n",
    "X = sm.add_constant(bwght_reduced[[\"cigs\", \"parity\", \"faminc\"]])\n",
    "\n",
    "model = sm.OLS(y, X).fit()\n",
    "model_summary = model.summary()\n",
    "print(model_summary)"
   ]
  },
  {
   "cell_type": "code",
   "execution_count": 12,
   "metadata": {},
   "outputs": [
    {
     "data": {
      "text/plain": [
       "2.280505565380211"
      ]
     },
     "execution_count": 12,
     "metadata": {},
     "output_type": "execute_result"
    }
   ],
   "source": [
    "((0.0387 - 0.035) / (1 - 0.0387)) * (1185/2)"
   ]
  },
  {
   "cell_type": "markdown",
   "metadata": {},
   "source": [
    "C4 The r-squared for all observations is 0.035 compared to the restricted r-squared of 0.0364. This would reject the null and determine motheduc and fatheduc are jointly significant."
   ]
  },
  {
   "cell_type": "code",
   "execution_count": 13,
   "metadata": {},
   "outputs": [
    {
     "name": "stdout",
     "output_type": "stream",
     "text": [
      "                            OLS Regression Results                            \n",
      "==============================================================================\n",
      "Dep. Variable:                lsalary   R-squared:                       0.625\n",
      "Model:                            OLS   Adj. R-squared:                  0.621\n",
      "Method:                 Least Squares   F-statistic:                     145.2\n",
      "Date:                Sun, 24 May 2020   Prob (F-statistic):           6.98e-73\n",
      "Time:                        23:23:53   Log-Likelihood:                -386.25\n",
      "No. Observations:                 353   AIC:                             782.5\n",
      "Df Residuals:                     348   BIC:                             801.8\n",
      "Df Model:                           4                                         \n",
      "Covariance Type:            nonrobust                                         \n",
      "==============================================================================\n",
      "                 coef    std err          t      P>|t|      [0.025      0.975]\n",
      "------------------------------------------------------------------------------\n",
      "const         11.0209      0.266     41.476      0.000      10.498      11.544\n",
      "years          0.0677      0.012      5.592      0.000       0.044       0.092\n",
      "gamesyr        0.0158      0.002     10.079      0.000       0.013       0.019\n",
      "bavg           0.0014      0.001      1.331      0.184      -0.001       0.004\n",
      "hrunsyr        0.0359      0.007      4.964      0.000       0.022       0.050\n",
      "==============================================================================\n",
      "Omnibus:                        7.369   Durbin-Watson:                   1.244\n",
      "Prob(Omnibus):                  0.025   Jarque-Bera (JB):               11.240\n",
      "Skew:                          -0.085   Prob(JB):                      0.00362\n",
      "Kurtosis:                       3.858   Cond. No.                     1.90e+03\n",
      "==============================================================================\n",
      "\n",
      "Warnings:\n",
      "[1] Standard Errors assume that the covariance matrix of the errors is correctly specified.\n",
      "[2] The condition number is large, 1.9e+03. This might indicate that there are\n",
      "strong multicollinearity or other numerical problems.\n"
     ]
    }
   ],
   "source": [
    "#Exercise C5\n",
    "mlb1 = pd.read_stata(\"stata/MLB1.DTA\")\n",
    "\n",
    "y = mlb1.lsalary\n",
    "X = sm.add_constant(mlb1[[\"years\", \"gamesyr\", \"bavg\", \"hrunsyr\"]])\n",
    "\n",
    "model = sm.OLS(y, X).fit()\n",
    "model_summary = model.summary()\n",
    "print(model_summary)"
   ]
  },
  {
   "cell_type": "code",
   "execution_count": 14,
   "metadata": {},
   "outputs": [
    {
     "name": "stdout",
     "output_type": "stream",
     "text": [
      "                            OLS Regression Results                            \n",
      "==============================================================================\n",
      "Dep. Variable:                lsalary   R-squared:                       0.639\n",
      "Model:                            OLS   Adj. R-squared:                  0.632\n",
      "Method:                 Least Squares   F-statistic:                     87.25\n",
      "Date:                Sun, 24 May 2020   Prob (F-statistic):           1.84e-72\n",
      "Time:                        23:23:53   Log-Likelihood:                -379.71\n",
      "No. Observations:                 353   AIC:                             775.4\n",
      "Df Residuals:                     345   BIC:                             806.3\n",
      "Df Model:                           7                                         \n",
      "Covariance Type:            nonrobust                                         \n",
      "==============================================================================\n",
      "                 coef    std err          t      P>|t|      [0.025      0.975]\n",
      "------------------------------------------------------------------------------\n",
      "const         10.4083      2.003      5.196      0.000       6.468      14.348\n",
      "years          0.0700      0.012      5.844      0.000       0.046       0.094\n",
      "gamesyr        0.0079      0.003      2.950      0.003       0.003       0.013\n",
      "bavg           0.0005      0.001      0.480      0.632      -0.002       0.003\n",
      "hrunsyr        0.0232      0.009      2.687      0.008       0.006       0.040\n",
      "runsyr         0.0174      0.005      3.434      0.001       0.007       0.027\n",
      "fldperc        0.0010      0.002      0.516      0.606      -0.003       0.005\n",
      "sbasesyr      -0.0064      0.005     -1.238      0.216      -0.017       0.004\n",
      "==============================================================================\n",
      "Omnibus:                        1.205   Durbin-Watson:                   1.287\n",
      "Prob(Omnibus):                  0.548   Jarque-Bera (JB):                0.956\n",
      "Skew:                           0.090   Prob(JB):                        0.620\n",
      "Kurtosis:                       3.180   Cond. No.                     5.33e+04\n",
      "==============================================================================\n",
      "\n",
      "Warnings:\n",
      "[1] Standard Errors assume that the covariance matrix of the errors is correctly specified.\n",
      "[2] The condition number is large, 5.33e+04. This might indicate that there are\n",
      "strong multicollinearity or other numerical problems.\n"
     ]
    }
   ],
   "source": [
    "y = mlb1.lsalary\n",
    "X = sm.add_constant(mlb1[[\"years\", \"gamesyr\", \"bavg\", \"hrunsyr\", \"runsyr\", \"fldperc\", \"sbasesyr\"]])\n",
    "\n",
    "model = sm.OLS(y, X).fit()\n",
    "model_summary = model.summary()\n",
    "print(model_summary)"
   ]
  },
  {
   "cell_type": "code",
   "execution_count": 15,
   "metadata": {},
   "outputs": [
    {
     "data": {
      "text/plain": [
       "<class 'statsmodels.stats.contrast.ContrastResults'>\n",
       "<F test: F=array([[0.68500393]]), p=0.5617089404843013, df_denom=345, df_num=3>"
      ]
     },
     "execution_count": 15,
     "metadata": {},
     "output_type": "execute_result"
    }
   ],
   "source": [
    "model.f_test(\"(bavg = 0), (fldperc = 0), (sbasesyr = 0)\")"
   ]
  },
  {
   "cell_type": "markdown",
   "metadata": {},
   "source": [
    "C5.i hrunsyr becomes statistically significant and the size of the coefficient almost doubles\n",
    "\n",
    "C5.ii runsyr is (individually) statistically significant\n",
    "\n",
    "C5.iii We fail to reject the null hypothesis that the three coefficients are zero (jointly insignificant)"
   ]
  },
  {
   "cell_type": "code",
   "execution_count": 16,
   "metadata": {},
   "outputs": [
    {
     "name": "stdout",
     "output_type": "stream",
     "text": [
      "                            OLS Regression Results                            \n",
      "==============================================================================\n",
      "Dep. Variable:                  lwage   R-squared:                       0.155\n",
      "Model:                            OLS   Adj. R-squared:                  0.152\n",
      "Method:                 Least Squares   F-statistic:                     56.97\n",
      "Date:                Sun, 24 May 2020   Prob (F-statistic):           8.12e-34\n",
      "Time:                        23:23:53   Log-Likelihood:                -438.84\n",
      "No. Observations:                 935   AIC:                             885.7\n",
      "Df Residuals:                     931   BIC:                             905.0\n",
      "Df Model:                           3                                         \n",
      "Covariance Type:            nonrobust                                         \n",
      "==============================================================================\n",
      "                 coef    std err          t      P>|t|      [0.025      0.975]\n",
      "------------------------------------------------------------------------------\n",
      "const          5.4967      0.111     49.731      0.000       5.280       5.714\n",
      "educ           0.0749      0.007     11.495      0.000       0.062       0.088\n",
      "exper          0.0153      0.003      4.549      0.000       0.009       0.022\n",
      "tenure         0.0134      0.003      5.170      0.000       0.008       0.018\n",
      "==============================================================================\n",
      "Omnibus:                       20.917   Durbin-Watson:                   1.769\n",
      "Prob(Omnibus):                  0.000   Jarque-Bera (JB):               30.558\n",
      "Skew:                          -0.214   Prob(JB):                     2.31e-07\n",
      "Kurtosis:                       3.775   Cond. No.                         170.\n",
      "==============================================================================\n",
      "\n",
      "Warnings:\n",
      "[1] Standard Errors assume that the covariance matrix of the errors is correctly specified.\n"
     ]
    }
   ],
   "source": [
    "#Exercise C6\n",
    "wage2 = pd.read_stata(\"stata/WAGE2.DTA\")\n",
    "\n",
    "y = wage2.lwage\n",
    "X = sm.add_constant(wage2[[\"educ\", \"exper\", \"tenure\"]])\n",
    "\n",
    "model = sm.OLS(y, X).fit()\n",
    "model_summary = model.summary()\n",
    "print(model_summary)"
   ]
  },
  {
   "cell_type": "code",
   "execution_count": 17,
   "metadata": {},
   "outputs": [
    {
     "data": {
      "text/plain": [
       "<class 'statsmodels.stats.contrast.ContrastResults'>\n",
       "<F test: F=array([[0.16963719]]), p=0.6805292607474092, df_denom=931, df_num=1>"
      ]
     },
     "execution_count": 17,
     "metadata": {},
     "output_type": "execute_result"
    }
   ],
   "source": [
    "model.f_test(\"exper = tenure\")"
   ]
  },
  {
   "cell_type": "markdown",
   "metadata": {},
   "source": [
    "C6.i The null hypothesis is $\\beta_2 = \\beta_3$ or $\\beta_2 - \\beta_3 = 0$\n",
    "\n",
    "C6.ii The F-test has a p-value of 0.68. We fail to reject the null hypothesis that general workforce experience is different from tenure"
   ]
  },
  {
   "cell_type": "code",
   "execution_count": 18,
   "metadata": {},
   "outputs": [
    {
     "name": "stdout",
     "output_type": "stream",
     "text": [
      "0\n",
      "99\n",
      "56.15703090344522\n"
     ]
    }
   ],
   "source": [
    "#Exercise C7\n",
    "twoyear = pd.read_stata(\"stata/twoyear.dta\")\n",
    "\n",
    "print(twoyear.phsrank.min())\n",
    "print(twoyear.phsrank.max())\n",
    "print(twoyear.phsrank.mean())"
   ]
  },
  {
   "cell_type": "code",
   "execution_count": 19,
   "metadata": {},
   "outputs": [
    {
     "name": "stdout",
     "output_type": "stream",
     "text": [
      "                            OLS Regression Results                            \n",
      "==============================================================================\n",
      "Dep. Variable:                  lwage   R-squared:                       0.223\n",
      "Model:                            OLS   Adj. R-squared:                  0.222\n",
      "Method:                 Least Squares   F-statistic:                     483.8\n",
      "Date:                Sun, 24 May 2020   Prob (F-statistic):               0.00\n",
      "Time:                        23:23:53   Log-Likelihood:                -3887.9\n",
      "No. Observations:                6763   AIC:                             7786.\n",
      "Df Residuals:                    6758   BIC:                             7820.\n",
      "Df Model:                           4                                         \n",
      "Covariance Type:            nonrobust                                         \n",
      "==============================================================================\n",
      "                 coef    std err          t      P>|t|      [0.025      0.975]\n",
      "------------------------------------------------------------------------------\n",
      "const          1.4587      0.024     61.756      0.000       1.412       1.505\n",
      "jc            -0.0093      0.007     -1.336      0.182      -0.023       0.004\n",
      "totcoll        0.0755      0.003     29.496      0.000       0.070       0.080\n",
      "exper          0.0049      0.000     31.360      0.000       0.005       0.005\n",
      "phsrank        0.0003      0.000      1.269      0.204      -0.000       0.001\n",
      "==============================================================================\n",
      "Omnibus:                       81.239   Durbin-Watson:                   1.968\n",
      "Prob(Omnibus):                  0.000   Jarque-Bera (JB):              141.952\n",
      "Skew:                          -0.035   Prob(JB):                     1.50e-31\n",
      "Kurtosis:                       3.706   Cond. No.                         625.\n",
      "==============================================================================\n",
      "\n",
      "Warnings:\n",
      "[1] Standard Errors assume that the covariance matrix of the errors is correctly specified.\n"
     ]
    }
   ],
   "source": [
    "y = twoyear.lwage\n",
    "X = sm.add_constant(twoyear[[\"jc\", \"totcoll\", \"exper\", \"phsrank\"]])\n",
    "\n",
    "model = sm.OLS(y, X).fit()\n",
    "model_summary = model.summary()\n",
    "print(model_summary)"
   ]
  },
  {
   "cell_type": "code",
   "execution_count": 20,
   "metadata": {},
   "outputs": [
    {
     "name": "stdout",
     "output_type": "stream",
     "text": [
      "                            OLS Regression Results                            \n",
      "==============================================================================\n",
      "Dep. Variable:                  lwage   R-squared:                       0.223\n",
      "Model:                            OLS   Adj. R-squared:                  0.222\n",
      "Method:                 Least Squares   F-statistic:                     387.1\n",
      "Date:                Sun, 24 May 2020   Prob (F-statistic):               0.00\n",
      "Time:                        23:23:53   Log-Likelihood:                -3887.7\n",
      "No. Observations:                6763   AIC:                             7787.\n",
      "Df Residuals:                    6757   BIC:                             7828.\n",
      "Df Model:                           5                                         \n",
      "Covariance Type:            nonrobust                                         \n",
      "==============================================================================\n",
      "                 coef    std err          t      P>|t|      [0.025      0.975]\n",
      "------------------------------------------------------------------------------\n",
      "const          1.4522      0.026     56.750      0.000       1.402       1.502\n",
      "jc            -0.0093      0.007     -1.337      0.181      -0.023       0.004\n",
      "totcoll        0.0754      0.003     29.451      0.000       0.070       0.080\n",
      "exper          0.0049      0.000     31.365      0.000       0.005       0.005\n",
      "phsrank        0.0003      0.000      1.325      0.185      -0.000       0.001\n",
      "id          1.396e-07    2.1e-07      0.664      0.507   -2.73e-07    5.52e-07\n",
      "==============================================================================\n",
      "Omnibus:                       80.855   Durbin-Watson:                   1.969\n",
      "Prob(Omnibus):                  0.000   Jarque-Bera (JB):              141.131\n",
      "Skew:                          -0.034   Prob(JB):                     2.26e-31\n",
      "Kurtosis:                       3.704   Cond. No.                     2.33e+05\n",
      "==============================================================================\n",
      "\n",
      "Warnings:\n",
      "[1] Standard Errors assume that the covariance matrix of the errors is correctly specified.\n",
      "[2] The condition number is large, 2.33e+05. This might indicate that there are\n",
      "strong multicollinearity or other numerical problems.\n"
     ]
    }
   ],
   "source": [
    "y = twoyear.lwage\n",
    "X = sm.add_constant(twoyear[[\"jc\", \"totcoll\", \"exper\", \"phsrank\", \"id\"]])\n",
    "\n",
    "model = sm.OLS(y, X).fit()\n",
    "model_summary = model.summary()\n",
    "print(model_summary)"
   ]
  },
  {
   "cell_type": "markdown",
   "metadata": {},
   "source": [
    "C7.ii A 10 percentage point increase is worth about 0.3%. The variable is not statistically significant\n",
    "\n",
    "C7.iii phsrank does not not substantively change the conclusions on the returns to two and four year colleges. The coefficents are largely unchanged and fall within the confidence intervals. The effect of phsrank is small and neither economically nor statistically significant.\n",
    "\n",
    "C7.iv The id is effecitvely random and so we would not expect it to systematically affect wages. The two-sided p-value is 0.507"
   ]
  },
  {
   "cell_type": "code",
   "execution_count": 21,
   "metadata": {},
   "outputs": [
    {
     "name": "stdout",
     "output_type": "stream",
     "text": [
      "(2017, 11)\n",
      "                            OLS Regression Results                            \n",
      "==============================================================================\n",
      "Dep. Variable:                 nettfa   R-squared:                       0.119\n",
      "Model:                            OLS   Adj. R-squared:                  0.118\n",
      "Method:                 Least Squares   F-statistic:                     136.5\n",
      "Date:                Sun, 24 May 2020   Prob (F-statistic):           2.63e-56\n",
      "Time:                        23:23:53   Log-Likelihood:                -10524.\n",
      "No. Observations:                2017   AIC:                         2.105e+04\n",
      "Df Residuals:                    2014   BIC:                         2.107e+04\n",
      "Df Model:                           2                                         \n",
      "Covariance Type:            nonrobust                                         \n",
      "==============================================================================\n",
      "                 coef    std err          t      P>|t|      [0.025      0.975]\n",
      "------------------------------------------------------------------------------\n",
      "const        -43.0398      4.080    -10.548      0.000     -51.042     -35.038\n",
      "inc            0.7993      0.060     13.382      0.000       0.682       0.916\n",
      "age            0.8427      0.092      9.158      0.000       0.662       1.023\n",
      "==============================================================================\n",
      "Omnibus:                     3738.399   Durbin-Watson:                   1.976\n",
      "Prob(Omnibus):                  0.000   Jarque-Bera (JB):          6761967.347\n",
      "Skew:                          13.359   Prob(JB):                         0.00\n",
      "Kurtosis:                     285.393   Cond. No.                         209.\n",
      "==============================================================================\n",
      "\n",
      "Warnings:\n",
      "[1] Standard Errors assume that the covariance matrix of the errors is correctly specified.\n"
     ]
    }
   ],
   "source": [
    "#Exercise C8\n",
    "ksubs = pd.read_stata(\"stata/401ksubs.dta\")\n",
    "single = ksubs[ksubs.fsize == 1]\n",
    "print(single.shape)\n",
    "\n",
    "y = single.nettfa\n",
    "X = sm.add_constant(single[[\"inc\", \"age\"]])\n",
    "\n",
    "model = sm.OLS(y, X).fit()\n",
    "model_summary = model.summary()\n",
    "print(model_summary)"
   ]
  },
  {
   "cell_type": "code",
   "execution_count": 22,
   "metadata": {},
   "outputs": [
    {
     "data": {
      "text/plain": [
       "<class 'statsmodels.stats.contrast.ContrastResults'>\n",
       "                             Test for Constraints                             \n",
       "==============================================================================\n",
       "                 coef    std err          t      P>|t|      [0.025      0.975]\n",
       "------------------------------------------------------------------------------\n",
       "c0             0.8427      0.092     -1.710      0.087       0.662       1.023\n",
       "=============================================================================="
      ]
     },
     "execution_count": 22,
     "metadata": {},
     "output_type": "execute_result"
    }
   ],
   "source": [
    "model.t_test(\"age = 1\")"
   ]
  },
  {
   "cell_type": "code",
   "execution_count": 23,
   "metadata": {},
   "outputs": [
    {
     "data": {
      "text/plain": [
       "0.04371513880356598"
      ]
     },
     "execution_count": 23,
     "metadata": {},
     "output_type": "execute_result"
    }
   ],
   "source": [
    "model.t_test(\"age = 1\").pvalue / 2"
   ]
  },
  {
   "cell_type": "code",
   "execution_count": 24,
   "metadata": {},
   "outputs": [
    {
     "name": "stdout",
     "output_type": "stream",
     "text": [
      "                            OLS Regression Results                            \n",
      "==============================================================================\n",
      "Dep. Variable:                 nettfa   R-squared:                       0.083\n",
      "Model:                            OLS   Adj. R-squared:                  0.082\n",
      "Method:                 Least Squares   F-statistic:                     181.6\n",
      "Date:                Sun, 24 May 2020   Prob (F-statistic):           1.08e-39\n",
      "Time:                        23:23:53   Log-Likelihood:                -10565.\n",
      "No. Observations:                2017   AIC:                         2.113e+04\n",
      "Df Residuals:                    2015   BIC:                         2.115e+04\n",
      "Df Model:                           1                                         \n",
      "Covariance Type:            nonrobust                                         \n",
      "==============================================================================\n",
      "                 coef    std err          t      P>|t|      [0.025      0.975]\n",
      "------------------------------------------------------------------------------\n",
      "const        -10.5710      2.061     -5.130      0.000     -14.612      -6.530\n",
      "inc            0.8207      0.061     13.476      0.000       0.701       0.940\n",
      "==============================================================================\n",
      "Omnibus:                     3687.885   Durbin-Watson:                   1.966\n",
      "Prob(Omnibus):                  0.000   Jarque-Bera (JB):          6061860.886\n",
      "Skew:                          12.998   Prob(JB):                         0.00\n",
      "Kurtosis:                     270.308   Cond. No.                         68.7\n",
      "==============================================================================\n",
      "\n",
      "Warnings:\n",
      "[1] Standard Errors assume that the covariance matrix of the errors is correctly specified.\n"
     ]
    }
   ],
   "source": [
    "y = single.nettfa\n",
    "X = sm.add_constant(single[[\"inc\"]])\n",
    "\n",
    "model = sm.OLS(y, X).fit()\n",
    "model_summary = model.summary()\n",
    "print(model_summary)"
   ]
  },
  {
   "cell_type": "code",
   "execution_count": 25,
   "metadata": {},
   "outputs": [
    {
     "data": {
      "text/plain": [
       "0.03905864335541976"
      ]
     },
     "execution_count": 25,
     "metadata": {},
     "output_type": "execute_result"
    }
   ],
   "source": [
    "single.inc.corr(single.age)"
   ]
  },
  {
   "cell_type": "markdown",
   "metadata": {},
   "source": [
    "C8.i There are 2017 single person households\n",
    "\n",
    "C8.ii Possibly surprising that age increases after accounting for income? That said, assets probably should increase over time.\n",
    "\n",
    "C8.iii The comparison of age/income = 0 is a negative value. Babies do not start with debt\n",
    "\n",
    "C8.iv The p-value is 0.0437 for the one sided test, meaning we fail to reject the null hypothesis at the 1% level.\n",
    "\n",
    "C8.v The coefficient is not very different. This is possibly because age is uncorrelated with income."
   ]
  },
  {
   "cell_type": "code",
   "execution_count": 26,
   "metadata": {},
   "outputs": [
    {
     "name": "stdout",
     "output_type": "stream",
     "text": [
      "                            OLS Regression Results                            \n",
      "==============================================================================\n",
      "Dep. Variable:                 lpsoda   R-squared:                       0.087\n",
      "Model:                            OLS   Adj. R-squared:                  0.080\n",
      "Method:                 Least Squares   F-statistic:                     12.60\n",
      "Date:                Sun, 24 May 2020   Prob (F-statistic):           6.92e-08\n",
      "Time:                        23:23:53   Log-Likelihood:                 439.04\n",
      "No. Observations:                 401   AIC:                            -870.1\n",
      "Df Residuals:                     397   BIC:                            -854.1\n",
      "Df Model:                           3                                         \n",
      "Covariance Type:            nonrobust                                         \n",
      "==============================================================================\n",
      "                 coef    std err          t      P>|t|      [0.025      0.975]\n",
      "------------------------------------------------------------------------------\n",
      "const         -1.4633      0.294     -4.982      0.000      -2.041      -0.886\n",
      "prpblck        0.0728      0.031      2.373      0.018       0.013       0.133\n",
      "lincome        0.1370      0.027      5.119      0.000       0.084       0.190\n",
      "prppov         0.3804      0.133      2.864      0.004       0.119       0.641\n",
      "==============================================================================\n",
      "Omnibus:                       12.002   Durbin-Watson:                   1.727\n",
      "Prob(Omnibus):                  0.002   Jarque-Bera (JB):               24.056\n",
      "Skew:                          -0.014   Prob(JB):                     5.97e-06\n",
      "Kurtosis:                       4.200   Cond. No.                         834.\n",
      "==============================================================================\n",
      "\n",
      "Warnings:\n",
      "[1] Standard Errors assume that the covariance matrix of the errors is correctly specified.\n"
     ]
    }
   ],
   "source": [
    "#Exercise C9\n",
    "discrim = pd.read_stata(\"stata/discrim.dta\")\n",
    "discrim = discrim[[\"lpsoda\", \"prpblck\", \"lincome\", \"prppov\"]].dropna()\n",
    "\n",
    "y = discrim.lpsoda\n",
    "X = sm.add_constant(discrim[[\"prpblck\", \"lincome\", \"prppov\"]])\n",
    "\n",
    "model = sm.OLS(y, X).fit()\n",
    "model_summary = model.summary()\n",
    "print(model_summary)"
   ]
  },
  {
   "cell_type": "code",
   "execution_count": 27,
   "metadata": {},
   "outputs": [
    {
     "data": {
      "text/plain": [
       "-0.8402069122771414"
      ]
     },
     "execution_count": 27,
     "metadata": {},
     "output_type": "execute_result"
    }
   ],
   "source": [
    "discrim.prppov.corr(discrim.lincome)"
   ]
  },
  {
   "cell_type": "code",
   "execution_count": 28,
   "metadata": {},
   "outputs": [
    {
     "name": "stdout",
     "output_type": "stream",
     "text": [
      "                            OLS Regression Results                            \n",
      "==============================================================================\n",
      "Dep. Variable:                 lpsoda   R-squared:                       0.184\n",
      "Model:                            OLS   Adj. R-squared:                  0.176\n",
      "Method:                 Least Squares   F-statistic:                     22.31\n",
      "Date:                Sun, 24 May 2020   Prob (F-statistic):           1.24e-16\n",
      "Time:                        23:23:53   Log-Likelihood:                 461.55\n",
      "No. Observations:                 401   AIC:                            -913.1\n",
      "Df Residuals:                     396   BIC:                            -893.1\n",
      "Df Model:                           4                                         \n",
      "Covariance Type:            nonrobust                                         \n",
      "==============================================================================\n",
      "                 coef    std err          t      P>|t|      [0.025      0.975]\n",
      "------------------------------------------------------------------------------\n",
      "const         -0.8415      0.292     -2.878      0.004      -1.416      -0.267\n",
      "prpblck        0.0976      0.029      3.334      0.001       0.040       0.155\n",
      "lincome       -0.0530      0.038     -1.412      0.159      -0.127       0.021\n",
      "prppov         0.0521      0.134      0.388      0.699      -0.212       0.317\n",
      "lhseval        0.1213      0.018      6.860      0.000       0.087       0.156\n",
      "==============================================================================\n",
      "Omnibus:                       16.452   Durbin-Watson:                   1.973\n",
      "Prob(Omnibus):                  0.000   Jarque-Bera (JB):               40.077\n",
      "Skew:                          -0.016   Prob(JB):                     1.98e-09\n",
      "Kurtosis:                       4.548   Cond. No.                     1.31e+03\n",
      "==============================================================================\n",
      "\n",
      "Warnings:\n",
      "[1] Standard Errors assume that the covariance matrix of the errors is correctly specified.\n",
      "[2] The condition number is large, 1.31e+03. This might indicate that there are\n",
      "strong multicollinearity or other numerical problems.\n"
     ]
    }
   ],
   "source": [
    "discrim = pd.read_stata(\"stata/discrim.dta\")\n",
    "discrim = discrim[[\"lpsoda\", \"prpblck\", \"lincome\", \"prppov\", \"lhseval\"]].dropna()\n",
    "\n",
    "y = discrim.lpsoda\n",
    "X = sm.add_constant(discrim[[\"prpblck\", \"lincome\", \"prppov\", \"lhseval\"]])\n",
    "\n",
    "model = sm.OLS(y, X).fit()\n",
    "model_summary = model.summary()\n",
    "print(model_summary)"
   ]
  },
  {
   "cell_type": "code",
   "execution_count": 29,
   "metadata": {},
   "outputs": [
    {
     "data": {
      "text/plain": [
       "<class 'statsmodels.stats.contrast.ContrastResults'>\n",
       "<F test: F=array([[3.52268494]]), p=0.030448605108275816, df_denom=396, df_num=2>"
      ]
     },
     "execution_count": 29,
     "metadata": {},
     "output_type": "execute_result"
    }
   ],
   "source": [
    "model.f_test(\"lincome = 0, prppov = 0\")"
   ]
  },
  {
   "cell_type": "markdown",
   "metadata": {},
   "source": [
    "C9.i prpblck is statistically different from 0 at the 5% level but not at the 1% level\n",
    "\n",
    "C9.ii The correlation between log income and proportion in poverty is -0.84, highly correlated. This means multicollinearity, but each coefficient is statistically significant\n",
    "\n",
    "C9.iii A 1% increase in the median housing value translates in a 0.12% increase in the price. The p-value is 0.000 very small)\n",
    "\n",
    "C9.iv A test of joint significance has a p-value of 0.030 allowing us to say the variables are jointly significant. This likely means that too many variables are correlated.\n",
    "\n",
    "C9.v The most recent regression does not violate any assumptions of the model but is a better fit. This would be the preferable model if we were not looking for information on the other variables."
   ]
  },
  {
   "cell_type": "code",
   "execution_count": 30,
   "metadata": {},
   "outputs": [
    {
     "name": "stdout",
     "output_type": "stream",
     "text": [
      "                            OLS Regression Results                            \n",
      "==============================================================================\n",
      "Dep. Variable:                lavgsal   R-squared:                       0.015\n",
      "Model:                            OLS   Adj. R-squared:                  0.015\n",
      "Method:                 Least Squares   F-statistic:                     28.23\n",
      "Date:                Sun, 24 May 2020   Prob (F-statistic):           1.21e-07\n",
      "Time:                        23:23:54   Log-Likelihood:                 85.171\n",
      "No. Observations:                1848   AIC:                            -166.3\n",
      "Df Residuals:                    1846   BIC:                            -155.3\n",
      "Df Model:                           1                                         \n",
      "Covariance Type:            nonrobust                                         \n",
      "==============================================================================\n",
      "                 coef    std err          t      P>|t|      [0.025      0.975]\n",
      "------------------------------------------------------------------------------\n",
      "const         10.7479      0.052    208.042      0.000      10.647      10.849\n",
      "bs            -0.7951      0.150     -5.313      0.000      -1.089      -0.502\n",
      "==============================================================================\n",
      "Omnibus:                       47.654   Durbin-Watson:                   0.932\n",
      "Prob(Omnibus):                  0.000   Jarque-Bera (JB):               76.684\n",
      "Skew:                          -0.231   Prob(JB):                     2.23e-17\n",
      "Kurtosis:                       3.884   Cond. No.                         31.1\n",
      "==============================================================================\n",
      "\n",
      "Warnings:\n",
      "[1] Standard Errors assume that the covariance matrix of the errors is correctly specified.\n"
     ]
    }
   ],
   "source": [
    "#Exercise C10\n",
    "elem94_95 = pd.read_stata(\"stata/elem94_95.dta\")\n",
    "\n",
    "y = elem94_95.lavgsal\n",
    "X = sm.add_constant(elem94_95[[\"bs\"]])\n",
    "\n",
    "model = sm.OLS(y, X).fit()\n",
    "model_summary = model.summary()\n",
    "print(model_summary)"
   ]
  },
  {
   "cell_type": "code",
   "execution_count": 31,
   "metadata": {},
   "outputs": [
    {
     "data": {
      "text/plain": [
       "<class 'statsmodels.stats.contrast.ContrastResults'>\n",
       "                             Test for Constraints                             \n",
       "==============================================================================\n",
       "                 coef    std err          t      P>|t|      [0.025      0.975]\n",
       "------------------------------------------------------------------------------\n",
       "c0            -0.7951      0.150      1.369      0.171      -1.089      -0.502\n",
       "=============================================================================="
      ]
     },
     "execution_count": 31,
     "metadata": {},
     "output_type": "execute_result"
    }
   ],
   "source": [
    "model.t_test(\"bs = -1\")"
   ]
  },
  {
   "cell_type": "code",
   "execution_count": 32,
   "metadata": {},
   "outputs": [
    {
     "name": "stdout",
     "output_type": "stream",
     "text": [
      "                            OLS Regression Results                            \n",
      "==============================================================================\n",
      "Dep. Variable:                lavgsal   R-squared:                       0.482\n",
      "Model:                            OLS   Adj. R-squared:                  0.481\n",
      "Method:                 Least Squares   F-statistic:                     572.0\n",
      "Date:                Sun, 24 May 2020   Prob (F-statistic):          9.17e-263\n",
      "Time:                        23:23:54   Log-Likelihood:                 679.00\n",
      "No. Observations:                1848   AIC:                            -1350.\n",
      "Df Residuals:                    1844   BIC:                            -1328.\n",
      "Df Model:                           3                                         \n",
      "Covariance Type:            nonrobust                                         \n",
      "==============================================================================\n",
      "                 coef    std err          t      P>|t|      [0.025      0.975]\n",
      "------------------------------------------------------------------------------\n",
      "const         13.9530      0.107    130.118      0.000      13.743      14.163\n",
      "bs            -0.6051      0.109     -5.564      0.000      -0.818      -0.392\n",
      "lenrol        -0.0316      0.008     -3.726      0.000      -0.048      -0.015\n",
      "lstaff        -0.7137      0.018    -40.119      0.000      -0.749      -0.679\n",
      "==============================================================================\n",
      "Omnibus:                       43.688   Durbin-Watson:                   0.894\n",
      "Prob(Omnibus):                  0.000   Jarque-Bera (JB):               94.137\n",
      "Skew:                           0.061   Prob(JB):                     3.62e-21\n",
      "Kurtosis:                       4.099   Cond. No.                         235.\n",
      "==============================================================================\n",
      "\n",
      "Warnings:\n",
      "[1] Standard Errors assume that the covariance matrix of the errors is correctly specified.\n"
     ]
    }
   ],
   "source": [
    "X = sm.add_constant(elem94_95[[\"bs\", \"lenrol\", \"lstaff\"]])\n",
    "\n",
    "model = sm.OLS(y, X).fit()\n",
    "model_summary = model.summary()\n",
    "print(model_summary)"
   ]
  },
  {
   "cell_type": "code",
   "execution_count": 33,
   "metadata": {},
   "outputs": [
    {
     "name": "stdout",
     "output_type": "stream",
     "text": [
      "                            OLS Regression Results                            \n",
      "==============================================================================\n",
      "Dep. Variable:                lavgsal   R-squared:                       0.488\n",
      "Model:                            OLS   Adj. R-squared:                  0.487\n",
      "Method:                 Least Squares   F-statistic:                     439.4\n",
      "Date:                Sun, 24 May 2020   Prob (F-statistic):          4.22e-266\n",
      "Time:                        23:23:54   Log-Likelihood:                 689.98\n",
      "No. Observations:                1848   AIC:                            -1370.\n",
      "Df Residuals:                    1843   BIC:                            -1342.\n",
      "Df Model:                           4                                         \n",
      "Covariance Type:            nonrobust                                         \n",
      "==============================================================================\n",
      "                 coef    std err          t      P>|t|      [0.025      0.975]\n",
      "------------------------------------------------------------------------------\n",
      "const         13.8315      0.110    126.055      0.000      13.616      14.047\n",
      "bs            -0.5161      0.110     -4.702      0.000      -0.731      -0.301\n",
      "lenrol        -0.0284      0.008     -3.360      0.001      -0.045      -0.012\n",
      "lstaff        -0.6906      0.018    -37.615      0.000      -0.727      -0.655\n",
      "lunch         -0.0008      0.000     -4.695      0.000      -0.001      -0.000\n",
      "==============================================================================\n",
      "Omnibus:                       46.324   Durbin-Watson:                   0.921\n",
      "Prob(Omnibus):                  0.000   Jarque-Bera (JB):              105.674\n",
      "Skew:                           0.009   Prob(JB):                     1.13e-23\n",
      "Kurtosis:                       4.171   Cond. No.                     1.46e+03\n",
      "==============================================================================\n",
      "\n",
      "Warnings:\n",
      "[1] Standard Errors assume that the covariance matrix of the errors is correctly specified.\n",
      "[2] The condition number is large, 1.46e+03. This might indicate that there are\n",
      "strong multicollinearity or other numerical problems.\n"
     ]
    }
   ],
   "source": [
    "X = sm.add_constant(elem94_95[[\"bs\", \"lenrol\", \"lstaff\", \"lunch\"]])\n",
    "\n",
    "model = sm.OLS(y, X).fit()\n",
    "model_summary = model.summary()\n",
    "print(model_summary)"
   ]
  },
  {
   "cell_type": "markdown",
   "metadata": {},
   "source": [
    "C10.i The slope is statistically different from 0 but not statistically different from 1 (at the 5% level)\n",
    "\n",
    "C10.ii The coefficient becomes smaller, as with table 4.1 (and is now statistically different from 1)\n",
    "\n",
    "C10.iii lenrol/lstaff removed some of the uncertainty with regards to bs by being added\n",
    "\n",
    "C10.iv lstaff is the largest negative value and statistically significant. It likely represents less money to spread among staff when everything is held equal\n",
    "\n",
    "C10.v The effect is essentially 0. They are not being compensated\n",
    "\n",
    "C10.vi The patterns are broadly consistent"
   ]
  },
  {
   "cell_type": "code",
   "execution_count": 34,
   "metadata": {},
   "outputs": [
    {
     "name": "stdout",
     "output_type": "stream",
     "text": [
      "                            OLS Regression Results                            \n",
      "==============================================================================\n",
      "Dep. Variable:                   educ   R-squared:                       0.444\n",
      "Model:                            OLS   Adj. R-squared:                  0.443\n",
      "Method:                 Least Squares   F-statistic:                     244.9\n",
      "Date:                Sun, 24 May 2020   Prob (F-statistic):          1.34e-154\n",
      "Time:                        23:23:54   Log-Likelihood:                -2436.6\n",
      "No. Observations:                1230   AIC:                             4883.\n",
      "Df Residuals:                    1225   BIC:                             4909.\n",
      "Df Model:                           4                                         \n",
      "Covariance Type:            nonrobust                                         \n",
      "==============================================================================\n",
      "                 coef    std err          t      P>|t|      [0.025      0.975]\n",
      "------------------------------------------------------------------------------\n",
      "const          8.2402      0.287     28.671      0.000       7.676       8.804\n",
      "motheduc       0.1901      0.028      6.767      0.000       0.135       0.245\n",
      "fatheduc       0.1089      0.020      5.558      0.000       0.070       0.147\n",
      "abil           0.4015      0.030     13.255      0.000       0.342       0.461\n",
      "abil2          0.0506      0.008      6.093      0.000       0.034       0.067\n",
      "==============================================================================\n",
      "Omnibus:                       45.933   Durbin-Watson:                   1.820\n",
      "Prob(Omnibus):                  0.000   Jarque-Bera (JB):               56.769\n",
      "Skew:                           0.404   Prob(JB):                     4.71e-13\n",
      "Kurtosis:                       3.674   Cond. No.                         115.\n",
      "==============================================================================\n",
      "\n",
      "Warnings:\n",
      "[1] Standard Errors assume that the covariance matrix of the errors is correctly specified.\n"
     ]
    }
   ],
   "source": [
    "#Exercise C11\n",
    "htv = pd.read_stata(\"stata/HTV.DTA\")\n",
    "htv[\"abil2\"] = htv.abil ** 2\n",
    "\n",
    "y = htv.educ\n",
    "X = sm.add_constant(htv[[\"motheduc\", \"fatheduc\", \"abil\", \"abil2\"]])\n",
    "\n",
    "model = sm.OLS(y, X).fit()\n",
    "model_summary = model.summary()\n",
    "print(model_summary)"
   ]
  },
  {
   "cell_type": "code",
   "execution_count": 35,
   "metadata": {},
   "outputs": [
    {
     "data": {
      "text/plain": [
       "<class 'statsmodels.stats.contrast.ContrastResults'>\n",
       "                             Test for Constraints                             \n",
       "==============================================================================\n",
       "                 coef    std err          t      P>|t|      [0.025      0.975]\n",
       "------------------------------------------------------------------------------\n",
       "c0             0.0812      0.042      1.936      0.053      -0.001       0.163\n",
       "=============================================================================="
      ]
     },
     "execution_count": 35,
     "metadata": {},
     "output_type": "execute_result"
    }
   ],
   "source": [
    "model.t_test(\"motheduc = fatheduc\")"
   ]
  },
  {
   "cell_type": "code",
   "execution_count": 36,
   "metadata": {},
   "outputs": [
    {
     "name": "stdout",
     "output_type": "stream",
     "text": [
      "                            OLS Regression Results                            \n",
      "==============================================================================\n",
      "Dep. Variable:                   educ   R-squared:                       0.445\n",
      "Model:                            OLS   Adj. R-squared:                  0.442\n",
      "Method:                 Least Squares   F-statistic:                     163.5\n",
      "Date:                Sun, 24 May 2020   Prob (F-statistic):          1.43e-152\n",
      "Time:                        23:23:54   Log-Likelihood:                -2435.8\n",
      "No. Observations:                1230   AIC:                             4886.\n",
      "Df Residuals:                    1223   BIC:                             4921.\n",
      "Df Model:                           6                                         \n",
      "Covariance Type:            nonrobust                                         \n",
      "==============================================================================\n",
      "                 coef    std err          t      P>|t|      [0.025      0.975]\n",
      "------------------------------------------------------------------------------\n",
      "const          8.0819      0.313     25.840      0.000       7.468       8.695\n",
      "motheduc       0.1929      0.028      6.845      0.000       0.138       0.248\n",
      "fatheduc       0.1084      0.020      5.528      0.000       0.070       0.147\n",
      "abil           0.3990      0.030     13.148      0.000       0.340       0.459\n",
      "abil2          0.0506      0.008      6.082      0.000       0.034       0.067\n",
      "tuit17         0.0158      0.063      0.252      0.801      -0.107       0.138\n",
      "tuit18      6.033e-05      0.064      0.001      0.999      -0.125       0.125\n",
      "==============================================================================\n",
      "Omnibus:                       45.849   Durbin-Watson:                   1.825\n",
      "Prob(Omnibus):                  0.000   Jarque-Bera (JB):               56.347\n",
      "Skew:                           0.406   Prob(JB):                     5.81e-13\n",
      "Kurtosis:                       3.663   Cond. No.                         146.\n",
      "==============================================================================\n",
      "\n",
      "Warnings:\n",
      "[1] Standard Errors assume that the covariance matrix of the errors is correctly specified.\n"
     ]
    }
   ],
   "source": [
    "X = sm.add_constant(htv[[\"motheduc\", \"fatheduc\", \"abil\", \"abil2\", \"tuit17\", \"tuit18\"]])\n",
    "\n",
    "model = sm.OLS(y, X).fit()\n",
    "model_summary = model.summary()\n",
    "print(model_summary)"
   ]
  },
  {
   "cell_type": "code",
   "execution_count": 37,
   "metadata": {},
   "outputs": [
    {
     "data": {
      "text/plain": [
       "<class 'statsmodels.stats.contrast.ContrastResults'>\n",
       "<F test: F=array([[0.83932887]]), p=0.43224904059225544, df_denom=1.22e+03, df_num=2>"
      ]
     },
     "execution_count": 37,
     "metadata": {},
     "output_type": "execute_result"
    }
   ],
   "source": [
    "model.f_test(\"tuit17, tuit18\")"
   ]
  },
  {
   "cell_type": "code",
   "execution_count": 38,
   "metadata": {},
   "outputs": [
    {
     "data": {
      "text/plain": [
       "0.9808332601038466"
      ]
     },
     "execution_count": 38,
     "metadata": {},
     "output_type": "execute_result"
    }
   ],
   "source": [
    "htv.tuit17.corr(htv.tuit18)"
   ]
  },
  {
   "cell_type": "code",
   "execution_count": 39,
   "metadata": {},
   "outputs": [],
   "source": [
    "htv[\"tuit_means\"] = (htv.tuit17 + htv.tuit18).mean() # This cell does not produce an output because it is an assignment"
   ]
  },
  {
   "cell_type": "code",
   "execution_count": 40,
   "metadata": {},
   "outputs": [
    {
     "name": "stdout",
     "output_type": "stream",
     "text": [
      "                            OLS Regression Results                            \n",
      "==============================================================================\n",
      "Dep. Variable:                   educ   R-squared:                       0.444\n",
      "Model:                            OLS   Adj. R-squared:                  0.443\n",
      "Method:                 Least Squares   F-statistic:                     244.9\n",
      "Date:                Sun, 24 May 2020   Prob (F-statistic):          1.34e-154\n",
      "Time:                        23:23:54   Log-Likelihood:                -2436.6\n",
      "No. Observations:                1230   AIC:                             4883.\n",
      "Df Residuals:                    1225   BIC:                             4909.\n",
      "Df Model:                           4                                         \n",
      "Covariance Type:            nonrobust                                         \n",
      "==============================================================================\n",
      "                 coef    std err          t      P>|t|      [0.025      0.975]\n",
      "------------------------------------------------------------------------------\n",
      "motheduc       0.1901      0.028      6.767      0.000       0.135       0.245\n",
      "fatheduc       0.1089      0.020      5.558      0.000       0.070       0.147\n",
      "abil           0.4015      0.030     13.255      0.000       0.342       0.461\n",
      "abil2          0.0506      0.008      6.093      0.000       0.034       0.067\n",
      "tuit_means     0.4803      0.017     28.671      0.000       0.447       0.513\n",
      "==============================================================================\n",
      "Omnibus:                       45.933   Durbin-Watson:                   1.820\n",
      "Prob(Omnibus):                  0.000   Jarque-Bera (JB):               56.769\n",
      "Skew:                           0.404   Prob(JB):                     4.71e-13\n",
      "Kurtosis:                       3.674   Cond. No.                         17.7\n",
      "==============================================================================\n",
      "\n",
      "Warnings:\n",
      "[1] Standard Errors assume that the covariance matrix of the errors is correctly specified.\n"
     ]
    }
   ],
   "source": [
    "X = sm.add_constant(htv[[\"motheduc\", \"fatheduc\", \"abil\", \"abil2\", \"tuit_means\"]])\n",
    "\n",
    "model = sm.OLS(y, X).fit()\n",
    "model_summary = model.summary()\n",
    "print(model_summary)"
   ]
  },
  {
   "cell_type": "markdown",
   "metadata": {},
   "source": [
    "C11.i We reject the null that the quadratic term is equal to 0, implying that the relationship is quadratic\n",
    "\n",
    "C11.ii The p-value for the test of equality is 0.053, failing to reject the null at 5%\n",
    "\n",
    "C11.iii The F-test has a p-value of 0.432 meaning that the results are not jointly significant\n",
    "\n",
    "C11.iv The correlation is 0.98. Using the average is preferable since the two are highly correlated, removing the collinearity.\n",
    "\n",
    "C11.v The causal interpretation is odd since higher costs would imply lower consumption of education. What is likely happening is that students who are getting a higher education must pay tuition while those who stop their studies do not. Tuition is necessarily correlated with higher education, but the cause is reversed."
   ]
  }
 ],
 "metadata": {
  "kernelspec": {
   "display_name": "Python 3",
   "language": "python",
   "name": "python3"
  },
  "language_info": {
   "codemirror_mode": {
    "name": "ipython",
    "version": 3
   },
   "file_extension": ".py",
   "mimetype": "text/x-python",
   "name": "python",
   "nbconvert_exporter": "python",
   "pygments_lexer": "ipython3",
   "version": "3.7.6"
  }
 },
 "nbformat": 4,
 "nbformat_minor": 4
}
