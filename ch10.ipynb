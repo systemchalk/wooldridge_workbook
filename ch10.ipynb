{
 "cells": [
  {
   "cell_type": "markdown",
   "metadata": {},
   "source": [
    "# Chapter 10"
   ]
  },
  {
   "cell_type": "markdown",
   "metadata": {},
   "source": [
    "## Assumptions for this chapter\n",
    "\n",
    "1. Linear in parameters (same as for cross-sections)\n",
    "2. No perfect collinearity (again as with cross-sections)\n",
    "3. Zero conditional mean. $E(u_t|X)=0$ for $t = 1, 2, \\dots, n$\n",
    "\n",
    "For unbiasedness. Note that Assumption 3 is a strong assumption since cross-sections are contemporaneously exogenous but assumption three requires that the error be uncorrelated with the independent variables in all time periods (including past and future. A policy that is informed by observations made today would violate this assumption and since it is in the future could not be controlled for).\n",
    "\n",
    "Statements about variation require two additional assumptions:\n",
    "\n",
    "4. Homoskedasticity\n",
    "5. No serial correlation $Corr(u_t, u_s | X) = 0$ for $t \\neq s$\n",
    "\n",
    "Assumption 5 was not required in the cross-sectional case since we assumed a random sample. If assumptions 1-5 are satisfied, OLS will have the same finite sample properties as in the cross-sectional case. Inference requires a normality assumption (errors $u_t$ are independent and identially distributed as Normal with mean 0 and variance $\\sigma^2$)."
   ]
  },
  {
   "cell_type": "code",
   "execution_count": null,
   "metadata": {},
   "outputs": [],
   "source": []
  }
 ],
 "metadata": {
  "kernelspec": {
   "display_name": "Python 3",
   "language": "python",
   "name": "python3"
  },
  "language_info": {
   "codemirror_mode": {
    "name": "ipython",
    "version": 3
   },
   "file_extension": ".py",
   "mimetype": "text/x-python",
   "name": "python",
   "nbconvert_exporter": "python",
   "pygments_lexer": "ipython3",
   "version": "3.7.6"
  }
 },
 "nbformat": 4,
 "nbformat_minor": 4
}
