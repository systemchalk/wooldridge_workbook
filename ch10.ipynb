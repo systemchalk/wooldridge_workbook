{
 "cells": [
  {
   "cell_type": "markdown",
   "metadata": {},
   "source": [
    "# Chapter 10"
   ]
  },
  {
   "cell_type": "markdown",
   "metadata": {},
   "source": [
    "## Assumptions for this chapter\n",
    "\n",
    "1. Linear in parameters (same as for cross-sections)\n",
    "2. No perfect collinearity (again as with cross-sections)\n",
    "3. Zero conditional mean. $E(u_t|X)=0$ for $t = 1, 2, \\dots, n$\n",
    "\n",
    "For unbiasedness. Note that Assumption 3 is a strong assumption since cross-sections are contemporaneously exogenous but assumption three requires that the error be uncorrelated with the independent variables in all time periods (including past and future. A policy that is informed by observations made today would violate this assumption and since it is in the future could not be controlled for).\n",
    "\n",
    "Statements about variation require two additional assumptions:\n",
    "\n",
    "4. Homoskedasticity\n",
    "5. No serial correlation $Corr(u_t, u_s | X) = 0$ for $t \\neq s$\n",
    "\n",
    "Assumption 5 was not required in the cross-sectional case since we assumed a random sample. If assumptions 1-5 are satisfied, OLS will have the same finite sample properties as in the cross-sectional case. Inference requires a normality assumption (errors $u_t$ are independent and identially distributed as Normal with mean 0 and variance $\\sigma^2$)."
   ]
  },
  {
   "cell_type": "code",
   "execution_count": 1,
   "metadata": {},
   "outputs": [],
   "source": [
    "import pandas as pd\n",
    "import statsmodels.api as sm\n",
    "import numpy as np"
   ]
  },
  {
   "cell_type": "code",
   "execution_count": 2,
   "metadata": {},
   "outputs": [
    {
     "name": "stdout",
     "output_type": "stream",
     "text": [
      "                            OLS Regression Results                            \n",
      "==============================================================================\n",
      "Dep. Variable:                     i3   R-squared:                       0.664\n",
      "Model:                            OLS   Adj. R-squared:                  0.644\n",
      "Method:                 Least Squares   F-statistic:                     34.18\n",
      "Date:                Mon, 31 Aug 2020   Prob (F-statistic):           2.41e-12\n",
      "Time:                        01:59:58   Log-Likelihood:                -107.46\n",
      "No. Observations:                  56   AIC:                             222.9\n",
      "Df Residuals:                      52   BIC:                             231.0\n",
      "Df Model:                           3                                         \n",
      "Covariance Type:            nonrobust                                         \n",
      "==============================================================================\n",
      "                 coef    std err          t      P>|t|      [0.025      0.975]\n",
      "------------------------------------------------------------------------------\n",
      "const          1.2962      0.425      3.047      0.004       0.443       2.150\n",
      "inf            0.6084      0.076      7.979      0.000       0.455       0.761\n",
      "def            0.3627      0.120      3.016      0.004       0.121       0.604\n",
      "aft_1979       1.5588      0.506      3.082      0.003       0.544       2.574\n",
      "==============================================================================\n",
      "Omnibus:                        4.861   Durbin-Watson:                   0.833\n",
      "Prob(Omnibus):                  0.088   Jarque-Bera (JB):                3.851\n",
      "Skew:                          -0.594   Prob(JB):                        0.146\n",
      "Kurtosis:                       3.489   Cond. No.                         12.5\n",
      "==============================================================================\n",
      "\n",
      "Warnings:\n",
      "[1] Standard Errors assume that the covariance matrix of the errors is correctly specified.\n"
     ]
    }
   ],
   "source": [
    "# Exercise 1\n",
    "intdef = pd.read_stata(\"stata/intdef.dta\")\n",
    "intdef[\"aft_1979\"] = (intdef.year > 1979).astype(\"int32\")\n",
    "\n",
    "y = intdef.i3\n",
    "X = sm.add_constant(intdef[[\"inf\", \"def\", \"aft_1979\"]])\n",
    "model = sm.OLS(y, X).fit()\n",
    "model_summary = model.summary()\n",
    "print(model_summary)"
   ]
  },
  {
   "cell_type": "markdown",
   "metadata": {},
   "source": [
    "C1. Adding a dummy variable for observations after 1979 produces a large and statistically significant estimate. This implies that after 1979 there was a roughly $1 \\frac{1}{2}$ percent increase in the interest rate on three-month T-bills, even accounting for changes in inflation or the deficit. It is also worth noting that the coefficient for inflation remains the same but the effect of the deficit is muted with the inclusion of the dummy."
   ]
  },
  {
   "cell_type": "code",
   "execution_count": 3,
   "metadata": {},
   "outputs": [
    {
     "name": "stdout",
     "output_type": "stream",
     "text": [
      "                            OLS Regression Results                            \n",
      "==============================================================================\n",
      "Dep. Variable:                lchnimp   R-squared:                       0.362\n",
      "Model:                            OLS   Adj. R-squared:                  0.325\n",
      "Method:                 Least Squares   F-statistic:                     9.951\n",
      "Date:                Mon, 31 Aug 2020   Prob (F-statistic):           8.36e-10\n",
      "Time:                        01:59:58   Log-Likelihood:                -109.21\n",
      "No. Observations:                 131   AIC:                             234.4\n",
      "Df Residuals:                     123   BIC:                             257.4\n",
      "Df Model:                           7                                         \n",
      "Covariance Type:            nonrobust                                         \n",
      "==============================================================================\n",
      "                 coef    std err          t      P>|t|      [0.025      0.975]\n",
      "------------------------------------------------------------------------------\n",
      "const         -2.3675     20.782     -0.114      0.909     -43.505      38.769\n",
      "lchempi       -0.6862      1.240     -0.554      0.581      -3.140       1.768\n",
      "lgas           0.4657      0.876      0.531      0.596      -1.269       2.200\n",
      "lrtwex         0.0782      0.472      0.166      0.869      -0.857       1.013\n",
      "befile6        0.0905      0.251      0.360      0.719      -0.407       0.588\n",
      "affile6        0.0970      0.257      0.377      0.707      -0.412       0.606\n",
      "afdec6        -0.3515      0.283     -1.244      0.216      -0.911       0.208\n",
      "t              0.0127      0.004      3.305      0.001       0.005       0.020\n",
      "==============================================================================\n",
      "Omnibus:                        8.814   Durbin-Watson:                   1.552\n",
      "Prob(Omnibus):                  0.012   Jarque-Bera (JB):                9.170\n",
      "Skew:                          -0.502   Prob(JB):                       0.0102\n",
      "Kurtosis:                       3.819   Cond. No.                     3.27e+04\n",
      "==============================================================================\n",
      "\n",
      "Warnings:\n",
      "[1] Standard Errors assume that the covariance matrix of the errors is correctly specified.\n",
      "[2] The condition number is large, 3.27e+04. This might indicate that there are\n",
      "strong multicollinearity or other numerical problems.\n"
     ]
    }
   ],
   "source": [
    "# Exercise 2\n",
    "barium = pd.read_stata(\"stata/BARIUM.DTA\")\n",
    "\n",
    "y = barium.lchnimp\n",
    "X = sm.add_constant(barium[[\"lchempi\", \"lgas\", \"lrtwex\", \"befile6\", \"affile6\", \"afdec6\", \"t\"]])\n",
    "model = sm.OLS(y, X).fit()\n",
    "model_summary = model.summary()\n",
    "print(model_summary)"
   ]
  },
  {
   "cell_type": "code",
   "execution_count": 4,
   "metadata": {},
   "outputs": [
    {
     "data": {
      "text/plain": [
       "<class 'statsmodels.stats.contrast.ContrastResults'>\n",
       "<F test: F=array([[0.54024983]]), p=0.7767277194928033, df_denom=123, df_num=6>"
      ]
     },
     "execution_count": 4,
     "metadata": {},
     "output_type": "execute_result"
    }
   ],
   "source": [
    "model.f_test(\"lchempi = lgas = lrtwex = befile6 = affile6 = afdec6 = 0\")"
   ]
  },
  {
   "cell_type": "code",
   "execution_count": 5,
   "metadata": {},
   "outputs": [
    {
     "name": "stdout",
     "output_type": "stream",
     "text": [
      "                            OLS Regression Results                            \n",
      "==============================================================================\n",
      "Dep. Variable:                lchnimp   R-squared:                       0.411\n",
      "Model:                            OLS   Adj. R-squared:                  0.316\n",
      "Method:                 Least Squares   F-statistic:                     4.334\n",
      "Date:                Mon, 31 Aug 2020   Prob (F-statistic):           6.19e-07\n",
      "Time:                        01:59:59   Log-Likelihood:                -103.98\n",
      "No. Observations:                 131   AIC:                             246.0\n",
      "Df Residuals:                     112   BIC:                             300.6\n",
      "Df Model:                          18                                         \n",
      "Covariance Type:            nonrobust                                         \n",
      "==============================================================================\n",
      "                 coef    std err          t      P>|t|      [0.025      0.975]\n",
      "------------------------------------------------------------------------------\n",
      "const         27.3001     31.397      0.870      0.386     -34.909      89.509\n",
      "lchempi       -0.4517      1.272     -0.355      0.723      -2.971       2.068\n",
      "lgas          -0.8206      1.345     -0.610      0.543      -3.486       1.844\n",
      "lrtwex        -0.1971      0.530     -0.372      0.710      -1.246       0.852\n",
      "befile6        0.1649      0.257      0.641      0.523      -0.344       0.674\n",
      "affile6        0.1534      0.272      0.564      0.574      -0.386       0.692\n",
      "afdec6        -0.2950      0.299     -0.985      0.327      -0.888       0.298\n",
      "t              0.0123      0.004      3.151      0.002       0.005       0.020\n",
      "feb           -0.3554      0.294     -1.210      0.229      -0.937       0.227\n",
      "mar            0.0626      0.255      0.245      0.807      -0.442       0.568\n",
      "apr           -0.4406      0.258     -1.705      0.091      -0.953       0.071\n",
      "may            0.0313      0.259      0.121      0.904      -0.482       0.545\n",
      "jun           -0.2010      0.259     -0.775      0.440      -0.715       0.313\n",
      "jul            0.0111      0.268      0.041      0.967      -0.521       0.543\n",
      "aug           -0.1271      0.268     -0.475      0.636      -0.658       0.403\n",
      "sep           -0.0752      0.258     -0.291      0.772      -0.587       0.437\n",
      "oct            0.0798      0.257      0.310      0.757      -0.430       0.589\n",
      "nov           -0.2603      0.253     -1.029      0.306      -0.762       0.241\n",
      "dec            0.0965      0.262      0.369      0.713      -0.422       0.615\n",
      "==============================================================================\n",
      "Omnibus:                        9.056   Durbin-Watson:                   1.422\n",
      "Prob(Omnibus):                  0.011   Jarque-Bera (JB):                9.116\n",
      "Skew:                          -0.543   Prob(JB):                       0.0105\n",
      "Kurtosis:                       3.699   Cond. No.                     4.90e+04\n",
      "==============================================================================\n",
      "\n",
      "Warnings:\n",
      "[1] Standard Errors assume that the covariance matrix of the errors is correctly specified.\n",
      "[2] The condition number is large, 4.9e+04. This might indicate that there are\n",
      "strong multicollinearity or other numerical problems.\n",
      "<F test: F=array([[0.52810188]]), p=0.7859449215207318, df_denom=112, df_num=6>\n",
      "<F test: F=array([[0.84654274]]), p=0.5943395983111197, df_denom=112, df_num=11>\n"
     ]
    }
   ],
   "source": [
    "X = sm.add_constant(barium[[\"lchempi\", \"lgas\", \"lrtwex\", \"befile6\", \"affile6\", \"afdec6\", \"t\", \"feb\", \"mar\", \"apr\", \"may\", \"jun\", \"jul\", \"aug\", \"sep\", \"oct\", \"nov\", \"dec\"]])\n",
    "model = sm.OLS(y, X).fit()\n",
    "model_summary = model.summary()\n",
    "print(model_summary)\n",
    "print(model.f_test(\"lchempi = lgas = lrtwex = befile6 = affile6 = afdec6 = 0\"))\n",
    "print(model.f_test(\"feb = mar = apr = may = jun = jul = aug = sep = oct = nov = dec = 0\"))"
   ]
  },
  {
   "cell_type": "markdown",
   "metadata": {},
   "source": [
    "C2.i The inclusion of the time trend ($t$) removes the statistical significance from all of the variables.\n",
    "\n",
    "C2.ii The F-test produces an F-statistic of about 0.54 with a p-value of about 0.78. There is no evidence to suggest these variables are jointly significant.\n",
    "\n",
    "C2.iii The addition of monthly variables does not produce any statistical significance (except for the linear time trend which was already significant). The coefficients have changed, notably sign changes for gas and the exchange rate, though we do not have evidence that these coefficients are any different from zero. A test for joint significance produces similar results as before with a p-value of about 0.79. The month dummies are also not jointly significant (F-statistic 0.85, p-value 0.59)."
   ]
  },
  {
   "cell_type": "code",
   "execution_count": 6,
   "metadata": {},
   "outputs": [
    {
     "name": "stdout",
     "output_type": "stream",
     "text": [
      "                            OLS Regression Results                            \n",
      "==============================================================================\n",
      "Dep. Variable:                lprepop   R-squared:                       0.889\n",
      "Model:                            OLS   Adj. R-squared:                  0.876\n",
      "Method:                 Least Squares   F-statistic:                     66.23\n",
      "Date:                Mon, 31 Aug 2020   Prob (F-statistic):           2.68e-15\n",
      "Time:                        01:59:59   Log-Likelihood:                 78.659\n",
      "No. Observations:                  38   AIC:                            -147.3\n",
      "Df Residuals:                      33   BIC:                            -139.1\n",
      "Df Model:                           4                                         \n",
      "Covariance Type:            nonrobust                                         \n",
      "==============================================================================\n",
      "                 coef    std err          t      P>|t|      [0.025      0.975]\n",
      "------------------------------------------------------------------------------\n",
      "const         -6.6634      1.258     -5.298      0.000      -9.223      -4.104\n",
      "lmincov       -0.2123      0.040     -5.286      0.000      -0.294      -0.131\n",
      "lusgnp         0.4860      0.222      2.190      0.036       0.034       0.938\n",
      "t             -0.0267      0.005     -5.763      0.000      -0.036      -0.017\n",
      "lprgnp         0.2852      0.080      3.544      0.001       0.121       0.449\n",
      "==============================================================================\n",
      "Omnibus:                        2.155   Durbin-Watson:                   1.014\n",
      "Prob(Omnibus):                  0.340   Jarque-Bera (JB):                1.744\n",
      "Skew:                           0.521   Prob(JB):                        0.418\n",
      "Kurtosis:                       2.872   Cond. No.                     5.89e+03\n",
      "==============================================================================\n",
      "\n",
      "Warnings:\n",
      "[1] Standard Errors assume that the covariance matrix of the errors is correctly specified.\n",
      "[2] The condition number is large, 5.89e+03. This might indicate that there are\n",
      "strong multicollinearity or other numerical problems.\n"
     ]
    }
   ],
   "source": [
    "# Exercise 3\n",
    "prminwage = pd.read_stata(\"stata/PRMINWGE.DTA\")\n",
    "\n",
    "y = prminwage.lprepop\n",
    "X = sm.add_constant(prminwage[[\"lmincov\", \"lusgnp\", \"t\", \"lprgnp\"]])\n",
    "model = sm.OLS(y, X).fit()\n",
    "model_summary = model.summary()\n",
    "print(model_summary)"
   ]
  },
  {
   "cell_type": "markdown",
   "metadata": {},
   "source": [
    "C3. The log of Puerto Rico's GNP is large and statistically significant when added into the equation. The dependent variable is a log and so we say the elasticity of the employment/population ratio with respect to Puerto Rico's GNP is 0.29. The magnitude of the minimum wage effect has increased (in absolute terms), moving from -0.169 to -0.212."
   ]
  },
  {
   "cell_type": "code",
   "execution_count": 7,
   "metadata": {},
   "outputs": [
    {
     "name": "stdout",
     "output_type": "stream",
     "text": [
      "                            OLS Regression Results                            \n",
      "==============================================================================\n",
      "Dep. Variable:                    gfr   R-squared:                       0.499\n",
      "Model:                            OLS   Adj. R-squared:                  0.459\n",
      "Method:                 Least Squares   F-statistic:                     12.73\n",
      "Date:                Mon, 31 Aug 2020   Prob (F-statistic):           1.35e-08\n",
      "Time:                        01:59:59   Log-Likelihood:                -282.26\n",
      "No. Observations:                  70   AIC:                             576.5\n",
      "Df Residuals:                      64   BIC:                             590.0\n",
      "Df Model:                           5                                         \n",
      "Covariance Type:            nonrobust                                         \n",
      "==============================================================================\n",
      "                 coef    std err          t      P>|t|      [0.025      0.975]\n",
      "------------------------------------------------------------------------------\n",
      "const         95.8705      3.282     29.211      0.000      89.314     102.427\n",
      "pe             0.1007      0.030      3.380      0.001       0.041       0.160\n",
      "pe1-pe        -0.0058      0.156     -0.037      0.970      -0.317       0.305\n",
      "pe2-pe         0.0338      0.126      0.268      0.790      -0.218       0.286\n",
      "ww2          -22.1265     10.732     -2.062      0.043     -43.566      -0.687\n",
      "pill         -31.3050      3.982     -7.862      0.000     -39.259     -23.351\n",
      "==============================================================================\n",
      "Omnibus:                        2.226   Durbin-Watson:                   0.189\n",
      "Prob(Omnibus):                  0.329   Jarque-Bera (JB):                1.705\n",
      "Skew:                           0.206   Prob(JB):                        0.426\n",
      "Kurtosis:                       2.356   Cond. No.                         767.\n",
      "==============================================================================\n",
      "\n",
      "Warnings:\n",
      "[1] Standard Errors assume that the covariance matrix of the errors is correctly specified.\n"
     ]
    }
   ],
   "source": [
    "# Exercise 4\n",
    "fertil3 = pd.read_stata(\"stata/FERTIL3.DTA\")\n",
    "fertil3_clean = fertil3[[\"gfr\", \"pe\", \"pe_1\", \"pe_2\", \"ww2\", \"pill\"]].dropna()\n",
    "fertil3_clean[\"pe1-pe\"] = fertil3_clean.pe_1 - fertil3_clean.pe\n",
    "fertil3_clean[\"pe2-pe\"] = fertil3_clean.pe_2 - fertil3_clean.pe\n",
    "\n",
    "y = fertil3_clean.gfr\n",
    "X = sm.add_constant(fertil3_clean[[\"pe\", \"pe1-pe\", \"pe2-pe\", \"ww2\", \"pill\"]])\n",
    "model = sm.OLS(y, X).fit()\n",
    "model_summary = model.summary()\n",
    "print(model_summary)"
   ]
  },
  {
   "cell_type": "markdown",
   "metadata": {},
   "source": [
    "C4. Using the method described in example 10.4 we build the regression above. The coefficient on $pe$ is 0.101, the same as written in the example. The standard error of $pe$ is 0.030, the result we needed to find."
   ]
  },
  {
   "cell_type": "code",
   "execution_count": 8,
   "metadata": {},
   "outputs": [
    {
     "name": "stdout",
     "output_type": "stream",
     "text": [
      "                            OLS Regression Results                            \n",
      "==============================================================================\n",
      "Dep. Variable:                 luclms   R-squared:                       0.647\n",
      "Model:                            OLS   Adj. R-squared:                  0.602\n",
      "Method:                 Least Squares   F-statistic:                     14.36\n",
      "Date:                Mon, 31 Aug 2020   Prob (F-statistic):           1.73e-16\n",
      "Time:                        01:59:59   Log-Likelihood:                -45.808\n",
      "No. Observations:                 107   AIC:                             117.6\n",
      "Df Residuals:                      94   BIC:                             152.4\n",
      "Df Model:                          12                                         \n",
      "Covariance Type:            nonrobust                                         \n",
      "==============================================================================\n",
      "                 coef    std err          t      P>|t|      [0.025      0.975]\n",
      "------------------------------------------------------------------------------\n",
      "const        339.4264     29.662     11.443      0.000     280.532     398.320\n",
      "year          -0.1665      0.015    -11.140      0.000      -0.196      -0.137\n",
      "feb           -0.0132      0.187     -0.071      0.944      -0.384       0.358\n",
      "mar           -0.0662      0.187     -0.354      0.724      -0.437       0.305\n",
      "apr           -0.3649      0.187     -1.954      0.054      -0.736       0.006\n",
      "may           -0.5148      0.187     -2.757      0.007      -0.886      -0.144\n",
      "jun           -0.5541      0.187     -2.968      0.004      -0.925      -0.183\n",
      "jul           -0.5192      0.187     -2.780      0.007      -0.890      -0.148\n",
      "aug           -0.3378      0.187     -1.809      0.074      -0.709       0.033\n",
      "sep           -0.7529      0.187     -4.032      0.000      -1.124      -0.382\n",
      "oct           -0.7868      0.187     -4.214      0.000      -1.158      -0.416\n",
      "nov           -0.6817      0.187     -3.651      0.000      -1.052      -0.311\n",
      "dec           -0.3740      0.193     -1.942      0.055      -0.757       0.008\n",
      "==============================================================================\n",
      "Omnibus:                        0.994   Durbin-Watson:                   0.262\n",
      "Prob(Omnibus):                  0.608   Jarque-Bera (JB):                1.051\n",
      "Skew:                           0.138   Prob(JB):                        0.591\n",
      "Kurtosis:                       2.600   Cond. No.                     1.54e+06\n",
      "==============================================================================\n",
      "\n",
      "Warnings:\n",
      "[1] Standard Errors assume that the covariance matrix of the errors is correctly specified.\n",
      "[2] The condition number is large, 1.54e+06. This might indicate that there are\n",
      "strong multicollinearity or other numerical problems.\n",
      "<F test: F=array([[4.32240521]]), p=3.259357136115663e-05, df_denom=94, df_num=11>\n"
     ]
    }
   ],
   "source": [
    "# Exercise 5\n",
    "ezanders = pd.read_stata(\"stata/EZANDERS.DTA\")\n",
    "ezanders_clean = ezanders[[\"luclms\", \"ez\", \"year\", \"feb\", \"mar\", \"apr\", \"may\", \"jun\", \"jul\", \"aug\", \"sep\", \"oct\", \"nov\", \"dec\"]].dropna()\n",
    "\n",
    "y = ezanders_clean.luclms\n",
    "X = sm.add_constant(ezanders_clean[[\"year\", \"feb\", \"mar\", \"apr\", \"may\", \"jun\", \"jul\", \"aug\", \"sep\", \"oct\", \"nov\", \"dec\"]])\n",
    "model = sm.OLS(y, X).fit()\n",
    "model_summary = model.summary()\n",
    "print(model_summary)\n",
    "print(model.f_test(\"feb = mar = apr = may = jun = jul = aug = sep = oct = nov = dec = 0\"))"
   ]
  },
  {
   "cell_type": "code",
   "execution_count": 9,
   "metadata": {},
   "outputs": [
    {
     "name": "stdout",
     "output_type": "stream",
     "text": [
      "                            OLS Regression Results                            \n",
      "==============================================================================\n",
      "Dep. Variable:                 luclms   R-squared:                       0.688\n",
      "Model:                            OLS   Adj. R-squared:                  0.644\n",
      "Method:                 Least Squares   F-statistic:                     15.76\n",
      "Date:                Mon, 31 Aug 2020   Prob (F-statistic):           3.08e-18\n",
      "Time:                        01:59:59   Log-Likelihood:                -39.232\n",
      "No. Observations:                 107   AIC:                             106.5\n",
      "Df Residuals:                      93   BIC:                             143.9\n",
      "Df Model:                          13                                         \n",
      "Covariance Type:            nonrobust                                         \n",
      "==============================================================================\n",
      "                 coef    std err          t      P>|t|      [0.025      0.975]\n",
      "------------------------------------------------------------------------------\n",
      "const        170.2854     56.022      3.040      0.003      59.037     281.534\n",
      "ez            -0.5080      0.146     -3.488      0.001      -0.797      -0.219\n",
      "year          -0.0811      0.028     -2.870      0.005      -0.137      -0.025\n",
      "feb           -0.0132      0.177     -0.075      0.940      -0.364       0.337\n",
      "mar           -0.0662      0.177     -0.375      0.709      -0.417       0.284\n",
      "apr           -0.3649      0.177     -2.067      0.042      -0.716      -0.014\n",
      "may           -0.5148      0.177     -2.916      0.004      -0.865      -0.164\n",
      "jun           -0.5541      0.177     -3.139      0.002      -0.905      -0.204\n",
      "jul           -0.5192      0.177     -2.941      0.004      -0.870      -0.169\n",
      "aug           -0.3378      0.177     -1.914      0.059      -0.688       0.013\n",
      "sep           -0.7529      0.177     -4.265      0.000      -1.103      -0.402\n",
      "oct           -0.7868      0.177     -4.457      0.000      -1.137      -0.436\n",
      "nov           -0.6817      0.177     -3.861      0.000      -1.032      -0.331\n",
      "dec           -0.3596      0.182     -1.974      0.051      -0.721       0.002\n",
      "==============================================================================\n",
      "Omnibus:                        0.244   Durbin-Watson:                   0.317\n",
      "Prob(Omnibus):                  0.885   Jarque-Bera (JB):                0.136\n",
      "Skew:                          -0.087   Prob(JB):                        0.934\n",
      "Kurtosis:                       2.995   Cond. No.                     3.07e+06\n",
      "==============================================================================\n",
      "\n",
      "Warnings:\n",
      "[1] Standard Errors assume that the covariance matrix of the errors is correctly specified.\n",
      "[2] The condition number is large, 3.07e+06. This might indicate that there are\n",
      "strong multicollinearity or other numerical problems.\n",
      "The estimated (percentage) fall after ez designation is:  39.83182087538268\n"
     ]
    }
   ],
   "source": [
    "X = sm.add_constant(ezanders_clean[[\"ez\", \"year\", \"feb\", \"mar\", \"apr\", \"may\", \"jun\", \"jul\", \"aug\", \"sep\", \"oct\", \"nov\", \"dec\"]])\n",
    "model = sm.OLS(y, X).fit()\n",
    "model_summary = model.summary()\n",
    "print(model_summary)\n",
    "print(\"The estimated (percentage) fall after ez designation is: \", 100 * (1 - np.exp(model.params.ez)))"
   ]
  },
  {
   "cell_type": "markdown",
   "metadata": {},
   "source": [
    "C5.i The coefficient on the linear time trend implies that monthly unemployment claims fell 17% a month! This is significant but this is an incredible number suggesting something went wrong. The F-test on the joint significance of the monthly dummies implies seasonality.\n",
    "\n",
    "C5.ii $ez$'s coefficient is -0.508. Using the formula the decrease is 39.8%\n",
    "\n",
    "C5.iii If we want to attribute the fall to the creation of an enterprise zone we would have to assume that time trends and seasonality are the only other factors affecting unemployment."
   ]
  },
  {
   "cell_type": "code",
   "execution_count": 10,
   "metadata": {},
   "outputs": [],
   "source": [
    "# Exercise 6\n",
    "fertil3 = pd.read_stata(\"stata/FERTIL3.DTA\")\n",
    "fertil3_clean = fertil3[[\"gfr\", \"t\", \"tsq\", \"tcu\", \"pe\", \"ww2\", \"pill\"]].dropna()\n",
    "\n",
    "y = fertil3_clean.gfr\n",
    "X = sm.add_constant(fertil3_clean[[\"t\", \"tsq\"]])\n",
    "model = sm.OLS(y, X).fit()\n",
    "fertil3_clean[\"resid\"] = model.resid"
   ]
  },
  {
   "cell_type": "code",
   "execution_count": 11,
   "metadata": {},
   "outputs": [
    {
     "name": "stdout",
     "output_type": "stream",
     "text": [
      "                            OLS Regression Results                            \n",
      "==============================================================================\n",
      "Dep. Variable:                  resid   R-squared:                       0.602\n",
      "Model:                            OLS   Adj. R-squared:                  0.571\n",
      "Method:                 Least Squares   F-statistic:                     19.92\n",
      "Date:                Mon, 31 Aug 2020   Prob (F-statistic):           4.72e-12\n",
      "Time:                        01:59:59   Log-Likelihood:                -269.95\n",
      "No. Observations:                  72   AIC:                             551.9\n",
      "Df Residuals:                      66   BIC:                             565.6\n",
      "Df Model:                           5                                         \n",
      "Covariance Type:            nonrobust                                         \n",
      "==============================================================================\n",
      "                 coef    std err          t      P>|t|      [0.025      0.975]\n",
      "------------------------------------------------------------------------------\n",
      "const         17.0357      4.361      3.907      0.000       8.329      25.742\n",
      "pe             0.3478      0.040      8.639      0.000       0.267       0.428\n",
      "ww2          -35.8803      5.708     -6.286      0.000     -47.277     -24.484\n",
      "pill         -10.1197      6.336     -1.597      0.115     -22.770       2.531\n",
      "t             -2.6031      0.389     -6.685      0.000      -3.381      -1.826\n",
      "tsq            0.0276      0.005      5.546      0.000       0.018       0.037\n",
      "==============================================================================\n",
      "Omnibus:                        0.655   Durbin-Watson:                   0.514\n",
      "Prob(Omnibus):                  0.721   Jarque-Bera (JB):                0.786\n",
      "Skew:                          -0.170   Prob(JB):                        0.675\n",
      "Kurtosis:                       2.617   Cond. No.                     1.20e+04\n",
      "==============================================================================\n",
      "\n",
      "Warnings:\n",
      "[1] Standard Errors assume that the covariance matrix of the errors is correctly specified.\n",
      "[2] The condition number is large, 1.2e+04. This might indicate that there are\n",
      "strong multicollinearity or other numerical problems.\n"
     ]
    }
   ],
   "source": [
    "y = fertil3_clean.resid\n",
    "X = sm.add_constant(fertil3_clean[[\"pe\", \"ww2\", \"pill\", \"t\", \"tsq\"]])\n",
    "model = sm.OLS(y, X).fit()\n",
    "model_summary = model.summary()\n",
    "print(model_summary)"
   ]
  },
  {
   "cell_type": "code",
   "execution_count": 12,
   "metadata": {},
   "outputs": [
    {
     "name": "stdout",
     "output_type": "stream",
     "text": [
      "                            OLS Regression Results                            \n",
      "==============================================================================\n",
      "Dep. Variable:                    gfr   R-squared:                       0.840\n",
      "Model:                            OLS   Adj. R-squared:                  0.826\n",
      "Method:                 Least Squares   F-statistic:                     57.07\n",
      "Date:                Mon, 31 Aug 2020   Prob (F-statistic):           5.11e-24\n",
      "Time:                        01:59:59   Log-Likelihood:                -250.57\n",
      "No. Observations:                  72   AIC:                             515.1\n",
      "Df Residuals:                      65   BIC:                             531.1\n",
      "Df Model:                           6                                         \n",
      "Covariance Type:            nonrobust                                         \n",
      "==============================================================================\n",
      "                 coef    std err          t      P>|t|      [0.025      0.975]\n",
      "------------------------------------------------------------------------------\n",
      "const        142.7955      4.338     32.919      0.000     134.132     151.459\n",
      "pe             0.1619      0.041      3.920      0.000       0.079       0.244\n",
      "ww2          -19.0467      5.042     -3.778      0.000     -29.116      -8.977\n",
      "pill         -25.0097      5.346     -4.679      0.000     -35.686     -14.334\n",
      "t             -5.6122      0.543    -10.340      0.000      -6.696      -4.528\n",
      "tsq            0.1554      0.020      7.653      0.000       0.115       0.196\n",
      "tcu           -0.0013      0.000     -6.809      0.000      -0.002      -0.001\n",
      "==============================================================================\n",
      "Omnibus:                        2.972   Durbin-Watson:                   0.522\n",
      "Prob(Omnibus):                  0.226   Jarque-Bera (JB):                1.692\n",
      "Skew:                           0.016   Prob(JB):                        0.429\n",
      "Kurtosis:                       2.250   Cond. No.                     9.15e+05\n",
      "==============================================================================\n",
      "\n",
      "Warnings:\n",
      "[1] Standard Errors assume that the covariance matrix of the errors is correctly specified.\n",
      "[2] The condition number is large, 9.15e+05. This might indicate that there are\n",
      "strong multicollinearity or other numerical problems.\n"
     ]
    }
   ],
   "source": [
    "y = fertil3_clean.gfr\n",
    "X = sm.add_constant(fertil3_clean[[\"pe\", \"ww2\", \"pill\", \"t\", \"tsq\", \"tcu\"]])\n",
    "model = sm.OLS(y, X).fit()\n",
    "model_summary = model.summary()\n",
    "print(model_summary)"
   ]
  },
  {
   "cell_type": "markdown",
   "metadata": {},
   "source": [
    "C6.ii The $R^2$ of this regression is 0.602 compared to the 0.727 from the original regression. The detrended regression explains quite a bit of the variation, but less than the original.\n",
    "\n",
    "C6.iii The coefficient for the cubed term is small (negative) but statistically significant."
   ]
  },
  {
   "cell_type": "code",
   "execution_count": 13,
   "metadata": {},
   "outputs": [
    {
     "name": "stdout",
     "output_type": "stream",
     "text": [
      "                            OLS Regression Results                            \n",
      "==============================================================================\n",
      "Dep. Variable:                     gc   R-squared:                       0.679\n",
      "Model:                            OLS   Adj. R-squared:                  0.669\n",
      "Method:                 Least Squares   F-statistic:                     71.81\n",
      "Date:                Mon, 31 Aug 2020   Prob (F-statistic):           6.75e-10\n",
      "Time:                        02:00:00   Log-Likelihood:                 127.22\n",
      "No. Observations:                  36   AIC:                            -250.4\n",
      "Df Residuals:                      34   BIC:                            -247.3\n",
      "Df Model:                           1                                         \n",
      "Covariance Type:            nonrobust                                         \n",
      "==============================================================================\n",
      "                 coef    std err          t      P>|t|      [0.025      0.975]\n",
      "------------------------------------------------------------------------------\n",
      "const          0.0081      0.002      4.254      0.000       0.004       0.012\n",
      "gy             0.5708      0.067      8.474      0.000       0.434       0.708\n",
      "==============================================================================\n",
      "Omnibus:                        0.743   Durbin-Watson:                   2.115\n",
      "Prob(Omnibus):                  0.690   Jarque-Bera (JB):                0.744\n",
      "Skew:                          -0.091   Prob(JB):                        0.689\n",
      "Kurtosis:                       2.319   Cond. No.                         55.6\n",
      "==============================================================================\n",
      "\n",
      "Warnings:\n",
      "[1] Standard Errors assume that the covariance matrix of the errors is correctly specified.\n"
     ]
    }
   ],
   "source": [
    "# Exercise 7\n",
    "consump = pd.read_stata(\"stata/consump.dta\")\n",
    "consump_clean = consump[[\"gc\", \"gy\"]].dropna()\n",
    "\n",
    "y = consump_clean.gc\n",
    "X = sm.add_constant(consump_clean[[\"gy\"]])\n",
    "model = sm.OLS(y, X).fit()\n",
    "model_summary = model.summary()\n",
    "print(model_summary)"
   ]
  },
  {
   "cell_type": "code",
   "execution_count": 14,
   "metadata": {},
   "outputs": [
    {
     "name": "stdout",
     "output_type": "stream",
     "text": [
      "                            OLS Regression Results                            \n",
      "==============================================================================\n",
      "Dep. Variable:                     gc   R-squared:                       0.695\n",
      "Model:                            OLS   Adj. R-squared:                  0.676\n",
      "Method:                 Least Squares   F-statistic:                     36.51\n",
      "Date:                Mon, 31 Aug 2020   Prob (F-statistic):           5.52e-09\n",
      "Time:                        02:00:00   Log-Likelihood:                 124.26\n",
      "No. Observations:                  35   AIC:                            -242.5\n",
      "Df Residuals:                      32   BIC:                            -237.9\n",
      "Df Model:                           2                                         \n",
      "Covariance Type:            nonrobust                                         \n",
      "==============================================================================\n",
      "                 coef    std err          t      P>|t|      [0.025      0.975]\n",
      "------------------------------------------------------------------------------\n",
      "const          0.0064      0.002      2.811      0.008       0.002       0.011\n",
      "gy             0.5523      0.070      7.929      0.000       0.410       0.694\n",
      "gy_1           0.0962      0.069      1.394      0.173      -0.044       0.237\n",
      "==============================================================================\n",
      "Omnibus:                        0.768   Durbin-Watson:                   2.141\n",
      "Prob(Omnibus):                  0.681   Jarque-Bera (JB):                0.746\n",
      "Skew:                           0.071   Prob(JB):                        0.689\n",
      "Kurtosis:                       2.299   Cond. No.                         62.3\n",
      "==============================================================================\n",
      "\n",
      "Warnings:\n",
      "[1] Standard Errors assume that the covariance matrix of the errors is correctly specified.\n"
     ]
    }
   ],
   "source": [
    "consump_clean = consump[[\"gc\", \"gy\", \"gy_1\", \"r3\"]].dropna()\n",
    "\n",
    "y = consump_clean.gc\n",
    "X = sm.add_constant(consump_clean[[\"gy\", \"gy_1\"]])\n",
    "model = sm.OLS(y, X).fit()\n",
    "model_summary = model.summary()\n",
    "print(model_summary)"
   ]
  },
  {
   "cell_type": "code",
   "execution_count": 15,
   "metadata": {},
   "outputs": [
    {
     "name": "stdout",
     "output_type": "stream",
     "text": [
      "                            OLS Regression Results                            \n",
      "==============================================================================\n",
      "Dep. Variable:                     gc   R-squared:                       0.696\n",
      "Model:                            OLS   Adj. R-squared:                  0.666\n",
      "Method:                 Least Squares   F-statistic:                     23.62\n",
      "Date:                Mon, 31 Aug 2020   Prob (F-statistic):           3.77e-08\n",
      "Time:                        02:00:00   Log-Likelihood:                 124.28\n",
      "No. Observations:                  35   AIC:                            -240.6\n",
      "Df Residuals:                      31   BIC:                            -234.3\n",
      "Df Model:                           3                                         \n",
      "Covariance Type:            nonrobust                                         \n",
      "==============================================================================\n",
      "                 coef    std err          t      P>|t|      [0.025      0.975]\n",
      "------------------------------------------------------------------------------\n",
      "const          0.0065      0.002      2.740      0.010       0.002       0.011\n",
      "gy             0.5568      0.075      7.467      0.000       0.405       0.709\n",
      "gy_1           0.0946      0.071      1.342      0.189      -0.049       0.239\n",
      "r3            -0.0001      0.001     -0.194      0.848      -0.001       0.001\n",
      "==============================================================================\n",
      "Omnibus:                        0.707   Durbin-Watson:                   2.148\n",
      "Prob(Omnibus):                  0.702   Jarque-Bera (JB):                0.723\n",
      "Skew:                           0.088   Prob(JB):                        0.697\n",
      "Kurtosis:                       2.319   Cond. No.                         167.\n",
      "==============================================================================\n",
      "\n",
      "Warnings:\n",
      "[1] Standard Errors assume that the covariance matrix of the errors is correctly specified.\n"
     ]
    }
   ],
   "source": [
    "y = consump_clean.gc\n",
    "X = sm.add_constant(consump_clean[[\"gy\", \"gy_1\", \"r3\"]])\n",
    "model = sm.OLS(y, X).fit()\n",
    "model_summary = model.summary()\n",
    "print(model_summary)"
   ]
  },
  {
   "cell_type": "markdown",
   "metadata": {},
   "source": [
    "C7.i The simple regression implies that a 1% increase in income growth is associated with a .57% increase in consumption growth. The value is statistically significant.\n",
    "\n",
    "C7.ii Adding the lagged term does not produce an estimate statistically different from 0. We don't have evidence that past changes in income affect present day consumption.\n",
    "\n",
    "C7.iii Similar to (ii), the addition is not statistically significant, though the coefficient is also very small in practical terms too. We have little evidence to suggest that past changes in income affect present day consumption and even less to suggest that the real interest rate changes change it."
   ]
  },
  {
   "cell_type": "code",
   "execution_count": 16,
   "metadata": {},
   "outputs": [
    {
     "name": "stdout",
     "output_type": "stream",
     "text": [
      "                            OLS Regression Results                            \n",
      "==============================================================================\n",
      "Dep. Variable:                    gfr   R-squared:                       0.537\n",
      "Model:                            OLS   Adj. R-squared:                  0.483\n",
      "Method:                 Least Squares   F-statistic:                     9.934\n",
      "Date:                Mon, 31 Aug 2020   Prob (F-statistic):           3.63e-08\n",
      "Time:                        02:00:00   Log-Likelihood:                -270.07\n",
      "No. Observations:                  68   AIC:                             556.1\n",
      "Df Residuals:                      60   BIC:                             573.9\n",
      "Df Model:                           7                                         \n",
      "Covariance Type:            nonrobust                                         \n",
      "==============================================================================\n",
      "                 coef    std err          t      P>|t|      [0.025      0.975]\n",
      "------------------------------------------------------------------------------\n",
      "const         92.5016      3.325     27.816      0.000      85.850      99.154\n",
      "pe             0.0887      0.126      0.703      0.485      -0.164       0.341\n",
      "pe_1          -0.0040      0.153     -0.026      0.979      -0.310       0.302\n",
      "pe_2           0.0074      0.165      0.045      0.964      -0.323       0.338\n",
      "pe_3           0.0181      0.154      0.118      0.907      -0.289       0.325\n",
      "pe_4           0.0139      0.105      0.133      0.895      -0.196       0.224\n",
      "ww2          -21.3435     11.541     -1.849      0.069     -44.428       1.741\n",
      "pill         -31.0816      3.897     -7.976      0.000     -38.877     -23.287\n",
      "==============================================================================\n",
      "Omnibus:                        3.349   Durbin-Watson:                   0.216\n",
      "Prob(Omnibus):                  0.187   Jarque-Bera (JB):                2.540\n",
      "Skew:                           0.327   Prob(JB):                        0.281\n",
      "Kurtosis:                       2.316   Cond. No.                     1.88e+03\n",
      "==============================================================================\n",
      "\n",
      "Warnings:\n",
      "[1] Standard Errors assume that the covariance matrix of the errors is correctly specified.\n",
      "[2] The condition number is large, 1.88e+03. This might indicate that there are\n",
      "strong multicollinearity or other numerical problems.\n"
     ]
    }
   ],
   "source": [
    "# Exercise 8\n",
    "fertil3 = pd.read_stata(\"stata/FERTIL3.DTA\")\n",
    "fertil3_clean = fertil3[[\"gfr\", \"pe\", \"pe_1\", \"pe_2\", \"pe_3\", \"pe_4\", \"ww2\", \"pill\"]].dropna()\n",
    "\n",
    "y = fertil3_clean.gfr\n",
    "X = sm.add_constant(fertil3_clean[[\"pe\", \"pe_1\", \"pe_2\", \"pe_3\", \"pe_4\", \"ww2\", \"pill\"]])\n",
    "model = sm.OLS(y, X).fit()\n",
    "model_summary = model.summary()\n",
    "print(model_summary)"
   ]
  },
  {
   "cell_type": "code",
   "execution_count": 17,
   "metadata": {},
   "outputs": [
    {
     "data": {
      "text/plain": [
       "<class 'statsmodels.stats.contrast.ContrastResults'>\n",
       "<F test: F=array([[0.06221168]]), p=0.9397444862854532, df_denom=60, df_num=2>"
      ]
     },
     "execution_count": 17,
     "metadata": {},
     "output_type": "execute_result"
    }
   ],
   "source": [
    "model.f_test(\"pe_3 = pe_4 = 0\")"
   ]
  },
  {
   "cell_type": "code",
   "execution_count": 18,
   "metadata": {},
   "outputs": [
    {
     "name": "stdout",
     "output_type": "stream",
     "text": [
      "                            OLS Regression Results                            \n",
      "==============================================================================\n",
      "Dep. Variable:                    gfr   R-squared:                       0.537\n",
      "Model:                            OLS   Adj. R-squared:                  0.483\n",
      "Method:                 Least Squares   F-statistic:                     9.934\n",
      "Date:                Mon, 31 Aug 2020   Prob (F-statistic):           3.63e-08\n",
      "Time:                        02:00:00   Log-Likelihood:                -270.07\n",
      "No. Observations:                  68   AIC:                             556.1\n",
      "Df Residuals:                      60   BIC:                             573.9\n",
      "Df Model:                           7                                         \n",
      "Covariance Type:            nonrobust                                         \n",
      "==============================================================================\n",
      "                 coef    std err          t      P>|t|      [0.025      0.975]\n",
      "------------------------------------------------------------------------------\n",
      "const         92.5016      3.325     27.816      0.000      85.850      99.154\n",
      "pe             0.1242      0.030      4.200      0.000       0.065       0.183\n",
      "pe1-pe        -0.0040      0.153     -0.026      0.979      -0.310       0.302\n",
      "pe2-pe         0.0074      0.165      0.045      0.964      -0.323       0.338\n",
      "pe3-pe         0.0181      0.154      0.118      0.907      -0.289       0.325\n",
      "pe4-pe         0.0139      0.105      0.133      0.895      -0.196       0.224\n",
      "ww2          -21.3435     11.541     -1.849      0.069     -44.428       1.741\n",
      "pill         -31.0816      3.897     -7.976      0.000     -38.877     -23.287\n",
      "==============================================================================\n",
      "Omnibus:                        3.349   Durbin-Watson:                   0.216\n",
      "Prob(Omnibus):                  0.187   Jarque-Bera (JB):                2.540\n",
      "Skew:                           0.327   Prob(JB):                        0.281\n",
      "Kurtosis:                       2.316   Cond. No.                         864.\n",
      "==============================================================================\n",
      "\n",
      "Warnings:\n",
      "[1] Standard Errors assume that the covariance matrix of the errors is correctly specified.\n"
     ]
    }
   ],
   "source": [
    "fertil3_clean[\"pe1-pe\"] = fertil3_clean.pe_1 - fertil3_clean.pe\n",
    "fertil3_clean[\"pe2-pe\"] = fertil3_clean.pe_2 - fertil3_clean.pe\n",
    "fertil3_clean[\"pe3-pe\"] = fertil3_clean.pe_3 - fertil3_clean.pe\n",
    "fertil3_clean[\"pe4-pe\"] = fertil3_clean.pe_4 - fertil3_clean.pe\n",
    "\n",
    "X = sm.add_constant(fertil3_clean[[\"pe\", \"pe1-pe\", \"pe2-pe\", \"pe3-pe\", \"pe4-pe\", \"ww2\", \"pill\"]])\n",
    "model = sm.OLS(y, X).fit()\n",
    "model_summary = model.summary()\n",
    "print(model_summary)"
   ]
  },
  {
   "cell_type": "code",
   "execution_count": 19,
   "metadata": {},
   "outputs": [
    {
     "name": "stdout",
     "output_type": "stream",
     "text": [
      "                            OLS Regression Results                            \n",
      "==============================================================================\n",
      "Dep. Variable:                    gfr   R-squared:                       0.536\n",
      "Model:                            OLS   Adj. R-squared:                  0.499\n",
      "Method:                 Least Squares   F-statistic:                     14.35\n",
      "Date:                Mon, 31 Aug 2020   Prob (F-statistic):           2.52e-09\n",
      "Time:                        02:00:00   Log-Likelihood:                -270.10\n",
      "No. Observations:                  68   AIC:                             552.2\n",
      "Df Residuals:                      62   BIC:                             565.5\n",
      "Df Model:                           5                                         \n",
      "Covariance Type:            nonrobust                                         \n",
      "==============================================================================\n",
      "                 coef    std err          t      P>|t|      [0.025      0.975]\n",
      "------------------------------------------------------------------------------\n",
      "const         92.5606      3.264     28.360      0.000      86.036      99.085\n",
      "z0             0.0692      0.094      0.735      0.465      -0.119       0.257\n",
      "z1            -0.0569      0.132     -0.430      0.669      -0.322       0.208\n",
      "z2             0.0116      0.030      0.381      0.705      -0.049       0.072\n",
      "ww2          -20.8016     10.820     -1.922      0.059     -42.431       0.827\n",
      "pill         -31.1346      3.829     -8.132      0.000     -38.788     -23.481\n",
      "==============================================================================\n",
      "Omnibus:                        3.244   Durbin-Watson:                   0.216\n",
      "Prob(Omnibus):                  0.197   Jarque-Bera (JB):                2.494\n",
      "Skew:                           0.326   Prob(JB):                        0.287\n",
      "Kurtosis:                       2.325   Cond. No.                     2.56e+04\n",
      "==============================================================================\n",
      "\n",
      "Warnings:\n",
      "[1] Standard Errors assume that the covariance matrix of the errors is correctly specified.\n",
      "[2] The condition number is large, 2.56e+04. This might indicate that there are\n",
      "strong multicollinearity or other numerical problems.\n"
     ]
    }
   ],
   "source": [
    "fertil3_clean[\"z0\"] = fertil3_clean.pe + fertil3_clean.pe_1 + fertil3_clean.pe_2 + fertil3_clean.pe_3 + fertil3_clean.pe_4\n",
    "fertil3_clean[\"z1\"] = fertil3_clean.pe_1 + (2 * fertil3_clean.pe_2) + (3 * fertil3_clean.pe_3) + (4 * fertil3_clean.pe_4)\n",
    "fertil3_clean[\"z2\"] = fertil3_clean.pe_1 + (4 * fertil3_clean.pe_2) + (9 * fertil3_clean.pe_3) + (16 * fertil3_clean.pe_4)\n",
    "\n",
    "X = sm.add_constant(fertil3_clean[[\"z0\", \"z1\", \"z2\", \"ww2\", \"pill\"]])\n",
    "model = sm.OLS(y, X).fit()\n",
    "model_summary = model.summary()\n",
    "print(model_summary)"
   ]
  },
  {
   "cell_type": "code",
   "execution_count": 20,
   "metadata": {},
   "outputs": [
    {
     "name": "stdout",
     "output_type": "stream",
     "text": [
      "Estimated LRP is 0.12369571208970734\n"
     ]
    }
   ],
   "source": [
    "d0 = model.params[\"z0\"]\n",
    "d1 = model.params[\"z0\"] + model.params[\"z1\"] + model.params[\"z2\"]\n",
    "d2 = model.params[\"z0\"] + (2 * model.params[\"z1\"]) + (4 * model.params[\"z2\"])\n",
    "d3 = model.params[\"z0\"] + (3 * model.params[\"z1\"]) + (9 * model.params[\"z2\"])\n",
    "d4 = model.params[\"z0\"] + (4 * model.params[\"z1\"]) + (16 * model.params[\"z2\"])\n",
    "\n",
    "LRP = sum([d0, d1, d2, d3, d4])\n",
    "print(\"Estimated LRP is\", LRP)"
   ]
  },
  {
   "cell_type": "markdown",
   "metadata": {},
   "source": [
    "C8.i The F-Test has a p-value of over 0.9.  We can't say the additional lags are jointly significant.\n",
    "\n",
    "C8.ii From the regression we get an estimate of 0.1242 with a standard error of 0.03. This is higher than 0.101 from equation 10.19.\n",
    "\n",
    "C8.iii The estimated LRP from the polynomial distributed lag model is 0.1237, which is only 0."
   ]
  },
  {
   "cell_type": "code",
   "execution_count": 21,
   "metadata": {},
   "outputs": [
    {
     "name": "stdout",
     "output_type": "stream",
     "text": [
      "                            OLS Regression Results                            \n",
      "==============================================================================\n",
      "Dep. Variable:                 rsp500   R-squared:                       0.012\n",
      "Model:                            OLS   Adj. R-squared:                  0.008\n",
      "Method:                 Least Squares   F-statistic:                     3.334\n",
      "Date:                Mon, 31 Aug 2020   Prob (F-statistic):             0.0364\n",
      "Time:                        02:00:00   Log-Likelihood:                -2845.4\n",
      "No. Observations:                 557   AIC:                             5697.\n",
      "Df Residuals:                     554   BIC:                             5710.\n",
      "Df Model:                           2                                         \n",
      "Covariance Type:            nonrobust                                         \n",
      "==============================================================================\n",
      "                 coef    std err          t      P>|t|      [0.025      0.975]\n",
      "------------------------------------------------------------------------------\n",
      "const         18.8431      3.275      5.754      0.000      12.410      25.276\n",
      "pcip           0.0364      0.129      0.281      0.778      -0.218       0.291\n",
      "i3            -1.3617      0.541     -2.518      0.012      -2.424      -0.300\n",
      "==============================================================================\n",
      "Omnibus:                       33.184   Durbin-Watson:                   1.524\n",
      "Prob(Omnibus):                  0.000   Jarque-Bera (JB):               60.914\n",
      "Skew:                          -0.391   Prob(JB):                     5.93e-14\n",
      "Kurtosis:                       4.419   Cond. No.                         26.7\n",
      "==============================================================================\n",
      "\n",
      "Warnings:\n",
      "[1] Standard Errors assume that the covariance matrix of the errors is correctly specified.\n"
     ]
    }
   ],
   "source": [
    "# Exercise 9\n",
    "volat = pd.read_stata(\"stata/VOLAT.DTA\")\n",
    "volat_clean = volat[[\"rsp500\", \"pcip\", \"i3\"]].dropna()\n",
    "\n",
    "y = volat_clean.rsp500\n",
    "X = sm.add_constant(volat_clean[[\"pcip\", \"i3\"]])\n",
    "model = sm.OLS(y, X).fit()\n",
    "model_summary = model.summary()\n",
    "print(model_summary)"
   ]
  },
  {
   "cell_type": "markdown",
   "metadata": {},
   "source": [
    "C9.i We'd expect $\\beta_1$ to be greater than 0 since more production should mean greater returns (profits, dividends), while $\\beta_2$ should be negative since alternative investments like bonds become relatively more attractive.\n",
    "\n",
    "C9.ii The coefficient for $pcip$ is small but implies that each percent increase of production increases stock market returns by 0.036 percent. The coefficient for $i3$ says that a 1 percent increase in the interest rate decreases returns by 1.36 percent. \n",
    "\n",
    "C9.iii Only $i3$ is statistically significant.\n",
    "\n",
    "C9.iv This doesn't really imply the S&P 500 is predictable. The variables are contemporaneous and so predicting the S&P 500 requires us to predict interest rates, which isn't any easier."
   ]
  },
  {
   "cell_type": "code",
   "execution_count": 22,
   "metadata": {},
   "outputs": [
    {
     "data": {
      "text/plain": [
       "0.0974705908843133"
      ]
     },
     "execution_count": 22,
     "metadata": {},
     "output_type": "execute_result"
    }
   ],
   "source": [
    "# Exercise 10\n",
    "intdef = pd.read_stata(\"stata/intdef.dta\")\n",
    "\n",
    "intdef[\"inf\"].corr(intdef[\"def\"])"
   ]
  },
  {
   "cell_type": "code",
   "execution_count": 23,
   "metadata": {},
   "outputs": [
    {
     "name": "stdout",
     "output_type": "stream",
     "text": [
      "                            OLS Regression Results                            \n",
      "==============================================================================\n",
      "Dep. Variable:                     i3   R-squared:                       0.685\n",
      "Model:                            OLS   Adj. R-squared:                  0.660\n",
      "Method:                 Least Squares   F-statistic:                     27.18\n",
      "Date:                Mon, 31 Aug 2020   Prob (F-statistic):           5.19e-12\n",
      "Time:                        02:00:00   Log-Likelihood:                -103.28\n",
      "No. Observations:                  55   AIC:                             216.6\n",
      "Df Residuals:                      50   BIC:                             226.6\n",
      "Df Model:                           4                                         \n",
      "Covariance Type:            nonrobust                                         \n",
      "==============================================================================\n",
      "                 coef    std err          t      P>|t|      [0.025      0.975]\n",
      "------------------------------------------------------------------------------\n",
      "const          1.6115      0.401      4.021      0.000       0.807       2.416\n",
      "inf            0.3426      0.125      2.732      0.009       0.091       0.594\n",
      "def           -0.1897      0.221     -0.857      0.395      -0.634       0.255\n",
      "inf_1          0.3820      0.134      2.859      0.006       0.114       0.650\n",
      "def_1          0.5693      0.197      2.893      0.006       0.174       0.964\n",
      "==============================================================================\n",
      "Omnibus:                        2.675   Durbin-Watson:                   0.763\n",
      "Prob(Omnibus):                  0.262   Jarque-Bera (JB):                2.354\n",
      "Skew:                          -0.504   Prob(JB):                        0.308\n",
      "Kurtosis:                       2.893   Cond. No.                         13.0\n",
      "==============================================================================\n",
      "\n",
      "Warnings:\n",
      "[1] Standard Errors assume that the covariance matrix of the errors is correctly specified.\n",
      "The estimated LRP is: 0.7245953333987367\n",
      "<F test: F=array([[5.21986641]]), p=0.008733467592829018, df_denom=50, df_num=2>\n"
     ]
    }
   ],
   "source": [
    "intdef_clean = intdef[[\"i3\", \"inf\", \"def\", \"inf_1\", \"def_1\"]].dropna()\n",
    "\n",
    "y = intdef_clean.i3\n",
    "X = sm.add_constant(intdef_clean[[\"inf\", \"def\", \"inf_1\", \"def_1\"]])\n",
    "model = sm.OLS(y, X).fit()\n",
    "model_summary = model.summary()\n",
    "print(model_summary)\n",
    "print(\"The estimated LRP is:\", model.params[\"inf\"] + model.params[\"inf_1\"])\n",
    "print(model.f_test(\"inf_1 = def_1 = 0\"))"
   ]
  },
  {
   "cell_type": "markdown",
   "metadata": {},
   "source": [
    "C10.i The correlation between $inf$ and $def$ is 0.098, suggesting a weak -- if any -- correlation between inflation and the deficit rate (surprising).\n",
    "\n",
    "C10.ii The results are reported above.\n",
    "\n",
    "C10.iii The estimated LRP is 0.725 compared to the 0.606 from 10.15. Higher, but not remarkably so.\n",
    "\n",
    "C10.iv The two lag terms are jointly significant at the 1% (let alone the 5% level)."
   ]
  },
  {
   "cell_type": "code",
   "execution_count": 24,
   "metadata": {},
   "outputs": [
    {
     "data": {
      "text/html": [
       "<div>\n",
       "<style scoped>\n",
       "    .dataframe tbody tr th:only-of-type {\n",
       "        vertical-align: middle;\n",
       "    }\n",
       "\n",
       "    .dataframe tbody tr th {\n",
       "        vertical-align: top;\n",
       "    }\n",
       "\n",
       "    .dataframe thead th {\n",
       "        text-align: right;\n",
       "    }\n",
       "</style>\n",
       "<table border=\"1\" class=\"dataframe\">\n",
       "  <thead>\n",
       "    <tr style=\"text-align: right;\">\n",
       "      <th></th>\n",
       "      <th>year</th>\n",
       "      <th>feb</th>\n",
       "      <th>mar</th>\n",
       "      <th>apr</th>\n",
       "      <th>may</th>\n",
       "      <th>jun</th>\n",
       "      <th>jul</th>\n",
       "      <th>aug</th>\n",
       "      <th>sep</th>\n",
       "      <th>oct</th>\n",
       "      <th>nov</th>\n",
       "      <th>dec</th>\n",
       "    </tr>\n",
       "  </thead>\n",
       "  <tbody>\n",
       "    <tr>\n",
       "      <th>60</th>\n",
       "      <td>1986</td>\n",
       "      <td>0</td>\n",
       "      <td>0</td>\n",
       "      <td>0</td>\n",
       "      <td>0</td>\n",
       "      <td>0</td>\n",
       "      <td>0</td>\n",
       "      <td>0</td>\n",
       "      <td>0</td>\n",
       "      <td>0</td>\n",
       "      <td>0</td>\n",
       "      <td>0</td>\n",
       "    </tr>\n",
       "    <tr>\n",
       "      <th>61</th>\n",
       "      <td>1986</td>\n",
       "      <td>1</td>\n",
       "      <td>0</td>\n",
       "      <td>0</td>\n",
       "      <td>0</td>\n",
       "      <td>0</td>\n",
       "      <td>0</td>\n",
       "      <td>0</td>\n",
       "      <td>0</td>\n",
       "      <td>0</td>\n",
       "      <td>0</td>\n",
       "      <td>0</td>\n",
       "    </tr>\n",
       "    <tr>\n",
       "      <th>62</th>\n",
       "      <td>1986</td>\n",
       "      <td>0</td>\n",
       "      <td>1</td>\n",
       "      <td>0</td>\n",
       "      <td>0</td>\n",
       "      <td>0</td>\n",
       "      <td>0</td>\n",
       "      <td>0</td>\n",
       "      <td>0</td>\n",
       "      <td>0</td>\n",
       "      <td>0</td>\n",
       "      <td>0</td>\n",
       "    </tr>\n",
       "    <tr>\n",
       "      <th>63</th>\n",
       "      <td>1986</td>\n",
       "      <td>0</td>\n",
       "      <td>0</td>\n",
       "      <td>1</td>\n",
       "      <td>0</td>\n",
       "      <td>0</td>\n",
       "      <td>0</td>\n",
       "      <td>0</td>\n",
       "      <td>0</td>\n",
       "      <td>0</td>\n",
       "      <td>0</td>\n",
       "      <td>0</td>\n",
       "    </tr>\n",
       "    <tr>\n",
       "      <th>64</th>\n",
       "      <td>1986</td>\n",
       "      <td>0</td>\n",
       "      <td>0</td>\n",
       "      <td>0</td>\n",
       "      <td>1</td>\n",
       "      <td>0</td>\n",
       "      <td>0</td>\n",
       "      <td>0</td>\n",
       "      <td>0</td>\n",
       "      <td>0</td>\n",
       "      <td>0</td>\n",
       "      <td>0</td>\n",
       "    </tr>\n",
       "  </tbody>\n",
       "</table>\n",
       "</div>"
      ],
      "text/plain": [
       "    year  feb  mar  apr  may  jun  jul  aug  sep  oct  nov  dec\n",
       "60  1986    0    0    0    0    0    0    0    0    0    0    0\n",
       "61  1986    1    0    0    0    0    0    0    0    0    0    0\n",
       "62  1986    0    1    0    0    0    0    0    0    0    0    0\n",
       "63  1986    0    0    1    0    0    0    0    0    0    0    0\n",
       "64  1986    0    0    0    1    0    0    0    0    0    0    0"
      ]
     },
     "execution_count": 24,
     "metadata": {},
     "output_type": "execute_result"
    }
   ],
   "source": [
    "# Exercise 11\n",
    "traffic2 = pd.read_stata(\"stata/TRAFFIC2.DTA\")\n",
    "traffic2.loc[traffic2.beltlaw == 1, [\"year\", \"feb\", \"mar\", \"apr\", \"may\", \"jun\", \"jul\", \"aug\", \"sep\", \"oct\", \"nov\", \"dec\"]].head()"
   ]
  },
  {
   "cell_type": "code",
   "execution_count": 25,
   "metadata": {},
   "outputs": [
    {
     "data": {
      "text/html": [
       "<div>\n",
       "<style scoped>\n",
       "    .dataframe tbody tr th:only-of-type {\n",
       "        vertical-align: middle;\n",
       "    }\n",
       "\n",
       "    .dataframe tbody tr th {\n",
       "        vertical-align: top;\n",
       "    }\n",
       "\n",
       "    .dataframe thead th {\n",
       "        text-align: right;\n",
       "    }\n",
       "</style>\n",
       "<table border=\"1\" class=\"dataframe\">\n",
       "  <thead>\n",
       "    <tr style=\"text-align: right;\">\n",
       "      <th></th>\n",
       "      <th>year</th>\n",
       "      <th>feb</th>\n",
       "      <th>mar</th>\n",
       "      <th>apr</th>\n",
       "      <th>may</th>\n",
       "      <th>jun</th>\n",
       "      <th>jul</th>\n",
       "      <th>aug</th>\n",
       "      <th>sep</th>\n",
       "      <th>oct</th>\n",
       "      <th>nov</th>\n",
       "      <th>dec</th>\n",
       "    </tr>\n",
       "  </thead>\n",
       "  <tbody>\n",
       "    <tr>\n",
       "      <th>76</th>\n",
       "      <td>1987</td>\n",
       "      <td>0</td>\n",
       "      <td>0</td>\n",
       "      <td>0</td>\n",
       "      <td>1</td>\n",
       "      <td>0</td>\n",
       "      <td>0</td>\n",
       "      <td>0</td>\n",
       "      <td>0</td>\n",
       "      <td>0</td>\n",
       "      <td>0</td>\n",
       "      <td>0</td>\n",
       "    </tr>\n",
       "    <tr>\n",
       "      <th>77</th>\n",
       "      <td>1987</td>\n",
       "      <td>0</td>\n",
       "      <td>0</td>\n",
       "      <td>0</td>\n",
       "      <td>0</td>\n",
       "      <td>1</td>\n",
       "      <td>0</td>\n",
       "      <td>0</td>\n",
       "      <td>0</td>\n",
       "      <td>0</td>\n",
       "      <td>0</td>\n",
       "      <td>0</td>\n",
       "    </tr>\n",
       "    <tr>\n",
       "      <th>78</th>\n",
       "      <td>1987</td>\n",
       "      <td>0</td>\n",
       "      <td>0</td>\n",
       "      <td>0</td>\n",
       "      <td>0</td>\n",
       "      <td>0</td>\n",
       "      <td>1</td>\n",
       "      <td>0</td>\n",
       "      <td>0</td>\n",
       "      <td>0</td>\n",
       "      <td>0</td>\n",
       "      <td>0</td>\n",
       "    </tr>\n",
       "    <tr>\n",
       "      <th>79</th>\n",
       "      <td>1987</td>\n",
       "      <td>0</td>\n",
       "      <td>0</td>\n",
       "      <td>0</td>\n",
       "      <td>0</td>\n",
       "      <td>0</td>\n",
       "      <td>0</td>\n",
       "      <td>1</td>\n",
       "      <td>0</td>\n",
       "      <td>0</td>\n",
       "      <td>0</td>\n",
       "      <td>0</td>\n",
       "    </tr>\n",
       "    <tr>\n",
       "      <th>80</th>\n",
       "      <td>1987</td>\n",
       "      <td>0</td>\n",
       "      <td>0</td>\n",
       "      <td>0</td>\n",
       "      <td>0</td>\n",
       "      <td>0</td>\n",
       "      <td>0</td>\n",
       "      <td>0</td>\n",
       "      <td>1</td>\n",
       "      <td>0</td>\n",
       "      <td>0</td>\n",
       "      <td>0</td>\n",
       "    </tr>\n",
       "  </tbody>\n",
       "</table>\n",
       "</div>"
      ],
      "text/plain": [
       "    year  feb  mar  apr  may  jun  jul  aug  sep  oct  nov  dec\n",
       "76  1987    0    0    0    1    0    0    0    0    0    0    0\n",
       "77  1987    0    0    0    0    1    0    0    0    0    0    0\n",
       "78  1987    0    0    0    0    0    1    0    0    0    0    0\n",
       "79  1987    0    0    0    0    0    0    1    0    0    0    0\n",
       "80  1987    0    0    0    0    0    0    0    1    0    0    0"
      ]
     },
     "execution_count": 25,
     "metadata": {},
     "output_type": "execute_result"
    }
   ],
   "source": [
    "traffic2.loc[traffic2.spdlaw == 1, [\"year\", \"feb\", \"mar\", \"apr\", \"may\", \"jun\", \"jul\", \"aug\", \"sep\", \"oct\", \"nov\", \"dec\"]].head()"
   ]
  },
  {
   "cell_type": "code",
   "execution_count": 26,
   "metadata": {},
   "outputs": [
    {
     "name": "stdout",
     "output_type": "stream",
     "text": [
      "                            OLS Regression Results                            \n",
      "==============================================================================\n",
      "Dep. Variable:                ltotacc   R-squared:                       0.810\n",
      "Model:                            OLS   Adj. R-squared:                  0.783\n",
      "Method:                 Least Squares   F-statistic:                     30.83\n",
      "Date:                Mon, 31 Aug 2020   Prob (F-statistic):           2.99e-26\n",
      "Time:                        02:00:01   Log-Likelihood:                 163.53\n",
      "No. Observations:                 100   AIC:                            -301.1\n",
      "Df Residuals:                      87   BIC:                            -267.2\n",
      "Df Model:                          12                                         \n",
      "Covariance Type:            nonrobust                                         \n",
      "==============================================================================\n",
      "                 coef    std err          t      P>|t|      [0.025      0.975]\n",
      "------------------------------------------------------------------------------\n",
      "const         10.4555      0.019    552.549      0.000      10.418      10.493\n",
      "t              0.0030      0.000     17.162      0.000       0.003       0.003\n",
      "feb           -0.0430      0.024     -1.802      0.075      -0.090       0.004\n",
      "mar            0.0793      0.024      3.326      0.001       0.032       0.127\n",
      "apr            0.0177      0.024      0.742      0.460      -0.030       0.065\n",
      "may            0.0376      0.025      1.531      0.129      -0.011       0.086\n",
      "jun            0.0258      0.025      1.049      0.297      -0.023       0.075\n",
      "jul            0.0433      0.025      1.762      0.082      -0.006       0.092\n",
      "aug            0.0607      0.025      2.471      0.015       0.012       0.110\n",
      "sep            0.0446      0.025      1.813      0.073      -0.004       0.093\n",
      "oct            0.0874      0.025      3.558      0.001       0.039       0.136\n",
      "nov            0.0771      0.025      3.139      0.002       0.028       0.126\n",
      "dec            0.1071      0.025      4.356      0.000       0.058       0.156\n",
      "==============================================================================\n",
      "Omnibus:                        1.336   Durbin-Watson:                   0.653\n",
      "Prob(Omnibus):                  0.513   Jarque-Bera (JB):                1.394\n",
      "Skew:                           0.260   Prob(JB):                        0.498\n",
      "Kurtosis:                       2.749   Cond. No.                         700.\n",
      "==============================================================================\n",
      "\n",
      "Warnings:\n",
      "[1] Standard Errors assume that the covariance matrix of the errors is correctly specified.\n",
      "<F test: F=array([[5.81850686]]), p=5.505968200108789e-07, df_denom=87, df_num=11>\n"
     ]
    }
   ],
   "source": [
    "traffic2_clean = traffic2[[\"ltotacc\", \"t\", \"feb\", \"mar\", \"apr\", \"may\", \"jun\", \"jul\", \"aug\", \"sep\", \"oct\", \"nov\", \"dec\"]].dropna()\n",
    "\n",
    "y = traffic2_clean.ltotacc\n",
    "X = sm.add_constant(traffic2_clean[[\"t\", \"feb\", \"mar\", \"apr\", \"may\", \"jun\", \"jul\", \"aug\", \"sep\", \"oct\", \"nov\", \"dec\"]])\n",
    "model = sm.OLS(y, X).fit()\n",
    "model_summary = model.summary()\n",
    "print(model_summary)\n",
    "print(model.f_test(\"feb = mar = apr = may = jun = jul = aug = sep = oct = nov = dec = 0\"))"
   ]
  },
  {
   "cell_type": "code",
   "execution_count": 27,
   "metadata": {},
   "outputs": [
    {
     "name": "stdout",
     "output_type": "stream",
     "text": [
      "                            OLS Regression Results                            \n",
      "==============================================================================\n",
      "Dep. Variable:                ltotacc   R-squared:                       0.917\n",
      "Model:                            OLS   Adj. R-squared:                  0.901\n",
      "Method:                 Least Squares   F-statistic:                     57.26\n",
      "Date:                Mon, 31 Aug 2020   Prob (F-statistic):           6.30e-38\n",
      "Time:                        02:00:01   Log-Likelihood:                 205.00\n",
      "No. Observations:                 100   AIC:                            -376.0\n",
      "Df Residuals:                      83   BIC:                            -331.7\n",
      "Df Model:                          16                                         \n",
      "Covariance Type:            nonrobust                                         \n",
      "==============================================================================\n",
      "                 coef    std err          t      P>|t|      [0.025      0.975]\n",
      "------------------------------------------------------------------------------\n",
      "const         10.6186      0.065    164.351      0.000      10.490      10.747\n",
      "wkends         0.0041      0.004      1.046      0.298      -0.004       0.012\n",
      "unem          -0.0209      0.003     -6.317      0.000      -0.027      -0.014\n",
      "spdlaw        -0.0480      0.012     -3.870      0.000      -0.073      -0.023\n",
      "beltlaw        0.0890      0.014      6.366      0.000       0.061       0.117\n",
      "t              0.0013      0.000      5.024      0.000       0.001       0.002\n",
      "feb           -0.0328      0.017     -1.883      0.063      -0.067       0.002\n",
      "mar            0.0771      0.016      4.726      0.000       0.045       0.110\n",
      "apr            0.0107      0.017      0.644      0.521      -0.022       0.044\n",
      "may            0.0248      0.017      1.465      0.147      -0.009       0.058\n",
      "jun            0.0245      0.017      1.418      0.160      -0.010       0.059\n",
      "jul            0.0527      0.017      3.156      0.002       0.019       0.086\n",
      "aug            0.0603      0.017      3.602      0.001       0.027       0.094\n",
      "sep            0.0424      0.017      2.435      0.017       0.008       0.077\n",
      "oct            0.0850      0.017      5.032      0.000       0.051       0.119\n",
      "nov            0.0805      0.017      4.696      0.000       0.046       0.115\n",
      "dec            0.1088      0.017      6.348      0.000       0.075       0.143\n",
      "==============================================================================\n",
      "Omnibus:                        4.226   Durbin-Watson:                   1.298\n",
      "Prob(Omnibus):                  0.121   Jarque-Bera (JB):                3.863\n",
      "Skew:                           0.480   Prob(JB):                        0.145\n",
      "Kurtosis:                       3.074   Cond. No.                     1.18e+03\n",
      "==============================================================================\n",
      "\n",
      "Warnings:\n",
      "[1] Standard Errors assume that the covariance matrix of the errors is correctly specified.\n",
      "[2] The condition number is large, 1.18e+03. This might indicate that there are\n",
      "strong multicollinearity or other numerical problems.\n"
     ]
    }
   ],
   "source": [
    "traffic2_clean = traffic2[[\"ltotacc\", \"wkends\", \"unem\", \"spdlaw\", \"beltlaw\", \"t\", \"feb\", \"mar\", \"apr\", \"may\", \"jun\", \"jul\", \"aug\", \"sep\", \"oct\", \"nov\", \"dec\"]].dropna()\n",
    "\n",
    "\n",
    "y = traffic2_clean.ltotacc\n",
    "X = sm.add_constant(traffic2_clean[[\"wkends\", \"unem\", \"spdlaw\", \"beltlaw\", \"t\", \"feb\", \"mar\", \"apr\", \"may\", \"jun\", \"jul\", \"aug\", \"sep\", \"oct\", \"nov\", \"dec\"]])\n",
    "model = sm.OLS(y, X).fit()\n",
    "model_summary = model.summary()\n",
    "print(model_summary)"
   ]
  },
  {
   "cell_type": "code",
   "execution_count": 28,
   "metadata": {},
   "outputs": [
    {
     "data": {
      "text/plain": [
       "0.8856360912322998"
      ]
     },
     "execution_count": 28,
     "metadata": {},
     "output_type": "execute_result"
    }
   ],
   "source": [
    "traffic2.prcfat.mean()"
   ]
  },
  {
   "cell_type": "code",
   "execution_count": 29,
   "metadata": {},
   "outputs": [
    {
     "name": "stdout",
     "output_type": "stream",
     "text": [
      "                            OLS Regression Results                            \n",
      "==============================================================================\n",
      "Dep. Variable:                 prcfat   R-squared:                       0.732\n",
      "Model:                            OLS   Adj. R-squared:                  0.680\n",
      "Method:                 Least Squares   F-statistic:                     14.14\n",
      "Date:                Mon, 31 Aug 2020   Prob (F-statistic):           1.88e-17\n",
      "Time:                        02:00:01   Log-Likelihood:                 153.25\n",
      "No. Observations:                 100   AIC:                            -272.5\n",
      "Df Residuals:                      83   BIC:                            -228.2\n",
      "Df Model:                          16                                         \n",
      "Covariance Type:            nonrobust                                         \n",
      "==============================================================================\n",
      "                 coef    std err          t      P>|t|      [0.025      0.975]\n",
      "------------------------------------------------------------------------------\n",
      "const          1.0477      0.108      9.665      0.000       0.832       1.263\n",
      "wkends      1.377e-05      0.007      0.002      0.998      -0.013       0.013\n",
      "unem          -0.0157      0.006     -2.831      0.006      -0.027      -0.005\n",
      "spdlaw         0.0621      0.021      2.986      0.004       0.021       0.103\n",
      "beltlaw       -0.0240      0.023     -1.022      0.310      -0.071       0.023\n",
      "t             -0.0024      0.000     -5.537      0.000      -0.003      -0.002\n",
      "feb         3.774e-05      0.029      0.001      0.999      -0.058       0.058\n",
      "mar        -1.161e-05      0.027     -0.000      1.000      -0.054       0.054\n",
      "apr            0.0580      0.028      2.087      0.040       0.003       0.113\n",
      "may            0.0668      0.028      2.353      0.021       0.010       0.123\n",
      "jun            0.1103      0.029      3.803      0.000       0.053       0.168\n",
      "jul            0.1657      0.028      5.917      0.000       0.110       0.221\n",
      "aug            0.1910      0.028      6.800      0.000       0.135       0.247\n",
      "sep            0.1571      0.029      5.378      0.000       0.099       0.215\n",
      "oct            0.1020      0.028      3.600      0.001       0.046       0.158\n",
      "nov            0.0081      0.029      0.280      0.780      -0.049       0.065\n",
      "dec            0.0018      0.029      0.061      0.951      -0.055       0.059\n",
      "==============================================================================\n",
      "Omnibus:                        0.322   Durbin-Watson:                   1.366\n",
      "Prob(Omnibus):                  0.851   Jarque-Bera (JB):                0.346\n",
      "Skew:                          -0.131   Prob(JB):                        0.841\n",
      "Kurtosis:                       2.879   Cond. No.                     1.18e+03\n",
      "==============================================================================\n",
      "\n",
      "Warnings:\n",
      "[1] Standard Errors assume that the covariance matrix of the errors is correctly specified.\n",
      "[2] The condition number is large, 1.18e+03. This might indicate that there are\n",
      "strong multicollinearity or other numerical problems.\n"
     ]
    }
   ],
   "source": [
    "traffic2_clean = traffic2[[\"prcfat\", \"wkends\", \"unem\", \"spdlaw\", \"beltlaw\", \"t\", \"feb\", \"mar\", \"apr\", \"may\", \"jun\", \"jul\", \"aug\", \"sep\", \"oct\", \"nov\", \"dec\"]].dropna()\n",
    "\n",
    "\n",
    "y = traffic2_clean.prcfat\n",
    "X = sm.add_constant(traffic2_clean[[\"wkends\", \"unem\", \"spdlaw\", \"beltlaw\", \"t\", \"feb\", \"mar\", \"apr\", \"may\", \"jun\", \"jul\", \"aug\", \"sep\", \"oct\", \"nov\", \"dec\"]])\n",
    "model = sm.OLS(y, X).fit()\n",
    "model_summary = model.summary()\n",
    "print(model_summary)"
   ]
  },
  {
   "cell_type": "markdown",
   "metadata": {},
   "source": [
    "C11.i California's seat belt law took effect Jan 1986. The highway speed limit changed May 1987.\n",
    "\n",
    "C11.ii The coefficient for t tells us that total accidents increase by about 0.3% each month. We have evidence of seasonality, the test of joint significance is significant at the 1% level.\n",
    "\n",
    "C11.iii Unemployment is negative and significant. This doesn't seem out of place since unemployment is likely to mean less driving.\n",
    "\n",
    "C11.iv) The two coefficients seem to be the opposite of what we'd expect. Increased speeds are associated with a reduction in accidents while the seatbelt law is associated with an increase in accidents. If it can't be attributed to some other associated change a possible explanation would be that mandatory safety has people acting more carelessly, while a speed increase forces people to pay closer attention (though this isn't the most convincing account).\n",
    "\n",
    "C11.v The average of $prcfat$ is 0.89. On average less than 1% of traffic accidents produce a fatality. I don't have a strong prior on what this should be, but given that traffic accidents are likely to involve a large number of scenarios, a low number makes sense.\n",
    "\n",
    "C11.vi The coefficients for the two laws make more sense now (speed increases fatalities and seatbelts decrease fatalities), though the seatbelt law is not statistically significant."
   ]
  },
  {
   "cell_type": "code",
   "execution_count": 30,
   "metadata": {},
   "outputs": [
    {
     "name": "stdout",
     "output_type": "stream",
     "text": [
      "                            OLS Regression Results                            \n",
      "==============================================================================\n",
      "Dep. Variable:                    inf   R-squared:                       0.062\n",
      "Model:                            OLS   Adj. R-squared:                  0.045\n",
      "Method:                 Least Squares   F-statistic:                     3.579\n",
      "Date:                Mon, 31 Aug 2020   Prob (F-statistic):             0.0639\n",
      "Time:                        02:00:01   Log-Likelihood:                -139.43\n",
      "No. Observations:                  56   AIC:                             282.9\n",
      "Df Residuals:                      54   BIC:                             286.9\n",
      "Df Model:                           1                                         \n",
      "Covariance Type:            nonrobust                                         \n",
      "==============================================================================\n",
      "                 coef    std err          t      P>|t|      [0.025      0.975]\n",
      "------------------------------------------------------------------------------\n",
      "const          1.0536      1.548      0.681      0.499      -2.050       4.157\n",
      "unem           0.5024      0.266      1.892      0.064      -0.030       1.035\n",
      "==============================================================================\n",
      "Omnibus:                       13.468   Durbin-Watson:                   0.801\n",
      "Prob(Omnibus):                  0.001   Jarque-Bera (JB):               14.302\n",
      "Skew:                           1.138   Prob(JB):                     0.000784\n",
      "Kurtosis:                       3.976   Cond. No.                         23.3\n",
      "==============================================================================\n",
      "\n",
      "Warnings:\n",
      "[1] Standard Errors assume that the covariance matrix of the errors is correctly specified.\n"
     ]
    }
   ],
   "source": [
    "# Exercise 12\n",
    "phillips = pd.read_stata(\"stata/phillips.dta\")\n",
    "\n",
    "y = phillips.inf\n",
    "X = sm.add_constant(phillips[[\"unem\"]])\n",
    "model = sm.OLS(y, X).fit()\n",
    "model_summary = model.summary()\n",
    "print(model_summary)"
   ]
  },
  {
   "cell_type": "code",
   "execution_count": 31,
   "metadata": {},
   "outputs": [
    {
     "name": "stdout",
     "output_type": "stream",
     "text": [
      "                            OLS Regression Results                            \n",
      "==============================================================================\n",
      "Dep. Variable:                    inf   R-squared:                       0.204\n",
      "Model:                            OLS   Adj. R-squared:                  0.044\n",
      "Method:                 Least Squares   F-statistic:                     1.278\n",
      "Date:                Mon, 31 Aug 2020   Prob (F-statistic):              0.310\n",
      "Time:                        02:00:01   Log-Likelihood:                -5.4596\n",
      "No. Observations:                   7   AIC:                             14.92\n",
      "Df Residuals:                       5   BIC:                             14.81\n",
      "Df Model:                           1                                         \n",
      "Covariance Type:            nonrobust                                         \n",
      "==============================================================================\n",
      "                 coef    std err          t      P>|t|      [0.025      0.975]\n",
      "------------------------------------------------------------------------------\n",
      "const          4.1609      1.651      2.521      0.053      -0.082       8.404\n",
      "unem          -0.3780      0.334     -1.130      0.310      -1.237       0.482\n",
      "==============================================================================\n",
      "Omnibus:                          nan   Durbin-Watson:                   1.842\n",
      "Prob(Omnibus):                    nan   Jarque-Bera (JB):                0.453\n",
      "Skew:                          -0.150   Prob(JB):                        0.797\n",
      "Kurtosis:                       1.790   Cond. No.                         35.9\n",
      "==============================================================================\n",
      "\n",
      "Warnings:\n",
      "[1] Standard Errors assume that the covariance matrix of the errors is correctly specified.\n"
     ]
    },
    {
     "name": "stderr",
     "output_type": "stream",
     "text": [
      "/home/systemchalk/anaconda3/lib/python3.8/site-packages/statsmodels/stats/stattools.py:70: ValueWarning: omni_normtest is not valid with less than 8 observations; 7 samples were given.\n",
      "  warn(\"omni_normtest is not valid with less than 8 observations; %i \"\n"
     ]
    }
   ],
   "source": [
    "y = phillips[phillips.year > 1996].inf\n",
    "X = sm.add_constant(phillips.loc[phillips.year > 1996, [\"unem\"]])\n",
    "model = sm.OLS(y, X).fit()\n",
    "model_summary = model.summary()\n",
    "print(model_summary)\n",
    "\n",
    "part_1 = model.params[\"unem\"]"
   ]
  },
  {
   "cell_type": "code",
   "execution_count": 32,
   "metadata": {},
   "outputs": [
    {
     "name": "stdout",
     "output_type": "stream",
     "text": [
      "                            OLS Regression Results                            \n",
      "==============================================================================\n",
      "Dep. Variable:                    inf   R-squared:                       0.053\n",
      "Model:                            OLS   Adj. R-squared:                  0.033\n",
      "Method:                 Least Squares   F-statistic:                     2.616\n",
      "Date:                Mon, 31 Aug 2020   Prob (F-statistic):              0.112\n",
      "Time:                        02:00:01   Log-Likelihood:                -124.43\n",
      "No. Observations:                  49   AIC:                             252.9\n",
      "Df Residuals:                      47   BIC:                             256.6\n",
      "Df Model:                           1                                         \n",
      "Covariance Type:            nonrobust                                         \n",
      "==============================================================================\n",
      "                 coef    std err          t      P>|t|      [0.025      0.975]\n",
      "------------------------------------------------------------------------------\n",
      "const          1.4236      1.719      0.828      0.412      -2.035       4.882\n",
      "unem           0.4676      0.289      1.617      0.112      -0.114       1.049\n",
      "==============================================================================\n",
      "Omnibus:                        8.905   Durbin-Watson:                   0.803\n",
      "Prob(Omnibus):                  0.012   Jarque-Bera (JB):                8.336\n",
      "Skew:                           0.979   Prob(JB):                       0.0155\n",
      "Kurtosis:                       3.502   Cond. No.                         23.5\n",
      "==============================================================================\n",
      "\n",
      "Warnings:\n",
      "[1] Standard Errors assume that the covariance matrix of the errors is correctly specified.\n",
      "The weighted average is:  0.3619263699043377\n"
     ]
    }
   ],
   "source": [
    "y = phillips[phillips.year < 1997].inf\n",
    "X = sm.add_constant(phillips.loc[phillips.year < 1997, [\"unem\"]])\n",
    "model = sm.OLS(y, X).fit()\n",
    "model_summary = model.summary()\n",
    "print(model_summary)\n",
    "\n",
    "part_2 = model.params[\"unem\"]\n",
    "print(\"The weighted average is: \", (7 / 56) * part_1 + (49 / 56) * part_2)"
   ]
  },
  {
   "cell_type": "markdown",
   "metadata": {},
   "source": [
    "C12.i There are 56 years of observations in the data set.\n",
    "\n",
    "C12.ii The coefficient is larger. The extra years don't seem to give us any more evidence for a relationship between unemployment and inflation.\n",
    "\n",
    "C12.iii For the limited years we see a tradeoff between unemployment but this is not a precise estimate (standard error of 0.334, p-value of 0.310).\n",
    "\n",
    "C12.iv Based on the past results, we have no reason to believe that the estimate will be equal to a weighted average of the estimates from the subsets."
   ]
  },
  {
   "cell_type": "code",
   "execution_count": 33,
   "metadata": {},
   "outputs": [
    {
     "name": "stdout",
     "output_type": "stream",
     "text": [
      "                            OLS Regression Results                            \n",
      "==============================================================================\n",
      "Dep. Variable:               gwage232   R-squared:                       0.293\n",
      "Model:                            OLS   Adj. R-squared:                  0.290\n",
      "Method:                 Least Squares   F-statistic:                     125.8\n",
      "Date:                Mon, 31 Aug 2020   Prob (F-statistic):           1.91e-46\n",
      "Time:                        02:00:01   Log-Likelihood:                 2091.6\n",
      "No. Observations:                 611   AIC:                            -4177.\n",
      "Df Residuals:                     608   BIC:                            -4164.\n",
      "Df Model:                           2                                         \n",
      "Covariance Type:            nonrobust                                         \n",
      "==============================================================================\n",
      "                 coef    std err          t      P>|t|      [0.025      0.975]\n",
      "------------------------------------------------------------------------------\n",
      "const          0.0022      0.000      5.185      0.000       0.001       0.003\n",
      "gmwage         0.1506      0.010     15.591      0.000       0.132       0.170\n",
      "gcpi           0.2435      0.082      2.965      0.003       0.082       0.405\n",
      "==============================================================================\n",
      "Omnibus:                       73.109   Durbin-Watson:                   2.194\n",
      "Prob(Omnibus):                  0.000   Jarque-Bera (JB):              306.495\n",
      "Skew:                           0.455   Prob(JB):                     2.79e-67\n",
      "Kurtosis:                       6.348   Cond. No.                         257.\n",
      "==============================================================================\n",
      "\n",
      "Warnings:\n",
      "[1] Standard Errors assume that the covariance matrix of the errors is correctly specified.\n"
     ]
    }
   ],
   "source": [
    "# Exercise 13\n",
    "minwage = pd.read_stata(\"stata/minwage.dta\")\n",
    "minwage_clean = minwage[[\"gwage232\", \"gmwage\", \"gcpi\"]].dropna()\n",
    "\n",
    "y = minwage_clean.gwage232\n",
    "X = sm.add_constant(minwage_clean[[\"gmwage\", \"gcpi\"]])\n",
    "model = sm.OLS(y, X).fit()\n",
    "model_summary = model.summary()\n",
    "print(model_summary)"
   ]
  },
  {
   "cell_type": "code",
   "execution_count": 34,
   "metadata": {},
   "outputs": [
    {
     "name": "stdout",
     "output_type": "stream",
     "text": [
      "                            OLS Regression Results                            \n",
      "==============================================================================\n",
      "Dep. Variable:               gwage232   R-squared:                       0.326\n",
      "Model:                            OLS   Adj. R-squared:                  0.310\n",
      "Method:                 Least Squares   F-statistic:                     20.18\n",
      "Date:                Mon, 31 Aug 2020   Prob (F-statistic):           1.04e-41\n",
      "Time:                        02:00:01   Log-Likelihood:                 2069.8\n",
      "No. Observations:                 599   AIC:                            -4110.\n",
      "Df Residuals:                     584   BIC:                            -4044.\n",
      "Df Model:                          14                                         \n",
      "Covariance Type:            nonrobust                                         \n",
      "==============================================================================\n",
      "                 coef    std err          t      P>|t|      [0.025      0.975]\n",
      "------------------------------------------------------------------------------\n",
      "const          0.0021      0.000      4.901      0.000       0.001       0.003\n",
      "gmwage         0.1493      0.009     15.742      0.000       0.131       0.168\n",
      "gmwage_1      -0.0043      0.009     -0.458      0.647      -0.023       0.014\n",
      "gmwage_2       0.0007      0.009      0.076      0.940      -0.018       0.019\n",
      "gmwage_3      -0.0188      0.009     -1.981      0.048      -0.037      -0.000\n",
      "gmwage_4      -0.0063      0.010     -0.656      0.512      -0.025       0.013\n",
      "gmwage_5      -0.0075      0.010     -0.777      0.438      -0.026       0.011\n",
      "gmwage_6       0.0015      0.010      0.162      0.872      -0.017       0.020\n",
      "gmwage_7      -0.0005      0.010     -0.048      0.962      -0.019       0.018\n",
      "gmwage_8       0.0190      0.010      1.999      0.046       0.000       0.038\n",
      "gmwage_9       0.0188      0.010      1.970      0.049    5.52e-05       0.037\n",
      "gmwage_10      0.0120      0.010      1.258      0.209      -0.007       0.031\n",
      "gmwage_11      0.0157      0.010      1.634      0.103      -0.003       0.034\n",
      "gmwage_12      0.0179      0.010      1.868      0.062      -0.001       0.037\n",
      "gcpi           0.2078      0.089      2.345      0.019       0.034       0.382\n",
      "==============================================================================\n",
      "Omnibus:                       66.717   Durbin-Watson:                   2.215\n",
      "Prob(Omnibus):                  0.000   Jarque-Bera (JB):              308.898\n",
      "Skew:                           0.366   Prob(JB):                     8.39e-68\n",
      "Kurtosis:                       6.441   Cond. No.                         280.\n",
      "==============================================================================\n",
      "\n",
      "Warnings:\n",
      "[1] Standard Errors assume that the covariance matrix of the errors is correctly specified.\n",
      "<F test: F=array([[1.72372118]]), p=0.058200217875557875, df_denom=584, df_num=12>\n",
      "The sum of all gmwage coefficients is:  0.19759898179185886\n"
     ]
    }
   ],
   "source": [
    "minwage_clean = minwage[[\"gwage232\", \"gmwage\", \"gmwage_1\", \"gmwage_2\", \"gmwage_3\", \"gmwage_4\", \"gmwage_5\", \"gmwage_6\", \"gmwage_7\", \"gmwage_8\", \"gmwage_9\", \"gmwage_10\", \"gmwage_11\", \"gmwage_12\", \"gcpi\"]].dropna()\n",
    "\n",
    "y = minwage_clean.gwage232\n",
    "X = sm.add_constant(minwage_clean[[\"gmwage\", \"gmwage_1\", \"gmwage_2\", \"gmwage_3\", \"gmwage_4\", \"gmwage_5\", \"gmwage_6\", \"gmwage_7\", \"gmwage_8\", \"gmwage_9\", \"gmwage_10\", \"gmwage_11\", \"gmwage_12\", \"gcpi\"]])\n",
    "model = sm.OLS(y, X).fit()\n",
    "model_summary = model.summary()\n",
    "print(model_summary)\n",
    "print(model.f_test(\"gmwage_1 = gmwage_2 = gmwage_3 = gmwage_4 = gmwage_5 = gmwage_6 = gmwage_7 = gmwage_8 = gmwage_9 = gmwage_10 = gmwage_11 = gmwage_12 = 0\"))\n",
    "print(\"The sum of all gmwage coefficients is: \", model.params[1:-1].sum())"
   ]
  },
  {
   "cell_type": "code",
   "execution_count": 35,
   "metadata": {},
   "outputs": [
    {
     "name": "stdout",
     "output_type": "stream",
     "text": [
      "                            OLS Regression Results                            \n",
      "==============================================================================\n",
      "Dep. Variable:                gemp232   R-squared:                       0.000\n",
      "Model:                            OLS   Adj. R-squared:                 -0.003\n",
      "Method:                 Least Squares   F-statistic:                  0.003774\n",
      "Date:                Mon, 31 Aug 2020   Prob (F-statistic):              0.996\n",
      "Time:                        02:00:01   Log-Likelihood:                 1567.0\n",
      "No. Observations:                 611   AIC:                            -3128.\n",
      "Df Residuals:                     608   BIC:                            -3115.\n",
      "Df Model:                           2                                         \n",
      "Covariance Type:            nonrobust                                         \n",
      "==============================================================================\n",
      "                 coef    std err          t      P>|t|      [0.025      0.975]\n",
      "------------------------------------------------------------------------------\n",
      "const         -0.0004      0.001     -0.446      0.656      -0.002       0.002\n",
      "gmwage        -0.0019      0.023     -0.082      0.934      -0.047       0.043\n",
      "gcpi          -0.0055      0.194     -0.028      0.977      -0.386       0.375\n",
      "==============================================================================\n",
      "Omnibus:                       42.671   Durbin-Watson:                   2.480\n",
      "Prob(Omnibus):                  0.000   Jarque-Bera (JB):              178.411\n",
      "Skew:                          -0.011   Prob(JB):                     1.81e-39\n",
      "Kurtosis:                       5.647   Cond. No.                         257.\n",
      "==============================================================================\n",
      "\n",
      "Warnings:\n",
      "[1] Standard Errors assume that the covariance matrix of the errors is correctly specified.\n"
     ]
    }
   ],
   "source": [
    "minwage_clean = minwage[[\"gemp232\", \"gmwage\", \"gcpi\"]].dropna()\n",
    "\n",
    "y = minwage_clean.gemp232\n",
    "X = sm.add_constant(minwage_clean[[\"gmwage\", \"gcpi\"]])\n",
    "model = sm.OLS(y, X).fit()\n",
    "model_summary = model.summary()\n",
    "print(model_summary)"
   ]
  },
  {
   "cell_type": "code",
   "execution_count": 36,
   "metadata": {},
   "outputs": [
    {
     "name": "stdout",
     "output_type": "stream",
     "text": [
      "                            OLS Regression Results                            \n",
      "==============================================================================\n",
      "Dep. Variable:                gemp232   R-squared:                       0.022\n",
      "Model:                            OLS   Adj. R-squared:                 -0.001\n",
      "Method:                 Least Squares   F-statistic:                    0.9448\n",
      "Date:                Mon, 31 Aug 2020   Prob (F-statistic):              0.510\n",
      "Time:                        02:00:01   Log-Likelihood:                 1545.2\n",
      "No. Observations:                 599   AIC:                            -3060.\n",
      "Df Residuals:                     584   BIC:                            -2995.\n",
      "Df Model:                          14                                         \n",
      "Covariance Type:            nonrobust                                         \n",
      "==============================================================================\n",
      "                 coef    std err          t      P>|t|      [0.025      0.975]\n",
      "------------------------------------------------------------------------------\n",
      "const         -0.0002      0.001     -0.196      0.845      -0.002       0.002\n",
      "gmwage        -0.0043      0.023     -0.187      0.852      -0.049       0.040\n",
      "gmwage_1       0.0132      0.023      0.579      0.563      -0.032       0.058\n",
      "gmwage_2      -0.0310      0.023     -1.365      0.173      -0.076       0.014\n",
      "gmwage_3      -0.0057      0.023     -0.250      0.803      -0.050       0.039\n",
      "gmwage_4      -0.0013      0.023     -0.059      0.953      -0.046       0.044\n",
      "gmwage_5       0.0023      0.023      0.101      0.919      -0.043       0.048\n",
      "gmwage_6       0.0454      0.023      1.980      0.048       0.000       0.090\n",
      "gmwage_7       0.0276      0.023      1.207      0.228      -0.017       0.072\n",
      "gmwage_8      -0.0173      0.023     -0.758      0.449      -0.062       0.028\n",
      "gmwage_9      -0.0248      0.023     -1.087      0.278      -0.070       0.020\n",
      "gmwage_10     -0.0230      0.023     -1.004      0.316      -0.068       0.022\n",
      "gmwage_11      0.0102      0.023      0.443      0.658      -0.035       0.055\n",
      "gmwage_12      0.0345      0.023      1.498      0.135      -0.011       0.080\n",
      "gcpi          -0.1143      0.213     -0.538      0.591      -0.532       0.303\n",
      "==============================================================================\n",
      "Omnibus:                       44.178   Durbin-Watson:                   2.525\n",
      "Prob(Omnibus):                  0.000   Jarque-Bera (JB):              161.659\n",
      "Skew:                          -0.211   Prob(JB):                     7.87e-36\n",
      "Kurtosis:                       5.510   Cond. No.                         280.\n",
      "==============================================================================\n",
      "\n",
      "Warnings:\n",
      "[1] Standard Errors assume that the covariance matrix of the errors is correctly specified.\n",
      "<F test: F=array([[1.01094948]]), p=0.43869600037979517, df_denom=584, df_num=13>\n",
      "The sum of all gmwage coefficients is:  0.025743656294770524\n"
     ]
    }
   ],
   "source": [
    "minwage_clean = minwage[[\"gemp232\", \"gmwage\", \"gmwage_1\", \"gmwage_2\", \"gmwage_3\", \"gmwage_4\", \"gmwage_5\", \"gmwage_6\", \"gmwage_7\", \"gmwage_8\", \"gmwage_9\", \"gmwage_10\", \"gmwage_11\", \"gmwage_12\", \"gcpi\"]].dropna()\n",
    "\n",
    "y = minwage_clean.gemp232\n",
    "X = sm.add_constant(minwage_clean[[\"gmwage\", \"gmwage_1\", \"gmwage_2\", \"gmwage_3\", \"gmwage_4\", \"gmwage_5\", \"gmwage_6\", \"gmwage_7\", \"gmwage_8\", \"gmwage_9\", \"gmwage_10\", \"gmwage_11\", \"gmwage_12\", \"gcpi\"]])\n",
    "model = sm.OLS(y, X).fit()\n",
    "model_summary = model.summary()\n",
    "print(model_summary)\n",
    "print(model.f_test(\"gmwage = gmwage_1 = gmwage_2 = gmwage_3 = gmwage_4 = gmwage_5 = gmwage_6 = gmwage_7 = gmwage_8 = gmwage_9 = gmwage_10 = gmwage_11 = gmwage_12 = 0\"))\n",
    "print(\"The sum of all gmwage coefficients is: \", model.params[1:-1].sum())"
   ]
  },
  {
   "cell_type": "markdown",
   "metadata": {},
   "source": [
    "C13.i The coefficient on gmwage implies that a 1% increase in the minimum wage increases monthly wage growth in sector 232 by 0.151%\n",
    "\n",
    "C13.ii The individual significance of these lagged terms are inconsistent at best and their magnitude is small. A test for joint significance fails to reject the null at 5% (but is significant at the 10% level). The total effect is about 0.04 higher and marginally significant.\n",
    "\n",
    "C13.iii The coefficients and t-statistics are small and the $R^2$ is 0. We have no evidence to suggest minimum wage growth has a contemporaneous effect on $gemp232$.\n",
    "\n",
    "C13.iv The F-test for joint significance has a p-value of 0.44. The lags are larger than $gmwage$ on their own but only one is individually significant. We can't say there is a statistically significant relationship between the minimum wage and employment growth in the short or long run for sector 232."
   ]
  }
 ],
 "metadata": {
  "kernelspec": {
   "display_name": "Python 3",
   "language": "python",
   "name": "python3"
  },
  "language_info": {
   "codemirror_mode": {
    "name": "ipython",
    "version": 3
   },
   "file_extension": ".py",
   "mimetype": "text/x-python",
   "name": "python",
   "nbconvert_exporter": "python",
   "pygments_lexer": "ipython3",
   "version": "3.8.5"
  }
 },
 "nbformat": 4,
 "nbformat_minor": 4
}
