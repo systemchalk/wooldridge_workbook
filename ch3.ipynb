{
 "cells": [
  {
   "cell_type": "markdown",
   "metadata": {},
   "source": [
    "# Chapter 3"
   ]
  },
  {
   "cell_type": "markdown",
   "metadata": {},
   "source": [
    "The assumptions required for this model to work (Gauss-Markov assumptions)\n",
    "\n",
    "* Linear in parameters: The model can be written as $y = \\beta_0 + \\beta_1 x_1 + \\beta_2 x_2 + ... + \\beta_k x_k + u$\n",
    "* Random sampling: We have a random sample of $n$ observations following the population model above\n",
    "* No perfect collinearity: In the sample none of the independent variables is constand and there is no exact linear relationship between the independent variables.\n",
    "* Zero conditional mean: The error $u$ has an expected value of zero given any values of hte independent variables. $E(u|x_1,x_2,...,x_k) = 0$\n",
    "* Homoskedasticity: The error $u$ has the same variance given any value of the explanatory variables. $Var(u|x_1,...,x_k) = \\sigma^2$"
   ]
  },
  {
   "cell_type": "code",
   "execution_count": 1,
   "metadata": {},
   "outputs": [],
   "source": [
    "import pandas as pd\n",
    "import numpy as np\n",
    "import statsmodels.api as sm"
   ]
  },
  {
   "cell_type": "code",
   "execution_count": 2,
   "metadata": {},
   "outputs": [
    {
     "name": "stdout",
     "output_type": "stream",
     "text": [
      "                            OLS Regression Results                            \n",
      "==============================================================================\n",
      "Dep. Variable:                  bwght   R-squared:                       0.023\n",
      "Model:                            OLS   Adj. R-squared:                  0.022\n",
      "Method:                 Least Squares   F-statistic:                     32.24\n",
      "Date:                Sun, 24 May 2020   Prob (F-statistic):           1.66e-08\n",
      "Time:                        23:44:49   Log-Likelihood:                -6135.5\n",
      "No. Observations:                1388   AIC:                         1.227e+04\n",
      "Df Residuals:                    1386   BIC:                         1.229e+04\n",
      "Df Model:                           1                                         \n",
      "Covariance Type:            nonrobust                                         \n",
      "==============================================================================\n",
      "                 coef    std err          t      P>|t|      [0.025      0.975]\n",
      "------------------------------------------------------------------------------\n",
      "const        119.7719      0.572    209.267      0.000     118.649     120.895\n",
      "cigs          -0.5138      0.090     -5.678      0.000      -0.691      -0.336\n",
      "==============================================================================\n",
      "Omnibus:                      118.187   Durbin-Watson:                   1.924\n",
      "Prob(Omnibus):                  0.000   Jarque-Bera (JB):              635.742\n",
      "Skew:                          -0.156   Prob(JB):                    8.92e-139\n",
      "Kurtosis:                       6.301   Cond. No.                         6.72\n",
      "==============================================================================\n",
      "\n",
      "Warnings:\n",
      "[1] Standard Errors assume that the covariance matrix of the errors is correctly specified.\n"
     ]
    }
   ],
   "source": [
    "#Exercise C1\n",
    "bwght = pd.read_stata(\"stata/BWGHT.DTA\")\n",
    "\n",
    "y = bwght.bwght\n",
    "X = sm.add_constant(bwght.cigs)\n",
    "\n",
    "model = sm.OLS(y, X).fit()\n",
    "model_summary = model.summary()\n",
    "print(model_summary)"
   ]
  },
  {
   "cell_type": "code",
   "execution_count": 3,
   "metadata": {},
   "outputs": [
    {
     "name": "stdout",
     "output_type": "stream",
     "text": [
      "                            OLS Regression Results                            \n",
      "==============================================================================\n",
      "Dep. Variable:                  bwght   R-squared:                       0.030\n",
      "Model:                            OLS   Adj. R-squared:                  0.028\n",
      "Method:                 Least Squares   F-statistic:                     21.27\n",
      "Date:                Sun, 24 May 2020   Prob (F-statistic):           7.94e-10\n",
      "Time:                        23:44:49   Log-Likelihood:                -6130.4\n",
      "No. Observations:                1388   AIC:                         1.227e+04\n",
      "Df Residuals:                    1385   BIC:                         1.228e+04\n",
      "Df Model:                           2                                         \n",
      "Covariance Type:            nonrobust                                         \n",
      "==============================================================================\n",
      "                 coef    std err          t      P>|t|      [0.025      0.975]\n",
      "------------------------------------------------------------------------------\n",
      "const        116.9741      1.049    111.512      0.000     114.916     119.032\n",
      "cigs          -0.4634      0.092     -5.060      0.000      -0.643      -0.284\n",
      "faminc         0.0928      0.029      3.178      0.002       0.036       0.150\n",
      "==============================================================================\n",
      "Omnibus:                      116.751   Durbin-Watson:                   1.922\n",
      "Prob(Omnibus):                  0.000   Jarque-Bera (JB):              619.781\n",
      "Skew:                          -0.154   Prob(JB):                    2.61e-135\n",
      "Kurtosis:                       6.259   Cond. No.                         67.4\n",
      "==============================================================================\n",
      "\n",
      "Warnings:\n",
      "[1] Standard Errors assume that the covariance matrix of the errors is correctly specified.\n"
     ]
    }
   ],
   "source": [
    "y = bwght.bwght\n",
    "X = bwght[[\"cigs\", \"faminc\"]]\n",
    "X = sm.add_constant(X)\n",
    "\n",
    "model = sm.OLS(y, X).fit()\n",
    "model_summary = model.summary()\n",
    "print(model_summary)"
   ]
  },
  {
   "cell_type": "markdown",
   "metadata": {},
   "source": [
    "C1.i The most likely sign for the family income coefficient is positive\n",
    "\n",
    "C1.ii There are arguments in both directions. Higher income allows for more purchases, but higher income may also indicate higher education or other features that make someone less likely to smoke. If forced, I would believe that family income is negatively correlated\n",
    "\n",
    "C1.iii cigs becomes smaller with the addition of faminc (both the point estimate and teh confidence interval is higher) by about 0.05 (which is a 10% change). The broad strokes may be the same but it is likely better to include faminc."
   ]
  },
  {
   "cell_type": "code",
   "execution_count": 4,
   "metadata": {},
   "outputs": [
    {
     "data": {
      "text/plain": [
       "-0.15076180254312663"
      ]
     },
     "execution_count": 4,
     "metadata": {},
     "output_type": "execute_result"
    }
   ],
   "source": [
    "bwght.cigs.corr(bwght.bwght)"
   ]
  },
  {
   "cell_type": "code",
   "execution_count": 5,
   "metadata": {},
   "outputs": [
    {
     "name": "stdout",
     "output_type": "stream",
     "text": [
      "                            OLS Regression Results                            \n",
      "==============================================================================\n",
      "Dep. Variable:                  price   R-squared:                       0.632\n",
      "Model:                            OLS   Adj. R-squared:                  0.623\n",
      "Method:                 Least Squares   F-statistic:                     72.96\n",
      "Date:                Sun, 24 May 2020   Prob (F-statistic):           3.57e-19\n",
      "Time:                        23:44:49   Log-Likelihood:                -488.00\n",
      "No. Observations:                  88   AIC:                             982.0\n",
      "Df Residuals:                      85   BIC:                             989.4\n",
      "Df Model:                           2                                         \n",
      "Covariance Type:            nonrobust                                         \n",
      "==============================================================================\n",
      "                 coef    std err          t      P>|t|      [0.025      0.975]\n",
      "------------------------------------------------------------------------------\n",
      "const        -19.3150     31.047     -0.622      0.536     -81.044      42.414\n",
      "sqrft          0.1284      0.014      9.291      0.000       0.101       0.156\n",
      "bdrms         15.1982      9.484      1.603      0.113      -3.658      34.054\n",
      "==============================================================================\n",
      "Omnibus:                       25.221   Durbin-Watson:                   1.858\n",
      "Prob(Omnibus):                  0.000   Jarque-Bera (JB):               44.973\n",
      "Skew:                           1.122   Prob(JB):                     1.72e-10\n",
      "Kurtosis:                       5.689   Cond. No.                     9.85e+03\n",
      "==============================================================================\n",
      "\n",
      "Warnings:\n",
      "[1] Standard Errors assume that the covariance matrix of the errors is correctly specified.\n",
      "[2] The condition number is large, 9.85e+03. This might indicate that there are\n",
      "strong multicollinearity or other numerical problems.\n"
     ]
    }
   ],
   "source": [
    "#Exercise C2\n",
    "hprice1 = pd.read_stata(\"stata/hprice1.dta\")\n",
    "\n",
    "y = hprice1.price\n",
    "X = sm.add_constant(hprice1[[\"sqrft\", \"bdrms\"]])\n",
    "\n",
    "model = sm.OLS(y, X).fit()\n",
    "model_summary = model.summary()\n",
    "print(model_summary)"
   ]
  },
  {
   "cell_type": "code",
   "execution_count": 6,
   "metadata": {},
   "outputs": [
    {
     "data": {
      "text/plain": [
       "33.17926041938294"
      ]
     },
     "execution_count": 6,
     "metadata": {},
     "output_type": "execute_result"
    }
   ],
   "source": [
    "(model.params[1] * 140) + (model.params[2] * 1)"
   ]
  },
  {
   "cell_type": "markdown",
   "metadata": {},
   "source": [
    "C2.i $price = -19.3150 + 0.1284 sqrft + 15.1982 bdrms$ \n",
    "\n",
    "n = 88, r-squared = .632\n",
    "\n",
    "C2.ii 15.1982 (per bedroom) which translates to \\$15,198.20\n",
    "\n",
    "C2.iii The price is now changing in two terms, both positive with a value of \\$33,179.26. This is much larger than in part ii\n",
    "\n",
    "C2.iv 63% of the variation is explained by these two variables\n",
    "\n",
    "C2.v \\\\$354,605.25\n",
    "\n",
    "C2.vi The residual is \\\\$54,605.25, suggesting the buyer underpaid for the house"
   ]
  },
  {
   "cell_type": "code",
   "execution_count": 7,
   "metadata": {},
   "outputs": [
    {
     "name": "stdout",
     "output_type": "stream",
     "text": [
      "                            OLS Regression Results                            \n",
      "==============================================================================\n",
      "Dep. Variable:                lsalary   R-squared:                       0.299\n",
      "Model:                            OLS   Adj. R-squared:                  0.291\n",
      "Method:                 Least Squares   F-statistic:                     37.13\n",
      "Date:                Sun, 24 May 2020   Prob (F-statistic):           3.73e-14\n",
      "Time:                        23:44:49   Log-Likelihood:                -130.56\n",
      "No. Observations:                 177   AIC:                             267.1\n",
      "Df Residuals:                     174   BIC:                             276.6\n",
      "Df Model:                           2                                         \n",
      "Covariance Type:            nonrobust                                         \n",
      "==============================================================================\n",
      "                 coef    std err          t      P>|t|      [0.025      0.975]\n",
      "------------------------------------------------------------------------------\n",
      "const          4.6209      0.254     18.163      0.000       4.119       5.123\n",
      "lsales         0.1621      0.040      4.087      0.000       0.084       0.240\n",
      "lmktval        0.1067      0.050      2.129      0.035       0.008       0.206\n",
      "==============================================================================\n",
      "Omnibus:                       17.241   Durbin-Watson:                   2.092\n",
      "Prob(Omnibus):                  0.000   Jarque-Bera (JB):               63.383\n",
      "Skew:                          -0.038   Prob(JB):                     1.72e-14\n",
      "Kurtosis:                       5.931   Cond. No.                         70.4\n",
      "==============================================================================\n",
      "\n",
      "Warnings:\n",
      "[1] Standard Errors assume that the covariance matrix of the errors is correctly specified.\n"
     ]
    }
   ],
   "source": [
    "#Exercise C3\n",
    "ceosal2 = pd.read_stata(\"stata/CEOSAL2.DTA\")\n",
    "\n",
    "y = ceosal2.lsalary\n",
    "X = sm.add_constant(ceosal2[[\"lsales\", \"lmktval\"]])\n",
    "\n",
    "model = sm.OLS(y, X).fit()\n",
    "model_summary = model.summary()\n",
    "print(model_summary)"
   ]
  },
  {
   "cell_type": "code",
   "execution_count": 8,
   "metadata": {},
   "outputs": [
    {
     "name": "stdout",
     "output_type": "stream",
     "text": [
      "                            OLS Regression Results                            \n",
      "==============================================================================\n",
      "Dep. Variable:                lsalary   R-squared:                       0.299\n",
      "Model:                            OLS   Adj. R-squared:                  0.287\n",
      "Method:                 Least Squares   F-statistic:                     24.64\n",
      "Date:                Sun, 24 May 2020   Prob (F-statistic):           2.53e-13\n",
      "Time:                        23:44:49   Log-Likelihood:                -130.53\n",
      "No. Observations:                 177   AIC:                             269.1\n",
      "Df Residuals:                     173   BIC:                             281.8\n",
      "Df Model:                           3                                         \n",
      "Covariance Type:            nonrobust                                         \n",
      "==============================================================================\n",
      "                 coef    std err          t      P>|t|      [0.025      0.975]\n",
      "------------------------------------------------------------------------------\n",
      "const          4.6869      0.380     12.343      0.000       3.937       5.436\n",
      "lsales         0.1614      0.040      4.043      0.000       0.083       0.240\n",
      "lmktval        0.0975      0.064      1.531      0.128      -0.028       0.223\n",
      "profits     3.566e-05      0.000      0.235      0.815      -0.000       0.000\n",
      "==============================================================================\n",
      "Omnibus:                       17.054   Durbin-Watson:                   2.097\n",
      "Prob(Omnibus):                  0.000   Jarque-Bera (JB):               62.074\n",
      "Skew:                          -0.029   Prob(JB):                     3.32e-14\n",
      "Kurtosis:                       5.901   Cond. No.                     4.52e+03\n",
      "==============================================================================\n",
      "\n",
      "Warnings:\n",
      "[1] Standard Errors assume that the covariance matrix of the errors is correctly specified.\n",
      "[2] The condition number is large, 4.52e+03. This might indicate that there are\n",
      "strong multicollinearity or other numerical problems.\n"
     ]
    }
   ],
   "source": [
    "y = ceosal2.lsalary\n",
    "X = sm.add_constant(ceosal2[[\"lsales\", \"lmktval\", \"profits\"]])\n",
    "\n",
    "model = sm.OLS(y, X).fit()\n",
    "model_summary = model.summary()\n",
    "print(model_summary)"
   ]
  },
  {
   "cell_type": "code",
   "execution_count": 9,
   "metadata": {},
   "outputs": [
    {
     "name": "stdout",
     "output_type": "stream",
     "text": [
      "                            OLS Regression Results                            \n",
      "==============================================================================\n",
      "Dep. Variable:                lsalary   R-squared:                       0.318\n",
      "Model:                            OLS   Adj. R-squared:                  0.302\n",
      "Method:                 Least Squares   F-statistic:                     20.08\n",
      "Date:                Sun, 24 May 2020   Prob (F-statistic):           1.39e-13\n",
      "Time:                        23:44:49   Log-Likelihood:                -128.10\n",
      "No. Observations:                 177   AIC:                             266.2\n",
      "Df Residuals:                     172   BIC:                             282.1\n",
      "Df Model:                           4                                         \n",
      "Covariance Type:            nonrobust                                         \n",
      "==============================================================================\n",
      "                 coef    std err          t      P>|t|      [0.025      0.975]\n",
      "------------------------------------------------------------------------------\n",
      "const          4.5578      0.380     11.986      0.000       3.807       5.308\n",
      "lsales         0.1622      0.039      4.109      0.000       0.084       0.240\n",
      "lmktval        0.1018      0.063      1.614      0.108      -0.023       0.226\n",
      "profits     2.905e-05      0.000      0.193      0.847      -0.000       0.000\n",
      "ceoten         0.0117      0.005      2.187      0.030       0.001       0.022\n",
      "==============================================================================\n",
      "Omnibus:                       25.236   Durbin-Watson:                   2.047\n",
      "Prob(Omnibus):                  0.000   Jarque-Bera (JB):              121.011\n",
      "Skew:                          -0.281   Prob(JB):                     5.28e-27\n",
      "Kurtosis:                       7.012   Cond. No.                     4.57e+03\n",
      "==============================================================================\n",
      "\n",
      "Warnings:\n",
      "[1] Standard Errors assume that the covariance matrix of the errors is correctly specified.\n",
      "[2] The condition number is large, 4.57e+03. This might indicate that there are\n",
      "strong multicollinearity or other numerical problems.\n"
     ]
    }
   ],
   "source": [
    "y = ceosal2.lsalary\n",
    "X = sm.add_constant(ceosal2[[\"lsales\", \"lmktval\", \"profits\", \"ceoten\"]])\n",
    "\n",
    "model = sm.OLS(y, X).fit()\n",
    "model_summary = model.summary()\n",
    "print(model_summary)"
   ]
  },
  {
   "cell_type": "code",
   "execution_count": 10,
   "metadata": {},
   "outputs": [
    {
     "data": {
      "text/plain": [
       "0.7768975920312076"
      ]
     },
     "execution_count": 10,
     "metadata": {},
     "output_type": "execute_result"
    }
   ],
   "source": [
    "ceosal2.lmktval.corr(ceosal2.profits)"
   ]
  },
  {
   "cell_type": "markdown",
   "metadata": {},
   "source": [
    "C3.i $log(salary) = 4.6209 + 0.1621 log(sales) + 0.1067 log(mktval)$\n",
    "\n",
    "n = 177, r-squared = 0.299\n",
    "\n",
    "C3.ii The variable cannot be added since profits can be 0 or negative. These variables only explain about 30% of CEO salary and the coefficient on profits is very small.\n",
    "\n",
    "C3.iii Another year of CEO tenure adds 1.2% to salary\n",
    "\n",
    "C3.iv The correlation coefficient is 0.7769 we would expect the variance of profits and log market value to be higher, but the standard errors in both regressions seem to be rather small."
   ]
  },
  {
   "cell_type": "code",
   "execution_count": 11,
   "metadata": {},
   "outputs": [
    {
     "name": "stdout",
     "output_type": "stream",
     "text": [
      "atndrte     6.250\n",
      "priGPA      0.857\n",
      "ACT        13.000\n",
      "dtype: float32\n",
      "atndrte    100.00\n",
      "priGPA       3.93\n",
      "ACT         32.00\n",
      "dtype: float32\n",
      "atndrte    81.709557\n",
      "priGPA      2.586776\n",
      "ACT        22.510294\n",
      "dtype: float32\n"
     ]
    }
   ],
   "source": [
    "#Exercise C3\n",
    "attend = pd.read_stata(\"stata/attend.dta\")\n",
    "\n",
    "print(attend[[\"atndrte\", \"priGPA\", \"ACT\"]].min())\n",
    "print(attend[[\"atndrte\", \"priGPA\", \"ACT\"]].max())\n",
    "print(attend[[\"atndrte\", \"priGPA\", \"ACT\"]].mean())"
   ]
  },
  {
   "cell_type": "code",
   "execution_count": 12,
   "metadata": {},
   "outputs": [
    {
     "name": "stdout",
     "output_type": "stream",
     "text": [
      "                            OLS Regression Results                            \n",
      "==============================================================================\n",
      "Dep. Variable:                atndrte   R-squared:                       0.291\n",
      "Model:                            OLS   Adj. R-squared:                  0.288\n",
      "Method:                 Least Squares   F-statistic:                     138.7\n",
      "Date:                Sun, 24 May 2020   Prob (F-statistic):           3.39e-51\n",
      "Time:                        23:44:49   Log-Likelihood:                -2776.1\n",
      "No. Observations:                 680   AIC:                             5558.\n",
      "Df Residuals:                     677   BIC:                             5572.\n",
      "Df Model:                           2                                         \n",
      "Covariance Type:            nonrobust                                         \n",
      "==============================================================================\n",
      "                 coef    std err          t      P>|t|      [0.025      0.975]\n",
      "------------------------------------------------------------------------------\n",
      "const         75.7004      3.884     19.490      0.000      68.074      83.327\n",
      "priGPA        17.2606      1.083     15.936      0.000      15.134      19.387\n",
      "ACT           -1.7166      0.169    -10.156      0.000      -2.048      -1.385\n",
      "==============================================================================\n",
      "Omnibus:                      126.367   Durbin-Watson:                   2.011\n",
      "Prob(Omnibus):                  0.000   Jarque-Bera (JB):              237.444\n",
      "Skew:                          -1.079   Prob(JB):                     2.75e-52\n",
      "Kurtosis:                       4.929   Cond. No.                         163.\n",
      "==============================================================================\n",
      "\n",
      "Warnings:\n",
      "[1] Standard Errors assume that the covariance matrix of the errors is correctly specified.\n"
     ]
    }
   ],
   "source": [
    "y = attend.atndrte\n",
    "X = sm.add_constant(attend[[\"priGPA\", \"ACT\"]])\n",
    "\n",
    "model = sm.OLS(y, X).fit()\n",
    "model_summary = model.summary()\n",
    "print(model_summary)"
   ]
  },
  {
   "cell_type": "code",
   "execution_count": 13,
   "metadata": {},
   "outputs": [
    {
     "name": "stdout",
     "output_type": "stream",
     "text": [
      "0    104.370504\n",
      "1     93.160625\n",
      "2     67.317270\n",
      "dtype: float64\n"
     ]
    }
   ],
   "source": [
    "X_p = pd.DataFrame({\"const\" : [1.0, 1.0, 1.0], \"priGPA\" : [3.65, 3.1, 2.1], \"ACT\": [20, 21, 26]})\n",
    "print(model.predict(exog=X_p))"
   ]
  },
  {
   "cell_type": "markdown",
   "metadata": {},
   "source": [
    "C4.i MIN: atndrte 6.250, priGPA 0.857, ACT 13.000; MAX: atndrte 100, priGPA 3.93, ACT 32.00; MEAN: atndrte 81.71, priGPA 2.59, ACT 22.51\n",
    "\n",
    "C4.ii The 'base' attendance of students prior to grades is 75%\n",
    "\n",
    "C4.iii It is surprising ACT has a negative association with attendance\n",
    "\n",
    "C4.iv ACT is lower than a realized value meaning predicted attendance is greater than 100%\n",
    "\n",
    "C4.v The gap is wider than expected because of the negative coefficient for ACT. The predicted difference is about 25."
   ]
  },
  {
   "cell_type": "code",
   "execution_count": 14,
   "metadata": {},
   "outputs": [
    {
     "name": "stdout",
     "output_type": "stream",
     "text": [
      "                            OLS Regression Results                            \n",
      "==============================================================================\n",
      "Dep. Variable:                   educ   R-squared:                       0.101\n",
      "Model:                            OLS   Adj. R-squared:                  0.098\n",
      "Method:                 Least Squares   F-statistic:                     29.49\n",
      "Date:                Sun, 24 May 2020   Prob (F-statistic):           7.33e-13\n",
      "Time:                        23:44:49   Log-Likelihood:                -1253.5\n",
      "No. Observations:                 526   AIC:                             2513.\n",
      "Df Residuals:                     523   BIC:                             2526.\n",
      "Df Model:                           2                                         \n",
      "Covariance Type:            nonrobust                                         \n",
      "==============================================================================\n",
      "                 coef    std err          t      P>|t|      [0.025      0.975]\n",
      "------------------------------------------------------------------------------\n",
      "const         13.5750      0.184     73.647      0.000      13.213      13.937\n",
      "exper         -0.0738      0.010     -7.559      0.000      -0.093      -0.055\n",
      "tenure         0.0477      0.018      2.600      0.010       0.012       0.084\n",
      "==============================================================================\n",
      "Omnibus:                       32.728   Durbin-Watson:                   1.870\n",
      "Prob(Omnibus):                  0.000   Jarque-Bera (JB):               50.164\n",
      "Skew:                          -0.465   Prob(JB):                     1.28e-11\n",
      "Kurtosis:                       4.193   Cond. No.                         36.5\n",
      "==============================================================================\n",
      "\n",
      "Warnings:\n",
      "[1] Standard Errors assume that the covariance matrix of the errors is correctly specified.\n",
      "                            OLS Regression Results                            \n",
      "==============================================================================\n",
      "Dep. Variable:                  lwage   R-squared:                       0.207\n",
      "Model:                            OLS   Adj. R-squared:                  0.205\n",
      "Method:                 Least Squares   F-statistic:                     136.4\n",
      "Date:                Sun, 24 May 2020   Prob (F-statistic):           3.59e-28\n",
      "Time:                        23:44:49   Log-Likelihood:                -352.59\n",
      "No. Observations:                 526   AIC:                             709.2\n",
      "Df Residuals:                     524   BIC:                             717.7\n",
      "Df Model:                           1                                         \n",
      "Covariance Type:            nonrobust                                         \n",
      "==============================================================================\n",
      "                 coef    std err          t      P>|t|      [0.025      0.975]\n",
      "------------------------------------------------------------------------------\n",
      "const          1.6233      0.021     78.555      0.000       1.583       1.664\n",
      "0              0.0920      0.008     11.679      0.000       0.077       0.108\n",
      "==============================================================================\n",
      "Omnibus:                       11.448   Durbin-Watson:                   1.800\n",
      "Prob(Omnibus):                  0.003   Jarque-Bera (JB):               13.191\n",
      "Skew:                           0.267   Prob(JB):                      0.00137\n",
      "Kurtosis:                       3.562   Cond. No.                         2.62\n",
      "==============================================================================\n",
      "\n",
      "Warnings:\n",
      "[1] Standard Errors assume that the covariance matrix of the errors is correctly specified.\n"
     ]
    }
   ],
   "source": [
    "#Exercise C5\n",
    "wage1 = pd.read_stata(\"stata/WAGE1.DTA\")\n",
    "\n",
    "y = wage1.educ\n",
    "X = sm.add_constant(wage1[[\"exper\", \"tenure\"]])\n",
    "model = sm.OLS(y, X).fit()\n",
    "resid = model.resid\n",
    "model_summary = model.summary()\n",
    "print(model_summary)\n",
    "\n",
    "y = wage1.lwage\n",
    "X = sm.add_constant(resid)\n",
    "model = sm.OLS(y, X).fit()\n",
    "model_summary = model.summary()\n",
    "print(model_summary)"
   ]
  },
  {
   "cell_type": "code",
   "execution_count": 15,
   "metadata": {},
   "outputs": [
    {
     "name": "stdout",
     "output_type": "stream",
     "text": [
      "                            OLS Regression Results                            \n",
      "==============================================================================\n",
      "Dep. Variable:                     IQ   R-squared:                       0.266\n",
      "Model:                            OLS   Adj. R-squared:                  0.265\n",
      "Method:                 Least Squares   F-statistic:                     338.0\n",
      "Date:                Sun, 24 May 2020   Prob (F-statistic):           1.16e-64\n",
      "Time:                        23:44:49   Log-Likelihood:                -3717.0\n",
      "No. Observations:                 935   AIC:                             7438.\n",
      "Df Residuals:                     933   BIC:                             7448.\n",
      "Df Model:                           1                                         \n",
      "Covariance Type:            nonrobust                                         \n",
      "==============================================================================\n",
      "                 coef    std err          t      P>|t|      [0.025      0.975]\n",
      "------------------------------------------------------------------------------\n",
      "const         53.6872      2.623     20.468      0.000      48.540      58.835\n",
      "educ           3.5338      0.192     18.385      0.000       3.157       3.911\n",
      "==============================================================================\n",
      "Omnibus:                       30.954   Durbin-Watson:                   1.779\n",
      "Prob(Omnibus):                  0.000   Jarque-Bera (JB):               35.266\n",
      "Skew:                          -0.398   Prob(JB):                     2.20e-08\n",
      "Kurtosis:                       3.522   Cond. No.                         85.3\n",
      "==============================================================================\n",
      "\n",
      "Warnings:\n",
      "[1] Standard Errors assume that the covariance matrix of the errors is correctly specified.\n"
     ]
    }
   ],
   "source": [
    "#Exercise C6\n",
    "wage2 = pd.read_stata(\"stata/WAGE2.DTA\")\n",
    "\n",
    "y = wage2.IQ\n",
    "X = sm.add_constant(wage2.educ)\n",
    "model = sm.OLS(y, X).fit()\n",
    "model_summary = model.summary()\n",
    "print(model_summary)"
   ]
  },
  {
   "cell_type": "code",
   "execution_count": 16,
   "metadata": {},
   "outputs": [
    {
     "name": "stdout",
     "output_type": "stream",
     "text": [
      "                            OLS Regression Results                            \n",
      "==============================================================================\n",
      "Dep. Variable:                  lwage   R-squared:                       0.097\n",
      "Model:                            OLS   Adj. R-squared:                  0.096\n",
      "Method:                 Least Squares   F-statistic:                     100.7\n",
      "Date:                Sun, 24 May 2020   Prob (F-statistic):           1.42e-22\n",
      "Time:                        23:44:49   Log-Likelihood:                -469.72\n",
      "No. Observations:                 935   AIC:                             943.4\n",
      "Df Residuals:                     933   BIC:                             953.1\n",
      "Df Model:                           1                                         \n",
      "Covariance Type:            nonrobust                                         \n",
      "==============================================================================\n",
      "                 coef    std err          t      P>|t|      [0.025      0.975]\n",
      "------------------------------------------------------------------------------\n",
      "const          5.9731      0.081     73.403      0.000       5.813       6.133\n",
      "educ           0.0598      0.006     10.035      0.000       0.048       0.072\n",
      "==============================================================================\n",
      "Omnibus:                       31.006   Durbin-Watson:                   1.779\n",
      "Prob(Omnibus):                  0.000   Jarque-Bera (JB):               37.262\n",
      "Skew:                          -0.375   Prob(JB):                     8.10e-09\n",
      "Kurtosis:                       3.627   Cond. No.                         85.3\n",
      "==============================================================================\n",
      "\n",
      "Warnings:\n",
      "[1] Standard Errors assume that the covariance matrix of the errors is correctly specified.\n"
     ]
    }
   ],
   "source": [
    "y = wage2.lwage\n",
    "X = sm.add_constant(wage2.educ)\n",
    "model = sm.OLS(y, X).fit()\n",
    "model_summary = model.summary()\n",
    "print(model_summary)"
   ]
  },
  {
   "cell_type": "code",
   "execution_count": 17,
   "metadata": {},
   "outputs": [
    {
     "name": "stdout",
     "output_type": "stream",
     "text": [
      "                            OLS Regression Results                            \n",
      "==============================================================================\n",
      "Dep. Variable:                  lwage   R-squared:                       0.130\n",
      "Model:                            OLS   Adj. R-squared:                  0.128\n",
      "Method:                 Least Squares   F-statistic:                     69.42\n",
      "Date:                Sun, 24 May 2020   Prob (F-statistic):           7.88e-29\n",
      "Time:                        23:44:49   Log-Likelihood:                -452.72\n",
      "No. Observations:                 935   AIC:                             911.4\n",
      "Df Residuals:                     932   BIC:                             926.0\n",
      "Df Model:                           2                                         \n",
      "Covariance Type:            nonrobust                                         \n",
      "==============================================================================\n",
      "                 coef    std err          t      P>|t|      [0.025      0.975]\n",
      "------------------------------------------------------------------------------\n",
      "const          5.6583      0.096     58.793      0.000       5.469       5.847\n",
      "educ           0.0391      0.007      5.721      0.000       0.026       0.053\n",
      "IQ             0.0059      0.001      5.875      0.000       0.004       0.008\n",
      "==============================================================================\n",
      "Omnibus:                       35.757   Durbin-Watson:                   1.810\n",
      "Prob(Omnibus):                  0.000   Jarque-Bera (JB):               47.770\n",
      "Skew:                          -0.376   Prob(JB):                     4.23e-11\n",
      "Kurtosis:                       3.813   Cond. No.                         773.\n",
      "==============================================================================\n",
      "\n",
      "Warnings:\n",
      "[1] Standard Errors assume that the covariance matrix of the errors is correctly specified.\n"
     ]
    }
   ],
   "source": [
    "y = wage2.lwage\n",
    "X = sm.add_constant(wage2[[\"educ\", \"IQ\"]])\n",
    "model = sm.OLS(y, X).fit()\n",
    "model_summary = model.summary()\n",
    "print(model_summary)"
   ]
  },
  {
   "cell_type": "code",
   "execution_count": 18,
   "metadata": {},
   "outputs": [
    {
     "data": {
      "text/plain": [
       "0.05994942"
      ]
     },
     "execution_count": 18,
     "metadata": {},
     "output_type": "execute_result"
    }
   ],
   "source": [
    "0.0391 + (0.0059 * 3.5338)"
   ]
  },
  {
   "cell_type": "markdown",
   "metadata": {},
   "source": [
    "C6.i-iv Results are reported above. Final value is not identical but very close"
   ]
  },
  {
   "cell_type": "code",
   "execution_count": 19,
   "metadata": {},
   "outputs": [
    {
     "name": "stdout",
     "output_type": "stream",
     "text": [
      "                            OLS Regression Results                            \n",
      "==============================================================================\n",
      "Dep. Variable:                 math10   R-squared:                       0.180\n",
      "Model:                            OLS   Adj. R-squared:                  0.176\n",
      "Method:                 Least Squares   F-statistic:                     44.43\n",
      "Date:                Sun, 24 May 2020   Prob (F-statistic):           3.59e-18\n",
      "Time:                        23:44:49   Log-Likelihood:                -1497.1\n",
      "No. Observations:                 408   AIC:                             3000.\n",
      "Df Residuals:                     405   BIC:                             3012.\n",
      "Df Model:                           2                                         \n",
      "Covariance Type:            nonrobust                                         \n",
      "==============================================================================\n",
      "                 coef    std err          t      P>|t|      [0.025      0.975]\n",
      "------------------------------------------------------------------------------\n",
      "const        -20.3607     25.073     -0.812      0.417     -69.650      28.928\n",
      "lexpend        6.2297      2.973      2.096      0.037       0.386      12.073\n",
      "lnchprg       -0.3046      0.035     -8.614      0.000      -0.374      -0.235\n",
      "==============================================================================\n",
      "Omnibus:                       52.915   Durbin-Watson:                   1.903\n",
      "Prob(Omnibus):                  0.000   Jarque-Bera (JB):               83.720\n",
      "Skew:                           0.816   Prob(JB):                     6.61e-19\n",
      "Kurtosis:                       4.504   Cond. No.                     1.58e+03\n",
      "==============================================================================\n",
      "\n",
      "Warnings:\n",
      "[1] Standard Errors assume that the covariance matrix of the errors is correctly specified.\n",
      "[2] The condition number is large, 1.58e+03. This might indicate that there are\n",
      "strong multicollinearity or other numerical problems.\n"
     ]
    }
   ],
   "source": [
    "#Exercise C7\n",
    "meap93 = pd.read_stata(\"stata/MEAP93.DTA\")\n",
    "\n",
    "y = meap93.math10\n",
    "X = sm.add_constant(meap93[[\"lexpend\", \"lnchprg\"]])\n",
    "model = sm.OLS(y, X).fit()\n",
    "model_summary = model.summary()\n",
    "print(model_summary)"
   ]
  },
  {
   "cell_type": "code",
   "execution_count": 20,
   "metadata": {},
   "outputs": [
    {
     "name": "stdout",
     "output_type": "stream",
     "text": [
      "                            OLS Regression Results                            \n",
      "==============================================================================\n",
      "Dep. Variable:                 math10   R-squared:                       0.030\n",
      "Model:                            OLS   Adj. R-squared:                  0.027\n",
      "Method:                 Least Squares   F-statistic:                     12.41\n",
      "Date:                Sun, 24 May 2020   Prob (F-statistic):           0.000475\n",
      "Time:                        23:44:49   Log-Likelihood:                -1531.4\n",
      "No. Observations:                 408   AIC:                             3067.\n",
      "Df Residuals:                     406   BIC:                             3075.\n",
      "Df Model:                           1                                         \n",
      "Covariance Type:            nonrobust                                         \n",
      "==============================================================================\n",
      "                 coef    std err          t      P>|t|      [0.025      0.975]\n",
      "------------------------------------------------------------------------------\n",
      "const        -69.3411     26.530     -2.614      0.009    -121.495     -17.188\n",
      "lexpend       11.1644      3.169      3.523      0.000       4.935      17.394\n",
      "==============================================================================\n",
      "Omnibus:                       28.397   Durbin-Watson:                   1.615\n",
      "Prob(Omnibus):                  0.000   Jarque-Bera (JB):               34.609\n",
      "Skew:                           0.591   Prob(JB):                     3.05e-08\n",
      "Kurtosis:                       3.800   Cond. No.                         440.\n",
      "==============================================================================\n",
      "\n",
      "Warnings:\n",
      "[1] Standard Errors assume that the covariance matrix of the errors is correctly specified.\n"
     ]
    }
   ],
   "source": [
    "y = meap93.math10\n",
    "X = sm.add_constant(meap93.lexpend)\n",
    "model = sm.OLS(y, X).fit()\n",
    "model_summary = model.summary()\n",
    "print(model_summary)"
   ]
  },
  {
   "cell_type": "code",
   "execution_count": 21,
   "metadata": {},
   "outputs": [
    {
     "data": {
      "text/plain": [
       "-0.19270421154972464"
      ]
     },
     "execution_count": 21,
     "metadata": {},
     "output_type": "execute_result"
    }
   ],
   "source": [
    "meap93.lexpend.corr(meap93.lnchprg)"
   ]
  },
  {
   "cell_type": "markdown",
   "metadata": {},
   "source": [
    "C7.i A negative sign for the lunch program is unexpected, since this would be expected to be positive or at least irrelevant unless it's considered a proxy for poverty\n",
    "\n",
    "C7.ii The intercept reflects the fact that there will be some base level (that is, both values won't be 0). Even with the log, it does not make sense to set both to 0 since it will still produce a negative score\n",
    "\n",
    "C7.iii Estimated effect of expenditure is now larger\n",
    "\n",
    "C7.iv There is a negative correlation between log expenditure and a lunch program. This could make sense in that some spending is diverted to the lunch program or that lunch programs are found in less affluent school districts\n",
    "\n",
    "C7.v The lunch program has a negative coefficient and a negative correlation with log expenditure, hence we would expect expenditure to be biased upward (as illustrated in table 3.2)"
   ]
  },
  {
   "cell_type": "code",
   "execution_count": 22,
   "metadata": {},
   "outputs": [
    {
     "name": "stdout",
     "output_type": "stream",
     "text": [
      "prpblck        0.113487\n",
      "income     47053.789062\n",
      "dtype: float32\n",
      "prpblck        0.182416\n",
      "income     13179.288086\n",
      "dtype: float32\n"
     ]
    }
   ],
   "source": [
    "#Exercise C8\n",
    "discrim = pd.read_stata(\"stata/discrim.dta\")\n",
    "\n",
    "print(discrim[[\"prpblck\", \"income\"]].mean())\n",
    "print(discrim[[\"prpblck\", \"income\"]].std())"
   ]
  },
  {
   "cell_type": "code",
   "execution_count": 23,
   "metadata": {},
   "outputs": [
    {
     "name": "stdout",
     "output_type": "stream",
     "text": [
      "                            OLS Regression Results                            \n",
      "==============================================================================\n",
      "Dep. Variable:                  psoda   R-squared:                       0.064\n",
      "Model:                            OLS   Adj. R-squared:                  0.060\n",
      "Method:                 Least Squares   F-statistic:                     13.66\n",
      "Date:                Sun, 24 May 2020   Prob (F-statistic):           1.83e-06\n",
      "Time:                        23:44:50   Log-Likelihood:                 415.79\n",
      "No. Observations:                 401   AIC:                            -825.6\n",
      "Df Residuals:                     398   BIC:                            -813.6\n",
      "Df Model:                           2                                         \n",
      "Covariance Type:            nonrobust                                         \n",
      "==============================================================================\n",
      "                 coef    std err          t      P>|t|      [0.025      0.975]\n",
      "------------------------------------------------------------------------------\n",
      "const          0.9563      0.019     50.354      0.000       0.919       0.994\n",
      "prpblck        0.1150      0.026      4.423      0.000       0.064       0.166\n",
      "income      1.603e-06   3.62e-07      4.430      0.000    8.91e-07    2.31e-06\n",
      "==============================================================================\n",
      "Omnibus:                       30.419   Durbin-Watson:                   1.688\n",
      "Prob(Omnibus):                  0.000   Jarque-Bera (JB):               68.506\n",
      "Skew:                           0.394   Prob(JB):                     1.33e-15\n",
      "Kurtosis:                       4.866   Cond. No.                     3.27e+05\n",
      "==============================================================================\n",
      "\n",
      "Warnings:\n",
      "[1] Standard Errors assume that the covariance matrix of the errors is correctly specified.\n",
      "[2] The condition number is large, 3.27e+05. This might indicate that there are\n",
      "strong multicollinearity or other numerical problems.\n"
     ]
    }
   ],
   "source": [
    "discrim_reg = discrim[[\"psoda\", \"prpblck\", \"income\"]].dropna() # We make a special data set for the regeression so we don't drop na values for variables we are not using\n",
    "\n",
    "y = discrim_reg.psoda\n",
    "X = sm.add_constant(discrim_reg[[\"prpblck\", \"income\"]])\n",
    "model = sm.OLS(y, X).fit()\n",
    "model_summary = model.summary()\n",
    "print(model_summary)"
   ]
  },
  {
   "cell_type": "code",
   "execution_count": 24,
   "metadata": {},
   "outputs": [
    {
     "name": "stdout",
     "output_type": "stream",
     "text": [
      "                            OLS Regression Results                            \n",
      "==============================================================================\n",
      "Dep. Variable:                  psoda   R-squared:                       0.018\n",
      "Model:                            OLS   Adj. R-squared:                  0.016\n",
      "Method:                 Least Squares   F-statistic:                     7.345\n",
      "Date:                Sun, 24 May 2020   Prob (F-statistic):            0.00702\n",
      "Time:                        23:44:50   Log-Likelihood:                 406.14\n",
      "No. Observations:                 401   AIC:                            -808.3\n",
      "Df Residuals:                     399   BIC:                            -800.3\n",
      "Df Model:                           1                                         \n",
      "Covariance Type:            nonrobust                                         \n",
      "==============================================================================\n",
      "                 coef    std err          t      P>|t|      [0.025      0.975]\n",
      "------------------------------------------------------------------------------\n",
      "const          1.0374      0.005    199.867      0.000       1.027       1.048\n",
      "prpblck        0.0649      0.024      2.710      0.007       0.018       0.112\n",
      "==============================================================================\n",
      "Omnibus:                       27.289   Durbin-Watson:                   1.606\n",
      "Prob(Omnibus):                  0.000   Jarque-Bera (JB):               57.084\n",
      "Skew:                           0.373   Prob(JB):                     4.02e-13\n",
      "Kurtosis:                       4.691   Cond. No.                         5.52\n",
      "==============================================================================\n",
      "\n",
      "Warnings:\n",
      "[1] Standard Errors assume that the covariance matrix of the errors is correctly specified.\n"
     ]
    }
   ],
   "source": [
    "discrim_reg = discrim[[\"psoda\", \"prpblck\"]].dropna()\n",
    "\n",
    "y = discrim_reg.psoda\n",
    "X = sm.add_constant(discrim_reg.prpblck)\n",
    "model = sm.OLS(y, X).fit()\n",
    "model_summary = model.summary()\n",
    "print(model_summary)"
   ]
  },
  {
   "cell_type": "code",
   "execution_count": 25,
   "metadata": {},
   "outputs": [
    {
     "name": "stdout",
     "output_type": "stream",
     "text": [
      "                            OLS Regression Results                            \n",
      "==============================================================================\n",
      "Dep. Variable:                 lpsoda   R-squared:                       0.068\n",
      "Model:                            OLS   Adj. R-squared:                  0.063\n",
      "Method:                 Least Squares   F-statistic:                     14.54\n",
      "Date:                Sun, 24 May 2020   Prob (F-statistic):           8.04e-07\n",
      "Time:                        23:44:50   Log-Likelihood:                 434.93\n",
      "No. Observations:                 401   AIC:                            -863.9\n",
      "Df Residuals:                     398   BIC:                            -851.9\n",
      "Df Model:                           2                                         \n",
      "Covariance Type:            nonrobust                                         \n",
      "==============================================================================\n",
      "                 coef    std err          t      P>|t|      [0.025      0.975]\n",
      "------------------------------------------------------------------------------\n",
      "const         -0.7938      0.179     -4.424      0.000      -1.147      -0.441\n",
      "prpblck        0.1216      0.026      4.722      0.000       0.071       0.172\n",
      "lincome        0.0765      0.017      4.610      0.000       0.044       0.109\n",
      "==============================================================================\n",
      "Omnibus:                       12.983   Durbin-Watson:                   1.687\n",
      "Prob(Omnibus):                  0.002   Jarque-Bera (JB):               27.028\n",
      "Skew:                          -0.038   Prob(JB):                     1.35e-06\n",
      "Kurtosis:                       4.270   Cond. No.                         475.\n",
      "==============================================================================\n",
      "\n",
      "Warnings:\n",
      "[1] Standard Errors assume that the covariance matrix of the errors is correctly specified.\n"
     ]
    }
   ],
   "source": [
    "discrim_reg = discrim[[\"lpsoda\", \"prpblck\", \"lincome\"]].dropna()\n",
    "\n",
    "y = discrim_reg.lpsoda\n",
    "X = sm.add_constant(discrim_reg[[\"prpblck\", \"lincome\"]])\n",
    "model = sm.OLS(y, X).fit()\n",
    "model_summary = model.summary()\n",
    "print(model_summary)"
   ]
  },
  {
   "cell_type": "code",
   "execution_count": 26,
   "metadata": {},
   "outputs": [
    {
     "name": "stdout",
     "output_type": "stream",
     "text": [
      "                            OLS Regression Results                            \n",
      "==============================================================================\n",
      "Dep. Variable:                  psoda   R-squared:                       0.069\n",
      "Model:                            OLS   Adj. R-squared:                  0.062\n",
      "Method:                 Least Squares   F-statistic:                     9.764\n",
      "Date:                Sun, 24 May 2020   Prob (F-statistic):           3.15e-06\n",
      "Time:                        23:44:50   Log-Likelihood:                 416.76\n",
      "No. Observations:                 401   AIC:                            -825.5\n",
      "Df Residuals:                     397   BIC:                            -809.5\n",
      "Df Model:                           3                                         \n",
      "Covariance Type:            nonrobust                                         \n",
      "==============================================================================\n",
      "                 coef    std err          t      P>|t|      [0.025      0.975]\n",
      "------------------------------------------------------------------------------\n",
      "const          0.9278      0.028     33.147      0.000       0.873       0.983\n",
      "prpblck        0.0889      0.032      2.769      0.006       0.026       0.152\n",
      "income      2.032e-06   4.76e-07      4.266      0.000     1.1e-06    2.97e-06\n",
      "prppov         0.1575      0.114      1.384      0.167      -0.066       0.381\n",
      "==============================================================================\n",
      "Omnibus:                       30.778   Durbin-Watson:                   1.701\n",
      "Prob(Omnibus):                  0.000   Jarque-Bera (JB):               68.871\n",
      "Skew:                           0.401   Prob(JB):                     1.11e-15\n",
      "Kurtosis:                       4.865   Cond. No.                     1.33e+06\n",
      "==============================================================================\n",
      "\n",
      "Warnings:\n",
      "[1] Standard Errors assume that the covariance matrix of the errors is correctly specified.\n",
      "[2] The condition number is large, 1.33e+06. This might indicate that there are\n",
      "strong multicollinearity or other numerical problems.\n"
     ]
    }
   ],
   "source": [
    "discrim_reg = discrim[[\"psoda\", \"prpblck\", \"income\", \"prppov\"]].dropna()\n",
    "\n",
    "y = discrim_reg.psoda\n",
    "X = sm.add_constant(discrim_reg[[\"prpblck\", \"income\", \"prppov\"]])\n",
    "model = sm.OLS(y, X).fit()\n",
    "model_summary = model.summary()\n",
    "print(model_summary)"
   ]
  },
  {
   "cell_type": "code",
   "execution_count": 27,
   "metadata": {},
   "outputs": [
    {
     "data": {
      "text/plain": [
       "-0.8384669885470057"
      ]
     },
     "execution_count": 27,
     "metadata": {},
     "output_type": "execute_result"
    }
   ],
   "source": [
    "discrim.lincome.corr(discrim.prppov)"
   ]
  },
  {
   "cell_type": "markdown",
   "metadata": {},
   "source": [
    "C8.i Averages are reported at start of Exercise 8 cells\n",
    "\n",
    "C8.ii This is the change in price for the perfent population of blacks. This seems high given that it is a percentage (meaning there will potentially be 0 and 100% communities)\n",
    "\n",
    "C8.iii The discrimination effect is higher when controlling for income\n",
    "\n",
    "C8.iv 2.44 percent\n",
    "\n",
    "C8.v The estimate goes down.\n",
    "\n",
    "C8.vi The two variables are highly correlated and negative. This is expected since poverty should mean lower incomes\n",
    "\n",
    "C8.vii Since our interest is in the price discrimination (prpblck), the fact that income and prppov are correlated has no bearing on our ability to estimate what we are looking for."
   ]
  },
  {
   "cell_type": "code",
   "execution_count": 28,
   "metadata": {},
   "outputs": [
    {
     "name": "stdout",
     "output_type": "stream",
     "text": [
      "                            OLS Regression Results                            \n",
      "==============================================================================\n",
      "Dep. Variable:                   gift   R-squared:                       0.083\n",
      "Model:                            OLS   Adj. R-squared:                  0.083\n",
      "Method:                 Least Squares   F-statistic:                     129.3\n",
      "Date:                Sun, 24 May 2020   Prob (F-statistic):           3.86e-80\n",
      "Time:                        23:44:50   Log-Likelihood:                -17446.\n",
      "No. Observations:                4268   AIC:                         3.490e+04\n",
      "Df Residuals:                    4264   BIC:                         3.492e+04\n",
      "Df Model:                           3                                         \n",
      "Covariance Type:            nonrobust                                         \n",
      "==============================================================================\n",
      "                 coef    std err          t      P>|t|      [0.025      0.975]\n",
      "------------------------------------------------------------------------------\n",
      "const         -4.5515      0.803     -5.668      0.000      -6.126      -2.977\n",
      "mailsyear      2.1663      0.332      6.526      0.000       1.516       2.817\n",
      "giftlast       0.0059      0.001      4.138      0.000       0.003       0.009\n",
      "propresp      15.3586      0.875     17.562      0.000      13.644      17.073\n",
      "==============================================================================\n",
      "Omnibus:                     5103.126   Durbin-Watson:                   1.667\n",
      "Prob(Omnibus):                  0.000   Jarque-Bera (JB):           941920.719\n",
      "Skew:                           6.166   Prob(JB):                         0.00\n",
      "Kurtosis:                      74.726   Cond. No.                         721.\n",
      "==============================================================================\n",
      "\n",
      "Warnings:\n",
      "[1] Standard Errors assume that the covariance matrix of the errors is correctly specified.\n"
     ]
    }
   ],
   "source": [
    "#Exercise C9\n",
    "charity = pd.read_stata(\"stata/charity.dta\")\n",
    "\n",
    "y = charity.gift\n",
    "X = sm.add_constant(charity[[\"mailsyear\", \"giftlast\", \"propresp\"]])\n",
    "model = sm.OLS(y, X).fit()\n",
    "model_summary = model.summary()\n",
    "print(model_summary)"
   ]
  },
  {
   "cell_type": "code",
   "execution_count": 29,
   "metadata": {},
   "outputs": [
    {
     "name": "stdout",
     "output_type": "stream",
     "text": [
      "                            OLS Regression Results                            \n",
      "==============================================================================\n",
      "Dep. Variable:                   gift   R-squared:                       0.014\n",
      "Model:                            OLS   Adj. R-squared:                  0.014\n",
      "Method:                 Least Squares   F-statistic:                     59.65\n",
      "Date:                Sun, 24 May 2020   Prob (F-statistic):           1.40e-14\n",
      "Time:                        23:44:50   Log-Likelihood:                -17602.\n",
      "No. Observations:                4268   AIC:                         3.521e+04\n",
      "Df Residuals:                    4266   BIC:                         3.522e+04\n",
      "Df Model:                           1                                         \n",
      "Covariance Type:            nonrobust                                         \n",
      "==============================================================================\n",
      "                 coef    std err          t      P>|t|      [0.025      0.975]\n",
      "------------------------------------------------------------------------------\n",
      "const          2.0141      0.739      2.724      0.006       0.564       3.464\n",
      "mailsyear      2.6495      0.343      7.723      0.000       1.977       3.322\n",
      "==============================================================================\n",
      "Omnibus:                     4951.411   Durbin-Watson:                   1.529\n",
      "Prob(Omnibus):                  0.000   Jarque-Bera (JB):           784986.187\n",
      "Skew:                           5.889   Prob(JB):                         0.00\n",
      "Kurtosis:                      68.387   Cond. No.                         8.34\n",
      "==============================================================================\n",
      "\n",
      "Warnings:\n",
      "[1] Standard Errors assume that the covariance matrix of the errors is correctly specified.\n"
     ]
    }
   ],
   "source": [
    "y = charity.gift\n",
    "X = sm.add_constant(charity.mailsyear)\n",
    "model = sm.OLS(y, X).fit()\n",
    "model_summary = model.summary()\n",
    "print(model_summary)"
   ]
  },
  {
   "cell_type": "code",
   "execution_count": 30,
   "metadata": {},
   "outputs": [
    {
     "name": "stdout",
     "output_type": "stream",
     "text": [
      "                            OLS Regression Results                            \n",
      "==============================================================================\n",
      "Dep. Variable:                   gift   R-squared:                       0.201\n",
      "Model:                            OLS   Adj. R-squared:                  0.200\n",
      "Method:                 Least Squares   F-statistic:                     267.3\n",
      "Date:                Sun, 24 May 2020   Prob (F-statistic):          2.82e-205\n",
      "Time:                        23:44:50   Log-Likelihood:                -17154.\n",
      "No. Observations:                4268   AIC:                         3.432e+04\n",
      "Df Residuals:                    4263   BIC:                         3.435e+04\n",
      "Df Model:                           4                                         \n",
      "Covariance Type:            nonrobust                                         \n",
      "==============================================================================\n",
      "                 coef    std err          t      P>|t|      [0.025      0.975]\n",
      "------------------------------------------------------------------------------\n",
      "const         -7.3278      0.758     -9.664      0.000      -8.814      -5.841\n",
      "mailsyear      1.2012      0.312      3.845      0.000       0.589       1.814\n",
      "giftlast      -0.2609      0.011    -24.251      0.000      -0.282      -0.240\n",
      "propresp      16.2046      0.818     19.821      0.000      14.602      17.807\n",
      "avggift        0.5269      0.021     24.996      0.000       0.486       0.568\n",
      "==============================================================================\n",
      "Omnibus:                     3922.109   Durbin-Watson:                   1.787\n",
      "Prob(Omnibus):                  0.000   Jarque-Bera (JB):           698065.217\n",
      "Skew:                           3.806   Prob(JB):                         0.00\n",
      "Kurtosis:                      65.189   Cond. No.                         814.\n",
      "==============================================================================\n",
      "\n",
      "Warnings:\n",
      "[1] Standard Errors assume that the covariance matrix of the errors is correctly specified.\n"
     ]
    }
   ],
   "source": [
    "y = charity.gift\n",
    "X = sm.add_constant(charity[[\"mailsyear\", \"giftlast\", \"propresp\", \"avggift\"]])\n",
    "model = sm.OLS(y, X).fit()\n",
    "model_summary = model.summary()\n",
    "print(model_summary)"
   ]
  },
  {
   "cell_type": "markdown",
   "metadata": {},
   "source": [
    "C9.i The R-square is higher\n",
    "\n",
    "C9.ii The coefficient of mailsyear still means the expected increase in gift from the number of mailings. It is slightly lower than in the simple regression\n",
    "\n",
    "C9.iii This is the effect on the gift from a change in the response rate (measured in percent)\n",
    "\n",
    "C9.iv Adding avggift reduces the value of mailsyear by quite a bit.\n",
    "\n",
    "C9.v Giftlast is now negative. avggift includes the average of previous gifts and so once the average of all previous gifts are accounted for, the value of the previous gift specifically is negative."
   ]
  },
  {
   "cell_type": "code",
   "execution_count": 31,
   "metadata": {},
   "outputs": [
    {
     "name": "stdout",
     "output_type": "stream",
     "text": [
      "6\n",
      "20\n",
      "0.567479674796748\n",
      "educ        13.037398\n",
      "motheduc    12.178049\n",
      "fatheduc    12.447154\n",
      "dtype: float64\n"
     ]
    }
   ],
   "source": [
    "#Exercise C10\n",
    "htv = pd.read_stata(\"stata/HTV.DTA\")\n",
    "\n",
    "print(htv.educ.min())\n",
    "print(htv.educ.max())\n",
    "print(htv.educ[htv.educ < 13].shape[0] / htv.educ.shape[0])\n",
    "print(htv[[\"educ\", \"motheduc\", \"fatheduc\"]].mean())"
   ]
  },
  {
   "cell_type": "code",
   "execution_count": 32,
   "metadata": {},
   "outputs": [
    {
     "name": "stdout",
     "output_type": "stream",
     "text": [
      "                            OLS Regression Results                            \n",
      "==============================================================================\n",
      "Dep. Variable:                   educ   R-squared:                       0.249\n",
      "Model:                            OLS   Adj. R-squared:                  0.248\n",
      "Method:                 Least Squares   F-statistic:                     203.7\n",
      "Date:                Sun, 24 May 2020   Prob (F-statistic):           4.13e-77\n",
      "Time:                        23:44:50   Log-Likelihood:                -2621.7\n",
      "No. Observations:                1230   AIC:                             5249.\n",
      "Df Residuals:                    1227   BIC:                             5265.\n",
      "Df Model:                           2                                         \n",
      "Covariance Type:            nonrobust                                         \n",
      "==============================================================================\n",
      "                 coef    std err          t      P>|t|      [0.025      0.975]\n",
      "------------------------------------------------------------------------------\n",
      "const          6.9644      0.320     21.776      0.000       6.337       7.592\n",
      "motheduc       0.3042      0.032      9.528      0.000       0.242       0.367\n",
      "fatheduc       0.1903      0.022      8.539      0.000       0.147       0.234\n",
      "==============================================================================\n",
      "Omnibus:                       60.519   Durbin-Watson:                   1.748\n",
      "Prob(Omnibus):                  0.000   Jarque-Bera (JB):               82.103\n",
      "Skew:                           0.455   Prob(JB):                     1.48e-18\n",
      "Kurtosis:                       3.879   Cond. No.                         98.0\n",
      "==============================================================================\n",
      "\n",
      "Warnings:\n",
      "[1] Standard Errors assume that the covariance matrix of the errors is correctly specified.\n"
     ]
    }
   ],
   "source": [
    "y = htv.educ\n",
    "X = sm.add_constant(htv[[\"motheduc\", \"fatheduc\"]])\n",
    "model = sm.OLS(y, X).fit()\n",
    "model_summary = model.summary()\n",
    "print(model_summary)"
   ]
  },
  {
   "cell_type": "code",
   "execution_count": 33,
   "metadata": {},
   "outputs": [
    {
     "name": "stdout",
     "output_type": "stream",
     "text": [
      "                            OLS Regression Results                            \n",
      "==============================================================================\n",
      "Dep. Variable:                   educ   R-squared:                       0.428\n",
      "Model:                            OLS   Adj. R-squared:                  0.426\n",
      "Method:                 Least Squares   F-statistic:                     305.2\n",
      "Date:                Sun, 24 May 2020   Prob (F-statistic):          5.95e-148\n",
      "Time:                        23:44:50   Log-Likelihood:                -2455.0\n",
      "No. Observations:                1230   AIC:                             4918.\n",
      "Df Residuals:                    1226   BIC:                             4938.\n",
      "Df Model:                           3                                         \n",
      "Covariance Type:            nonrobust                                         \n",
      "==============================================================================\n",
      "                 coef    std err          t      P>|t|      [0.025      0.975]\n",
      "------------------------------------------------------------------------------\n",
      "const          8.4487      0.290     29.180      0.000       7.881       9.017\n",
      "motheduc       0.1891      0.029      6.635      0.000       0.133       0.245\n",
      "fatheduc       0.1111      0.020      5.586      0.000       0.072       0.150\n",
      "abil           0.5025      0.026     19.538      0.000       0.452       0.553\n",
      "==============================================================================\n",
      "Omnibus:                       52.055   Durbin-Watson:                   1.821\n",
      "Prob(Omnibus):                  0.000   Jarque-Bera (JB):               61.086\n",
      "Skew:                           0.465   Prob(JB):                     5.44e-14\n",
      "Kurtosis:                       3.570   Cond. No.                         102.\n",
      "==============================================================================\n",
      "\n",
      "Warnings:\n",
      "[1] Standard Errors assume that the covariance matrix of the errors is correctly specified.\n"
     ]
    }
   ],
   "source": [
    "y = htv.educ\n",
    "X = sm.add_constant(htv[[\"motheduc\", \"fatheduc\", \"abil\"]])\n",
    "model = sm.OLS(y, X).fit()\n",
    "model_summary = model.summary()\n",
    "print(model_summary)"
   ]
  },
  {
   "cell_type": "code",
   "execution_count": 34,
   "metadata": {},
   "outputs": [
    {
     "name": "stdout",
     "output_type": "stream",
     "text": [
      "                            OLS Regression Results                            \n",
      "==============================================================================\n",
      "Dep. Variable:                   educ   R-squared:                       0.444\n",
      "Model:                            OLS   Adj. R-squared:                  0.443\n",
      "Method:                 Least Squares   F-statistic:                     244.9\n",
      "Date:                Sun, 24 May 2020   Prob (F-statistic):          1.34e-154\n",
      "Time:                        23:44:50   Log-Likelihood:                -2436.6\n",
      "No. Observations:                1230   AIC:                             4883.\n",
      "Df Residuals:                    1225   BIC:                             4909.\n",
      "Df Model:                           4                                         \n",
      "Covariance Type:            nonrobust                                         \n",
      "=====================================================================================\n",
      "                        coef    std err          t      P>|t|      [0.025      0.975]\n",
      "-------------------------------------------------------------------------------------\n",
      "Intercept             8.2402      0.287     28.671      0.000       7.676       8.804\n",
      "motheduc              0.1901      0.028      6.767      0.000       0.135       0.245\n",
      "fatheduc              0.1089      0.020      5.558      0.000       0.070       0.147\n",
      "abil                  0.4015      0.030     13.255      0.000       0.342       0.461\n",
      "np.power(abil, 2)     0.0506      0.008      6.093      0.000       0.034       0.067\n",
      "==============================================================================\n",
      "Omnibus:                       45.933   Durbin-Watson:                   1.820\n",
      "Prob(Omnibus):                  0.000   Jarque-Bera (JB):               56.769\n",
      "Skew:                           0.404   Prob(JB):                     4.71e-13\n",
      "Kurtosis:                       3.674   Cond. No.                         115.\n",
      "==============================================================================\n",
      "\n",
      "Warnings:\n",
      "[1] Standard Errors assume that the covariance matrix of the errors is correctly specified.\n"
     ]
    }
   ],
   "source": [
    "import statsmodels.formula.api as smf\n",
    "\n",
    "model = smf.ols(formula = \"educ ~ motheduc + fatheduc + abil + np.power(abil, 2)\", data = htv).fit()\n",
    "model_summary = model.summary()\n",
    "print(model_summary)"
   ]
  },
  {
   "cell_type": "code",
   "execution_count": 35,
   "metadata": {},
   "outputs": [
    {
     "data": {
      "image/png": "[encoded data removed]",
      "text/plain": [
       "<Figure size 432x288 with 1 Axes>"
      ]
     },
     "metadata": {
      "needs_background": "light"
     },
     "output_type": "display_data"
    }
   ],
   "source": [
    "import matplotlib.pyplot as plt\n",
    "\n",
    "fig, ax = plt.subplots()\n",
    "fig = sm.graphics.plot_fit(model, 3, ax=ax)\n",
    "ax.set_ylabel(\"Education\")\n",
    "ax.set_xlabel(\"ability\")\n",
    "plt.show()"
   ]
  },
  {
   "cell_type": "markdown",
   "metadata": {},
   "source": [
    "C10.i The men have a higher level of education (on average) than their parents\n",
    "\n",
    "C10.ii The coefficient on motheduc is the effect of another year of a mother's education on the child's education (with the father's educaiton taken into account)\n",
    "\n",
    "C10.iii Ability almost doubles the explained variation and so helps to explain variations in education (as measured by R-squared or adjusted R-squared). It is also highly significant\n",
    "\n",
    "C10.iv -3.96739 will minimize educ (2nd derivative is positive)"
   ]
  }
 ],
 "metadata": {
  "kernelspec": {
   "display_name": "Python 3",
   "language": "python",
   "name": "python3"
  },
  "language_info": {
   "codemirror_mode": {
    "name": "ipython",
    "version": 3
   },
   "file_extension": ".py",
   "mimetype": "text/x-python",
   "name": "python",
   "nbconvert_exporter": "python",
   "pygments_lexer": "ipython3",
   "version": "3.7.6"
  }
 },
 "nbformat": 4,
 "nbformat_minor": 4
}
