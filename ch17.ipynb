{
 "cells": [
  {
   "cell_type": "markdown",
   "id": "d43da5a3-574a-412a-8393-3115a13fe021",
   "metadata": {},
   "source": [
    "# Chapter 17"
   ]
  },
  {
   "cell_type": "code",
   "execution_count": 1,
   "id": "47045653-d634-488a-aab6-1d085cbb85fc",
   "metadata": {},
   "outputs": [],
   "source": [
    "import pandas as pd\n",
    "import statsmodels.api as sm\n",
    "# import numpy as np\n",
    "# import matplotlib.pyplot as plt"
   ]
  },
  {
   "cell_type": "code",
   "execution_count": 2,
   "id": "543f7dc4-94ae-43b0-8bed-5e1f7ed0767f",
   "metadata": {},
   "outputs": [
    {
     "data": {
      "text/html": [
       "<table class=\"simpletable\">\n",
       "<caption>OLS Regression Results</caption>\n",
       "<tr>\n",
       "  <th>Dep. Variable:</th>         <td>favwin</td>      <th>  R-squared:         </th> <td>   0.111</td>\n",
       "</tr>\n",
       "<tr>\n",
       "  <th>Model:</th>                   <td>OLS</td>       <th>  Adj. R-squared:    </th> <td>   0.109</td>\n",
       "</tr>\n",
       "<tr>\n",
       "  <th>Method:</th>             <td>Least Squares</td>  <th>  F-statistic:       </th> <td>   68.57</td>\n",
       "</tr>\n",
       "<tr>\n",
       "  <th>Date:</th>             <td>Mon, 25 Jul 2022</td> <th>  Prob (F-statistic):</th> <td>9.32e-16</td>\n",
       "</tr>\n",
       "<tr>\n",
       "  <th>Time:</th>                 <td>05:07:37</td>     <th>  Log-Likelihood:    </th> <td> -279.29</td>\n",
       "</tr>\n",
       "<tr>\n",
       "  <th>No. Observations:</th>      <td>   553</td>      <th>  AIC:               </th> <td>   562.6</td>\n",
       "</tr>\n",
       "<tr>\n",
       "  <th>Df Residuals:</th>          <td>   551</td>      <th>  BIC:               </th> <td>   571.2</td>\n",
       "</tr>\n",
       "<tr>\n",
       "  <th>Df Model:</th>              <td>     1</td>      <th>                     </th>     <td> </td>   \n",
       "</tr>\n",
       "<tr>\n",
       "  <th>Covariance Type:</th>      <td>nonrobust</td>    <th>                     </th>     <td> </td>   \n",
       "</tr>\n",
       "</table>\n",
       "<table class=\"simpletable\">\n",
       "<tr>\n",
       "     <td></td>       <th>coef</th>     <th>std err</th>      <th>t</th>      <th>P>|t|</th>  <th>[0.025</th>    <th>0.975]</th>  \n",
       "</tr>\n",
       "<tr>\n",
       "  <th>const</th>  <td>    0.5769</td> <td>    0.028</td> <td>   20.434</td> <td> 0.000</td> <td>    0.521</td> <td>    0.632</td>\n",
       "</tr>\n",
       "<tr>\n",
       "  <th>spread</th> <td>    0.0194</td> <td>    0.002</td> <td>    8.281</td> <td> 0.000</td> <td>    0.015</td> <td>    0.024</td>\n",
       "</tr>\n",
       "</table>\n",
       "<table class=\"simpletable\">\n",
       "<tr>\n",
       "  <th>Omnibus:</th>       <td>86.055</td> <th>  Durbin-Watson:     </th> <td>   2.112</td>\n",
       "</tr>\n",
       "<tr>\n",
       "  <th>Prob(Omnibus):</th> <td> 0.000</td> <th>  Jarque-Bera (JB):  </th> <td>  94.402</td>\n",
       "</tr>\n",
       "<tr>\n",
       "  <th>Skew:</th>          <td>-0.956</td> <th>  Prob(JB):          </th> <td>3.17e-21</td>\n",
       "</tr>\n",
       "<tr>\n",
       "  <th>Kurtosis:</th>      <td> 2.336</td> <th>  Cond. No.          </th> <td>    20.0</td>\n",
       "</tr>\n",
       "</table><br/><br/>Notes:<br/>[1] Standard Errors assume that the covariance matrix of the errors is correctly specified."
      ],
      "text/plain": [
       "<class 'statsmodels.iolib.summary.Summary'>\n",
       "\"\"\"\n",
       "                            OLS Regression Results                            \n",
       "==============================================================================\n",
       "Dep. Variable:                 favwin   R-squared:                       0.111\n",
       "Model:                            OLS   Adj. R-squared:                  0.109\n",
       "Method:                 Least Squares   F-statistic:                     68.57\n",
       "Date:                Mon, 25 Jul 2022   Prob (F-statistic):           9.32e-16\n",
       "Time:                        05:07:37   Log-Likelihood:                -279.29\n",
       "No. Observations:                 553   AIC:                             562.6\n",
       "Df Residuals:                     551   BIC:                             571.2\n",
       "Df Model:                           1                                         \n",
       "Covariance Type:            nonrobust                                         \n",
       "==============================================================================\n",
       "                 coef    std err          t      P>|t|      [0.025      0.975]\n",
       "------------------------------------------------------------------------------\n",
       "const          0.5769      0.028     20.434      0.000       0.521       0.632\n",
       "spread         0.0194      0.002      8.281      0.000       0.015       0.024\n",
       "==============================================================================\n",
       "Omnibus:                       86.055   Durbin-Watson:                   2.112\n",
       "Prob(Omnibus):                  0.000   Jarque-Bera (JB):               94.402\n",
       "Skew:                          -0.956   Prob(JB):                     3.17e-21\n",
       "Kurtosis:                       2.336   Cond. No.                         20.0\n",
       "==============================================================================\n",
       "\n",
       "Notes:\n",
       "[1] Standard Errors assume that the covariance matrix of the errors is correctly specified.\n",
       "\"\"\""
      ]
     },
     "execution_count": 2,
     "metadata": {},
     "output_type": "execute_result"
    }
   ],
   "source": [
    "# Exercise 1\n",
    "pntsprd = pd.read_stata(\"./stata/PNTSPRD.DTA\")\n",
    "X = sm.add_constant(pntsprd[[\"spread\"]])\n",
    "model = sm.OLS(pntsprd.favwin, X, missing=\"drop\").fit()\n",
    "model.summary()"
   ]
  },
  {
   "cell_type": "code",
   "execution_count": 3,
   "id": "95df7140-3283-47a0-bd4b-9970d92eafc3",
   "metadata": {},
   "outputs": [
    {
     "data": {
      "text/plain": [
       "<class 'statsmodels.stats.contrast.ContrastResults'>\n",
       "                             Test for Constraints                             \n",
       "==============================================================================\n",
       "                 coef    std err          t      P>|t|      [0.025      0.975]\n",
       "------------------------------------------------------------------------------\n",
       "c0             0.5769      0.028      2.725      0.007       0.521       0.632\n",
       "=============================================================================="
      ]
     },
     "execution_count": 3,
     "metadata": {},
     "output_type": "execute_result"
    }
   ],
   "source": [
    "model.t_test(\"const = 0.5\")"
   ]
  },
  {
   "cell_type": "code",
   "execution_count": 4,
   "id": "a8f0e263-d498-4640-843d-523b283883ab",
   "metadata": {},
   "outputs": [
    {
     "data": {
      "text/html": [
       "<table class=\"simpletable\">\n",
       "<caption>OLS Regression Results</caption>\n",
       "<tr>\n",
       "  <th>Dep. Variable:</th>         <td>favwin</td>      <th>  R-squared:         </th> <td>   0.111</td>\n",
       "</tr>\n",
       "<tr>\n",
       "  <th>Model:</th>                   <td>OLS</td>       <th>  Adj. R-squared:    </th> <td>   0.109</td>\n",
       "</tr>\n",
       "<tr>\n",
       "  <th>Method:</th>             <td>Least Squares</td>  <th>  F-statistic:       </th> <td>   100.8</td>\n",
       "</tr>\n",
       "<tr>\n",
       "  <th>Date:</th>             <td>Mon, 25 Jul 2022</td> <th>  Prob (F-statistic):</th> <td>6.80e-22</td>\n",
       "</tr>\n",
       "<tr>\n",
       "  <th>Time:</th>                 <td>05:07:37</td>     <th>  Log-Likelihood:    </th> <td> -279.29</td>\n",
       "</tr>\n",
       "<tr>\n",
       "  <th>No. Observations:</th>      <td>   553</td>      <th>  AIC:               </th> <td>   562.6</td>\n",
       "</tr>\n",
       "<tr>\n",
       "  <th>Df Residuals:</th>          <td>   551</td>      <th>  BIC:               </th> <td>   571.2</td>\n",
       "</tr>\n",
       "<tr>\n",
       "  <th>Df Model:</th>              <td>     1</td>      <th>                     </th>     <td> </td>   \n",
       "</tr>\n",
       "<tr>\n",
       "  <th>Covariance Type:</th>         <td>HC3</td>       <th>                     </th>     <td> </td>   \n",
       "</tr>\n",
       "</table>\n",
       "<table class=\"simpletable\">\n",
       "<tr>\n",
       "     <td></td>       <th>coef</th>     <th>std err</th>      <th>z</th>      <th>P>|z|</th>  <th>[0.025</th>    <th>0.975]</th>  \n",
       "</tr>\n",
       "<tr>\n",
       "  <th>const</th>  <td>    0.5769</td> <td>    0.032</td> <td>   18.190</td> <td> 0.000</td> <td>    0.515</td> <td>    0.639</td>\n",
       "</tr>\n",
       "<tr>\n",
       "  <th>spread</th> <td>    0.0194</td> <td>    0.002</td> <td>   10.040</td> <td> 0.000</td> <td>    0.016</td> <td>    0.023</td>\n",
       "</tr>\n",
       "</table>\n",
       "<table class=\"simpletable\">\n",
       "<tr>\n",
       "  <th>Omnibus:</th>       <td>86.055</td> <th>  Durbin-Watson:     </th> <td>   2.112</td>\n",
       "</tr>\n",
       "<tr>\n",
       "  <th>Prob(Omnibus):</th> <td> 0.000</td> <th>  Jarque-Bera (JB):  </th> <td>  94.402</td>\n",
       "</tr>\n",
       "<tr>\n",
       "  <th>Skew:</th>          <td>-0.956</td> <th>  Prob(JB):          </th> <td>3.17e-21</td>\n",
       "</tr>\n",
       "<tr>\n",
       "  <th>Kurtosis:</th>      <td> 2.336</td> <th>  Cond. No.          </th> <td>    20.0</td>\n",
       "</tr>\n",
       "</table><br/><br/>Notes:<br/>[1] Standard Errors are heteroscedasticity robust (HC3)"
      ],
      "text/plain": [
       "<class 'statsmodels.iolib.summary.Summary'>\n",
       "\"\"\"\n",
       "                            OLS Regression Results                            \n",
       "==============================================================================\n",
       "Dep. Variable:                 favwin   R-squared:                       0.111\n",
       "Model:                            OLS   Adj. R-squared:                  0.109\n",
       "Method:                 Least Squares   F-statistic:                     100.8\n",
       "Date:                Mon, 25 Jul 2022   Prob (F-statistic):           6.80e-22\n",
       "Time:                        05:07:37   Log-Likelihood:                -279.29\n",
       "No. Observations:                 553   AIC:                             562.6\n",
       "Df Residuals:                     551   BIC:                             571.2\n",
       "Df Model:                           1                                         \n",
       "Covariance Type:                  HC3                                         \n",
       "==============================================================================\n",
       "                 coef    std err          z      P>|z|      [0.025      0.975]\n",
       "------------------------------------------------------------------------------\n",
       "const          0.5769      0.032     18.190      0.000       0.515       0.639\n",
       "spread         0.0194      0.002     10.040      0.000       0.016       0.023\n",
       "==============================================================================\n",
       "Omnibus:                       86.055   Durbin-Watson:                   2.112\n",
       "Prob(Omnibus):                  0.000   Jarque-Bera (JB):               94.402\n",
       "Skew:                          -0.956   Prob(JB):                     3.17e-21\n",
       "Kurtosis:                       2.336   Cond. No.                         20.0\n",
       "==============================================================================\n",
       "\n",
       "Notes:\n",
       "[1] Standard Errors are heteroscedasticity robust (HC3)\n",
       "\"\"\""
      ]
     },
     "execution_count": 4,
     "metadata": {},
     "output_type": "execute_result"
    }
   ],
   "source": [
    "model = sm.OLS(pntsprd.favwin, X, missing=\"drop\").fit(cov_type=\"HC3\")\n",
    "model.summary()"
   ]
  },
  {
   "cell_type": "code",
   "execution_count": 5,
   "id": "fc58cb17-858b-4a61-b794-9b98dd25e9d1",
   "metadata": {},
   "outputs": [
    {
     "data": {
      "text/plain": [
       "array([0.77060438])"
      ]
     },
     "execution_count": 5,
     "metadata": {},
     "output_type": "execute_result"
    }
   ],
   "source": [
    "model.predict([1, 10])"
   ]
  },
  {
   "cell_type": "code",
   "execution_count": 6,
   "id": "9a5abf29-9a54-4ac3-80d4-fba2bdbc212f",
   "metadata": {},
   "outputs": [
    {
     "data": {
      "text/plain": [
       "<class 'statsmodels.stats.contrast.ContrastResults'>\n",
       "                             Test for Constraints                             \n",
       "==============================================================================\n",
       "                 coef    std err          z      P>|z|      [0.025      0.975]\n",
       "------------------------------------------------------------------------------\n",
       "c0             0.5769      0.032      2.426      0.015       0.515       0.639\n",
       "=============================================================================="
      ]
     },
     "execution_count": 6,
     "metadata": {},
     "output_type": "execute_result"
    }
   ],
   "source": [
    "model.t_test(\"const = 0.5\")"
   ]
  },
  {
   "cell_type": "code",
   "execution_count": 7,
   "id": "50e0e9c7-0d5f-49f2-8503-5e4e5d6d5055",
   "metadata": {},
   "outputs": [
    {
     "name": "stdout",
     "output_type": "stream",
     "text": [
      "Optimization terminated successfully.\n",
      "         Current function value: 0.476604\n",
      "         Iterations 6\n"
     ]
    },
    {
     "data": {
      "text/html": [
       "<table class=\"simpletable\">\n",
       "<caption>Probit Regression Results</caption>\n",
       "<tr>\n",
       "  <th>Dep. Variable:</th>        <td>favwin</td>      <th>  No. Observations:  </th>  <td>   553</td>  \n",
       "</tr>\n",
       "<tr>\n",
       "  <th>Model:</th>                <td>Probit</td>      <th>  Df Residuals:      </th>  <td>   551</td>  \n",
       "</tr>\n",
       "<tr>\n",
       "  <th>Method:</th>                 <td>MLE</td>       <th>  Df Model:          </th>  <td>     1</td>  \n",
       "</tr>\n",
       "<tr>\n",
       "  <th>Date:</th>            <td>Mon, 25 Jul 2022</td> <th>  Pseudo R-squ.:     </th>  <td>0.1294</td>  \n",
       "</tr>\n",
       "<tr>\n",
       "  <th>Time:</th>                <td>05:07:37</td>     <th>  Log-Likelihood:    </th> <td> -263.56</td> \n",
       "</tr>\n",
       "<tr>\n",
       "  <th>converged:</th>             <td>True</td>       <th>  LL-Null:           </th> <td> -302.75</td> \n",
       "</tr>\n",
       "<tr>\n",
       "  <th>Covariance Type:</th>     <td>nonrobust</td>    <th>  LLR p-value:       </th> <td>8.521e-19</td>\n",
       "</tr>\n",
       "</table>\n",
       "<table class=\"simpletable\">\n",
       "<tr>\n",
       "     <td></td>       <th>coef</th>     <th>std err</th>      <th>z</th>      <th>P>|z|</th>  <th>[0.025</th>    <th>0.975]</th>  \n",
       "</tr>\n",
       "<tr>\n",
       "  <th>const</th>  <td>   -0.0106</td> <td>    0.104</td> <td>   -0.102</td> <td> 0.919</td> <td>   -0.214</td> <td>    0.193</td>\n",
       "</tr>\n",
       "<tr>\n",
       "  <th>spread</th> <td>    0.0925</td> <td>    0.012</td> <td>    7.591</td> <td> 0.000</td> <td>    0.069</td> <td>    0.116</td>\n",
       "</tr>\n",
       "</table>"
      ],
      "text/plain": [
       "<class 'statsmodels.iolib.summary.Summary'>\n",
       "\"\"\"\n",
       "                          Probit Regression Results                           \n",
       "==============================================================================\n",
       "Dep. Variable:                 favwin   No. Observations:                  553\n",
       "Model:                         Probit   Df Residuals:                      551\n",
       "Method:                           MLE   Df Model:                            1\n",
       "Date:                Mon, 25 Jul 2022   Pseudo R-squ.:                  0.1294\n",
       "Time:                        05:07:37   Log-Likelihood:                -263.56\n",
       "converged:                       True   LL-Null:                       -302.75\n",
       "Covariance Type:            nonrobust   LLR p-value:                 8.521e-19\n",
       "==============================================================================\n",
       "                 coef    std err          z      P>|z|      [0.025      0.975]\n",
       "------------------------------------------------------------------------------\n",
       "const         -0.0106      0.104     -0.102      0.919      -0.214       0.193\n",
       "spread         0.0925      0.012      7.591      0.000       0.069       0.116\n",
       "==============================================================================\n",
       "\"\"\""
      ]
     },
     "execution_count": 7,
     "metadata": {},
     "output_type": "execute_result"
    }
   ],
   "source": [
    "model = sm.Probit(pntsprd.favwin, X, missing=\"drop\").fit()\n",
    "model.summary()"
   ]
  },
  {
   "cell_type": "code",
   "execution_count": 8,
   "id": "22d094d0-4631-4e3e-b442-aec6d3532dbf",
   "metadata": {},
   "outputs": [
    {
     "data": {
      "text/plain": [
       "array([0.81965134])"
      ]
     },
     "execution_count": 8,
     "metadata": {},
     "output_type": "execute_result"
    }
   ],
   "source": [
    "model.predict([1, 10])"
   ]
  },
  {
   "cell_type": "code",
   "execution_count": 9,
   "id": "117dc515-4f5d-40c1-913d-6e801cff0e78",
   "metadata": {},
   "outputs": [
    {
     "name": "stdout",
     "output_type": "stream",
     "text": [
      "Optimization terminated successfully.\n",
      "         Current function value: 0.474940\n",
      "         Iterations 6\n"
     ]
    },
    {
     "data": {
      "text/html": [
       "<table class=\"simpletable\">\n",
       "<caption>Probit Regression Results</caption>\n",
       "<tr>\n",
       "  <th>Dep. Variable:</th>        <td>favwin</td>      <th>  No. Observations:  </th>  <td>   553</td>  \n",
       "</tr>\n",
       "<tr>\n",
       "  <th>Model:</th>                <td>Probit</td>      <th>  Df Residuals:      </th>  <td>   548</td>  \n",
       "</tr>\n",
       "<tr>\n",
       "  <th>Method:</th>                 <td>MLE</td>       <th>  Df Model:          </th>  <td>     4</td>  \n",
       "</tr>\n",
       "<tr>\n",
       "  <th>Date:</th>            <td>Mon, 25 Jul 2022</td> <th>  Pseudo R-squ.:     </th>  <td>0.1325</td>  \n",
       "</tr>\n",
       "<tr>\n",
       "  <th>Time:</th>                <td>05:07:37</td>     <th>  Log-Likelihood:    </th> <td> -262.64</td> \n",
       "</tr>\n",
       "<tr>\n",
       "  <th>converged:</th>             <td>True</td>       <th>  LL-Null:           </th> <td> -302.75</td> \n",
       "</tr>\n",
       "<tr>\n",
       "  <th>Covariance Type:</th>     <td>nonrobust</td>    <th>  LLR p-value:       </th> <td>1.567e-16</td>\n",
       "</tr>\n",
       "</table>\n",
       "<table class=\"simpletable\">\n",
       "<tr>\n",
       "     <td></td>        <th>coef</th>     <th>std err</th>      <th>z</th>      <th>P>|z|</th>  <th>[0.025</th>    <th>0.975]</th>  \n",
       "</tr>\n",
       "<tr>\n",
       "  <th>const</th>   <td>   -0.0552</td> <td>    0.129</td> <td>   -0.429</td> <td> 0.668</td> <td>   -0.308</td> <td>    0.197</td>\n",
       "</tr>\n",
       "<tr>\n",
       "  <th>spread</th>  <td>    0.0879</td> <td>    0.013</td> <td>    6.787</td> <td> 0.000</td> <td>    0.063</td> <td>    0.113</td>\n",
       "</tr>\n",
       "<tr>\n",
       "  <th>favhome</th> <td>    0.1486</td> <td>    0.137</td> <td>    1.084</td> <td> 0.278</td> <td>   -0.120</td> <td>    0.417</td>\n",
       "</tr>\n",
       "<tr>\n",
       "  <th>fav25</th>   <td>    0.0031</td> <td>    0.159</td> <td>    0.019</td> <td> 0.985</td> <td>   -0.308</td> <td>    0.314</td>\n",
       "</tr>\n",
       "<tr>\n",
       "  <th>und25</th>   <td>   -0.2198</td> <td>    0.251</td> <td>   -0.877</td> <td> 0.380</td> <td>   -0.711</td> <td>    0.271</td>\n",
       "</tr>\n",
       "</table>"
      ],
      "text/plain": [
       "<class 'statsmodels.iolib.summary.Summary'>\n",
       "\"\"\"\n",
       "                          Probit Regression Results                           \n",
       "==============================================================================\n",
       "Dep. Variable:                 favwin   No. Observations:                  553\n",
       "Model:                         Probit   Df Residuals:                      548\n",
       "Method:                           MLE   Df Model:                            4\n",
       "Date:                Mon, 25 Jul 2022   Pseudo R-squ.:                  0.1325\n",
       "Time:                        05:07:37   Log-Likelihood:                -262.64\n",
       "converged:                       True   LL-Null:                       -302.75\n",
       "Covariance Type:            nonrobust   LLR p-value:                 1.567e-16\n",
       "==============================================================================\n",
       "                 coef    std err          z      P>|z|      [0.025      0.975]\n",
       "------------------------------------------------------------------------------\n",
       "const         -0.0552      0.129     -0.429      0.668      -0.308       0.197\n",
       "spread         0.0879      0.013      6.787      0.000       0.063       0.113\n",
       "favhome        0.1486      0.137      1.084      0.278      -0.120       0.417\n",
       "fav25          0.0031      0.159      0.019      0.985      -0.308       0.314\n",
       "und25         -0.2198      0.251     -0.877      0.380      -0.711       0.271\n",
       "==============================================================================\n",
       "\"\"\""
      ]
     },
     "execution_count": 9,
     "metadata": {},
     "output_type": "execute_result"
    }
   ],
   "source": [
    "X = sm.add_constant(pntsprd[[\"spread\", \"favhome\", \"fav25\", \"und25\"]])\n",
    "model = sm.Probit(pntsprd.favwin, X, missing=\"drop\").fit()\n",
    "model.summary()"
   ]
  },
  {
   "cell_type": "code",
   "execution_count": 10,
   "id": "3e4e0d09-8f56-46b9-a6a9-2ce3fb5594a6",
   "metadata": {},
   "outputs": [
    {
     "data": {
      "text/plain": [
       "<class 'statsmodels.stats.contrast.ContrastResults'>\n",
       "<F test: F=0.6146728952146054, p=0.6057086484787415, df_denom=548, df_num=3>"
      ]
     },
     "execution_count": 10,
     "metadata": {},
     "output_type": "execute_result"
    }
   ],
   "source": [
    "model.f_test(\"favhome = fav25 = und25 = 0\")"
   ]
  },
  {
   "cell_type": "code",
   "execution_count": null,
   "id": "302937c1-ae9d-4437-a0b6-bc6a95c17c9a",
   "metadata": {},
   "outputs": [],
   "source": []
  }
 ],
 "metadata": {
  "kernelspec": {
   "display_name": "Python 3 (ipykernel)",
   "language": "python",
   "name": "python3"
  },
  "language_info": {
   "codemirror_mode": {
    "name": "ipython",
    "version": 3
   },
   "file_extension": ".py",
   "mimetype": "text/x-python",
   "name": "python",
   "nbconvert_exporter": "python",
   "pygments_lexer": "ipython3",
   "version": "3.9.12"
  }
 },
 "nbformat": 4,
 "nbformat_minor": 5
}
