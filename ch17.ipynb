{
 "cells": [
  {
   "cell_type": "markdown",
   "id": "d43da5a3-574a-412a-8393-3115a13fe021",
   "metadata": {},
   "source": [
    "# Chapter 17"
   ]
  },
  {
   "cell_type": "code",
   "execution_count": 1,
   "id": "47045653-d634-488a-aab6-1d085cbb85fc",
   "metadata": {},
   "outputs": [],
   "source": [
    "import pandas as pd\n",
    "import statsmodels.api as sm\n",
    "# import numpy as np\n",
    "# import matplotlib.pyplot as plt"
   ]
  },
  {
   "cell_type": "code",
   "execution_count": 2,
   "id": "543f7dc4-94ae-43b0-8bed-5e1f7ed0767f",
   "metadata": {},
   "outputs": [
    {
     "data": {
      "text/html": [
       "<table class=\"simpletable\">\n",
       "<caption>OLS Regression Results</caption>\n",
       "<tr>\n",
       "  <th>Dep. Variable:</th>         <td>favwin</td>      <th>  R-squared:         </th> <td>   0.111</td>\n",
       "</tr>\n",
       "<tr>\n",
       "  <th>Model:</th>                   <td>OLS</td>       <th>  Adj. R-squared:    </th> <td>   0.109</td>\n",
       "</tr>\n",
       "<tr>\n",
       "  <th>Method:</th>             <td>Least Squares</td>  <th>  F-statistic:       </th> <td>   68.57</td>\n",
       "</tr>\n",
       "<tr>\n",
       "  <th>Date:</th>             <td>Tue, 26 Jul 2022</td> <th>  Prob (F-statistic):</th> <td>9.32e-16</td>\n",
       "</tr>\n",
       "<tr>\n",
       "  <th>Time:</th>                 <td>01:40:03</td>     <th>  Log-Likelihood:    </th> <td> -279.29</td>\n",
       "</tr>\n",
       "<tr>\n",
       "  <th>No. Observations:</th>      <td>   553</td>      <th>  AIC:               </th> <td>   562.6</td>\n",
       "</tr>\n",
       "<tr>\n",
       "  <th>Df Residuals:</th>          <td>   551</td>      <th>  BIC:               </th> <td>   571.2</td>\n",
       "</tr>\n",
       "<tr>\n",
       "  <th>Df Model:</th>              <td>     1</td>      <th>                     </th>     <td> </td>   \n",
       "</tr>\n",
       "<tr>\n",
       "  <th>Covariance Type:</th>      <td>nonrobust</td>    <th>                     </th>     <td> </td>   \n",
       "</tr>\n",
       "</table>\n",
       "<table class=\"simpletable\">\n",
       "<tr>\n",
       "     <td></td>       <th>coef</th>     <th>std err</th>      <th>t</th>      <th>P>|t|</th>  <th>[0.025</th>    <th>0.975]</th>  \n",
       "</tr>\n",
       "<tr>\n",
       "  <th>const</th>  <td>    0.5769</td> <td>    0.028</td> <td>   20.434</td> <td> 0.000</td> <td>    0.521</td> <td>    0.632</td>\n",
       "</tr>\n",
       "<tr>\n",
       "  <th>spread</th> <td>    0.0194</td> <td>    0.002</td> <td>    8.281</td> <td> 0.000</td> <td>    0.015</td> <td>    0.024</td>\n",
       "</tr>\n",
       "</table>\n",
       "<table class=\"simpletable\">\n",
       "<tr>\n",
       "  <th>Omnibus:</th>       <td>86.055</td> <th>  Durbin-Watson:     </th> <td>   2.112</td>\n",
       "</tr>\n",
       "<tr>\n",
       "  <th>Prob(Omnibus):</th> <td> 0.000</td> <th>  Jarque-Bera (JB):  </th> <td>  94.402</td>\n",
       "</tr>\n",
       "<tr>\n",
       "  <th>Skew:</th>          <td>-0.956</td> <th>  Prob(JB):          </th> <td>3.17e-21</td>\n",
       "</tr>\n",
       "<tr>\n",
       "  <th>Kurtosis:</th>      <td> 2.336</td> <th>  Cond. No.          </th> <td>    20.0</td>\n",
       "</tr>\n",
       "</table><br/><br/>Notes:<br/>[1] Standard Errors assume that the covariance matrix of the errors is correctly specified."
      ],
      "text/plain": [
       "<class 'statsmodels.iolib.summary.Summary'>\n",
       "\"\"\"\n",
       "                            OLS Regression Results                            \n",
       "==============================================================================\n",
       "Dep. Variable:                 favwin   R-squared:                       0.111\n",
       "Model:                            OLS   Adj. R-squared:                  0.109\n",
       "Method:                 Least Squares   F-statistic:                     68.57\n",
       "Date:                Tue, 26 Jul 2022   Prob (F-statistic):           9.32e-16\n",
       "Time:                        01:40:03   Log-Likelihood:                -279.29\n",
       "No. Observations:                 553   AIC:                             562.6\n",
       "Df Residuals:                     551   BIC:                             571.2\n",
       "Df Model:                           1                                         \n",
       "Covariance Type:            nonrobust                                         \n",
       "==============================================================================\n",
       "                 coef    std err          t      P>|t|      [0.025      0.975]\n",
       "------------------------------------------------------------------------------\n",
       "const          0.5769      0.028     20.434      0.000       0.521       0.632\n",
       "spread         0.0194      0.002      8.281      0.000       0.015       0.024\n",
       "==============================================================================\n",
       "Omnibus:                       86.055   Durbin-Watson:                   2.112\n",
       "Prob(Omnibus):                  0.000   Jarque-Bera (JB):               94.402\n",
       "Skew:                          -0.956   Prob(JB):                     3.17e-21\n",
       "Kurtosis:                       2.336   Cond. No.                         20.0\n",
       "==============================================================================\n",
       "\n",
       "Notes:\n",
       "[1] Standard Errors assume that the covariance matrix of the errors is correctly specified.\n",
       "\"\"\""
      ]
     },
     "execution_count": 2,
     "metadata": {},
     "output_type": "execute_result"
    }
   ],
   "source": [
    "# Exercise 1\n",
    "pntsprd = pd.read_stata(\"./stata/PNTSPRD.DTA\")\n",
    "X = sm.add_constant(pntsprd[[\"spread\"]])\n",
    "model = sm.OLS(pntsprd.favwin, X, missing=\"drop\").fit()\n",
    "model.summary()"
   ]
  },
  {
   "cell_type": "code",
   "execution_count": 3,
   "id": "95df7140-3283-47a0-bd4b-9970d92eafc3",
   "metadata": {},
   "outputs": [
    {
     "data": {
      "text/plain": [
       "<class 'statsmodels.stats.contrast.ContrastResults'>\n",
       "                             Test for Constraints                             \n",
       "==============================================================================\n",
       "                 coef    std err          t      P>|t|      [0.025      0.975]\n",
       "------------------------------------------------------------------------------\n",
       "c0             0.5769      0.028      2.725      0.007       0.521       0.632\n",
       "=============================================================================="
      ]
     },
     "execution_count": 3,
     "metadata": {},
     "output_type": "execute_result"
    }
   ],
   "source": [
    "model.t_test(\"const = 0.5\")"
   ]
  },
  {
   "cell_type": "code",
   "execution_count": 4,
   "id": "a8f0e263-d498-4640-843d-523b283883ab",
   "metadata": {},
   "outputs": [
    {
     "data": {
      "text/html": [
       "<table class=\"simpletable\">\n",
       "<caption>OLS Regression Results</caption>\n",
       "<tr>\n",
       "  <th>Dep. Variable:</th>         <td>favwin</td>      <th>  R-squared:         </th> <td>   0.111</td>\n",
       "</tr>\n",
       "<tr>\n",
       "  <th>Model:</th>                   <td>OLS</td>       <th>  Adj. R-squared:    </th> <td>   0.109</td>\n",
       "</tr>\n",
       "<tr>\n",
       "  <th>Method:</th>             <td>Least Squares</td>  <th>  F-statistic:       </th> <td>   100.8</td>\n",
       "</tr>\n",
       "<tr>\n",
       "  <th>Date:</th>             <td>Tue, 26 Jul 2022</td> <th>  Prob (F-statistic):</th> <td>6.80e-22</td>\n",
       "</tr>\n",
       "<tr>\n",
       "  <th>Time:</th>                 <td>01:40:03</td>     <th>  Log-Likelihood:    </th> <td> -279.29</td>\n",
       "</tr>\n",
       "<tr>\n",
       "  <th>No. Observations:</th>      <td>   553</td>      <th>  AIC:               </th> <td>   562.6</td>\n",
       "</tr>\n",
       "<tr>\n",
       "  <th>Df Residuals:</th>          <td>   551</td>      <th>  BIC:               </th> <td>   571.2</td>\n",
       "</tr>\n",
       "<tr>\n",
       "  <th>Df Model:</th>              <td>     1</td>      <th>                     </th>     <td> </td>   \n",
       "</tr>\n",
       "<tr>\n",
       "  <th>Covariance Type:</th>         <td>HC3</td>       <th>                     </th>     <td> </td>   \n",
       "</tr>\n",
       "</table>\n",
       "<table class=\"simpletable\">\n",
       "<tr>\n",
       "     <td></td>       <th>coef</th>     <th>std err</th>      <th>z</th>      <th>P>|z|</th>  <th>[0.025</th>    <th>0.975]</th>  \n",
       "</tr>\n",
       "<tr>\n",
       "  <th>const</th>  <td>    0.5769</td> <td>    0.032</td> <td>   18.190</td> <td> 0.000</td> <td>    0.515</td> <td>    0.639</td>\n",
       "</tr>\n",
       "<tr>\n",
       "  <th>spread</th> <td>    0.0194</td> <td>    0.002</td> <td>   10.040</td> <td> 0.000</td> <td>    0.016</td> <td>    0.023</td>\n",
       "</tr>\n",
       "</table>\n",
       "<table class=\"simpletable\">\n",
       "<tr>\n",
       "  <th>Omnibus:</th>       <td>86.055</td> <th>  Durbin-Watson:     </th> <td>   2.112</td>\n",
       "</tr>\n",
       "<tr>\n",
       "  <th>Prob(Omnibus):</th> <td> 0.000</td> <th>  Jarque-Bera (JB):  </th> <td>  94.402</td>\n",
       "</tr>\n",
       "<tr>\n",
       "  <th>Skew:</th>          <td>-0.956</td> <th>  Prob(JB):          </th> <td>3.17e-21</td>\n",
       "</tr>\n",
       "<tr>\n",
       "  <th>Kurtosis:</th>      <td> 2.336</td> <th>  Cond. No.          </th> <td>    20.0</td>\n",
       "</tr>\n",
       "</table><br/><br/>Notes:<br/>[1] Standard Errors are heteroscedasticity robust (HC3)"
      ],
      "text/plain": [
       "<class 'statsmodels.iolib.summary.Summary'>\n",
       "\"\"\"\n",
       "                            OLS Regression Results                            \n",
       "==============================================================================\n",
       "Dep. Variable:                 favwin   R-squared:                       0.111\n",
       "Model:                            OLS   Adj. R-squared:                  0.109\n",
       "Method:                 Least Squares   F-statistic:                     100.8\n",
       "Date:                Tue, 26 Jul 2022   Prob (F-statistic):           6.80e-22\n",
       "Time:                        01:40:03   Log-Likelihood:                -279.29\n",
       "No. Observations:                 553   AIC:                             562.6\n",
       "Df Residuals:                     551   BIC:                             571.2\n",
       "Df Model:                           1                                         \n",
       "Covariance Type:                  HC3                                         \n",
       "==============================================================================\n",
       "                 coef    std err          z      P>|z|      [0.025      0.975]\n",
       "------------------------------------------------------------------------------\n",
       "const          0.5769      0.032     18.190      0.000       0.515       0.639\n",
       "spread         0.0194      0.002     10.040      0.000       0.016       0.023\n",
       "==============================================================================\n",
       "Omnibus:                       86.055   Durbin-Watson:                   2.112\n",
       "Prob(Omnibus):                  0.000   Jarque-Bera (JB):               94.402\n",
       "Skew:                          -0.956   Prob(JB):                     3.17e-21\n",
       "Kurtosis:                       2.336   Cond. No.                         20.0\n",
       "==============================================================================\n",
       "\n",
       "Notes:\n",
       "[1] Standard Errors are heteroscedasticity robust (HC3)\n",
       "\"\"\""
      ]
     },
     "execution_count": 4,
     "metadata": {},
     "output_type": "execute_result"
    }
   ],
   "source": [
    "model = sm.OLS(pntsprd.favwin, X, missing=\"drop\").fit(cov_type=\"HC3\")\n",
    "model.summary()"
   ]
  },
  {
   "cell_type": "code",
   "execution_count": 5,
   "id": "fc58cb17-858b-4a61-b794-9b98dd25e9d1",
   "metadata": {},
   "outputs": [
    {
     "data": {
      "text/plain": [
       "array([0.77060438])"
      ]
     },
     "execution_count": 5,
     "metadata": {},
     "output_type": "execute_result"
    }
   ],
   "source": [
    "model.predict([1, 10])"
   ]
  },
  {
   "cell_type": "code",
   "execution_count": 6,
   "id": "9a5abf29-9a54-4ac3-80d4-fba2bdbc212f",
   "metadata": {},
   "outputs": [
    {
     "data": {
      "text/plain": [
       "<class 'statsmodels.stats.contrast.ContrastResults'>\n",
       "                             Test for Constraints                             \n",
       "==============================================================================\n",
       "                 coef    std err          z      P>|z|      [0.025      0.975]\n",
       "------------------------------------------------------------------------------\n",
       "c0             0.5769      0.032      2.426      0.015       0.515       0.639\n",
       "=============================================================================="
      ]
     },
     "execution_count": 6,
     "metadata": {},
     "output_type": "execute_result"
    }
   ],
   "source": [
    "model.t_test(\"const = 0.5\")"
   ]
  },
  {
   "cell_type": "code",
   "execution_count": 7,
   "id": "50e0e9c7-0d5f-49f2-8503-5e4e5d6d5055",
   "metadata": {},
   "outputs": [
    {
     "name": "stdout",
     "output_type": "stream",
     "text": [
      "Optimization terminated successfully.\n",
      "         Current function value: 0.476604\n",
      "         Iterations 6\n"
     ]
    },
    {
     "data": {
      "text/html": [
       "<table class=\"simpletable\">\n",
       "<caption>Probit Regression Results</caption>\n",
       "<tr>\n",
       "  <th>Dep. Variable:</th>        <td>favwin</td>      <th>  No. Observations:  </th>  <td>   553</td>  \n",
       "</tr>\n",
       "<tr>\n",
       "  <th>Model:</th>                <td>Probit</td>      <th>  Df Residuals:      </th>  <td>   551</td>  \n",
       "</tr>\n",
       "<tr>\n",
       "  <th>Method:</th>                 <td>MLE</td>       <th>  Df Model:          </th>  <td>     1</td>  \n",
       "</tr>\n",
       "<tr>\n",
       "  <th>Date:</th>            <td>Tue, 26 Jul 2022</td> <th>  Pseudo R-squ.:     </th>  <td>0.1294</td>  \n",
       "</tr>\n",
       "<tr>\n",
       "  <th>Time:</th>                <td>01:40:03</td>     <th>  Log-Likelihood:    </th> <td> -263.56</td> \n",
       "</tr>\n",
       "<tr>\n",
       "  <th>converged:</th>             <td>True</td>       <th>  LL-Null:           </th> <td> -302.75</td> \n",
       "</tr>\n",
       "<tr>\n",
       "  <th>Covariance Type:</th>     <td>nonrobust</td>    <th>  LLR p-value:       </th> <td>8.521e-19</td>\n",
       "</tr>\n",
       "</table>\n",
       "<table class=\"simpletable\">\n",
       "<tr>\n",
       "     <td></td>       <th>coef</th>     <th>std err</th>      <th>z</th>      <th>P>|z|</th>  <th>[0.025</th>    <th>0.975]</th>  \n",
       "</tr>\n",
       "<tr>\n",
       "  <th>const</th>  <td>   -0.0106</td> <td>    0.104</td> <td>   -0.102</td> <td> 0.919</td> <td>   -0.214</td> <td>    0.193</td>\n",
       "</tr>\n",
       "<tr>\n",
       "  <th>spread</th> <td>    0.0925</td> <td>    0.012</td> <td>    7.591</td> <td> 0.000</td> <td>    0.069</td> <td>    0.116</td>\n",
       "</tr>\n",
       "</table>"
      ],
      "text/plain": [
       "<class 'statsmodels.iolib.summary.Summary'>\n",
       "\"\"\"\n",
       "                          Probit Regression Results                           \n",
       "==============================================================================\n",
       "Dep. Variable:                 favwin   No. Observations:                  553\n",
       "Model:                         Probit   Df Residuals:                      551\n",
       "Method:                           MLE   Df Model:                            1\n",
       "Date:                Tue, 26 Jul 2022   Pseudo R-squ.:                  0.1294\n",
       "Time:                        01:40:03   Log-Likelihood:                -263.56\n",
       "converged:                       True   LL-Null:                       -302.75\n",
       "Covariance Type:            nonrobust   LLR p-value:                 8.521e-19\n",
       "==============================================================================\n",
       "                 coef    std err          z      P>|z|      [0.025      0.975]\n",
       "------------------------------------------------------------------------------\n",
       "const         -0.0106      0.104     -0.102      0.919      -0.214       0.193\n",
       "spread         0.0925      0.012      7.591      0.000       0.069       0.116\n",
       "==============================================================================\n",
       "\"\"\""
      ]
     },
     "execution_count": 7,
     "metadata": {},
     "output_type": "execute_result"
    }
   ],
   "source": [
    "model = sm.Probit(pntsprd.favwin, X, missing=\"drop\").fit()\n",
    "model.summary()"
   ]
  },
  {
   "cell_type": "code",
   "execution_count": 8,
   "id": "c9a5a24f-b600-484d-88a5-f569a6797f19",
   "metadata": {},
   "outputs": [
    {
     "data": {
      "text/plain": [
       "<class 'statsmodels.stats.contrast.ContrastResults'>\n",
       "                             Test for Constraints                             \n",
       "==============================================================================\n",
       "                 coef    std err          z      P>|z|      [0.025      0.975]\n",
       "------------------------------------------------------------------------------\n",
       "c0            -0.0106      0.104     -0.102      0.919      -0.214       0.193\n",
       "=============================================================================="
      ]
     },
     "execution_count": 8,
     "metadata": {},
     "output_type": "execute_result"
    }
   ],
   "source": [
    "model.t_test(\"const = 0\")"
   ]
  },
  {
   "cell_type": "code",
   "execution_count": 9,
   "id": "22d094d0-4631-4e3e-b442-aec6d3532dbf",
   "metadata": {},
   "outputs": [
    {
     "data": {
      "text/plain": [
       "array([0.81965134])"
      ]
     },
     "execution_count": 9,
     "metadata": {},
     "output_type": "execute_result"
    }
   ],
   "source": [
    "model.predict([1, 10])"
   ]
  },
  {
   "cell_type": "code",
   "execution_count": 10,
   "id": "117dc515-4f5d-40c1-913d-6e801cff0e78",
   "metadata": {},
   "outputs": [
    {
     "name": "stdout",
     "output_type": "stream",
     "text": [
      "Optimization terminated successfully.\n",
      "         Current function value: 0.474940\n",
      "         Iterations 6\n"
     ]
    },
    {
     "data": {
      "text/html": [
       "<table class=\"simpletable\">\n",
       "<caption>Probit Regression Results</caption>\n",
       "<tr>\n",
       "  <th>Dep. Variable:</th>        <td>favwin</td>      <th>  No. Observations:  </th>  <td>   553</td>  \n",
       "</tr>\n",
       "<tr>\n",
       "  <th>Model:</th>                <td>Probit</td>      <th>  Df Residuals:      </th>  <td>   548</td>  \n",
       "</tr>\n",
       "<tr>\n",
       "  <th>Method:</th>                 <td>MLE</td>       <th>  Df Model:          </th>  <td>     4</td>  \n",
       "</tr>\n",
       "<tr>\n",
       "  <th>Date:</th>            <td>Tue, 26 Jul 2022</td> <th>  Pseudo R-squ.:     </th>  <td>0.1325</td>  \n",
       "</tr>\n",
       "<tr>\n",
       "  <th>Time:</th>                <td>01:40:03</td>     <th>  Log-Likelihood:    </th> <td> -262.64</td> \n",
       "</tr>\n",
       "<tr>\n",
       "  <th>converged:</th>             <td>True</td>       <th>  LL-Null:           </th> <td> -302.75</td> \n",
       "</tr>\n",
       "<tr>\n",
       "  <th>Covariance Type:</th>     <td>nonrobust</td>    <th>  LLR p-value:       </th> <td>1.567e-16</td>\n",
       "</tr>\n",
       "</table>\n",
       "<table class=\"simpletable\">\n",
       "<tr>\n",
       "     <td></td>        <th>coef</th>     <th>std err</th>      <th>z</th>      <th>P>|z|</th>  <th>[0.025</th>    <th>0.975]</th>  \n",
       "</tr>\n",
       "<tr>\n",
       "  <th>const</th>   <td>   -0.0552</td> <td>    0.129</td> <td>   -0.429</td> <td> 0.668</td> <td>   -0.308</td> <td>    0.197</td>\n",
       "</tr>\n",
       "<tr>\n",
       "  <th>spread</th>  <td>    0.0879</td> <td>    0.013</td> <td>    6.787</td> <td> 0.000</td> <td>    0.063</td> <td>    0.113</td>\n",
       "</tr>\n",
       "<tr>\n",
       "  <th>favhome</th> <td>    0.1486</td> <td>    0.137</td> <td>    1.084</td> <td> 0.278</td> <td>   -0.120</td> <td>    0.417</td>\n",
       "</tr>\n",
       "<tr>\n",
       "  <th>fav25</th>   <td>    0.0031</td> <td>    0.159</td> <td>    0.019</td> <td> 0.985</td> <td>   -0.308</td> <td>    0.314</td>\n",
       "</tr>\n",
       "<tr>\n",
       "  <th>und25</th>   <td>   -0.2198</td> <td>    0.251</td> <td>   -0.877</td> <td> 0.380</td> <td>   -0.711</td> <td>    0.271</td>\n",
       "</tr>\n",
       "</table>"
      ],
      "text/plain": [
       "<class 'statsmodels.iolib.summary.Summary'>\n",
       "\"\"\"\n",
       "                          Probit Regression Results                           \n",
       "==============================================================================\n",
       "Dep. Variable:                 favwin   No. Observations:                  553\n",
       "Model:                         Probit   Df Residuals:                      548\n",
       "Method:                           MLE   Df Model:                            4\n",
       "Date:                Tue, 26 Jul 2022   Pseudo R-squ.:                  0.1325\n",
       "Time:                        01:40:03   Log-Likelihood:                -262.64\n",
       "converged:                       True   LL-Null:                       -302.75\n",
       "Covariance Type:            nonrobust   LLR p-value:                 1.567e-16\n",
       "==============================================================================\n",
       "                 coef    std err          z      P>|z|      [0.025      0.975]\n",
       "------------------------------------------------------------------------------\n",
       "const         -0.0552      0.129     -0.429      0.668      -0.308       0.197\n",
       "spread         0.0879      0.013      6.787      0.000       0.063       0.113\n",
       "favhome        0.1486      0.137      1.084      0.278      -0.120       0.417\n",
       "fav25          0.0031      0.159      0.019      0.985      -0.308       0.314\n",
       "und25         -0.2198      0.251     -0.877      0.380      -0.711       0.271\n",
       "==============================================================================\n",
       "\"\"\""
      ]
     },
     "execution_count": 10,
     "metadata": {},
     "output_type": "execute_result"
    }
   ],
   "source": [
    "X = sm.add_constant(pntsprd[[\"spread\", \"favhome\", \"fav25\", \"und25\"]])\n",
    "model = sm.Probit(pntsprd.favwin, X, missing=\"drop\").fit()\n",
    "model.summary()"
   ]
  },
  {
   "cell_type": "code",
   "execution_count": 11,
   "id": "3e4e0d09-8f56-46b9-a6a9-2ce3fb5594a6",
   "metadata": {},
   "outputs": [
    {
     "data": {
      "text/plain": [
       "<class 'statsmodels.stats.contrast.ContrastResults'>\n",
       "<Wald test (chi2): statistic=1.8440186856438163, p-value=0.605403142010621, df_denom=3>"
      ]
     },
     "execution_count": 11,
     "metadata": {},
     "output_type": "execute_result"
    }
   ],
   "source": [
    "model.wald_test(\"favhome = fav25 = und25 = 0\", scalar=True) # Not LR but seems to work?"
   ]
  },
  {
   "cell_type": "markdown",
   "id": "9aec183f-1b8b-4ea6-b660-6c289cc41684",
   "metadata": {},
   "source": [
    "C1.i When the spread is zero neither team is favoured to win, and so it should follow that the probability is even (50%).\n",
    "\n",
    "C1.ii We reject the null hypothesis for both the ordinary and HC3 errors, at least at the 5% level (1% for the unadjusted errors, but given that it is the linear probability model, it is more appropriate to consider the robust errors). In either case, we reject the null that the constant is 0.5.\n",
    "\n",
    "C1.iii Spread is statistically singificant under both sets of errors. The estimated probability under the linear probability model when spread = 10 is approximately 77%.\n",
    "\n",
    "C1.iv We do not reject the null hypothesis that the constant is zero. This is the equivalent to our earlier test under the linear probability model, but takes into account that we are running a probit model. If the spread is 0 and the constant is 0 then we have the CDF of the normal distribution at 0, or, 0.5.\n",
    "\n",
    "C1.v The probability under the probit model is a little higher at 82%\n",
    "\n",
    "C1.vi The new variables are not jointly significant. The other factors do not anything to predicting the outcome once spread is accounted for."
   ]
  },
  {
   "cell_type": "code",
   "execution_count": 12,
   "id": "13ad79be-9983-4a7b-a682-bc85bcf2673c",
   "metadata": {},
   "outputs": [
    {
     "data": {
      "text/html": [
       "<table class=\"simpletable\">\n",
       "<caption>OLS Regression Results</caption>\n",
       "<tr>\n",
       "  <th>Dep. Variable:</th>         <td>approve</td>     <th>  R-squared:         </th> <td>   0.049</td>\n",
       "</tr>\n",
       "<tr>\n",
       "  <th>Model:</th>                   <td>OLS</td>       <th>  Adj. R-squared:    </th> <td>   0.048</td>\n",
       "</tr>\n",
       "<tr>\n",
       "  <th>Method:</th>             <td>Least Squares</td>  <th>  F-statistic:       </th> <td>   102.2</td>\n",
       "</tr>\n",
       "<tr>\n",
       "  <th>Date:</th>             <td>Tue, 26 Jul 2022</td> <th>  Prob (F-statistic):</th> <td>1.81e-23</td>\n",
       "</tr>\n",
       "<tr>\n",
       "  <th>Time:</th>                 <td>01:40:03</td>     <th>  Log-Likelihood:    </th> <td> -555.54</td>\n",
       "</tr>\n",
       "<tr>\n",
       "  <th>No. Observations:</th>      <td>  1989</td>      <th>  AIC:               </th> <td>   1115.</td>\n",
       "</tr>\n",
       "<tr>\n",
       "  <th>Df Residuals:</th>          <td>  1987</td>      <th>  BIC:               </th> <td>   1126.</td>\n",
       "</tr>\n",
       "<tr>\n",
       "  <th>Df Model:</th>              <td>     1</td>      <th>                     </th>     <td> </td>   \n",
       "</tr>\n",
       "<tr>\n",
       "  <th>Covariance Type:</th>      <td>nonrobust</td>    <th>                     </th>     <td> </td>   \n",
       "</tr>\n",
       "</table>\n",
       "<table class=\"simpletable\">\n",
       "<tr>\n",
       "    <td></td>       <th>coef</th>     <th>std err</th>      <th>t</th>      <th>P>|t|</th>  <th>[0.025</th>    <th>0.975]</th>  \n",
       "</tr>\n",
       "<tr>\n",
       "  <th>const</th> <td>    0.7078</td> <td>    0.018</td> <td>   38.806</td> <td> 0.000</td> <td>    0.672</td> <td>    0.744</td>\n",
       "</tr>\n",
       "<tr>\n",
       "  <th>white</th> <td>    0.2006</td> <td>    0.020</td> <td>   10.111</td> <td> 0.000</td> <td>    0.162</td> <td>    0.240</td>\n",
       "</tr>\n",
       "</table>\n",
       "<table class=\"simpletable\">\n",
       "<tr>\n",
       "  <th>Omnibus:</th>       <td>801.085</td> <th>  Durbin-Watson:     </th> <td>   2.002</td>\n",
       "</tr>\n",
       "<tr>\n",
       "  <th>Prob(Omnibus):</th> <td> 0.000</td>  <th>  Jarque-Bera (JB):  </th> <td>2394.523</td>\n",
       "</tr>\n",
       "<tr>\n",
       "  <th>Skew:</th>          <td>-2.161</td>  <th>  Prob(JB):          </th> <td>    0.00</td>\n",
       "</tr>\n",
       "<tr>\n",
       "  <th>Kurtosis:</th>      <td> 6.197</td>  <th>  Cond. No.          </th> <td>    4.90</td>\n",
       "</tr>\n",
       "</table><br/><br/>Notes:<br/>[1] Standard Errors assume that the covariance matrix of the errors is correctly specified."
      ],
      "text/plain": [
       "<class 'statsmodels.iolib.summary.Summary'>\n",
       "\"\"\"\n",
       "                            OLS Regression Results                            \n",
       "==============================================================================\n",
       "Dep. Variable:                approve   R-squared:                       0.049\n",
       "Model:                            OLS   Adj. R-squared:                  0.048\n",
       "Method:                 Least Squares   F-statistic:                     102.2\n",
       "Date:                Tue, 26 Jul 2022   Prob (F-statistic):           1.81e-23\n",
       "Time:                        01:40:03   Log-Likelihood:                -555.54\n",
       "No. Observations:                1989   AIC:                             1115.\n",
       "Df Residuals:                    1987   BIC:                             1126.\n",
       "Df Model:                           1                                         \n",
       "Covariance Type:            nonrobust                                         \n",
       "==============================================================================\n",
       "                 coef    std err          t      P>|t|      [0.025      0.975]\n",
       "------------------------------------------------------------------------------\n",
       "const          0.7078      0.018     38.806      0.000       0.672       0.744\n",
       "white          0.2006      0.020     10.111      0.000       0.162       0.240\n",
       "==============================================================================\n",
       "Omnibus:                      801.085   Durbin-Watson:                   2.002\n",
       "Prob(Omnibus):                  0.000   Jarque-Bera (JB):             2394.523\n",
       "Skew:                          -2.161   Prob(JB):                         0.00\n",
       "Kurtosis:                       6.197   Cond. No.                         4.90\n",
       "==============================================================================\n",
       "\n",
       "Notes:\n",
       "[1] Standard Errors assume that the covariance matrix of the errors is correctly specified.\n",
       "\"\"\""
      ]
     },
     "execution_count": 12,
     "metadata": {},
     "output_type": "execute_result"
    }
   ],
   "source": [
    "# Exercise 2\n",
    "loanapp = pd.read_stata(\"./stata/loanapp.dta\")\n",
    "X = sm.add_constant(loanapp[[\"white\"]])\n",
    "model = sm.OLS(loanapp.approve, X, missing=\"drop\").fit()\n",
    "model.summary()"
   ]
  },
  {
   "cell_type": "code",
   "execution_count": 13,
   "id": "c2eeaba5-b067-437b-baac-da589f20f5b5",
   "metadata": {},
   "outputs": [
    {
     "name": "stdout",
     "output_type": "stream",
     "text": [
      "[0.90838786]\n",
      "[0.70779221]\n"
     ]
    }
   ],
   "source": [
    "print(model.predict([1, 1]))\n",
    "print(model.predict([1, 0]))"
   ]
  },
  {
   "cell_type": "code",
   "execution_count": 14,
   "id": "cad348e8-7575-4e96-9c1b-13af52005eee",
   "metadata": {},
   "outputs": [
    {
     "name": "stdout",
     "output_type": "stream",
     "text": [
      "Optimization terminated successfully.\n",
      "         Current function value: 0.352377\n",
      "         Iterations 6\n"
     ]
    },
    {
     "data": {
      "text/html": [
       "<table class=\"simpletable\">\n",
       "<caption>Probit Regression Results</caption>\n",
       "<tr>\n",
       "  <th>Dep. Variable:</th>        <td>approve</td>     <th>  No. Observations:  </th>  <td>  1989</td>  \n",
       "</tr>\n",
       "<tr>\n",
       "  <th>Model:</th>                <td>Probit</td>      <th>  Df Residuals:      </th>  <td>  1987</td>  \n",
       "</tr>\n",
       "<tr>\n",
       "  <th>Method:</th>                 <td>MLE</td>       <th>  Df Model:          </th>  <td>     1</td>  \n",
       "</tr>\n",
       "<tr>\n",
       "  <th>Date:</th>            <td>Tue, 26 Jul 2022</td> <th>  Pseudo R-squ.:     </th>  <td>0.05331</td> \n",
       "</tr>\n",
       "<tr>\n",
       "  <th>Time:</th>                <td>01:40:04</td>     <th>  Log-Likelihood:    </th> <td> -700.88</td> \n",
       "</tr>\n",
       "<tr>\n",
       "  <th>converged:</th>             <td>True</td>       <th>  LL-Null:           </th> <td> -740.35</td> \n",
       "</tr>\n",
       "<tr>\n",
       "  <th>Covariance Type:</th>     <td>nonrobust</td>    <th>  LLR p-value:       </th> <td>6.408e-19</td>\n",
       "</tr>\n",
       "</table>\n",
       "<table class=\"simpletable\">\n",
       "<tr>\n",
       "    <td></td>       <th>coef</th>     <th>std err</th>      <th>z</th>      <th>P>|z|</th>  <th>[0.025</th>    <th>0.975]</th>  \n",
       "</tr>\n",
       "<tr>\n",
       "  <th>const</th> <td>    0.5469</td> <td>    0.075</td> <td>    7.251</td> <td> 0.000</td> <td>    0.399</td> <td>    0.695</td>\n",
       "</tr>\n",
       "<tr>\n",
       "  <th>white</th> <td>    0.7839</td> <td>    0.087</td> <td>    9.041</td> <td> 0.000</td> <td>    0.614</td> <td>    0.954</td>\n",
       "</tr>\n",
       "</table>"
      ],
      "text/plain": [
       "<class 'statsmodels.iolib.summary.Summary'>\n",
       "\"\"\"\n",
       "                          Probit Regression Results                           \n",
       "==============================================================================\n",
       "Dep. Variable:                approve   No. Observations:                 1989\n",
       "Model:                         Probit   Df Residuals:                     1987\n",
       "Method:                           MLE   Df Model:                            1\n",
       "Date:                Tue, 26 Jul 2022   Pseudo R-squ.:                 0.05331\n",
       "Time:                        01:40:04   Log-Likelihood:                -700.88\n",
       "converged:                       True   LL-Null:                       -740.35\n",
       "Covariance Type:            nonrobust   LLR p-value:                 6.408e-19\n",
       "==============================================================================\n",
       "                 coef    std err          z      P>|z|      [0.025      0.975]\n",
       "------------------------------------------------------------------------------\n",
       "const          0.5469      0.075      7.251      0.000       0.399       0.695\n",
       "white          0.7839      0.087      9.041      0.000       0.614       0.954\n",
       "==============================================================================\n",
       "\"\"\""
      ]
     },
     "execution_count": 14,
     "metadata": {},
     "output_type": "execute_result"
    }
   ],
   "source": [
    "model = sm.Probit(loanapp.approve, X, missing=\"drop\").fit()\n",
    "model.summary()"
   ]
  },
  {
   "cell_type": "code",
   "execution_count": 15,
   "id": "49cc625d-c506-4839-837d-2c0820ed370e",
   "metadata": {},
   "outputs": [
    {
     "name": "stdout",
     "output_type": "stream",
     "text": [
      "[0.90838786]\n",
      "[0.70779221]\n"
     ]
    }
   ],
   "source": [
    "print(model.predict([1, 1]))\n",
    "print(model.predict([1, 0]))"
   ]
  },
  {
   "cell_type": "code",
   "execution_count": 16,
   "id": "29e2b614-02cf-4908-b77c-a9573d8c5a07",
   "metadata": {},
   "outputs": [
    {
     "name": "stdout",
     "output_type": "stream",
     "text": [
      "Optimization terminated successfully.\n",
      "         Current function value: 0.304551\n",
      "         Iterations 6\n"
     ]
    },
    {
     "data": {
      "text/html": [
       "<table class=\"simpletable\">\n",
       "<caption>Probit Regression Results</caption>\n",
       "<tr>\n",
       "  <th>Dep. Variable:</th>        <td>approve</td>     <th>  No. Observations:  </th>  <td>  1971</td>  \n",
       "</tr>\n",
       "<tr>\n",
       "  <th>Model:</th>                <td>Probit</td>      <th>  Df Residuals:      </th>  <td>  1955</td>  \n",
       "</tr>\n",
       "<tr>\n",
       "  <th>Method:</th>                 <td>MLE</td>       <th>  Df Model:          </th>  <td>    15</td>  \n",
       "</tr>\n",
       "<tr>\n",
       "  <th>Date:</th>            <td>Tue, 26 Jul 2022</td> <th>  Pseudo R-squ.:     </th>  <td>0.1866</td>  \n",
       "</tr>\n",
       "<tr>\n",
       "  <th>Time:</th>                <td>01:40:04</td>     <th>  Log-Likelihood:    </th> <td> -600.27</td> \n",
       "</tr>\n",
       "<tr>\n",
       "  <th>converged:</th>             <td>True</td>       <th>  LL-Null:           </th> <td> -737.98</td> \n",
       "</tr>\n",
       "<tr>\n",
       "  <th>Covariance Type:</th>     <td>nonrobust</td>    <th>  LLR p-value:       </th> <td>7.014e-50</td>\n",
       "</tr>\n",
       "</table>\n",
       "<table class=\"simpletable\">\n",
       "<tr>\n",
       "      <td></td>        <th>coef</th>     <th>std err</th>      <th>z</th>      <th>P>|z|</th>  <th>[0.025</th>    <th>0.975]</th>  \n",
       "</tr>\n",
       "<tr>\n",
       "  <th>const</th>    <td>    2.0623</td> <td>    0.313</td> <td>    6.585</td> <td> 0.000</td> <td>    1.449</td> <td>    2.676</td>\n",
       "</tr>\n",
       "<tr>\n",
       "  <th>white</th>    <td>    0.5203</td> <td>    0.097</td> <td>    5.366</td> <td> 0.000</td> <td>    0.330</td> <td>    0.710</td>\n",
       "</tr>\n",
       "<tr>\n",
       "  <th>hrat</th>     <td>    0.0079</td> <td>    0.007</td> <td>    1.131</td> <td> 0.258</td> <td>   -0.006</td> <td>    0.022</td>\n",
       "</tr>\n",
       "<tr>\n",
       "  <th>obrat</th>    <td>   -0.0277</td> <td>    0.006</td> <td>   -4.578</td> <td> 0.000</td> <td>   -0.040</td> <td>   -0.016</td>\n",
       "</tr>\n",
       "<tr>\n",
       "  <th>loanprc</th>  <td>   -1.0120</td> <td>    0.237</td> <td>   -4.266</td> <td> 0.000</td> <td>   -1.477</td> <td>   -0.547</td>\n",
       "</tr>\n",
       "<tr>\n",
       "  <th>unem</th>     <td>   -0.0367</td> <td>    0.017</td> <td>   -2.099</td> <td> 0.036</td> <td>   -0.071</td> <td>   -0.002</td>\n",
       "</tr>\n",
       "<tr>\n",
       "  <th>male</th>     <td>   -0.0370</td> <td>    0.110</td> <td>   -0.337</td> <td> 0.736</td> <td>   -0.252</td> <td>    0.178</td>\n",
       "</tr>\n",
       "<tr>\n",
       "  <th>married</th>  <td>    0.2657</td> <td>    0.094</td> <td>    2.820</td> <td> 0.005</td> <td>    0.081</td> <td>    0.450</td>\n",
       "</tr>\n",
       "<tr>\n",
       "  <th>dep</th>      <td>   -0.0496</td> <td>    0.039</td> <td>   -1.269</td> <td> 0.204</td> <td>   -0.126</td> <td>    0.027</td>\n",
       "</tr>\n",
       "<tr>\n",
       "  <th>sch</th>      <td>    0.0146</td> <td>    0.096</td> <td>    0.153</td> <td> 0.879</td> <td>   -0.173</td> <td>    0.202</td>\n",
       "</tr>\n",
       "<tr>\n",
       "  <th>cosign</th>   <td>    0.0861</td> <td>    0.246</td> <td>    0.350</td> <td> 0.726</td> <td>   -0.396</td> <td>    0.568</td>\n",
       "</tr>\n",
       "<tr>\n",
       "  <th>chist</th>    <td>    0.5853</td> <td>    0.096</td> <td>    6.098</td> <td> 0.000</td> <td>    0.397</td> <td>    0.773</td>\n",
       "</tr>\n",
       "<tr>\n",
       "  <th>pubrec</th>   <td>   -0.7787</td> <td>    0.126</td> <td>   -6.165</td> <td> 0.000</td> <td>   -1.026</td> <td>   -0.531</td>\n",
       "</tr>\n",
       "<tr>\n",
       "  <th>mortlat1</th> <td>   -0.1876</td> <td>    0.253</td> <td>   -0.741</td> <td> 0.459</td> <td>   -0.684</td> <td>    0.308</td>\n",
       "</tr>\n",
       "<tr>\n",
       "  <th>mortlat2</th> <td>   -0.4944</td> <td>    0.327</td> <td>   -1.514</td> <td> 0.130</td> <td>   -1.134</td> <td>    0.146</td>\n",
       "</tr>\n",
       "<tr>\n",
       "  <th>vr</th>       <td>   -0.2011</td> <td>    0.081</td> <td>   -2.467</td> <td> 0.014</td> <td>   -0.361</td> <td>   -0.041</td>\n",
       "</tr>\n",
       "</table>"
      ],
      "text/plain": [
       "<class 'statsmodels.iolib.summary.Summary'>\n",
       "\"\"\"\n",
       "                          Probit Regression Results                           \n",
       "==============================================================================\n",
       "Dep. Variable:                approve   No. Observations:                 1971\n",
       "Model:                         Probit   Df Residuals:                     1955\n",
       "Method:                           MLE   Df Model:                           15\n",
       "Date:                Tue, 26 Jul 2022   Pseudo R-squ.:                  0.1866\n",
       "Time:                        01:40:04   Log-Likelihood:                -600.27\n",
       "converged:                       True   LL-Null:                       -737.98\n",
       "Covariance Type:            nonrobust   LLR p-value:                 7.014e-50\n",
       "==============================================================================\n",
       "                 coef    std err          z      P>|z|      [0.025      0.975]\n",
       "------------------------------------------------------------------------------\n",
       "const          2.0623      0.313      6.585      0.000       1.449       2.676\n",
       "white          0.5203      0.097      5.366      0.000       0.330       0.710\n",
       "hrat           0.0079      0.007      1.131      0.258      -0.006       0.022\n",
       "obrat         -0.0277      0.006     -4.578      0.000      -0.040      -0.016\n",
       "loanprc       -1.0120      0.237     -4.266      0.000      -1.477      -0.547\n",
       "unem          -0.0367      0.017     -2.099      0.036      -0.071      -0.002\n",
       "male          -0.0370      0.110     -0.337      0.736      -0.252       0.178\n",
       "married        0.2657      0.094      2.820      0.005       0.081       0.450\n",
       "dep           -0.0496      0.039     -1.269      0.204      -0.126       0.027\n",
       "sch            0.0146      0.096      0.153      0.879      -0.173       0.202\n",
       "cosign         0.0861      0.246      0.350      0.726      -0.396       0.568\n",
       "chist          0.5853      0.096      6.098      0.000       0.397       0.773\n",
       "pubrec        -0.7787      0.126     -6.165      0.000      -1.026      -0.531\n",
       "mortlat1      -0.1876      0.253     -0.741      0.459      -0.684       0.308\n",
       "mortlat2      -0.4944      0.327     -1.514      0.130      -1.134       0.146\n",
       "vr            -0.2011      0.081     -2.467      0.014      -0.361      -0.041\n",
       "==============================================================================\n",
       "\"\"\""
      ]
     },
     "execution_count": 16,
     "metadata": {},
     "output_type": "execute_result"
    }
   ],
   "source": [
    "X = sm.add_constant(loanapp[[\"white\", \"hrat\", \"obrat\", \"loanprc\", \"unem\", \"male\", \"married\", \"dep\", \"sch\", \"cosign\", \"chist\", \"pubrec\", \"mortlat1\", \"mortlat2\", \"vr\"]])\n",
    "model = sm.Probit(loanapp.approve, X, missing=\"drop\").fit()\n",
    "model.summary()"
   ]
  },
  {
   "cell_type": "code",
   "execution_count": 17,
   "id": "38d86e93-2cef-46df-bd3a-5dc5ddd525c3",
   "metadata": {},
   "outputs": [
    {
     "name": "stderr",
     "output_type": "stream",
     "text": [
      "/tmp/ipykernel_6983/89657284.py:2: SettingWithCopyWarning: \n",
      "A value is trying to be set on a copy of a slice from a DataFrame.\n",
      "Try using .loc[row_indexer,col_indexer] = value instead\n",
      "\n",
      "See the caveats in the documentation: https://pandas.pydata.org/pandas-docs/stable/user_guide/indexing.html#returning-a-view-versus-a-copy\n",
      "  X_pred[\"white\"] = 0\n",
      "/tmp/ipykernel_6983/89657284.py:4: SettingWithCopyWarning: \n",
      "A value is trying to be set on a copy of a slice from a DataFrame.\n",
      "Try using .loc[row_indexer,col_indexer] = value instead\n",
      "\n",
      "See the caveats in the documentation: https://pandas.pydata.org/pandas-docs/stable/user_guide/indexing.html#returning-a-view-versus-a-copy\n",
      "  X_pred[\"white\"] = 1\n"
     ]
    },
    {
     "data": {
      "text/plain": [
       "0.104224483076233"
      ]
     },
     "execution_count": 17,
     "metadata": {},
     "output_type": "execute_result"
    }
   ],
   "source": [
    "X_pred = X.dropna()\n",
    "X_pred[\"white\"] = 0\n",
    "prob_avg = model.predict(X_pred).mean()\n",
    "X_pred[\"white\"] = 1\n",
    "model.predict(X_pred).mean() - prob_avg"
   ]
  },
  {
   "cell_type": "code",
   "execution_count": 18,
   "id": "b2d99a13-2a0f-4c67-a1a0-0baee268f763",
   "metadata": {},
   "outputs": [
    {
     "name": "stdout",
     "output_type": "stream",
     "text": [
      "Optimization terminated successfully.\n",
      "         Current function value: 0.304666\n",
      "         Iterations 7\n"
     ]
    },
    {
     "data": {
      "text/html": [
       "<table class=\"simpletable\">\n",
       "<caption>Logit Regression Results</caption>\n",
       "<tr>\n",
       "  <th>Dep. Variable:</th>        <td>approve</td>     <th>  No. Observations:  </th>  <td>  1971</td>  \n",
       "</tr>\n",
       "<tr>\n",
       "  <th>Model:</th>                 <td>Logit</td>      <th>  Df Residuals:      </th>  <td>  1955</td>  \n",
       "</tr>\n",
       "<tr>\n",
       "  <th>Method:</th>                 <td>MLE</td>       <th>  Df Model:          </th>  <td>    15</td>  \n",
       "</tr>\n",
       "<tr>\n",
       "  <th>Date:</th>            <td>Tue, 26 Jul 2022</td> <th>  Pseudo R-squ.:     </th>  <td>0.1863</td>  \n",
       "</tr>\n",
       "<tr>\n",
       "  <th>Time:</th>                <td>01:40:05</td>     <th>  Log-Likelihood:    </th> <td> -600.50</td> \n",
       "</tr>\n",
       "<tr>\n",
       "  <th>converged:</th>             <td>True</td>       <th>  LL-Null:           </th> <td> -737.98</td> \n",
       "</tr>\n",
       "<tr>\n",
       "  <th>Covariance Type:</th>     <td>nonrobust</td>    <th>  LLR p-value:       </th> <td>8.693e-50</td>\n",
       "</tr>\n",
       "</table>\n",
       "<table class=\"simpletable\">\n",
       "<tr>\n",
       "      <td></td>        <th>coef</th>     <th>std err</th>      <th>z</th>      <th>P>|z|</th>  <th>[0.025</th>    <th>0.975]</th>  \n",
       "</tr>\n",
       "<tr>\n",
       "  <th>const</th>    <td>    3.8017</td> <td>    0.595</td> <td>    6.393</td> <td> 0.000</td> <td>    2.636</td> <td>    4.967</td>\n",
       "</tr>\n",
       "<tr>\n",
       "  <th>white</th>    <td>    0.9378</td> <td>    0.173</td> <td>    5.424</td> <td> 0.000</td> <td>    0.599</td> <td>    1.277</td>\n",
       "</tr>\n",
       "<tr>\n",
       "  <th>hrat</th>     <td>    0.0133</td> <td>    0.013</td> <td>    1.030</td> <td> 0.303</td> <td>   -0.012</td> <td>    0.039</td>\n",
       "</tr>\n",
       "<tr>\n",
       "  <th>obrat</th>    <td>   -0.0530</td> <td>    0.011</td> <td>   -4.701</td> <td> 0.000</td> <td>   -0.075</td> <td>   -0.031</td>\n",
       "</tr>\n",
       "<tr>\n",
       "  <th>loanprc</th>  <td>   -1.9050</td> <td>    0.460</td> <td>   -4.137</td> <td> 0.000</td> <td>   -2.807</td> <td>   -1.002</td>\n",
       "</tr>\n",
       "<tr>\n",
       "  <th>unem</th>     <td>   -0.0666</td> <td>    0.033</td> <td>   -2.029</td> <td> 0.042</td> <td>   -0.131</td> <td>   -0.002</td>\n",
       "</tr>\n",
       "<tr>\n",
       "  <th>male</th>     <td>   -0.0664</td> <td>    0.206</td> <td>   -0.322</td> <td> 0.748</td> <td>   -0.471</td> <td>    0.338</td>\n",
       "</tr>\n",
       "<tr>\n",
       "  <th>married</th>  <td>    0.5033</td> <td>    0.178</td> <td>    2.827</td> <td> 0.005</td> <td>    0.154</td> <td>    0.852</td>\n",
       "</tr>\n",
       "<tr>\n",
       "  <th>dep</th>      <td>   -0.0907</td> <td>    0.073</td> <td>   -1.237</td> <td> 0.216</td> <td>   -0.234</td> <td>    0.053</td>\n",
       "</tr>\n",
       "<tr>\n",
       "  <th>sch</th>      <td>    0.0412</td> <td>    0.178</td> <td>    0.231</td> <td> 0.817</td> <td>   -0.308</td> <td>    0.391</td>\n",
       "</tr>\n",
       "<tr>\n",
       "  <th>cosign</th>   <td>    0.1321</td> <td>    0.446</td> <td>    0.296</td> <td> 0.767</td> <td>   -0.742</td> <td>    1.006</td>\n",
       "</tr>\n",
       "<tr>\n",
       "  <th>chist</th>    <td>    1.0666</td> <td>    0.171</td> <td>    6.230</td> <td> 0.000</td> <td>    0.731</td> <td>    1.402</td>\n",
       "</tr>\n",
       "<tr>\n",
       "  <th>pubrec</th>   <td>   -1.3407</td> <td>    0.217</td> <td>   -6.168</td> <td> 0.000</td> <td>   -1.767</td> <td>   -0.915</td>\n",
       "</tr>\n",
       "<tr>\n",
       "  <th>mortlat1</th> <td>   -0.3099</td> <td>    0.464</td> <td>   -0.669</td> <td> 0.504</td> <td>   -1.218</td> <td>    0.599</td>\n",
       "</tr>\n",
       "<tr>\n",
       "  <th>mortlat2</th> <td>   -0.8947</td> <td>    0.569</td> <td>   -1.574</td> <td> 0.116</td> <td>   -2.009</td> <td>    0.220</td>\n",
       "</tr>\n",
       "<tr>\n",
       "  <th>vr</th>       <td>   -0.3498</td> <td>    0.154</td> <td>   -2.276</td> <td> 0.023</td> <td>   -0.651</td> <td>   -0.049</td>\n",
       "</tr>\n",
       "</table>"
      ],
      "text/plain": [
       "<class 'statsmodels.iolib.summary.Summary'>\n",
       "\"\"\"\n",
       "                           Logit Regression Results                           \n",
       "==============================================================================\n",
       "Dep. Variable:                approve   No. Observations:                 1971\n",
       "Model:                          Logit   Df Residuals:                     1955\n",
       "Method:                           MLE   Df Model:                           15\n",
       "Date:                Tue, 26 Jul 2022   Pseudo R-squ.:                  0.1863\n",
       "Time:                        01:40:05   Log-Likelihood:                -600.50\n",
       "converged:                       True   LL-Null:                       -737.98\n",
       "Covariance Type:            nonrobust   LLR p-value:                 8.693e-50\n",
       "==============================================================================\n",
       "                 coef    std err          z      P>|z|      [0.025      0.975]\n",
       "------------------------------------------------------------------------------\n",
       "const          3.8017      0.595      6.393      0.000       2.636       4.967\n",
       "white          0.9378      0.173      5.424      0.000       0.599       1.277\n",
       "hrat           0.0133      0.013      1.030      0.303      -0.012       0.039\n",
       "obrat         -0.0530      0.011     -4.701      0.000      -0.075      -0.031\n",
       "loanprc       -1.9050      0.460     -4.137      0.000      -2.807      -1.002\n",
       "unem          -0.0666      0.033     -2.029      0.042      -0.131      -0.002\n",
       "male          -0.0664      0.206     -0.322      0.748      -0.471       0.338\n",
       "married        0.5033      0.178      2.827      0.005       0.154       0.852\n",
       "dep           -0.0907      0.073     -1.237      0.216      -0.234       0.053\n",
       "sch            0.0412      0.178      0.231      0.817      -0.308       0.391\n",
       "cosign         0.1321      0.446      0.296      0.767      -0.742       1.006\n",
       "chist          1.0666      0.171      6.230      0.000       0.731       1.402\n",
       "pubrec        -1.3407      0.217     -6.168      0.000      -1.767      -0.915\n",
       "mortlat1      -0.3099      0.464     -0.669      0.504      -1.218       0.599\n",
       "mortlat2      -0.8947      0.569     -1.574      0.116      -2.009       0.220\n",
       "vr            -0.3498      0.154     -2.276      0.023      -0.651      -0.049\n",
       "==============================================================================\n",
       "\"\"\""
      ]
     },
     "execution_count": 18,
     "metadata": {},
     "output_type": "execute_result"
    }
   ],
   "source": [
    "model = sm.Logit(loanapp.approve, X, missing=\"drop\").fit()\n",
    "model.summary()"
   ]
  },
  {
   "cell_type": "code",
   "execution_count": 19,
   "id": "41ea6909-fdc0-49e2-b55a-f28ef3ea1b19",
   "metadata": {},
   "outputs": [
    {
     "name": "stderr",
     "output_type": "stream",
     "text": [
      "/tmp/ipykernel_6983/1197556308.py:2: SettingWithCopyWarning: \n",
      "A value is trying to be set on a copy of a slice from a DataFrame.\n",
      "Try using .loc[row_indexer,col_indexer] = value instead\n",
      "\n",
      "See the caveats in the documentation: https://pandas.pydata.org/pandas-docs/stable/user_guide/indexing.html#returning-a-view-versus-a-copy\n",
      "  X_pred[\"white\"] = 0\n",
      "/tmp/ipykernel_6983/1197556308.py:4: SettingWithCopyWarning: \n",
      "A value is trying to be set on a copy of a slice from a DataFrame.\n",
      "Try using .loc[row_indexer,col_indexer] = value instead\n",
      "\n",
      "See the caveats in the documentation: https://pandas.pydata.org/pandas-docs/stable/user_guide/indexing.html#returning-a-view-versus-a-copy\n",
      "  X_pred[\"white\"] = 1\n"
     ]
    },
    {
     "data": {
      "text/plain": [
       "0.10087064751405628"
      ]
     },
     "execution_count": 19,
     "metadata": {},
     "output_type": "execute_result"
    }
   ],
   "source": [
    "X_pred = X.dropna()\n",
    "X_pred[\"white\"] = 0\n",
    "log_avg = model.predict(X_pred).mean()\n",
    "X_pred[\"white\"] = 1\n",
    "model.predict(X_pred).mean() - log_avg"
   ]
  },
  {
   "cell_type": "markdown",
   "id": "c703830c-6222-4203-8e81-e5980a2a8afc",
   "metadata": {},
   "source": [
    "C2.i Estimates above. Both the Probit and LPM are identical.\n",
    "\n",
    "C2.ii White is positive and significant, suggesting there is evidence of discrimination.\n",
    "\n",
    "C2.iii The coefficient on white is notably higher but still positive and significant.\n",
    "\n",
    "C2.iv The size of the effect under probit is 10.4%, while the logit effect is about 10.1%"
   ]
  },
  {
   "cell_type": "code",
   "execution_count": null,
   "id": "3d6b7ad0-1246-4d7d-a49a-34db94576353",
   "metadata": {},
   "outputs": [],
   "source": []
  }
 ],
 "metadata": {
  "kernelspec": {
   "display_name": "Python 3 (ipykernel)",
   "language": "python",
   "name": "python3"
  },
  "language_info": {
   "codemirror_mode": {
    "name": "ipython",
    "version": 3
   },
   "file_extension": ".py",
   "mimetype": "text/x-python",
   "name": "python",
   "nbconvert_exporter": "python",
   "pygments_lexer": "ipython3",
   "version": "3.9.12"
  }
 },
 "nbformat": 4,
 "nbformat_minor": 5
}
