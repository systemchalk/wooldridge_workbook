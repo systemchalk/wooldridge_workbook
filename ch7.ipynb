{
 "cells": [
  {
   "cell_type": "markdown",
   "metadata": {},
   "source": [
    "## Chapter 7"
   ]
  },
  {
   "cell_type": "code",
   "execution_count": 1,
   "metadata": {},
   "outputs": [],
   "source": [
    "import pandas as pd\n",
    "import statsmodels.api as sm\n",
    "import numpy as np"
   ]
  },
  {
   "cell_type": "code",
   "execution_count": 2,
   "metadata": {},
   "outputs": [
    {
     "name": "stdout",
     "output_type": "stream",
     "text": [
      "                            OLS Regression Results                            \n",
      "==============================================================================\n",
      "Dep. Variable:                 colGPA   R-squared:                       0.222\n",
      "Model:                            OLS   Adj. R-squared:                  0.193\n",
      "Method:                 Least Squares   F-statistic:                     7.713\n",
      "Date:                Mon, 25 May 2020   Prob (F-statistic):           2.08e-06\n",
      "Time:                        18:38:37   Log-Likelihood:                -42.541\n",
      "No. Observations:                 141   AIC:                             97.08\n",
      "Df Residuals:                     135   BIC:                             114.8\n",
      "Df Model:                           5                                         \n",
      "Covariance Type:            nonrobust                                         \n",
      "==============================================================================\n",
      "                 coef    std err          t      P>|t|      [0.025      0.975]\n",
      "------------------------------------------------------------------------------\n",
      "const          1.2556      0.335      3.744      0.000       0.592       1.919\n",
      "PC             0.1519      0.059      2.586      0.011       0.036       0.268\n",
      "hsGPA          0.4502      0.094      4.775      0.000       0.264       0.637\n",
      "ACT            0.0077      0.011      0.723      0.471      -0.013       0.029\n",
      "mothcoll      -0.0038      0.060     -0.062      0.950      -0.123       0.115\n",
      "fathcoll       0.0418      0.061      0.682      0.496      -0.079       0.163\n",
      "==============================================================================\n",
      "Omnibus:                        2.556   Durbin-Watson:                   1.891\n",
      "Prob(Omnibus):                  0.279   Jarque-Bera (JB):                1.774\n",
      "Skew:                           0.021   Prob(JB):                        0.412\n",
      "Kurtosis:                       2.452   Cond. No.                         299.\n",
      "==============================================================================\n",
      "\n",
      "Warnings:\n",
      "[1] Standard Errors assume that the covariance matrix of the errors is correctly specified.\n"
     ]
    }
   ],
   "source": [
    "# Exercise 1\n",
    "gpa1 = pd.read_stata(\"stata/GPA1.DTA\")\n",
    "\n",
    "y = gpa1.colGPA\n",
    "X = sm.add_constant(gpa1[[\"PC\", \"hsGPA\", \"ACT\", \"mothcoll\", \"fathcoll\"]])\n",
    "model = sm.OLS(y, X).fit()\n",
    "model_summary = model.summary()\n",
    "print(model_summary)"
   ]
  },
  {
   "cell_type": "code",
   "execution_count": 3,
   "metadata": {},
   "outputs": [
    {
     "data": {
      "text/plain": [
       "<class 'statsmodels.stats.contrast.ContrastResults'>\n",
       "<F test: F=array([[0.24455167]]), p=0.783401666560902, df_denom=135, df_num=2>"
      ]
     },
     "execution_count": 3,
     "metadata": {},
     "output_type": "execute_result"
    }
   ],
   "source": [
    "model.f_test(\"(mothcoll = 0), (fathcoll = 0)\")"
   ]
  },
  {
   "cell_type": "code",
   "execution_count": 4,
   "metadata": {},
   "outputs": [
    {
     "name": "stdout",
     "output_type": "stream",
     "text": [
      "                            OLS Regression Results                            \n",
      "==============================================================================\n",
      "Dep. Variable:                 colGPA   R-squared:                       0.236\n",
      "Model:                            OLS   Adj. R-squared:                  0.202\n",
      "Method:                 Least Squares   F-statistic:                     6.904\n",
      "Date:                Mon, 25 May 2020   Prob (F-statistic):           2.09e-06\n",
      "Time:                        18:38:37   Log-Likelihood:                -41.266\n",
      "No. Observations:                 141   AIC:                             96.53\n",
      "Df Residuals:                     134   BIC:                             117.2\n",
      "Df Model:                           6                                         \n",
      "Covariance Type:            nonrobust                                         \n",
      "==============================================================================\n",
      "                 coef    std err          t      P>|t|      [0.025      0.975]\n",
      "------------------------------------------------------------------------------\n",
      "const          5.0403      2.443      2.063      0.041       0.208       9.872\n",
      "PC             0.1404      0.059      2.386      0.018       0.024       0.257\n",
      "hsGPA         -1.8025      1.444     -1.249      0.214      -4.658       1.053\n",
      "hsGPAsq        0.3373      0.216      1.564      0.120      -0.089       0.764\n",
      "ACT            0.0048      0.011      0.444      0.658      -0.017       0.026\n",
      "mothcoll       0.0031      0.060      0.051      0.959      -0.116       0.122\n",
      "fathcoll       0.0628      0.062      1.006      0.316      -0.061       0.186\n",
      "==============================================================================\n",
      "Omnibus:                        3.643   Durbin-Watson:                   1.861\n",
      "Prob(Omnibus):                  0.162   Jarque-Bera (JB):                2.207\n",
      "Skew:                           0.006   Prob(JB):                        0.332\n",
      "Kurtosis:                       2.387   Cond. No.                     2.77e+03\n",
      "==============================================================================\n",
      "\n",
      "Warnings:\n",
      "[1] Standard Errors assume that the covariance matrix of the errors is correctly specified.\n",
      "[2] The condition number is large, 2.77e+03. This might indicate that there are\n",
      "strong multicollinearity or other numerical problems.\n"
     ]
    }
   ],
   "source": [
    "gpa1[\"hsGPAsq\"] = gpa1.hsGPA ** 2\n",
    "\n",
    "X = sm.add_constant(gpa1[[\"PC\", \"hsGPA\", \"hsGPAsq\", \"ACT\", \"mothcoll\", \"fathcoll\"]])\n",
    "model = sm.OLS(y, X).fit()\n",
    "model_summary = model.summary()\n",
    "print(model_summary)"
   ]
  },
  {
   "cell_type": "code",
   "execution_count": 5,
   "metadata": {},
   "outputs": [
    {
     "data": {
      "text/plain": [
       "<class 'statsmodels.stats.contrast.ContrastResults'>\n",
       "<F test: F=array([[12.74698384]]), p=8.553737864007102e-06, df_denom=134, df_num=2>"
      ]
     },
     "execution_count": 5,
     "metadata": {},
     "output_type": "execute_result"
    }
   ],
   "source": [
    "model.f_test(\"(hsGPA = 0), (hsGPAsq = 0)\")"
   ]
  },
  {
   "cell_type": "markdown",
   "metadata": {},
   "source": [
    "C1.i PC decreases slightly and is still statistically significant\n",
    "\n",
    "C1.ii The two variables are not jointly significant with a p-value of 0.78\n",
    "\n",
    "C1.iii The quadratic term is not itself significant (though the two are jointly significance) and the variation is not particularly better explained with it."
   ]
  },
  {
   "cell_type": "code",
   "execution_count": 6,
   "metadata": {},
   "outputs": [
    {
     "name": "stdout",
     "output_type": "stream",
     "text": [
      "                            OLS Regression Results                            \n",
      "==============================================================================\n",
      "Dep. Variable:                  lwage   R-squared:                       0.253\n",
      "Model:                            OLS   Adj. R-squared:                  0.247\n",
      "Method:                 Least Squares   F-statistic:                     44.75\n",
      "Date:                Mon, 25 May 2020   Prob (F-statistic):           1.16e-54\n",
      "Time:                        18:38:37   Log-Likelihood:                -381.55\n",
      "No. Observations:                 935   AIC:                             779.1\n",
      "Df Residuals:                     927   BIC:                             817.8\n",
      "Df Model:                           7                                         \n",
      "Covariance Type:            nonrobust                                         \n",
      "==============================================================================\n",
      "                 coef    std err          t      P>|t|      [0.025      0.975]\n",
      "------------------------------------------------------------------------------\n",
      "const          5.3955      0.113     47.653      0.000       5.173       5.618\n",
      "educ           0.0654      0.006     10.468      0.000       0.053       0.078\n",
      "exper          0.0140      0.003      4.409      0.000       0.008       0.020\n",
      "tenure         0.0117      0.002      4.789      0.000       0.007       0.017\n",
      "married        0.1994      0.039      5.107      0.000       0.123       0.276\n",
      "black         -0.1883      0.038     -5.000      0.000      -0.262      -0.114\n",
      "south         -0.0909      0.026     -3.463      0.001      -0.142      -0.039\n",
      "urban          0.1839      0.027      6.822      0.000       0.131       0.237\n",
      "==============================================================================\n",
      "Omnibus:                       38.227   Durbin-Watson:                   1.823\n",
      "Prob(Omnibus):                  0.000   Jarque-Bera (JB):               83.390\n",
      "Skew:                          -0.224   Prob(JB):                     7.80e-19\n",
      "Kurtosis:                       4.393   Cond. No.                         187.\n",
      "==============================================================================\n",
      "\n",
      "Warnings:\n",
      "[1] Standard Errors assume that the covariance matrix of the errors is correctly specified.\n"
     ]
    }
   ],
   "source": [
    "# Exercise 2\n",
    "wage2 = pd.read_stata(\"stata/WAGE2.DTA\")\n",
    "\n",
    "y = wage2.lwage\n",
    "X = sm.add_constant(wage2[[\"educ\", \"exper\", \"tenure\", \"married\", \"black\", \"south\", \"urban\"]])\n",
    "model = sm.OLS(y, X).fit()\n",
    "model_summary = model.summary()\n",
    "print(model_summary)"
   ]
  },
  {
   "cell_type": "code",
   "execution_count": 7,
   "metadata": {},
   "outputs": [
    {
     "name": "stdout",
     "output_type": "stream",
     "text": [
      "                            OLS Regression Results                            \n",
      "==============================================================================\n",
      "Dep. Variable:                  lwage   R-squared:                       0.255\n",
      "Model:                            OLS   Adj. R-squared:                  0.248\n",
      "Method:                 Least Squares   F-statistic:                     35.17\n",
      "Date:                Mon, 25 May 2020   Prob (F-statistic):           1.22e-53\n",
      "Time:                        18:38:37   Log-Likelihood:                -380.05\n",
      "No. Observations:                 935   AIC:                             780.1\n",
      "Df Residuals:                     925   BIC:                             828.5\n",
      "Df Model:                           9                                         \n",
      "Covariance Type:            nonrobust                                         \n",
      "==============================================================================\n",
      "                 coef    std err          t      P>|t|      [0.025      0.975]\n",
      "------------------------------------------------------------------------------\n",
      "const          5.3587      0.126     42.558      0.000       5.112       5.606\n",
      "educ           0.0643      0.006     10.184      0.000       0.052       0.077\n",
      "exper          0.0172      0.013      1.365      0.173      -0.008       0.042\n",
      "expersq       -0.0001      0.001     -0.214      0.831      -0.001       0.001\n",
      "tenure         0.0249      0.008      3.066      0.002       0.009       0.041\n",
      "tenuresq      -0.0008      0.000     -1.691      0.091      -0.002       0.000\n",
      "married        0.1985      0.039      5.077      0.000       0.122       0.275\n",
      "black         -0.1907      0.038     -5.057      0.000      -0.265      -0.117\n",
      "south         -0.0912      0.026     -3.477      0.001      -0.143      -0.040\n",
      "urban          0.1854      0.027      6.878      0.000       0.133       0.238\n",
      "==============================================================================\n",
      "Omnibus:                       37.281   Durbin-Watson:                   1.819\n",
      "Prob(Omnibus):                  0.000   Jarque-Bera (JB):               84.321\n",
      "Skew:                          -0.199   Prob(JB):                     4.90e-19\n",
      "Kurtosis:                       4.416   Cond. No.                     2.19e+03\n",
      "==============================================================================\n",
      "\n",
      "Warnings:\n",
      "[1] Standard Errors assume that the covariance matrix of the errors is correctly specified.\n",
      "[2] The condition number is large, 2.19e+03. This might indicate that there are\n",
      "strong multicollinearity or other numerical problems.\n"
     ]
    }
   ],
   "source": [
    "wage2[\"expersq\"] = wage2.exper.astype(\"int32\") ** 2\n",
    "wage2[\"tenuresq\"] = wage2.tenure.astype(\"int32\") ** 2\n",
    "\n",
    "X = sm.add_constant(wage2[[\"educ\", \"exper\", \"expersq\", \"tenure\", \"tenuresq\", \"married\", \"black\", \"south\", \"urban\"]])\n",
    "model = sm.OLS(y, X).fit()\n",
    "model_summary = model.summary()\n",
    "print(model_summary)"
   ]
  },
  {
   "cell_type": "code",
   "execution_count": 8,
   "metadata": {},
   "outputs": [
    {
     "data": {
      "text/plain": [
       "<class 'statsmodels.stats.contrast.ContrastResults'>\n",
       "<F test: F=array([[1.4898061]]), p=0.22595672984182205, df_denom=925, df_num=2>"
      ]
     },
     "execution_count": 8,
     "metadata": {},
     "output_type": "execute_result"
    }
   ],
   "source": [
    "model.f_test(\"(expersq = 0), (tenuresq = 0)\")"
   ]
  },
  {
   "cell_type": "code",
   "execution_count": 9,
   "metadata": {},
   "outputs": [
    {
     "name": "stdout",
     "output_type": "stream",
     "text": [
      "                            OLS Regression Results                            \n",
      "==============================================================================\n",
      "Dep. Variable:                  lwage   R-squared:                       0.256\n",
      "Model:                            OLS   Adj. R-squared:                  0.248\n",
      "Method:                 Least Squares   F-statistic:                     31.78\n",
      "Date:                Mon, 25 May 2020   Prob (F-statistic):           4.22e-53\n",
      "Time:                        18:38:37   Log-Likelihood:                -379.45\n",
      "No. Observations:                 935   AIC:                             780.9\n",
      "Df Residuals:                     924   BIC:                             834.2\n",
      "Df Model:                          10                                         \n",
      "Covariance Type:            nonrobust                                         \n",
      "==============================================================================\n",
      "                 coef    std err          t      P>|t|      [0.025      0.975]\n",
      "------------------------------------------------------------------------------\n",
      "const          5.3377      0.127     41.902      0.000       5.088       5.588\n",
      "educ           0.0659      0.006     10.158      0.000       0.053       0.079\n",
      "blackeduc     -0.0218      0.020     -1.081      0.280      -0.061       0.018\n",
      "exper          0.0173      0.013      1.374      0.170      -0.007       0.042\n",
      "expersq       -0.0001      0.001     -0.241      0.810      -0.001       0.001\n",
      "tenure         0.0247      0.008      3.041      0.002       0.009       0.041\n",
      "tenuresq      -0.0008      0.000     -1.659      0.097      -0.002       0.000\n",
      "married        0.1981      0.039      5.067      0.000       0.121       0.275\n",
      "black          0.0825      0.256      0.323      0.747      -0.419       0.584\n",
      "south         -0.0898      0.026     -3.419      0.001      -0.141      -0.038\n",
      "urban          0.1853      0.027      6.876      0.000       0.132       0.238\n",
      "==============================================================================\n",
      "Omnibus:                       37.566   Durbin-Watson:                   1.823\n",
      "Prob(Omnibus):                  0.000   Jarque-Bera (JB):               84.786\n",
      "Skew:                          -0.203   Prob(JB):                     3.88e-19\n",
      "Kurtosis:                       4.418   Cond. No.                     4.44e+03\n",
      "==============================================================================\n",
      "\n",
      "Warnings:\n",
      "[1] Standard Errors assume that the covariance matrix of the errors is correctly specified.\n",
      "[2] The condition number is large, 4.44e+03. This might indicate that there are\n",
      "strong multicollinearity or other numerical problems.\n"
     ]
    }
   ],
   "source": [
    "wage2[\"blackeduc\"] = wage2.black * wage2.educ\n",
    "\n",
    "X = sm.add_constant(wage2[[\"educ\", \"blackeduc\", \"exper\", \"expersq\", \"tenure\", \"tenuresq\", \"married\", \"black\", \"south\", \"urban\"]])\n",
    "model = sm.OLS(y, X).fit()\n",
    "model_summary = model.summary()\n",
    "print(model_summary)"
   ]
  },
  {
   "cell_type": "code",
   "execution_count": 10,
   "metadata": {},
   "outputs": [
    {
     "name": "stdout",
     "output_type": "stream",
     "text": [
      "                            OLS Regression Results                            \n",
      "==============================================================================\n",
      "Dep. Variable:                  lwage   R-squared:                       0.253\n",
      "Model:                            OLS   Adj. R-squared:                  0.246\n",
      "Method:                 Least Squares   F-statistic:                     39.17\n",
      "Date:                Mon, 25 May 2020   Prob (F-statistic):           6.78e-54\n",
      "Time:                        18:38:37   Log-Likelihood:                -381.37\n",
      "No. Observations:                 935   AIC:                             780.7\n",
      "Df Residuals:                     926   BIC:                             824.3\n",
      "Df Model:                           8                                         \n",
      "Covariance Type:            nonrobust                                         \n",
      "==============================================================================\n",
      "                 coef    std err          t      P>|t|      [0.025      0.975]\n",
      "------------------------------------------------------------------------------\n",
      "const          5.4038      0.114     47.351      0.000       5.180       5.628\n",
      "educ           0.0655      0.006     10.471      0.000       0.053       0.078\n",
      "exper          0.0141      0.003      4.433      0.000       0.008       0.020\n",
      "tenure         0.0117      0.002      4.745      0.000       0.007       0.016\n",
      "married        0.1889      0.043      4.406      0.000       0.105       0.273\n",
      "black         -0.2408      0.096     -2.508      0.012      -0.429      -0.052\n",
      "marrblack      0.0614      0.103      0.594      0.553      -0.141       0.264\n",
      "south         -0.0920      0.026     -3.495      0.000      -0.144      -0.040\n",
      "urban          0.1844      0.027      6.833      0.000       0.131       0.237\n",
      "==============================================================================\n",
      "Omnibus:                       38.572   Durbin-Watson:                   1.824\n",
      "Prob(Omnibus):                  0.000   Jarque-Bera (JB):               84.151\n",
      "Skew:                          -0.227   Prob(JB):                     5.33e-19\n",
      "Kurtosis:                       4.398   Cond. No.                         233.\n",
      "==============================================================================\n",
      "\n",
      "Warnings:\n",
      "[1] Standard Errors assume that the covariance matrix of the errors is correctly specified.\n"
     ]
    }
   ],
   "source": [
    "wage2[\"marrblack\"] = wage2.married * wage2.black\n",
    "\n",
    "X = sm.add_constant(wage2[[\"educ\", \"exper\", \"tenure\", \"married\", \"black\", \"marrblack\", \"south\", \"urban\"]])\n",
    "model = sm.OLS(y, X).fit()\n",
    "model_summary = model.summary()\n",
    "print(model_summary)"
   ]
  },
  {
   "cell_type": "code",
   "execution_count": 11,
   "metadata": {},
   "outputs": [
    {
     "data": {
      "text/plain": [
       "-0.17946627597397202"
      ]
     },
     "execution_count": 11,
     "metadata": {},
     "output_type": "execute_result"
    }
   ],
   "source": [
    "model.params[5] + model.params[6]"
   ]
  },
  {
   "cell_type": "markdown",
   "metadata": {},
   "source": [
    "C2.i The approximate difference between blacks and nonblacks is about 18.8% and is statistically significant\n",
    "\n",
    "C2.ii The quadratic terms are not jointly significant at the 20% level\n",
    "\n",
    "C2.iii Extended but not significant\n",
    "\n",
    "C2.iv The estimated difference between married blacks and married nonblacks is about 18%"
   ]
  },
  {
   "cell_type": "code",
   "execution_count": 12,
   "metadata": {},
   "outputs": [
    {
     "name": "stdout",
     "output_type": "stream",
     "text": [
      "                            OLS Regression Results                            \n",
      "==============================================================================\n",
      "Dep. Variable:                lsalary   R-squared:                       0.654\n",
      "Model:                            OLS   Adj. R-squared:                  0.640\n",
      "Method:                 Least Squares   F-statistic:                     49.19\n",
      "Date:                Mon, 25 May 2020   Prob (F-statistic):           6.45e-70\n",
      "Time:                        18:38:38   Log-Likelihood:                -372.46\n",
      "No. Observations:                 353   AIC:                             772.9\n",
      "Df Residuals:                     339   BIC:                             827.1\n",
      "Df Model:                          13                                         \n",
      "Covariance Type:            nonrobust                                         \n",
      "==============================================================================\n",
      "                 coef    std err          t      P>|t|      [0.025      0.975]\n",
      "------------------------------------------------------------------------------\n",
      "const         11.1296      2.304      4.830      0.000       6.597      15.662\n",
      "years          0.0584      0.012      4.760      0.000       0.034       0.083\n",
      "gamesyr        0.0098      0.003      2.892      0.004       0.003       0.016\n",
      "bavg           0.0005      0.001      0.422      0.673      -0.002       0.003\n",
      "hrunsyr        0.0191      0.016      1.199      0.231      -0.012       0.051\n",
      "rbisyr         0.0018      0.007      0.239      0.811      -0.013       0.016\n",
      "runsyr         0.0119      0.005      2.623      0.009       0.003       0.021\n",
      "fldperc        0.0003      0.002      0.123      0.902      -0.004       0.005\n",
      "allstar        0.0063      0.003      2.198      0.029       0.001       0.012\n",
      "frstbase      -0.1328      0.131     -1.014      0.311      -0.390       0.125\n",
      "scndbase      -0.1611      0.141     -1.139      0.255      -0.439       0.117\n",
      "thrdbase       0.0145      0.143      0.102      0.919      -0.267       0.296\n",
      "shrtstop      -0.0606      0.130     -0.465      0.642      -0.317       0.196\n",
      "catcher        0.2536      0.131      1.931      0.054      -0.005       0.512\n",
      "==============================================================================\n",
      "Omnibus:                        3.261   Durbin-Watson:                   1.286\n",
      "Prob(Omnibus):                  0.196   Jarque-Bera (JB):                3.515\n",
      "Skew:                           0.084   Prob(JB):                        0.172\n",
      "Kurtosis:                       3.459   Cond. No.                     6.20e+04\n",
      "==============================================================================\n",
      "\n",
      "Warnings:\n",
      "[1] Standard Errors assume that the covariance matrix of the errors is correctly specified.\n",
      "[2] The condition number is large, 6.2e+04. This might indicate that there are\n",
      "strong multicollinearity or other numerical problems.\n"
     ]
    }
   ],
   "source": [
    "# Exercise 3\n",
    "mlb1 = pd.read_stata(\"stata/MLB1.DTA\")\n",
    "\n",
    "y = mlb1.lsalary\n",
    "X = sm.add_constant(mlb1[[\"years\", \"gamesyr\", \"bavg\", \"hrunsyr\", \"rbisyr\", \"runsyr\", \"fldperc\", \"allstar\", \"frstbase\", \"scndbase\", \"thrdbase\", \"shrtstop\", \"catcher\"]])\n",
    "model = sm.OLS(y, X).fit()\n",
    "model_summary = model.summary()\n",
    "print(model_summary)"
   ]
  },
  {
   "cell_type": "code",
   "execution_count": 13,
   "metadata": {},
   "outputs": [
    {
     "data": {
      "text/plain": [
       "<class 'statsmodels.stats.contrast.ContrastResults'>\n",
       "<F test: F=array([[1.77743354]]), p=0.11682998340619842, df_denom=339, df_num=5>"
      ]
     },
     "execution_count": 13,
     "metadata": {},
     "output_type": "execute_result"
    }
   ],
   "source": [
    "model.f_test(\"(frstbase = 0), (scndbase = 0), (thrdbase = 0), (shrtstop = 0), (catcher = 0)\")"
   ]
  },
  {
   "cell_type": "markdown",
   "metadata": {},
   "source": [
    "C3.i $H_{catch} = 0$ vs $H_{catch} \\ne 0$. The null hypothesis is only rejected at the 10% level (if true, catchers make 25% more)\n",
    "\n",
    "C3.ii The test that all positions make the same is not even rejected at the 10% level.\n",
    "\n",
    "C3.iii The results appear to be consistent"
   ]
  },
  {
   "cell_type": "code",
   "execution_count": 14,
   "metadata": {},
   "outputs": [
    {
     "name": "stdout",
     "output_type": "stream",
     "text": [
      "                            OLS Regression Results                            \n",
      "==============================================================================\n",
      "Dep. Variable:                 colgpa   R-squared:                       0.293\n",
      "Model:                            OLS   Adj. R-squared:                  0.291\n",
      "Method:                 Least Squares   F-statistic:                     284.6\n",
      "Date:                Mon, 25 May 2020   Prob (F-statistic):          8.63e-306\n",
      "Time:                        18:38:38   Log-Likelihood:                -3426.3\n",
      "No. Observations:                4137   AIC:                             6867.\n",
      "Df Residuals:                    4130   BIC:                             6911.\n",
      "Df Model:                           6                                         \n",
      "Covariance Type:            nonrobust                                         \n",
      "==============================================================================\n",
      "                 coef    std err          t      P>|t|      [0.025      0.975]\n",
      "------------------------------------------------------------------------------\n",
      "const          1.2414      0.079     15.616      0.000       1.086       1.397\n",
      "hsize         -0.0569      0.016     -3.477      0.001      -0.089      -0.025\n",
      "hsizesq        0.0047      0.002      2.079      0.038       0.000       0.009\n",
      "hsperc        -0.0132      0.001    -23.068      0.000      -0.014      -0.012\n",
      "sat            0.0016   6.68e-05     24.640      0.000       0.002       0.002\n",
      "female         0.1549      0.018      8.602      0.000       0.120       0.190\n",
      "athlete        0.1693      0.042      3.998      0.000       0.086       0.252\n",
      "==============================================================================\n",
      "Omnibus:                      183.038   Durbin-Watson:                   1.897\n",
      "Prob(Omnibus):                  0.000   Jarque-Bera (JB):              227.139\n",
      "Skew:                          -0.471   Prob(JB):                     4.76e-50\n",
      "Kurtosis:                       3.657   Cond. No.                     9.68e+03\n",
      "==============================================================================\n",
      "\n",
      "Warnings:\n",
      "[1] Standard Errors assume that the covariance matrix of the errors is correctly specified.\n",
      "[2] The condition number is large, 9.68e+03. This might indicate that there are\n",
      "strong multicollinearity or other numerical problems.\n"
     ]
    }
   ],
   "source": [
    "# Exercise 4\n",
    "gpa2 = pd.read_excel(\"excel/gpa2.xls\", \n",
    "                     names = [\"sat\", \"tothrs\", \"colgpa\", \"athlete\", \"verbmath\", \"hsize\", \"hsrank\", \"hsperc\", \"female\", \"white\", \"black\", \"hsizesq\"],\n",
    "                     sep = \" \", header = None)\n",
    "\n",
    "y = gpa2.colgpa\n",
    "X = sm.add_constant(gpa2[[\"hsize\", \"hsizesq\", \"hsperc\", \"sat\", \"female\", \"athlete\"]])\n",
    "model = sm.OLS(y, X).fit()\n",
    "model_summary = model.summary()\n",
    "print(model_summary)"
   ]
  },
  {
   "cell_type": "code",
   "execution_count": 15,
   "metadata": {},
   "outputs": [
    {
     "name": "stdout",
     "output_type": "stream",
     "text": [
      "                            OLS Regression Results                            \n",
      "==============================================================================\n",
      "Dep. Variable:                 colgpa   R-squared:                       0.189\n",
      "Model:                            OLS   Adj. R-squared:                  0.188\n",
      "Method:                 Least Squares   F-statistic:                     191.9\n",
      "Date:                Mon, 25 May 2020   Prob (F-statistic):          2.47e-184\n",
      "Time:                        18:38:38   Log-Likelihood:                -3710.0\n",
      "No. Observations:                4137   AIC:                             7432.\n",
      "Df Residuals:                    4131   BIC:                             7470.\n",
      "Df Model:                           5                                         \n",
      "Covariance Type:            nonrobust                                         \n",
      "==============================================================================\n",
      "                 coef    std err          t      P>|t|      [0.025      0.975]\n",
      "------------------------------------------------------------------------------\n",
      "const          3.0477      0.033     92.594      0.000       2.983       3.112\n",
      "hsize         -0.0534      0.018     -3.050      0.002      -0.088      -0.019\n",
      "hsizesq        0.0053      0.002      2.210      0.027       0.001       0.010\n",
      "hsperc        -0.0171      0.001    -29.086      0.000      -0.018      -0.016\n",
      "female         0.0581      0.019      3.089      0.002       0.021       0.095\n",
      "athlete        0.0054      0.045      0.122      0.903      -0.082       0.093\n",
      "==============================================================================\n",
      "Omnibus:                      109.574   Durbin-Watson:                   1.818\n",
      "Prob(Omnibus):                  0.000   Jarque-Bera (JB):              121.981\n",
      "Skew:                          -0.375   Prob(JB):                     3.25e-27\n",
      "Kurtosis:                       3.382   Cond. No.                         133.\n",
      "==============================================================================\n",
      "\n",
      "Warnings:\n",
      "[1] Standard Errors assume that the covariance matrix of the errors is correctly specified.\n"
     ]
    }
   ],
   "source": [
    "X = sm.add_constant(gpa2[[\"hsize\", \"hsizesq\", \"hsperc\", \"female\", \"athlete\"]])\n",
    "model = sm.OLS(y, X).fit()\n",
    "model_summary = model.summary()\n",
    "print(model_summary)"
   ]
  },
  {
   "cell_type": "code",
   "execution_count": 16,
   "metadata": {},
   "outputs": [
    {
     "name": "stdout",
     "output_type": "stream",
     "text": [
      "914.020618556701\n",
      "1036.0537661678925\n"
     ]
    }
   ],
   "source": [
    "print(gpa2.sat[gpa2.athlete == 1].mean())\n",
    "print(gpa2.sat[gpa2.athlete == 0].mean())"
   ]
  },
  {
   "cell_type": "code",
   "execution_count": 17,
   "metadata": {},
   "outputs": [
    {
     "name": "stdout",
     "output_type": "stream",
     "text": [
      "                            OLS Regression Results                            \n",
      "==============================================================================\n",
      "Dep. Variable:                 colgpa   R-squared:                       0.293\n",
      "Model:                            OLS   Adj. R-squared:                  0.291\n",
      "Method:                 Least Squares   F-statistic:                     243.9\n",
      "Date:                Mon, 25 May 2020   Prob (F-statistic):          1.51e-304\n",
      "Time:                        18:38:38   Log-Likelihood:                -3426.3\n",
      "No. Observations:                4137   AIC:                             6869.\n",
      "Df Residuals:                    4129   BIC:                             6919.\n",
      "Df Model:                           7                                         \n",
      "Covariance Type:            nonrobust                                         \n",
      "=================================================================================\n",
      "                    coef    std err          t      P>|t|      [0.025      0.975]\n",
      "---------------------------------------------------------------------------------\n",
      "const             1.3962      0.076     18.478      0.000       1.248       1.544\n",
      "hsize            -0.0568      0.016     -3.470      0.001      -0.089      -0.025\n",
      "hsizesq           0.0047      0.002      2.075      0.038       0.000       0.009\n",
      "hsperc           -0.0132      0.001    -23.056      0.000      -0.014      -0.012\n",
      "sat               0.0016   6.69e-05     24.618      0.000       0.002       0.002\n",
      "male             -0.1546      0.018     -8.443      0.000      -0.191      -0.119\n",
      "maleathlete       0.1674      0.048      3.453      0.001       0.072       0.262\n",
      "femaleathlete     0.1751      0.084      2.084      0.037       0.010       0.340\n",
      "==============================================================================\n",
      "Omnibus:                      183.109   Durbin-Watson:                   1.897\n",
      "Prob(Omnibus):                  0.000   Jarque-Bera (JB):              227.240\n",
      "Skew:                          -0.471   Prob(JB):                     4.52e-50\n",
      "Kurtosis:                       3.657   Cond. No.                     1.02e+04\n",
      "==============================================================================\n",
      "\n",
      "Warnings:\n",
      "[1] Standard Errors assume that the covariance matrix of the errors is correctly specified.\n",
      "[2] The condition number is large, 1.02e+04. This might indicate that there are\n",
      "strong multicollinearity or other numerical problems.\n"
     ]
    }
   ],
   "source": [
    "gpa2[\"femaleathlete\"] = gpa2.athlete * gpa2.female\n",
    "gpa2[\"male\"] = 1 - gpa2.female\n",
    "gpa2[\"maleathlete\"] = gpa2.male * gpa2.athlete\n",
    "\n",
    "X = sm.add_constant(gpa2[[\"hsize\", \"hsizesq\", \"hsperc\", \"sat\", \"male\", \"maleathlete\", \"femaleathlete\"]])\n",
    "model = sm.OLS(y, X).fit()\n",
    "model_summary = model.summary()\n",
    "print(model_summary)"
   ]
  },
  {
   "cell_type": "code",
   "execution_count": 18,
   "metadata": {},
   "outputs": [
    {
     "name": "stdout",
     "output_type": "stream",
     "text": [
      "                            OLS Regression Results                            \n",
      "==============================================================================\n",
      "Dep. Variable:                 colgpa   R-squared:                       0.293\n",
      "Model:                            OLS   Adj. R-squared:                  0.291\n",
      "Method:                 Least Squares   F-statistic:                     213.4\n",
      "Date:                Mon, 25 May 2020   Prob (F-statistic):          2.25e-303\n",
      "Time:                        18:38:39   Log-Likelihood:                -3426.2\n",
      "No. Observations:                4137   AIC:                             6870.\n",
      "Df Residuals:                    4128   BIC:                             6927.\n",
      "Df Model:                           8                                         \n",
      "Covariance Type:            nonrobust                                         \n",
      "=================================================================================\n",
      "                    coef    std err          t      P>|t|      [0.025      0.975]\n",
      "---------------------------------------------------------------------------------\n",
      "const             1.3643      0.108     12.636      0.000       1.153       1.576\n",
      "hsize            -0.0568      0.016     -3.471      0.001      -0.089      -0.025\n",
      "hsizesq           0.0047      0.002      2.078      0.038       0.000       0.009\n",
      "hsperc           -0.0132      0.001    -23.044      0.000      -0.014      -0.012\n",
      "sat               0.0016   8.58e-05     18.929      0.000       0.001       0.002\n",
      "male             -0.0990      0.136     -0.729      0.466      -0.365       0.167\n",
      "maleathlete       0.1643      0.049      3.349      0.001       0.068       0.261\n",
      "femaleathlete     0.1780      0.084      2.111      0.035       0.013       0.343\n",
      "femalesat      5.395e-05      0.000      0.413      0.680      -0.000       0.000\n",
      "==============================================================================\n",
      "Omnibus:                      183.070   Durbin-Watson:                   1.897\n",
      "Prob(Omnibus):                  0.000   Jarque-Bera (JB):              227.197\n",
      "Skew:                          -0.471   Prob(JB):                     4.62e-50\n",
      "Kurtosis:                       3.657   Cond. No.                     2.16e+04\n",
      "==============================================================================\n",
      "\n",
      "Warnings:\n",
      "[1] Standard Errors assume that the covariance matrix of the errors is correctly specified.\n",
      "[2] The condition number is large, 2.16e+04. This might indicate that there are\n",
      "strong multicollinearity or other numerical problems.\n"
     ]
    }
   ],
   "source": [
    "gpa2[\"femalesat\"] = gpa2.sat * gpa2.female\n",
    "\n",
    "X = sm.add_constant(gpa2[[\"hsize\", \"hsizesq\", \"hsperc\", \"sat\", \"male\", \"maleathlete\", \"femaleathlete\", \"femalesat\"]])\n",
    "model = sm.OLS(y, X).fit()\n",
    "model_summary = model.summary()\n",
    "print(model_summary)"
   ]
  },
  {
   "cell_type": "markdown",
   "metadata": {},
   "source": [
    "C4.ii 0.17 points on GPA. This is one of the largest effects and is statistically significant\n",
    "\n",
    "C4.iii The effect is much smaller and no longer statistically significant. Athletes appear to have lower SAT scores than non-athletes and so removing this control makes it harder to identify the effects of being an athlete\n",
    "\n",
    "C4.iv The base case is female non-athletes. Given that the coefficient for female athletes is significant, we \n",
    "\n",
    "C4.v We do not finde evidence to suggest that SAT scores are different by gender"
   ]
  },
  {
   "cell_type": "code",
   "execution_count": 19,
   "metadata": {},
   "outputs": [
    {
     "name": "stdout",
     "output_type": "stream",
     "text": [
      "                            OLS Regression Results                            \n",
      "==============================================================================\n",
      "Dep. Variable:                lsalary   R-squared:                       0.297\n",
      "Model:                            OLS   Adj. R-squared:                  0.286\n",
      "Method:                 Least Squares   F-statistic:                     28.81\n",
      "Date:                Mon, 25 May 2020   Prob (F-statistic):           1.37e-15\n",
      "Time:                        18:38:39   Log-Likelihood:                -140.47\n",
      "No. Observations:                 209   AIC:                             288.9\n",
      "Df Residuals:                     205   BIC:                             302.3\n",
      "Df Model:                           3                                         \n",
      "Covariance Type:            nonrobust                                         \n",
      "==============================================================================\n",
      "                 coef    std err          t      P>|t|      [0.025      0.975]\n",
      "------------------------------------------------------------------------------\n",
      "const          4.2976      0.293     14.655      0.000       3.719       4.876\n",
      "lsales         0.2884      0.034      8.579      0.000       0.222       0.355\n",
      "roe            0.0167      0.004      4.198      0.000       0.009       0.024\n",
      "rosneg        -0.2257      0.109     -2.064      0.040      -0.441      -0.010\n",
      "==============================================================================\n",
      "Omnibus:                       97.645   Durbin-Watson:                   1.958\n",
      "Prob(Omnibus):                  0.000   Jarque-Bera (JB):              566.341\n",
      "Skew:                           1.720   Prob(JB):                    1.05e-123\n",
      "Kurtosis:                      10.294   Cond. No.                         184.\n",
      "==============================================================================\n",
      "\n",
      "Warnings:\n",
      "[1] Standard Errors assume that the covariance matrix of the errors is correctly specified.\n"
     ]
    }
   ],
   "source": [
    "# Exercise 5\n",
    "ceosal1 = pd.read_stata(\"stata/CEOSAL1.DTA\")\n",
    "ceosal1[\"rosneg\"] = (ceosal1.ros < 0).astype('int32')\n",
    "\n",
    "y = ceosal1.lsalary\n",
    "X = sm.add_constant(ceosal1[[\"lsales\", \"roe\", \"rosneg\"]])\n",
    "model = sm.OLS(y, X).fit()\n",
    "model_summary = model.summary()\n",
    "print(model_summary)"
   ]
  },
  {
   "cell_type": "markdown",
   "metadata": {},
   "source": [
    "C5.i Constant shifts with the value of PC. NoPC becomes negative.\n",
    "\n",
    "C5.ii R-squared is the same\n",
    "\n",
    "C5.iii Both should not due to collinearity"
   ]
  },
  {
   "cell_type": "code",
   "execution_count": 20,
   "metadata": {},
   "outputs": [
    {
     "name": "stdout",
     "output_type": "stream",
     "text": [
      "                            OLS Regression Results                            \n",
      "==============================================================================\n",
      "Dep. Variable:                  sleep   R-squared:                       0.115\n",
      "Model:                            OLS   Adj. R-squared:                  0.108\n",
      "Method:                 Least Squares   F-statistic:                     18.14\n",
      "Date:                Mon, 25 May 2020   Prob (F-statistic):           6.00e-17\n",
      "Time:                        18:38:39   Log-Likelihood:                -5262.6\n",
      "No. Observations:                 706   AIC:                         1.054e+04\n",
      "Df Residuals:                     700   BIC:                         1.056e+04\n",
      "Df Model:                           5                                         \n",
      "Covariance Type:            nonrobust                                         \n",
      "==============================================================================\n",
      "                 coef    std err          t      P>|t|      [0.025      0.975]\n",
      "------------------------------------------------------------------------------\n",
      "const       3825.3749    240.258     15.922      0.000    3353.661    4297.088\n",
      "totwrk        -0.1460      0.017     -8.652      0.000      -0.179      -0.113\n",
      "educ         -11.1377      5.890     -1.891      0.059     -22.702       0.427\n",
      "age           -8.1239     11.370     -0.714      0.475     -30.448      14.200\n",
      "agesq          0.1263      0.135      0.934      0.351      -0.139       0.392\n",
      "yngkid        17.1544     50.008      0.343      0.732     -81.030     115.339\n",
      "==============================================================================\n",
      "Omnibus:                       70.275   Durbin-Watson:                   1.939\n",
      "Prob(Omnibus):                  0.000   Jarque-Bera (JB):              193.427\n",
      "Skew:                          -0.501   Prob(JB):                     9.95e-43\n",
      "Kurtosis:                       5.360   Cond. No.                     4.32e+04\n",
      "==============================================================================\n",
      "\n",
      "Warnings:\n",
      "[1] Standard Errors assume that the covariance matrix of the errors is correctly specified.\n",
      "[2] The condition number is large, 4.32e+04. This might indicate that there are\n",
      "strong multicollinearity or other numerical problems.\n",
      "                            OLS Regression Results                            \n",
      "==============================================================================\n",
      "Dep. Variable:                  sleep   R-squared:                       0.156\n",
      "Model:                            OLS   Adj. R-squared:                  0.146\n",
      "Method:                 Least Squares   F-statistic:                     14.59\n",
      "Date:                Mon, 25 May 2020   Prob (F-statistic):           3.95e-13\n",
      "Time:                        18:38:39   Log-Likelihood:                -2963.4\n",
      "No. Observations:                 400   AIC:                             5939.\n",
      "Df Residuals:                     394   BIC:                             5963.\n",
      "Df Model:                           5                                         \n",
      "Covariance Type:            nonrobust                                         \n",
      "==============================================================================\n",
      "                 coef    std err          t      P>|t|      [0.025      0.975]\n",
      "------------------------------------------------------------------------------\n",
      "const       3648.2083    310.039     11.767      0.000    3038.670    4257.747\n",
      "totwrk        -0.1821      0.024     -7.438      0.000      -0.230      -0.134\n",
      "educ         -13.0524      7.414     -1.760      0.079     -27.629       1.524\n",
      "age            7.1566     14.320      0.500      0.618     -20.997      35.310\n",
      "agesq         -0.0448      0.168     -0.266      0.791      -0.376       0.286\n",
      "yngkid        60.3802     59.023      1.023      0.307     -55.659     176.419\n",
      "==============================================================================\n",
      "Omnibus:                       21.716   Durbin-Watson:                   2.061\n",
      "Prob(Omnibus):                  0.000   Jarque-Bera (JB):               42.802\n",
      "Skew:                          -0.305   Prob(JB):                     5.08e-10\n",
      "Kurtosis:                       4.482   Cond. No.                     4.71e+04\n",
      "==============================================================================\n",
      "\n",
      "Warnings:\n",
      "[1] Standard Errors assume that the covariance matrix of the errors is correctly specified.\n",
      "[2] The condition number is large, 4.71e+04. This might indicate that there are\n",
      "strong multicollinearity or other numerical problems.\n",
      "                            OLS Regression Results                            \n",
      "==============================================================================\n",
      "Dep. Variable:                  sleep   R-squared:                       0.098\n",
      "Model:                            OLS   Adj. R-squared:                  0.083\n",
      "Method:                 Least Squares   F-statistic:                     6.495\n",
      "Date:                Mon, 25 May 2020   Prob (F-statistic):           9.42e-06\n",
      "Time:                        18:38:39   Log-Likelihood:                -2291.6\n",
      "No. Observations:                 306   AIC:                             4595.\n",
      "Df Residuals:                     300   BIC:                             4618.\n",
      "Df Model:                           5                                         \n",
      "Covariance Type:            nonrobust                                         \n",
      "==============================================================================\n",
      "                 coef    std err          t      P>|t|      [0.025      0.975]\n",
      "------------------------------------------------------------------------------\n",
      "const       4238.7293    384.892     11.013      0.000    3481.299    4996.160\n",
      "totwrk        -0.1399      0.028     -5.060      0.000      -0.194      -0.086\n",
      "educ         -10.2051      9.589     -1.064      0.288     -29.075       8.665\n",
      "age          -30.3566     18.531     -1.638      0.102     -66.824       6.110\n",
      "agesq          0.3679      0.223      1.647      0.101      -0.072       0.807\n",
      "yngkid      -118.2826     93.188     -1.269      0.205    -301.667      65.102\n",
      "==============================================================================\n",
      "Omnibus:                       54.909   Durbin-Watson:                   1.931\n",
      "Prob(Omnibus):                  0.000   Jarque-Bera (JB):              192.655\n",
      "Skew:                          -0.730   Prob(JB):                     1.46e-42\n",
      "Kurtosis:                       6.602   Cond. No.                     3.93e+04\n",
      "==============================================================================\n",
      "\n",
      "Warnings:\n",
      "[1] Standard Errors assume that the covariance matrix of the errors is correctly specified.\n",
      "[2] The condition number is large, 3.93e+04. This might indicate that there are\n",
      "strong multicollinearity or other numerical problems.\n",
      "2.1163506287125964\n",
      "1.2557921724862833\n"
     ]
    }
   ],
   "source": [
    "# Exercise 6\n",
    "sleep75 = pd.read_stata(\"stata/SLEEP75.DTA\")\n",
    "sleep75_men = sleep75[sleep75.male == 1]\n",
    "sleep75_women = sleep75[sleep75.male == 0]\n",
    "\n",
    "y = sleep75.sleep\n",
    "X = sm.add_constant(sleep75[[\"totwrk\", \"educ\", \"age\", \"agesq\", \"yngkid\"]])\n",
    "model = sm.OLS(y, X).fit()\n",
    "model_summary = model.summary()\n",
    "print(model_summary)\n",
    "ssrp = model.ssr\n",
    "n = model.nobs\n",
    "k = 5\n",
    "\n",
    "y = sleep75_men.sleep\n",
    "X = sm.add_constant(sleep75_men[[\"totwrk\", \"educ\", \"age\", \"agesq\", \"yngkid\"]])\n",
    "model_m = sm.OLS(y, X).fit()\n",
    "model_summary_m = model_m.summary()\n",
    "print(model_summary_m)\n",
    "ssr1 = model_m.ssr\n",
    "\n",
    "y = sleep75_women.sleep\n",
    "X = sm.add_constant(sleep75_women[[\"totwrk\", \"educ\", \"age\", \"agesq\", \"yngkid\"]])\n",
    "model_f = sm.OLS(y, X).fit()\n",
    "model_summary_f = model_f.summary()\n",
    "print(model_summary_f)\n",
    "ssr2 = model_f.ssr\n",
    "\n",
    "chow_statistic = ((ssrp - (ssr1 + ssr2)) / (ssr1 + ssr2)) * ((n - (2*(k + 1))) / (k+1))\n",
    "print(chow_statistic)\n",
    "\n",
    "y = sleep75.sleep\n",
    "X = sm.add_constant(sleep75[[\"male\", \"totwrk\", \"educ\", \"age\", \"agesq\", \"yngkid\"]])\n",
    "model = sm.OLS(y, X).fit()\n",
    "ssrp = model.ssr\n",
    "chow_statistic = ((ssrp - (ssr1 + ssr2)) / (ssr1 + ssr2)) * ((n - (2*(k + 1))) / k)\n",
    "\n",
    "print(chow_statistic)"
   ]
  },
  {
   "cell_type": "code",
   "execution_count": 21,
   "metadata": {},
   "outputs": [
    {
     "name": "stdout",
     "output_type": "stream",
     "text": [
      "                            OLS Regression Results                            \n",
      "==============================================================================\n",
      "Dep. Variable:                  sleep   R-squared:                       0.131\n",
      "Model:                            OLS   Adj. R-squared:                  0.117\n",
      "Method:                 Least Squares   F-statistic:                     9.479\n",
      "Date:                Mon, 25 May 2020   Prob (F-statistic):           4.95e-16\n",
      "Time:                        18:38:39   Log-Likelihood:                -5256.2\n",
      "No. Observations:                 706   AIC:                         1.054e+04\n",
      "Df Residuals:                     694   BIC:                         1.059e+04\n",
      "Df Model:                          11                                         \n",
      "Covariance Type:            nonrobust                                         \n",
      "==============================================================================\n",
      "                 coef    std err          t      P>|t|      [0.025      0.975]\n",
      "------------------------------------------------------------------------------\n",
      "const       4238.7293    367.852     11.523      0.000    3516.493    4960.965\n",
      "male        -590.5211    488.792     -1.208      0.227   -1550.209     369.167\n",
      "totwrk        -0.1399      0.026     -5.294      0.000      -0.192      -0.088\n",
      "totwrkmale    -0.0422      0.037     -1.150      0.251      -0.114       0.030\n",
      "educ         -10.2051      9.164     -1.114      0.266     -28.198       7.788\n",
      "educmale      -2.8472     11.968     -0.238      0.812     -26.345      20.650\n",
      "age          -30.3566     17.710     -1.714      0.087     -65.129       4.416\n",
      "agemale       37.5132     23.123      1.622      0.105      -7.887      82.913\n",
      "agesq          0.3679      0.213      1.724      0.085      -0.051       0.787\n",
      "agesqmale     -0.4127      0.276     -1.496      0.135      -0.954       0.129\n",
      "yngkid      -118.2826     89.062     -1.328      0.185    -293.146      56.580\n",
      "yngkidmale   178.6628    108.105      1.653      0.099     -33.590     390.915\n",
      "==============================================================================\n",
      "Omnibus:                       76.362   Durbin-Watson:                   1.930\n",
      "Prob(Omnibus):                  0.000   Jarque-Bera (JB):              231.198\n",
      "Skew:                          -0.516   Prob(JB):                     6.25e-51\n",
      "Kurtosis:                       5.607   Cond. No.                     1.28e+05\n",
      "==============================================================================\n",
      "\n",
      "Warnings:\n",
      "[1] Standard Errors assume that the covariance matrix of the errors is correctly specified.\n",
      "[2] The condition number is large, 1.28e+05. This might indicate that there are\n",
      "strong multicollinearity or other numerical problems.\n"
     ]
    }
   ],
   "source": [
    "sleep75[\"totwrkmale\"] = sleep75.totwrk * sleep75.male\n",
    "sleep75[\"educmale\"] = sleep75.educ * sleep75.male\n",
    "sleep75[\"agemale\"] = sleep75.age * sleep75.male\n",
    "sleep75[\"agesqmale\"] = sleep75.agesq * sleep75.male\n",
    "sleep75[\"yngkidmale\"] = sleep75.yngkid * sleep75.male\n",
    "\n",
    "y = sleep75.sleep\n",
    "X = sm.add_constant(sleep75[[\"male\", \"totwrk\", \"totwrkmale\", \"educ\", \"educmale\", \"age\", \"agemale\", \"agesq\", \"agesqmale\", \"yngkid\", \"yngkidmale\"]])\n",
    "model = sm.OLS(y, X).fit()\n",
    "model_summary = model.summary()\n",
    "print(model_summary)"
   ]
  },
  {
   "cell_type": "code",
   "execution_count": 22,
   "metadata": {},
   "outputs": [
    {
     "data": {
      "text/plain": [
       "<class 'statsmodels.stats.contrast.ContrastResults'>\n",
       "<F test: F=array([[2.11635063]]), p=0.04949224486431429, df_denom=694, df_num=6>"
      ]
     },
     "execution_count": 22,
     "metadata": {},
     "output_type": "execute_result"
    }
   ],
   "source": [
    "model.f_test(\"(male = 0), (totwrkmale = 0), (educmale = 0), (agemale = 0), (agesqmale = 0), (yngkidmale = 0)\")"
   ]
  },
  {
   "cell_type": "code",
   "execution_count": 23,
   "metadata": {},
   "outputs": [
    {
     "data": {
      "text/plain": [
       "<class 'statsmodels.stats.contrast.ContrastResults'>\n",
       "<F test: F=array([[1.25579217]]), p=0.28135192851645163, df_denom=694, df_num=5>"
      ]
     },
     "execution_count": 23,
     "metadata": {},
     "output_type": "execute_result"
    }
   ],
   "source": [
    "model.f_test(\"(totwrkmale = 0), (educmale = 0), (agemale = 0), (agesqmale = 0), (yngkidmale = 0)\")"
   ]
  },
  {
   "cell_type": "code",
   "execution_count": 24,
   "metadata": {},
   "outputs": [
    {
     "name": "stdout",
     "output_type": "stream",
     "text": [
      "122147777.1993219 63763978.98930618 57288575.940988846\n"
     ]
    }
   ],
   "source": [
    "print(ssrp, ssr1, ssr2)"
   ]
  },
  {
   "cell_type": "markdown",
   "metadata": {},
   "source": [
    "C6.i There appear to be differences between the two but it is difficult to tell because they are not significant\n",
    "\n",
    "C6.ii We reject the null at the 5% level for the first method (all interaction terms)\n",
    "\n",
    "C6.iii We fail to reject the null once we allow different intercepts between groups\n",
    "\n",
    "C6.iv From ii and iii we should use a model which includes a term for male, but not include interactions"
   ]
  },
  {
   "cell_type": "code",
   "execution_count": 25,
   "metadata": {},
   "outputs": [
    {
     "name": "stdout",
     "output_type": "stream",
     "text": [
      "                            OLS Regression Results                            \n",
      "==============================================================================\n",
      "Dep. Variable:                  lwage   R-squared:                       0.441\n",
      "Model:                            OLS   Adj. R-squared:                  0.433\n",
      "Method:                 Least Squares   F-statistic:                     58.37\n",
      "Date:                Mon, 25 May 2020   Prob (F-statistic):           1.67e-61\n",
      "Time:                        18:38:39   Log-Likelihood:                -260.49\n",
      "No. Observations:                 526   AIC:                             537.0\n",
      "Df Residuals:                     518   BIC:                             571.1\n",
      "Df Model:                           7                                         \n",
      "Covariance Type:            nonrobust                                         \n",
      "==============================================================================\n",
      "                 coef    std err          t      P>|t|      [0.025      0.975]\n",
      "------------------------------------------------------------------------------\n",
      "const          0.3888      0.119      3.276      0.001       0.156       0.622\n",
      "female        -0.2268      0.168     -1.354      0.176      -0.556       0.102\n",
      "educ           0.0824      0.008      9.725      0.000       0.066       0.099\n",
      "educfemale    -0.0056      0.013     -0.426      0.670      -0.031       0.020\n",
      "exper          0.0293      0.005      5.886      0.000       0.020       0.039\n",
      "expersq       -0.0006      0.000     -5.398      0.000      -0.001      -0.000\n",
      "tenure         0.0319      0.007      4.647      0.000       0.018       0.045\n",
      "tenursq       -0.0006      0.000     -2.509      0.012      -0.001      -0.000\n",
      "==============================================================================\n",
      "Omnibus:                       13.302   Durbin-Watson:                   1.795\n",
      "Prob(Omnibus):                  0.001   Jarque-Bera (JB):               24.887\n",
      "Skew:                          -0.080   Prob(JB):                     3.94e-06\n",
      "Kurtosis:                       4.053   Cond. No.                     8.41e+03\n",
      "==============================================================================\n",
      "\n",
      "Warnings:\n",
      "[1] Standard Errors assume that the covariance matrix of the errors is correctly specified.\n",
      "[2] The condition number is large, 8.41e+03. This might indicate that there are\n",
      "strong multicollinearity or other numerical problems.\n"
     ]
    }
   ],
   "source": [
    "# Exercise 7\n",
    "wage1 = pd.read_stata(\"stata/WAGE1.DTA\")\n",
    "wage1[\"educfemale\"] = wage1.educ * wage1.female\n",
    "wage1[\"experfemale\"] = wage1.exper * wage1.female\n",
    "\n",
    "y = wage1.lwage\n",
    "X = sm.add_constant(wage1[[\"female\", \"educ\", \"educfemale\", \"exper\", \"expersq\", \"tenure\", \"tenursq\"]])\n",
    "model = sm.OLS(y, X).fit()\n",
    "model_summary = model.summary()\n",
    "print(model_summary)"
   ]
  },
  {
   "cell_type": "code",
   "execution_count": 26,
   "metadata": {},
   "outputs": [
    {
     "data": {
      "text/plain": [
       "-0.2963450285759721"
      ]
     },
     "execution_count": 26,
     "metadata": {},
     "output_type": "execute_result"
    }
   ],
   "source": [
    "(model.params[1] + (model.params[2] * 12.5) + (model.params[3] * 12.5)) - (model.params[2] * 12.5)"
   ]
  },
  {
   "cell_type": "code",
   "execution_count": 27,
   "metadata": {},
   "outputs": [
    {
     "name": "stdout",
     "output_type": "stream",
     "text": [
      "                            OLS Regression Results                            \n",
      "==============================================================================\n",
      "Dep. Variable:                  lwage   R-squared:                       0.441\n",
      "Model:                            OLS   Adj. R-squared:                  0.433\n",
      "Method:                 Least Squares   F-statistic:                     58.37\n",
      "Date:                Mon, 25 May 2020   Prob (F-statistic):           1.67e-61\n",
      "Time:                        18:38:39   Log-Likelihood:                -260.49\n",
      "No. Observations:                 526   AIC:                             537.0\n",
      "Df Residuals:                     518   BIC:                             571.1\n",
      "Df Model:                           7                                         \n",
      "Covariance Type:            nonrobust                                         \n",
      "======================================================================================\n",
      "                         coef    std err          t      P>|t|      [0.025      0.975]\n",
      "--------------------------------------------------------------------------------------\n",
      "const                  0.3888      0.119      3.276      0.001       0.156       0.622\n",
      "female                -0.2963      0.036     -8.270      0.000      -0.367      -0.226\n",
      "educ                   0.0824      0.008      9.725      0.000       0.066       0.099\n",
      "adjustedfemaleeduc    -0.0056      0.013     -0.426      0.670      -0.031       0.020\n",
      "exper                  0.0293      0.005      5.886      0.000       0.020       0.039\n",
      "expersq               -0.0006      0.000     -5.398      0.000      -0.001      -0.000\n",
      "tenure                 0.0319      0.007      4.647      0.000       0.018       0.045\n",
      "tenursq               -0.0006      0.000     -2.509      0.012      -0.001      -0.000\n",
      "==============================================================================\n",
      "Omnibus:                       13.302   Durbin-Watson:                   1.795\n",
      "Prob(Omnibus):                  0.001   Jarque-Bera (JB):               24.887\n",
      "Skew:                          -0.080   Prob(JB):                     3.94e-06\n",
      "Kurtosis:                       4.053   Cond. No.                     5.38e+03\n",
      "==============================================================================\n",
      "\n",
      "Warnings:\n",
      "[1] Standard Errors assume that the covariance matrix of the errors is correctly specified.\n",
      "[2] The condition number is large, 5.38e+03. This might indicate that there are\n",
      "strong multicollinearity or other numerical problems.\n"
     ]
    }
   ],
   "source": [
    "wage1[\"adjustedfemaleeduc\"] = (wage1.educ - 12.5) * wage1.female\n",
    "\n",
    "y = wage1.lwage\n",
    "X = sm.add_constant(wage1[[\"female\", \"educ\", \"adjustedfemaleeduc\", \"exper\", \"expersq\", \"tenure\", \"tenursq\"]])\n",
    "model = sm.OLS(y, X).fit()\n",
    "model_summary = model.summary()\n",
    "print(model_summary)"
   ]
  },
  {
   "cell_type": "markdown",
   "metadata": {},
   "source": [
    "C7.i Differential listed above. Women make even less when educated at 12.5\n",
    "\n",
    "C7.ii The coefficient on female is now interpreted as women with 12.5 years of education\n",
    "\n",
    "C7.iii Female is now statistically significant. Women make less."
   ]
  },
  {
   "cell_type": "code",
   "execution_count": 28,
   "metadata": {},
   "outputs": [
    {
     "name": "stdout",
     "output_type": "stream",
     "text": [
      "                            OLS Regression Results                            \n",
      "==============================================================================\n",
      "Dep. Variable:                approve   R-squared:                       0.166\n",
      "Model:                            OLS   Adj. R-squared:                  0.159\n",
      "Method:                 Least Squares   F-statistic:                     25.86\n",
      "Date:                Mon, 25 May 2020   Prob (F-statistic):           1.84e-66\n",
      "Time:                        18:38:40   Log-Likelihood:                -429.26\n",
      "No. Observations:                1971   AIC:                             890.5\n",
      "Df Residuals:                    1955   BIC:                             979.9\n",
      "Df Model:                          15                                         \n",
      "Covariance Type:            nonrobust                                         \n",
      "==============================================================================\n",
      "                 coef    std err          t      P>|t|      [0.025      0.975]\n",
      "------------------------------------------------------------------------------\n",
      "const          0.9367      0.053     17.763      0.000       0.833       1.040\n",
      "white          0.1288      0.020      6.529      0.000       0.090       0.168\n",
      "hrat           0.0018      0.001      1.451      0.147      -0.001       0.004\n",
      "obrat         -0.0054      0.001     -4.930      0.000      -0.008      -0.003\n",
      "loanprc       -0.1473      0.038     -3.926      0.000      -0.221      -0.074\n",
      "unem          -0.0073      0.003     -2.282      0.023      -0.014      -0.001\n",
      "male          -0.0041      0.019     -0.220      0.826      -0.041       0.033\n",
      "married        0.0458      0.016      2.810      0.005       0.014       0.078\n",
      "dep           -0.0068      0.007     -1.019      0.308      -0.020       0.006\n",
      "sch            0.0018      0.017      0.105      0.916      -0.031       0.034\n",
      "cosign         0.0098      0.041      0.238      0.812      -0.071       0.090\n",
      "chist          0.1330      0.019      6.906      0.000       0.095       0.171\n",
      "pubrec        -0.2419      0.028     -8.571      0.000      -0.297      -0.187\n",
      "mortlat1      -0.0573      0.050     -1.145      0.252      -0.155       0.041\n",
      "mortlat2      -0.1137      0.067     -1.698      0.090      -0.245       0.018\n",
      "vr            -0.0314      0.014     -2.241      0.025      -0.059      -0.004\n",
      "==============================================================================\n",
      "Omnibus:                      685.691   Durbin-Watson:                   2.001\n",
      "Prob(Omnibus):                  0.000   Jarque-Bera (JB):             1902.139\n",
      "Skew:                          -1.855   Prob(JB):                         0.00\n",
      "Kurtosis:                       6.066   Cond. No.                         417.\n",
      "==============================================================================\n",
      "\n",
      "Warnings:\n",
      "[1] Standard Errors assume that the covariance matrix of the errors is correctly specified.\n"
     ]
    }
   ],
   "source": [
    "# Exercise 8\n",
    "loanapp = pd.read_stata(\"stata/loanapp.dta\")\n",
    "\n",
    "loanapp_reg = loanapp[[\"approve\", \"white\", \"hrat\", \"obrat\", \"loanprc\", \"unem\", \"male\", \"married\", \"dep\", \"sch\", \"cosign\", \"chist\", \"pubrec\", \"mortlat1\", \"mortlat2\", \"vr\"]].dropna()\n",
    "\n",
    "y = loanapp_reg.approve\n",
    "X = sm.add_constant(loanapp_reg[[\"white\", \"hrat\", \"obrat\", \"loanprc\", \"unem\", \"male\", \"married\", \"dep\", \"sch\", \"cosign\", \"chist\", \"pubrec\", \"mortlat1\", \"mortlat2\", \"vr\"]])\n",
    "model = sm.OLS(y, X).fit()\n",
    "model_summary = model.summary()\n",
    "print(model_summary)"
   ]
  },
  {
   "cell_type": "code",
   "execution_count": 29,
   "metadata": {},
   "outputs": [
    {
     "name": "stdout",
     "output_type": "stream",
     "text": [
      "                            OLS Regression Results                            \n",
      "==============================================================================\n",
      "Dep. Variable:                approve   R-squared:                       0.166\n",
      "Model:                            OLS   Adj. R-squared:                  0.159\n",
      "Method:                 Least Squares   F-statistic:                     25.86\n",
      "Date:                Mon, 25 May 2020   Prob (F-statistic):           1.84e-66\n",
      "Time:                        18:38:40   Log-Likelihood:                -429.26\n",
      "No. Observations:                1971   AIC:                             890.5\n",
      "Df Residuals:                    1955   BIC:                             979.9\n",
      "Df Model:                          15                                         \n",
      "Covariance Type:            nonrobust                                         \n",
      "==============================================================================\n",
      "                 coef    std err          t      P>|t|      [0.025      0.975]\n",
      "------------------------------------------------------------------------------\n",
      "const          0.9367      0.053     17.763      0.000       0.833       1.040\n",
      "white          0.1288      0.020      6.529      0.000       0.090       0.168\n",
      "hrat           0.0018      0.001      1.451      0.147      -0.001       0.004\n",
      "obrat         -0.0054      0.001     -4.930      0.000      -0.008      -0.003\n",
      "loanprc       -0.1473      0.038     -3.926      0.000      -0.221      -0.074\n",
      "unem          -0.0073      0.003     -2.282      0.023      -0.014      -0.001\n",
      "male          -0.0041      0.019     -0.220      0.826      -0.041       0.033\n",
      "married        0.0458      0.016      2.810      0.005       0.014       0.078\n",
      "dep           -0.0068      0.007     -1.019      0.308      -0.020       0.006\n",
      "sch            0.0018      0.017      0.105      0.916      -0.031       0.034\n",
      "cosign         0.0098      0.041      0.238      0.812      -0.071       0.090\n",
      "chist          0.1330      0.019      6.906      0.000       0.095       0.171\n",
      "pubrec        -0.2419      0.028     -8.571      0.000      -0.297      -0.187\n",
      "mortlat1      -0.0573      0.050     -1.145      0.252      -0.155       0.041\n",
      "mortlat2      -0.1137      0.067     -1.698      0.090      -0.245       0.018\n",
      "vr            -0.0314      0.014     -2.241      0.025      -0.059      -0.004\n",
      "==============================================================================\n",
      "Omnibus:                      685.691   Durbin-Watson:                   2.001\n",
      "Prob(Omnibus):                  0.000   Jarque-Bera (JB):             1902.139\n",
      "Skew:                          -1.855   Prob(JB):                         0.00\n",
      "Kurtosis:                       6.066   Cond. No.                         417.\n",
      "==============================================================================\n",
      "\n",
      "Warnings:\n",
      "[1] Standard Errors assume that the covariance matrix of the errors is correctly specified.\n"
     ]
    }
   ],
   "source": [
    "loanapp_reduced = loanapp[[\"approve\", \"white\", \"hrat\", \"obrat\", \"loanprc\", \"unem\", \"male\", \"married\", \"dep\", \"sch\", \"cosign\", \"chist\", \"pubrec\", \"mortlat1\", \"mortlat2\", \"vr\"]].dropna()\n",
    "\n",
    "y = loanapp_reduced.approve\n",
    "X = sm.add_constant(loanapp_reduced[[\"white\", \"hrat\", \"obrat\", \"loanprc\", \"unem\", \"male\", \"married\", \"dep\", \"sch\", \"cosign\", \"chist\", \"pubrec\", \"mortlat1\", \"mortlat2\", \"vr\"]])\n",
    "model = sm.OLS(y, X).fit()\n",
    "model_summary = model.summary()\n",
    "print(model_summary)"
   ]
  },
  {
   "cell_type": "code",
   "execution_count": 30,
   "metadata": {},
   "outputs": [
    {
     "name": "stdout",
     "output_type": "stream",
     "text": [
      "                            OLS Regression Results                            \n",
      "==============================================================================\n",
      "Dep. Variable:                approve   R-squared:                       0.171\n",
      "Model:                            OLS   Adj. R-squared:                  0.164\n",
      "Method:                 Least Squares   F-statistic:                     25.17\n",
      "Date:                Mon, 25 May 2020   Prob (F-statistic):           2.37e-68\n",
      "Time:                        18:38:40   Log-Likelihood:                -422.99\n",
      "No. Observations:                1971   AIC:                             880.0\n",
      "Df Residuals:                    1954   BIC:                             974.9\n",
      "Df Model:                          16                                         \n",
      "Covariance Type:            nonrobust                                         \n",
      "==============================================================================\n",
      "                 coef    std err          t      P>|t|      [0.025      0.975]\n",
      "------------------------------------------------------------------------------\n",
      "const          1.1806      0.087     13.601      0.000       1.010       1.351\n",
      "white         -0.1460      0.080     -1.819      0.069      -0.303       0.011\n",
      "hrat           0.0018      0.001      1.421      0.156      -0.001       0.004\n",
      "obrat         -0.0122      0.002     -5.518      0.000      -0.017      -0.008\n",
      "obratwhite     0.0081      0.002      3.531      0.000       0.004       0.013\n",
      "loanprc       -0.1525      0.037     -4.075      0.000      -0.226      -0.079\n",
      "unem          -0.0075      0.003     -2.360      0.018      -0.014      -0.001\n",
      "male          -0.0060      0.019     -0.320      0.749      -0.043       0.031\n",
      "married        0.0455      0.016      2.800      0.005       0.014       0.077\n",
      "dep           -0.0076      0.007     -1.141      0.254      -0.021       0.005\n",
      "sch            0.0018      0.017      0.107      0.915      -0.031       0.034\n",
      "cosign         0.0177      0.041      0.431      0.666      -0.063       0.098\n",
      "chist          0.1299      0.019      6.754      0.000       0.092       0.168\n",
      "pubrec        -0.2403      0.028     -8.538      0.000      -0.296      -0.185\n",
      "mortlat1      -0.0628      0.050     -1.258      0.208      -0.161       0.035\n",
      "mortlat2      -0.1268      0.067     -1.896      0.058      -0.258       0.004\n",
      "vr            -0.0305      0.014     -2.183      0.029      -0.058      -0.003\n",
      "==============================================================================\n",
      "Omnibus:                      696.766   Durbin-Watson:                   2.007\n",
      "Prob(Omnibus):                  0.000   Jarque-Bera (JB):             1990.841\n",
      "Skew:                          -1.869   Prob(JB):                         0.00\n",
      "Kurtosis:                       6.205   Cond. No.                         853.\n",
      "==============================================================================\n",
      "\n",
      "Warnings:\n",
      "[1] Standard Errors assume that the covariance matrix of the errors is correctly specified.\n"
     ]
    }
   ],
   "source": [
    "loanapp_reduced[\"obratwhite\"] = loanapp_reduced.obrat * loanapp_reduced.white\n",
    "\n",
    "X = sm.add_constant(loanapp_reduced[[\"white\", \"hrat\", \"obrat\", \"obratwhite\", \"loanprc\", \"unem\", \"male\", \"married\", \"dep\", \"sch\", \"cosign\", \"chist\", \"pubrec\", \"mortlat1\", \"mortlat2\", \"vr\"]])\n",
    "model = sm.OLS(y, X).fit()\n",
    "model_summary = model.summary()\n",
    "print(model_summary)"
   ]
  },
  {
   "cell_type": "code",
   "execution_count": 31,
   "metadata": {},
   "outputs": [
    {
     "data": {
      "text/plain": [
       "0.11283818312387683"
      ]
     },
     "execution_count": 31,
     "metadata": {},
     "output_type": "execute_result"
    }
   ],
   "source": [
    "(model.params[1] + (model.params[3] * 32) + (model.params[4] * 32)) - (model.params[3] * 32)"
   ]
  },
  {
   "cell_type": "markdown",
   "metadata": {},
   "source": [
    "C8.i We would expect a positive sign\n",
    "\n",
    "C8.ii It is statistically significant and suggests white borrowers are 20% more likely to get approved\n",
    "\n",
    "C8.iii The coefficient on white is smaller but still significant (and practically large at 10%). This still indicates discrimination\n",
    "\n",
    "C8.iv The interaction term is sgnificant.\n",
    "\n",
    "C8.v Being white means you are 11% more likely to get a loan"
   ]
  },
  {
   "cell_type": "code",
   "execution_count": 32,
   "metadata": {},
   "outputs": [
    {
     "data": {
      "text/plain": [
       "0.39212938005390835"
      ]
     },
     "execution_count": 32,
     "metadata": {},
     "output_type": "execute_result"
    }
   ],
   "source": [
    "# Exercise 9\n",
    "k401subs = pd.read_stata(\"stata/401ksubs.dta\")\n",
    "\n",
    "k401subs[k401subs.e401k == 1].shape[0] / k401subs.shape[0]"
   ]
  },
  {
   "cell_type": "code",
   "execution_count": 33,
   "metadata": {},
   "outputs": [
    {
     "name": "stdout",
     "output_type": "stream",
     "text": [
      "                            OLS Regression Results                            \n",
      "==============================================================================\n",
      "Dep. Variable:                  e401k   R-squared:                       0.094\n",
      "Model:                            OLS   Adj. R-squared:                  0.094\n",
      "Method:                 Least Squares   F-statistic:                     193.0\n",
      "Date:                Mon, 25 May 2020   Prob (F-statistic):          3.41e-196\n",
      "Time:                        18:38:40   Log-Likelihood:                -6051.5\n",
      "No. Observations:                9275   AIC:                         1.211e+04\n",
      "Df Residuals:                    9269   BIC:                         1.216e+04\n",
      "Df Model:                           5                                         \n",
      "Covariance Type:            nonrobust                                         \n",
      "==============================================================================\n",
      "                 coef    std err          t      P>|t|      [0.025      0.975]\n",
      "------------------------------------------------------------------------------\n",
      "const         -0.5063      0.081     -6.243      0.000      -0.665      -0.347\n",
      "inc            0.0124      0.001     20.993      0.000       0.011       0.014\n",
      "incsq      -6.165e-05   4.73e-06    -13.028      0.000   -7.09e-05   -5.24e-05\n",
      "age            0.0265      0.004      6.758      0.000       0.019       0.034\n",
      "agesq         -0.0003    4.5e-05     -6.782      0.000      -0.000      -0.000\n",
      "male          -0.0035      0.012     -0.292      0.770      -0.027       0.020\n",
      "==============================================================================\n",
      "Omnibus:                    65188.981   Durbin-Watson:                   1.970\n",
      "Prob(Omnibus):                  0.000   Jarque-Bera (JB):             1031.991\n",
      "Skew:                           0.369   Prob(JB):                    8.05e-225\n",
      "Kurtosis:                       1.542   Cond. No.                     6.51e+04\n",
      "==============================================================================\n",
      "\n",
      "Warnings:\n",
      "[1] Standard Errors assume that the covariance matrix of the errors is correctly specified.\n",
      "[2] The condition number is large, 6.51e+04. This might indicate that there are\n",
      "strong multicollinearity or other numerical problems.\n"
     ]
    }
   ],
   "source": [
    "y = k401subs.e401k\n",
    "X = sm.add_constant(k401subs[[\"inc\", \"incsq\", \"age\", \"agesq\", \"male\"]])\n",
    "model = sm.OLS(y, X).fit()\n",
    "model_summary = model.summary()\n",
    "print(model_summary)"
   ]
  },
  {
   "cell_type": "code",
   "execution_count": 34,
   "metadata": {},
   "outputs": [
    {
     "name": "stdout",
     "output_type": "stream",
     "text": [
      "0.6971898835393978\n",
      "0.029917158729936277\n"
     ]
    }
   ],
   "source": [
    "print(model.fittedvalues.max())\n",
    "print(model.fittedvalues.min())"
   ]
  },
  {
   "cell_type": "code",
   "execution_count": 35,
   "metadata": {},
   "outputs": [
    {
     "data": {
      "text/plain": [
       "0.2652291105121294"
      ]
     },
     "execution_count": 35,
     "metadata": {},
     "output_type": "execute_result"
    }
   ],
   "source": [
    "k401subs[\"predfit\"] = 0 + (model.fittedvalues >= 0.5).astype('int32')\n",
    "\n",
    "k401subs[k401subs.predfit == 1].shape[0] / k401subs.shape[0]"
   ]
  },
  {
   "cell_type": "code",
   "execution_count": 36,
   "metadata": {},
   "outputs": [
    {
     "name": "stdout",
     "output_type": "stream",
     "text": [
      "0.8171337353671515\n",
      "0.2834753918064339\n"
     ]
    }
   ],
   "source": [
    "print(k401subs[(k401subs.predfit == 0) & (k401subs.e401k == 0)].shape[0] / k401subs[k401subs.e401k == 0].shape[0])\n",
    "print(k401subs[(k401subs.predfit == 1) & (k401subs.e401k == 0)].shape[0] / k401subs[k401subs.e401k == 1].shape[0])"
   ]
  },
  {
   "cell_type": "code",
   "execution_count": 37,
   "metadata": {},
   "outputs": [
    {
     "name": "stdout",
     "output_type": "stream",
     "text": [
      "                            OLS Regression Results                            \n",
      "==============================================================================\n",
      "Dep. Variable:                  e401k   R-squared:                       0.095\n",
      "Model:                            OLS   Adj. R-squared:                  0.094\n",
      "Method:                 Least Squares   F-statistic:                     161.3\n",
      "Date:                Mon, 25 May 2020   Prob (F-statistic):          1.35e-195\n",
      "Time:                        18:38:40   Log-Likelihood:                -6050.2\n",
      "No. Observations:                9275   AIC:                         1.211e+04\n",
      "Df Residuals:                    9268   BIC:                         1.216e+04\n",
      "Df Model:                           6                                         \n",
      "Covariance Type:            nonrobust                                         \n",
      "==============================================================================\n",
      "                 coef    std err          t      P>|t|      [0.025      0.975]\n",
      "------------------------------------------------------------------------------\n",
      "const         -0.5019      0.081     -6.186      0.000      -0.661      -0.343\n",
      "inc            0.0123      0.001     20.322      0.000       0.011       0.013\n",
      "incsq      -6.115e-05   4.74e-06    -12.897      0.000   -7.04e-05   -5.19e-05\n",
      "age            0.0265      0.004      6.762      0.000       0.019       0.034\n",
      "agesq         -0.0003    4.5e-05     -6.827      0.000      -0.000      -0.000\n",
      "male          -0.0038      0.012     -0.317      0.752      -0.028       0.020\n",
      "pira           0.0198      0.012      1.620      0.105      -0.004       0.044\n",
      "==============================================================================\n",
      "Omnibus:                    65441.059   Durbin-Watson:                   1.971\n",
      "Prob(Omnibus):                  0.000   Jarque-Bera (JB):             1031.179\n",
      "Skew:                           0.370   Prob(JB):                    1.21e-224\n",
      "Kurtosis:                       1.543   Cond. No.                     6.52e+04\n",
      "==============================================================================\n",
      "\n",
      "Warnings:\n",
      "[1] Standard Errors assume that the covariance matrix of the errors is correctly specified.\n",
      "[2] The condition number is large, 6.52e+04. This might indicate that there are\n",
      "strong multicollinearity or other numerical problems.\n"
     ]
    }
   ],
   "source": [
    "X = sm.add_constant(k401subs[[\"inc\", \"incsq\", \"age\", \"agesq\", \"male\", \"pira\"]])\n",
    "model = sm.OLS(y, X).fit()\n",
    "model_summary = model.summary()\n",
    "print(model_summary)"
   ]
  },
  {
   "cell_type": "markdown",
   "metadata": {},
   "source": [
    "C9.i 39% of families are eligible for for participation\n",
    "\n",
    "C9.iii Income and age are significant and so it is hard to how we could support this claim. Gender does not have evidence that it is any different from zero with a small standard error and so we are more secure in the claim that it is unrelated to gender.\n",
    "\n",
    "C9.iv No fitted values are greater than one or less than zero\n",
    "\n",
    "C9.v 26.5% are predicted to be eligible\n",
    "\n",
    "C9.vi 81.7% are predicted not to be eligible (of the ones not eligible). 28% of the families that are eligible are predicted to be eligible.\n",
    "\n",
    "C9.vii This does not provide any information that the model much more reliably predicts people not eligible than eligible.\n",
    "\n",
    "C9.viii pira makes a family about 2% more likely to be in a 401k plan, but it is not significant at even the 10% level"
   ]
  },
  {
   "cell_type": "code",
   "execution_count": 38,
   "metadata": {},
   "outputs": [
    {
     "name": "stdout",
     "output_type": "stream",
     "text": [
      "                            OLS Regression Results                            \n",
      "==============================================================================\n",
      "Dep. Variable:                 points   R-squared:                       0.091\n",
      "Model:                            OLS   Adj. R-squared:                  0.077\n",
      "Method:                 Least Squares   F-statistic:                     6.606\n",
      "Date:                Mon, 25 May 2020   Prob (F-statistic):           4.43e-05\n",
      "Time:                        18:38:40   Log-Likelihood:                -845.86\n",
      "No. Observations:                 269   AIC:                             1702.\n",
      "Df Residuals:                     264   BIC:                             1720.\n",
      "Df Model:                           4                                         \n",
      "Covariance Type:            nonrobust                                         \n",
      "==============================================================================\n",
      "                 coef    std err          t      P>|t|      [0.025      0.975]\n",
      "------------------------------------------------------------------------------\n",
      "const          4.7608      1.179      4.039      0.000       2.440       7.081\n",
      "exper          1.2807      0.329      3.898      0.000       0.634       1.928\n",
      "expersq       -0.0718      0.024     -2.985      0.003      -0.119      -0.024\n",
      "guard          2.3147      1.000      2.314      0.021       0.345       4.284\n",
      "forward        1.5446      1.002      1.541      0.124      -0.429       3.518\n",
      "==============================================================================\n",
      "Omnibus:                       31.150   Durbin-Watson:                   2.231\n",
      "Prob(Omnibus):                  0.000   Jarque-Bera (JB):               38.762\n",
      "Skew:                           0.844   Prob(JB):                     3.83e-09\n",
      "Kurtosis:                       3.782   Cond. No.                         276.\n",
      "==============================================================================\n",
      "\n",
      "Warnings:\n",
      "[1] Standard Errors assume that the covariance matrix of the errors is correctly specified.\n"
     ]
    }
   ],
   "source": [
    "# Exercise 10\n",
    "nbasal = pd.read_stata(\"stata/nbasal.dta\")\n",
    "\n",
    "y = nbasal.points\n",
    "X = sm.add_constant(nbasal[[\"exper\", \"expersq\", \"guard\", \"forward\"]])\n",
    "model = sm.OLS(y, X).fit()\n",
    "model_summary = model.summary()\n",
    "print(model_summary)"
   ]
  },
  {
   "cell_type": "code",
   "execution_count": 39,
   "metadata": {},
   "outputs": [
    {
     "name": "stdout",
     "output_type": "stream",
     "text": [
      "                            OLS Regression Results                            \n",
      "==============================================================================\n",
      "Dep. Variable:                 points   R-squared:                       0.093\n",
      "Model:                            OLS   Adj. R-squared:                  0.076\n",
      "Method:                 Least Squares   F-statistic:                     5.401\n",
      "Date:                Mon, 25 May 2020   Prob (F-statistic):           9.53e-05\n",
      "Time:                        18:38:40   Log-Likelihood:                -845.54\n",
      "No. Observations:                 269   AIC:                             1703.\n",
      "Df Residuals:                     263   BIC:                             1725.\n",
      "Df Model:                           5                                         \n",
      "Covariance Type:            nonrobust                                         \n",
      "==============================================================================\n",
      "                 coef    std err          t      P>|t|      [0.025      0.975]\n",
      "------------------------------------------------------------------------------\n",
      "const          4.7029      1.182      3.980      0.000       2.376       7.030\n",
      "exper          1.2333      0.334      3.690      0.000       0.575       1.891\n",
      "expersq       -0.0704      0.024     -2.913      0.004      -0.118      -0.023\n",
      "guard          2.2863      1.002      2.282      0.023       0.314       4.259\n",
      "forward        1.5409      1.003      1.536      0.126      -0.434       3.516\n",
      "marr           0.5843      0.740      0.789      0.431      -0.874       2.042\n",
      "==============================================================================\n",
      "Omnibus:                       30.972   Durbin-Watson:                   2.238\n",
      "Prob(Omnibus):                  0.000   Jarque-Bera (JB):               38.485\n",
      "Skew:                           0.840   Prob(JB):                     4.40e-09\n",
      "Kurtosis:                       3.780   Cond. No.                         276.\n",
      "==============================================================================\n",
      "\n",
      "Warnings:\n",
      "[1] Standard Errors assume that the covariance matrix of the errors is correctly specified.\n"
     ]
    }
   ],
   "source": [
    "X = sm.add_constant(nbasal[[\"exper\", \"expersq\", \"guard\", \"forward\", \"marr\"]])\n",
    "model = sm.OLS(y, X).fit()\n",
    "model_summary = model.summary()\n",
    "print(model_summary)"
   ]
  },
  {
   "cell_type": "code",
   "execution_count": 40,
   "metadata": {},
   "outputs": [
    {
     "name": "stdout",
     "output_type": "stream",
     "text": [
      "                            OLS Regression Results                            \n",
      "==============================================================================\n",
      "Dep. Variable:                 points   R-squared:                       0.106\n",
      "Model:                            OLS   Adj. R-squared:                  0.082\n",
      "Method:                 Least Squares   F-statistic:                     4.413\n",
      "Date:                Mon, 25 May 2020   Prob (F-statistic):           0.000119\n",
      "Time:                        18:38:40   Log-Likelihood:                -843.64\n",
      "No. Observations:                 269   AIC:                             1703.\n",
      "Df Residuals:                     261   BIC:                             1732.\n",
      "Df Model:                           7                                         \n",
      "Covariance Type:            nonrobust                                         \n",
      "===============================================================================\n",
      "                  coef    std err          t      P>|t|      [0.025      0.975]\n",
      "-------------------------------------------------------------------------------\n",
      "const           5.8162      1.349      4.312      0.000       3.160       8.472\n",
      "exper           0.7026      0.434      1.619      0.107      -0.152       1.557\n",
      "expersq        -0.0295      0.033     -0.903      0.367      -0.094       0.035\n",
      "guard           2.2508      1.000      2.251      0.025       0.282       4.220\n",
      "forward         1.6291      1.002      1.626      0.105      -0.344       3.602\n",
      "marr           -2.5375      2.038     -1.245      0.214      -6.551       1.476\n",
      "marrexper       1.2797      0.682      1.876      0.062      -0.064       2.623\n",
      "marrexpersq    -0.0936      0.049     -1.915      0.057      -0.190       0.003\n",
      "==============================================================================\n",
      "Omnibus:                       30.134   Durbin-Watson:                   2.205\n",
      "Prob(Omnibus):                  0.000   Jarque-Bera (JB):               37.077\n",
      "Skew:                           0.830   Prob(JB):                     8.89e-09\n",
      "Kurtosis:                       3.744   Cond. No.                         488.\n",
      "==============================================================================\n",
      "\n",
      "Warnings:\n",
      "[1] Standard Errors assume that the covariance matrix of the errors is correctly specified.\n"
     ]
    }
   ],
   "source": [
    "nbasal[\"marrexper\"] = nbasal.exper * nbasal.marr\n",
    "nbasal[\"marrexpersq\"] = nbasal.expersq * nbasal.marr\n",
    "\n",
    "X = sm.add_constant(nbasal[[\"exper\", \"expersq\", \"guard\", \"forward\", \"marr\", \"marrexper\", \"marrexpersq\"]])\n",
    "model = sm.OLS(y, X).fit()\n",
    "model_summary = model.summary()\n",
    "print(model_summary)"
   ]
  },
  {
   "cell_type": "code",
   "execution_count": 41,
   "metadata": {},
   "outputs": [
    {
     "data": {
      "text/plain": [
       "<class 'statsmodels.stats.contrast.ContrastResults'>\n",
       "<F test: F=array([[1.4441516]]), p=0.23034807856107176, df_denom=261, df_num=3>"
      ]
     },
     "execution_count": 41,
     "metadata": {},
     "output_type": "execute_result"
    }
   ],
   "source": [
    "model.f_test(\"(marr = 0), (marrexper = 0), (marrexpersq = 0)\")"
   ]
  },
  {
   "cell_type": "code",
   "execution_count": 42,
   "metadata": {},
   "outputs": [
    {
     "name": "stdout",
     "output_type": "stream",
     "text": [
      "                            OLS Regression Results                            \n",
      "==============================================================================\n",
      "Dep. Variable:                assists   R-squared:                       0.350\n",
      "Model:                            OLS   Adj. R-squared:                  0.338\n",
      "Method:                 Least Squares   F-statistic:                     28.31\n",
      "Date:                Mon, 25 May 2020   Prob (F-statistic):           6.24e-23\n",
      "Time:                        18:38:40   Log-Likelihood:                -521.96\n",
      "No. Observations:                 269   AIC:                             1056.\n",
      "Df Residuals:                     263   BIC:                             1077.\n",
      "Df Model:                           5                                         \n",
      "Covariance Type:            nonrobust                                         \n",
      "==============================================================================\n",
      "                 coef    std err          t      P>|t|      [0.025      0.975]\n",
      "------------------------------------------------------------------------------\n",
      "const         -0.2258      0.355     -0.636      0.525      -0.925       0.473\n",
      "exper          0.4436      0.100      4.420      0.000       0.246       0.641\n",
      "expersq       -0.0267      0.007     -3.683      0.000      -0.041      -0.012\n",
      "guard          2.4917      0.301      8.282      0.000       1.899       3.084\n",
      "forward        0.4475      0.301      1.486      0.139      -0.146       1.041\n",
      "marr           0.3219      0.222      1.448      0.149      -0.116       0.760\n",
      "==============================================================================\n",
      "Omnibus:                       77.759   Durbin-Watson:                   2.111\n",
      "Prob(Omnibus):                  0.000   Jarque-Bera (JB):              184.705\n",
      "Skew:                           1.369   Prob(JB):                     7.79e-41\n",
      "Kurtosis:                       5.998   Cond. No.                         276.\n",
      "==============================================================================\n",
      "\n",
      "Warnings:\n",
      "[1] Standard Errors assume that the covariance matrix of the errors is correctly specified.\n"
     ]
    }
   ],
   "source": [
    "y = nbasal.assists\n",
    "X = sm.add_constant(nbasal[[\"exper\", \"expersq\", \"guard\", \"forward\", \"marr\"]])\n",
    "model = sm.OLS(y, X).fit()\n",
    "model_summary = model.summary()\n",
    "print(model_summary)"
   ]
  },
  {
   "cell_type": "markdown",
   "metadata": {},
   "source": [
    "C10.ii Because I'm not stupid (dummy variable trap)\n",
    "\n",
    "C10.iii Guards score more than centers by about 2 points. The difference is statistically significant.\n",
    "\n",
    "C10.iv Married players do not appear to score more than unmarried players when experience and position are taken into account\n",
    "\n",
    "C10.v Marriage is still not significant when interacted (testing both individual coefficients and jointly)\n",
    "\n",
    "C10.vi Experience appears to affect assists less. This may be because experienced/senior players are deferred to or otherwise given more opportunities."
   ]
  },
  {
   "cell_type": "code",
   "execution_count": 43,
   "metadata": {},
   "outputs": [
    {
     "name": "stdout",
     "output_type": "stream",
     "text": [
      "19.071678161621094\n",
      "63.96397399902344\n",
      "-502.302001953125\n",
      "1536.7979736328125\n"
     ]
    }
   ],
   "source": [
    "# Exercise 11\n",
    "k401subs = pd.read_stata(\"stata/401ksubs.dta\")\n",
    "\n",
    "print(k401subs.nettfa.mean())\n",
    "print(k401subs.nettfa.std())\n",
    "print(k401subs.nettfa.min())\n",
    "print(k401subs.nettfa.max())"
   ]
  },
  {
   "cell_type": "code",
   "execution_count": 44,
   "metadata": {},
   "outputs": [
    {
     "name": "stdout",
     "output_type": "stream",
     "text": [
      "                            OLS Regression Results                            \n",
      "==============================================================================\n",
      "Dep. Variable:                 nettfa   R-squared:                       0.021\n",
      "Model:                            OLS   Adj. R-squared:                  0.021\n",
      "Method:                 Least Squares   F-statistic:                     196.2\n",
      "Date:                Mon, 25 May 2020   Prob (F-statistic):           3.93e-44\n",
      "Time:                        18:38:40   Log-Likelihood:                -51631.\n",
      "No. Observations:                9275   AIC:                         1.033e+05\n",
      "Df Residuals:                    9273   BIC:                         1.033e+05\n",
      "Df Model:                           1                                         \n",
      "Covariance Type:            nonrobust                                         \n",
      "==============================================================================\n",
      "                 coef    std err          t      P>|t|      [0.025      0.975]\n",
      "------------------------------------------------------------------------------\n",
      "const         11.6768      0.843     13.851      0.000      10.024      13.329\n",
      "e401k         18.8583      1.346     14.008      0.000      16.219      21.497\n",
      "==============================================================================\n",
      "Omnibus:                    14849.309   Durbin-Watson:                   1.912\n",
      "Prob(Omnibus):                  0.000   Jarque-Bera (JB):         12294983.261\n",
      "Skew:                          10.345   Prob(JB):                         0.00\n",
      "Kurtosis:                     180.162   Cond. No.                         2.44\n",
      "==============================================================================\n",
      "\n",
      "Warnings:\n",
      "[1] Standard Errors assume that the covariance matrix of the errors is correctly specified.\n"
     ]
    }
   ],
   "source": [
    "y = k401subs.nettfa\n",
    "X = sm.add_constant(k401subs[[\"e401k\"]])\n",
    "model = sm.OLS(y, X).fit()\n",
    "model_summary = model.summary()\n",
    "print(model_summary)"
   ]
  },
  {
   "cell_type": "code",
   "execution_count": 45,
   "metadata": {},
   "outputs": [
    {
     "name": "stdout",
     "output_type": "stream",
     "text": [
      "                            OLS Regression Results                            \n",
      "==============================================================================\n",
      "Dep. Variable:                 nettfa   R-squared:                       0.202\n",
      "Model:                            OLS   Adj. R-squared:                  0.201\n",
      "Method:                 Least Squares   F-statistic:                     468.7\n",
      "Date:                Mon, 25 May 2020   Prob (F-statistic):               0.00\n",
      "Time:                        18:38:40   Log-Likelihood:                -50683.\n",
      "No. Observations:                9275   AIC:                         1.014e+05\n",
      "Df Residuals:                    9269   BIC:                         1.014e+05\n",
      "Df Model:                           5                                         \n",
      "Covariance Type:            nonrobust                                         \n",
      "==============================================================================\n",
      "                 coef    std err          t      P>|t|      [0.025      0.975]\n",
      "------------------------------------------------------------------------------\n",
      "const         23.0852      9.960      2.318      0.020       3.562      42.608\n",
      "inc           -0.2785      0.075     -3.736      0.000      -0.425      -0.132\n",
      "incsq          0.0103      0.001     17.481      0.000       0.009       0.011\n",
      "age           -1.9719      0.483     -4.079      0.000      -2.919      -1.024\n",
      "agesq          0.0348      0.006      6.265      0.000       0.024       0.046\n",
      "e401k          9.7047      1.277      7.597      0.000       7.201      12.209\n",
      "==============================================================================\n",
      "Omnibus:                    14617.815   Durbin-Watson:                   1.940\n",
      "Prob(Omnibus):                  0.000   Jarque-Bera (JB):         13727943.988\n",
      "Skew:                           9.935   Prob(JB):                         0.00\n",
      "Kurtosis:                     190.424   Cond. No.                     6.50e+04\n",
      "==============================================================================\n",
      "\n",
      "Warnings:\n",
      "[1] Standard Errors assume that the covariance matrix of the errors is correctly specified.\n",
      "[2] The condition number is large, 6.5e+04. This might indicate that there are\n",
      "strong multicollinearity or other numerical problems.\n"
     ]
    }
   ],
   "source": [
    "X = sm.add_constant(k401subs[[\"inc\", \"incsq\", \"age\", \"agesq\", \"e401k\"]])\n",
    "model = sm.OLS(y, X).fit()\n",
    "model_summary = model.summary()\n",
    "print(model_summary)"
   ]
  },
  {
   "cell_type": "code",
   "execution_count": 46,
   "metadata": {},
   "outputs": [
    {
     "name": "stdout",
     "output_type": "stream",
     "text": [
      "                            OLS Regression Results                            \n",
      "==============================================================================\n",
      "Dep. Variable:                 nettfa   R-squared:                       0.204\n",
      "Model:                            OLS   Adj. R-squared:                  0.204\n",
      "Method:                 Least Squares   F-statistic:                     340.2\n",
      "Date:                Mon, 25 May 2020   Prob (F-statistic):               0.00\n",
      "Time:                        18:38:40   Log-Likelihood:                -50668.\n",
      "No. Observations:                9275   AIC:                         1.014e+05\n",
      "Df Residuals:                    9267   BIC:                         1.014e+05\n",
      "Df Model:                           7                                         \n",
      "Covariance Type:            nonrobust                                         \n",
      "===================================================================================\n",
      "                      coef    std err          t      P>|t|      [0.025      0.975]\n",
      "-----------------------------------------------------------------------------------\n",
      "const              30.1681     10.180      2.963      0.003      10.212      50.124\n",
      "inc                -0.2778      0.074     -3.732      0.000      -0.424      -0.132\n",
      "incsq               0.0102      0.001     17.438      0.000       0.009       0.011\n",
      "age                -2.0992      0.489     -4.295      0.000      -3.057      -1.141\n",
      "agesq               0.0337      0.006      6.036      0.000       0.023       0.045\n",
      "agee401kdemean      0.6303      0.122      5.186      0.000       0.392       0.869\n",
      "agesq401kdemean    -0.0281      0.016     -1.721      0.085      -0.060       0.004\n",
      "e401k              10.0188      1.300      7.705      0.000       7.470      12.568\n",
      "==============================================================================\n",
      "Omnibus:                    14630.382   Durbin-Watson:                   1.941\n",
      "Prob(Omnibus):                  0.000   Jarque-Bera (JB):         13772675.586\n",
      "Skew:                           9.953   Prob(JB):                         0.00\n",
      "Kurtosis:                     190.728   Cond. No.                     6.66e+04\n",
      "==============================================================================\n",
      "\n",
      "Warnings:\n",
      "[1] Standard Errors assume that the covariance matrix of the errors is correctly specified.\n",
      "[2] The condition number is large, 6.66e+04. This might indicate that there are\n",
      "strong multicollinearity or other numerical problems.\n"
     ]
    }
   ],
   "source": [
    "k401subs[\"agee401kdemean\"] = (k401subs.age - 41) * k401subs.e401k\n",
    "k401subs[\"agesq401kdemean\"] = ((k401subs.age - 41) ** 2) * k401subs.e401k\n",
    "\n",
    "X = sm.add_constant(k401subs[[\"inc\", \"incsq\", \"age\", \"agesq\", \"agee401kdemean\", \"agesq401kdemean\", \"e401k\"]])\n",
    "model = sm.OLS(y, X).fit()\n",
    "model_summary = model.summary()\n",
    "print(model_summary)"
   ]
  },
  {
   "cell_type": "code",
   "execution_count": 47,
   "metadata": {},
   "outputs": [
    {
     "data": {
      "text/plain": [
       "<class 'statsmodels.stats.contrast.ContrastResults'>\n",
       "<F test: F=array([[15.26945974]]), p=2.395856118129334e-07, df_denom=9.27e+03, df_num=2>"
      ]
     },
     "execution_count": 47,
     "metadata": {},
     "output_type": "execute_result"
    }
   ],
   "source": [
    "model.f_test(\"(agee401kdemean = 0), (agesq401kdemean = 0)\")"
   ]
  },
  {
   "cell_type": "code",
   "execution_count": 48,
   "metadata": {},
   "outputs": [
    {
     "name": "stdout",
     "output_type": "stream",
     "text": [
      "                            OLS Regression Results                            \n",
      "==============================================================================\n",
      "Dep. Variable:                 nettfa   R-squared:                       0.204\n",
      "Model:                            OLS   Adj. R-squared:                  0.203\n",
      "Method:                 Least Squares   F-statistic:                     263.3\n",
      "Date:                Mon, 25 May 2020   Prob (F-statistic):               0.00\n",
      "Time:                        18:38:41   Log-Likelihood:                -50672.\n",
      "No. Observations:                9275   AIC:                         1.014e+05\n",
      "Df Residuals:                    9265   BIC:                         1.014e+05\n",
      "Df Model:                           9                                         \n",
      "Covariance Type:            nonrobust                                         \n",
      "==============================================================================\n",
      "                 coef    std err          t      P>|t|      [0.025      0.975]\n",
      "------------------------------------------------------------------------------\n",
      "const         11.6714     10.292      1.134      0.257      -8.503      31.846\n",
      "inc           -0.2399      0.075     -3.177      0.001      -0.388      -0.092\n",
      "incsq          0.0100      0.001     17.042      0.000       0.009       0.011\n",
      "age           -1.4949      0.495     -3.022      0.003      -2.464      -0.525\n",
      "agesq          0.0290      0.006      5.088      0.000       0.018       0.040\n",
      "e401k          9.4552      1.278      7.399      0.000       6.950      11.960\n",
      "fsize1         4.6652      1.877      2.486      0.013       0.986       8.344\n",
      "fsize2         3.8062      1.830      2.080      0.038       0.219       7.394\n",
      "fsize4        -1.6496      1.860     -0.887      0.375      -5.295       1.996\n",
      "fsize5        -2.6957      2.109     -1.278      0.201      -6.830       1.439\n",
      "==============================================================================\n",
      "Omnibus:                    14631.435   Durbin-Watson:                   1.939\n",
      "Prob(Omnibus):                  0.000   Jarque-Bera (JB):         13785779.240\n",
      "Skew:                           9.954   Prob(JB):                         0.00\n",
      "Kurtosis:                     190.818   Cond. No.                     6.74e+04\n",
      "==============================================================================\n",
      "\n",
      "Warnings:\n",
      "[1] Standard Errors assume that the covariance matrix of the errors is correctly specified.\n",
      "[2] The condition number is large, 6.74e+04. This might indicate that there are\n",
      "strong multicollinearity or other numerical problems.\n",
      "                            OLS Regression Results                            \n",
      "==============================================================================\n",
      "Dep. Variable:                 nettfa   R-squared:                       0.210\n",
      "Model:                            OLS   Adj. R-squared:                  0.207\n",
      "Method:                 Least Squares   F-statistic:                     84.61\n",
      "Date:                Mon, 25 May 2020   Prob (F-statistic):               0.00\n",
      "Time:                        18:38:41   Log-Likelihood:                -50637.\n",
      "No. Observations:                9275   AIC:                         1.013e+05\n",
      "Df Residuals:                    9245   BIC:                         1.015e+05\n",
      "Df Model:                          29                                         \n",
      "Covariance Type:            nonrobust                                         \n",
      "===============================================================================\n",
      "                  coef    std err          t      P>|t|      [0.025      0.975]\n",
      "-------------------------------------------------------------------------------\n",
      "const           9.9836     23.312      0.428      0.668     -35.713      55.680\n",
      "inc            -0.1821      0.154     -1.183      0.237      -0.484       0.120\n",
      "incsq           0.0086      0.001      7.629      0.000       0.006       0.011\n",
      "age            -1.2703      1.138     -1.116      0.265      -3.502       0.961\n",
      "agesq           0.0257      0.013      1.951      0.051      -0.000       0.051\n",
      "e401k           8.0089      2.876      2.785      0.005       2.372      13.646\n",
      "fsize1         -6.7902     30.635     -0.222      0.825     -66.841      53.261\n",
      "fsize2          0.9288     30.395      0.031      0.976     -58.652      60.510\n",
      "fsize4        -22.6419     34.576     -0.655      0.513     -90.419      45.135\n",
      "fsize5        -10.6635     41.392     -0.258      0.797     -91.800      70.473\n",
      "fsize1inc       0.9205      0.290      3.169      0.002       0.351       1.490\n",
      "fsize1incsq    -0.0081      0.003     -2.891      0.004      -0.014      -0.003\n",
      "fsize1age      -0.2946      1.505     -0.196      0.845      -3.246       2.656\n",
      "fsize1agesq     0.0027      0.018      0.153      0.878      -0.032       0.037\n",
      "fsize1e401k    -1.0881      3.988     -0.273      0.785      -8.906       6.730\n",
      "fsize2inc      -0.2550      0.207     -1.230      0.219      -0.661       0.151\n",
      "fsize2incsq     0.0037      0.002      2.451      0.014       0.001       0.007\n",
      "fsize2age      -0.4024      1.462     -0.275      0.783      -3.268       2.464\n",
      "fsize2agesq     0.0098      0.017      0.585      0.558      -0.023       0.043\n",
      "fsize2e401k     5.3996      3.875      1.393      0.164      -2.197      12.996\n",
      "fsize4inc      -0.1326      0.234     -0.567      0.571      -0.591       0.326\n",
      "fsize4incsq     0.0018      0.002      0.988      0.323      -0.002       0.005\n",
      "fsize4age       1.2198      1.699      0.718      0.473      -2.110       4.550\n",
      "fsize4agesq    -0.0158      0.020     -0.795      0.426      -0.055       0.023\n",
      "fsize4e401k    -0.0842      3.963     -0.021      0.983      -7.852       7.684\n",
      "fsize5inc      -0.4652      0.279     -1.668      0.095      -1.012       0.081\n",
      "fsize5incsq     0.0050      0.002      2.207      0.027       0.001       0.010\n",
      "fsize5age       1.2386      2.003      0.618      0.536      -2.687       5.164\n",
      "fsize5agesq    -0.0211      0.023     -0.911      0.363      -0.067       0.024\n",
      "fsize5e401k     3.1420      4.576      0.687      0.492      -5.828      12.112\n",
      "==============================================================================\n",
      "Omnibus:                    14644.083   Durbin-Watson:                   1.949\n",
      "Prob(Omnibus):                  0.000   Jarque-Bera (JB):         13800234.010\n",
      "Skew:                           9.972   Prob(JB):                         0.00\n",
      "Kurtosis:                     190.914   Cond. No.                     4.13e+05\n",
      "==============================================================================\n",
      "\n",
      "Warnings:\n",
      "[1] Standard Errors assume that the covariance matrix of the errors is correctly specified.\n",
      "[2] The condition number is large, 4.13e+05. This might indicate that there are\n",
      "strong multicollinearity or other numerical problems.\n"
     ]
    }
   ],
   "source": [
    "k401subs[\"fsize1\"] = (k401subs.fsize == 1).astype(\"int32\")\n",
    "k401subs[\"fsize2\"] = (k401subs.fsize == 2).astype(\"int32\")\n",
    "k401subs[\"fsize3\"] = (k401subs.fsize == 3).astype(\"int32\")\n",
    "k401subs[\"fsize4\"] = (k401subs.fsize == 4).astype(\"int32\")\n",
    "k401subs[\"fsize5\"] = (k401subs.fsize > 4).astype(\"int32\")\n",
    "\n",
    "X = sm.add_constant(k401subs[[\"inc\", \"incsq\", \"age\", \"agesq\", \"e401k\", \"fsize1\", \"fsize2\", \"fsize4\", \"fsize5\"]])\n",
    "model = sm.OLS(y, X).fit()\n",
    "model_summary = model.summary()\n",
    "print(model_summary)\n",
    "\n",
    "k401subs[\"fsize1inc\"] = k401subs.inc * k401subs.fsize1\n",
    "k401subs[\"fsize1incsq\"] = k401subs.incsq * k401subs.fsize1\n",
    "k401subs[\"fsize1age\"] = k401subs.age * k401subs.fsize1\n",
    "k401subs[\"fsize1agesq\"] = k401subs.agesq * k401subs.fsize1\n",
    "k401subs[\"fsize1e401k\"] = k401subs.e401k * k401subs.fsize1\n",
    "\n",
    "k401subs[\"fsize2inc\"] = k401subs.inc * k401subs.fsize2\n",
    "k401subs[\"fsize2incsq\"] = k401subs.incsq * k401subs.fsize2\n",
    "k401subs[\"fsize2age\"] = k401subs.age * k401subs.fsize2\n",
    "k401subs[\"fsize2agesq\"] = k401subs.agesq * k401subs.fsize2\n",
    "k401subs[\"fsize2e401k\"] = k401subs.e401k * k401subs.fsize2\n",
    "\n",
    "k401subs[\"fsize4inc\"] = k401subs.inc * k401subs.fsize4\n",
    "k401subs[\"fsize4incsq\"] = k401subs.incsq * k401subs.fsize4\n",
    "k401subs[\"fsize4age\"] = k401subs.age * k401subs.fsize4\n",
    "k401subs[\"fsize4agesq\"] = k401subs.agesq * k401subs.fsize4\n",
    "k401subs[\"fsize4e401k\"] = k401subs.e401k * k401subs.fsize4\n",
    "\n",
    "k401subs[\"fsize5inc\"] = k401subs.inc * k401subs.fsize5\n",
    "k401subs[\"fsize5incsq\"] = k401subs.incsq * k401subs.fsize5\n",
    "k401subs[\"fsize5age\"] = k401subs.age * k401subs.fsize5\n",
    "k401subs[\"fsize5agesq\"] = k401subs.agesq * k401subs.fsize5\n",
    "k401subs[\"fsize5e401k\"] = k401subs.e401k * k401subs.fsize5\n",
    "\n",
    "X = sm.add_constant(k401subs[[\"inc\", \"incsq\", \"age\", \"agesq\", \"e401k\", \"fsize1\", \"fsize2\", \"fsize4\", \"fsize5\", \"fsize1inc\", \"fsize1incsq\", \"fsize1age\", \"fsize1agesq\", \"fsize1e401k\", \"fsize2inc\", \"fsize2incsq\", \"fsize2age\", \"fsize2agesq\", \"fsize2e401k\", \"fsize4inc\", \"fsize4incsq\", \"fsize4age\", \"fsize4agesq\", \"fsize4e401k\", \"fsize5inc\", \"fsize5incsq\", \"fsize5age\", \"fsize5agesq\", \"fsize5e401k\"]])\n",
    "model = sm.OLS(y, X).fit()\n",
    "model_summary = model.summary()\n",
    "print(model_summary)"
   ]
  },
  {
   "cell_type": "code",
   "execution_count": 49,
   "metadata": {},
   "outputs": [
    {
     "name": "stdout",
     "output_type": "stream",
     "text": [
      "<F test: F=array([[3.86409524]]), p=5.785826963870373e-10, df_denom=9.24e+03, df_num=24>\n",
      "<F test: F=array([[3.54267375]]), p=1.4249267096183198e-07, df_denom=9.24e+03, df_num=20>\n"
     ]
    }
   ],
   "source": [
    "print(model.f_test(\"(fsize1 = 0), (fsize2 = 0), (fsize4 = 0), (fsize5 = 0), (fsize1inc = 0), (fsize1incsq = 0), (fsize1age = 0), (fsize1agesq = 0), (fsize1e401k = 0), (fsize2inc = 0), (fsize2incsq = 0), (fsize2age = 0), (fsize2agesq = 0), (fsize2e401k = 0), (fsize4inc = 0), (fsize4incsq = 0), (fsize4age = 0), (fsize4agesq = 0), (fsize4e401k = 0), (fsize5inc = 0), (fsize5incsq = 0), (fsize5age = 0), (fsize5agesq = 0), (fsize5e401k = 0)\"))\n",
    "print(model.f_test(\"(fsize1inc = 0), (fsize1incsq = 0), (fsize1age = 0), (fsize1agesq = 0), (fsize1e401k = 0), (fsize2inc = 0), (fsize2incsq = 0), (fsize2age = 0), (fsize2agesq = 0), (fsize2e401k = 0), (fsize4inc = 0), (fsize4incsq = 0), (fsize4age = 0), (fsize4agesq = 0), (fsize4e401k = 0), (fsize5inc = 0), (fsize5incsq = 0), (fsize5age = 0), (fsize5agesq = 0), (fsize5e401k = 0)\"))"
   ]
  },
  {
   "cell_type": "markdown",
   "metadata": {},
   "source": [
    "C11.iii e401k is half\n",
    "\n",
    "C11.iv Age is significant (not quadratic)\n",
    "\n",
    "C11.v The difference isn't substantial.\n",
    "\n",
    "C11.vi None of the family dummies are significant at the 1% level\n",
    "\n",
    "C11.vii The Chow test rejects both sets of terms. It suggests we should include not just alternative intecepts but interactions."
   ]
  },
  {
   "cell_type": "code",
   "execution_count": 50,
   "metadata": {},
   "outputs": [
    {
     "name": "stdout",
     "output_type": "stream",
     "text": [
      "0.3302752293577982\n",
      "0.29004854368932037\n",
      "0.1353211009174312\n",
      "0.11650485436893204\n"
     ]
    }
   ],
   "source": [
    "# Exercise 12\n",
    "beauty = pd.read_stata(\"stata/beauty.dta\")\n",
    "\n",
    "print(beauty[((beauty.abvavg == 1) & (beauty.female == 1))].shape[0] / beauty[beauty.female == 1].shape[0])\n",
    "print(beauty[((beauty.abvavg == 1) & (beauty.female == 0))].shape[0] / beauty[beauty.female == 0].shape[0])\n",
    "\n",
    "print(beauty[((beauty.belavg == 1) & (beauty.female == 1))].shape[0] / beauty[beauty.female == 1].shape[0])\n",
    "print(beauty[((beauty.belavg == 1) & (beauty.female == 0))].shape[0] / beauty[beauty.female == 0].shape[0])"
   ]
  },
  {
   "cell_type": "code",
   "execution_count": 51,
   "metadata": {},
   "outputs": [
    {
     "name": "stdout",
     "output_type": "stream",
     "text": [
      "                            OLS Regression Results                            \n",
      "==============================================================================\n",
      "Dep. Variable:                 abvavg   R-squared:                       0.002\n",
      "Model:                            OLS   Adj. R-squared:                  0.001\n",
      "Method:                 Least Squares   F-statistic:                     2.181\n",
      "Date:                Mon, 25 May 2020   Prob (F-statistic):              0.140\n",
      "Time:                        18:38:41   Log-Likelihood:                -808.26\n",
      "No. Observations:                1260   AIC:                             1621.\n",
      "Df Residuals:                    1258   BIC:                             1631.\n",
      "Df Model:                           1                                         \n",
      "Covariance Type:            nonrobust                                         \n",
      "==============================================================================\n",
      "                 coef    std err          t      P>|t|      [0.025      0.975]\n",
      "------------------------------------------------------------------------------\n",
      "const          0.2900      0.016     18.102      0.000       0.259       0.321\n",
      "female         0.0402      0.027      1.477      0.140      -0.013       0.094\n",
      "==============================================================================\n",
      "Omnibus:                     2018.092   Durbin-Watson:                   1.944\n",
      "Prob(Omnibus):                  0.000   Jarque-Bera (JB):              236.332\n",
      "Skew:                           0.850   Prob(JB):                     4.80e-52\n",
      "Kurtosis:                       1.731   Cond. No.                         2.42\n",
      "==============================================================================\n",
      "\n",
      "Warnings:\n",
      "[1] Standard Errors assume that the covariance matrix of the errors is correctly specified.\n"
     ]
    }
   ],
   "source": [
    "y = beauty.abvavg\n",
    "X = sm.add_constant(beauty[[\"female\"]])\n",
    "model = sm.OLS(y, X).fit()\n",
    "model_summary = model.summary()\n",
    "print(model_summary)"
   ]
  },
  {
   "cell_type": "code",
   "execution_count": 52,
   "metadata": {},
   "outputs": [
    {
     "name": "stdout",
     "output_type": "stream",
     "text": [
      "                            OLS Regression Results                            \n",
      "==============================================================================\n",
      "Dep. Variable:                  lwage   R-squared:                       0.013\n",
      "Model:                            OLS   Adj. R-squared:                  0.011\n",
      "Method:                 Least Squares   F-statistic:                     5.529\n",
      "Date:                Mon, 25 May 2020   Prob (F-statistic):            0.00412\n",
      "Time:                        18:38:41   Log-Likelihood:                -655.76\n",
      "No. Observations:                 824   AIC:                             1318.\n",
      "Df Residuals:                     821   BIC:                             1332.\n",
      "Df Model:                           2                                         \n",
      "Covariance Type:            nonrobust                                         \n",
      "==============================================================================\n",
      "                 coef    std err          t      P>|t|      [0.025      0.975]\n",
      "------------------------------------------------------------------------------\n",
      "const          1.8839      0.024     77.541      0.000       1.836       1.932\n",
      "belavg        -0.1987      0.060     -3.314      0.001      -0.316      -0.081\n",
      "abvavg        -0.0440      0.042     -1.038      0.300      -0.127       0.039\n",
      "==============================================================================\n",
      "Omnibus:                       12.214   Durbin-Watson:                   1.647\n",
      "Prob(Omnibus):                  0.002   Jarque-Bera (JB):               19.986\n",
      "Skew:                           0.045   Prob(JB):                     4.57e-05\n",
      "Kurtosis:                       3.758   Cond. No.                         3.54\n",
      "==============================================================================\n",
      "\n",
      "Warnings:\n",
      "[1] Standard Errors assume that the covariance matrix of the errors is correctly specified.\n",
      "                            OLS Regression Results                            \n",
      "==============================================================================\n",
      "Dep. Variable:                  lwage   R-squared:                       0.010\n",
      "Model:                            OLS   Adj. R-squared:                  0.006\n",
      "Method:                 Least Squares   F-statistic:                     2.297\n",
      "Date:                Mon, 25 May 2020   Prob (F-statistic):              0.102\n",
      "Time:                        18:38:41   Log-Likelihood:                -334.40\n",
      "No. Observations:                 436   AIC:                             674.8\n",
      "Df Residuals:                     433   BIC:                             687.0\n",
      "Df Model:                           2                                         \n",
      "Covariance Type:            nonrobust                                         \n",
      "==============================================================================\n",
      "                 coef    std err          t      P>|t|      [0.025      0.975]\n",
      "------------------------------------------------------------------------------\n",
      "const          1.3088      0.034     38.212      0.000       1.241       1.376\n",
      "belavg        -0.1376      0.076     -1.806      0.072      -0.287       0.012\n",
      "abvavg         0.0336      0.055      0.607      0.544      -0.075       0.143\n",
      "==============================================================================\n",
      "Omnibus:                       28.874   Durbin-Watson:                   1.545\n",
      "Prob(Omnibus):                  0.000   Jarque-Bera (JB):               60.528\n",
      "Skew:                           0.368   Prob(JB):                     7.18e-14\n",
      "Kurtosis:                       4.670   Cond. No.                         3.50\n",
      "==============================================================================\n",
      "\n",
      "Warnings:\n",
      "[1] Standard Errors assume that the covariance matrix of the errors is correctly specified.\n"
     ]
    }
   ],
   "source": [
    "beauty_men = beauty[beauty.female == 0]\n",
    "beauty_women = beauty[beauty.female == 1]\n",
    "\n",
    "y = beauty_men.lwage\n",
    "X = sm.add_constant(beauty_men[[\"belavg\", \"abvavg\"]])\n",
    "model = sm.OLS(y, X).fit()\n",
    "model_summary = model.summary()\n",
    "print(model_summary)\n",
    "\n",
    "y = beauty_women.lwage\n",
    "X = sm.add_constant(beauty_women[[\"belavg\", \"abvavg\"]])\n",
    "model = sm.OLS(y, X).fit()\n",
    "model_summary = model.summary()\n",
    "print(model_summary)"
   ]
  },
  {
   "cell_type": "code",
   "execution_count": 53,
   "metadata": {},
   "outputs": [
    {
     "name": "stdout",
     "output_type": "stream",
     "text": [
      "                            OLS Regression Results                            \n",
      "==============================================================================\n",
      "Dep. Variable:                  lwage   R-squared:                       0.308\n",
      "Model:                            OLS   Adj. R-squared:                  0.297\n",
      "Method:                 Least Squares   F-statistic:                     27.79\n",
      "Date:                Mon, 25 May 2020   Prob (F-statistic):           1.71e-56\n",
      "Time:                        18:38:41   Log-Likelihood:                -509.31\n",
      "No. Observations:                 824   AIC:                             1047.\n",
      "Df Residuals:                     810   BIC:                             1113.\n",
      "Df Model:                          13                                         \n",
      "Covariance Type:            nonrobust                                         \n",
      "==============================================================================\n",
      "                 coef    std err          t      P>|t|      [0.025      0.975]\n",
      "------------------------------------------------------------------------------\n",
      "const          0.3580      0.119      3.017      0.003       0.125       0.591\n",
      "belavg        -0.1434      0.051     -2.803      0.005      -0.244      -0.043\n",
      "abvavg        -0.0010      0.037     -0.027      0.978      -0.073       0.071\n",
      "educ           0.0603      0.007      8.934      0.000       0.047       0.074\n",
      "exper          0.0495      0.006      8.833      0.000       0.038       0.060\n",
      "expersq       -0.0008      0.000     -6.652      0.000      -0.001      -0.001\n",
      "union          0.1092      0.035      3.088      0.002       0.040       0.179\n",
      "goodhlth       0.0012      0.068      0.018      0.986      -0.132       0.134\n",
      "black         -0.2772      0.073     -3.784      0.000      -0.421      -0.133\n",
      "married        0.0824      0.043      1.926      0.054      -0.002       0.166\n",
      "south          0.1037      0.042      2.489      0.013       0.022       0.186\n",
      "bigcity        0.2735      0.045      6.047      0.000       0.185       0.362\n",
      "smllcity       0.1346      0.037      3.594      0.000       0.061       0.208\n",
      "service       -0.2090      0.043     -4.873      0.000      -0.293      -0.125\n",
      "==============================================================================\n",
      "Omnibus:                       47.033   Durbin-Watson:                   1.822\n",
      "Prob(Omnibus):                  0.000   Jarque-Bera (JB):              105.780\n",
      "Skew:                           0.326   Prob(JB):                     1.07e-23\n",
      "Kurtosis:                       4.630   Cond. No.                     6.39e+03\n",
      "==============================================================================\n",
      "\n",
      "Warnings:\n",
      "[1] Standard Errors assume that the covariance matrix of the errors is correctly specified.\n",
      "[2] The condition number is large, 6.39e+03. This might indicate that there are\n",
      "strong multicollinearity or other numerical problems.\n",
      "                            OLS Regression Results                            \n",
      "==============================================================================\n",
      "Dep. Variable:                  lwage   R-squared:                       0.300\n",
      "Model:                            OLS   Adj. R-squared:                  0.279\n",
      "Method:                 Least Squares   F-statistic:                     13.93\n",
      "Date:                Mon, 25 May 2020   Prob (F-statistic):           6.18e-26\n",
      "Time:                        18:38:41   Log-Likelihood:                -258.85\n",
      "No. Observations:                 436   AIC:                             545.7\n",
      "Df Residuals:                     422   BIC:                             602.8\n",
      "Df Model:                          13                                         \n",
      "Covariance Type:            nonrobust                                         \n",
      "==============================================================================\n",
      "                 coef    std err          t      P>|t|      [0.025      0.975]\n",
      "------------------------------------------------------------------------------\n",
      "const         -0.1028      0.147     -0.700      0.484      -0.391       0.186\n",
      "belavg        -0.1152      0.066     -1.745      0.082      -0.245       0.015\n",
      "abvavg         0.0575      0.049      1.183      0.238      -0.038       0.153\n",
      "educ           0.0769      0.010      8.014      0.000       0.058       0.096\n",
      "exper          0.0300      0.007      4.225      0.000       0.016       0.044\n",
      "expersq       -0.0005      0.000     -2.933      0.004      -0.001      -0.000\n",
      "union          0.2844      0.053      5.327      0.000       0.179       0.389\n",
      "goodhlth       0.1280      0.081      1.574      0.116      -0.032       0.288\n",
      "black          0.1058      0.070      1.513      0.131      -0.032       0.243\n",
      "married       -0.0550      0.044     -1.249      0.212      -0.142       0.032\n",
      "south         -0.0045      0.060     -0.075      0.940      -0.122       0.113\n",
      "bigcity        0.1723      0.064      2.704      0.007       0.047       0.298\n",
      "smllcity       0.0130      0.050      0.260      0.795      -0.086       0.112\n",
      "service       -0.0907      0.047     -1.944      0.053      -0.183       0.001\n",
      "==============================================================================\n",
      "Omnibus:                       35.204   Durbin-Watson:                   1.878\n",
      "Prob(Omnibus):                  0.000   Jarque-Bera (JB):              118.426\n",
      "Skew:                           0.270   Prob(JB):                     1.92e-26\n",
      "Kurtosis:                       5.496   Cond. No.                     3.81e+03\n",
      "==============================================================================\n",
      "\n",
      "Warnings:\n",
      "[1] Standard Errors assume that the covariance matrix of the errors is correctly specified.\n",
      "[2] The condition number is large, 3.81e+03. This might indicate that there are\n",
      "strong multicollinearity or other numerical problems.\n"
     ]
    }
   ],
   "source": [
    "y = beauty_men.lwage\n",
    "X = sm.add_constant(beauty_men[[\"belavg\", \"abvavg\", \"educ\", \"exper\", \"expersq\", \"union\", \"goodhlth\", \"black\", \"married\", \"south\", \"bigcity\", \"smllcity\", \"service\"]])\n",
    "model = sm.OLS(y, X).fit()\n",
    "model_summary = model.summary()\n",
    "print(model_summary)\n",
    "ssrm = model.ssr\n",
    "\n",
    "y = beauty_women.lwage\n",
    "X = sm.add_constant(beauty_women[[\"belavg\", \"abvavg\", \"educ\", \"exper\", \"expersq\", \"union\", \"goodhlth\", \"black\", \"married\", \"south\", \"bigcity\", \"smllcity\", \"service\"]])\n",
    "model = sm.OLS(y, X).fit()\n",
    "model_summary = model.summary()\n",
    "print(model_summary)\n",
    "ssrw = model.ssr"
   ]
  },
  {
   "cell_type": "code",
   "execution_count": 54,
   "metadata": {},
   "outputs": [
    {
     "name": "stdout",
     "output_type": "stream",
     "text": [
      "16.62216554950696\n"
     ]
    }
   ],
   "source": [
    "y = beauty.lwage\n",
    "X = sm.add_constant(beauty[[\"belavg\", \"abvavg\", \"educ\", \"exper\", \"expersq\", \"union\", \"goodhlth\", \"black\", \"married\", \"south\", \"bigcity\", \"smllcity\", \"service\"]])\n",
    "model = sm.OLS(y, X).fit()\n",
    "\n",
    "chow = ((model.ssr - (ssrm + ssrw))/(ssrm + ssrw)) * ((model.nobs - (2 * (model.df_model + 1))) / model.df_model)\n",
    "\n",
    "print(chow)"
   ]
  },
  {
   "cell_type": "markdown",
   "metadata": {},
   "source": [
    "C12.i More people are rated as being above average\n",
    "\n",
    "C12.ii We fail to reject the null\n",
    "\n",
    "C12.iii The hypothesis is that below average is associated with lower wages p-values are above if you divide by 2\n",
    "\n",
    "C12.iv There is no evidence to suggest the coefficient is different from 0\n",
    "\n",
    "C12.v No substantial change it appears\n",
    "\n",
    "C12.vi The Chow test rejects the null of equality suggesting the slopes are different between men and women"
   ]
  },
  {
   "cell_type": "code",
   "execution_count": 55,
   "metadata": {},
   "outputs": [
    {
     "data": {
      "text/plain": [
       "0.6242424242424243"
      ]
     },
     "execution_count": 55,
     "metadata": {},
     "output_type": "execute_result"
    }
   ],
   "source": [
    "# Exercise 13\n",
    "apple = pd.read_stata(\"stata/APPLE.DTA\")\n",
    "\n",
    "apple[\"ecobuy\"] = (apple.ecolbs > 0).astype(\"int32\")\n",
    "\n",
    "apple[apple.ecobuy == 1].shape[0] / apple.shape[0]"
   ]
  },
  {
   "cell_type": "code",
   "execution_count": 56,
   "metadata": {},
   "outputs": [
    {
     "name": "stdout",
     "output_type": "stream",
     "text": [
      "                            OLS Regression Results                            \n",
      "==============================================================================\n",
      "Dep. Variable:                 ecobuy   R-squared:                       0.110\n",
      "Model:                            OLS   Adj. R-squared:                  0.102\n",
      "Method:                 Least Squares   F-statistic:                     13.43\n",
      "Date:                Mon, 25 May 2020   Prob (F-statistic):           2.18e-14\n",
      "Time:                        18:38:42   Log-Likelihood:                -419.60\n",
      "No. Observations:                 660   AIC:                             853.2\n",
      "Df Residuals:                     653   BIC:                             884.6\n",
      "Df Model:                           6                                         \n",
      "Covariance Type:            nonrobust                                         \n",
      "==============================================================================\n",
      "                 coef    std err          t      P>|t|      [0.025      0.975]\n",
      "------------------------------------------------------------------------------\n",
      "const          0.4237      0.165      2.568      0.010       0.100       0.748\n",
      "ecoprc        -0.8026      0.109     -7.336      0.000      -1.017      -0.588\n",
      "regprc         0.7193      0.132      5.464      0.000       0.461       0.978\n",
      "faminc         0.0006      0.001      1.042      0.298      -0.000       0.002\n",
      "hhsize         0.0238      0.013      1.902      0.058      -0.001       0.048\n",
      "educ           0.0248      0.008      2.960      0.003       0.008       0.041\n",
      "age           -0.0005      0.001     -0.401      0.689      -0.003       0.002\n",
      "==============================================================================\n",
      "Omnibus:                     4015.360   Durbin-Watson:                   2.084\n",
      "Prob(Omnibus):                  0.000   Jarque-Bera (JB):               69.344\n",
      "Skew:                          -0.411   Prob(JB):                     8.75e-16\n",
      "Kurtosis:                       1.641   Cond. No.                         724.\n",
      "==============================================================================\n",
      "\n",
      "Warnings:\n",
      "[1] Standard Errors assume that the covariance matrix of the errors is correctly specified.\n"
     ]
    }
   ],
   "source": [
    "y = apple.ecobuy\n",
    "X = sm.add_constant(apple[[\"ecoprc\", \"regprc\", \"faminc\", \"hhsize\", \"educ\", \"age\"]])\n",
    "model = sm.OLS(y, X).fit()\n",
    "model_summary = model.summary()\n",
    "print(model_summary)"
   ]
  },
  {
   "cell_type": "code",
   "execution_count": 57,
   "metadata": {},
   "outputs": [
    {
     "data": {
      "text/plain": [
       "<class 'statsmodels.stats.contrast.ContrastResults'>\n",
       "<F test: F=array([[4.42755104]]), p=0.0015443199731425277, df_denom=653, df_num=4>"
      ]
     },
     "execution_count": 57,
     "metadata": {},
     "output_type": "execute_result"
    }
   ],
   "source": [
    "model.f_test(\"(faminc = 0), (hhsize = 0), (educ = 0), (age = 0)\")"
   ]
  },
  {
   "cell_type": "code",
   "execution_count": 58,
   "metadata": {},
   "outputs": [
    {
     "name": "stdout",
     "output_type": "stream",
     "text": [
      "                            OLS Regression Results                            \n",
      "==============================================================================\n",
      "Dep. Variable:                 ecobuy   R-squared:                       0.112\n",
      "Model:                            OLS   Adj. R-squared:                  0.103\n",
      "Method:                 Least Squares   F-statistic:                     13.67\n",
      "Date:                Mon, 25 May 2020   Prob (F-statistic):           1.16e-14\n",
      "Time:                        18:38:42   Log-Likelihood:                -418.94\n",
      "No. Observations:                 660   AIC:                             851.9\n",
      "Df Residuals:                     653   BIC:                             883.3\n",
      "Df Model:                           6                                         \n",
      "Covariance Type:            nonrobust                                         \n",
      "==============================================================================\n",
      "                 coef    std err          t      P>|t|      [0.025      0.975]\n",
      "------------------------------------------------------------------------------\n",
      "const          0.3038      0.179      1.697      0.090      -0.048       0.655\n",
      "ecoprc        -0.8007      0.109     -7.326      0.000      -1.015      -0.586\n",
      "regprc         0.7214      0.132      5.485      0.000       0.463       0.980\n",
      "lfaminc        0.0445      0.029      1.550      0.122      -0.012       0.101\n",
      "hhsize         0.0227      0.013      1.810      0.071      -0.002       0.047\n",
      "educ           0.0231      0.008      2.733      0.006       0.006       0.040\n",
      "age           -0.0004      0.001     -0.309      0.758      -0.003       0.002\n",
      "==============================================================================\n",
      "Omnibus:                     3113.689   Durbin-Watson:                   2.088\n",
      "Prob(Omnibus):                  0.000   Jarque-Bera (JB):               68.818\n",
      "Skew:                          -0.412   Prob(JB):                     1.14e-15\n",
      "Kurtosis:                       1.649   Cond. No.                         499.\n",
      "==============================================================================\n",
      "\n",
      "Warnings:\n",
      "[1] Standard Errors assume that the covariance matrix of the errors is correctly specified.\n"
     ]
    }
   ],
   "source": [
    "apple[\"lfaminc\"] = np.log(apple.faminc)\n",
    "\n",
    "X = sm.add_constant(apple[[\"ecoprc\", \"regprc\", \"lfaminc\", \"hhsize\", \"educ\", \"age\"]])\n",
    "model = sm.OLS(y, X).fit()\n",
    "model_summary = model.summary()\n",
    "print(model_summary)"
   ]
  },
  {
   "cell_type": "code",
   "execution_count": 59,
   "metadata": {},
   "outputs": [
    {
     "name": "stdout",
     "output_type": "stream",
     "text": [
      "0\n",
      "2\n",
      "167    1.050653\n",
      "493    1.049140\n",
      "dtype: float64\n"
     ]
    }
   ],
   "source": [
    "print(model.fittedvalues[model.fittedvalues < 0].shape[0])\n",
    "print(model.fittedvalues[model.fittedvalues > 1].shape[0])\n",
    "print(model.fittedvalues[model.fittedvalues > 1])"
   ]
  },
  {
   "cell_type": "code",
   "execution_count": 60,
   "metadata": {},
   "outputs": [
    {
     "name": "stdout",
     "output_type": "stream",
     "text": [
      "0.8252427184466019\n",
      "0.4112903225806452\n"
     ]
    }
   ],
   "source": [
    "print(model.fittedvalues[(model.fittedvalues > 0.5) & (apple.ecobuy == 1)].shape[0] / apple[apple.ecobuy == 1].shape[0])\n",
    "print(model.fittedvalues[(model.fittedvalues < 0.5) & (apple.ecobuy == 0)].shape[0] / apple[apple.ecobuy == 0].shape[0])"
   ]
  },
  {
   "cell_type": "markdown",
   "metadata": {},
   "source": [
    "C13.i 62% of families claim they would buy ecolabeled apples\n",
    "\n",
    "C13.iii The nonprice variables are jointly significant in the LPM, almost certainly due to educ. It seems to make sense since education may indicate a willingness to hear out the argument for eco labeling\n",
    "\n",
    "C13.iv The log does not appear to change anything substantively.\n",
    "\n",
    "C13.v No negative values but some greater than 1. Only 2 observations, so not a major concern.\n",
    "\n",
    "C13.vi Predicting 1 is more accurate than 0"
   ]
  },
  {
   "cell_type": "code",
   "execution_count": 61,
   "metadata": {},
   "outputs": [
    {
     "name": "stdout",
     "output_type": "stream",
     "text": [
      "                            OLS Regression Results                            \n",
      "==============================================================================\n",
      "Dep. Variable:                respond   R-squared:                       0.110\n",
      "Model:                            OLS   Adj. R-squared:                  0.110\n",
      "Method:                 Least Squares   F-statistic:                     263.8\n",
      "Date:                Mon, 25 May 2020   Prob (F-statistic):          9.88e-109\n",
      "Time:                        18:38:42   Log-Likelihood:                -2761.6\n",
      "No. Observations:                4268   AIC:                             5529.\n",
      "Df Residuals:                    4265   BIC:                             5548.\n",
      "Df Model:                           2                                         \n",
      "Covariance Type:            nonrobust                                         \n",
      "==============================================================================\n",
      "                 coef    std err          t      P>|t|      [0.025      0.975]\n",
      "------------------------------------------------------------------------------\n",
      "const          0.2821      0.009     31.918      0.000       0.265       0.299\n",
      "resplast       0.3437      0.015     22.918      0.000       0.314       0.373\n",
      "avggift        0.0002   8.99e-05      1.708      0.088   -2.27e-05       0.000\n",
      "==============================================================================\n",
      "Omnibus:                    52768.954   Durbin-Watson:                   1.834\n",
      "Prob(Omnibus):                  0.000   Jarque-Bera (JB):              422.178\n",
      "Skew:                           0.387   Prob(JB):                     2.11e-92\n",
      "Kurtosis:                       1.668   Cond. No.                         183.\n",
      "==============================================================================\n",
      "\n",
      "Warnings:\n",
      "[1] Standard Errors assume that the covariance matrix of the errors is correctly specified.\n"
     ]
    }
   ],
   "source": [
    "# Exercise 14\n",
    "charity = pd.read_stata(\"stata/charity.dta\")\n",
    "\n",
    "y = charity.respond\n",
    "X = sm.add_constant(charity[[\"resplast\", \"avggift\"]])\n",
    "model = sm.OLS(y, X).fit()\n",
    "model_summary = model.summary()\n",
    "print(model_summary)"
   ]
  },
  {
   "cell_type": "code",
   "execution_count": 62,
   "metadata": {},
   "outputs": [
    {
     "name": "stdout",
     "output_type": "stream",
     "text": [
      "                            OLS Regression Results                            \n",
      "==============================================================================\n",
      "Dep. Variable:                respond   R-squared:                       0.202\n",
      "Model:                            OLS   Adj. R-squared:                  0.202\n",
      "Method:                 Least Squares   F-statistic:                     360.8\n",
      "Date:                Mon, 25 May 2020   Prob (F-statistic):          8.64e-209\n",
      "Time:                        18:38:42   Log-Likelihood:                -2527.8\n",
      "No. Observations:                4268   AIC:                             5064.\n",
      "Df Residuals:                    4264   BIC:                             5089.\n",
      "Df Model:                           3                                         \n",
      "Covariance Type:            nonrobust                                         \n",
      "==============================================================================\n",
      "                 coef    std err          t      P>|t|      [0.025      0.975]\n",
      "------------------------------------------------------------------------------\n",
      "const          0.0023      0.015      0.152      0.879      -0.027       0.032\n",
      "resplast       0.0947      0.018      5.234      0.000       0.059       0.130\n",
      "avggift        0.0002   8.52e-05      2.138      0.033    1.51e-05       0.000\n",
      "propresp       0.7487      0.034     22.221      0.000       0.683       0.815\n",
      "==============================================================================\n",
      "Omnibus:                      982.504   Durbin-Watson:                   1.951\n",
      "Prob(Omnibus):                  0.000   Jarque-Bera (JB):              251.388\n",
      "Skew:                           0.330   Prob(JB):                     2.58e-55\n",
      "Kurtosis:                       2.011   Cond. No.                         456.\n",
      "==============================================================================\n",
      "\n",
      "Warnings:\n",
      "[1] Standard Errors assume that the covariance matrix of the errors is correctly specified.\n"
     ]
    }
   ],
   "source": [
    "X = sm.add_constant(charity[[\"resplast\", \"avggift\", \"propresp\"]])\n",
    "model = sm.OLS(y, X).fit()\n",
    "model_summary = model.summary()\n",
    "print(model_summary)"
   ]
  },
  {
   "cell_type": "code",
   "execution_count": 63,
   "metadata": {},
   "outputs": [
    {
     "name": "stdout",
     "output_type": "stream",
     "text": [
      "                            OLS Regression Results                            \n",
      "==============================================================================\n",
      "Dep. Variable:                respond   R-squared:                       0.210\n",
      "Model:                            OLS   Adj. R-squared:                  0.209\n",
      "Method:                 Least Squares   F-statistic:                     282.5\n",
      "Date:                Mon, 25 May 2020   Prob (F-statistic):          1.03e-215\n",
      "Time:                        18:38:42   Log-Likelihood:                -2508.8\n",
      "No. Observations:                4268   AIC:                             5028.\n",
      "Df Residuals:                    4263   BIC:                             5059.\n",
      "Df Model:                           4                                         \n",
      "Covariance Type:            nonrobust                                         \n",
      "==============================================================================\n",
      "                 coef    std err          t      P>|t|      [0.025      0.975]\n",
      "------------------------------------------------------------------------------\n",
      "const         -0.1172      0.025     -4.782      0.000      -0.165      -0.069\n",
      "resplast       0.0987      0.018      5.475      0.000       0.063       0.134\n",
      "avggift        0.0002   8.48e-05      2.005      0.045    3.75e-06       0.000\n",
      "propresp       0.7307      0.034     21.700      0.000       0.665       0.797\n",
      "mailsyear      0.0620      0.010      6.179      0.000       0.042       0.082\n",
      "==============================================================================\n",
      "Omnibus:                      946.335   Durbin-Watson:                   1.961\n",
      "Prob(Omnibus):                  0.000   Jarque-Bera (JB):              248.138\n",
      "Skew:                           0.329   Prob(JB):                     1.31e-54\n",
      "Kurtosis:                       2.019   Cond. No.                         460.\n",
      "==============================================================================\n",
      "\n",
      "Warnings:\n",
      "[1] Standard Errors assume that the covariance matrix of the errors is correctly specified.\n"
     ]
    }
   ],
   "source": [
    "X = sm.add_constant(charity[[\"resplast\", \"avggift\", \"propresp\", \"mailsyear\"]])\n",
    "model = sm.OLS(y, X).fit()\n",
    "model_summary = model.summary()\n",
    "print(model_summary)"
   ]
  },
  {
   "cell_type": "markdown",
   "metadata": {},
   "source": [
    "C14.ii Avg gift is significant but the value is quite small and so no\n",
    "\n",
    "C14.iii The likelihood that someone who has responded to all previous mailings will respond to this one\n",
    "\n",
    "C14.iv resplast's magnitude fell. This makes sense because propresp more directly responds someone's past ability to respond\n",
    "\n",
    "C14.v Mailings per year is smaller than the others, but meaningful and significant. The model focuses a lot on past behaviour and treats all mailings as the same."
   ]
  },
  {
   "cell_type": "code",
   "execution_count": 64,
   "metadata": {},
   "outputs": [
    {
     "name": "stdout",
     "output_type": "stream",
     "text": [
      "0\n",
      "13\n",
      "2.2678284797064894\n",
      "Empty DataFrame\n",
      "Columns: [mnthborn, yearborn, age, electric, radio, tv, bicycle, educ, ceb, agefbrth, children, knowmeth, usemeth, monthfm, yearfm, agefm, idlnchld, heduc, agesq, urban, urb_educ, spirit, protest, catholic, frsthalf, educ0, evermarr]\n",
      "Index: []\n",
      "\n",
      "[0 rows x 27 columns]\n"
     ]
    }
   ],
   "source": [
    "# Exercise 15\n",
    "fertil2 = pd.read_stata(\"stata/FERTIL2.DTA\")\n",
    "\n",
    "print(fertil2.children.min())\n",
    "print(fertil2.children.max())\n",
    "print(fertil2.children.mean())\n",
    "print(fertil2[fertil2.children == fertil2.children.mean()])"
   ]
  },
  {
   "cell_type": "code",
   "execution_count": 65,
   "metadata": {},
   "outputs": [
    {
     "data": {
      "text/plain": [
       "0.14010548039440496"
      ]
     },
     "execution_count": 65,
     "metadata": {},
     "output_type": "execute_result"
    }
   ],
   "source": [
    "fertil2[fertil2.electric == 1].shape[0] / fertil2.shape[0]"
   ]
  },
  {
   "cell_type": "code",
   "execution_count": 66,
   "metadata": {},
   "outputs": [
    {
     "name": "stdout",
     "output_type": "stream",
     "text": [
      "1.8985270049099836\n",
      "2.327728849746464\n",
      "                            OLS Regression Results                            \n",
      "==============================================================================\n",
      "Dep. Variable:               children   R-squared:                       0.004\n",
      "Model:                            OLS   Adj. R-squared:                  0.004\n",
      "Method:                 Least Squares   F-statistic:                     19.69\n",
      "Date:                Mon, 25 May 2020   Prob (F-statistic):           9.35e-06\n",
      "Time:                        18:38:42   Log-Likelihood:                -9652.7\n",
      "No. Observations:                4358   AIC:                         1.931e+04\n",
      "Df Residuals:                    4356   BIC:                         1.932e+04\n",
      "Df Model:                           1                                         \n",
      "Covariance Type:            nonrobust                                         \n",
      "==============================================================================\n",
      "                 coef    std err          t      P>|t|      [0.025      0.975]\n",
      "------------------------------------------------------------------------------\n",
      "const          2.3277      0.036     64.265      0.000       2.257       2.399\n",
      "electric      -0.4292      0.097     -4.437      0.000      -0.619      -0.240\n",
      "==============================================================================\n",
      "Omnibus:                      614.395   Durbin-Watson:                   1.981\n",
      "Prob(Omnibus):                  0.000   Jarque-Bera (JB):              902.845\n",
      "Skew:                           1.055   Prob(JB):                    8.91e-197\n",
      "Kurtosis:                       3.719   Cond. No.                         2.94\n",
      "==============================================================================\n",
      "\n",
      "Warnings:\n",
      "[1] Standard Errors assume that the covariance matrix of the errors is correctly specified.\n"
     ]
    }
   ],
   "source": [
    "print(fertil2[fertil2.electric == 1].children.mean())\n",
    "print(fertil2[fertil2.electric == 0].children.mean())\n",
    "\n",
    "fertil2_reg = fertil2[[\"children\", \"electric\"]].dropna()\n",
    "\n",
    "y = fertil2_reg.children\n",
    "X = sm.add_constant(fertil2_reg[[\"electric\"]])\n",
    "model = sm.OLS(y, X).fit()\n",
    "model_summary = model.summary()\n",
    "print(model_summary)"
   ]
  },
  {
   "cell_type": "code",
   "execution_count": 67,
   "metadata": {},
   "outputs": [
    {
     "name": "stdout",
     "output_type": "stream",
     "text": [
      "                            OLS Regression Results                            \n",
      "==============================================================================\n",
      "Dep. Variable:               children   R-squared:                       0.574\n",
      "Model:                            OLS   Adj. R-squared:                  0.573\n",
      "Method:                 Least Squares   F-statistic:                     732.6\n",
      "Date:                Mon, 25 May 2020   Prob (F-statistic):               0.00\n",
      "Time:                        18:38:43   Log-Likelihood:                -7803.0\n",
      "No. Observations:                4358   AIC:                         1.562e+04\n",
      "Df Residuals:                    4349   BIC:                         1.568e+04\n",
      "Df Model:                           8                                         \n",
      "Covariance Type:            nonrobust                                         \n",
      "==============================================================================\n",
      "                 coef    std err          t      P>|t|      [0.025      0.975]\n",
      "------------------------------------------------------------------------------\n",
      "const         -4.3147      0.243    -17.731      0.000      -4.792      -3.838\n",
      "age            0.3419      0.017     20.696      0.000       0.309       0.374\n",
      "agesq         -0.0028      0.000    -10.139      0.000      -0.003      -0.002\n",
      "educ          -0.0762      0.006    -11.796      0.000      -0.089      -0.064\n",
      "electric      -0.3057      0.069     -4.429      0.000      -0.441      -0.170\n",
      "urban         -0.2034      0.047     -4.366      0.000      -0.295      -0.112\n",
      "catholic       0.1174      0.083      1.407      0.160      -0.046       0.281\n",
      "spirit         0.1405      0.056      2.517      0.012       0.031       0.250\n",
      "protest        0.0754      0.065      1.156      0.248      -0.052       0.203\n",
      "==============================================================================\n",
      "Omnibus:                      202.228   Durbin-Watson:                   1.887\n",
      "Prob(Omnibus):                  0.000   Jarque-Bera (JB):              709.030\n",
      "Skew:                           0.016   Prob(JB):                    1.09e-154\n",
      "Kurtosis:                       4.976   Cond. No.                     1.09e+04\n",
      "==============================================================================\n",
      "\n",
      "Warnings:\n",
      "[1] Standard Errors assume that the covariance matrix of the errors is correctly specified.\n",
      "[2] The condition number is large, 1.09e+04. This might indicate that there are\n",
      "strong multicollinearity or other numerical problems.\n"
     ]
    }
   ],
   "source": [
    "fertil2_reg = fertil2[[\"children\", \"age\", \"agesq\", \"educ\", \"electric\", \"urban\", \"catholic\", \"spirit\", \"protest\"]].dropna()\n",
    "\n",
    "y = fertil2_reg.children\n",
    "X = sm.add_constant(fertil2_reg[[\"age\", \"agesq\", \"educ\", \"electric\", \"urban\", \"catholic\", \"spirit\", \"protest\"]])\n",
    "model = sm.OLS(y, X).fit()\n",
    "model_summary = model.summary()\n",
    "print(model_summary)"
   ]
  },
  {
   "cell_type": "code",
   "execution_count": 68,
   "metadata": {},
   "outputs": [
    {
     "name": "stdout",
     "output_type": "stream",
     "text": [
      "                            OLS Regression Results                            \n",
      "==============================================================================\n",
      "Dep. Variable:               children   R-squared:                       0.574\n",
      "Model:                            OLS   Adj. R-squared:                  0.573\n",
      "Method:                 Least Squares   F-statistic:                     651.5\n",
      "Date:                Mon, 25 May 2020   Prob (F-statistic):               0.00\n",
      "Time:                        18:38:43   Log-Likelihood:                -7802.1\n",
      "No. Observations:                4358   AIC:                         1.562e+04\n",
      "Df Residuals:                    4348   BIC:                         1.569e+04\n",
      "Df Model:                           9                                         \n",
      "Covariance Type:            nonrobust                                         \n",
      "================================================================================\n",
      "                   coef    std err          t      P>|t|      [0.025      0.975]\n",
      "--------------------------------------------------------------------------------\n",
      "const           -4.3599      0.246    -17.741      0.000      -4.842      -3.878\n",
      "age              0.3434      0.017     20.739      0.000       0.311       0.376\n",
      "agesq           -0.0028      0.000    -10.182      0.000      -0.003      -0.002\n",
      "educ            -0.0721      0.007    -10.035      0.000      -0.086      -0.058\n",
      "educelectric    -0.0216      0.016     -1.311      0.190      -0.054       0.011\n",
      "electric        -0.1291      0.151     -0.853      0.394      -0.426       0.168\n",
      "urban           -0.2097      0.047     -4.478      0.000      -0.302      -0.118\n",
      "catholic         0.1158      0.083      1.388      0.165      -0.048       0.279\n",
      "spirit           0.1353      0.056      2.420      0.016       0.026       0.245\n",
      "protest          0.0709      0.065      1.086      0.278      -0.057       0.199\n",
      "==============================================================================\n",
      "Omnibus:                      203.361   Durbin-Watson:                   1.890\n",
      "Prob(Omnibus):                  0.000   Jarque-Bera (JB):              716.487\n",
      "Skew:                           0.013   Prob(JB):                    2.61e-156\n",
      "Kurtosis:                       4.986   Cond. No.                     1.10e+04\n",
      "==============================================================================\n",
      "\n",
      "Warnings:\n",
      "[1] Standard Errors assume that the covariance matrix of the errors is correctly specified.\n",
      "[2] The condition number is large, 1.1e+04. This might indicate that there are\n",
      "strong multicollinearity or other numerical problems.\n"
     ]
    }
   ],
   "source": [
    "fertil2_reg[\"educelectric\"] = fertil2_reg.educ * fertil2_reg.electric\n",
    "fertil2_reg[\"educelectricdemean\"] = (fertil2_reg.educ - 7) * fertil2_reg.electric\n",
    "\n",
    "X = sm.add_constant(fertil2_reg[[\"age\", \"agesq\", \"educ\", \"educelectric\", \"electric\", \"urban\", \"catholic\", \"spirit\", \"protest\"]])\n",
    "model = sm.OLS(y, X).fit()\n",
    "model_summary = model.summary()\n",
    "print(model_summary)"
   ]
  },
  {
   "cell_type": "code",
   "execution_count": 69,
   "metadata": {},
   "outputs": [
    {
     "name": "stdout",
     "output_type": "stream",
     "text": [
      "                            OLS Regression Results                            \n",
      "==============================================================================\n",
      "Dep. Variable:               children   R-squared:                       0.574\n",
      "Model:                            OLS   Adj. R-squared:                  0.573\n",
      "Method:                 Least Squares   F-statistic:                     651.5\n",
      "Date:                Mon, 25 May 2020   Prob (F-statistic):               0.00\n",
      "Time:                        18:38:43   Log-Likelihood:                -7802.1\n",
      "No. Observations:                4358   AIC:                         1.562e+04\n",
      "Df Residuals:                    4348   BIC:                         1.569e+04\n",
      "Df Model:                           9                                         \n",
      "Covariance Type:            nonrobust                                         \n",
      "======================================================================================\n",
      "                         coef    std err          t      P>|t|      [0.025      0.975]\n",
      "--------------------------------------------------------------------------------------\n",
      "const                 -4.3599      0.246    -17.741      0.000      -4.842      -3.878\n",
      "age                    0.3434      0.017     20.739      0.000       0.311       0.376\n",
      "agesq                 -0.0028      0.000    -10.182      0.000      -0.003      -0.002\n",
      "educ                  -0.0721      0.007    -10.035      0.000      -0.086      -0.058\n",
      "educelectricdemean    -0.0216      0.016     -1.311      0.190      -0.054       0.011\n",
      "electric              -0.2800      0.072     -3.903      0.000      -0.421      -0.139\n",
      "urban                 -0.2097      0.047     -4.478      0.000      -0.302      -0.118\n",
      "catholic               0.1158      0.083      1.388      0.165      -0.048       0.279\n",
      "spirit                 0.1353      0.056      2.420      0.016       0.026       0.245\n",
      "protest                0.0709      0.065      1.086      0.278      -0.057       0.199\n",
      "==============================================================================\n",
      "Omnibus:                      203.361   Durbin-Watson:                   1.890\n",
      "Prob(Omnibus):                  0.000   Jarque-Bera (JB):              716.487\n",
      "Skew:                           0.013   Prob(JB):                    2.61e-156\n",
      "Kurtosis:                       4.986   Cond. No.                     1.10e+04\n",
      "==============================================================================\n",
      "\n",
      "Warnings:\n",
      "[1] Standard Errors assume that the covariance matrix of the errors is correctly specified.\n",
      "[2] The condition number is large, 1.1e+04. This might indicate that there are\n",
      "strong multicollinearity or other numerical problems.\n"
     ]
    }
   ],
   "source": [
    "X = sm.add_constant(fertil2_reg[[\"age\", \"agesq\", \"educ\", \"educelectricdemean\", \"electric\", \"urban\", \"catholic\", \"spirit\", \"protest\"]])\n",
    "model = sm.OLS(y, X).fit()\n",
    "model_summary = model.summary()\n",
    "print(model_summary)"
   ]
  },
  {
   "cell_type": "markdown",
   "metadata": {},
   "source": [
    "C15.iv Electricity doesn't get people pregnant. The simple regression does not account for factors which affect pregnancy, even if electricity is related to pregnancy\n",
    "\n",
    "C15.v Electricity is smaller but still significant\n",
    "\n",
    "C15.vi Electricity ceases to be significant\n",
    "\n",
    "C15.vii The effect of education is now longer concerned with effect of education at 0, and so electricity can now be properly measured seperate from the interaction with education. Electric is larger and significant."
   ]
  }
 ],
 "metadata": {
  "kernelspec": {
   "display_name": "Python 3",
   "language": "python",
   "name": "python3"
  },
  "language_info": {
   "codemirror_mode": {
    "name": "ipython",
    "version": 3
   },
   "file_extension": ".py",
   "mimetype": "text/x-python",
   "name": "python",
   "nbconvert_exporter": "python",
   "pygments_lexer": "ipython3",
   "version": "3.7.6"
  }
 },
 "nbformat": 4,
 "nbformat_minor": 4
}
