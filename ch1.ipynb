{
 "cells": [
  {
   "cell_type": "markdown",
   "metadata": {},
   "source": [
    "# Chapter 1"
   ]
  },
  {
   "cell_type": "code",
   "execution_count": 1,
   "metadata": {},
   "outputs": [],
   "source": [
    "import pandas as pd\n",
    "\n",
    "wage1 = pd.read_stata(\"stata/WAGE1.DTA\")"
   ]
  },
  {
   "cell_type": "code",
   "execution_count": 2,
   "metadata": {},
   "outputs": [
    {
     "name": "stdout",
     "output_type": "stream",
     "text": [
      "12.562737642585551\n",
      "0 18\n",
      "5.896100044250488\n"
     ]
    }
   ],
   "source": [
    "#Question C1.i\n",
    "print(wage1.educ.mean())\n",
    "print(wage1.educ.min(), wage1.educ.max())\n",
    "#Question C2.ii\n",
    "print(wage1.wage.mean())"
   ]
  },
  {
   "cell_type": "markdown",
   "metadata": {},
   "source": [
    "C1.i: Average education is 12.56, lowest is 0, highest is 18\n",
    "\n",
    "C1.ii: Average hourly wage is \\\\$5.90, this seems low since state minimum wages seem to be approximately \\\\$7.00\n",
    "\n",
    "C1.iii: CPI from 1976 is 56.9, for 2010 is 218.056"
   ]
  },
  {
   "cell_type": "code",
   "execution_count": 3,
   "metadata": {},
   "outputs": [
    {
     "data": {
      "text/plain": [
       "22.595443725585938"
      ]
     },
     "execution_count": 3,
     "metadata": {},
     "output_type": "execute_result"
    }
   ],
   "source": [
    "#CPI in 1976 is 56.9 (average), CPI in 2010 is 218.056\n",
    "(wage1.wage * ((2.18056 / 0.569))).mean()"
   ]
  },
  {
   "cell_type": "markdown",
   "metadata": {},
   "source": [
    "C1.iv: Average hourly wage is now \\\\$22.60 which is more consistent with reported averages"
   ]
  },
  {
   "cell_type": "code",
   "execution_count": 4,
   "metadata": {},
   "outputs": [
    {
     "name": "stdout",
     "output_type": "stream",
     "text": [
      "252\n",
      "274\n"
     ]
    }
   ],
   "source": [
    "print(wage1.female.sum())\n",
    "print(wage1.shape[0] - wage1.female.sum())"
   ]
  },
  {
   "cell_type": "markdown",
   "metadata": {},
   "source": [
    "C1.v: 252 observations are women, 274 are men."
   ]
  },
  {
   "cell_type": "code",
   "execution_count": 5,
   "metadata": {},
   "outputs": [],
   "source": [
    "#Question C2\n",
    "bwght = pd.read_stata(\"stata/BWGHT.DTA\")"
   ]
  },
  {
   "cell_type": "code",
   "execution_count": 6,
   "metadata": {},
   "outputs": [
    {
     "name": "stdout",
     "output_type": "stream",
     "text": [
      "(1388, 14)\n"
     ]
    }
   ],
   "source": [
    "print(bwght.shape)"
   ]
  },
  {
   "cell_type": "code",
   "execution_count": 7,
   "metadata": {},
   "outputs": [
    {
     "data": {
      "text/plain": [
       "2.0871757925072045"
      ]
     },
     "execution_count": 7,
     "metadata": {},
     "output_type": "execute_result"
    }
   ],
   "source": [
    "bwght.cigs.mean()"
   ]
  },
  {
   "cell_type": "code",
   "execution_count": 8,
   "metadata": {},
   "outputs": [
    {
     "data": {
      "text/plain": [
       "13.665094339622641"
      ]
     },
     "execution_count": 8,
     "metadata": {},
     "output_type": "execute_result"
    }
   ],
   "source": [
    "bwght.cigs.loc[bwght.packs > 0].mean()"
   ]
  },
  {
   "cell_type": "code",
   "execution_count": 9,
   "metadata": {},
   "outputs": [
    {
     "data": {
      "text/plain": [
       "13.186241610738255"
      ]
     },
     "execution_count": 9,
     "metadata": {},
     "output_type": "execute_result"
    }
   ],
   "source": [
    "bwght.fatheduc.mean()"
   ]
  },
  {
   "cell_type": "code",
   "execution_count": 10,
   "metadata": {},
   "outputs": [
    {
     "name": "stdout",
     "output_type": "stream",
     "text": [
      "29.026657104492188\n",
      "18.739294052124023\n"
     ]
    }
   ],
   "source": [
    "print(bwght.faminc.mean())\n",
    "print(bwght.faminc.std())"
   ]
  },
  {
   "cell_type": "markdown",
   "metadata": {},
   "source": [
    "C2.i: 1388 women in the sample\n",
    "\n",
    "C2.ii: 2.09 cigarettes per day on average. This is not a good measure of 'average' women since most do not smoke at all\n",
    "\n",
    "C2.iii: 13.67 cigarettes per day. This is higher than in (ii) since we are measuring the average of packs smoked by smokers (not weighted down by 0s)\n",
    "\n",
    "C2.iv: The mean of fatheduc is 13.19 but ~200 values are missing meaning they are not included in the calculation\n",
    "\n",
    "C2.v: Average family income is \\\\$29,026 with a standard deviation of \\$18,739"
   ]
  },
  {
   "cell_type": "code",
   "execution_count": 11,
   "metadata": {},
   "outputs": [],
   "source": [
    "# Question 3\n",
    "meap01 = pd.read_excel(\"excel/meap01.xls\", \n",
    "                     names = [\"dcode\", \"bcode\", \"math4\", \"read4\", \"lunch\", \"enroll\", \"expend\", \"exppp\", \"lenroll\", \"lexpend\", \"lexppp\"],\n",
    "                     sep = \" \",\n",
    "                     header = None)"
   ]
  },
  {
   "cell_type": "code",
   "execution_count": 12,
   "metadata": {},
   "outputs": [
    {
     "name": "stdout",
     "output_type": "stream",
     "text": [
      "0.0\n",
      "100.0\n"
     ]
    }
   ],
   "source": [
    "print(meap01.math4.min())\n",
    "print(meap01.math4.max())"
   ]
  },
  {
   "cell_type": "code",
   "execution_count": 13,
   "metadata": {},
   "outputs": [
    {
     "name": "stdout",
     "output_type": "stream",
     "text": [
      "38\n",
      "17\n",
      "1823\n"
     ]
    }
   ],
   "source": [
    "print(meap01.math4.loc[meap01.math4 == 100.0].size)\n",
    "print(meap01.math4.loc[meap01.math4 == 50.0].size)\n",
    "print(meap01.shape[0])"
   ]
  },
  {
   "cell_type": "code",
   "execution_count": 14,
   "metadata": {},
   "outputs": [
    {
     "name": "stdout",
     "output_type": "stream",
     "text": [
      "71.90899616017558\n",
      "60.061876028524416\n"
     ]
    }
   ],
   "source": [
    "print(meap01.math4.mean())\n",
    "print(meap01.read4.mean())"
   ]
  },
  {
   "cell_type": "code",
   "execution_count": 15,
   "metadata": {},
   "outputs": [
    {
     "data": {
      "text/plain": [
       "0.8427281443588261"
      ]
     },
     "execution_count": 15,
     "metadata": {},
     "output_type": "execute_result"
    }
   ],
   "source": [
    "meap01.math4.corr(meap01.read4)"
   ]
  },
  {
   "cell_type": "code",
   "execution_count": 16,
   "metadata": {},
   "outputs": [
    {
     "data": {
      "text/plain": [
       "1091.8895895804048"
      ]
     },
     "execution_count": 16,
     "metadata": {},
     "output_type": "execute_result"
    }
   ],
   "source": [
    "meap01.exppp.std()"
   ]
  },
  {
   "cell_type": "code",
   "execution_count": 17,
   "metadata": {},
   "outputs": [
    {
     "data": {
      "text/plain": [
       "9.090909090909083"
      ]
     },
     "execution_count": 17,
     "metadata": {},
     "output_type": "execute_result"
    }
   ],
   "source": [
    "(6000 / 5500 - 1) * 100"
   ]
  },
  {
   "cell_type": "code",
   "execution_count": 18,
   "metadata": {},
   "outputs": [
    {
     "data": {
      "text/plain": [
       "8.701137698962924"
      ]
     },
     "execution_count": 18,
     "metadata": {},
     "output_type": "execute_result"
    }
   ],
   "source": [
    "import numpy as np\n",
    "100 * (np.log(6000) - np.log(5500))"
   ]
  },
  {
   "cell_type": "markdown",
   "metadata": {},
   "source": [
    "C3.i Largest = 100%, smallest = 0%\n",
    "\n",
    "C3.ii 38 schools had a perfect pass rate, about 2%\n",
    "\n",
    "C3.iii 17 schools have a pass rate of exactly 50%\n",
    "\n",
    "C3.iv Reading is a more difficult test to pass\n",
    "\n",
    "C3.v Correlation between reading and math is 0.84. Reading and math are highly correlated\n",
    "\n",
    "C3.vi The standard deviation is about \\\\$1,000 compared to an average of about \\$5,000"
   ]
  },
  {
   "cell_type": "code",
   "execution_count": 19,
   "metadata": {},
   "outputs": [],
   "source": [
    "jtrain2 = pd.read_stata(\"stata/JTRAIN2.DTA\")"
   ]
  },
  {
   "cell_type": "code",
   "execution_count": 20,
   "metadata": {},
   "outputs": [
    {
     "data": {
      "text/plain": [
       "0.4157303370786517"
      ]
     },
     "execution_count": 20,
     "metadata": {},
     "output_type": "execute_result"
    }
   ],
   "source": [
    "jtrain2.train.sum() / jtrain2.shape[0]"
   ]
  },
  {
   "cell_type": "code",
   "execution_count": 21,
   "metadata": {},
   "outputs": [
    {
     "name": "stdout",
     "output_type": "stream",
     "text": [
      "4.554801940917969\n",
      "6.349145412445068\n"
     ]
    }
   ],
   "source": [
    "print(jtrain2.re78[jtrain2.train == 0].mean())\n",
    "print(jtrain2.re78[jtrain2.train == 1].mean())"
   ]
  },
  {
   "cell_type": "code",
   "execution_count": 22,
   "metadata": {},
   "outputs": [
    {
     "name": "stdout",
     "output_type": "stream",
     "text": [
      "45\n",
      "92\n",
      "260\n"
     ]
    }
   ],
   "source": [
    "print(jtrain2.unem78[jtrain2.train == 1].sum())\n",
    "print(jtrain2.unem78[jtrain2.train == 0].sum())\n",
    "print(jtrain2[jtrain2.train == 0].shape[0])"
   ]
  },
  {
   "cell_type": "markdown",
   "metadata": {},
   "source": [
    "C4.i 41.6% of the men in the sample recieved job training\n",
    "\n",
    "C4.ii Men in the training program recieved, on average, \\\\$6,349 compared to the average of \\$4,555 for those not training. This is large.\n",
    "\n",
    "C4.iii About 24% of the men trained were unemployed compared to 35% unemployment for men not getting job training. Unemployed men are overrepresented in the untrained.\n",
    "\n",
    "C4.iv It would appear the job training is effective until the difference in unemployment is noticed. The result would need to be normalized for unemployment before being convincing."
   ]
  },
  {
   "cell_type": "code",
   "execution_count": 23,
   "metadata": {},
   "outputs": [],
   "source": [
    "fertil2 = pd.read_stata(\"stata/FERTIL2.DTA\")"
   ]
  },
  {
   "cell_type": "code",
   "execution_count": 24,
   "metadata": {},
   "outputs": [
    {
     "name": "stdout",
     "output_type": "stream",
     "text": [
      "0\n",
      "13\n",
      "2.2678284797064894\n"
     ]
    }
   ],
   "source": [
    "print(fertil2.children.min())\n",
    "print(fertil2.children.max())\n",
    "print(fertil2.children.mean())"
   ]
  },
  {
   "cell_type": "code",
   "execution_count": 25,
   "metadata": {},
   "outputs": [
    {
     "data": {
      "text/plain": [
       "0.14010548039440496"
      ]
     },
     "execution_count": 25,
     "metadata": {},
     "output_type": "execute_result"
    }
   ],
   "source": [
    "fertil2.electric.sum() / fertil2[fertil2.electric != np.nan].shape[0]"
   ]
  },
  {
   "cell_type": "code",
   "execution_count": 26,
   "metadata": {},
   "outputs": [
    {
     "name": "stdout",
     "output_type": "stream",
     "text": [
      "1.8985270049099836\n",
      "2.327728849746464\n"
     ]
    }
   ],
   "source": [
    "print(fertil2.children[fertil2.electric == 1].mean())\n",
    "print(fertil2.children[fertil2.electric == 0].mean())"
   ]
  },
  {
   "cell_type": "markdown",
   "metadata": {},
   "source": [
    "C5.i Smallest number of children = 0, largest = 13\n",
    "\n",
    "C5.ii 14% of women have electricity at home\n",
    "\n",
    "C5.iii On average there are 1.9 children in homes with electricity, and 2.33 in homes without\n",
    "\n",
    "C5.iv We cannot conclude that having electricity causes more women to have fewer children. There may be an income effect to consider (low income families tend to have a larger number of children, as well as being less likely to have electricity) for starters."
   ]
  }
 ],
 "metadata": {
  "kernelspec": {
   "display_name": "Python 3",
   "language": "python",
   "name": "python3"
  },
  "language_info": {
   "codemirror_mode": {
    "name": "ipython",
    "version": 3
   },
   "file_extension": ".py",
   "mimetype": "text/x-python",
   "name": "python",
   "nbconvert_exporter": "python",
   "pygments_lexer": "ipython3",
   "version": "3.7.6"
  }
 },
 "nbformat": 4,
 "nbformat_minor": 4
}
