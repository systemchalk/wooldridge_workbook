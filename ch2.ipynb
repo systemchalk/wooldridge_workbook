{
 "cells": [
  {
   "cell_type": "markdown",
   "metadata": {},
   "source": [
    "# Chapter 2\n",
    "\n",
    "Assumptions required for the simple regression model (Gaus-Markov assumptions for simple regression)\n",
    "\n",
    "* Linear in parameters: The population model is related to the independent variable and the error as a linear equation $y = \\beta_0 + \\beta_1 x + u$\n",
    "* Random sampling: The sample is randomly selected (with the model from the previous assumption)\n",
    "* Sample variation in the explanatory variable: x is not a constant\n",
    "* Zero conditional mean: The error $u$ has an expected value of 0 given any value of the explanatory variable $E(u|x) = 0$\n",
    "* Homoskedasticity: The error $u$ has the same variance given any value of $x$, $Var(u|x) = \\sigma^2$"
   ]
  },
  {
   "cell_type": "code",
   "execution_count": 1,
   "metadata": {},
   "outputs": [],
   "source": [
    "import pandas as pd\n",
    "import numpy as np"
   ]
  },
  {
   "cell_type": "code",
   "execution_count": 2,
   "metadata": {},
   "outputs": [],
   "source": [
    "#Exercise C1\n",
    "s401k = pd.read_stata(\"stata/401K.DTA\")"
   ]
  },
  {
   "cell_type": "code",
   "execution_count": 3,
   "metadata": {},
   "outputs": [
    {
     "name": "stdout",
     "output_type": "stream",
     "text": [
      "87.36289978027344\n",
      "0.7315128445625305\n"
     ]
    }
   ],
   "source": [
    "print(s401k.prate.mean())\n",
    "print(s401k.mrate.mean())"
   ]
  },
  {
   "cell_type": "code",
   "execution_count": 4,
   "metadata": {},
   "outputs": [
    {
     "name": "stdout",
     "output_type": "stream",
     "text": [
      "                            OLS Regression Results                            \n",
      "==============================================================================\n",
      "Dep. Variable:                  prate   R-squared:                       0.075\n",
      "Model:                            OLS   Adj. R-squared:                  0.074\n",
      "Method:                 Least Squares   F-statistic:                     123.7\n",
      "Date:                Sun, 24 May 2020   Prob (F-statistic):           1.10e-27\n",
      "Time:                        23:17:52   Log-Likelihood:                -6437.0\n",
      "No. Observations:                1534   AIC:                         1.288e+04\n",
      "Df Residuals:                    1532   BIC:                         1.289e+04\n",
      "Df Model:                           1                                         \n",
      "Covariance Type:            nonrobust                                         \n",
      "==============================================================================\n",
      "                 coef    std err          t      P>|t|      [0.025      0.975]\n",
      "------------------------------------------------------------------------------\n",
      "const         83.0755      0.563    147.484      0.000      81.971      84.180\n",
      "mrate          5.8611      0.527     11.121      0.000       4.827       6.895\n",
      "==============================================================================\n",
      "Omnibus:                      394.767   Durbin-Watson:                   1.908\n",
      "Prob(Omnibus):                  0.000   Jarque-Bera (JB):              870.172\n",
      "Skew:                          -1.444   Prob(JB):                    1.11e-189\n",
      "Kurtosis:                       5.296   Cond. No.                         2.32\n",
      "==============================================================================\n",
      "\n",
      "Warnings:\n",
      "[1] Standard Errors assume that the covariance matrix of the errors is correctly specified.\n"
     ]
    }
   ],
   "source": [
    "import statsmodels.api as sm\n",
    "\n",
    "y = s401k.prate\n",
    "X = s401k.mrate\n",
    "X = sm.add_constant(X)\n",
    "\n",
    "model = sm.OLS(y, X).fit()\n",
    "model_summary = model.summary()\n",
    "print(model_summary)"
   ]
  },
  {
   "cell_type": "code",
   "execution_count": 5,
   "metadata": {},
   "outputs": [
    {
     "data": {
      "text/plain": [
       "0    103.589233\n",
       "dtype: float64"
      ]
     },
     "execution_count": 5,
     "metadata": {},
     "output_type": "execute_result"
    }
   ],
   "source": [
    "X_p = pd.DataFrame({\"const\" : [1.0], \"mrate\" : [3.5]})\n",
    "model.predict(exog=X_p)"
   ]
  },
  {
   "cell_type": "markdown",
   "metadata": {},
   "source": [
    "C1.i Average participation rate is 87.36%, and the average match rate is 73 cents for every dollar contributed\n",
    "\n",
    "C1.ii (Full summary above), N = 1534, Intercept = 83.0755, mrate = 5.8611, R-Squared 0.075\n",
    "\n",
    "C1.iii The intercept could be considered the 'base' level of 401K participation without matching contribution (83% of the workforce require no inducement). The coefficient on mrate is the increase in participate for each dollar of the match rate (that is, for each dollar of a match rate we get a little under 6% additional participation)\n",
    "\n",
    "C1.iv The predicted prate is 103.589233. This prediction implies that more than all eligible participants will participate once the employer contributes 3.5 times or more. This result reflects the linear model's slope increasing at a constant rate, rather than any observed outcome.\n",
    "\n",
    "C1.v 7.5% of the variation in the participation rate is explained by the matching rate. This is not a very large amount explained by the matching rate alone."
   ]
  },
  {
   "cell_type": "code",
   "execution_count": 6,
   "metadata": {},
   "outputs": [
    {
     "name": "stdout",
     "output_type": "stream",
     "text": [
      "865.8644067796611\n",
      "7.954802259887006\n"
     ]
    }
   ],
   "source": [
    "#Exercise C2\n",
    "\n",
    "ceosal2 = pd.read_stata(\"stata/CEOSAL2.DTA\")\n",
    "print(ceosal2.salary.mean())\n",
    "print(ceosal2.ceoten.mean())"
   ]
  },
  {
   "cell_type": "code",
   "execution_count": 7,
   "metadata": {},
   "outputs": [
    {
     "name": "stdout",
     "output_type": "stream",
     "text": [
      "5\n",
      "37\n"
     ]
    }
   ],
   "source": [
    "print(ceosal2[ceosal2.ceoten == 0].shape[0])\n",
    "print(ceosal2.ceoten.max())"
   ]
  },
  {
   "cell_type": "code",
   "execution_count": 8,
   "metadata": {},
   "outputs": [
    {
     "name": "stdout",
     "output_type": "stream",
     "text": [
      "                            OLS Regression Results                            \n",
      "==============================================================================\n",
      "Dep. Variable:                lsalary   R-squared:                       0.013\n",
      "Model:                            OLS   Adj. R-squared:                  0.008\n",
      "Method:                 Least Squares   F-statistic:                     2.334\n",
      "Date:                Sun, 24 May 2020   Prob (F-statistic):              0.128\n",
      "Time:                        23:17:53   Log-Likelihood:                -160.84\n",
      "No. Observations:                 177   AIC:                             325.7\n",
      "Df Residuals:                     175   BIC:                             332.0\n",
      "Df Model:                           1                                         \n",
      "Covariance Type:            nonrobust                                         \n",
      "==============================================================================\n",
      "                 coef    std err          t      P>|t|      [0.025      0.975]\n",
      "------------------------------------------------------------------------------\n",
      "const          6.5055      0.068     95.682      0.000       6.371       6.640\n",
      "ceoten         0.0097      0.006      1.528      0.128      -0.003       0.022\n",
      "==============================================================================\n",
      "Omnibus:                        3.858   Durbin-Watson:                   2.084\n",
      "Prob(Omnibus):                  0.145   Jarque-Bera (JB):                3.907\n",
      "Skew:                          -0.189   Prob(JB):                        0.142\n",
      "Kurtosis:                       3.622   Cond. No.                         16.1\n",
      "==============================================================================\n",
      "\n",
      "Warnings:\n",
      "[1] Standard Errors assume that the covariance matrix of the errors is correctly specified.\n"
     ]
    }
   ],
   "source": [
    "y = ceosal2.lsalary\n",
    "X = ceosal2.ceoten\n",
    "X = sm.add_constant(X)\n",
    "\n",
    "model = sm.OLS(y, X).fit()\n",
    "model_summary = model.summary()\n",
    "print(model_summary)"
   ]
  },
  {
   "cell_type": "markdown",
   "metadata": {},
   "source": [
    "C2.i The average salary is \\\\$865,864 and teh average tenure is 7.95 years\n",
    "\n",
    "C2.ii Five CEOs are in their first year. The longest tenure is 37 years\n",
    "\n",
    "C2.iii N = 177, Intercept: 6.5055, ceoten = 0.0097, R-Squared 0.013. The approximate percentage increase in salary given one more year of being CEO is about 1%."
   ]
  },
  {
   "cell_type": "code",
   "execution_count": 9,
   "metadata": {},
   "outputs": [
    {
     "name": "stdout",
     "output_type": "stream",
     "text": [
      "                            OLS Regression Results                            \n",
      "==============================================================================\n",
      "Dep. Variable:                  sleep   R-squared:                       0.103\n",
      "Model:                            OLS   Adj. R-squared:                  0.102\n",
      "Method:                 Least Squares   F-statistic:                     81.09\n",
      "Date:                Sun, 24 May 2020   Prob (F-statistic):           1.99e-18\n",
      "Time:                        23:17:53   Log-Likelihood:                -5267.1\n",
      "No. Observations:                 706   AIC:                         1.054e+04\n",
      "Df Residuals:                     704   BIC:                         1.055e+04\n",
      "Df Model:                           1                                         \n",
      "Covariance Type:            nonrobust                                         \n",
      "==============================================================================\n",
      "                 coef    std err          t      P>|t|      [0.025      0.975]\n",
      "------------------------------------------------------------------------------\n",
      "const       3586.3770     38.912     92.165      0.000    3509.979    3662.775\n",
      "totwrk        -0.1507      0.017     -9.005      0.000      -0.184      -0.118\n",
      "==============================================================================\n",
      "Omnibus:                       68.651   Durbin-Watson:                   1.955\n",
      "Prob(Omnibus):                  0.000   Jarque-Bera (JB):              192.044\n",
      "Skew:                          -0.483   Prob(JB):                     1.99e-42\n",
      "Kurtosis:                       5.365   Cond. No.                     5.71e+03\n",
      "==============================================================================\n",
      "\n",
      "Warnings:\n",
      "[1] Standard Errors assume that the covariance matrix of the errors is correctly specified.\n",
      "[2] The condition number is large, 5.71e+03. This might indicate that there are\n",
      "strong multicollinearity or other numerical problems.\n"
     ]
    }
   ],
   "source": [
    "#Exercise C3\n",
    "\n",
    "sleep75 = pd.read_stata(\"stata/SLEEP75.DTA\")\n",
    "\n",
    "y = sleep75.sleep\n",
    "X = sm.add_constant(sleep75.totwrk)\n",
    "\n",
    "model = sm.OLS(y, X).fit()\n",
    "model_summary = model.summary()\n",
    "print(model_summary)"
   ]
  },
  {
   "cell_type": "code",
   "execution_count": 10,
   "metadata": {},
   "outputs": [
    {
     "data": {
      "text/plain": [
       "-18.089498894279217"
      ]
     },
     "execution_count": 10,
     "metadata": {},
     "output_type": "execute_result"
    }
   ],
   "source": [
    "60 * 2 * model.params[1]"
   ]
  },
  {
   "cell_type": "markdown",
   "metadata": {},
   "source": [
    "C3.i n = 706, Intercept: 3586.3770, totwrk: -0.1507, R-squared: 0.103. The intercept means the base amount of sleep, independent of work (people spend 3586.38 minutes a week sleeping if they do not work).\n",
    "\n",
    "C3.ii Increasing work by 2 hours will reduce sleep by 18 minutes. This is not a particularly large effect"
   ]
  },
  {
   "cell_type": "code",
   "execution_count": 11,
   "metadata": {},
   "outputs": [
    {
     "name": "stdout",
     "output_type": "stream",
     "text": [
      "957.9454545454546\n",
      "101.28235294117647\n",
      "15.052636370265098\n"
     ]
    }
   ],
   "source": [
    "#Exercise C4\n",
    "\n",
    "wage2 = pd.read_stata(\"stata/WAGE2.DTA\")\n",
    "\n",
    "print(wage2.wage.mean())\n",
    "print(wage2.IQ.mean())\n",
    "print(wage2.IQ.std())"
   ]
  },
  {
   "cell_type": "code",
   "execution_count": 12,
   "metadata": {},
   "outputs": [
    {
     "name": "stdout",
     "output_type": "stream",
     "text": [
      "                            OLS Regression Results                            \n",
      "==============================================================================\n",
      "Dep. Variable:                   wage   R-squared:                       0.096\n",
      "Model:                            OLS   Adj. R-squared:                  0.095\n",
      "Method:                 Least Squares   F-statistic:                     98.55\n",
      "Date:                Sun, 24 May 2020   Prob (F-statistic):           3.79e-22\n",
      "Time:                        23:17:53   Log-Likelihood:                -6891.4\n",
      "No. Observations:                 935   AIC:                         1.379e+04\n",
      "Df Residuals:                     933   BIC:                         1.380e+04\n",
      "Df Model:                           1                                         \n",
      "Covariance Type:            nonrobust                                         \n",
      "==============================================================================\n",
      "                 coef    std err          t      P>|t|      [0.025      0.975]\n",
      "------------------------------------------------------------------------------\n",
      "const        116.9916     85.642      1.366      0.172     -51.081     285.064\n",
      "IQ             8.3031      0.836      9.927      0.000       6.662       9.944\n",
      "==============================================================================\n",
      "Omnibus:                      208.281   Durbin-Watson:                   1.802\n",
      "Prob(Omnibus):                  0.000   Jarque-Bera (JB):              532.184\n",
      "Skew:                           1.157   Prob(JB):                    2.74e-116\n",
      "Kurtosis:                       5.882   Cond. No.                         697.\n",
      "==============================================================================\n",
      "\n",
      "Warnings:\n",
      "[1] Standard Errors assume that the covariance matrix of the errors is correctly specified.\n"
     ]
    }
   ],
   "source": [
    "y = wage2.wage\n",
    "X = sm.add_constant(wage2.IQ)\n",
    "\n",
    "model = sm.OLS(y, X).fit()\n",
    "model_summary = model.summary()\n",
    "print(model_summary)"
   ]
  },
  {
   "cell_type": "code",
   "execution_count": 13,
   "metadata": {},
   "outputs": [
    {
     "data": {
      "text/plain": [
       "124.5459646235166"
      ]
     },
     "execution_count": 13,
     "metadata": {},
     "output_type": "execute_result"
    }
   ],
   "source": [
    "model.params[1] * 15"
   ]
  },
  {
   "cell_type": "code",
   "execution_count": 14,
   "metadata": {},
   "outputs": [
    {
     "name": "stdout",
     "output_type": "stream",
     "text": [
      "                            OLS Regression Results                            \n",
      "==============================================================================\n",
      "Dep. Variable:                  lwage   R-squared:                       0.099\n",
      "Model:                            OLS   Adj. R-squared:                  0.098\n",
      "Method:                 Least Squares   F-statistic:                     102.6\n",
      "Date:                Sun, 24 May 2020   Prob (F-statistic):           5.93e-23\n",
      "Time:                        23:17:53   Log-Likelihood:                -468.85\n",
      "No. Observations:                 935   AIC:                             941.7\n",
      "Df Residuals:                     933   BIC:                             951.4\n",
      "Df Model:                           1                                         \n",
      "Covariance Type:            nonrobust                                         \n",
      "==============================================================================\n",
      "                 coef    std err          t      P>|t|      [0.025      0.975]\n",
      "------------------------------------------------------------------------------\n",
      "const          5.8870      0.089     66.131      0.000       5.712       6.062\n",
      "IQ             0.0088      0.001     10.130      0.000       0.007       0.011\n",
      "==============================================================================\n",
      "Omnibus:                       32.293   Durbin-Watson:                   1.793\n",
      "Prob(Omnibus):                  0.000   Jarque-Bera (JB):               45.621\n",
      "Skew:                          -0.329   Prob(JB):                     1.24e-10\n",
      "Kurtosis:                       3.859   Cond. No.                         697.\n",
      "==============================================================================\n",
      "\n",
      "Warnings:\n",
      "[1] Standard Errors assume that the covariance matrix of the errors is correctly specified.\n"
     ]
    }
   ],
   "source": [
    "y = wage2.lwage\n",
    "X = sm.add_constant(wage2.IQ)\n",
    "\n",
    "model = sm.OLS(y, X).fit()\n",
    "model_summary = model.summary()\n",
    "print(model_summary)"
   ]
  },
  {
   "cell_type": "code",
   "execution_count": 15,
   "metadata": {},
   "outputs": [
    {
     "data": {
      "text/plain": [
       "0.1321073365345066"
      ]
     },
     "execution_count": 15,
     "metadata": {},
     "output_type": "execute_result"
    }
   ],
   "source": [
    "15 * model.params[1]"
   ]
  },
  {
   "cell_type": "markdown",
   "metadata": {},
   "source": [
    "C4.i Average salary is \\\\$957.54 and average IQ is 101 with a standard deviation of 15\n",
    "\n",
    "C4.ii A single point increase in IQ increases monthly wage by \\\\$8.30. An IQ increase of 15 points translates to an additional \\\\$124.55 a month. IQ explains a little under 10% of the variation in wages.\n",
    "\n",
    "C4.iii A 15 increase in IQ translates to approximately a 13.2% increase in wage"
   ]
  },
  {
   "cell_type": "code",
   "execution_count": 16,
   "metadata": {},
   "outputs": [
    {
     "name": "stdout",
     "output_type": "stream",
     "text": [
      "                            OLS Regression Results                            \n",
      "==============================================================================\n",
      "Dep. Variable:                    lrd   R-squared:                       0.910\n",
      "Model:                            OLS   Adj. R-squared:                  0.907\n",
      "Method:                 Least Squares   F-statistic:                     302.7\n",
      "Date:                Sun, 24 May 2020   Prob (F-statistic):           3.20e-17\n",
      "Time:                        23:17:53   Log-Likelihood:                -24.021\n",
      "No. Observations:                  32   AIC:                             52.04\n",
      "Df Residuals:                      30   BIC:                             54.97\n",
      "Df Model:                           1                                         \n",
      "Covariance Type:            nonrobust                                         \n",
      "==============================================================================\n",
      "                 coef    std err          t      P>|t|      [0.025      0.975]\n",
      "------------------------------------------------------------------------------\n",
      "const         -4.1047      0.453     -9.066      0.000      -5.029      -3.180\n",
      "lsales         1.0757      0.062     17.399      0.000       0.949       1.202\n",
      "==============================================================================\n",
      "Omnibus:                        1.407   Durbin-Watson:                   1.847\n",
      "Prob(Omnibus):                  0.495   Jarque-Bera (JB):                1.025\n",
      "Skew:                           0.139   Prob(JB):                        0.599\n",
      "Kurtosis:                       2.168   Cond. No.                         36.1\n",
      "==============================================================================\n",
      "\n",
      "Warnings:\n",
      "[1] Standard Errors assume that the covariance matrix of the errors is correctly specified.\n"
     ]
    }
   ],
   "source": [
    "#Exercise C5\n",
    "\n",
    "rdchem = pd.read_stata(\"stata/RDCHEM.DTA\")\n",
    "\n",
    "y = rdchem.lrd\n",
    "X = sm.add_constant(rdchem.lsales)\n",
    "\n",
    "model = sm.OLS(y, X).fit()\n",
    "model_summary = model.summary()\n",
    "print(model_summary)"
   ]
  },
  {
   "cell_type": "markdown",
   "metadata": {},
   "source": [
    "C5.i $log(rd) = \\beta_0 + \\beta_1 log(sales) + u$. The elasticity is $\\beta_1$\n",
    "\n",
    "C5.ii A 1% increase in sales produces a 1.08% increase in research and development"
   ]
  },
  {
   "cell_type": "code",
   "execution_count": 17,
   "metadata": {},
   "outputs": [
    {
     "name": "stdout",
     "output_type": "stream",
     "text": [
      "                            OLS Regression Results                            \n",
      "==============================================================================\n",
      "Dep. Variable:                 math10   R-squared:                       0.030\n",
      "Model:                            OLS   Adj. R-squared:                  0.027\n",
      "Method:                 Least Squares   F-statistic:                     12.41\n",
      "Date:                Sun, 24 May 2020   Prob (F-statistic):           0.000475\n",
      "Time:                        23:17:53   Log-Likelihood:                -1531.4\n",
      "No. Observations:                 408   AIC:                             3067.\n",
      "Df Residuals:                     406   BIC:                             3075.\n",
      "Df Model:                           1                                         \n",
      "Covariance Type:            nonrobust                                         \n",
      "==============================================================================\n",
      "                 coef    std err          t      P>|t|      [0.025      0.975]\n",
      "------------------------------------------------------------------------------\n",
      "const        -69.3411     26.530     -2.614      0.009    -121.495     -17.188\n",
      "lexpend       11.1644      3.169      3.523      0.000       4.935      17.394\n",
      "==============================================================================\n",
      "Omnibus:                       28.397   Durbin-Watson:                   1.615\n",
      "Prob(Omnibus):                  0.000   Jarque-Bera (JB):               34.609\n",
      "Skew:                           0.591   Prob(JB):                     3.05e-08\n",
      "Kurtosis:                       3.800   Cond. No.                         440.\n",
      "==============================================================================\n",
      "\n",
      "Warnings:\n",
      "[1] Standard Errors assume that the covariance matrix of the errors is correctly specified.\n"
     ]
    }
   ],
   "source": [
    "#Exercise C6\n",
    "\n",
    "meap93 = pd.read_stata(\"stata/MEAP93.DTA\")\n",
    "\n",
    "y = meap93.math10\n",
    "X = sm.add_constant(meap93.lexpend)\n",
    "\n",
    "model = sm.OLS(y, X).fit()\n",
    "model_summary = model.summary()\n",
    "print(model_summary)"
   ]
  },
  {
   "cell_type": "markdown",
   "metadata": {},
   "source": [
    "C6.i Diminishing effects seem more appropriate. Initial investments in education have intuitive effects (supplies, access to technology), but past a certain point, additional expenditure cannot improve learning outcomes\n",
    "\n",
    "C6.ii Dividing by 100 gives the percent increase, dividing by 10 gives the 10 percentage point increase instead. We're simply choosing a different base.\n",
    "\n",
    "C6.iii N = 408, Intercept = -69.3411, lexpend = 11.1644, R-squared = 0.030\n",
    "\n",
    "C6.iv A 10% increase in spending produces a 1.1% increase in math scores.\n",
    "\n",
    "C6.v Math scores are not particularly high in this data set"
   ]
  },
  {
   "cell_type": "code",
   "execution_count": 18,
   "metadata": {},
   "outputs": [
    {
     "name": "stdout",
     "output_type": "stream",
     "text": [
      "7.444470477975632\n",
      "0.6000468603561387\n"
     ]
    }
   ],
   "source": [
    "#Exercise C7\n",
    "\n",
    "charity = pd.read_stata(\"stata/charity.dta\")\n",
    "print(charity.gift.mean())\n",
    "print(charity[charity.gift == 0].shape[0] / charity.shape[0])"
   ]
  },
  {
   "cell_type": "code",
   "execution_count": 19,
   "metadata": {},
   "outputs": [
    {
     "name": "stdout",
     "output_type": "stream",
     "text": [
      "2.0495548248291016\n",
      "0.25\n",
      "3.5\n"
     ]
    }
   ],
   "source": [
    "print(charity.mailsyear.mean())\n",
    "print(charity.mailsyear.min())\n",
    "print(charity.mailsyear.max())"
   ]
  },
  {
   "cell_type": "code",
   "execution_count": 20,
   "metadata": {},
   "outputs": [
    {
     "name": "stdout",
     "output_type": "stream",
     "text": [
      "                            OLS Regression Results                            \n",
      "==============================================================================\n",
      "Dep. Variable:                   gift   R-squared:                       0.014\n",
      "Model:                            OLS   Adj. R-squared:                  0.014\n",
      "Method:                 Least Squares   F-statistic:                     59.65\n",
      "Date:                Sun, 24 May 2020   Prob (F-statistic):           1.40e-14\n",
      "Time:                        23:17:53   Log-Likelihood:                -17602.\n",
      "No. Observations:                4268   AIC:                         3.521e+04\n",
      "Df Residuals:                    4266   BIC:                         3.522e+04\n",
      "Df Model:                           1                                         \n",
      "Covariance Type:            nonrobust                                         \n",
      "==============================================================================\n",
      "                 coef    std err          t      P>|t|      [0.025      0.975]\n",
      "------------------------------------------------------------------------------\n",
      "const          2.0141      0.739      2.724      0.006       0.564       3.464\n",
      "mailsyear      2.6495      0.343      7.723      0.000       1.977       3.322\n",
      "==============================================================================\n",
      "Omnibus:                     4951.411   Durbin-Watson:                   1.529\n",
      "Prob(Omnibus):                  0.000   Jarque-Bera (JB):           784986.187\n",
      "Skew:                           5.889   Prob(JB):                         0.00\n",
      "Kurtosis:                      68.387   Cond. No.                         8.34\n",
      "==============================================================================\n",
      "\n",
      "Warnings:\n",
      "[1] Standard Errors assume that the covariance matrix of the errors is correctly specified.\n"
     ]
    }
   ],
   "source": [
    "y = charity.gift\n",
    "X = sm.add_constant(charity.mailsyear)\n",
    "\n",
    "model = sm.OLS(y, X).fit()\n",
    "model_summary = model.summary()\n",
    "print(model_summary)"
   ]
  },
  {
   "cell_type": "code",
   "execution_count": 21,
   "metadata": {},
   "outputs": [
    {
     "data": {
      "text/plain": [
       "2.6764663981855916"
      ]
     },
     "execution_count": 21,
     "metadata": {},
     "output_type": "execute_result"
    }
   ],
   "source": [
    "model.predict(X).min()"
   ]
  },
  {
   "cell_type": "markdown",
   "metadata": {},
   "source": [
    "C7.i The average gift is worth 7.44 dutch guilders. 60% of people did not give a gift\n",
    "\n",
    "C7.ii The average number of mailings a year is about 2. The minimum number is 0.25 and the maximum is 3.5\n",
    "\n",
    "C7.iii N = 4268, Intercept = 2.0141, mailsyear = 2.6495, R-squared = 0.014\n",
    "\n",
    "C7.iv The slope is the average gift without any mailings. If the cost per mailing is one guilder then the expectation is to make a net gain, but it does not imply it makes a net gain on every mailing since this refers to the averages.\n",
    "\n",
    "C7.v The smallest predicted contribution is 2.68. The simple analysis cannot produce a zero gift since it is not possible to do negative mailings."
   ]
  },
  {
   "cell_type": "code",
   "execution_count": 22,
   "metadata": {},
   "outputs": [
    {
     "name": "stdout",
     "output_type": "stream",
     "text": [
      "5.1940270232527705\n",
      "2.9336202150995585\n"
     ]
    }
   ],
   "source": [
    "# Exercise C8\n",
    "\n",
    "uni = np.random.uniform(low = 0, high = 10, size = 500)\n",
    "norm = np.random.normal(size = 500) * 6\n",
    "print(uni.mean())\n",
    "print(uni.std())"
   ]
  },
  {
   "cell_type": "code",
   "execution_count": 23,
   "metadata": {},
   "outputs": [
    {
     "name": "stdout",
     "output_type": "stream",
     "text": [
      "-0.34449076108098037\n",
      "5.916322190618815\n"
     ]
    }
   ],
   "source": [
    "print(norm.mean())\n",
    "print(norm.std())"
   ]
  },
  {
   "cell_type": "code",
   "execution_count": 24,
   "metadata": {},
   "outputs": [],
   "source": [
    "y = 1 + 2 * uni + norm"
   ]
  },
  {
   "cell_type": "code",
   "execution_count": 25,
   "metadata": {},
   "outputs": [
    {
     "name": "stdout",
     "output_type": "stream",
     "text": [
      "                            OLS Regression Results                            \n",
      "==============================================================================\n",
      "Dep. Variable:                      y   R-squared:                       0.500\n",
      "Model:                            OLS   Adj. R-squared:                  0.499\n",
      "Method:                 Least Squares   F-statistic:                     498.3\n",
      "Date:                Sun, 24 May 2020   Prob (F-statistic):           5.13e-77\n",
      "Time:                        23:17:53   Log-Likelihood:                -1598.3\n",
      "No. Observations:                 500   AIC:                             3201.\n",
      "Df Residuals:                     498   BIC:                             3209.\n",
      "Df Model:                           1                                         \n",
      "Covariance Type:            nonrobust                                         \n",
      "==============================================================================\n",
      "                 coef    std err          t      P>|t|      [0.025      0.975]\n",
      "------------------------------------------------------------------------------\n",
      "const          0.5655      0.539      1.049      0.295      -0.494       1.625\n",
      "x1             2.0173      0.090     22.323      0.000       1.840       2.195\n",
      "==============================================================================\n",
      "Omnibus:                        0.875   Durbin-Watson:                   1.924\n",
      "Prob(Omnibus):                  0.646   Jarque-Bera (JB):                0.679\n",
      "Skew:                          -0.042   Prob(JB):                        0.712\n",
      "Kurtosis:                       3.160   Cond. No.                         12.4\n",
      "==============================================================================\n",
      "\n",
      "Warnings:\n",
      "[1] Standard Errors assume that the covariance matrix of the errors is correctly specified.\n"
     ]
    }
   ],
   "source": [
    "X = sm.add_constant(uni)\n",
    "\n",
    "model = sm.OLS(y, X).fit()\n",
    "model_summary = model.summary()\n",
    "print(model_summary)"
   ]
  },
  {
   "cell_type": "code",
   "execution_count": 26,
   "metadata": {},
   "outputs": [
    {
     "name": "stdout",
     "output_type": "stream",
     "text": [
      "-1.6200374375330284e-12\n",
      "-6.0822458181064576e-12\n"
     ]
    }
   ],
   "source": [
    "print(model.resid.sum())\n",
    "print((model.resid * uni).sum())"
   ]
  },
  {
   "cell_type": "code",
   "execution_count": 27,
   "metadata": {},
   "outputs": [
    {
     "name": "stdout",
     "output_type": "stream",
     "text": [
      "-172.24538054049017\n",
      "-820.0611120576277\n"
     ]
    }
   ],
   "source": [
    "print(norm.sum())\n",
    "print((norm * uni).sum())"
   ]
  },
  {
   "cell_type": "markdown",
   "metadata": {},
   "source": [
    "C8.i The mean of x is 5.09 and the standard deviation is 2.81\n",
    "\n",
    "C8.ii The average of u is not exactly zero since we are dealing with a sample (and a sample of 500 no less). It would be extraordinary if it produced 0. Sample standard deviation is 6.31\n",
    "\n",
    "C8.iii The estimates are close and both fall within the confidence interval. They are not exact however (again, since they are a sample).\n",
    "\n",
    "C8.iv Both equations hold to all but the highest precision\n",
    "\n",
    "C8.v The equations do not hold, but these calculations do not mean anything since 2.60 is defined on the residuals\n",
    "\n",
    "C8.vi There will be slight changes with each reproduction (if the notebook is rerun the values in the answers above will likely be different from what is reported)"
   ]
  }
 ],
 "metadata": {
  "kernelspec": {
   "display_name": "Python 3",
   "language": "python",
   "name": "python3"
  },
  "language_info": {
   "codemirror_mode": {
    "name": "ipython",
    "version": 3
   },
   "file_extension": ".py",
   "mimetype": "text/x-python",
   "name": "python",
   "nbconvert_exporter": "python",
   "pygments_lexer": "ipython3",
   "version": "3.7.6"
  }
 },
 "nbformat": 4,
 "nbformat_minor": 4
}
