{
 "cells": [
  {
   "cell_type": "markdown",
   "id": "bf55d7c8-3fe7-4c23-b0d8-0b48928ddc09",
   "metadata": {},
   "source": [
    "# Chapter 18"
   ]
  },
  {
   "cell_type": "code",
   "execution_count": 1,
   "id": "3068768f-0e4e-46f8-bf45-1281cd3a3d65",
   "metadata": {},
   "outputs": [],
   "source": [
    "import pandas as pd\n",
    "import numpy as np\n",
    "import statsmodels.api as sm\n",
    "import statsmodels.tsa.api as tsa"
   ]
  },
  {
   "cell_type": "code",
   "execution_count": 2,
   "id": "1b43b8ff-9ac6-488f-80ad-292182158938",
   "metadata": {},
   "outputs": [
    {
     "data": {
      "text/html": [
       "<table class=\"simpletable\">\n",
       "<caption>OLS Regression Results</caption>\n",
       "<tr>\n",
       "  <th>Dep. Variable:</th>         <td>gprice</td>      <th>  R-squared:         </th> <td>   0.454</td>\n",
       "</tr>\n",
       "<tr>\n",
       "  <th>Model:</th>                   <td>OLS</td>       <th>  Adj. R-squared:    </th> <td>   0.450</td>\n",
       "</tr>\n",
       "<tr>\n",
       "  <th>Method:</th>             <td>Least Squares</td>  <th>  F-statistic:       </th> <td>   116.8</td>\n",
       "</tr>\n",
       "<tr>\n",
       "  <th>Date:</th>             <td>Mon, 28 Nov 2022</td> <th>  Prob (F-statistic):</th> <td>1.21e-37</td>\n",
       "</tr>\n",
       "<tr>\n",
       "  <th>Time:</th>                 <td>12:00:56</td>     <th>  Log-Likelihood:    </th> <td>  1298.5</td>\n",
       "</tr>\n",
       "<tr>\n",
       "  <th>No. Observations:</th>      <td>   284</td>      <th>  AIC:               </th> <td>  -2591.</td>\n",
       "</tr>\n",
       "<tr>\n",
       "  <th>Df Residuals:</th>          <td>   281</td>      <th>  BIC:               </th> <td>  -2580.</td>\n",
       "</tr>\n",
       "<tr>\n",
       "  <th>Df Model:</th>              <td>     2</td>      <th>                     </th>     <td> </td>   \n",
       "</tr>\n",
       "<tr>\n",
       "  <th>Covariance Type:</th>      <td>nonrobust</td>    <th>                     </th>     <td> </td>   \n",
       "</tr>\n",
       "</table>\n",
       "<table class=\"simpletable\">\n",
       "<tr>\n",
       "      <td></td>        <th>coef</th>     <th>std err</th>      <th>t</th>      <th>P>|t|</th>  <th>[0.025</th>    <th>0.975]</th>  \n",
       "</tr>\n",
       "<tr>\n",
       "  <th>const</th>    <td>    0.0013</td> <td>    0.000</td> <td>    4.675</td> <td> 0.000</td> <td>    0.001</td> <td>    0.002</td>\n",
       "</tr>\n",
       "<tr>\n",
       "  <th>gwage</th>    <td>    0.0814</td> <td>    0.031</td> <td>    2.620</td> <td> 0.009</td> <td>    0.020</td> <td>    0.143</td>\n",
       "</tr>\n",
       "<tr>\n",
       "  <th>gprice_1</th> <td>    0.6396</td> <td>    0.045</td> <td>   14.331</td> <td> 0.000</td> <td>    0.552</td> <td>    0.727</td>\n",
       "</tr>\n",
       "</table>\n",
       "<table class=\"simpletable\">\n",
       "<tr>\n",
       "  <th>Omnibus:</th>       <td>51.043</td> <th>  Durbin-Watson:     </th> <td>   2.363</td>\n",
       "</tr>\n",
       "<tr>\n",
       "  <th>Prob(Omnibus):</th> <td> 0.000</td> <th>  Jarque-Bera (JB):  </th> <td> 378.052</td>\n",
       "</tr>\n",
       "<tr>\n",
       "  <th>Skew:</th>          <td> 0.433</td> <th>  Prob(JB):          </th> <td>8.07e-83</td>\n",
       "</tr>\n",
       "<tr>\n",
       "  <th>Kurtosis:</th>      <td> 8.586</td> <th>  Cond. No.          </th> <td>    304.</td>\n",
       "</tr>\n",
       "</table><br/><br/>Notes:<br/>[1] Standard Errors assume that the covariance matrix of the errors is correctly specified."
      ],
      "text/plain": [
       "<class 'statsmodels.iolib.summary.Summary'>\n",
       "\"\"\"\n",
       "                            OLS Regression Results                            \n",
       "==============================================================================\n",
       "Dep. Variable:                 gprice   R-squared:                       0.454\n",
       "Model:                            OLS   Adj. R-squared:                  0.450\n",
       "Method:                 Least Squares   F-statistic:                     116.8\n",
       "Date:                Mon, 28 Nov 2022   Prob (F-statistic):           1.21e-37\n",
       "Time:                        12:00:56   Log-Likelihood:                 1298.5\n",
       "No. Observations:                 284   AIC:                            -2591.\n",
       "Df Residuals:                     281   BIC:                            -2580.\n",
       "Df Model:                           2                                         \n",
       "Covariance Type:            nonrobust                                         \n",
       "==============================================================================\n",
       "                 coef    std err          t      P>|t|      [0.025      0.975]\n",
       "------------------------------------------------------------------------------\n",
       "const          0.0013      0.000      4.675      0.000       0.001       0.002\n",
       "gwage          0.0814      0.031      2.620      0.009       0.020       0.143\n",
       "gprice_1       0.6396      0.045     14.331      0.000       0.552       0.727\n",
       "==============================================================================\n",
       "Omnibus:                       51.043   Durbin-Watson:                   2.363\n",
       "Prob(Omnibus):                  0.000   Jarque-Bera (JB):              378.052\n",
       "Skew:                           0.433   Prob(JB):                     8.07e-83\n",
       "Kurtosis:                       8.586   Cond. No.                         304.\n",
       "==============================================================================\n",
       "\n",
       "Notes:\n",
       "[1] Standard Errors assume that the covariance matrix of the errors is correctly specified.\n",
       "\"\"\""
      ]
     },
     "execution_count": 2,
     "metadata": {},
     "output_type": "execute_result"
    }
   ],
   "source": [
    "# Exercise 1\n",
    "wageprc = pd.read_stata(\"./stata/WAGEPRC.DTA\")\n",
    "X = sm.add_constant(wageprc[[\"gwage\", \"gprice_1\"]])\n",
    "model = sm.OLS(wageprc.gprice, X, missing=\"drop\").fit()\n",
    "model.summary()"
   ]
  },
  {
   "cell_type": "code",
   "execution_count": 3,
   "id": "a502c8ad-05a4-4778-92df-1424c3aeb812",
   "metadata": {},
   "outputs": [
    {
     "data": {
      "text/plain": [
       "0.22597844766905975"
      ]
     },
     "execution_count": 3,
     "metadata": {},
     "output_type": "execute_result"
    }
   ],
   "source": [
    "model.params[1] / (1 - model.params[2])"
   ]
  },
  {
   "cell_type": "code",
   "execution_count": 4,
   "id": "b233a7d2-32fc-4498-b632-1314efae1236",
   "metadata": {},
   "outputs": [
    {
     "data": {
      "text/html": [
       "<table class=\"simpletable\">\n",
       "<caption>OLS Regression Results</caption>\n",
       "<tr>\n",
       "  <th>Dep. Variable:</th>         <td>gprice</td>      <th>  R-squared:         </th> <td>   0.460</td>\n",
       "</tr>\n",
       "<tr>\n",
       "  <th>Model:</th>                   <td>OLS</td>       <th>  Adj. R-squared:    </th> <td>   0.454</td>\n",
       "</tr>\n",
       "<tr>\n",
       "  <th>Method:</th>             <td>Least Squares</td>  <th>  F-statistic:       </th> <td>   79.44</td>\n",
       "</tr>\n",
       "<tr>\n",
       "  <th>Date:</th>             <td>Mon, 28 Nov 2022</td> <th>  Prob (F-statistic):</th> <td>3.30e-37</td>\n",
       "</tr>\n",
       "<tr>\n",
       "  <th>Time:</th>                 <td>12:00:56</td>     <th>  Log-Likelihood:    </th> <td>  1300.1</td>\n",
       "</tr>\n",
       "<tr>\n",
       "  <th>No. Observations:</th>      <td>   284</td>      <th>  AIC:               </th> <td>  -2592.</td>\n",
       "</tr>\n",
       "<tr>\n",
       "  <th>Df Residuals:</th>          <td>   280</td>      <th>  BIC:               </th> <td>  -2578.</td>\n",
       "</tr>\n",
       "<tr>\n",
       "  <th>Df Model:</th>              <td>     3</td>      <th>                     </th>     <td> </td>   \n",
       "</tr>\n",
       "<tr>\n",
       "  <th>Covariance Type:</th>      <td>nonrobust</td>    <th>                     </th>     <td> </td>   \n",
       "</tr>\n",
       "</table>\n",
       "<table class=\"simpletable\">\n",
       "<tr>\n",
       "      <td></td>        <th>coef</th>     <th>std err</th>      <th>t</th>      <th>P>|t|</th>  <th>[0.025</th>    <th>0.975]</th>  \n",
       "</tr>\n",
       "<tr>\n",
       "  <th>const</th>    <td>    0.0011</td> <td>    0.000</td> <td>    3.613</td> <td> 0.000</td> <td>    0.000</td> <td>    0.002</td>\n",
       "</tr>\n",
       "<tr>\n",
       "  <th>gwage</th>    <td>    0.0898</td> <td>    0.031</td> <td>    2.866</td> <td> 0.004</td> <td>    0.028</td> <td>    0.151</td>\n",
       "</tr>\n",
       "<tr>\n",
       "  <th>gprice_1</th> <td>    0.6186</td> <td>    0.046</td> <td>   13.422</td> <td> 0.000</td> <td>    0.528</td> <td>    0.709</td>\n",
       "</tr>\n",
       "<tr>\n",
       "  <th>gwage_1</th>  <td>    0.0551</td> <td>    0.032</td> <td>    1.740</td> <td> 0.083</td> <td>   -0.007</td> <td>    0.117</td>\n",
       "</tr>\n",
       "</table>\n",
       "<table class=\"simpletable\">\n",
       "<tr>\n",
       "  <th>Omnibus:</th>       <td>50.774</td> <th>  Durbin-Watson:     </th> <td>   2.316</td>\n",
       "</tr>\n",
       "<tr>\n",
       "  <th>Prob(Omnibus):</th> <td> 0.000</td> <th>  Jarque-Bera (JB):  </th> <td> 347.067</td>\n",
       "</tr>\n",
       "<tr>\n",
       "  <th>Skew:</th>          <td> 0.463</td> <th>  Prob(JB):          </th> <td>4.32e-76</td>\n",
       "</tr>\n",
       "<tr>\n",
       "  <th>Kurtosis:</th>      <td> 8.336</td> <th>  Cond. No.          </th> <td>    325.</td>\n",
       "</tr>\n",
       "</table><br/><br/>Notes:<br/>[1] Standard Errors assume that the covariance matrix of the errors is correctly specified."
      ],
      "text/plain": [
       "<class 'statsmodels.iolib.summary.Summary'>\n",
       "\"\"\"\n",
       "                            OLS Regression Results                            \n",
       "==============================================================================\n",
       "Dep. Variable:                 gprice   R-squared:                       0.460\n",
       "Model:                            OLS   Adj. R-squared:                  0.454\n",
       "Method:                 Least Squares   F-statistic:                     79.44\n",
       "Date:                Mon, 28 Nov 2022   Prob (F-statistic):           3.30e-37\n",
       "Time:                        12:00:56   Log-Likelihood:                 1300.1\n",
       "No. Observations:                 284   AIC:                            -2592.\n",
       "Df Residuals:                     280   BIC:                            -2578.\n",
       "Df Model:                           3                                         \n",
       "Covariance Type:            nonrobust                                         \n",
       "==============================================================================\n",
       "                 coef    std err          t      P>|t|      [0.025      0.975]\n",
       "------------------------------------------------------------------------------\n",
       "const          0.0011      0.000      3.613      0.000       0.000       0.002\n",
       "gwage          0.0898      0.031      2.866      0.004       0.028       0.151\n",
       "gprice_1       0.6186      0.046     13.422      0.000       0.528       0.709\n",
       "gwage_1        0.0551      0.032      1.740      0.083      -0.007       0.117\n",
       "==============================================================================\n",
       "Omnibus:                       50.774   Durbin-Watson:                   2.316\n",
       "Prob(Omnibus):                  0.000   Jarque-Bera (JB):              347.067\n",
       "Skew:                           0.463   Prob(JB):                     4.32e-76\n",
       "Kurtosis:                       8.336   Cond. No.                         325.\n",
       "==============================================================================\n",
       "\n",
       "Notes:\n",
       "[1] Standard Errors assume that the covariance matrix of the errors is correctly specified.\n",
       "\"\"\""
      ]
     },
     "execution_count": 4,
     "metadata": {},
     "output_type": "execute_result"
    }
   ],
   "source": [
    "X = sm.add_constant(wageprc[[\"gwage\", \"gprice_1\", \"gwage_1\"]])\n",
    "model = sm.OLS(wageprc.gprice, X, missing=\"drop\").fit()\n",
    "model.summary()"
   ]
  },
  {
   "cell_type": "code",
   "execution_count": 5,
   "id": "414111ba-c8ec-40d0-bbf2-cce06bfb3822",
   "metadata": {},
   "outputs": [
    {
     "data": {
      "text/plain": [
       "0.3799599608144582"
      ]
     },
     "execution_count": 5,
     "metadata": {},
     "output_type": "execute_result"
    }
   ],
   "source": [
    "(model.params[1] + model.params[3]) / (1 - model.params[2])"
   ]
  },
  {
   "cell_type": "markdown",
   "id": "a7786db4-1d6f-47b2-bb4f-882d63206642",
   "metadata": {},
   "source": [
    "C1.i Estimated IP is 0.081 and estimated LRP is 0.226.\n",
    "\n",
    "C1.ii The IP in the previous problem is 0.119 and the LRP is 1.172. Both are much higher than the geometric distributed lag.\n",
    "\n",
    "C1.iii The estimated IP is 0.09 and the LRP is 0.380. These are closer to (but higher than) (i) and still well below the results from 5.11 (previous problem)."
   ]
  },
  {
   "cell_type": "code",
   "execution_count": 6,
   "id": "616431cb-43be-42d7-9d9c-0aa392b4bf5b",
   "metadata": {},
   "outputs": [
    {
     "data": {
      "text/html": [
       "<table class=\"simpletable\">\n",
       "<caption>OLS Regression Results</caption>\n",
       "<tr>\n",
       "  <th>Dep. Variable:</th>         <td>ginvpc</td>      <th>  R-squared:         </th> <td>   0.437</td>\n",
       "</tr>\n",
       "<tr>\n",
       "  <th>Model:</th>                   <td>OLS</td>       <th>  Adj. R-squared:    </th> <td>   0.371</td>\n",
       "</tr>\n",
       "<tr>\n",
       "  <th>Method:</th>             <td>Least Squares</td>  <th>  F-statistic:       </th> <td>   6.592</td>\n",
       "</tr>\n",
       "<tr>\n",
       "  <th>Date:</th>             <td>Mon, 28 Nov 2022</td> <th>  Prob (F-statistic):</th> <td>0.000486</td>\n",
       "</tr>\n",
       "<tr>\n",
       "  <th>Time:</th>                 <td>12:00:57</td>     <th>  Log-Likelihood:    </th> <td>  31.647</td>\n",
       "</tr>\n",
       "<tr>\n",
       "  <th>No. Observations:</th>      <td>    39</td>      <th>  AIC:               </th> <td>  -53.29</td>\n",
       "</tr>\n",
       "<tr>\n",
       "  <th>Df Residuals:</th>          <td>    34</td>      <th>  BIC:               </th> <td>  -44.98</td>\n",
       "</tr>\n",
       "<tr>\n",
       "  <th>Df Model:</th>              <td>     4</td>      <th>                     </th>     <td> </td>   \n",
       "</tr>\n",
       "<tr>\n",
       "  <th>Covariance Type:</th>      <td>nonrobust</td>    <th>                     </th>     <td> </td>   \n",
       "</tr>\n",
       "</table>\n",
       "<table class=\"simpletable\">\n",
       "<tr>\n",
       "      <td></td>        <th>coef</th>     <th>std err</th>      <th>t</th>      <th>P>|t|</th>  <th>[0.025</th>    <th>0.975]</th>  \n",
       "</tr>\n",
       "<tr>\n",
       "  <th>const</th>    <td>   -0.7864</td> <td>    0.170</td> <td>   -4.626</td> <td> 0.000</td> <td>   -1.132</td> <td>   -0.441</td>\n",
       "</tr>\n",
       "<tr>\n",
       "  <th>linvpc_1</th> <td>   -0.9558</td> <td>    0.198</td> <td>   -4.833</td> <td> 0.000</td> <td>   -1.358</td> <td>   -0.554</td>\n",
       "</tr>\n",
       "<tr>\n",
       "  <th>ginvpc_1</th> <td>    0.5317</td> <td>    0.162</td> <td>    3.291</td> <td> 0.002</td> <td>    0.203</td> <td>    0.860</td>\n",
       "</tr>\n",
       "<tr>\n",
       "  <th>ginvpc_2</th> <td>    0.2900</td> <td>    0.165</td> <td>    1.761</td> <td> 0.087</td> <td>   -0.045</td> <td>    0.625</td>\n",
       "</tr>\n",
       "<tr>\n",
       "  <th>t</th>        <td>    0.0068</td> <td>    0.002</td> <td>    3.177</td> <td> 0.003</td> <td>    0.002</td> <td>    0.011</td>\n",
       "</tr>\n",
       "</table>\n",
       "<table class=\"simpletable\">\n",
       "<tr>\n",
       "  <th>Omnibus:</th>       <td> 0.717</td> <th>  Durbin-Watson:     </th> <td>   1.771</td>\n",
       "</tr>\n",
       "<tr>\n",
       "  <th>Prob(Omnibus):</th> <td> 0.699</td> <th>  Jarque-Bera (JB):  </th> <td>   0.330</td>\n",
       "</tr>\n",
       "<tr>\n",
       "  <th>Skew:</th>          <td>-0.223</td> <th>  Prob(JB):          </th> <td>   0.848</td>\n",
       "</tr>\n",
       "<tr>\n",
       "  <th>Kurtosis:</th>      <td> 3.058</td> <th>  Cond. No.          </th> <td>    421.</td>\n",
       "</tr>\n",
       "</table><br/><br/>Notes:<br/>[1] Standard Errors assume that the covariance matrix of the errors is correctly specified."
      ],
      "text/plain": [
       "<class 'statsmodels.iolib.summary.Summary'>\n",
       "\"\"\"\n",
       "                            OLS Regression Results                            \n",
       "==============================================================================\n",
       "Dep. Variable:                 ginvpc   R-squared:                       0.437\n",
       "Model:                            OLS   Adj. R-squared:                  0.371\n",
       "Method:                 Least Squares   F-statistic:                     6.592\n",
       "Date:                Mon, 28 Nov 2022   Prob (F-statistic):           0.000486\n",
       "Time:                        12:00:57   Log-Likelihood:                 31.647\n",
       "No. Observations:                  39   AIC:                            -53.29\n",
       "Df Residuals:                      34   BIC:                            -44.98\n",
       "Df Model:                           4                                         \n",
       "Covariance Type:            nonrobust                                         \n",
       "==============================================================================\n",
       "                 coef    std err          t      P>|t|      [0.025      0.975]\n",
       "------------------------------------------------------------------------------\n",
       "const         -0.7864      0.170     -4.626      0.000      -1.132      -0.441\n",
       "linvpc_1      -0.9558      0.198     -4.833      0.000      -1.358      -0.554\n",
       "ginvpc_1       0.5317      0.162      3.291      0.002       0.203       0.860\n",
       "ginvpc_2       0.2900      0.165      1.761      0.087      -0.045       0.625\n",
       "t              0.0068      0.002      3.177      0.003       0.002       0.011\n",
       "==============================================================================\n",
       "Omnibus:                        0.717   Durbin-Watson:                   1.771\n",
       "Prob(Omnibus):                  0.699   Jarque-Bera (JB):                0.330\n",
       "Skew:                          -0.223   Prob(JB):                        0.848\n",
       "Kurtosis:                       3.058   Cond. No.                         421.\n",
       "==============================================================================\n",
       "\n",
       "Notes:\n",
       "[1] Standard Errors assume that the covariance matrix of the errors is correctly specified.\n",
       "\"\"\""
      ]
     },
     "execution_count": 6,
     "metadata": {},
     "output_type": "execute_result"
    }
   ],
   "source": [
    "# Exercise 2\n",
    "hseinv = pd.read_stata(\"./stata/HSEINV.DTA\")\n",
    "hseinv[\"ginvpc_1\"] = hseinv[\"ginvpc\"].shift(1)\n",
    "hseinv[\"ginvpc_2\"] = hseinv[\"ginvpc\"].shift(2)\n",
    "X = sm.add_constant(hseinv[[\"linvpc_1\", \"ginvpc_1\", \"ginvpc_2\", \"t\"]])\n",
    "model = sm.OLS(hseinv.ginvpc, X, missing=\"drop\").fit()\n",
    "model.summary()"
   ]
  },
  {
   "cell_type": "code",
   "execution_count": 7,
   "id": "3592fe24-910d-4e94-9857-f250f76a4e2a",
   "metadata": {},
   "outputs": [
    {
     "data": {
      "text/html": [
       "<table class=\"simpletable\">\n",
       "<caption>OLS Regression Results</caption>\n",
       "<tr>\n",
       "  <th>Dep. Variable:</th>         <td>gprice</td>      <th>  R-squared:         </th> <td>   0.200</td>\n",
       "</tr>\n",
       "<tr>\n",
       "  <th>Model:</th>                   <td>OLS</td>       <th>  Adj. R-squared:    </th> <td>   0.106</td>\n",
       "</tr>\n",
       "<tr>\n",
       "  <th>Method:</th>             <td>Least Squares</td>  <th>  F-statistic:       </th> <td>   2.131</td>\n",
       "</tr>\n",
       "<tr>\n",
       "  <th>Date:</th>             <td>Mon, 28 Nov 2022</td> <th>  Prob (F-statistic):</th>  <td>0.0983</td> \n",
       "</tr>\n",
       "<tr>\n",
       "  <th>Time:</th>                 <td>12:00:57</td>     <th>  Log-Likelihood:    </th> <td>  105.65</td>\n",
       "</tr>\n",
       "<tr>\n",
       "  <th>No. Observations:</th>      <td>    39</td>      <th>  AIC:               </th> <td>  -201.3</td>\n",
       "</tr>\n",
       "<tr>\n",
       "  <th>Df Residuals:</th>          <td>    34</td>      <th>  BIC:               </th> <td>  -193.0</td>\n",
       "</tr>\n",
       "<tr>\n",
       "  <th>Df Model:</th>              <td>     4</td>      <th>                     </th>     <td> </td>   \n",
       "</tr>\n",
       "<tr>\n",
       "  <th>Covariance Type:</th>      <td>nonrobust</td>    <th>                     </th>     <td> </td>   \n",
       "</tr>\n",
       "</table>\n",
       "<table class=\"simpletable\">\n",
       "<tr>\n",
       "      <td></td>        <th>coef</th>     <th>std err</th>      <th>t</th>      <th>P>|t|</th>  <th>[0.025</th>    <th>0.975]</th>  \n",
       "</tr>\n",
       "<tr>\n",
       "  <th>const</th>    <td>   -0.0404</td> <td>    0.019</td> <td>   -2.071</td> <td> 0.046</td> <td>   -0.080</td> <td>   -0.001</td>\n",
       "</tr>\n",
       "<tr>\n",
       "  <th>lprice_1</th> <td>   -0.2216</td> <td>    0.092</td> <td>   -2.409</td> <td> 0.022</td> <td>   -0.409</td> <td>   -0.035</td>\n",
       "</tr>\n",
       "<tr>\n",
       "  <th>gprice_1</th> <td>    0.3276</td> <td>    0.155</td> <td>    2.111</td> <td> 0.042</td> <td>    0.012</td> <td>    0.643</td>\n",
       "</tr>\n",
       "<tr>\n",
       "  <th>gprice_2</th> <td>    0.1301</td> <td>    0.149</td> <td>    0.872</td> <td> 0.389</td> <td>   -0.173</td> <td>    0.433</td>\n",
       "</tr>\n",
       "<tr>\n",
       "  <th>t</th>        <td>    0.0010</td> <td>    0.000</td> <td>    1.995</td> <td> 0.054</td> <td>-1.82e-05</td> <td>    0.002</td>\n",
       "</tr>\n",
       "</table>\n",
       "<table class=\"simpletable\">\n",
       "<tr>\n",
       "  <th>Omnibus:</th>       <td> 1.867</td> <th>  Durbin-Watson:     </th> <td>   1.627</td>\n",
       "</tr>\n",
       "<tr>\n",
       "  <th>Prob(Omnibus):</th> <td> 0.393</td> <th>  Jarque-Bera (JB):  </th> <td>   0.914</td>\n",
       "</tr>\n",
       "<tr>\n",
       "  <th>Skew:</th>          <td>-0.064</td> <th>  Prob(JB):          </th> <td>   0.633</td>\n",
       "</tr>\n",
       "<tr>\n",
       "  <th>Kurtosis:</th>      <td> 3.739</td> <th>  Cond. No.          </th> <td>1.46e+03</td>\n",
       "</tr>\n",
       "</table><br/><br/>Notes:<br/>[1] Standard Errors assume that the covariance matrix of the errors is correctly specified.<br/>[2] The condition number is large, 1.46e+03. This might indicate that there are<br/>strong multicollinearity or other numerical problems."
      ],
      "text/plain": [
       "<class 'statsmodels.iolib.summary.Summary'>\n",
       "\"\"\"\n",
       "                            OLS Regression Results                            \n",
       "==============================================================================\n",
       "Dep. Variable:                 gprice   R-squared:                       0.200\n",
       "Model:                            OLS   Adj. R-squared:                  0.106\n",
       "Method:                 Least Squares   F-statistic:                     2.131\n",
       "Date:                Mon, 28 Nov 2022   Prob (F-statistic):             0.0983\n",
       "Time:                        12:00:57   Log-Likelihood:                 105.65\n",
       "No. Observations:                  39   AIC:                            -201.3\n",
       "Df Residuals:                      34   BIC:                            -193.0\n",
       "Df Model:                           4                                         \n",
       "Covariance Type:            nonrobust                                         \n",
       "==============================================================================\n",
       "                 coef    std err          t      P>|t|      [0.025      0.975]\n",
       "------------------------------------------------------------------------------\n",
       "const         -0.0404      0.019     -2.071      0.046      -0.080      -0.001\n",
       "lprice_1      -0.2216      0.092     -2.409      0.022      -0.409      -0.035\n",
       "gprice_1       0.3276      0.155      2.111      0.042       0.012       0.643\n",
       "gprice_2       0.1301      0.149      0.872      0.389      -0.173       0.433\n",
       "t              0.0010      0.000      1.995      0.054   -1.82e-05       0.002\n",
       "==============================================================================\n",
       "Omnibus:                        1.867   Durbin-Watson:                   1.627\n",
       "Prob(Omnibus):                  0.393   Jarque-Bera (JB):                0.914\n",
       "Skew:                          -0.064   Prob(JB):                        0.633\n",
       "Kurtosis:                       3.739   Cond. No.                     1.46e+03\n",
       "==============================================================================\n",
       "\n",
       "Notes:\n",
       "[1] Standard Errors assume that the covariance matrix of the errors is correctly specified.\n",
       "[2] The condition number is large, 1.46e+03. This might indicate that there are\n",
       "strong multicollinearity or other numerical problems.\n",
       "\"\"\""
      ]
     },
     "execution_count": 7,
     "metadata": {},
     "output_type": "execute_result"
    }
   ],
   "source": [
    "hseinv[\"gprice_1\"] = hseinv[\"gprice\"].shift(1)\n",
    "hseinv[\"gprice_2\"] = hseinv[\"gprice\"].shift(2)\n",
    "X = sm.add_constant(hseinv[[\"lprice_1\", \"gprice_1\", \"gprice_2\", \"t\"]])\n",
    "model = sm.OLS(hseinv.gprice, X, missing=\"drop\").fit()\n",
    "model.summary()"
   ]
  },
  {
   "cell_type": "markdown",
   "id": "ed5453aa-2c38-4a19-a448-c4fa6377d079",
   "metadata": {},
   "source": [
    "C2.i The t-statistic on linvpc_1 is -4.833 which is larger (in absolute value) than -3.41 from Table 18.3 and, in fact, the 1% critical value of -3.96. We can reject the null hypothesis that there is a unit root.\n",
    "\n",
    "C2.ii Using the same approach the t-statistic is -2.409 which is less (in absolute value) than any critical value we would want to use. We do not have evidence to reject the null hypothesis that there is a unit root for price.\n",
    "\n",
    "C2.iii The first test gives evidence that there is not a unit root, while the possibility is still open for log(price). It would not make sense to test for cointegration in this case."
   ]
  },
  {
   "cell_type": "code",
   "execution_count": 8,
   "id": "c38a409d-b2d0-41d2-a0da-d7b172d815d7",
   "metadata": {},
   "outputs": [
    {
     "data": {
      "text/html": [
       "<table class=\"simpletable\">\n",
       "<caption>OLS Regression Results</caption>\n",
       "<tr>\n",
       "  <th>Dep. Variable:</th>          <td>pcip</td>       <th>  R-squared:         </th> <td>   0.166</td>\n",
       "</tr>\n",
       "<tr>\n",
       "  <th>Model:</th>                   <td>OLS</td>       <th>  Adj. R-squared:    </th> <td>   0.161</td>\n",
       "</tr>\n",
       "<tr>\n",
       "  <th>Method:</th>             <td>Least Squares</td>  <th>  F-statistic:       </th> <td>   36.40</td>\n",
       "</tr>\n",
       "<tr>\n",
       "  <th>Date:</th>             <td>Mon, 28 Nov 2022</td> <th>  Prob (F-statistic):</th> <td>1.81e-21</td>\n",
       "</tr>\n",
       "<tr>\n",
       "  <th>Time:</th>                 <td>12:00:57</td>     <th>  Log-Likelihood:    </th> <td> -2167.7</td>\n",
       "</tr>\n",
       "<tr>\n",
       "  <th>No. Observations:</th>      <td>   554</td>      <th>  AIC:               </th> <td>   4343.</td>\n",
       "</tr>\n",
       "<tr>\n",
       "  <th>Df Residuals:</th>          <td>   550</td>      <th>  BIC:               </th> <td>   4361.</td>\n",
       "</tr>\n",
       "<tr>\n",
       "  <th>Df Model:</th>              <td>     3</td>      <th>                     </th>     <td> </td>   \n",
       "</tr>\n",
       "<tr>\n",
       "  <th>Covariance Type:</th>      <td>nonrobust</td>    <th>                     </th>     <td> </td>   \n",
       "</tr>\n",
       "</table>\n",
       "<table class=\"simpletable\">\n",
       "<tr>\n",
       "     <td></td>       <th>coef</th>     <th>std err</th>      <th>t</th>      <th>P>|t|</th>  <th>[0.025</th>    <th>0.975]</th>  \n",
       "</tr>\n",
       "<tr>\n",
       "  <th>const</th>  <td>    1.8042</td> <td>    0.548</td> <td>    3.292</td> <td> 0.001</td> <td>    0.728</td> <td>    2.881</td>\n",
       "</tr>\n",
       "<tr>\n",
       "  <th>pcip_1</th> <td>    0.3491</td> <td>    0.043</td> <td>    8.210</td> <td> 0.000</td> <td>    0.266</td> <td>    0.433</td>\n",
       "</tr>\n",
       "<tr>\n",
       "  <th>pcip_2</th> <td>    0.0708</td> <td>    0.045</td> <td>    1.575</td> <td> 0.116</td> <td>   -0.017</td> <td>    0.159</td>\n",
       "</tr>\n",
       "<tr>\n",
       "  <th>pcip_3</th> <td>    0.0674</td> <td>    0.043</td> <td>    1.584</td> <td> 0.114</td> <td>   -0.016</td> <td>    0.151</td>\n",
       "</tr>\n",
       "</table>\n",
       "<table class=\"simpletable\">\n",
       "<tr>\n",
       "  <th>Omnibus:</th>       <td>184.426</td> <th>  Durbin-Watson:     </th> <td>   1.999</td>\n",
       "</tr>\n",
       "<tr>\n",
       "  <th>Prob(Omnibus):</th> <td> 0.000</td>  <th>  Jarque-Bera (JB):  </th> <td>1740.263</td>\n",
       "</tr>\n",
       "<tr>\n",
       "  <th>Skew:</th>          <td> 1.179</td>  <th>  Prob(JB):          </th> <td>    0.00</td>\n",
       "</tr>\n",
       "<tr>\n",
       "  <th>Kurtosis:</th>      <td>11.356</td>  <th>  Cond. No.          </th> <td>    19.4</td>\n",
       "</tr>\n",
       "</table><br/><br/>Notes:<br/>[1] Standard Errors assume that the covariance matrix of the errors is correctly specified."
      ],
      "text/plain": [
       "<class 'statsmodels.iolib.summary.Summary'>\n",
       "\"\"\"\n",
       "                            OLS Regression Results                            \n",
       "==============================================================================\n",
       "Dep. Variable:                   pcip   R-squared:                       0.166\n",
       "Model:                            OLS   Adj. R-squared:                  0.161\n",
       "Method:                 Least Squares   F-statistic:                     36.40\n",
       "Date:                Mon, 28 Nov 2022   Prob (F-statistic):           1.81e-21\n",
       "Time:                        12:00:57   Log-Likelihood:                -2167.7\n",
       "No. Observations:                 554   AIC:                             4343.\n",
       "Df Residuals:                     550   BIC:                             4361.\n",
       "Df Model:                           3                                         \n",
       "Covariance Type:            nonrobust                                         \n",
       "==============================================================================\n",
       "                 coef    std err          t      P>|t|      [0.025      0.975]\n",
       "------------------------------------------------------------------------------\n",
       "const          1.8042      0.548      3.292      0.001       0.728       2.881\n",
       "pcip_1         0.3491      0.043      8.210      0.000       0.266       0.433\n",
       "pcip_2         0.0708      0.045      1.575      0.116      -0.017       0.159\n",
       "pcip_3         0.0674      0.043      1.584      0.114      -0.016       0.151\n",
       "==============================================================================\n",
       "Omnibus:                      184.426   Durbin-Watson:                   1.999\n",
       "Prob(Omnibus):                  0.000   Jarque-Bera (JB):             1740.263\n",
       "Skew:                           1.179   Prob(JB):                         0.00\n",
       "Kurtosis:                      11.356   Cond. No.                         19.4\n",
       "==============================================================================\n",
       "\n",
       "Notes:\n",
       "[1] Standard Errors assume that the covariance matrix of the errors is correctly specified.\n",
       "\"\"\""
      ]
     },
     "execution_count": 8,
     "metadata": {},
     "output_type": "execute_result"
    }
   ],
   "source": [
    "# Exercise 3\n",
    "volat = pd.read_stata(\"./stata/VOLAT.DTA\")\n",
    "X = sm.add_constant(volat[[\"pcip_1\", \"pcip_2\", \"pcip_3\"]])\n",
    "model = sm.OLS(volat[\"pcip\"], X, missing=\"drop\").fit()\n",
    "model.summary()"
   ]
  },
  {
   "cell_type": "code",
   "execution_count": 9,
   "id": "2024a235-09d6-4998-a596-1fddda22babe",
   "metadata": {},
   "outputs": [
    {
     "data": {
      "text/html": [
       "<table class=\"simpletable\">\n",
       "<caption>OLS Regression Results</caption>\n",
       "<tr>\n",
       "  <th>Dep. Variable:</th>          <td>pcip</td>       <th>  R-squared:         </th> <td>   0.166</td>\n",
       "</tr>\n",
       "<tr>\n",
       "  <th>Model:</th>                   <td>OLS</td>       <th>  Adj. R-squared:    </th> <td>   0.160</td>\n",
       "</tr>\n",
       "<tr>\n",
       "  <th>Method:</th>             <td>Least Squares</td>  <th>  F-statistic:       </th> <td>   27.24</td>\n",
       "</tr>\n",
       "<tr>\n",
       "  <th>Date:</th>             <td>Mon, 28 Nov 2022</td> <th>  Prob (F-statistic):</th> <td>1.22e-20</td>\n",
       "</tr>\n",
       "<tr>\n",
       "  <th>Time:</th>                 <td>12:00:58</td>     <th>  Log-Likelihood:    </th> <td> -2164.2</td>\n",
       "</tr>\n",
       "<tr>\n",
       "  <th>No. Observations:</th>      <td>   553</td>      <th>  AIC:               </th> <td>   4338.</td>\n",
       "</tr>\n",
       "<tr>\n",
       "  <th>Df Residuals:</th>          <td>   548</td>      <th>  BIC:               </th> <td>   4360.</td>\n",
       "</tr>\n",
       "<tr>\n",
       "  <th>Df Model:</th>              <td>     4</td>      <th>                     </th>     <td> </td>   \n",
       "</tr>\n",
       "<tr>\n",
       "  <th>Covariance Type:</th>      <td>nonrobust</td>    <th>                     </th>     <td> </td>   \n",
       "</tr>\n",
       "</table>\n",
       "<table class=\"simpletable\">\n",
       "<tr>\n",
       "     <td></td>       <th>coef</th>     <th>std err</th>      <th>t</th>      <th>P>|t|</th>  <th>[0.025</th>    <th>0.975]</th>  \n",
       "</tr>\n",
       "<tr>\n",
       "  <th>const</th>  <td>    1.7873</td> <td>    0.555</td> <td>    3.221</td> <td> 0.001</td> <td>    0.697</td> <td>    2.877</td>\n",
       "</tr>\n",
       "<tr>\n",
       "  <th>pcip_1</th> <td>    0.3494</td> <td>    0.043</td> <td>    8.179</td> <td> 0.000</td> <td>    0.265</td> <td>    0.433</td>\n",
       "</tr>\n",
       "<tr>\n",
       "  <th>pcip_2</th> <td>    0.0702</td> <td>    0.045</td> <td>    1.556</td> <td> 0.120</td> <td>   -0.018</td> <td>    0.159</td>\n",
       "</tr>\n",
       "<tr>\n",
       "  <th>pcip_3</th> <td>    0.0658</td> <td>    0.045</td> <td>    1.457</td> <td> 0.146</td> <td>   -0.023</td> <td>    0.154</td>\n",
       "</tr>\n",
       "<tr>\n",
       "  <th>pcip_4</th> <td>    0.0043</td> <td>    0.043</td> <td>    0.101</td> <td> 0.920</td> <td>   -0.080</td> <td>    0.088</td>\n",
       "</tr>\n",
       "</table>\n",
       "<table class=\"simpletable\">\n",
       "<tr>\n",
       "  <th>Omnibus:</th>       <td>184.693</td> <th>  Durbin-Watson:     </th> <td>   1.999</td>\n",
       "</tr>\n",
       "<tr>\n",
       "  <th>Prob(Omnibus):</th> <td> 0.000</td>  <th>  Jarque-Bera (JB):  </th> <td>1741.966</td>\n",
       "</tr>\n",
       "<tr>\n",
       "  <th>Skew:</th>          <td> 1.184</td>  <th>  Prob(JB):          </th> <td>    0.00</td>\n",
       "</tr>\n",
       "<tr>\n",
       "  <th>Kurtosis:</th>      <td>11.366</td>  <th>  Cond. No.          </th> <td>    21.1</td>\n",
       "</tr>\n",
       "</table><br/><br/>Notes:<br/>[1] Standard Errors assume that the covariance matrix of the errors is correctly specified."
      ],
      "text/plain": [
       "<class 'statsmodels.iolib.summary.Summary'>\n",
       "\"\"\"\n",
       "                            OLS Regression Results                            \n",
       "==============================================================================\n",
       "Dep. Variable:                   pcip   R-squared:                       0.166\n",
       "Model:                            OLS   Adj. R-squared:                  0.160\n",
       "Method:                 Least Squares   F-statistic:                     27.24\n",
       "Date:                Mon, 28 Nov 2022   Prob (F-statistic):           1.22e-20\n",
       "Time:                        12:00:58   Log-Likelihood:                -2164.2\n",
       "No. Observations:                 553   AIC:                             4338.\n",
       "Df Residuals:                     548   BIC:                             4360.\n",
       "Df Model:                           4                                         \n",
       "Covariance Type:            nonrobust                                         \n",
       "==============================================================================\n",
       "                 coef    std err          t      P>|t|      [0.025      0.975]\n",
       "------------------------------------------------------------------------------\n",
       "const          1.7873      0.555      3.221      0.001       0.697       2.877\n",
       "pcip_1         0.3494      0.043      8.179      0.000       0.265       0.433\n",
       "pcip_2         0.0702      0.045      1.556      0.120      -0.018       0.159\n",
       "pcip_3         0.0658      0.045      1.457      0.146      -0.023       0.154\n",
       "pcip_4         0.0043      0.043      0.101      0.920      -0.080       0.088\n",
       "==============================================================================\n",
       "Omnibus:                      184.693   Durbin-Watson:                   1.999\n",
       "Prob(Omnibus):                  0.000   Jarque-Bera (JB):             1741.966\n",
       "Skew:                           1.184   Prob(JB):                         0.00\n",
       "Kurtosis:                      11.366   Cond. No.                         21.1\n",
       "==============================================================================\n",
       "\n",
       "Notes:\n",
       "[1] Standard Errors assume that the covariance matrix of the errors is correctly specified.\n",
       "\"\"\""
      ]
     },
     "execution_count": 9,
     "metadata": {},
     "output_type": "execute_result"
    }
   ],
   "source": [
    "volat[\"pcip_4\"] = volat[\"pcip_3\"].shift(1)\n",
    "X = sm.add_constant(volat[[\"pcip_1\", \"pcip_2\", \"pcip_3\", \"pcip_4\"]])\n",
    "model = sm.OLS(volat[\"pcip\"], X, missing=\"drop\").fit()\n",
    "model.summary()"
   ]
  },
  {
   "cell_type": "code",
   "execution_count": 10,
   "id": "5e81e435-9a44-4e3f-ad50-d8f8c13ad664",
   "metadata": {},
   "outputs": [
    {
     "data": {
      "text/plain": [
       "<class 'statsmodels.stats.contrast.ContrastResults'>\n",
       "<F test: F=5.371828372897618, p=0.001190404630174995, df_denom=547, df_num=3>"
      ]
     },
     "execution_count": 10,
     "metadata": {},
     "output_type": "execute_result"
    }
   ],
   "source": [
    "X = sm.add_constant(\n",
    "    volat[[\"pcip_1\", \"pcip_2\", \"pcip_3\", \"pcsp_1\", \"pcsp_2\", \"pcsp_3\"]])\n",
    "model = sm.OLS(volat[\"pcip\"], X, missing=\"drop\").fit()\n",
    "model.f_test(\"pcsp_1 = pcsp_2 = pcsp_3 = 0\")"
   ]
  },
  {
   "cell_type": "code",
   "execution_count": 11,
   "id": "f0cab818-c62e-443f-bc36-c638505c6418",
   "metadata": {},
   "outputs": [
    {
     "data": {
      "text/plain": [
       "<class 'statsmodels.stats.contrast.ContrastResults'>\n",
       "<F test: F=5.076975015753397, p=0.0017866714063804869, df_denom=544, df_num=3>"
      ]
     },
     "execution_count": 11,
     "metadata": {},
     "output_type": "execute_result"
    }
   ],
   "source": [
    "volat[\"ci3_3\"] = volat[\"ci3_2\"].shift(1)\n",
    "X = sm.add_constant(volat[[\"pcip_1\", \"pcip_2\", \"pcip_3\", \"pcsp_1\",\n",
    "                           \"pcsp_2\", \"pcsp_3\", \"ci3_1\", \"ci3_2\", \"ci3_3\"]])\n",
    "model = sm.OLS(volat[\"pcip\"], X, missing=\"drop\").fit()\n",
    "model.f_test(\"pcsp_1 = pcsp_2 = pcsp_3 = 0\")"
   ]
  },
  {
   "cell_type": "markdown",
   "id": "dacb7f91-450f-4a24-b8f5-a04c82ebf36a",
   "metadata": {},
   "source": [
    "C3.i Results above. The 4th lag is significant at the 95% level (i.e. not at all).\n",
    "\n",
    "C3.ii The joint significance test is significant at the 1% level. The null hypothesis is that all of the coefficients for pcsp are 0 which we reject. Granger causality is defined in 18.51 ($E(y_t|I_{t-1} \\neq E(y_t|J_{t-1})$) and, since we have strong evidence that at least one of the coefficients for pcsp is not zero, we conclude that pscp Granger causes pcip.\n",
    "\n",
    "C3.iii Adding the change in the three-month T-bill does shrink the F-statistic (from 5.37 to 5.08, p-value 0.002) but the joint hypothesis test is still significant even at the 1% level. We still conclude pcsp Granger causes pcip conditional on past $\\Delta i3$."
   ]
  },
  {
   "cell_type": "code",
   "execution_count": 12,
   "id": "d525141b-4c9b-4447-877e-b864c8e87fe6",
   "metadata": {},
   "outputs": [
    {
     "data": {
      "text/html": [
       "<table class=\"simpletable\">\n",
       "<caption>OLS Regression Results</caption>\n",
       "<tr>\n",
       "  <th>Dep. Variable:</th>         <td>delta_u</td>     <th>  R-squared:         </th> <td>   0.129</td>\n",
       "</tr>\n",
       "<tr>\n",
       "  <th>Model:</th>                   <td>OLS</td>       <th>  Adj. R-squared:    </th> <td>   0.103</td>\n",
       "</tr>\n",
       "<tr>\n",
       "  <th>Method:</th>             <td>Least Squares</td>  <th>  F-statistic:       </th> <td>   4.959</td>\n",
       "</tr>\n",
       "<tr>\n",
       "  <th>Date:</th>             <td>Mon, 28 Nov 2022</td> <th>  Prob (F-statistic):</th>  <td>0.00980</td>\n",
       "</tr>\n",
       "<tr>\n",
       "  <th>Time:</th>                 <td>12:00:58</td>     <th>  Log-Likelihood:    </th> <td> -228.96</td>\n",
       "</tr>\n",
       "<tr>\n",
       "  <th>No. Observations:</th>      <td>    70</td>      <th>  AIC:               </th> <td>   463.9</td>\n",
       "</tr>\n",
       "<tr>\n",
       "  <th>Df Residuals:</th>          <td>    67</td>      <th>  BIC:               </th> <td>   470.7</td>\n",
       "</tr>\n",
       "<tr>\n",
       "  <th>Df Model:</th>              <td>     2</td>      <th>                     </th>     <td> </td>   \n",
       "</tr>\n",
       "<tr>\n",
       "  <th>Covariance Type:</th>      <td>nonrobust</td>    <th>                     </th>     <td> </td>   \n",
       "</tr>\n",
       "</table>\n",
       "<table class=\"simpletable\">\n",
       "<tr>\n",
       "      <td></td>         <th>coef</th>     <th>std err</th>      <th>t</th>      <th>P>|t|</th>  <th>[0.025</th>    <th>0.975]</th>  \n",
       "</tr>\n",
       "<tr>\n",
       "  <th>const</th>     <td>   -0.1224</td> <td>    0.779</td> <td>   -0.157</td> <td> 0.876</td> <td>   -1.676</td> <td>    1.432</td>\n",
       "</tr>\n",
       "<tr>\n",
       "  <th>u_hat_1</th>   <td>   -0.1650</td> <td>    0.060</td> <td>   -2.761</td> <td> 0.007</td> <td>   -0.284</td> <td>   -0.046</td>\n",
       "</tr>\n",
       "<tr>\n",
       "  <th>delta_u_1</th> <td>    0.2542</td> <td>    0.118</td> <td>    2.161</td> <td> 0.034</td> <td>    0.019</td> <td>    0.489</td>\n",
       "</tr>\n",
       "</table>\n",
       "<table class=\"simpletable\">\n",
       "<tr>\n",
       "  <th>Omnibus:</th>       <td>47.831</td> <th>  Durbin-Watson:     </th> <td>   1.852</td>\n",
       "</tr>\n",
       "<tr>\n",
       "  <th>Prob(Omnibus):</th> <td> 0.000</td> <th>  Jarque-Bera (JB):  </th> <td> 439.013</td>\n",
       "</tr>\n",
       "<tr>\n",
       "  <th>Skew:</th>          <td>-1.588</td> <th>  Prob(JB):          </th> <td>4.67e-96</td>\n",
       "</tr>\n",
       "<tr>\n",
       "  <th>Kurtosis:</th>      <td>14.850</td> <th>  Cond. No.          </th> <td>    13.6</td>\n",
       "</tr>\n",
       "</table><br/><br/>Notes:<br/>[1] Standard Errors assume that the covariance matrix of the errors is correctly specified."
      ],
      "text/plain": [
       "<class 'statsmodels.iolib.summary.Summary'>\n",
       "\"\"\"\n",
       "                            OLS Regression Results                            \n",
       "==============================================================================\n",
       "Dep. Variable:                delta_u   R-squared:                       0.129\n",
       "Model:                            OLS   Adj. R-squared:                  0.103\n",
       "Method:                 Least Squares   F-statistic:                     4.959\n",
       "Date:                Mon, 28 Nov 2022   Prob (F-statistic):            0.00980\n",
       "Time:                        12:00:58   Log-Likelihood:                -228.96\n",
       "No. Observations:                  70   AIC:                             463.9\n",
       "Df Residuals:                      67   BIC:                             470.7\n",
       "Df Model:                           2                                         \n",
       "Covariance Type:            nonrobust                                         \n",
       "==============================================================================\n",
       "                 coef    std err          t      P>|t|      [0.025      0.975]\n",
       "------------------------------------------------------------------------------\n",
       "const         -0.1224      0.779     -0.157      0.876      -1.676       1.432\n",
       "u_hat_1       -0.1650      0.060     -2.761      0.007      -0.284      -0.046\n",
       "delta_u_1      0.2542      0.118      2.161      0.034       0.019       0.489\n",
       "==============================================================================\n",
       "Omnibus:                       47.831   Durbin-Watson:                   1.852\n",
       "Prob(Omnibus):                  0.000   Jarque-Bera (JB):              439.013\n",
       "Skew:                          -1.588   Prob(JB):                     4.67e-96\n",
       "Kurtosis:                      14.850   Cond. No.                         13.6\n",
       "==============================================================================\n",
       "\n",
       "Notes:\n",
       "[1] Standard Errors assume that the covariance matrix of the errors is correctly specified.\n",
       "\"\"\""
      ]
     },
     "execution_count": 12,
     "metadata": {},
     "output_type": "execute_result"
    }
   ],
   "source": [
    "# Exercise 4\n",
    "fertil3 = pd.read_stata(\"./stata/FERTIL3.DTA\")\n",
    "X = sm.add_constant(fertil3[[\"pe\", \"t\", \"tsq\"]])\n",
    "model = sm.OLS(fertil3[\"gfr\"], X, missing=\"drop\").fit()\n",
    "fertil3[\"u_hat\"] = model.resid\n",
    "fertil3[\"u_hat_1\"] = model.resid.shift(1)\n",
    "fertil3[\"delta_u\"] = fertil3[\"u_hat\"] - fertil3[\"u_hat_1\"]\n",
    "fertil3[\"delta_u_1\"] = fertil3[\"u_hat_1\"] - fertil3[\"u_hat_1\"].shift(1)\n",
    "X = sm.add_constant(fertil3[[\"u_hat_1\", \"delta_u_1\"]])\n",
    "\n",
    "sm.OLS(fertil3[\"delta_u\"], X, missing=\"drop\").fit().summary()"
   ]
  },
  {
   "cell_type": "markdown",
   "id": "97fb69fe-08f0-4099-94d9-ba5d25133e22",
   "metadata": {},
   "source": [
    "C4 Results above. The t-statatistic on the lag of the residual is -2.761. The critical value (given in the question) is -4.15, considerably higher than the t-statistic. We fail to reject the null hypothesis of no cointegration between gfr and pe."
   ]
  },
  {
   "cell_type": "code",
   "execution_count": 13,
   "id": "1120df05-cdb1-478b-b0a6-a18fe39d07e4",
   "metadata": {},
   "outputs": [
    {
     "data": {
      "text/html": [
       "<table class=\"simpletable\">\n",
       "<caption>OLS Regression Results</caption>\n",
       "<tr>\n",
       "  <th>Dep. Variable:</th>           <td>hy6</td>       <th>  R-squared:         </th> <td>   0.982</td>\n",
       "</tr>\n",
       "<tr>\n",
       "  <th>Model:</th>                   <td>OLS</td>       <th>  Adj. R-squared:    </th> <td>   0.981</td>\n",
       "</tr>\n",
       "<tr>\n",
       "  <th>Method:</th>             <td>Least Squares</td>  <th>  F-statistic:       </th> <td>   1551.</td>\n",
       "</tr>\n",
       "<tr>\n",
       "  <th>Date:</th>             <td>Mon, 28 Nov 2022</td> <th>  Prob (F-statistic):</th> <td>1.17e-99</td>\n",
       "</tr>\n",
       "<tr>\n",
       "  <th>Time:</th>                 <td>12:00:58</td>     <th>  Log-Likelihood:    </th> <td>  84.067</td>\n",
       "</tr>\n",
       "<tr>\n",
       "  <th>No. Observations:</th>      <td>   121</td>      <th>  AIC:               </th> <td>  -158.1</td>\n",
       "</tr>\n",
       "<tr>\n",
       "  <th>Df Residuals:</th>          <td>   116</td>      <th>  BIC:               </th> <td>  -144.2</td>\n",
       "</tr>\n",
       "<tr>\n",
       "  <th>Df Model:</th>              <td>     4</td>      <th>                     </th>     <td> </td>   \n",
       "</tr>\n",
       "<tr>\n",
       "  <th>Covariance Type:</th>      <td>nonrobust</td>    <th>                     </th>     <td> </td>   \n",
       "</tr>\n",
       "</table>\n",
       "<table class=\"simpletable\">\n",
       "<tr>\n",
       "     <td></td>       <th>coef</th>     <th>std err</th>      <th>t</th>      <th>P>|t|</th>  <th>[0.025</th>    <th>0.975]</th>  \n",
       "</tr>\n",
       "<tr>\n",
       "  <th>const</th>  <td>    0.0775</td> <td>    0.028</td> <td>    2.794</td> <td> 0.006</td> <td>    0.023</td> <td>    0.132</td>\n",
       "</tr>\n",
       "<tr>\n",
       "  <th>hy3_1</th>  <td>    1.0271</td> <td>    0.016</td> <td>   65.363</td> <td> 0.000</td> <td>    0.996</td> <td>    1.058</td>\n",
       "</tr>\n",
       "<tr>\n",
       "  <th>chy3</th>   <td>   -1.0211</td> <td>    0.038</td> <td>  -27.171</td> <td> 0.000</td> <td>   -1.096</td> <td>   -0.947</td>\n",
       "</tr>\n",
       "<tr>\n",
       "  <th>chy3_1</th> <td>   -0.0854</td> <td>    0.037</td> <td>   -2.301</td> <td> 0.023</td> <td>   -0.159</td> <td>   -0.012</td>\n",
       "</tr>\n",
       "<tr>\n",
       "  <th>chy3_2</th> <td>   -0.1044</td> <td>    0.037</td> <td>   -2.787</td> <td> 0.006</td> <td>   -0.179</td> <td>   -0.030</td>\n",
       "</tr>\n",
       "</table>\n",
       "<table class=\"simpletable\">\n",
       "<tr>\n",
       "  <th>Omnibus:</th>       <td>24.667</td> <th>  Durbin-Watson:     </th> <td>   1.613</td>\n",
       "</tr>\n",
       "<tr>\n",
       "  <th>Prob(Omnibus):</th> <td> 0.000</td> <th>  Jarque-Bera (JB):  </th> <td> 191.842</td>\n",
       "</tr>\n",
       "<tr>\n",
       "  <th>Skew:</th>          <td>-0.012</td> <th>  Prob(JB):          </th> <td>2.20e-42</td>\n",
       "</tr>\n",
       "<tr>\n",
       "  <th>Kurtosis:</th>      <td> 9.169</td> <th>  Cond. No.          </th> <td>    7.75</td>\n",
       "</tr>\n",
       "</table><br/><br/>Notes:<br/>[1] Standard Errors assume that the covariance matrix of the errors is correctly specified."
      ],
      "text/plain": [
       "<class 'statsmodels.iolib.summary.Summary'>\n",
       "\"\"\"\n",
       "                            OLS Regression Results                            \n",
       "==============================================================================\n",
       "Dep. Variable:                    hy6   R-squared:                       0.982\n",
       "Model:                            OLS   Adj. R-squared:                  0.981\n",
       "Method:                 Least Squares   F-statistic:                     1551.\n",
       "Date:                Mon, 28 Nov 2022   Prob (F-statistic):           1.17e-99\n",
       "Time:                        12:00:58   Log-Likelihood:                 84.067\n",
       "No. Observations:                 121   AIC:                            -158.1\n",
       "Df Residuals:                     116   BIC:                            -144.2\n",
       "Df Model:                           4                                         \n",
       "Covariance Type:            nonrobust                                         \n",
       "==============================================================================\n",
       "                 coef    std err          t      P>|t|      [0.025      0.975]\n",
       "------------------------------------------------------------------------------\n",
       "const          0.0775      0.028      2.794      0.006       0.023       0.132\n",
       "hy3_1          1.0271      0.016     65.363      0.000       0.996       1.058\n",
       "chy3          -1.0211      0.038    -27.171      0.000      -1.096      -0.947\n",
       "chy3_1        -0.0854      0.037     -2.301      0.023      -0.159      -0.012\n",
       "chy3_2        -0.1044      0.037     -2.787      0.006      -0.179      -0.030\n",
       "==============================================================================\n",
       "Omnibus:                       24.667   Durbin-Watson:                   1.613\n",
       "Prob(Omnibus):                  0.000   Jarque-Bera (JB):              191.842\n",
       "Skew:                          -0.012   Prob(JB):                     2.20e-42\n",
       "Kurtosis:                       9.169   Cond. No.                         7.75\n",
       "==============================================================================\n",
       "\n",
       "Notes:\n",
       "[1] Standard Errors assume that the covariance matrix of the errors is correctly specified.\n",
       "\"\"\""
      ]
     },
     "execution_count": 13,
     "metadata": {},
     "output_type": "execute_result"
    }
   ],
   "source": [
    "# Exercise 5\n",
    "intqrt = pd.read_stata(\"./stata/INTQRT.DTA\")\n",
    "intqrt[\"chy3_2\"] = intqrt[\"chy3_1\"].shift(1)\n",
    "X = sm.add_constant(intqrt[[\"hy3_1\", \"chy3\", \"chy3_1\", \"chy3_2\"]])\n",
    "model = sm.OLS(intqrt[\"hy6\"], X, missing=\"drop\").fit()\n",
    "model.summary()"
   ]
  },
  {
   "cell_type": "code",
   "execution_count": 14,
   "id": "cf4af63c-9c8c-4fab-a200-ee744c03bdaf",
   "metadata": {},
   "outputs": [
    {
     "data": {
      "text/plain": [
       "<class 'statsmodels.stats.contrast.ContrastResults'>\n",
       "                             Test for Constraints                             \n",
       "==============================================================================\n",
       "                 coef    std err          t      P>|t|      [0.025      0.975]\n",
       "------------------------------------------------------------------------------\n",
       "c0             1.0271      0.016      1.723      0.088       0.996       1.058\n",
       "=============================================================================="
      ]
     },
     "execution_count": 14,
     "metadata": {},
     "output_type": "execute_result"
    }
   ],
   "source": [
    "model.t_test(\"hy3_1 = 1\")"
   ]
  },
  {
   "cell_type": "code",
   "execution_count": 15,
   "id": "136fd48b-f81c-4962-8a26-f198f237a50f",
   "metadata": {},
   "outputs": [
    {
     "data": {
      "text/html": [
       "<table class=\"simpletable\">\n",
       "<caption>OLS Regression Results</caption>\n",
       "<tr>\n",
       "  <th>Dep. Variable:</th>          <td>chy6</td>       <th>  R-squared:         </th> <td>   0.795</td>\n",
       "</tr>\n",
       "<tr>\n",
       "  <th>Model:</th>                   <td>OLS</td>       <th>  Adj. R-squared:    </th> <td>   0.788</td>\n",
       "</tr>\n",
       "<tr>\n",
       "  <th>Method:</th>             <td>Least Squares</td>  <th>  F-statistic:       </th> <td>   112.5</td>\n",
       "</tr>\n",
       "<tr>\n",
       "  <th>Date:</th>             <td>Mon, 28 Nov 2022</td> <th>  Prob (F-statistic):</th> <td>5.62e-39</td>\n",
       "</tr>\n",
       "<tr>\n",
       "  <th>Time:</th>                 <td>12:00:59</td>     <th>  Log-Likelihood:    </th> <td> -38.838</td>\n",
       "</tr>\n",
       "<tr>\n",
       "  <th>No. Observations:</th>      <td>   121</td>      <th>  AIC:               </th> <td>   87.68</td>\n",
       "</tr>\n",
       "<tr>\n",
       "  <th>Df Residuals:</th>          <td>   116</td>      <th>  BIC:               </th> <td>   101.7</td>\n",
       "</tr>\n",
       "<tr>\n",
       "  <th>Df Model:</th>              <td>     4</td>      <th>                     </th>     <td> </td>   \n",
       "</tr>\n",
       "<tr>\n",
       "  <th>Covariance Type:</th>      <td>nonrobust</td>    <th>                     </th>     <td> </td>   \n",
       "</tr>\n",
       "</table>\n",
       "<table class=\"simpletable\">\n",
       "<tr>\n",
       "          <td></td>            <th>coef</th>     <th>std err</th>      <th>t</th>      <th>P>|t|</th>  <th>[0.025</th>    <th>0.975]</th>  \n",
       "</tr>\n",
       "<tr>\n",
       "  <th>const</th>            <td>    0.0704</td> <td>    0.049</td> <td>    1.438</td> <td> 0.153</td> <td>   -0.027</td> <td>    0.167</td>\n",
       "</tr>\n",
       "<tr>\n",
       "  <th>chy3_1</th>           <td>    1.2592</td> <td>    0.278</td> <td>    4.533</td> <td> 0.000</td> <td>    0.709</td> <td>    1.809</td>\n",
       "</tr>\n",
       "<tr>\n",
       "  <th>hy6_1_less_hy3_2</th> <td>   -0.8158</td> <td>    0.256</td> <td>   -3.186</td> <td> 0.002</td> <td>   -1.323</td> <td>   -0.309</td>\n",
       "</tr>\n",
       "<tr>\n",
       "  <th>chy3_2</th>           <td>    0.2827</td> <td>    0.272</td> <td>    1.039</td> <td> 0.301</td> <td>   -0.256</td> <td>    0.821</td>\n",
       "</tr>\n",
       "<tr>\n",
       "  <th>hy6_2_less_hy3_3</th> <td>    0.1268</td> <td>    0.256</td> <td>    0.495</td> <td> 0.621</td> <td>   -0.380</td> <td>    0.634</td>\n",
       "</tr>\n",
       "</table>\n",
       "<table class=\"simpletable\">\n",
       "<tr>\n",
       "  <th>Omnibus:</th>       <td>68.053</td> <th>  Durbin-Watson:     </th> <td>   1.942</td>\n",
       "</tr>\n",
       "<tr>\n",
       "  <th>Prob(Omnibus):</th> <td> 0.000</td> <th>  Jarque-Bera (JB):  </th> <td> 395.160</td>\n",
       "</tr>\n",
       "<tr>\n",
       "  <th>Skew:</th>          <td> 1.837</td> <th>  Prob(JB):          </th> <td>1.56e-86</td>\n",
       "</tr>\n",
       "<tr>\n",
       "  <th>Kurtosis:</th>      <td>11.054</td> <th>  Cond. No.          </th> <td>    13.4</td>\n",
       "</tr>\n",
       "</table><br/><br/>Notes:<br/>[1] Standard Errors assume that the covariance matrix of the errors is correctly specified."
      ],
      "text/plain": [
       "<class 'statsmodels.iolib.summary.Summary'>\n",
       "\"\"\"\n",
       "                            OLS Regression Results                            \n",
       "==============================================================================\n",
       "Dep. Variable:                   chy6   R-squared:                       0.795\n",
       "Model:                            OLS   Adj. R-squared:                  0.788\n",
       "Method:                 Least Squares   F-statistic:                     112.5\n",
       "Date:                Mon, 28 Nov 2022   Prob (F-statistic):           5.62e-39\n",
       "Time:                        12:00:59   Log-Likelihood:                -38.838\n",
       "No. Observations:                 121   AIC:                             87.68\n",
       "Df Residuals:                     116   BIC:                             101.7\n",
       "Df Model:                           4                                         \n",
       "Covariance Type:            nonrobust                                         \n",
       "====================================================================================\n",
       "                       coef    std err          t      P>|t|      [0.025      0.975]\n",
       "------------------------------------------------------------------------------------\n",
       "const                0.0704      0.049      1.438      0.153      -0.027       0.167\n",
       "chy3_1               1.2592      0.278      4.533      0.000       0.709       1.809\n",
       "hy6_1_less_hy3_2    -0.8158      0.256     -3.186      0.002      -1.323      -0.309\n",
       "chy3_2               0.2827      0.272      1.039      0.301      -0.256       0.821\n",
       "hy6_2_less_hy3_3     0.1268      0.256      0.495      0.621      -0.380       0.634\n",
       "==============================================================================\n",
       "Omnibus:                       68.053   Durbin-Watson:                   1.942\n",
       "Prob(Omnibus):                  0.000   Jarque-Bera (JB):              395.160\n",
       "Skew:                           1.837   Prob(JB):                     1.56e-86\n",
       "Kurtosis:                      11.054   Cond. No.                         13.4\n",
       "==============================================================================\n",
       "\n",
       "Notes:\n",
       "[1] Standard Errors assume that the covariance matrix of the errors is correctly specified.\n",
       "\"\"\""
      ]
     },
     "execution_count": 15,
     "metadata": {},
     "output_type": "execute_result"
    }
   ],
   "source": [
    "intqrt[\"hy3_2\"] = intqrt[\"hy3_1\"].shift(1)\n",
    "intqrt[\"hy6_2\"] = intqrt[\"hy6_1\"].shift(1)\n",
    "intqrt[\"hy3_3\"] = intqrt[\"hy3_2\"].shift(1)\n",
    "intqrt[\"hy6_1_less_hy3_2\"] = intqrt[\"hy6_1\"] - intqrt[\"hy3_2\"]\n",
    "intqrt[\"hy6_2_less_hy3_3\"] = intqrt[\"hy6_2\"] - intqrt[\"hy3_3\"]\n",
    "\n",
    "X = sm.add_constant(intqrt[[\"chy3_1\", \"hy6_1_less_hy3_2\",\n",
    "                            \"chy3_2\", \"hy6_2_less_hy3_3\"]])\n",
    "model = sm.OLS(intqrt[\"chy6\"], X, missing=\"drop\").fit()\n",
    "model.summary()"
   ]
  },
  {
   "cell_type": "code",
   "execution_count": 16,
   "id": "49b4d09c-4a12-4068-9590-1edf05cb74a0",
   "metadata": {},
   "outputs": [
    {
     "data": {
      "text/plain": [
       "<class 'statsmodels.stats.contrast.ContrastResults'>\n",
       "<F test: F=1.3468793672456028, p=0.2640864731055969, df_denom=116, df_num=2>"
      ]
     },
     "execution_count": 16,
     "metadata": {},
     "output_type": "execute_result"
    }
   ],
   "source": [
    "model.f_test(\"chy3_2 = hy6_2_less_hy3_3 = 0\")"
   ]
  },
  {
   "cell_type": "markdown",
   "id": "925fd9d7-0d25-443f-b38e-99c884370e35",
   "metadata": {},
   "source": [
    "C5.i Results above. The p-value for the test for $\\beta = 1$ is 0.088 and so significant at the 10% level but not the 5%.\n",
    "\n",
    "C5.ii The joint significance test is not significant at any value of use to us (p-value 0.264). This should mean that the model from 18.39 should be sufficient."
   ]
  },
  {
   "cell_type": "code",
   "execution_count": 17,
   "id": "940d78db-181d-42ec-88b0-24563187837f",
   "metadata": {},
   "outputs": [
    {
     "data": {
      "text/html": [
       "<table class=\"simpletable\">\n",
       "<caption>OLS Regression Results</caption>\n",
       "<tr>\n",
       "  <th>Dep. Variable:</th>          <td>unem</td>       <th>  R-squared:         </th> <td>   0.554</td>\n",
       "</tr>\n",
       "<tr>\n",
       "  <th>Model:</th>                   <td>OLS</td>       <th>  Adj. R-squared:    </th> <td>   0.544</td>\n",
       "</tr>\n",
       "<tr>\n",
       "  <th>Method:</th>             <td>Least Squares</td>  <th>  F-statistic:       </th> <td>   58.28</td>\n",
       "</tr>\n",
       "<tr>\n",
       "  <th>Date:</th>             <td>Mon, 28 Nov 2022</td> <th>  Prob (F-statistic):</th> <td>9.00e-10</td>\n",
       "</tr>\n",
       "<tr>\n",
       "  <th>Time:</th>                 <td>12:00:59</td>     <th>  Log-Likelihood:    </th> <td> -70.489</td>\n",
       "</tr>\n",
       "<tr>\n",
       "  <th>No. Observations:</th>      <td>    49</td>      <th>  AIC:               </th> <td>   145.0</td>\n",
       "</tr>\n",
       "<tr>\n",
       "  <th>Df Residuals:</th>          <td>    47</td>      <th>  BIC:               </th> <td>   148.8</td>\n",
       "</tr>\n",
       "<tr>\n",
       "  <th>Df Model:</th>              <td>     1</td>      <th>                     </th>     <td> </td>   \n",
       "</tr>\n",
       "<tr>\n",
       "  <th>Covariance Type:</th>      <td>nonrobust</td>    <th>                     </th>     <td> </td>   \n",
       "</tr>\n",
       "</table>\n",
       "<table class=\"simpletable\">\n",
       "<tr>\n",
       "     <td></td>       <th>coef</th>     <th>std err</th>      <th>t</th>      <th>P>|t|</th>  <th>[0.025</th>    <th>0.975]</th>  \n",
       "</tr>\n",
       "<tr>\n",
       "  <th>const</th>  <td>    1.5485</td> <td>    0.572</td> <td>    2.708</td> <td> 0.009</td> <td>    0.398</td> <td>    2.699</td>\n",
       "</tr>\n",
       "<tr>\n",
       "  <th>unem_1</th> <td>    0.7342</td> <td>    0.096</td> <td>    7.634</td> <td> 0.000</td> <td>    0.541</td> <td>    0.928</td>\n",
       "</tr>\n",
       "</table>\n",
       "<table class=\"simpletable\">\n",
       "<tr>\n",
       "  <th>Omnibus:</th>       <td> 7.733</td> <th>  Durbin-Watson:     </th> <td>   1.687</td>\n",
       "</tr>\n",
       "<tr>\n",
       "  <th>Prob(Omnibus):</th> <td> 0.021</td> <th>  Jarque-Bera (JB):  </th> <td>   6.900</td>\n",
       "</tr>\n",
       "<tr>\n",
       "  <th>Skew:</th>          <td> 0.885</td> <th>  Prob(JB):          </th> <td>  0.0317</td>\n",
       "</tr>\n",
       "<tr>\n",
       "  <th>Kurtosis:</th>      <td> 3.500</td> <th>  Cond. No.          </th> <td>    23.5</td>\n",
       "</tr>\n",
       "</table><br/><br/>Notes:<br/>[1] Standard Errors assume that the covariance matrix of the errors is correctly specified."
      ],
      "text/plain": [
       "<class 'statsmodels.iolib.summary.Summary'>\n",
       "\"\"\"\n",
       "                            OLS Regression Results                            \n",
       "==============================================================================\n",
       "Dep. Variable:                   unem   R-squared:                       0.554\n",
       "Model:                            OLS   Adj. R-squared:                  0.544\n",
       "Method:                 Least Squares   F-statistic:                     58.28\n",
       "Date:                Mon, 28 Nov 2022   Prob (F-statistic):           9.00e-10\n",
       "Time:                        12:00:59   Log-Likelihood:                -70.489\n",
       "No. Observations:                  49   AIC:                             145.0\n",
       "Df Residuals:                      47   BIC:                             148.8\n",
       "Df Model:                           1                                         \n",
       "Covariance Type:            nonrobust                                         \n",
       "==============================================================================\n",
       "                 coef    std err          t      P>|t|      [0.025      0.975]\n",
       "------------------------------------------------------------------------------\n",
       "const          1.5485      0.572      2.708      0.009       0.398       2.699\n",
       "unem_1         0.7342      0.096      7.634      0.000       0.541       0.928\n",
       "==============================================================================\n",
       "Omnibus:                        7.733   Durbin-Watson:                   1.687\n",
       "Prob(Omnibus):                  0.021   Jarque-Bera (JB):                6.900\n",
       "Skew:                           0.885   Prob(JB):                       0.0317\n",
       "Kurtosis:                       3.500   Cond. No.                         23.5\n",
       "==============================================================================\n",
       "\n",
       "Notes:\n",
       "[1] Standard Errors assume that the covariance matrix of the errors is correctly specified.\n",
       "\"\"\""
      ]
     },
     "execution_count": 17,
     "metadata": {},
     "output_type": "execute_result"
    }
   ],
   "source": [
    "# Exercise 6\n",
    "phillips = pd.read_stata(\"./stata/phillips.dta\")\n",
    "phil_1997 = phillips[phillips.year <= 1997]\n",
    "X = sm.add_constant(phil_1997[\"unem_1\"])\n",
    "model_lag = sm.OLS(phil_1997.unem, X, missing=\"drop\").fit()\n",
    "model_lag.summary()"
   ]
  },
  {
   "cell_type": "code",
   "execution_count": 18,
   "id": "c18f619b-5bcf-4d1d-b90a-e731e340e950",
   "metadata": {},
   "outputs": [
    {
     "data": {
      "text/html": [
       "<table class=\"simpletable\">\n",
       "<caption>OLS Regression Results</caption>\n",
       "<tr>\n",
       "  <th>Dep. Variable:</th>          <td>unem</td>       <th>  R-squared:         </th> <td>   0.691</td>\n",
       "</tr>\n",
       "<tr>\n",
       "  <th>Model:</th>                   <td>OLS</td>       <th>  Adj. R-squared:    </th> <td>   0.677</td>\n",
       "</tr>\n",
       "<tr>\n",
       "  <th>Method:</th>             <td>Least Squares</td>  <th>  F-statistic:       </th> <td>   51.42</td>\n",
       "</tr>\n",
       "<tr>\n",
       "  <th>Date:</th>             <td>Mon, 28 Nov 2022</td> <th>  Prob (F-statistic):</th> <td>1.87e-12</td>\n",
       "</tr>\n",
       "<tr>\n",
       "  <th>Time:</th>                 <td>12:01:00</td>     <th>  Log-Likelihood:    </th> <td> -61.480</td>\n",
       "</tr>\n",
       "<tr>\n",
       "  <th>No. Observations:</th>      <td>    49</td>      <th>  AIC:               </th> <td>   129.0</td>\n",
       "</tr>\n",
       "<tr>\n",
       "  <th>Df Residuals:</th>          <td>    46</td>      <th>  BIC:               </th> <td>   134.6</td>\n",
       "</tr>\n",
       "<tr>\n",
       "  <th>Df Model:</th>              <td>     2</td>      <th>                     </th>     <td> </td>   \n",
       "</tr>\n",
       "<tr>\n",
       "  <th>Covariance Type:</th>      <td>nonrobust</td>    <th>                     </th>     <td> </td>   \n",
       "</tr>\n",
       "</table>\n",
       "<table class=\"simpletable\">\n",
       "<tr>\n",
       "     <td></td>       <th>coef</th>     <th>std err</th>      <th>t</th>      <th>P>|t|</th>  <th>[0.025</th>    <th>0.975]</th>  \n",
       "</tr>\n",
       "<tr>\n",
       "  <th>const</th>  <td>    1.2858</td> <td>    0.484</td> <td>    2.655</td> <td> 0.011</td> <td>    0.311</td> <td>    2.261</td>\n",
       "</tr>\n",
       "<tr>\n",
       "  <th>unem_1</th> <td>    0.6479</td> <td>    0.083</td> <td>    7.796</td> <td> 0.000</td> <td>    0.481</td> <td>    0.815</td>\n",
       "</tr>\n",
       "<tr>\n",
       "  <th>inf_1</th>  <td>    0.1845</td> <td>    0.041</td> <td>    4.521</td> <td> 0.000</td> <td>    0.102</td> <td>    0.267</td>\n",
       "</tr>\n",
       "</table>\n",
       "<table class=\"simpletable\">\n",
       "<tr>\n",
       "  <th>Omnibus:</th>       <td> 4.494</td> <th>  Durbin-Watson:     </th> <td>   1.864</td>\n",
       "</tr>\n",
       "<tr>\n",
       "  <th>Prob(Omnibus):</th> <td> 0.106</td> <th>  Jarque-Bera (JB):  </th> <td>   3.407</td>\n",
       "</tr>\n",
       "<tr>\n",
       "  <th>Skew:</th>          <td> 0.600</td> <th>  Prob(JB):          </th> <td>   0.182</td>\n",
       "</tr>\n",
       "<tr>\n",
       "  <th>Kurtosis:</th>      <td> 3.476</td> <th>  Cond. No.          </th> <td>    29.6</td>\n",
       "</tr>\n",
       "</table><br/><br/>Notes:<br/>[1] Standard Errors assume that the covariance matrix of the errors is correctly specified."
      ],
      "text/plain": [
       "<class 'statsmodels.iolib.summary.Summary'>\n",
       "\"\"\"\n",
       "                            OLS Regression Results                            \n",
       "==============================================================================\n",
       "Dep. Variable:                   unem   R-squared:                       0.691\n",
       "Model:                            OLS   Adj. R-squared:                  0.677\n",
       "Method:                 Least Squares   F-statistic:                     51.42\n",
       "Date:                Mon, 28 Nov 2022   Prob (F-statistic):           1.87e-12\n",
       "Time:                        12:01:00   Log-Likelihood:                -61.480\n",
       "No. Observations:                  49   AIC:                             129.0\n",
       "Df Residuals:                      46   BIC:                             134.6\n",
       "Df Model:                           2                                         \n",
       "Covariance Type:            nonrobust                                         \n",
       "==============================================================================\n",
       "                 coef    std err          t      P>|t|      [0.025      0.975]\n",
       "------------------------------------------------------------------------------\n",
       "const          1.2858      0.484      2.655      0.011       0.311       2.261\n",
       "unem_1         0.6479      0.083      7.796      0.000       0.481       0.815\n",
       "inf_1          0.1845      0.041      4.521      0.000       0.102       0.267\n",
       "==============================================================================\n",
       "Omnibus:                        4.494   Durbin-Watson:                   1.864\n",
       "Prob(Omnibus):                  0.106   Jarque-Bera (JB):                3.407\n",
       "Skew:                           0.600   Prob(JB):                        0.182\n",
       "Kurtosis:                       3.476   Cond. No.                         29.6\n",
       "==============================================================================\n",
       "\n",
       "Notes:\n",
       "[1] Standard Errors assume that the covariance matrix of the errors is correctly specified.\n",
       "\"\"\""
      ]
     },
     "execution_count": 18,
     "metadata": {},
     "output_type": "execute_result"
    }
   ],
   "source": [
    "X = sm.add_constant(phil_1997[[\"unem_1\", \"inf_1\"]])\n",
    "model_lag_inf = sm.OLS(phil_1997.unem, X, missing=\"drop\").fit()\n",
    "model_lag_inf.summary()"
   ]
  },
  {
   "cell_type": "code",
   "execution_count": 19,
   "id": "8932cadc-ae3f-47dc-acc1-fe490585fdf1",
   "metadata": {},
   "outputs": [
    {
     "data": {
      "text/plain": [
       "50    5.145959\n",
       "dtype: float64"
      ]
     },
     "execution_count": 19,
     "metadata": {},
     "output_type": "execute_result"
    }
   ],
   "source": [
    "X_1998 = sm.add_constant(phillips).loc[phillips.year == 1998,\n",
    "                                       [\"const\", \"unem_1\", \"inf_1\"]]\n",
    "model_lag.predict(X_1998[[\"const\", \"unem_1\"]])"
   ]
  },
  {
   "cell_type": "code",
   "execution_count": 20,
   "id": "e9fe20a4-7bf9-495c-b530-281287828abc",
   "metadata": {},
   "outputs": [
    {
     "data": {
      "text/plain": [
       "50    4.884895\n",
       "dtype: float64"
      ]
     },
     "execution_count": 20,
     "metadata": {},
     "output_type": "execute_result"
    }
   ],
   "source": [
    "model_lag_inf.predict(X_1998[[\"const\", \"unem_1\", \"inf_1\"]])"
   ]
  },
  {
   "cell_type": "code",
   "execution_count": 21,
   "id": "d237d672-394d-42a8-b38a-753c816009bf",
   "metadata": {},
   "outputs": [
    {
     "data": {
      "text/plain": [
       "50    4.5\n",
       "Name: unem, dtype: float32"
      ]
     },
     "execution_count": 21,
     "metadata": {},
     "output_type": "execute_result"
    }
   ],
   "source": [
    "phillips.loc[phillips.year == 1998, \"unem\"]"
   ]
  },
  {
   "cell_type": "code",
   "execution_count": 22,
   "id": "ddceb42e-40b7-42dc-ad23-d3dae01f2280",
   "metadata": {},
   "outputs": [
    {
     "data": {
      "text/plain": [
       "5.6161536000000005"
      ]
     },
     "execution_count": 22,
     "metadata": {},
     "output_type": "execute_result"
    }
   ],
   "source": [
    "alpha_hat = 1.572\n",
    "rho_hat = 0.732\n",
    "forecast = (1 + rho_hat) * alpha_hat + (rho_hat**2) * 5.4 \n",
    "forecast"
   ]
  },
  {
   "cell_type": "markdown",
   "id": "70310ae1-6108-4651-a262-5db6f48172e3",
   "metadata": {},
   "source": [
    "C6.i Results above. The differences are hardly noticable, but then, we only added one year.\n",
    "\n",
    "C6.ii The real value for unemployment was 4.5. The model using only lagged unemployment was over by 0.65, while the model including lagged inflation was higher by about 0.39, and so was the better one.\n",
    "\n",
    "C6.iii As expected from (i), there is a small but not very practical improvement in the prediction.\n",
    "\n",
    "C6.iv The one step ahead forecast from 18.48 was 5.15 while the two step ahead forecast is 5.62. The true value is 4.5 and so the one step ahead forecast is better."
   ]
  },
  {
   "cell_type": "code",
   "execution_count": 23,
   "id": "70943566-4428-4efa-9152-f2625d13aa7f",
   "metadata": {},
   "outputs": [
    {
     "data": {
      "text/html": [
       "<table class=\"simpletable\">\n",
       "<caption>OLS Regression Results</caption>\n",
       "<tr>\n",
       "  <th>Dep. Variable:</th>         <td>chnimp</td>      <th>  R-squared:         </th> <td>   0.277</td>\n",
       "</tr>\n",
       "<tr>\n",
       "  <th>Model:</th>                   <td>OLS</td>       <th>  Adj. R-squared:    </th> <td>   0.271</td>\n",
       "</tr>\n",
       "<tr>\n",
       "  <th>Method:</th>             <td>Least Squares</td>  <th>  F-statistic:       </th> <td>   44.84</td>\n",
       "</tr>\n",
       "<tr>\n",
       "  <th>Date:</th>             <td>Mon, 28 Nov 2022</td> <th>  Prob (F-statistic):</th> <td>7.83e-10</td>\n",
       "</tr>\n",
       "<tr>\n",
       "  <th>Time:</th>                 <td>12:01:01</td>     <th>  Log-Likelihood:    </th> <td> -841.87</td>\n",
       "</tr>\n",
       "<tr>\n",
       "  <th>No. Observations:</th>      <td>   119</td>      <th>  AIC:               </th> <td>   1688.</td>\n",
       "</tr>\n",
       "<tr>\n",
       "  <th>Df Residuals:</th>          <td>   117</td>      <th>  BIC:               </th> <td>   1693.</td>\n",
       "</tr>\n",
       "<tr>\n",
       "  <th>Df Model:</th>              <td>     1</td>      <th>                     </th>     <td> </td>   \n",
       "</tr>\n",
       "<tr>\n",
       "  <th>Covariance Type:</th>      <td>nonrobust</td>    <th>                     </th>     <td> </td>   \n",
       "</tr>\n",
       "</table>\n",
       "<table class=\"simpletable\">\n",
       "<tr>\n",
       "    <td></td>       <th>coef</th>     <th>std err</th>      <th>t</th>      <th>P>|t|</th>  <th>[0.025</th>    <th>0.975]</th>  \n",
       "</tr>\n",
       "<tr>\n",
       "  <th>const</th> <td>  248.5788</td> <td>   53.198</td> <td>    4.673</td> <td> 0.000</td> <td>  143.224</td> <td>  353.934</td>\n",
       "</tr>\n",
       "<tr>\n",
       "  <th>t</th>     <td>    5.1526</td> <td>    0.769</td> <td>    6.696</td> <td> 0.000</td> <td>    3.629</td> <td>    6.676</td>\n",
       "</tr>\n",
       "</table>\n",
       "<table class=\"simpletable\">\n",
       "<tr>\n",
       "  <th>Omnibus:</th>       <td>15.488</td> <th>  Durbin-Watson:     </th> <td>   1.602</td>\n",
       "</tr>\n",
       "<tr>\n",
       "  <th>Prob(Omnibus):</th> <td> 0.000</td> <th>  Jarque-Bera (JB):  </th> <td>  17.215</td>\n",
       "</tr>\n",
       "<tr>\n",
       "  <th>Skew:</th>          <td> 0.852</td> <th>  Prob(JB):          </th> <td>0.000183</td>\n",
       "</tr>\n",
       "<tr>\n",
       "  <th>Kurtosis:</th>      <td> 3.753</td> <th>  Cond. No.          </th> <td>    139.</td>\n",
       "</tr>\n",
       "</table><br/><br/>Notes:<br/>[1] Standard Errors assume that the covariance matrix of the errors is correctly specified."
      ],
      "text/plain": [
       "<class 'statsmodels.iolib.summary.Summary'>\n",
       "\"\"\"\n",
       "                            OLS Regression Results                            \n",
       "==============================================================================\n",
       "Dep. Variable:                 chnimp   R-squared:                       0.277\n",
       "Model:                            OLS   Adj. R-squared:                  0.271\n",
       "Method:                 Least Squares   F-statistic:                     44.84\n",
       "Date:                Mon, 28 Nov 2022   Prob (F-statistic):           7.83e-10\n",
       "Time:                        12:01:01   Log-Likelihood:                -841.87\n",
       "No. Observations:                 119   AIC:                             1688.\n",
       "Df Residuals:                     117   BIC:                             1693.\n",
       "Df Model:                           1                                         \n",
       "Covariance Type:            nonrobust                                         \n",
       "==============================================================================\n",
       "                 coef    std err          t      P>|t|      [0.025      0.975]\n",
       "------------------------------------------------------------------------------\n",
       "const        248.5788     53.198      4.673      0.000     143.224     353.934\n",
       "t              5.1526      0.769      6.696      0.000       3.629       6.676\n",
       "==============================================================================\n",
       "Omnibus:                       15.488   Durbin-Watson:                   1.602\n",
       "Prob(Omnibus):                  0.000   Jarque-Bera (JB):               17.215\n",
       "Skew:                           0.852   Prob(JB):                     0.000183\n",
       "Kurtosis:                       3.753   Cond. No.                         139.\n",
       "==============================================================================\n",
       "\n",
       "Notes:\n",
       "[1] Standard Errors assume that the covariance matrix of the errors is correctly specified.\n",
       "\"\"\""
      ]
     },
     "execution_count": 23,
     "metadata": {},
     "output_type": "execute_result"
    }
   ],
   "source": [
    "# Exercise 7\n",
    "barium = pd.read_stata(\"./stata/BARIUM.DTA\")\n",
    "barium[\"chnimp_1\"] = barium[\"chnimp\"].shift(1)\n",
    "barium_trim = barium.iloc[:-12]\n",
    "X = sm.add_constant(barium_trim[\"t\"])\n",
    "model1 = sm.OLS(barium_trim.chnimp, X, missing=\"drop\").fit()\n",
    "model1.summary()"
   ]
  },
  {
   "cell_type": "code",
   "execution_count": 24,
   "id": "90c42ee8-85b6-423a-9bfb-104f0d46258c",
   "metadata": {},
   "outputs": [
    {
     "data": {
      "text/plain": [
       "288.3318561773377"
      ]
     },
     "execution_count": 24,
     "metadata": {},
     "output_type": "execute_result"
    }
   ],
   "source": [
    "np.sqrt(model1.scale)"
   ]
  },
  {
   "cell_type": "code",
   "execution_count": 25,
   "id": "2f07334e-2092-47ae-bd9e-b298ae42698c",
   "metadata": {},
   "outputs": [
    {
     "data": {
      "text/html": [
       "<table class=\"simpletable\">\n",
       "<caption>OLS Regression Results</caption>\n",
       "<tr>\n",
       "  <th>Dep. Variable:</th>         <td>chnimp</td>      <th>  R-squared:         </th> <td>   0.174</td>\n",
       "</tr>\n",
       "<tr>\n",
       "  <th>Model:</th>                   <td>OLS</td>       <th>  Adj. R-squared:    </th> <td>   0.167</td>\n",
       "</tr>\n",
       "<tr>\n",
       "  <th>Method:</th>             <td>Least Squares</td>  <th>  F-statistic:       </th> <td>   24.47</td>\n",
       "</tr>\n",
       "<tr>\n",
       "  <th>Date:</th>             <td>Mon, 28 Nov 2022</td> <th>  Prob (F-statistic):</th> <td>2.58e-06</td>\n",
       "</tr>\n",
       "<tr>\n",
       "  <th>Time:</th>                 <td>12:01:01</td>     <th>  Log-Likelihood:    </th> <td> -842.64</td>\n",
       "</tr>\n",
       "<tr>\n",
       "  <th>No. Observations:</th>      <td>   118</td>      <th>  AIC:               </th> <td>   1689.</td>\n",
       "</tr>\n",
       "<tr>\n",
       "  <th>Df Residuals:</th>          <td>   116</td>      <th>  BIC:               </th> <td>   1695.</td>\n",
       "</tr>\n",
       "<tr>\n",
       "  <th>Df Model:</th>              <td>     1</td>      <th>                     </th>     <td> </td>   \n",
       "</tr>\n",
       "<tr>\n",
       "  <th>Covariance Type:</th>      <td>nonrobust</td>    <th>                     </th>     <td> </td>   \n",
       "</tr>\n",
       "</table>\n",
       "<table class=\"simpletable\">\n",
       "<tr>\n",
       "      <td></td>        <th>coef</th>     <th>std err</th>      <th>t</th>      <th>P>|t|</th>  <th>[0.025</th>    <th>0.975]</th>  \n",
       "</tr>\n",
       "<tr>\n",
       "  <th>const</th>    <td>  329.1756</td> <td>   54.715</td> <td>    6.016</td> <td> 0.000</td> <td>  220.806</td> <td>  437.545</td>\n",
       "</tr>\n",
       "<tr>\n",
       "  <th>chnimp_1</th> <td>    0.4162</td> <td>    0.084</td> <td>    4.946</td> <td> 0.000</td> <td>    0.250</td> <td>    0.583</td>\n",
       "</tr>\n",
       "</table>\n",
       "<table class=\"simpletable\">\n",
       "<tr>\n",
       "  <th>Omnibus:</th>       <td>11.603</td> <th>  Durbin-Watson:     </th> <td>   2.214</td>\n",
       "</tr>\n",
       "<tr>\n",
       "  <th>Prob(Omnibus):</th> <td> 0.003</td> <th>  Jarque-Bera (JB):  </th> <td>  11.973</td>\n",
       "</tr>\n",
       "<tr>\n",
       "  <th>Skew:</th>          <td> 0.720</td> <th>  Prob(JB):          </th> <td> 0.00251</td>\n",
       "</tr>\n",
       "<tr>\n",
       "  <th>Kurtosis:</th>      <td> 3.600</td> <th>  Cond. No.          </th> <td>1.25e+03</td>\n",
       "</tr>\n",
       "</table><br/><br/>Notes:<br/>[1] Standard Errors assume that the covariance matrix of the errors is correctly specified.<br/>[2] The condition number is large, 1.25e+03. This might indicate that there are<br/>strong multicollinearity or other numerical problems."
      ],
      "text/plain": [
       "<class 'statsmodels.iolib.summary.Summary'>\n",
       "\"\"\"\n",
       "                            OLS Regression Results                            \n",
       "==============================================================================\n",
       "Dep. Variable:                 chnimp   R-squared:                       0.174\n",
       "Model:                            OLS   Adj. R-squared:                  0.167\n",
       "Method:                 Least Squares   F-statistic:                     24.47\n",
       "Date:                Mon, 28 Nov 2022   Prob (F-statistic):           2.58e-06\n",
       "Time:                        12:01:01   Log-Likelihood:                -842.64\n",
       "No. Observations:                 118   AIC:                             1689.\n",
       "Df Residuals:                     116   BIC:                             1695.\n",
       "Df Model:                           1                                         \n",
       "Covariance Type:            nonrobust                                         \n",
       "==============================================================================\n",
       "                 coef    std err          t      P>|t|      [0.025      0.975]\n",
       "------------------------------------------------------------------------------\n",
       "const        329.1756     54.715      6.016      0.000     220.806     437.545\n",
       "chnimp_1       0.4162      0.084      4.946      0.000       0.250       0.583\n",
       "==============================================================================\n",
       "Omnibus:                       11.603   Durbin-Watson:                   2.214\n",
       "Prob(Omnibus):                  0.003   Jarque-Bera (JB):               11.973\n",
       "Skew:                           0.720   Prob(JB):                      0.00251\n",
       "Kurtosis:                       3.600   Cond. No.                     1.25e+03\n",
       "==============================================================================\n",
       "\n",
       "Notes:\n",
       "[1] Standard Errors assume that the covariance matrix of the errors is correctly specified.\n",
       "[2] The condition number is large, 1.25e+03. This might indicate that there are\n",
       "strong multicollinearity or other numerical problems.\n",
       "\"\"\""
      ]
     },
     "execution_count": 25,
     "metadata": {},
     "output_type": "execute_result"
    }
   ],
   "source": [
    "X = sm.add_constant(barium_trim[\"chnimp_1\"])\n",
    "model2 = sm.OLS(barium_trim.chnimp, X, missing=\"drop\").fit()\n",
    "model2.summary()"
   ]
  },
  {
   "cell_type": "code",
   "execution_count": 26,
   "id": "53aa7674-5269-45d6-a7ce-bed36e29b2a5",
   "metadata": {},
   "outputs": [
    {
     "data": {
      "text/plain": [
       "308.17276531263934"
      ]
     },
     "execution_count": 26,
     "metadata": {},
     "output_type": "execute_result"
    }
   ],
   "source": [
    "np.sqrt(model2.scale)"
   ]
  },
  {
   "cell_type": "code",
   "execution_count": 27,
   "id": "fb77640d-9869-402c-a279-f45a85bd8f55",
   "metadata": {},
   "outputs": [
    {
     "data": {
      "text/plain": [
       "315.5003085662447"
      ]
     },
     "execution_count": 27,
     "metadata": {},
     "output_type": "execute_result"
    }
   ],
   "source": [
    "barium_back12 = barium.iloc[-12:]\n",
    "X = sm.add_constant(barium_back12[\"t\"])\n",
    "np.sqrt(((model1.predict(X) - barium_back12[\"chnimp\"]\n",
    "         )**2).sum() / len(model1.predict(X)))"
   ]
  },
  {
   "cell_type": "code",
   "execution_count": 28,
   "id": "8415379e-b9f9-424e-9bd6-186cd7f022d0",
   "metadata": {},
   "outputs": [
    {
     "data": {
      "text/plain": [
       "201.92975332750666"
      ]
     },
     "execution_count": 28,
     "metadata": {},
     "output_type": "execute_result"
    }
   ],
   "source": [
    "(abs(model1.predict(X) - barium_back12[\"chnimp\"]).sum() \n",
    " / len(model1.predict(X)))"
   ]
  },
  {
   "cell_type": "code",
   "execution_count": 29,
   "id": "2fc7dd1d-7860-4201-b3cc-a3a0e1de2546",
   "metadata": {},
   "outputs": [
    {
     "data": {
      "text/plain": [
       "388.6478585223456"
      ]
     },
     "execution_count": 29,
     "metadata": {},
     "output_type": "execute_result"
    }
   ],
   "source": [
    "X = sm.add_constant(barium_back12[\"chnimp_1\"])\n",
    "np.sqrt(((model2.predict(X) - barium_back12[\"chnimp\"]\n",
    "         )**2).sum() / len(model2.predict(X)))"
   ]
  },
  {
   "cell_type": "code",
   "execution_count": 30,
   "id": "9497d38f-1038-4c59-9b68-7373fe3c60d8",
   "metadata": {},
   "outputs": [
    {
     "data": {
      "text/plain": [
       "246.13029183953222"
      ]
     },
     "execution_count": 30,
     "metadata": {},
     "output_type": "execute_result"
    }
   ],
   "source": [
    "(abs(model2.predict(X) - barium_back12[\"chnimp\"]).sum() \n",
    " / len(model2.predict(X)))"
   ]
  },
  {
   "cell_type": "code",
   "execution_count": 31,
   "id": "2921e8a1-9ed7-468e-937d-213091e7bd72",
   "metadata": {},
   "outputs": [
    {
     "data": {
      "text/html": [
       "<table class=\"simpletable\">\n",
       "<caption>OLS Regression Results</caption>\n",
       "<tr>\n",
       "  <th>Dep. Variable:</th>         <td>chnimp</td>      <th>  R-squared:         </th> <td>   0.354</td>\n",
       "</tr>\n",
       "<tr>\n",
       "  <th>Model:</th>                   <td>OLS</td>       <th>  Adj. R-squared:    </th> <td>   0.281</td>\n",
       "</tr>\n",
       "<tr>\n",
       "  <th>Method:</th>             <td>Least Squares</td>  <th>  F-statistic:       </th> <td>   4.850</td>\n",
       "</tr>\n",
       "<tr>\n",
       "  <th>Date:</th>             <td>Mon, 28 Nov 2022</td> <th>  Prob (F-statistic):</th> <td>2.58e-06</td>\n",
       "</tr>\n",
       "<tr>\n",
       "  <th>Time:</th>                 <td>12:01:03</td>     <th>  Log-Likelihood:    </th> <td> -835.14</td>\n",
       "</tr>\n",
       "<tr>\n",
       "  <th>No. Observations:</th>      <td>   119</td>      <th>  AIC:               </th> <td>   1696.</td>\n",
       "</tr>\n",
       "<tr>\n",
       "  <th>Df Residuals:</th>          <td>   106</td>      <th>  BIC:               </th> <td>   1732.</td>\n",
       "</tr>\n",
       "<tr>\n",
       "  <th>Df Model:</th>              <td>    12</td>      <th>                     </th>     <td> </td>   \n",
       "</tr>\n",
       "<tr>\n",
       "  <th>Covariance Type:</th>      <td>nonrobust</td>    <th>                     </th>     <td> </td>   \n",
       "</tr>\n",
       "</table>\n",
       "<table class=\"simpletable\">\n",
       "<tr>\n",
       "    <td></td>       <th>coef</th>     <th>std err</th>      <th>t</th>      <th>P>|t|</th>  <th>[0.025</th>    <th>0.975]</th>  \n",
       "</tr>\n",
       "<tr>\n",
       "  <th>const</th> <td>  213.9850</td> <td>  105.934</td> <td>    2.020</td> <td> 0.046</td> <td>    3.960</td> <td>  424.010</td>\n",
       "</tr>\n",
       "<tr>\n",
       "  <th>t</th>     <td>    5.0732</td> <td>    0.767</td> <td>    6.615</td> <td> 0.000</td> <td>    3.553</td> <td>    6.594</td>\n",
       "</tr>\n",
       "<tr>\n",
       "  <th>feb</th>   <td>  -79.3167</td> <td>  131.582</td> <td>   -0.603</td> <td> 0.548</td> <td> -340.190</td> <td>  181.556</td>\n",
       "</tr>\n",
       "<tr>\n",
       "  <th>mar</th>   <td>  145.1167</td> <td>  131.561</td> <td>    1.103</td> <td> 0.273</td> <td> -115.717</td> <td>  405.950</td>\n",
       "</tr>\n",
       "<tr>\n",
       "  <th>apr</th>   <td> -159.9673</td> <td>  131.546</td> <td>   -1.216</td> <td> 0.227</td> <td> -420.770</td> <td>  100.835</td>\n",
       "</tr>\n",
       "<tr>\n",
       "  <th>may</th>   <td>  104.7032</td> <td>  131.535</td> <td>    0.796</td> <td> 0.428</td> <td> -156.077</td> <td>  365.483</td>\n",
       "</tr>\n",
       "<tr>\n",
       "  <th>jun</th>   <td>  -13.0195</td> <td>  131.528</td> <td>   -0.099</td> <td> 0.921</td> <td> -273.786</td> <td>  247.747</td>\n",
       "</tr>\n",
       "<tr>\n",
       "  <th>jul</th>   <td>   91.6428</td> <td>  131.526</td> <td>    0.697</td> <td> 0.487</td> <td> -169.120</td> <td>  352.405</td>\n",
       "</tr>\n",
       "<tr>\n",
       "  <th>aug</th>   <td>   42.0477</td> <td>  131.528</td> <td>    0.320</td> <td> 0.750</td> <td> -218.719</td> <td>  302.814</td>\n",
       "</tr>\n",
       "<tr>\n",
       "  <th>sep</th>   <td>  171.6832</td> <td>  131.535</td> <td>    1.305</td> <td> 0.195</td> <td>  -89.097</td> <td>  432.463</td>\n",
       "</tr>\n",
       "<tr>\n",
       "  <th>oct</th>   <td>  110.5809</td> <td>  131.546</td> <td>    0.841</td> <td> 0.402</td> <td> -150.221</td> <td>  371.383</td>\n",
       "</tr>\n",
       "<tr>\n",
       "  <th>nov</th>   <td>  -23.3848</td> <td>  131.561</td> <td>   -0.178</td> <td> 0.859</td> <td> -284.218</td> <td>  237.449</td>\n",
       "</tr>\n",
       "<tr>\n",
       "  <th>dec</th>   <td>   78.2496</td> <td>  131.582</td> <td>    0.595</td> <td> 0.553</td> <td> -182.624</td> <td>  339.123</td>\n",
       "</tr>\n",
       "</table>\n",
       "<table class=\"simpletable\">\n",
       "<tr>\n",
       "  <th>Omnibus:</th>       <td> 9.509</td> <th>  Durbin-Watson:     </th> <td>   1.444</td>\n",
       "</tr>\n",
       "<tr>\n",
       "  <th>Prob(Omnibus):</th> <td> 0.009</td> <th>  Jarque-Bera (JB):  </th> <td>   9.611</td>\n",
       "</tr>\n",
       "<tr>\n",
       "  <th>Skew:</th>          <td> 0.684</td> <th>  Prob(JB):          </th> <td> 0.00818</td>\n",
       "</tr>\n",
       "<tr>\n",
       "  <th>Kurtosis:</th>      <td> 3.261</td> <th>  Cond. No.          </th> <td>    901.</td>\n",
       "</tr>\n",
       "</table><br/><br/>Notes:<br/>[1] Standard Errors assume that the covariance matrix of the errors is correctly specified."
      ],
      "text/plain": [
       "<class 'statsmodels.iolib.summary.Summary'>\n",
       "\"\"\"\n",
       "                            OLS Regression Results                            \n",
       "==============================================================================\n",
       "Dep. Variable:                 chnimp   R-squared:                       0.354\n",
       "Model:                            OLS   Adj. R-squared:                  0.281\n",
       "Method:                 Least Squares   F-statistic:                     4.850\n",
       "Date:                Mon, 28 Nov 2022   Prob (F-statistic):           2.58e-06\n",
       "Time:                        12:01:03   Log-Likelihood:                -835.14\n",
       "No. Observations:                 119   AIC:                             1696.\n",
       "Df Residuals:                     106   BIC:                             1732.\n",
       "Df Model:                          12                                         \n",
       "Covariance Type:            nonrobust                                         \n",
       "==============================================================================\n",
       "                 coef    std err          t      P>|t|      [0.025      0.975]\n",
       "------------------------------------------------------------------------------\n",
       "const        213.9850    105.934      2.020      0.046       3.960     424.010\n",
       "t              5.0732      0.767      6.615      0.000       3.553       6.594\n",
       "feb          -79.3167    131.582     -0.603      0.548    -340.190     181.556\n",
       "mar          145.1167    131.561      1.103      0.273    -115.717     405.950\n",
       "apr         -159.9673    131.546     -1.216      0.227    -420.770     100.835\n",
       "may          104.7032    131.535      0.796      0.428    -156.077     365.483\n",
       "jun          -13.0195    131.528     -0.099      0.921    -273.786     247.747\n",
       "jul           91.6428    131.526      0.697      0.487    -169.120     352.405\n",
       "aug           42.0477    131.528      0.320      0.750    -218.719     302.814\n",
       "sep          171.6832    131.535      1.305      0.195     -89.097     432.463\n",
       "oct          110.5809    131.546      0.841      0.402    -150.221     371.383\n",
       "nov          -23.3848    131.561     -0.178      0.859    -284.218     237.449\n",
       "dec           78.2496    131.582      0.595      0.553    -182.624     339.123\n",
       "==============================================================================\n",
       "Omnibus:                        9.509   Durbin-Watson:                   1.444\n",
       "Prob(Omnibus):                  0.009   Jarque-Bera (JB):                9.611\n",
       "Skew:                           0.684   Prob(JB):                      0.00818\n",
       "Kurtosis:                       3.261   Cond. No.                         901.\n",
       "==============================================================================\n",
       "\n",
       "Notes:\n",
       "[1] Standard Errors assume that the covariance matrix of the errors is correctly specified.\n",
       "\"\"\""
      ]
     },
     "execution_count": 31,
     "metadata": {},
     "output_type": "execute_result"
    }
   ],
   "source": [
    "X = sm.add_constant(barium_trim[[\"t\", \"feb\", \"mar\", \"apr\", \"may\", \"jun\",\n",
    "                                 \"jul\", \"aug\", \"sep\", \"oct\", \"nov\", \"dec\"]])\n",
    "model = sm.OLS(barium_trim.chnimp, X, missing=\"drop\").fit()\n",
    "model.summary()"
   ]
  },
  {
   "cell_type": "code",
   "execution_count": 32,
   "id": "5b1cb115-05d2-4d20-8ab9-34e716963031",
   "metadata": {},
   "outputs": [
    {
     "data": {
      "text/plain": [
       "<class 'statsmodels.stats.contrast.ContrastResults'>\n",
       "<F test: F=1.1548116402471562, p=0.32745779990611446, df_denom=106, df_num=11>"
      ]
     },
     "execution_count": 32,
     "metadata": {},
     "output_type": "execute_result"
    }
   ],
   "source": [
    "model.f_test(\"feb=mar=apr=may=jun=jul=aug=sep=oct=nov=dec=0\")"
   ]
  },
  {
   "cell_type": "markdown",
   "id": "1a1a2327-3982-46b8-b82c-8ee86342ce48",
   "metadata": {},
   "source": [
    "C7.i Results above. The standard error of the regression is 288.33.\n",
    "\n",
    "C7.ii Results above. The standard error for the AR(1) regression is 308.17. Based on the standard errors for the two regressions, the linear time trend has the better in-sample fit becasue of the lower standard error.\n",
    "\n",
    "C7.iii The RSME for the linear time trend is 315.5 while the AR(1) is 388.65 (MAE is 201.93 and 246.13 respectively). Again, the linear time trend has the better performance, though in this case it is the out-of-sample fit.\n",
    "\n",
    "C7.iv Results from the dummies above. The p-value for the f-test is 0.33. We do not have any evidence for seasonal effects."
   ]
  },
  {
   "cell_type": "code",
   "execution_count": 33,
   "id": "d3007c0d-385c-465c-9372-447e24832b77",
   "metadata": {},
   "outputs": [
    {
     "data": {
      "text/plain": [
       "<AxesSubplot:xlabel='year'>"
      ]
     },
     "execution_count": 33,
     "metadata": {},
     "output_type": "execute_result"
    },
    {
     "data": {
      "image/png": "[encoded data removed]",
      "text/plain": [
       "<Figure size 640x480 with 1 Axes>"
      ]
     },
     "metadata": {},
     "output_type": "display_data"
    }
   ],
   "source": [
    "# Exercise 8\n",
    "fertil = pd.read_stata(\"./stata/FERTIL3.DTA\")\n",
    "fertil[\"t_sq\"] = fertil[\"t\"].astype(\"int64\") ** 2\n",
    "fertil[\"t_cu\"] = fertil[\"t\"].astype(\"int64\") ** 3\n",
    "fertil[\"gfr_2\"] = fertil[\"gfr_1\"].shift(1)\n",
    "fertil_1979 = fertil[fertil[\"year\"] <= 1979]\n",
    "fertil_1980 = fertil[fertil[\"year\"] > 1979]\n",
    "fertil.plot(\"year\", \"gfr\")"
   ]
  },
  {
   "cell_type": "code",
   "execution_count": 34,
   "id": "4f72d664-a3a1-40a2-8230-86e685bb50d7",
   "metadata": {},
   "outputs": [
    {
     "data": {
      "text/html": [
       "<table class=\"simpletable\">\n",
       "<caption>OLS Regression Results</caption>\n",
       "<tr>\n",
       "  <th>Dep. Variable:</th>           <td>gfr</td>       <th>  R-squared:         </th> <td>   0.739</td>\n",
       "</tr>\n",
       "<tr>\n",
       "  <th>Model:</th>                   <td>OLS</td>       <th>  Adj. R-squared:    </th> <td>   0.727</td>\n",
       "</tr>\n",
       "<tr>\n",
       "  <th>Method:</th>             <td>Least Squares</td>  <th>  F-statistic:       </th> <td>   59.47</td>\n",
       "</tr>\n",
       "<tr>\n",
       "  <th>Date:</th>             <td>Mon, 28 Nov 2022</td> <th>  Prob (F-statistic):</th> <td>2.32e-18</td>\n",
       "</tr>\n",
       "<tr>\n",
       "  <th>Time:</th>                 <td>12:01:03</td>     <th>  Log-Likelihood:    </th> <td> -246.23</td>\n",
       "</tr>\n",
       "<tr>\n",
       "  <th>No. Observations:</th>      <td>    67</td>      <th>  AIC:               </th> <td>   500.5</td>\n",
       "</tr>\n",
       "<tr>\n",
       "  <th>Df Residuals:</th>          <td>    63</td>      <th>  BIC:               </th> <td>   509.3</td>\n",
       "</tr>\n",
       "<tr>\n",
       "  <th>Df Model:</th>              <td>     3</td>      <th>                     </th>     <td> </td>   \n",
       "</tr>\n",
       "<tr>\n",
       "  <th>Covariance Type:</th>      <td>nonrobust</td>    <th>                     </th>     <td> </td>   \n",
       "</tr>\n",
       "</table>\n",
       "<table class=\"simpletable\">\n",
       "<tr>\n",
       "    <td></td>       <th>coef</th>     <th>std err</th>      <th>t</th>      <th>P>|t|</th>  <th>[0.025</th>    <th>0.975]</th>  \n",
       "</tr>\n",
       "<tr>\n",
       "  <th>const</th> <td>  148.7082</td> <td>    5.093</td> <td>   29.200</td> <td> 0.000</td> <td>  138.531</td> <td>  158.885</td>\n",
       "</tr>\n",
       "<tr>\n",
       "  <th>t</th>     <td>   -6.9042</td> <td>    0.644</td> <td>  -10.724</td> <td> 0.000</td> <td>   -8.191</td> <td>   -5.618</td>\n",
       "</tr>\n",
       "<tr>\n",
       "  <th>t_sq</th>  <td>    0.2426</td> <td>    0.022</td> <td>   11.072</td> <td> 0.000</td> <td>    0.199</td> <td>    0.286</td>\n",
       "</tr>\n",
       "<tr>\n",
       "  <th>t_cu</th>  <td>   -0.0024</td> <td>    0.000</td> <td>  -11.417</td> <td> 0.000</td> <td>   -0.003</td> <td>   -0.002</td>\n",
       "</tr>\n",
       "</table>\n",
       "<table class=\"simpletable\">\n",
       "<tr>\n",
       "  <th>Omnibus:</th>       <td>26.252</td> <th>  Durbin-Watson:     </th> <td>   0.217</td>\n",
       "</tr>\n",
       "<tr>\n",
       "  <th>Prob(Omnibus):</th> <td> 0.000</td> <th>  Jarque-Bera (JB):  </th> <td>   4.601</td>\n",
       "</tr>\n",
       "<tr>\n",
       "  <th>Skew:</th>          <td> 0.022</td> <th>  Prob(JB):          </th> <td>   0.100</td>\n",
       "</tr>\n",
       "<tr>\n",
       "  <th>Kurtosis:</th>      <td> 1.717</td> <th>  Cond. No.          </th> <td>4.97e+05</td>\n",
       "</tr>\n",
       "</table><br/><br/>Notes:<br/>[1] Standard Errors assume that the covariance matrix of the errors is correctly specified.<br/>[2] The condition number is large, 4.97e+05. This might indicate that there are<br/>strong multicollinearity or other numerical problems."
      ],
      "text/plain": [
       "<class 'statsmodels.iolib.summary.Summary'>\n",
       "\"\"\"\n",
       "                            OLS Regression Results                            \n",
       "==============================================================================\n",
       "Dep. Variable:                    gfr   R-squared:                       0.739\n",
       "Model:                            OLS   Adj. R-squared:                  0.727\n",
       "Method:                 Least Squares   F-statistic:                     59.47\n",
       "Date:                Mon, 28 Nov 2022   Prob (F-statistic):           2.32e-18\n",
       "Time:                        12:01:03   Log-Likelihood:                -246.23\n",
       "No. Observations:                  67   AIC:                             500.5\n",
       "Df Residuals:                      63   BIC:                             509.3\n",
       "Df Model:                           3                                         \n",
       "Covariance Type:            nonrobust                                         \n",
       "==============================================================================\n",
       "                 coef    std err          t      P>|t|      [0.025      0.975]\n",
       "------------------------------------------------------------------------------\n",
       "const        148.7082      5.093     29.200      0.000     138.531     158.885\n",
       "t             -6.9042      0.644    -10.724      0.000      -8.191      -5.618\n",
       "t_sq           0.2426      0.022     11.072      0.000       0.199       0.286\n",
       "t_cu          -0.0024      0.000    -11.417      0.000      -0.003      -0.002\n",
       "==============================================================================\n",
       "Omnibus:                       26.252   Durbin-Watson:                   0.217\n",
       "Prob(Omnibus):                  0.000   Jarque-Bera (JB):                4.601\n",
       "Skew:                           0.022   Prob(JB):                        0.100\n",
       "Kurtosis:                       1.717   Cond. No.                     4.97e+05\n",
       "==============================================================================\n",
       "\n",
       "Notes:\n",
       "[1] Standard Errors assume that the covariance matrix of the errors is correctly specified.\n",
       "[2] The condition number is large, 4.97e+05. This might indicate that there are\n",
       "strong multicollinearity or other numerical problems.\n",
       "\"\"\""
      ]
     },
     "execution_count": 34,
     "metadata": {},
     "output_type": "execute_result"
    }
   ],
   "source": [
    "X = sm.add_constant(fertil_1979[[\"t\", \"t_sq\", \"t_cu\"]])\n",
    "model = sm.OLS(fertil_1979.gfr, X, missing=\"drop\").fit()\n",
    "model.summary()"
   ]
  },
  {
   "cell_type": "code",
   "execution_count": 35,
   "id": "75c4d93c-c2be-4cba-bd87-d907866ceb9c",
   "metadata": {},
   "outputs": [
    {
     "data": {
      "text/plain": [
       "43.016864659031214"
      ]
     },
     "execution_count": 35,
     "metadata": {},
     "output_type": "execute_result"
    }
   ],
   "source": [
    "X = sm.add_constant(fertil_1980[[\"t\", \"t_sq\", \"t_cu\"]])\n",
    "abs(model.predict(X) - fertil_1980[\"gfr\"]).sum() / len(fertil_1980[\"gfr\"])"
   ]
  },
  {
   "cell_type": "code",
   "execution_count": 36,
   "id": "31dd3996-5957-4051-94d8-1177af92e46e",
   "metadata": {},
   "outputs": [
    {
     "data": {
      "text/html": [
       "<table class=\"simpletable\">\n",
       "<caption>OLS Regression Results</caption>\n",
       "<tr>\n",
       "  <th>Dep. Variable:</th>          <td>cgfr</td>       <th>  R-squared:         </th> <td>   0.000</td>\n",
       "</tr>\n",
       "<tr>\n",
       "  <th>Model:</th>                   <td>OLS</td>       <th>  Adj. R-squared:    </th> <td>   0.000</td>\n",
       "</tr>\n",
       "<tr>\n",
       "  <th>Method:</th>             <td>Least Squares</td>  <th>  F-statistic:       </th> <td>     nan</td>\n",
       "</tr>\n",
       "<tr>\n",
       "  <th>Date:</th>             <td>Mon, 28 Nov 2022</td> <th>  Prob (F-statistic):</th>  <td>   nan</td> \n",
       "</tr>\n",
       "<tr>\n",
       "  <th>Time:</th>                 <td>12:01:04</td>     <th>  Log-Likelihood:    </th> <td> -191.08</td>\n",
       "</tr>\n",
       "<tr>\n",
       "  <th>No. Observations:</th>      <td>    66</td>      <th>  AIC:               </th> <td>   384.2</td>\n",
       "</tr>\n",
       "<tr>\n",
       "  <th>Df Residuals:</th>          <td>    65</td>      <th>  BIC:               </th> <td>   386.4</td>\n",
       "</tr>\n",
       "<tr>\n",
       "  <th>Df Model:</th>              <td>     0</td>      <th>                     </th>     <td> </td>   \n",
       "</tr>\n",
       "<tr>\n",
       "  <th>Covariance Type:</th>      <td>nonrobust</td>    <th>                     </th>     <td> </td>   \n",
       "</tr>\n",
       "</table>\n",
       "<table class=\"simpletable\">\n",
       "<tr>\n",
       "    <td></td>       <th>coef</th>     <th>std err</th>      <th>t</th>      <th>P>|t|</th>  <th>[0.025</th>    <th>0.975]</th>  \n",
       "</tr>\n",
       "<tr>\n",
       "  <th>const</th> <td>   -0.8712</td> <td>    0.543</td> <td>   -1.605</td> <td> 0.113</td> <td>   -1.955</td> <td>    0.213</td>\n",
       "</tr>\n",
       "</table>\n",
       "<table class=\"simpletable\">\n",
       "<tr>\n",
       "  <th>Omnibus:</th>       <td>18.664</td> <th>  Durbin-Watson:     </th> <td>   1.420</td>\n",
       "</tr>\n",
       "<tr>\n",
       "  <th>Prob(Omnibus):</th> <td> 0.000</td> <th>  Jarque-Bera (JB):  </th> <td>  29.618</td>\n",
       "</tr>\n",
       "<tr>\n",
       "  <th>Skew:</th>          <td> 1.020</td> <th>  Prob(JB):          </th> <td>3.70e-07</td>\n",
       "</tr>\n",
       "<tr>\n",
       "  <th>Kurtosis:</th>      <td> 5.571</td> <th>  Cond. No.          </th> <td>    1.00</td>\n",
       "</tr>\n",
       "</table><br/><br/>Notes:<br/>[1] Standard Errors assume that the covariance matrix of the errors is correctly specified."
      ],
      "text/plain": [
       "<class 'statsmodels.iolib.summary.Summary'>\n",
       "\"\"\"\n",
       "                            OLS Regression Results                            \n",
       "==============================================================================\n",
       "Dep. Variable:                   cgfr   R-squared:                       0.000\n",
       "Model:                            OLS   Adj. R-squared:                  0.000\n",
       "Method:                 Least Squares   F-statistic:                       nan\n",
       "Date:                Mon, 28 Nov 2022   Prob (F-statistic):                nan\n",
       "Time:                        12:01:04   Log-Likelihood:                -191.08\n",
       "No. Observations:                  66   AIC:                             384.2\n",
       "Df Residuals:                      65   BIC:                             386.4\n",
       "Df Model:                           0                                         \n",
       "Covariance Type:            nonrobust                                         \n",
       "==============================================================================\n",
       "                 coef    std err          t      P>|t|      [0.025      0.975]\n",
       "------------------------------------------------------------------------------\n",
       "const         -0.8712      0.543     -1.605      0.113      -1.955       0.213\n",
       "==============================================================================\n",
       "Omnibus:                       18.664   Durbin-Watson:                   1.420\n",
       "Prob(Omnibus):                  0.000   Jarque-Bera (JB):               29.618\n",
       "Skew:                           1.020   Prob(JB):                     3.70e-07\n",
       "Kurtosis:                       5.571   Cond. No.                         1.00\n",
       "==============================================================================\n",
       "\n",
       "Notes:\n",
       "[1] Standard Errors assume that the covariance matrix of the errors is correctly specified.\n",
       "\"\"\""
      ]
     },
     "execution_count": 36,
     "metadata": {},
     "output_type": "execute_result"
    }
   ],
   "source": [
    "X = np.ones(len(fertil_1979.cgfr))\n",
    "model = sm.OLS(fertil_1979.cgfr, X, missing=\"drop\").fit()\n",
    "model.summary()"
   ]
  },
  {
   "cell_type": "code",
   "execution_count": 37,
   "id": "f910e8a2-fae3-4129-bb5d-e59dc7bdf40a",
   "metadata": {},
   "outputs": [
    {
     "data": {
      "text/plain": [
       "0.8400009155273438"
      ]
     },
     "execution_count": 37,
     "metadata": {},
     "output_type": "execute_result"
    }
   ],
   "source": [
    "abs(fertil_1980.gfr - fertil_1980.gfr_1).sum() / len(fertil_1980.gfr)"
   ]
  },
  {
   "cell_type": "code",
   "execution_count": 38,
   "id": "2becf7b8-6e63-40a6-bd75-4eaa758d64d4",
   "metadata": {},
   "outputs": [
    {
     "data": {
      "text/html": [
       "<table class=\"simpletable\">\n",
       "<caption>OLS Regression Results</caption>\n",
       "<tr>\n",
       "  <th>Dep. Variable:</th>           <td>gfr</td>       <th>  R-squared:         </th> <td>   0.949</td>\n",
       "</tr>\n",
       "<tr>\n",
       "  <th>Model:</th>                   <td>OLS</td>       <th>  Adj. R-squared:    </th> <td>   0.947</td>\n",
       "</tr>\n",
       "<tr>\n",
       "  <th>Method:</th>             <td>Least Squares</td>  <th>  F-statistic:       </th> <td>   571.7</td>\n",
       "</tr>\n",
       "<tr>\n",
       "  <th>Date:</th>             <td>Mon, 28 Nov 2022</td> <th>  Prob (F-statistic):</th> <td>1.12e-40</td>\n",
       "</tr>\n",
       "<tr>\n",
       "  <th>Time:</th>                 <td>12:01:04</td>     <th>  Log-Likelihood:    </th> <td> -184.77</td>\n",
       "</tr>\n",
       "<tr>\n",
       "  <th>No. Observations:</th>      <td>    65</td>      <th>  AIC:               </th> <td>   375.5</td>\n",
       "</tr>\n",
       "<tr>\n",
       "  <th>Df Residuals:</th>          <td>    62</td>      <th>  BIC:               </th> <td>   382.1</td>\n",
       "</tr>\n",
       "<tr>\n",
       "  <th>Df Model:</th>              <td>     2</td>      <th>                     </th>     <td> </td>   \n",
       "</tr>\n",
       "<tr>\n",
       "  <th>Covariance Type:</th>      <td>nonrobust</td>    <th>                     </th>     <td> </td>   \n",
       "</tr>\n",
       "</table>\n",
       "<table class=\"simpletable\">\n",
       "<tr>\n",
       "    <td></td>       <th>coef</th>     <th>std err</th>      <th>t</th>      <th>P>|t|</th>  <th>[0.025</th>    <th>0.975]</th>  \n",
       "</tr>\n",
       "<tr>\n",
       "  <th>const</th> <td>    3.2157</td> <td>    2.924</td> <td>    1.100</td> <td> 0.276</td> <td>   -2.630</td> <td>    9.061</td>\n",
       "</tr>\n",
       "<tr>\n",
       "  <th>gfr_1</th> <td>    1.2721</td> <td>    0.120</td> <td>   10.571</td> <td> 0.000</td> <td>    1.032</td> <td>    1.513</td>\n",
       "</tr>\n",
       "<tr>\n",
       "  <th>gfr_2</th> <td>   -0.3114</td> <td>    0.121</td> <td>   -2.565</td> <td> 0.013</td> <td>   -0.554</td> <td>   -0.069</td>\n",
       "</tr>\n",
       "</table>\n",
       "<table class=\"simpletable\">\n",
       "<tr>\n",
       "  <th>Omnibus:</th>       <td>19.953</td> <th>  Durbin-Watson:     </th> <td>   1.890</td>\n",
       "</tr>\n",
       "<tr>\n",
       "  <th>Prob(Omnibus):</th> <td> 0.000</td> <th>  Jarque-Bera (JB):  </th> <td>  39.345</td>\n",
       "</tr>\n",
       "<tr>\n",
       "  <th>Skew:</th>          <td> 0.978</td> <th>  Prob(JB):          </th> <td>2.86e-09</td>\n",
       "</tr>\n",
       "<tr>\n",
       "  <th>Kurtosis:</th>      <td> 6.271</td> <th>  Cond. No.          </th> <td>    784.</td>\n",
       "</tr>\n",
       "</table><br/><br/>Notes:<br/>[1] Standard Errors assume that the covariance matrix of the errors is correctly specified."
      ],
      "text/plain": [
       "<class 'statsmodels.iolib.summary.Summary'>\n",
       "\"\"\"\n",
       "                            OLS Regression Results                            \n",
       "==============================================================================\n",
       "Dep. Variable:                    gfr   R-squared:                       0.949\n",
       "Model:                            OLS   Adj. R-squared:                  0.947\n",
       "Method:                 Least Squares   F-statistic:                     571.7\n",
       "Date:                Mon, 28 Nov 2022   Prob (F-statistic):           1.12e-40\n",
       "Time:                        12:01:04   Log-Likelihood:                -184.77\n",
       "No. Observations:                  65   AIC:                             375.5\n",
       "Df Residuals:                      62   BIC:                             382.1\n",
       "Df Model:                           2                                         \n",
       "Covariance Type:            nonrobust                                         \n",
       "==============================================================================\n",
       "                 coef    std err          t      P>|t|      [0.025      0.975]\n",
       "------------------------------------------------------------------------------\n",
       "const          3.2157      2.924      1.100      0.276      -2.630       9.061\n",
       "gfr_1          1.2721      0.120     10.571      0.000       1.032       1.513\n",
       "gfr_2         -0.3114      0.121     -2.565      0.013      -0.554      -0.069\n",
       "==============================================================================\n",
       "Omnibus:                       19.953   Durbin-Watson:                   1.890\n",
       "Prob(Omnibus):                  0.000   Jarque-Bera (JB):               39.345\n",
       "Skew:                           0.978   Prob(JB):                     2.86e-09\n",
       "Kurtosis:                       6.271   Cond. No.                         784.\n",
       "==============================================================================\n",
       "\n",
       "Notes:\n",
       "[1] Standard Errors assume that the covariance matrix of the errors is correctly specified.\n",
       "\"\"\""
      ]
     },
     "execution_count": 38,
     "metadata": {},
     "output_type": "execute_result"
    }
   ],
   "source": [
    "X = sm.add_constant(fertil_1979[[\"gfr_1\", \"gfr_2\"]])\n",
    "model = sm.OLS(fertil_1979.gfr, X, missing=\"drop\").fit()\n",
    "model.summary()"
   ]
  },
  {
   "cell_type": "code",
   "execution_count": 39,
   "id": "36437c70-d839-4ae5-840d-2c2bb75730cf",
   "metadata": {},
   "outputs": [
    {
     "data": {
      "text/plain": [
       "0.9905737391982882"
      ]
     },
     "execution_count": 39,
     "metadata": {},
     "output_type": "execute_result"
    }
   ],
   "source": [
    "X = sm.add_constant(fertil_1980[[\"gfr_1\", \"gfr_2\"]])\n",
    "abs(fertil_1980[\"gfr\"] - model.predict(X)).sum() / len(fertil_1980[\"gfr\"])"
   ]
  },
  {
   "cell_type": "markdown",
   "id": "a2b424c3-40e4-4c3e-9f52-d62c0738e516",
   "metadata": {},
   "source": [
    "C8.i Graph above. While gfr has decreased over time, it could not be called a clear downward trend (it has increased and decreased over the period).\n",
    "\n",
    "C8.ii Results above. The R-squared is quite high, suggesting the cubic time trend is a good fit.\n",
    "\n",
    "C8.iii The MAE for the one-step-ahead forecast for the cubic time trend is 43.02\n",
    "\n",
    "C8.iv The p-value for the constant is not significant even at the 10% level. We should not assume there is a drift in the random walk.\n",
    "\n",
    "C8.v The MAE was calculated by taking the difference between the lags. The MAE is considerably lower at 0.84 and so we should prefer the random walk.\n",
    "\n",
    "C8.vi Results for the AR(2) model above. The second lag is significant at the 5% level.\n",
    "\n",
    "C8.vii The MAE for the AR(2) model is 0.99, which is an improvement over the time trend, but is still now lower than the random walk. The random walk has the best out-of-sample performance of the approaches considered."
   ]
  },
  {
   "cell_type": "code",
   "execution_count": 40,
   "id": "9a2b8bbf-6dcf-47d6-a786-d22bef96fe36",
   "metadata": {},
   "outputs": [
    {
     "data": {
      "text/html": [
       "<table class=\"simpletable\">\n",
       "<caption>OLS Regression Results</caption>\n",
       "<tr>\n",
       "  <th>Dep. Variable:</th>            <td>y</td>        <th>  R-squared:         </th> <td>   0.994</td>\n",
       "</tr>\n",
       "<tr>\n",
       "  <th>Model:</th>                   <td>OLS</td>       <th>  Adj. R-squared:    </th> <td>   0.993</td>\n",
       "</tr>\n",
       "<tr>\n",
       "  <th>Method:</th>             <td>Least Squares</td>  <th>  F-statistic:       </th> <td>   2194.</td>\n",
       "</tr>\n",
       "<tr>\n",
       "  <th>Date:</th>             <td>Mon, 28 Nov 2022</td> <th>  Prob (F-statistic):</th> <td>1.31e-30</td>\n",
       "</tr>\n",
       "<tr>\n",
       "  <th>Time:</th>                 <td>12:01:05</td>     <th>  Log-Likelihood:    </th> <td> -203.33</td>\n",
       "</tr>\n",
       "<tr>\n",
       "  <th>No. Observations:</th>      <td>    30</td>      <th>  AIC:               </th> <td>   412.7</td>\n",
       "</tr>\n",
       "<tr>\n",
       "  <th>Df Residuals:</th>          <td>    27</td>      <th>  BIC:               </th> <td>   416.9</td>\n",
       "</tr>\n",
       "<tr>\n",
       "  <th>Df Model:</th>              <td>     2</td>      <th>                     </th>     <td> </td>   \n",
       "</tr>\n",
       "<tr>\n",
       "  <th>Covariance Type:</th>      <td>nonrobust</td>    <th>                     </th>     <td> </td>   \n",
       "</tr>\n",
       "</table>\n",
       "<table class=\"simpletable\">\n",
       "<tr>\n",
       "    <td></td>       <th>coef</th>     <th>std err</th>      <th>t</th>      <th>P>|t|</th>  <th>[0.025</th>    <th>0.975]</th>  \n",
       "</tr>\n",
       "<tr>\n",
       "  <th>const</th> <td> 3186.0397</td> <td> 1163.091</td> <td>    2.739</td> <td> 0.011</td> <td>  799.573</td> <td> 5572.506</td>\n",
       "</tr>\n",
       "<tr>\n",
       "  <th>t</th>     <td>  116.2376</td> <td>   46.315</td> <td>    2.510</td> <td> 0.018</td> <td>   21.208</td> <td>  211.268</td>\n",
       "</tr>\n",
       "<tr>\n",
       "  <th>y_1</th>   <td>    0.6300</td> <td>    0.148</td> <td>    4.255</td> <td> 0.000</td> <td>    0.326</td> <td>    0.934</td>\n",
       "</tr>\n",
       "</table>\n",
       "<table class=\"simpletable\">\n",
       "<tr>\n",
       "  <th>Omnibus:</th>       <td> 1.729</td> <th>  Durbin-Watson:     </th> <td>   1.651</td>\n",
       "</tr>\n",
       "<tr>\n",
       "  <th>Prob(Omnibus):</th> <td> 0.421</td> <th>  Jarque-Bera (JB):  </th> <td>   0.806</td>\n",
       "</tr>\n",
       "<tr>\n",
       "  <th>Skew:</th>          <td> 0.367</td> <th>  Prob(JB):          </th> <td>   0.668</td>\n",
       "</tr>\n",
       "<tr>\n",
       "  <th>Kurtosis:</th>      <td> 3.323</td> <th>  Cond. No.          </th> <td>3.77e+05</td>\n",
       "</tr>\n",
       "</table><br/><br/>Notes:<br/>[1] Standard Errors assume that the covariance matrix of the errors is correctly specified.<br/>[2] The condition number is large, 3.77e+05. This might indicate that there are<br/>strong multicollinearity or other numerical problems."
      ],
      "text/plain": [
       "<class 'statsmodels.iolib.summary.Summary'>\n",
       "\"\"\"\n",
       "                            OLS Regression Results                            \n",
       "==============================================================================\n",
       "Dep. Variable:                      y   R-squared:                       0.994\n",
       "Model:                            OLS   Adj. R-squared:                  0.993\n",
       "Method:                 Least Squares   F-statistic:                     2194.\n",
       "Date:                Mon, 28 Nov 2022   Prob (F-statistic):           1.31e-30\n",
       "Time:                        12:01:05   Log-Likelihood:                -203.33\n",
       "No. Observations:                  30   AIC:                             412.7\n",
       "Df Residuals:                      27   BIC:                             416.9\n",
       "Df Model:                           2                                         \n",
       "Covariance Type:            nonrobust                                         \n",
       "==============================================================================\n",
       "                 coef    std err          t      P>|t|      [0.025      0.975]\n",
       "------------------------------------------------------------------------------\n",
       "const       3186.0397   1163.091      2.739      0.011     799.573    5572.506\n",
       "t            116.2376     46.315      2.510      0.018      21.208     211.268\n",
       "y_1            0.6300      0.148      4.255      0.000       0.326       0.934\n",
       "==============================================================================\n",
       "Omnibus:                        1.729   Durbin-Watson:                   1.651\n",
       "Prob(Omnibus):                  0.421   Jarque-Bera (JB):                0.806\n",
       "Skew:                           0.367   Prob(JB):                        0.668\n",
       "Kurtosis:                       3.323   Cond. No.                     3.77e+05\n",
       "==============================================================================\n",
       "\n",
       "Notes:\n",
       "[1] Standard Errors assume that the covariance matrix of the errors is correctly specified.\n",
       "[2] The condition number is large, 3.77e+05. This might indicate that there are\n",
       "strong multicollinearity or other numerical problems.\n",
       "\"\"\""
      ]
     },
     "execution_count": 40,
     "metadata": {},
     "output_type": "execute_result"
    }
   ],
   "source": [
    "# Exercise 9\n",
    "consump = pd.read_stata(\"./stata/consump.dta\")\n",
    "consump[\"y_1\"] = consump[\"y\"].shift(1)\n",
    "consump[\"t\"] = consump.index + 1\n",
    "consump_1989 = consump[consump.year <= 1989]\n",
    "consump_1990 = consump[consump.year > 1989]\n",
    "\n",
    "X = sm.add_constant(consump_1989[[\"t\", \"y_1\"]])\n",
    "model = sm.OLS(consump_1989.y, X, missing=\"drop\").fit()\n",
    "model.summary()"
   ]
  },
  {
   "cell_type": "code",
   "execution_count": 41,
   "id": "778ce102-f5d4-4ddb-8794-dbe561582836",
   "metadata": {},
   "outputs": [
    {
     "data": {
      "text/plain": [
       "31   -178.332031\n",
       "Name: y, dtype: float32"
      ]
     },
     "execution_count": 41,
     "metadata": {},
     "output_type": "execute_result"
    }
   ],
   "source": [
    "X = sm.add_constant(consump_1990[[\"t\", \"y_1\"]])\n",
    "consump_1990.loc[consump_1990.year == 1990, \"y\"] - model.predict(X).iloc[0]"
   ]
  },
  {
   "cell_type": "code",
   "execution_count": 42,
   "id": "6385d0a8-9526-45c7-af54-b315fb4528ed",
   "metadata": {},
   "outputs": [
    {
     "data": {
      "text/plain": [
       "371.7612387046999"
      ]
     },
     "execution_count": 42,
     "metadata": {},
     "output_type": "execute_result"
    }
   ],
   "source": [
    "abs(model.predict(X) - consump_1990.y).sum() / len(consump_1990.y)"
   ]
  },
  {
   "cell_type": "code",
   "execution_count": 43,
   "id": "84b09058-173d-4be2-8005-4a151059a5a7",
   "metadata": {},
   "outputs": [
    {
     "data": {
      "text/html": [
       "<table class=\"simpletable\">\n",
       "<caption>OLS Regression Results</caption>\n",
       "<tr>\n",
       "  <th>Dep. Variable:</th>            <td>y</td>        <th>  R-squared:         </th> <td>   0.991</td>\n",
       "</tr>\n",
       "<tr>\n",
       "  <th>Model:</th>                   <td>OLS</td>       <th>  Adj. R-squared:    </th> <td>   0.990</td>\n",
       "</tr>\n",
       "<tr>\n",
       "  <th>Method:</th>             <td>Least Squares</td>  <th>  F-statistic:       </th> <td>   3046.</td>\n",
       "</tr>\n",
       "<tr>\n",
       "  <th>Date:</th>             <td>Mon, 28 Nov 2022</td> <th>  Prob (F-statistic):</th> <td>6.32e-31</td>\n",
       "</tr>\n",
       "<tr>\n",
       "  <th>Time:</th>                 <td>12:01:06</td>     <th>  Log-Likelihood:    </th> <td> -217.73</td>\n",
       "</tr>\n",
       "<tr>\n",
       "  <th>No. Observations:</th>      <td>    31</td>      <th>  AIC:               </th> <td>   439.5</td>\n",
       "</tr>\n",
       "<tr>\n",
       "  <th>Df Residuals:</th>          <td>    29</td>      <th>  BIC:               </th> <td>   442.3</td>\n",
       "</tr>\n",
       "<tr>\n",
       "  <th>Df Model:</th>              <td>     1</td>      <th>                     </th>     <td> </td>   \n",
       "</tr>\n",
       "<tr>\n",
       "  <th>Covariance Type:</th>      <td>nonrobust</td>    <th>                     </th>     <td> </td>   \n",
       "</tr>\n",
       "</table>\n",
       "<table class=\"simpletable\">\n",
       "<tr>\n",
       "    <td></td>       <th>coef</th>     <th>std err</th>      <th>t</th>      <th>P>|t|</th>  <th>[0.025</th>    <th>0.975]</th>  \n",
       "</tr>\n",
       "<tr>\n",
       "  <th>const</th> <td> 8143.1092</td> <td>  103.384</td> <td>   78.765</td> <td> 0.000</td> <td> 7931.664</td> <td> 8354.554</td>\n",
       "</tr>\n",
       "<tr>\n",
       "  <th>t</th>     <td>  311.2551</td> <td>    5.640</td> <td>   55.186</td> <td> 0.000</td> <td>  299.720</td> <td>  322.790</td>\n",
       "</tr>\n",
       "</table>\n",
       "<table class=\"simpletable\">\n",
       "<tr>\n",
       "  <th>Omnibus:</th>       <td> 3.048</td> <th>  Durbin-Watson:     </th> <td>   0.730</td>\n",
       "</tr>\n",
       "<tr>\n",
       "  <th>Prob(Omnibus):</th> <td> 0.218</td> <th>  Jarque-Bera (JB):  </th> <td>   1.754</td>\n",
       "</tr>\n",
       "<tr>\n",
       "  <th>Skew:</th>          <td>-0.300</td> <th>  Prob(JB):          </th> <td>   0.416</td>\n",
       "</tr>\n",
       "<tr>\n",
       "  <th>Kurtosis:</th>      <td> 3.999</td> <th>  Cond. No.          </th> <td>    37.7</td>\n",
       "</tr>\n",
       "</table><br/><br/>Notes:<br/>[1] Standard Errors assume that the covariance matrix of the errors is correctly specified."
      ],
      "text/plain": [
       "<class 'statsmodels.iolib.summary.Summary'>\n",
       "\"\"\"\n",
       "                            OLS Regression Results                            \n",
       "==============================================================================\n",
       "Dep. Variable:                      y   R-squared:                       0.991\n",
       "Model:                            OLS   Adj. R-squared:                  0.990\n",
       "Method:                 Least Squares   F-statistic:                     3046.\n",
       "Date:                Mon, 28 Nov 2022   Prob (F-statistic):           6.32e-31\n",
       "Time:                        12:01:06   Log-Likelihood:                -217.73\n",
       "No. Observations:                  31   AIC:                             439.5\n",
       "Df Residuals:                      29   BIC:                             442.3\n",
       "Df Model:                           1                                         \n",
       "Covariance Type:            nonrobust                                         \n",
       "==============================================================================\n",
       "                 coef    std err          t      P>|t|      [0.025      0.975]\n",
       "------------------------------------------------------------------------------\n",
       "const       8143.1092    103.384     78.765      0.000    7931.664    8354.554\n",
       "t            311.2551      5.640     55.186      0.000     299.720     322.790\n",
       "==============================================================================\n",
       "Omnibus:                        3.048   Durbin-Watson:                   0.730\n",
       "Prob(Omnibus):                  0.218   Jarque-Bera (JB):                1.754\n",
       "Skew:                          -0.300   Prob(JB):                        0.416\n",
       "Kurtosis:                       3.999   Cond. No.                         37.7\n",
       "==============================================================================\n",
       "\n",
       "Notes:\n",
       "[1] Standard Errors assume that the covariance matrix of the errors is correctly specified.\n",
       "\"\"\""
      ]
     },
     "execution_count": 43,
     "metadata": {},
     "output_type": "execute_result"
    }
   ],
   "source": [
    "X = sm.add_constant(consump_1989[[\"t\"]])\n",
    "model = sm.OLS(consump_1989.y, X, missing=\"drop\").fit()\n",
    "model.summary()"
   ]
  },
  {
   "cell_type": "code",
   "execution_count": 44,
   "id": "023e74fa-e3f9-47da-b6e0-ab532c5aae2e",
   "metadata": {},
   "outputs": [
    {
     "data": {
      "text/plain": [
       "718.2621857673876"
      ]
     },
     "execution_count": 44,
     "metadata": {},
     "output_type": "execute_result"
    }
   ],
   "source": [
    "X = sm.add_constant(consump_1990[[\"t\"]])\n",
    "abs(model.predict(X) - consump_1990.y).sum() / len(consump_1990.y)"
   ]
  },
  {
   "cell_type": "markdown",
   "id": "b4403332-b1c3-48a8-8f7c-9b3f2453fd6f",
   "metadata": {},
   "source": [
    "C9.i Results above\n",
    "\n",
    "C9.ii The error is -178.33\n",
    "\n",
    "C9.iii The MAE for the one-step-ahead forecast is 371.76\n",
    "\n",
    "C9.iv Dropping the lag of real per capita disposable income results in a MAE of 718.26. This is considerably higher and so we should prefer the original."
   ]
  },
  {
   "cell_type": "code",
   "execution_count": 45,
   "id": "446fab15-bc7c-42ea-bbaa-a423802eabb4",
   "metadata": {},
   "outputs": [
    {
     "data": {
      "text/html": [
       "<table class=\"simpletable\">\n",
       "<caption>OLS Regression Results</caption>\n",
       "<tr>\n",
       "  <th>Dep. Variable:</th>           <td>cr6</td>       <th>  R-squared:         </th> <td>   0.032</td>\n",
       "</tr>\n",
       "<tr>\n",
       "  <th>Model:</th>                   <td>OLS</td>       <th>  Adj. R-squared:    </th> <td>   0.023</td>\n",
       "</tr>\n",
       "<tr>\n",
       "  <th>Method:</th>             <td>Least Squares</td>  <th>  F-statistic:       </th> <td>   3.440</td>\n",
       "</tr>\n",
       "<tr>\n",
       "  <th>Date:</th>             <td>Mon, 28 Nov 2022</td> <th>  Prob (F-statistic):</th>  <td>0.0665</td> \n",
       "</tr>\n",
       "<tr>\n",
       "  <th>Time:</th>                 <td>12:01:06</td>     <th>  Log-Likelihood:    </th> <td> -180.79</td>\n",
       "</tr>\n",
       "<tr>\n",
       "  <th>No. Observations:</th>      <td>   106</td>      <th>  AIC:               </th> <td>   365.6</td>\n",
       "</tr>\n",
       "<tr>\n",
       "  <th>Df Residuals:</th>          <td>   104</td>      <th>  BIC:               </th> <td>   370.9</td>\n",
       "</tr>\n",
       "<tr>\n",
       "  <th>Df Model:</th>              <td>     1</td>      <th>                     </th>     <td> </td>   \n",
       "</tr>\n",
       "<tr>\n",
       "  <th>Covariance Type:</th>      <td>nonrobust</td>    <th>                     </th>     <td> </td>   \n",
       "</tr>\n",
       "</table>\n",
       "<table class=\"simpletable\">\n",
       "<tr>\n",
       "    <td></td>       <th>coef</th>     <th>std err</th>      <th>t</th>      <th>P>|t|</th>  <th>[0.025</th>    <th>0.975]</th>  \n",
       "</tr>\n",
       "<tr>\n",
       "  <th>const</th> <td>    0.0470</td> <td>    0.131</td> <td>    0.360</td> <td> 0.720</td> <td>   -0.212</td> <td>    0.306</td>\n",
       "</tr>\n",
       "<tr>\n",
       "  <th>cr6_1</th> <td>   -0.1789</td> <td>    0.096</td> <td>   -1.855</td> <td> 0.066</td> <td>   -0.370</td> <td>    0.012</td>\n",
       "</tr>\n",
       "</table>\n",
       "<table class=\"simpletable\">\n",
       "<tr>\n",
       "  <th>Omnibus:</th>       <td>39.753</td> <th>  Durbin-Watson:     </th> <td>   2.082</td>\n",
       "</tr>\n",
       "<tr>\n",
       "  <th>Prob(Omnibus):</th> <td> 0.000</td> <th>  Jarque-Bera (JB):  </th> <td> 225.844</td>\n",
       "</tr>\n",
       "<tr>\n",
       "  <th>Skew:</th>          <td>-1.021</td> <th>  Prob(JB):          </th> <td>9.09e-50</td>\n",
       "</tr>\n",
       "<tr>\n",
       "  <th>Kurtosis:</th>      <td> 9.853</td> <th>  Cond. No.          </th> <td>    1.36</td>\n",
       "</tr>\n",
       "</table><br/><br/>Notes:<br/>[1] Standard Errors assume that the covariance matrix of the errors is correctly specified."
      ],
      "text/plain": [
       "<class 'statsmodels.iolib.summary.Summary'>\n",
       "\"\"\"\n",
       "                            OLS Regression Results                            \n",
       "==============================================================================\n",
       "Dep. Variable:                    cr6   R-squared:                       0.032\n",
       "Model:                            OLS   Adj. R-squared:                  0.023\n",
       "Method:                 Least Squares   F-statistic:                     3.440\n",
       "Date:                Mon, 28 Nov 2022   Prob (F-statistic):             0.0665\n",
       "Time:                        12:01:06   Log-Likelihood:                -180.79\n",
       "No. Observations:                 106   AIC:                             365.6\n",
       "Df Residuals:                     104   BIC:                             370.9\n",
       "Df Model:                           1                                         \n",
       "Covariance Type:            nonrobust                                         \n",
       "==============================================================================\n",
       "                 coef    std err          t      P>|t|      [0.025      0.975]\n",
       "------------------------------------------------------------------------------\n",
       "const          0.0470      0.131      0.360      0.720      -0.212       0.306\n",
       "cr6_1         -0.1789      0.096     -1.855      0.066      -0.370       0.012\n",
       "==============================================================================\n",
       "Omnibus:                       39.753   Durbin-Watson:                   2.082\n",
       "Prob(Omnibus):                  0.000   Jarque-Bera (JB):              225.844\n",
       "Skew:                          -1.021   Prob(JB):                     9.09e-50\n",
       "Kurtosis:                       9.853   Cond. No.                         1.36\n",
       "==============================================================================\n",
       "\n",
       "Notes:\n",
       "[1] Standard Errors assume that the covariance matrix of the errors is correctly specified.\n",
       "\"\"\""
      ]
     },
     "execution_count": 45,
     "metadata": {},
     "output_type": "execute_result"
    }
   ],
   "source": [
    "# Exercise 10\n",
    "intqrt = pd.read_stata(\"./stata/INTQRT.DTA\")\n",
    "intqrt_pre16 = intqrt.iloc[:-16]\n",
    "intqrt_16 = intqrt.iloc[-16:]\n",
    "\n",
    "X = sm.add_constant(intqrt_pre16[\"cr6_1\"])\n",
    "model = sm.OLS(intqrt_pre16.cr6, X, missing=\"drop\").fit()\n",
    "model.summary()"
   ]
  },
  {
   "cell_type": "code",
   "execution_count": 46,
   "id": "c5519cb1-6307-439e-9daa-47a3d87b1777",
   "metadata": {},
   "outputs": [
    {
     "data": {
      "text/plain": [
       "0.7042667700541799"
      ]
     },
     "execution_count": 46,
     "metadata": {},
     "output_type": "execute_result"
    }
   ],
   "source": [
    "X = sm.add_constant(intqrt_16[\"cr6_1\"])\n",
    "np.sqrt(((intqrt_16.cr6 - model.predict(X))**2).sum() / len(intqrt_16.cr6))"
   ]
  },
  {
   "cell_type": "code",
   "execution_count": 47,
   "id": "9ec690f0-f287-4808-bf54-54648f6f7c56",
   "metadata": {},
   "outputs": [
    {
     "data": {
      "text/html": [
       "<table class=\"simpletable\">\n",
       "<caption>OLS Regression Results</caption>\n",
       "<tr>\n",
       "  <th>Dep. Variable:</th>           <td>cr6</td>       <th>  R-squared:         </th> <td>   0.076</td>\n",
       "</tr>\n",
       "<tr>\n",
       "  <th>Model:</th>                   <td>OLS</td>       <th>  Adj. R-squared:    </th> <td>   0.058</td>\n",
       "</tr>\n",
       "<tr>\n",
       "  <th>Method:</th>             <td>Least Squares</td>  <th>  F-statistic:       </th> <td>   4.212</td>\n",
       "</tr>\n",
       "<tr>\n",
       "  <th>Date:</th>             <td>Mon, 28 Nov 2022</td> <th>  Prob (F-statistic):</th>  <td>0.0174</td> \n",
       "</tr>\n",
       "<tr>\n",
       "  <th>Time:</th>                 <td>12:01:07</td>     <th>  Log-Likelihood:    </th> <td> -178.35</td>\n",
       "</tr>\n",
       "<tr>\n",
       "  <th>No. Observations:</th>      <td>   106</td>      <th>  AIC:               </th> <td>   362.7</td>\n",
       "</tr>\n",
       "<tr>\n",
       "  <th>Df Residuals:</th>          <td>   103</td>      <th>  BIC:               </th> <td>   370.7</td>\n",
       "</tr>\n",
       "<tr>\n",
       "  <th>Df Model:</th>              <td>     2</td>      <th>                     </th>     <td> </td>   \n",
       "</tr>\n",
       "<tr>\n",
       "  <th>Covariance Type:</th>      <td>nonrobust</td>    <th>                     </th>     <td> </td>   \n",
       "</tr>\n",
       "</table>\n",
       "<table class=\"simpletable\">\n",
       "<tr>\n",
       "     <td></td>        <th>coef</th>     <th>std err</th>      <th>t</th>      <th>P>|t|</th>  <th>[0.025</th>    <th>0.975]</th>  \n",
       "</tr>\n",
       "<tr>\n",
       "  <th>const</th>   <td>    0.3717</td> <td>    0.195</td> <td>    1.903</td> <td> 0.060</td> <td>   -0.016</td> <td>    0.759</td>\n",
       "</tr>\n",
       "<tr>\n",
       "  <th>cr6_1</th>   <td>   -0.1713</td> <td>    0.095</td> <td>   -1.808</td> <td> 0.074</td> <td>   -0.359</td> <td>    0.017</td>\n",
       "</tr>\n",
       "<tr>\n",
       "  <th>spr63_1</th> <td>   -1.0447</td> <td>    0.474</td> <td>   -2.204</td> <td> 0.030</td> <td>   -1.985</td> <td>   -0.105</td>\n",
       "</tr>\n",
       "</table>\n",
       "<table class=\"simpletable\">\n",
       "<tr>\n",
       "  <th>Omnibus:</th>       <td>31.471</td> <th>  Durbin-Watson:     </th> <td>   2.089</td>\n",
       "</tr>\n",
       "<tr>\n",
       "  <th>Prob(Omnibus):</th> <td> 0.000</td> <th>  Jarque-Bera (JB):  </th> <td> 211.871</td>\n",
       "</tr>\n",
       "<tr>\n",
       "  <th>Skew:</th>          <td>-0.643</td> <th>  Prob(JB):          </th> <td>9.83e-47</td>\n",
       "</tr>\n",
       "<tr>\n",
       "  <th>Kurtosis:</th>      <td> 9.806</td> <th>  Cond. No.          </th> <td>    5.27</td>\n",
       "</tr>\n",
       "</table><br/><br/>Notes:<br/>[1] Standard Errors assume that the covariance matrix of the errors is correctly specified."
      ],
      "text/plain": [
       "<class 'statsmodels.iolib.summary.Summary'>\n",
       "\"\"\"\n",
       "                            OLS Regression Results                            \n",
       "==============================================================================\n",
       "Dep. Variable:                    cr6   R-squared:                       0.076\n",
       "Model:                            OLS   Adj. R-squared:                  0.058\n",
       "Method:                 Least Squares   F-statistic:                     4.212\n",
       "Date:                Mon, 28 Nov 2022   Prob (F-statistic):             0.0174\n",
       "Time:                        12:01:07   Log-Likelihood:                -178.35\n",
       "No. Observations:                 106   AIC:                             362.7\n",
       "Df Residuals:                     103   BIC:                             370.7\n",
       "Df Model:                           2                                         \n",
       "Covariance Type:            nonrobust                                         \n",
       "==============================================================================\n",
       "                 coef    std err          t      P>|t|      [0.025      0.975]\n",
       "------------------------------------------------------------------------------\n",
       "const          0.3717      0.195      1.903      0.060      -0.016       0.759\n",
       "cr6_1         -0.1713      0.095     -1.808      0.074      -0.359       0.017\n",
       "spr63_1       -1.0447      0.474     -2.204      0.030      -1.985      -0.105\n",
       "==============================================================================\n",
       "Omnibus:                       31.471   Durbin-Watson:                   2.089\n",
       "Prob(Omnibus):                  0.000   Jarque-Bera (JB):              211.871\n",
       "Skew:                          -0.643   Prob(JB):                     9.83e-47\n",
       "Kurtosis:                       9.806   Cond. No.                         5.27\n",
       "==============================================================================\n",
       "\n",
       "Notes:\n",
       "[1] Standard Errors assume that the covariance matrix of the errors is correctly specified.\n",
       "\"\"\""
      ]
     },
     "execution_count": 47,
     "metadata": {},
     "output_type": "execute_result"
    }
   ],
   "source": [
    "X = sm.add_constant(intqrt_pre16[[\"cr6_1\", \"spr63_1\"]])\n",
    "model = sm.OLS(intqrt_pre16.cr6, X, missing=\"drop\").fit()\n",
    "model.summary()"
   ]
  },
  {
   "cell_type": "code",
   "execution_count": 48,
   "id": "318c8db1-db88-468f-8b58-58e7f0ddfc1a",
   "metadata": {},
   "outputs": [
    {
     "data": {
      "text/plain": [
       "0.7882105171302595"
      ]
     },
     "execution_count": 48,
     "metadata": {},
     "output_type": "execute_result"
    }
   ],
   "source": [
    "X = sm.add_constant(intqrt_16[[\"cr6_1\", \"spr63_1\"]])\n",
    "np.sqrt(((intqrt_16.cr6 - model.predict(X))**2).sum() / len(intqrt_16.cr6))"
   ]
  },
  {
   "cell_type": "code",
   "execution_count": 49,
   "id": "e1b21e30-0f69-4caa-a321-3eb5a8899289",
   "metadata": {},
   "outputs": [
    {
     "data": {
      "text/html": [
       "<table class=\"simpletable\">\n",
       "<caption>OLS Regression Results</caption>\n",
       "<tr>\n",
       "  <th>Dep. Variable:</th>           <td>r6</td>        <th>  R-squared:         </th> <td>   0.994</td> \n",
       "</tr>\n",
       "<tr>\n",
       "  <th>Model:</th>                   <td>OLS</td>       <th>  Adj. R-squared:    </th> <td>   0.994</td> \n",
       "</tr>\n",
       "<tr>\n",
       "  <th>Method:</th>             <td>Least Squares</td>  <th>  F-statistic:       </th> <td>1.781e+04</td>\n",
       "</tr>\n",
       "<tr>\n",
       "  <th>Date:</th>             <td>Mon, 28 Nov 2022</td> <th>  Prob (F-statistic):</th> <td>6.38e-120</td>\n",
       "</tr>\n",
       "<tr>\n",
       "  <th>Time:</th>                 <td>12:01:07</td>     <th>  Log-Likelihood:    </th> <td> -4.6904</td> \n",
       "</tr>\n",
       "<tr>\n",
       "  <th>No. Observations:</th>      <td>   108</td>      <th>  AIC:               </th> <td>   13.38</td> \n",
       "</tr>\n",
       "<tr>\n",
       "  <th>Df Residuals:</th>          <td>   106</td>      <th>  BIC:               </th> <td>   18.74</td> \n",
       "</tr>\n",
       "<tr>\n",
       "  <th>Df Model:</th>              <td>     1</td>      <th>                     </th>     <td> </td>    \n",
       "</tr>\n",
       "<tr>\n",
       "  <th>Covariance Type:</th>      <td>nonrobust</td>    <th>                     </th>     <td> </td>    \n",
       "</tr>\n",
       "</table>\n",
       "<table class=\"simpletable\">\n",
       "<tr>\n",
       "    <td></td>       <th>coef</th>     <th>std err</th>      <th>t</th>      <th>P>|t|</th>  <th>[0.025</th>    <th>0.975]</th>  \n",
       "</tr>\n",
       "<tr>\n",
       "  <th>const</th> <td>    0.1282</td> <td>    0.055</td> <td>    2.331</td> <td> 0.022</td> <td>    0.019</td> <td>    0.237</td>\n",
       "</tr>\n",
       "<tr>\n",
       "  <th>r3</th>    <td>    1.0284</td> <td>    0.008</td> <td>  133.467</td> <td> 0.000</td> <td>    1.013</td> <td>    1.044</td>\n",
       "</tr>\n",
       "</table>\n",
       "<table class=\"simpletable\">\n",
       "<tr>\n",
       "  <th>Omnibus:</th>       <td>27.701</td> <th>  Durbin-Watson:     </th> <td>   1.457</td>\n",
       "</tr>\n",
       "<tr>\n",
       "  <th>Prob(Omnibus):</th> <td> 0.000</td> <th>  Jarque-Bera (JB):  </th> <td> 223.075</td>\n",
       "</tr>\n",
       "<tr>\n",
       "  <th>Skew:</th>          <td> 0.368</td> <th>  Prob(JB):          </th> <td>3.63e-49</td>\n",
       "</tr>\n",
       "<tr>\n",
       "  <th>Kurtosis:</th>      <td>10.002</td> <th>  Cond. No.          </th> <td>    16.3</td>\n",
       "</tr>\n",
       "</table><br/><br/>Notes:<br/>[1] Standard Errors assume that the covariance matrix of the errors is correctly specified."
      ],
      "text/plain": [
       "<class 'statsmodels.iolib.summary.Summary'>\n",
       "\"\"\"\n",
       "                            OLS Regression Results                            \n",
       "==============================================================================\n",
       "Dep. Variable:                     r6   R-squared:                       0.994\n",
       "Model:                            OLS   Adj. R-squared:                  0.994\n",
       "Method:                 Least Squares   F-statistic:                 1.781e+04\n",
       "Date:                Mon, 28 Nov 2022   Prob (F-statistic):          6.38e-120\n",
       "Time:                        12:01:07   Log-Likelihood:                -4.6904\n",
       "No. Observations:                 108   AIC:                             13.38\n",
       "Df Residuals:                     106   BIC:                             18.74\n",
       "Df Model:                           1                                         \n",
       "Covariance Type:            nonrobust                                         \n",
       "==============================================================================\n",
       "                 coef    std err          t      P>|t|      [0.025      0.975]\n",
       "------------------------------------------------------------------------------\n",
       "const          0.1282      0.055      2.331      0.022       0.019       0.237\n",
       "r3             1.0284      0.008    133.467      0.000       1.013       1.044\n",
       "==============================================================================\n",
       "Omnibus:                       27.701   Durbin-Watson:                   1.457\n",
       "Prob(Omnibus):                  0.000   Jarque-Bera (JB):              223.075\n",
       "Skew:                           0.368   Prob(JB):                     3.63e-49\n",
       "Kurtosis:                      10.002   Cond. No.                         16.3\n",
       "==============================================================================\n",
       "\n",
       "Notes:\n",
       "[1] Standard Errors assume that the covariance matrix of the errors is correctly specified.\n",
       "\"\"\""
      ]
     },
     "execution_count": 49,
     "metadata": {},
     "output_type": "execute_result"
    }
   ],
   "source": [
    "X = sm.add_constant(intqrt_pre16[[\"r3\"]])\n",
    "model = sm.OLS(intqrt_pre16.r6, X, missing=\"drop\").fit()\n",
    "ci = model.params[-1]\n",
    "model.summary()"
   ]
  },
  {
   "cell_type": "code",
   "execution_count": 50,
   "id": "cc5b536c-05e5-4f23-baa9-f3e150395073",
   "metadata": {},
   "outputs": [
    {
     "data": {
      "text/html": [
       "<table class=\"simpletable\">\n",
       "<caption>OLS Regression Results</caption>\n",
       "<tr>\n",
       "  <th>Dep. Variable:</th>           <td>cr6</td>       <th>  R-squared:         </th> <td>   0.058</td>\n",
       "</tr>\n",
       "<tr>\n",
       "  <th>Model:</th>                   <td>OLS</td>       <th>  Adj. R-squared:    </th> <td>   0.040</td>\n",
       "</tr>\n",
       "<tr>\n",
       "  <th>Method:</th>             <td>Least Squares</td>  <th>  F-statistic:       </th> <td>   3.172</td>\n",
       "</tr>\n",
       "<tr>\n",
       "  <th>Date:</th>             <td>Mon, 28 Nov 2022</td> <th>  Prob (F-statistic):</th>  <td>0.0461</td> \n",
       "</tr>\n",
       "<tr>\n",
       "  <th>Time:</th>                 <td>12:01:07</td>     <th>  Log-Likelihood:    </th> <td> -179.35</td>\n",
       "</tr>\n",
       "<tr>\n",
       "  <th>No. Observations:</th>      <td>   106</td>      <th>  AIC:               </th> <td>   364.7</td>\n",
       "</tr>\n",
       "<tr>\n",
       "  <th>Df Residuals:</th>          <td>   103</td>      <th>  BIC:               </th> <td>   372.7</td>\n",
       "</tr>\n",
       "<tr>\n",
       "  <th>Df Model:</th>              <td>     2</td>      <th>                     </th>     <td> </td>   \n",
       "</tr>\n",
       "<tr>\n",
       "  <th>Covariance Type:</th>      <td>nonrobust</td>    <th>                     </th>     <td> </td>   \n",
       "</tr>\n",
       "</table>\n",
       "<table class=\"simpletable\">\n",
       "<tr>\n",
       "     <td></td>       <th>coef</th>     <th>std err</th>      <th>t</th>      <th>P>|t|</th>  <th>[0.025</th>    <th>0.975]</th>  \n",
       "</tr>\n",
       "<tr>\n",
       "  <th>const</th>  <td>    0.1578</td> <td>    0.145</td> <td>    1.086</td> <td> 0.280</td> <td>   -0.130</td> <td>    0.446</td>\n",
       "</tr>\n",
       "<tr>\n",
       "  <th>cr6_1</th>  <td>   -0.1839</td> <td>    0.096</td> <td>   -1.922</td> <td> 0.057</td> <td>   -0.374</td> <td>    0.006</td>\n",
       "</tr>\n",
       "<tr>\n",
       "  <th>corr_1</th> <td>   -0.8572</td> <td>    0.508</td> <td>   -1.686</td> <td> 0.095</td> <td>   -1.865</td> <td>    0.151</td>\n",
       "</tr>\n",
       "</table>\n",
       "<table class=\"simpletable\">\n",
       "<tr>\n",
       "  <th>Omnibus:</th>       <td>38.495</td> <th>  Durbin-Watson:     </th> <td>   2.089</td>\n",
       "</tr>\n",
       "<tr>\n",
       "  <th>Prob(Omnibus):</th> <td> 0.000</td> <th>  Jarque-Bera (JB):  </th> <td> 245.721</td>\n",
       "</tr>\n",
       "<tr>\n",
       "  <th>Skew:</th>          <td>-0.927</td> <th>  Prob(JB):          </th> <td>4.39e-54</td>\n",
       "</tr>\n",
       "<tr>\n",
       "  <th>Kurtosis:</th>      <td>10.225</td> <th>  Cond. No.          </th> <td>    5.37</td>\n",
       "</tr>\n",
       "</table><br/><br/>Notes:<br/>[1] Standard Errors assume that the covariance matrix of the errors is correctly specified."
      ],
      "text/plain": [
       "<class 'statsmodels.iolib.summary.Summary'>\n",
       "\"\"\"\n",
       "                            OLS Regression Results                            \n",
       "==============================================================================\n",
       "Dep. Variable:                    cr6   R-squared:                       0.058\n",
       "Model:                            OLS   Adj. R-squared:                  0.040\n",
       "Method:                 Least Squares   F-statistic:                     3.172\n",
       "Date:                Mon, 28 Nov 2022   Prob (F-statistic):             0.0461\n",
       "Time:                        12:01:07   Log-Likelihood:                -179.35\n",
       "No. Observations:                 106   AIC:                             364.7\n",
       "Df Residuals:                     103   BIC:                             372.7\n",
       "Df Model:                           2                                         \n",
       "Covariance Type:            nonrobust                                         \n",
       "==============================================================================\n",
       "                 coef    std err          t      P>|t|      [0.025      0.975]\n",
       "------------------------------------------------------------------------------\n",
       "const          0.1578      0.145      1.086      0.280      -0.130       0.446\n",
       "cr6_1         -0.1839      0.096     -1.922      0.057      -0.374       0.006\n",
       "corr_1        -0.8572      0.508     -1.686      0.095      -1.865       0.151\n",
       "==============================================================================\n",
       "Omnibus:                       38.495   Durbin-Watson:                   2.089\n",
       "Prob(Omnibus):                  0.000   Jarque-Bera (JB):              245.721\n",
       "Skew:                          -0.927   Prob(JB):                     4.39e-54\n",
       "Kurtosis:                      10.225   Cond. No.                         5.37\n",
       "==============================================================================\n",
       "\n",
       "Notes:\n",
       "[1] Standard Errors assume that the covariance matrix of the errors is correctly specified.\n",
       "\"\"\""
      ]
     },
     "execution_count": 50,
     "metadata": {},
     "output_type": "execute_result"
    }
   ],
   "source": [
    "intqrt[\"corr\"] = intqrt[\"r6\"] - (ci * intqrt[\"r3\"])\n",
    "intqrt[\"corr_1\"] = intqrt[\"corr\"].shift(1)\n",
    "intqrt_pre16 = intqrt.iloc[:-16]\n",
    "intqrt_16 = intqrt.iloc[-16:]\n",
    "\n",
    "X = sm.add_constant(intqrt_pre16[[\"cr6_1\", \"corr_1\"]])\n",
    "model = sm.OLS(intqrt_pre16.cr6, X, missing=\"drop\").fit()\n",
    "model.summary()"
   ]
  },
  {
   "cell_type": "code",
   "execution_count": 51,
   "id": "09e7fa5e-c569-4b1b-91ac-acaa7c903ef4",
   "metadata": {},
   "outputs": [
    {
     "data": {
      "text/plain": [
       "0.7745065880021943"
      ]
     },
     "execution_count": 51,
     "metadata": {},
     "output_type": "execute_result"
    }
   ],
   "source": [
    "X = sm.add_constant(intqrt_16[[\"cr6_1\", \"spr63_1\"]])\n",
    "np.sqrt(((intqrt_16.cr6 - model.predict(X))**2).sum() / len(intqrt_16.cr6))"
   ]
  },
  {
   "cell_type": "markdown",
   "id": "1ba5b826-af23-41bb-afa0-6375b730ef0d",
   "metadata": {},
   "source": [
    "C10.i Results above. The RSME is 0.70\n",
    "\n",
    "C10.ii Results above. The RSME is 0.79, and so the correction has not improved out-of-sample performance.\n",
    "\n",
    "C10.iii The RSME falls to 0.78 and so the out-of-sample performance has improved from part ii but not from part i.\n",
    "\n",
    "C10.iv The conclusions would not change if r6 was being predicted directly instead of the change."
   ]
  },
  {
   "cell_type": "code",
   "execution_count": 52,
   "id": "aa15c8bc-fdb6-49ee-b5d3-1366b3633352",
   "metadata": {},
   "outputs": [
    {
     "data": {
      "text/plain": [
       "(-0.7936498871132008,\n",
       " 0.8209802523027218,\n",
       " 4,\n",
       " 553,\n",
       " {'1%': -3.4422304958001386,\n",
       "  '5%': -2.866780664287393,\n",
       "  '10%': -2.5695611022893377})"
      ]
     },
     "execution_count": 52,
     "metadata": {},
     "output_type": "execute_result"
    }
   ],
   "source": [
    "# Exercise 11\n",
    "volat = pd.read_stata(\"./stata/VOLAT.DTA\")\n",
    "volat[\"lsp500\"] = np.log(volat[\"sp500\"])\n",
    "volat[\"lip\"] = np.log(volat[\"ip\"])\n",
    "\n",
    "tsa.adfuller(volat[\"lsp500\"], maxlag=4, autolag=None)"
   ]
  },
  {
   "cell_type": "code",
   "execution_count": 53,
   "id": "03e86729-7199-48bd-aa9d-71226ad05126",
   "metadata": {},
   "outputs": [
    {
     "data": {
      "text/plain": [
       "(-2.201160979857901,\n",
       " 0.48919710733183025,\n",
       " 4,\n",
       " 553,\n",
       " {'1%': -3.9752346393498446,\n",
       "  '5%': -3.4184590566681585,\n",
       "  '10%': -3.131738554850128})"
      ]
     },
     "execution_count": 53,
     "metadata": {},
     "output_type": "execute_result"
    }
   ],
   "source": [
    "tsa.adfuller(volat[\"lsp500\"], maxlag=4, autolag=None, regression=\"ct\")"
   ]
  },
  {
   "cell_type": "code",
   "execution_count": 54,
   "id": "75ff1e41-e515-4551-a3bb-b6dbeb985440",
   "metadata": {},
   "outputs": [
    {
     "data": {
      "text/plain": [
       "(-1.3716621100224609,\n",
       " 0.595783760657201,\n",
       " 4,\n",
       " 553,\n",
       " {'1%': -3.4422304958001386,\n",
       "  '5%': -2.866780664287393,\n",
       "  '10%': -2.5695611022893377})"
      ]
     },
     "execution_count": 54,
     "metadata": {},
     "output_type": "execute_result"
    }
   ],
   "source": [
    "tsa.adfuller(volat[\"lip\"], maxlag=4, autolag=None)"
   ]
  },
  {
   "cell_type": "code",
   "execution_count": 55,
   "id": "9e88972e-be8d-408a-8ffa-d0a97ef14581",
   "metadata": {},
   "outputs": [
    {
     "data": {
      "text/plain": [
       "(-2.518587527241066,\n",
       " 0.3187323648640068,\n",
       " 4,\n",
       " 553,\n",
       " {'1%': -3.9752346393498446,\n",
       "  '5%': -3.4184590566681585,\n",
       "  '10%': -3.131738554850128})"
      ]
     },
     "execution_count": 55,
     "metadata": {},
     "output_type": "execute_result"
    }
   ],
   "source": [
    "tsa.adfuller(volat[\"lip\"], maxlag=4, autolag=None, regression=\"ct\")"
   ]
  },
  {
   "cell_type": "code",
   "execution_count": 56,
   "id": "eead5584-1dde-4a33-b730-b00c04e4b878",
   "metadata": {},
   "outputs": [
    {
     "data": {
      "text/html": [
       "<table class=\"simpletable\">\n",
       "<caption>OLS Regression Results</caption>\n",
       "<tr>\n",
       "  <th>Dep. Variable:</th>         <td>lsp500</td>      <th>  R-squared:         </th> <td>   0.903</td> \n",
       "</tr>\n",
       "<tr>\n",
       "  <th>Model:</th>                   <td>OLS</td>       <th>  Adj. R-squared:    </th> <td>   0.903</td> \n",
       "</tr>\n",
       "<tr>\n",
       "  <th>Method:</th>             <td>Least Squares</td>  <th>  F-statistic:       </th> <td>   5179.</td> \n",
       "</tr>\n",
       "<tr>\n",
       "  <th>Date:</th>             <td>Mon, 28 Nov 2022</td> <th>  Prob (F-statistic):</th> <td>6.44e-284</td>\n",
       "</tr>\n",
       "<tr>\n",
       "  <th>Time:</th>                 <td>12:01:08</td>     <th>  Log-Likelihood:    </th> <td> -62.945</td> \n",
       "</tr>\n",
       "<tr>\n",
       "  <th>No. Observations:</th>      <td>   558</td>      <th>  AIC:               </th> <td>   129.9</td> \n",
       "</tr>\n",
       "<tr>\n",
       "  <th>Df Residuals:</th>          <td>   556</td>      <th>  BIC:               </th> <td>   138.5</td> \n",
       "</tr>\n",
       "<tr>\n",
       "  <th>Df Model:</th>              <td>     1</td>      <th>                     </th>     <td> </td>    \n",
       "</tr>\n",
       "<tr>\n",
       "  <th>Covariance Type:</th>      <td>nonrobust</td>    <th>                     </th>     <td> </td>    \n",
       "</tr>\n",
       "</table>\n",
       "<table class=\"simpletable\">\n",
       "<tr>\n",
       "    <td></td>       <th>coef</th>     <th>std err</th>      <th>t</th>      <th>P>|t|</th>  <th>[0.025</th>    <th>0.975]</th>  \n",
       "</tr>\n",
       "<tr>\n",
       "  <th>const</th> <td>   -2.4017</td> <td>    0.095</td> <td>  -25.153</td> <td> 0.000</td> <td>   -2.589</td> <td>   -2.214</td>\n",
       "</tr>\n",
       "<tr>\n",
       "  <th>lip</th>   <td>    1.6941</td> <td>    0.024</td> <td>   71.966</td> <td> 0.000</td> <td>    1.648</td> <td>    1.740</td>\n",
       "</tr>\n",
       "</table>\n",
       "<table class=\"simpletable\">\n",
       "<tr>\n",
       "  <th>Omnibus:</th>       <td>34.412</td> <th>  Durbin-Watson:     </th> <td>   0.020</td>\n",
       "</tr>\n",
       "<tr>\n",
       "  <th>Prob(Omnibus):</th> <td> 0.000</td> <th>  Jarque-Bera (JB):  </th> <td>  13.057</td>\n",
       "</tr>\n",
       "<tr>\n",
       "  <th>Skew:</th>          <td>-0.017</td> <th>  Prob(JB):          </th> <td> 0.00146</td>\n",
       "</tr>\n",
       "<tr>\n",
       "  <th>Kurtosis:</th>      <td> 2.251</td> <th>  Cond. No.          </th> <td>    35.7</td>\n",
       "</tr>\n",
       "</table><br/><br/>Notes:<br/>[1] Standard Errors assume that the covariance matrix of the errors is correctly specified."
      ],
      "text/plain": [
       "<class 'statsmodels.iolib.summary.Summary'>\n",
       "\"\"\"\n",
       "                            OLS Regression Results                            \n",
       "==============================================================================\n",
       "Dep. Variable:                 lsp500   R-squared:                       0.903\n",
       "Model:                            OLS   Adj. R-squared:                  0.903\n",
       "Method:                 Least Squares   F-statistic:                     5179.\n",
       "Date:                Mon, 28 Nov 2022   Prob (F-statistic):          6.44e-284\n",
       "Time:                        12:01:08   Log-Likelihood:                -62.945\n",
       "No. Observations:                 558   AIC:                             129.9\n",
       "Df Residuals:                     556   BIC:                             138.5\n",
       "Df Model:                           1                                         \n",
       "Covariance Type:            nonrobust                                         \n",
       "==============================================================================\n",
       "                 coef    std err          t      P>|t|      [0.025      0.975]\n",
       "------------------------------------------------------------------------------\n",
       "const         -2.4017      0.095    -25.153      0.000      -2.589      -2.214\n",
       "lip            1.6941      0.024     71.966      0.000       1.648       1.740\n",
       "==============================================================================\n",
       "Omnibus:                       34.412   Durbin-Watson:                   0.020\n",
       "Prob(Omnibus):                  0.000   Jarque-Bera (JB):               13.057\n",
       "Skew:                          -0.017   Prob(JB):                      0.00146\n",
       "Kurtosis:                       2.251   Cond. No.                         35.7\n",
       "==============================================================================\n",
       "\n",
       "Notes:\n",
       "[1] Standard Errors assume that the covariance matrix of the errors is correctly specified.\n",
       "\"\"\""
      ]
     },
     "execution_count": 56,
     "metadata": {},
     "output_type": "execute_result"
    }
   ],
   "source": [
    "X = sm.add_constant(volat[\"lip\"])\n",
    "model = sm.OLS(volat.lsp500, X, missing=\"drop\").fit()\n",
    "model.summary()"
   ]
  },
  {
   "cell_type": "code",
   "execution_count": 57,
   "id": "dedf764d-2d4f-4b15-bb1b-5c6e72dfe898",
   "metadata": {},
   "outputs": [
    {
     "data": {
      "text/plain": [
       "(-1.5726221205230544,\n",
       " 0.49733006505815014,\n",
       " 2,\n",
       " 555,\n",
       " {'1%': -3.44218748274498,\n",
       "  '5%': -2.8667617276005006,\n",
       "  '10%': -2.569551011281552})"
      ]
     },
     "execution_count": 57,
     "metadata": {},
     "output_type": "execute_result"
    }
   ],
   "source": [
    "tsa.adfuller(model.resid, maxlag=2, autolag=None)"
   ]
  },
  {
   "cell_type": "code",
   "execution_count": 58,
   "id": "87515138-3a57-4398-8e1c-e3750f2e4bae",
   "metadata": {},
   "outputs": [
    {
     "data": {
      "text/html": [
       "<table class=\"simpletable\">\n",
       "<caption>OLS Regression Results</caption>\n",
       "<tr>\n",
       "  <th>Dep. Variable:</th>         <td>lsp500</td>      <th>  R-squared:         </th> <td>   0.922</td> \n",
       "</tr>\n",
       "<tr>\n",
       "  <th>Model:</th>                   <td>OLS</td>       <th>  Adj. R-squared:    </th> <td>   0.921</td> \n",
       "</tr>\n",
       "<tr>\n",
       "  <th>Method:</th>             <td>Least Squares</td>  <th>  F-statistic:       </th> <td>   3260.</td> \n",
       "</tr>\n",
       "<tr>\n",
       "  <th>Date:</th>             <td>Mon, 28 Nov 2022</td> <th>  Prob (F-statistic):</th> <td>1.80e-307</td>\n",
       "</tr>\n",
       "<tr>\n",
       "  <th>Time:</th>                 <td>12:01:09</td>     <th>  Log-Likelihood:    </th> <td> -3.8902</td> \n",
       "</tr>\n",
       "<tr>\n",
       "  <th>No. Observations:</th>      <td>   558</td>      <th>  AIC:               </th> <td>   13.78</td> \n",
       "</tr>\n",
       "<tr>\n",
       "  <th>Df Residuals:</th>          <td>   555</td>      <th>  BIC:               </th> <td>   26.75</td> \n",
       "</tr>\n",
       "<tr>\n",
       "  <th>Df Model:</th>              <td>     2</td>      <th>                     </th>     <td> </td>    \n",
       "</tr>\n",
       "<tr>\n",
       "  <th>Covariance Type:</th>      <td>nonrobust</td>    <th>                     </th>     <td> </td>    \n",
       "</tr>\n",
       "</table>\n",
       "<table class=\"simpletable\">\n",
       "<tr>\n",
       "    <td></td>       <th>coef</th>     <th>std err</th>      <th>t</th>      <th>P>|t|</th>  <th>[0.025</th>    <th>0.975]</th>  \n",
       "</tr>\n",
       "<tr>\n",
       "  <th>const</th> <td>    1.8738</td> <td>    0.384</td> <td>    4.885</td> <td> 0.000</td> <td>    1.120</td> <td>    2.627</td>\n",
       "</tr>\n",
       "<tr>\n",
       "  <th>lip</th>   <td>    0.3439</td> <td>    0.120</td> <td>    2.867</td> <td> 0.004</td> <td>    0.108</td> <td>    0.579</td>\n",
       "</tr>\n",
       "<tr>\n",
       "  <th>t</th>     <td>    0.0042</td> <td>    0.000</td> <td>   11.438</td> <td> 0.000</td> <td>    0.003</td> <td>    0.005</td>\n",
       "</tr>\n",
       "</table>\n",
       "<table class=\"simpletable\">\n",
       "<tr>\n",
       "  <th>Omnibus:</th>       <td>952.306</td> <th>  Durbin-Watson:     </th> <td>   0.019</td>\n",
       "</tr>\n",
       "<tr>\n",
       "  <th>Prob(Omnibus):</th> <td> 0.000</td>  <th>  Jarque-Bera (JB):  </th> <td>  44.729</td>\n",
       "</tr>\n",
       "<tr>\n",
       "  <th>Skew:</th>          <td>-0.238</td>  <th>  Prob(JB):          </th> <td>1.94e-10</td>\n",
       "</tr>\n",
       "<tr>\n",
       "  <th>Kurtosis:</th>      <td> 1.697</td>  <th>  Cond. No.          </th> <td>1.25e+04</td>\n",
       "</tr>\n",
       "</table><br/><br/>Notes:<br/>[1] Standard Errors assume that the covariance matrix of the errors is correctly specified.<br/>[2] The condition number is large, 1.25e+04. This might indicate that there are<br/>strong multicollinearity or other numerical problems."
      ],
      "text/plain": [
       "<class 'statsmodels.iolib.summary.Summary'>\n",
       "\"\"\"\n",
       "                            OLS Regression Results                            \n",
       "==============================================================================\n",
       "Dep. Variable:                 lsp500   R-squared:                       0.922\n",
       "Model:                            OLS   Adj. R-squared:                  0.921\n",
       "Method:                 Least Squares   F-statistic:                     3260.\n",
       "Date:                Mon, 28 Nov 2022   Prob (F-statistic):          1.80e-307\n",
       "Time:                        12:01:09   Log-Likelihood:                -3.8902\n",
       "No. Observations:                 558   AIC:                             13.78\n",
       "Df Residuals:                     555   BIC:                             26.75\n",
       "Df Model:                           2                                         \n",
       "Covariance Type:            nonrobust                                         \n",
       "==============================================================================\n",
       "                 coef    std err          t      P>|t|      [0.025      0.975]\n",
       "------------------------------------------------------------------------------\n",
       "const          1.8738      0.384      4.885      0.000       1.120       2.627\n",
       "lip            0.3439      0.120      2.867      0.004       0.108       0.579\n",
       "t              0.0042      0.000     11.438      0.000       0.003       0.005\n",
       "==============================================================================\n",
       "Omnibus:                      952.306   Durbin-Watson:                   0.019\n",
       "Prob(Omnibus):                  0.000   Jarque-Bera (JB):               44.729\n",
       "Skew:                          -0.238   Prob(JB):                     1.94e-10\n",
       "Kurtosis:                       1.697   Cond. No.                     1.25e+04\n",
       "==============================================================================\n",
       "\n",
       "Notes:\n",
       "[1] Standard Errors assume that the covariance matrix of the errors is correctly specified.\n",
       "[2] The condition number is large, 1.25e+04. This might indicate that there are\n",
       "strong multicollinearity or other numerical problems.\n",
       "\"\"\""
      ]
     },
     "execution_count": 58,
     "metadata": {},
     "output_type": "execute_result"
    }
   ],
   "source": [
    "volat[\"t\"] = volat.index + 1\n",
    "\n",
    "X = sm.add_constant(volat[[\"lip\", \"t\"]])\n",
    "model = sm.OLS(volat.lsp500, X, missing=\"drop\").fit()\n",
    "model.summary()"
   ]
  },
  {
   "cell_type": "code",
   "execution_count": 59,
   "id": "e8d5feb9-a95b-481c-9602-b932bb18ff6f",
   "metadata": {},
   "outputs": [
    {
     "data": {
      "text/plain": [
       "(-1.8765736714934922,\n",
       " 0.3431605600069282,\n",
       " 2,\n",
       " 555,\n",
       " {'1%': -3.44218748274498,\n",
       "  '5%': -2.8667617276005006,\n",
       "  '10%': -2.569551011281552})"
      ]
     },
     "execution_count": 59,
     "metadata": {},
     "output_type": "execute_result"
    }
   ],
   "source": [
    "tsa.adfuller(model.resid, maxlag=2, autolag=None)"
   ]
  },
  {
   "cell_type": "markdown",
   "id": "76951183-9c0a-48a0-894a-53ee7c7a442d",
   "metadata": {},
   "source": [
    "C11.i The Dickey-Fuller tests are above, but difficult to read. The test statistic is the top number and the p-value is the second. None of the tests reject the null hypothesis of a unit root, even at the 10% level.\n",
    "\n",
    "C11.ii The t-statistic is very high and the $R^2$ is over 0.9. We are likely dealing with a spurious regression.\n",
    "\n",
    "C11.iii We do not find evidence to reject the null of a unit root even at the 10% level. We do not have evidence of cointegration.\n",
    "\n",
    "C11.iv Adding the time trend does not fix things. The p-value is 0.34 so we still do not have evidence of cointegration.\n",
    "\n",
    "C11.v There is no evidence that stock prices and real economic activity have a long-run equilibrium relationship. If they did, we would have expected to see cointegration."
   ]
  },
  {
   "cell_type": "code",
   "execution_count": null,
   "id": "a5c98e31-6707-4afa-b39e-71fa5d2c6481",
   "metadata": {},
   "outputs": [],
   "source": []
  }
 ],
 "metadata": {
  "kernelspec": {
   "display_name": "Python 3 (ipykernel)",
   "language": "python",
   "name": "python3"
  },
  "language_info": {
   "codemirror_mode": {
    "name": "ipython",
    "version": 3
   },
   "file_extension": ".py",
   "mimetype": "text/x-python",
   "name": "python",
   "nbconvert_exporter": "python",
   "pygments_lexer": "ipython3",
   "version": "3.9.13"
  }
 },
 "nbformat": 4,
 "nbformat_minor": 5
}
