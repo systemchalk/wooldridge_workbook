{
 "cells": [
  {
   "cell_type": "markdown",
   "id": "bf55d7c8-3fe7-4c23-b0d8-0b48928ddc09",
   "metadata": {},
   "source": [
    "# Chapter 18"
   ]
  },
  {
   "cell_type": "code",
   "execution_count": 1,
   "id": "3068768f-0e4e-46f8-bf45-1281cd3a3d65",
   "metadata": {},
   "outputs": [],
   "source": [
    "import pandas as pd\n",
    "import statsmodels.api as sm"
   ]
  },
  {
   "cell_type": "code",
   "execution_count": 2,
   "id": "1b43b8ff-9ac6-488f-80ad-292182158938",
   "metadata": {},
   "outputs": [
    {
     "data": {
      "text/html": [
       "<table class=\"simpletable\">\n",
       "<caption>OLS Regression Results</caption>\n",
       "<tr>\n",
       "  <th>Dep. Variable:</th>         <td>gprice</td>      <th>  R-squared:         </th> <td>   0.454</td>\n",
       "</tr>\n",
       "<tr>\n",
       "  <th>Model:</th>                   <td>OLS</td>       <th>  Adj. R-squared:    </th> <td>   0.450</td>\n",
       "</tr>\n",
       "<tr>\n",
       "  <th>Method:</th>             <td>Least Squares</td>  <th>  F-statistic:       </th> <td>   116.8</td>\n",
       "</tr>\n",
       "<tr>\n",
       "  <th>Date:</th>             <td>Thu, 27 Oct 2022</td> <th>  Prob (F-statistic):</th> <td>1.21e-37</td>\n",
       "</tr>\n",
       "<tr>\n",
       "  <th>Time:</th>                 <td>23:47:34</td>     <th>  Log-Likelihood:    </th> <td>  1298.5</td>\n",
       "</tr>\n",
       "<tr>\n",
       "  <th>No. Observations:</th>      <td>   284</td>      <th>  AIC:               </th> <td>  -2591.</td>\n",
       "</tr>\n",
       "<tr>\n",
       "  <th>Df Residuals:</th>          <td>   281</td>      <th>  BIC:               </th> <td>  -2580.</td>\n",
       "</tr>\n",
       "<tr>\n",
       "  <th>Df Model:</th>              <td>     2</td>      <th>                     </th>     <td> </td>   \n",
       "</tr>\n",
       "<tr>\n",
       "  <th>Covariance Type:</th>      <td>nonrobust</td>    <th>                     </th>     <td> </td>   \n",
       "</tr>\n",
       "</table>\n",
       "<table class=\"simpletable\">\n",
       "<tr>\n",
       "      <td></td>        <th>coef</th>     <th>std err</th>      <th>t</th>      <th>P>|t|</th>  <th>[0.025</th>    <th>0.975]</th>  \n",
       "</tr>\n",
       "<tr>\n",
       "  <th>const</th>    <td>    0.0013</td> <td>    0.000</td> <td>    4.675</td> <td> 0.000</td> <td>    0.001</td> <td>    0.002</td>\n",
       "</tr>\n",
       "<tr>\n",
       "  <th>gwage</th>    <td>    0.0814</td> <td>    0.031</td> <td>    2.620</td> <td> 0.009</td> <td>    0.020</td> <td>    0.143</td>\n",
       "</tr>\n",
       "<tr>\n",
       "  <th>gprice_1</th> <td>    0.6396</td> <td>    0.045</td> <td>   14.331</td> <td> 0.000</td> <td>    0.552</td> <td>    0.727</td>\n",
       "</tr>\n",
       "</table>\n",
       "<table class=\"simpletable\">\n",
       "<tr>\n",
       "  <th>Omnibus:</th>       <td>51.043</td> <th>  Durbin-Watson:     </th> <td>   2.363</td>\n",
       "</tr>\n",
       "<tr>\n",
       "  <th>Prob(Omnibus):</th> <td> 0.000</td> <th>  Jarque-Bera (JB):  </th> <td> 378.052</td>\n",
       "</tr>\n",
       "<tr>\n",
       "  <th>Skew:</th>          <td> 0.433</td> <th>  Prob(JB):          </th> <td>8.07e-83</td>\n",
       "</tr>\n",
       "<tr>\n",
       "  <th>Kurtosis:</th>      <td> 8.586</td> <th>  Cond. No.          </th> <td>    304.</td>\n",
       "</tr>\n",
       "</table><br/><br/>Notes:<br/>[1] Standard Errors assume that the covariance matrix of the errors is correctly specified."
      ],
      "text/plain": [
       "<class 'statsmodels.iolib.summary.Summary'>\n",
       "\"\"\"\n",
       "                            OLS Regression Results                            \n",
       "==============================================================================\n",
       "Dep. Variable:                 gprice   R-squared:                       0.454\n",
       "Model:                            OLS   Adj. R-squared:                  0.450\n",
       "Method:                 Least Squares   F-statistic:                     116.8\n",
       "Date:                Thu, 27 Oct 2022   Prob (F-statistic):           1.21e-37\n",
       "Time:                        23:47:34   Log-Likelihood:                 1298.5\n",
       "No. Observations:                 284   AIC:                            -2591.\n",
       "Df Residuals:                     281   BIC:                            -2580.\n",
       "Df Model:                           2                                         \n",
       "Covariance Type:            nonrobust                                         \n",
       "==============================================================================\n",
       "                 coef    std err          t      P>|t|      [0.025      0.975]\n",
       "------------------------------------------------------------------------------\n",
       "const          0.0013      0.000      4.675      0.000       0.001       0.002\n",
       "gwage          0.0814      0.031      2.620      0.009       0.020       0.143\n",
       "gprice_1       0.6396      0.045     14.331      0.000       0.552       0.727\n",
       "==============================================================================\n",
       "Omnibus:                       51.043   Durbin-Watson:                   2.363\n",
       "Prob(Omnibus):                  0.000   Jarque-Bera (JB):              378.052\n",
       "Skew:                           0.433   Prob(JB):                     8.07e-83\n",
       "Kurtosis:                       8.586   Cond. No.                         304.\n",
       "==============================================================================\n",
       "\n",
       "Notes:\n",
       "[1] Standard Errors assume that the covariance matrix of the errors is correctly specified.\n",
       "\"\"\""
      ]
     },
     "execution_count": 2,
     "metadata": {},
     "output_type": "execute_result"
    }
   ],
   "source": [
    "# Exercise 1\n",
    "wageprc = pd.read_stata(\"./stata/WAGEPRC.DTA\")\n",
    "X = sm.add_constant(wageprc[[\"gwage\", \"gprice_1\"]])\n",
    "model = sm.OLS(wageprc.gprice, X, missing=\"drop\").fit()\n",
    "model.summary()"
   ]
  },
  {
   "cell_type": "code",
   "execution_count": 5,
   "id": "a502c8ad-05a4-4778-92df-1424c3aeb812",
   "metadata": {},
   "outputs": [
    {
     "data": {
      "text/plain": [
       "0.2259784476690603"
      ]
     },
     "execution_count": 5,
     "metadata": {},
     "output_type": "execute_result"
    }
   ],
   "source": [
    "model.params[1] / (1 - model.params[2])"
   ]
  },
  {
   "cell_type": "code",
   "execution_count": 6,
   "id": "b233a7d2-32fc-4498-b632-1314efae1236",
   "metadata": {},
   "outputs": [
    {
     "data": {
      "text/html": [
       "<table class=\"simpletable\">\n",
       "<caption>OLS Regression Results</caption>\n",
       "<tr>\n",
       "  <th>Dep. Variable:</th>         <td>gprice</td>      <th>  R-squared:         </th> <td>   0.460</td>\n",
       "</tr>\n",
       "<tr>\n",
       "  <th>Model:</th>                   <td>OLS</td>       <th>  Adj. R-squared:    </th> <td>   0.454</td>\n",
       "</tr>\n",
       "<tr>\n",
       "  <th>Method:</th>             <td>Least Squares</td>  <th>  F-statistic:       </th> <td>   79.44</td>\n",
       "</tr>\n",
       "<tr>\n",
       "  <th>Date:</th>             <td>Thu, 27 Oct 2022</td> <th>  Prob (F-statistic):</th> <td>3.30e-37</td>\n",
       "</tr>\n",
       "<tr>\n",
       "  <th>Time:</th>                 <td>23:56:42</td>     <th>  Log-Likelihood:    </th> <td>  1300.1</td>\n",
       "</tr>\n",
       "<tr>\n",
       "  <th>No. Observations:</th>      <td>   284</td>      <th>  AIC:               </th> <td>  -2592.</td>\n",
       "</tr>\n",
       "<tr>\n",
       "  <th>Df Residuals:</th>          <td>   280</td>      <th>  BIC:               </th> <td>  -2578.</td>\n",
       "</tr>\n",
       "<tr>\n",
       "  <th>Df Model:</th>              <td>     3</td>      <th>                     </th>     <td> </td>   \n",
       "</tr>\n",
       "<tr>\n",
       "  <th>Covariance Type:</th>      <td>nonrobust</td>    <th>                     </th>     <td> </td>   \n",
       "</tr>\n",
       "</table>\n",
       "<table class=\"simpletable\">\n",
       "<tr>\n",
       "      <td></td>        <th>coef</th>     <th>std err</th>      <th>t</th>      <th>P>|t|</th>  <th>[0.025</th>    <th>0.975]</th>  \n",
       "</tr>\n",
       "<tr>\n",
       "  <th>const</th>    <td>    0.0011</td> <td>    0.000</td> <td>    3.613</td> <td> 0.000</td> <td>    0.000</td> <td>    0.002</td>\n",
       "</tr>\n",
       "<tr>\n",
       "  <th>gwage</th>    <td>    0.0898</td> <td>    0.031</td> <td>    2.866</td> <td> 0.004</td> <td>    0.028</td> <td>    0.151</td>\n",
       "</tr>\n",
       "<tr>\n",
       "  <th>gprice_1</th> <td>    0.6186</td> <td>    0.046</td> <td>   13.422</td> <td> 0.000</td> <td>    0.528</td> <td>    0.709</td>\n",
       "</tr>\n",
       "<tr>\n",
       "  <th>gwage_1</th>  <td>    0.0551</td> <td>    0.032</td> <td>    1.740</td> <td> 0.083</td> <td>   -0.007</td> <td>    0.117</td>\n",
       "</tr>\n",
       "</table>\n",
       "<table class=\"simpletable\">\n",
       "<tr>\n",
       "  <th>Omnibus:</th>       <td>50.774</td> <th>  Durbin-Watson:     </th> <td>   2.316</td>\n",
       "</tr>\n",
       "<tr>\n",
       "  <th>Prob(Omnibus):</th> <td> 0.000</td> <th>  Jarque-Bera (JB):  </th> <td> 347.067</td>\n",
       "</tr>\n",
       "<tr>\n",
       "  <th>Skew:</th>          <td> 0.463</td> <th>  Prob(JB):          </th> <td>4.32e-76</td>\n",
       "</tr>\n",
       "<tr>\n",
       "  <th>Kurtosis:</th>      <td> 8.336</td> <th>  Cond. No.          </th> <td>    325.</td>\n",
       "</tr>\n",
       "</table><br/><br/>Notes:<br/>[1] Standard Errors assume that the covariance matrix of the errors is correctly specified."
      ],
      "text/plain": [
       "<class 'statsmodels.iolib.summary.Summary'>\n",
       "\"\"\"\n",
       "                            OLS Regression Results                            \n",
       "==============================================================================\n",
       "Dep. Variable:                 gprice   R-squared:                       0.460\n",
       "Model:                            OLS   Adj. R-squared:                  0.454\n",
       "Method:                 Least Squares   F-statistic:                     79.44\n",
       "Date:                Thu, 27 Oct 2022   Prob (F-statistic):           3.30e-37\n",
       "Time:                        23:56:42   Log-Likelihood:                 1300.1\n",
       "No. Observations:                 284   AIC:                            -2592.\n",
       "Df Residuals:                     280   BIC:                            -2578.\n",
       "Df Model:                           3                                         \n",
       "Covariance Type:            nonrobust                                         \n",
       "==============================================================================\n",
       "                 coef    std err          t      P>|t|      [0.025      0.975]\n",
       "------------------------------------------------------------------------------\n",
       "const          0.0011      0.000      3.613      0.000       0.000       0.002\n",
       "gwage          0.0898      0.031      2.866      0.004       0.028       0.151\n",
       "gprice_1       0.6186      0.046     13.422      0.000       0.528       0.709\n",
       "gwage_1        0.0551      0.032      1.740      0.083      -0.007       0.117\n",
       "==============================================================================\n",
       "Omnibus:                       50.774   Durbin-Watson:                   2.316\n",
       "Prob(Omnibus):                  0.000   Jarque-Bera (JB):              347.067\n",
       "Skew:                           0.463   Prob(JB):                     4.32e-76\n",
       "Kurtosis:                       8.336   Cond. No.                         325.\n",
       "==============================================================================\n",
       "\n",
       "Notes:\n",
       "[1] Standard Errors assume that the covariance matrix of the errors is correctly specified.\n",
       "\"\"\""
      ]
     },
     "execution_count": 6,
     "metadata": {},
     "output_type": "execute_result"
    }
   ],
   "source": [
    "X = sm.add_constant(wageprc[[\"gwage\", \"gprice_1\", \"gwage_1\"]])\n",
    "model = sm.OLS(wageprc.gprice, X, missing=\"drop\").fit()\n",
    "model.summary()"
   ]
  },
  {
   "cell_type": "code",
   "execution_count": 8,
   "id": "414111ba-c8ec-40d0-bbf2-cce06bfb3822",
   "metadata": {},
   "outputs": [
    {
     "data": {
      "text/plain": [
       "0.3799599608144597"
      ]
     },
     "execution_count": 8,
     "metadata": {},
     "output_type": "execute_result"
    }
   ],
   "source": [
    "(model.params[1] + model.params[3]) / (1 - model.params[2])"
   ]
  },
  {
   "cell_type": "markdown",
   "id": "a7786db4-1d6f-47b2-bb4f-882d63206642",
   "metadata": {},
   "source": [
    "C1.i Estimated IP is 0.081 and estimated LRP is 0.226.\n",
    "\n",
    "C1.ii The IP in the previous problem is 0.119 and the LRP is 1.172. Both are much higher than the geometric distributed lag.\n",
    "\n",
    "C1.iii The estimated IP is 0.09 and the LRP is 0.380. These are closer to (but high) (i) and still well below the results from 5.11 (previous problem)."
   ]
  },
  {
   "cell_type": "code",
   "execution_count": null,
   "id": "616431cb-43be-42d7-9d9c-0aa392b4bf5b",
   "metadata": {},
   "outputs": [],
   "source": []
  }
 ],
 "metadata": {
  "kernelspec": {
   "display_name": "Python 3 (ipykernel)",
   "language": "python",
   "name": "python3"
  },
  "language_info": {
   "codemirror_mode": {
    "name": "ipython",
    "version": 3
   },
   "file_extension": ".py",
   "mimetype": "text/x-python",
   "name": "python",
   "nbconvert_exporter": "python",
   "pygments_lexer": "ipython3",
   "version": "3.9.12"
  }
 },
 "nbformat": 4,
 "nbformat_minor": 5
}
