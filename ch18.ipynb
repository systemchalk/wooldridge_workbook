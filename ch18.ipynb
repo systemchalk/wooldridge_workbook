{
 "cells": [
  {
   "cell_type": "markdown",
   "id": "bf55d7c8-3fe7-4c23-b0d8-0b48928ddc09",
   "metadata": {},
   "source": [
    "# Chapter 18"
   ]
  },
  {
   "cell_type": "code",
   "execution_count": 1,
   "id": "3068768f-0e4e-46f8-bf45-1281cd3a3d65",
   "metadata": {},
   "outputs": [],
   "source": [
    "import pandas as pd\n",
    "import numpy as np\n",
    "import statsmodels.api as sm"
   ]
  },
  {
   "cell_type": "code",
   "execution_count": 2,
   "id": "1b43b8ff-9ac6-488f-80ad-292182158938",
   "metadata": {},
   "outputs": [
    {
     "data": {
      "text/html": [
       "<table class=\"simpletable\">\n",
       "<caption>OLS Regression Results</caption>\n",
       "<tr>\n",
       "  <th>Dep. Variable:</th>         <td>gprice</td>      <th>  R-squared:         </th> <td>   0.454</td>\n",
       "</tr>\n",
       "<tr>\n",
       "  <th>Model:</th>                   <td>OLS</td>       <th>  Adj. R-squared:    </th> <td>   0.450</td>\n",
       "</tr>\n",
       "<tr>\n",
       "  <th>Method:</th>             <td>Least Squares</td>  <th>  F-statistic:       </th> <td>   116.8</td>\n",
       "</tr>\n",
       "<tr>\n",
       "  <th>Date:</th>             <td>Sun, 27 Nov 2022</td> <th>  Prob (F-statistic):</th> <td>1.21e-37</td>\n",
       "</tr>\n",
       "<tr>\n",
       "  <th>Time:</th>                 <td>01:26:37</td>     <th>  Log-Likelihood:    </th> <td>  1298.5</td>\n",
       "</tr>\n",
       "<tr>\n",
       "  <th>No. Observations:</th>      <td>   284</td>      <th>  AIC:               </th> <td>  -2591.</td>\n",
       "</tr>\n",
       "<tr>\n",
       "  <th>Df Residuals:</th>          <td>   281</td>      <th>  BIC:               </th> <td>  -2580.</td>\n",
       "</tr>\n",
       "<tr>\n",
       "  <th>Df Model:</th>              <td>     2</td>      <th>                     </th>     <td> </td>   \n",
       "</tr>\n",
       "<tr>\n",
       "  <th>Covariance Type:</th>      <td>nonrobust</td>    <th>                     </th>     <td> </td>   \n",
       "</tr>\n",
       "</table>\n",
       "<table class=\"simpletable\">\n",
       "<tr>\n",
       "      <td></td>        <th>coef</th>     <th>std err</th>      <th>t</th>      <th>P>|t|</th>  <th>[0.025</th>    <th>0.975]</th>  \n",
       "</tr>\n",
       "<tr>\n",
       "  <th>const</th>    <td>    0.0013</td> <td>    0.000</td> <td>    4.675</td> <td> 0.000</td> <td>    0.001</td> <td>    0.002</td>\n",
       "</tr>\n",
       "<tr>\n",
       "  <th>gwage</th>    <td>    0.0814</td> <td>    0.031</td> <td>    2.620</td> <td> 0.009</td> <td>    0.020</td> <td>    0.143</td>\n",
       "</tr>\n",
       "<tr>\n",
       "  <th>gprice_1</th> <td>    0.6396</td> <td>    0.045</td> <td>   14.331</td> <td> 0.000</td> <td>    0.552</td> <td>    0.727</td>\n",
       "</tr>\n",
       "</table>\n",
       "<table class=\"simpletable\">\n",
       "<tr>\n",
       "  <th>Omnibus:</th>       <td>51.043</td> <th>  Durbin-Watson:     </th> <td>   2.363</td>\n",
       "</tr>\n",
       "<tr>\n",
       "  <th>Prob(Omnibus):</th> <td> 0.000</td> <th>  Jarque-Bera (JB):  </th> <td> 378.052</td>\n",
       "</tr>\n",
       "<tr>\n",
       "  <th>Skew:</th>          <td> 0.433</td> <th>  Prob(JB):          </th> <td>8.07e-83</td>\n",
       "</tr>\n",
       "<tr>\n",
       "  <th>Kurtosis:</th>      <td> 8.586</td> <th>  Cond. No.          </th> <td>    304.</td>\n",
       "</tr>\n",
       "</table><br/><br/>Notes:<br/>[1] Standard Errors assume that the covariance matrix of the errors is correctly specified."
      ],
      "text/plain": [
       "<class 'statsmodels.iolib.summary.Summary'>\n",
       "\"\"\"\n",
       "                            OLS Regression Results                            \n",
       "==============================================================================\n",
       "Dep. Variable:                 gprice   R-squared:                       0.454\n",
       "Model:                            OLS   Adj. R-squared:                  0.450\n",
       "Method:                 Least Squares   F-statistic:                     116.8\n",
       "Date:                Sun, 27 Nov 2022   Prob (F-statistic):           1.21e-37\n",
       "Time:                        01:26:37   Log-Likelihood:                 1298.5\n",
       "No. Observations:                 284   AIC:                            -2591.\n",
       "Df Residuals:                     281   BIC:                            -2580.\n",
       "Df Model:                           2                                         \n",
       "Covariance Type:            nonrobust                                         \n",
       "==============================================================================\n",
       "                 coef    std err          t      P>|t|      [0.025      0.975]\n",
       "------------------------------------------------------------------------------\n",
       "const          0.0013      0.000      4.675      0.000       0.001       0.002\n",
       "gwage          0.0814      0.031      2.620      0.009       0.020       0.143\n",
       "gprice_1       0.6396      0.045     14.331      0.000       0.552       0.727\n",
       "==============================================================================\n",
       "Omnibus:                       51.043   Durbin-Watson:                   2.363\n",
       "Prob(Omnibus):                  0.000   Jarque-Bera (JB):              378.052\n",
       "Skew:                           0.433   Prob(JB):                     8.07e-83\n",
       "Kurtosis:                       8.586   Cond. No.                         304.\n",
       "==============================================================================\n",
       "\n",
       "Notes:\n",
       "[1] Standard Errors assume that the covariance matrix of the errors is correctly specified.\n",
       "\"\"\""
      ]
     },
     "execution_count": 2,
     "metadata": {},
     "output_type": "execute_result"
    }
   ],
   "source": [
    "# Exercise 1\n",
    "wageprc = pd.read_stata(\"./stata/WAGEPRC.DTA\")\n",
    "X = sm.add_constant(wageprc[[\"gwage\", \"gprice_1\"]])\n",
    "model = sm.OLS(wageprc.gprice, X, missing=\"drop\").fit()\n",
    "model.summary()"
   ]
  },
  {
   "cell_type": "code",
   "execution_count": 3,
   "id": "a502c8ad-05a4-4778-92df-1424c3aeb812",
   "metadata": {},
   "outputs": [
    {
     "data": {
      "text/plain": [
       "0.22597844766905975"
      ]
     },
     "execution_count": 3,
     "metadata": {},
     "output_type": "execute_result"
    }
   ],
   "source": [
    "model.params[1] / (1 - model.params[2])"
   ]
  },
  {
   "cell_type": "code",
   "execution_count": 4,
   "id": "b233a7d2-32fc-4498-b632-1314efae1236",
   "metadata": {},
   "outputs": [
    {
     "data": {
      "text/html": [
       "<table class=\"simpletable\">\n",
       "<caption>OLS Regression Results</caption>\n",
       "<tr>\n",
       "  <th>Dep. Variable:</th>         <td>gprice</td>      <th>  R-squared:         </th> <td>   0.460</td>\n",
       "</tr>\n",
       "<tr>\n",
       "  <th>Model:</th>                   <td>OLS</td>       <th>  Adj. R-squared:    </th> <td>   0.454</td>\n",
       "</tr>\n",
       "<tr>\n",
       "  <th>Method:</th>             <td>Least Squares</td>  <th>  F-statistic:       </th> <td>   79.44</td>\n",
       "</tr>\n",
       "<tr>\n",
       "  <th>Date:</th>             <td>Sun, 27 Nov 2022</td> <th>  Prob (F-statistic):</th> <td>3.30e-37</td>\n",
       "</tr>\n",
       "<tr>\n",
       "  <th>Time:</th>                 <td>01:26:38</td>     <th>  Log-Likelihood:    </th> <td>  1300.1</td>\n",
       "</tr>\n",
       "<tr>\n",
       "  <th>No. Observations:</th>      <td>   284</td>      <th>  AIC:               </th> <td>  -2592.</td>\n",
       "</tr>\n",
       "<tr>\n",
       "  <th>Df Residuals:</th>          <td>   280</td>      <th>  BIC:               </th> <td>  -2578.</td>\n",
       "</tr>\n",
       "<tr>\n",
       "  <th>Df Model:</th>              <td>     3</td>      <th>                     </th>     <td> </td>   \n",
       "</tr>\n",
       "<tr>\n",
       "  <th>Covariance Type:</th>      <td>nonrobust</td>    <th>                     </th>     <td> </td>   \n",
       "</tr>\n",
       "</table>\n",
       "<table class=\"simpletable\">\n",
       "<tr>\n",
       "      <td></td>        <th>coef</th>     <th>std err</th>      <th>t</th>      <th>P>|t|</th>  <th>[0.025</th>    <th>0.975]</th>  \n",
       "</tr>\n",
       "<tr>\n",
       "  <th>const</th>    <td>    0.0011</td> <td>    0.000</td> <td>    3.613</td> <td> 0.000</td> <td>    0.000</td> <td>    0.002</td>\n",
       "</tr>\n",
       "<tr>\n",
       "  <th>gwage</th>    <td>    0.0898</td> <td>    0.031</td> <td>    2.866</td> <td> 0.004</td> <td>    0.028</td> <td>    0.151</td>\n",
       "</tr>\n",
       "<tr>\n",
       "  <th>gprice_1</th> <td>    0.6186</td> <td>    0.046</td> <td>   13.422</td> <td> 0.000</td> <td>    0.528</td> <td>    0.709</td>\n",
       "</tr>\n",
       "<tr>\n",
       "  <th>gwage_1</th>  <td>    0.0551</td> <td>    0.032</td> <td>    1.740</td> <td> 0.083</td> <td>   -0.007</td> <td>    0.117</td>\n",
       "</tr>\n",
       "</table>\n",
       "<table class=\"simpletable\">\n",
       "<tr>\n",
       "  <th>Omnibus:</th>       <td>50.774</td> <th>  Durbin-Watson:     </th> <td>   2.316</td>\n",
       "</tr>\n",
       "<tr>\n",
       "  <th>Prob(Omnibus):</th> <td> 0.000</td> <th>  Jarque-Bera (JB):  </th> <td> 347.067</td>\n",
       "</tr>\n",
       "<tr>\n",
       "  <th>Skew:</th>          <td> 0.463</td> <th>  Prob(JB):          </th> <td>4.32e-76</td>\n",
       "</tr>\n",
       "<tr>\n",
       "  <th>Kurtosis:</th>      <td> 8.336</td> <th>  Cond. No.          </th> <td>    325.</td>\n",
       "</tr>\n",
       "</table><br/><br/>Notes:<br/>[1] Standard Errors assume that the covariance matrix of the errors is correctly specified."
      ],
      "text/plain": [
       "<class 'statsmodels.iolib.summary.Summary'>\n",
       "\"\"\"\n",
       "                            OLS Regression Results                            \n",
       "==============================================================================\n",
       "Dep. Variable:                 gprice   R-squared:                       0.460\n",
       "Model:                            OLS   Adj. R-squared:                  0.454\n",
       "Method:                 Least Squares   F-statistic:                     79.44\n",
       "Date:                Sun, 27 Nov 2022   Prob (F-statistic):           3.30e-37\n",
       "Time:                        01:26:38   Log-Likelihood:                 1300.1\n",
       "No. Observations:                 284   AIC:                            -2592.\n",
       "Df Residuals:                     280   BIC:                            -2578.\n",
       "Df Model:                           3                                         \n",
       "Covariance Type:            nonrobust                                         \n",
       "==============================================================================\n",
       "                 coef    std err          t      P>|t|      [0.025      0.975]\n",
       "------------------------------------------------------------------------------\n",
       "const          0.0011      0.000      3.613      0.000       0.000       0.002\n",
       "gwage          0.0898      0.031      2.866      0.004       0.028       0.151\n",
       "gprice_1       0.6186      0.046     13.422      0.000       0.528       0.709\n",
       "gwage_1        0.0551      0.032      1.740      0.083      -0.007       0.117\n",
       "==============================================================================\n",
       "Omnibus:                       50.774   Durbin-Watson:                   2.316\n",
       "Prob(Omnibus):                  0.000   Jarque-Bera (JB):              347.067\n",
       "Skew:                           0.463   Prob(JB):                     4.32e-76\n",
       "Kurtosis:                       8.336   Cond. No.                         325.\n",
       "==============================================================================\n",
       "\n",
       "Notes:\n",
       "[1] Standard Errors assume that the covariance matrix of the errors is correctly specified.\n",
       "\"\"\""
      ]
     },
     "execution_count": 4,
     "metadata": {},
     "output_type": "execute_result"
    }
   ],
   "source": [
    "X = sm.add_constant(wageprc[[\"gwage\", \"gprice_1\", \"gwage_1\"]])\n",
    "model = sm.OLS(wageprc.gprice, X, missing=\"drop\").fit()\n",
    "model.summary()"
   ]
  },
  {
   "cell_type": "code",
   "execution_count": 5,
   "id": "414111ba-c8ec-40d0-bbf2-cce06bfb3822",
   "metadata": {},
   "outputs": [
    {
     "data": {
      "text/plain": [
       "0.3799599608144582"
      ]
     },
     "execution_count": 5,
     "metadata": {},
     "output_type": "execute_result"
    }
   ],
   "source": [
    "(model.params[1] + model.params[3]) / (1 - model.params[2])"
   ]
  },
  {
   "cell_type": "markdown",
   "id": "a7786db4-1d6f-47b2-bb4f-882d63206642",
   "metadata": {},
   "source": [
    "C1.i Estimated IP is 0.081 and estimated LRP is 0.226.\n",
    "\n",
    "C1.ii The IP in the previous problem is 0.119 and the LRP is 1.172. Both are much higher than the geometric distributed lag.\n",
    "\n",
    "C1.iii The estimated IP is 0.09 and the LRP is 0.380. These are closer to (but higher than) (i) and still well below the results from 5.11 (previous problem)."
   ]
  },
  {
   "cell_type": "code",
   "execution_count": 6,
   "id": "616431cb-43be-42d7-9d9c-0aa392b4bf5b",
   "metadata": {},
   "outputs": [
    {
     "data": {
      "text/html": [
       "<table class=\"simpletable\">\n",
       "<caption>OLS Regression Results</caption>\n",
       "<tr>\n",
       "  <th>Dep. Variable:</th>         <td>ginvpc</td>      <th>  R-squared:         </th> <td>   0.437</td>\n",
       "</tr>\n",
       "<tr>\n",
       "  <th>Model:</th>                   <td>OLS</td>       <th>  Adj. R-squared:    </th> <td>   0.371</td>\n",
       "</tr>\n",
       "<tr>\n",
       "  <th>Method:</th>             <td>Least Squares</td>  <th>  F-statistic:       </th> <td>   6.592</td>\n",
       "</tr>\n",
       "<tr>\n",
       "  <th>Date:</th>             <td>Sun, 27 Nov 2022</td> <th>  Prob (F-statistic):</th> <td>0.000486</td>\n",
       "</tr>\n",
       "<tr>\n",
       "  <th>Time:</th>                 <td>01:26:38</td>     <th>  Log-Likelihood:    </th> <td>  31.647</td>\n",
       "</tr>\n",
       "<tr>\n",
       "  <th>No. Observations:</th>      <td>    39</td>      <th>  AIC:               </th> <td>  -53.29</td>\n",
       "</tr>\n",
       "<tr>\n",
       "  <th>Df Residuals:</th>          <td>    34</td>      <th>  BIC:               </th> <td>  -44.98</td>\n",
       "</tr>\n",
       "<tr>\n",
       "  <th>Df Model:</th>              <td>     4</td>      <th>                     </th>     <td> </td>   \n",
       "</tr>\n",
       "<tr>\n",
       "  <th>Covariance Type:</th>      <td>nonrobust</td>    <th>                     </th>     <td> </td>   \n",
       "</tr>\n",
       "</table>\n",
       "<table class=\"simpletable\">\n",
       "<tr>\n",
       "      <td></td>        <th>coef</th>     <th>std err</th>      <th>t</th>      <th>P>|t|</th>  <th>[0.025</th>    <th>0.975]</th>  \n",
       "</tr>\n",
       "<tr>\n",
       "  <th>const</th>    <td>   -0.7864</td> <td>    0.170</td> <td>   -4.626</td> <td> 0.000</td> <td>   -1.132</td> <td>   -0.441</td>\n",
       "</tr>\n",
       "<tr>\n",
       "  <th>linvpc_1</th> <td>   -0.9558</td> <td>    0.198</td> <td>   -4.833</td> <td> 0.000</td> <td>   -1.358</td> <td>   -0.554</td>\n",
       "</tr>\n",
       "<tr>\n",
       "  <th>ginvpc_1</th> <td>    0.5317</td> <td>    0.162</td> <td>    3.291</td> <td> 0.002</td> <td>    0.203</td> <td>    0.860</td>\n",
       "</tr>\n",
       "<tr>\n",
       "  <th>ginvpc_2</th> <td>    0.2900</td> <td>    0.165</td> <td>    1.761</td> <td> 0.087</td> <td>   -0.045</td> <td>    0.625</td>\n",
       "</tr>\n",
       "<tr>\n",
       "  <th>t</th>        <td>    0.0068</td> <td>    0.002</td> <td>    3.177</td> <td> 0.003</td> <td>    0.002</td> <td>    0.011</td>\n",
       "</tr>\n",
       "</table>\n",
       "<table class=\"simpletable\">\n",
       "<tr>\n",
       "  <th>Omnibus:</th>       <td> 0.717</td> <th>  Durbin-Watson:     </th> <td>   1.771</td>\n",
       "</tr>\n",
       "<tr>\n",
       "  <th>Prob(Omnibus):</th> <td> 0.699</td> <th>  Jarque-Bera (JB):  </th> <td>   0.330</td>\n",
       "</tr>\n",
       "<tr>\n",
       "  <th>Skew:</th>          <td>-0.223</td> <th>  Prob(JB):          </th> <td>   0.848</td>\n",
       "</tr>\n",
       "<tr>\n",
       "  <th>Kurtosis:</th>      <td> 3.058</td> <th>  Cond. No.          </th> <td>    421.</td>\n",
       "</tr>\n",
       "</table><br/><br/>Notes:<br/>[1] Standard Errors assume that the covariance matrix of the errors is correctly specified."
      ],
      "text/plain": [
       "<class 'statsmodels.iolib.summary.Summary'>\n",
       "\"\"\"\n",
       "                            OLS Regression Results                            \n",
       "==============================================================================\n",
       "Dep. Variable:                 ginvpc   R-squared:                       0.437\n",
       "Model:                            OLS   Adj. R-squared:                  0.371\n",
       "Method:                 Least Squares   F-statistic:                     6.592\n",
       "Date:                Sun, 27 Nov 2022   Prob (F-statistic):           0.000486\n",
       "Time:                        01:26:38   Log-Likelihood:                 31.647\n",
       "No. Observations:                  39   AIC:                            -53.29\n",
       "Df Residuals:                      34   BIC:                            -44.98\n",
       "Df Model:                           4                                         \n",
       "Covariance Type:            nonrobust                                         \n",
       "==============================================================================\n",
       "                 coef    std err          t      P>|t|      [0.025      0.975]\n",
       "------------------------------------------------------------------------------\n",
       "const         -0.7864      0.170     -4.626      0.000      -1.132      -0.441\n",
       "linvpc_1      -0.9558      0.198     -4.833      0.000      -1.358      -0.554\n",
       "ginvpc_1       0.5317      0.162      3.291      0.002       0.203       0.860\n",
       "ginvpc_2       0.2900      0.165      1.761      0.087      -0.045       0.625\n",
       "t              0.0068      0.002      3.177      0.003       0.002       0.011\n",
       "==============================================================================\n",
       "Omnibus:                        0.717   Durbin-Watson:                   1.771\n",
       "Prob(Omnibus):                  0.699   Jarque-Bera (JB):                0.330\n",
       "Skew:                          -0.223   Prob(JB):                        0.848\n",
       "Kurtosis:                       3.058   Cond. No.                         421.\n",
       "==============================================================================\n",
       "\n",
       "Notes:\n",
       "[1] Standard Errors assume that the covariance matrix of the errors is correctly specified.\n",
       "\"\"\""
      ]
     },
     "execution_count": 6,
     "metadata": {},
     "output_type": "execute_result"
    }
   ],
   "source": [
    "# Exercise 2\n",
    "hseinv = pd.read_stata(\"./stata/HSEINV.DTA\")\n",
    "hseinv[\"ginvpc_1\"] = hseinv[\"ginvpc\"].shift(1)\n",
    "hseinv[\"ginvpc_2\"] = hseinv[\"ginvpc\"].shift(2)\n",
    "X = sm.add_constant(hseinv[[\"linvpc_1\", \"ginvpc_1\", \"ginvpc_2\", \"t\"]])\n",
    "model = sm.OLS(hseinv.ginvpc, X, missing=\"drop\").fit()\n",
    "model.summary()"
   ]
  },
  {
   "cell_type": "code",
   "execution_count": 7,
   "id": "3592fe24-910d-4e94-9857-f250f76a4e2a",
   "metadata": {},
   "outputs": [
    {
     "data": {
      "text/html": [
       "<table class=\"simpletable\">\n",
       "<caption>OLS Regression Results</caption>\n",
       "<tr>\n",
       "  <th>Dep. Variable:</th>         <td>gprice</td>      <th>  R-squared:         </th> <td>   0.200</td>\n",
       "</tr>\n",
       "<tr>\n",
       "  <th>Model:</th>                   <td>OLS</td>       <th>  Adj. R-squared:    </th> <td>   0.106</td>\n",
       "</tr>\n",
       "<tr>\n",
       "  <th>Method:</th>             <td>Least Squares</td>  <th>  F-statistic:       </th> <td>   2.131</td>\n",
       "</tr>\n",
       "<tr>\n",
       "  <th>Date:</th>             <td>Sun, 27 Nov 2022</td> <th>  Prob (F-statistic):</th>  <td>0.0983</td> \n",
       "</tr>\n",
       "<tr>\n",
       "  <th>Time:</th>                 <td>01:26:38</td>     <th>  Log-Likelihood:    </th> <td>  105.65</td>\n",
       "</tr>\n",
       "<tr>\n",
       "  <th>No. Observations:</th>      <td>    39</td>      <th>  AIC:               </th> <td>  -201.3</td>\n",
       "</tr>\n",
       "<tr>\n",
       "  <th>Df Residuals:</th>          <td>    34</td>      <th>  BIC:               </th> <td>  -193.0</td>\n",
       "</tr>\n",
       "<tr>\n",
       "  <th>Df Model:</th>              <td>     4</td>      <th>                     </th>     <td> </td>   \n",
       "</tr>\n",
       "<tr>\n",
       "  <th>Covariance Type:</th>      <td>nonrobust</td>    <th>                     </th>     <td> </td>   \n",
       "</tr>\n",
       "</table>\n",
       "<table class=\"simpletable\">\n",
       "<tr>\n",
       "      <td></td>        <th>coef</th>     <th>std err</th>      <th>t</th>      <th>P>|t|</th>  <th>[0.025</th>    <th>0.975]</th>  \n",
       "</tr>\n",
       "<tr>\n",
       "  <th>const</th>    <td>   -0.0404</td> <td>    0.019</td> <td>   -2.071</td> <td> 0.046</td> <td>   -0.080</td> <td>   -0.001</td>\n",
       "</tr>\n",
       "<tr>\n",
       "  <th>lprice_1</th> <td>   -0.2216</td> <td>    0.092</td> <td>   -2.409</td> <td> 0.022</td> <td>   -0.409</td> <td>   -0.035</td>\n",
       "</tr>\n",
       "<tr>\n",
       "  <th>gprice_1</th> <td>    0.3276</td> <td>    0.155</td> <td>    2.111</td> <td> 0.042</td> <td>    0.012</td> <td>    0.643</td>\n",
       "</tr>\n",
       "<tr>\n",
       "  <th>gprice_2</th> <td>    0.1301</td> <td>    0.149</td> <td>    0.872</td> <td> 0.389</td> <td>   -0.173</td> <td>    0.433</td>\n",
       "</tr>\n",
       "<tr>\n",
       "  <th>t</th>        <td>    0.0010</td> <td>    0.000</td> <td>    1.995</td> <td> 0.054</td> <td>-1.82e-05</td> <td>    0.002</td>\n",
       "</tr>\n",
       "</table>\n",
       "<table class=\"simpletable\">\n",
       "<tr>\n",
       "  <th>Omnibus:</th>       <td> 1.867</td> <th>  Durbin-Watson:     </th> <td>   1.627</td>\n",
       "</tr>\n",
       "<tr>\n",
       "  <th>Prob(Omnibus):</th> <td> 0.393</td> <th>  Jarque-Bera (JB):  </th> <td>   0.914</td>\n",
       "</tr>\n",
       "<tr>\n",
       "  <th>Skew:</th>          <td>-0.064</td> <th>  Prob(JB):          </th> <td>   0.633</td>\n",
       "</tr>\n",
       "<tr>\n",
       "  <th>Kurtosis:</th>      <td> 3.739</td> <th>  Cond. No.          </th> <td>1.46e+03</td>\n",
       "</tr>\n",
       "</table><br/><br/>Notes:<br/>[1] Standard Errors assume that the covariance matrix of the errors is correctly specified.<br/>[2] The condition number is large, 1.46e+03. This might indicate that there are<br/>strong multicollinearity or other numerical problems."
      ],
      "text/plain": [
       "<class 'statsmodels.iolib.summary.Summary'>\n",
       "\"\"\"\n",
       "                            OLS Regression Results                            \n",
       "==============================================================================\n",
       "Dep. Variable:                 gprice   R-squared:                       0.200\n",
       "Model:                            OLS   Adj. R-squared:                  0.106\n",
       "Method:                 Least Squares   F-statistic:                     2.131\n",
       "Date:                Sun, 27 Nov 2022   Prob (F-statistic):             0.0983\n",
       "Time:                        01:26:38   Log-Likelihood:                 105.65\n",
       "No. Observations:                  39   AIC:                            -201.3\n",
       "Df Residuals:                      34   BIC:                            -193.0\n",
       "Df Model:                           4                                         \n",
       "Covariance Type:            nonrobust                                         \n",
       "==============================================================================\n",
       "                 coef    std err          t      P>|t|      [0.025      0.975]\n",
       "------------------------------------------------------------------------------\n",
       "const         -0.0404      0.019     -2.071      0.046      -0.080      -0.001\n",
       "lprice_1      -0.2216      0.092     -2.409      0.022      -0.409      -0.035\n",
       "gprice_1       0.3276      0.155      2.111      0.042       0.012       0.643\n",
       "gprice_2       0.1301      0.149      0.872      0.389      -0.173       0.433\n",
       "t              0.0010      0.000      1.995      0.054   -1.82e-05       0.002\n",
       "==============================================================================\n",
       "Omnibus:                        1.867   Durbin-Watson:                   1.627\n",
       "Prob(Omnibus):                  0.393   Jarque-Bera (JB):                0.914\n",
       "Skew:                          -0.064   Prob(JB):                        0.633\n",
       "Kurtosis:                       3.739   Cond. No.                     1.46e+03\n",
       "==============================================================================\n",
       "\n",
       "Notes:\n",
       "[1] Standard Errors assume that the covariance matrix of the errors is correctly specified.\n",
       "[2] The condition number is large, 1.46e+03. This might indicate that there are\n",
       "strong multicollinearity or other numerical problems.\n",
       "\"\"\""
      ]
     },
     "execution_count": 7,
     "metadata": {},
     "output_type": "execute_result"
    }
   ],
   "source": [
    "hseinv[\"gprice_1\"] = hseinv[\"gprice\"].shift(1)\n",
    "hseinv[\"gprice_2\"] = hseinv[\"gprice\"].shift(2)\n",
    "X = sm.add_constant(hseinv[[\"lprice_1\", \"gprice_1\", \"gprice_2\", \"t\"]])\n",
    "model = sm.OLS(hseinv.gprice, X, missing=\"drop\").fit()\n",
    "model.summary()"
   ]
  },
  {
   "cell_type": "markdown",
   "id": "ed5453aa-2c38-4a19-a448-c4fa6377d079",
   "metadata": {},
   "source": [
    "C2.i The t-statistic on linvpc_1 is -4.833 which is larger (in absolute value) than -3.41 from Table 18.3 and, in fact, the 1% critical value of -3.96. We can reject the null hypothesis that there is a unit root.\n",
    "\n",
    "C2.ii Using the same approach the t-statistic is -2.409 which is less (in absolute value) than any critical value we would want to use. We do not have evidence to reject the null hypothesis that there is a unit root for price.\n",
    "\n",
    "C2.iii The first test gives evidence that there is not a unit root, while the possibility is still open for log(price). It would not make sense to test for cointegration in this case."
   ]
  },
  {
   "cell_type": "code",
   "execution_count": 8,
   "id": "c38a409d-b2d0-41d2-a0da-d7b172d815d7",
   "metadata": {},
   "outputs": [
    {
     "data": {
      "text/html": [
       "<table class=\"simpletable\">\n",
       "<caption>OLS Regression Results</caption>\n",
       "<tr>\n",
       "  <th>Dep. Variable:</th>          <td>pcip</td>       <th>  R-squared:         </th> <td>   0.166</td>\n",
       "</tr>\n",
       "<tr>\n",
       "  <th>Model:</th>                   <td>OLS</td>       <th>  Adj. R-squared:    </th> <td>   0.161</td>\n",
       "</tr>\n",
       "<tr>\n",
       "  <th>Method:</th>             <td>Least Squares</td>  <th>  F-statistic:       </th> <td>   36.40</td>\n",
       "</tr>\n",
       "<tr>\n",
       "  <th>Date:</th>             <td>Sun, 27 Nov 2022</td> <th>  Prob (F-statistic):</th> <td>1.81e-21</td>\n",
       "</tr>\n",
       "<tr>\n",
       "  <th>Time:</th>                 <td>01:26:39</td>     <th>  Log-Likelihood:    </th> <td> -2167.7</td>\n",
       "</tr>\n",
       "<tr>\n",
       "  <th>No. Observations:</th>      <td>   554</td>      <th>  AIC:               </th> <td>   4343.</td>\n",
       "</tr>\n",
       "<tr>\n",
       "  <th>Df Residuals:</th>          <td>   550</td>      <th>  BIC:               </th> <td>   4361.</td>\n",
       "</tr>\n",
       "<tr>\n",
       "  <th>Df Model:</th>              <td>     3</td>      <th>                     </th>     <td> </td>   \n",
       "</tr>\n",
       "<tr>\n",
       "  <th>Covariance Type:</th>      <td>nonrobust</td>    <th>                     </th>     <td> </td>   \n",
       "</tr>\n",
       "</table>\n",
       "<table class=\"simpletable\">\n",
       "<tr>\n",
       "     <td></td>       <th>coef</th>     <th>std err</th>      <th>t</th>      <th>P>|t|</th>  <th>[0.025</th>    <th>0.975]</th>  \n",
       "</tr>\n",
       "<tr>\n",
       "  <th>const</th>  <td>    1.8042</td> <td>    0.548</td> <td>    3.292</td> <td> 0.001</td> <td>    0.728</td> <td>    2.881</td>\n",
       "</tr>\n",
       "<tr>\n",
       "  <th>pcip_1</th> <td>    0.3491</td> <td>    0.043</td> <td>    8.210</td> <td> 0.000</td> <td>    0.266</td> <td>    0.433</td>\n",
       "</tr>\n",
       "<tr>\n",
       "  <th>pcip_2</th> <td>    0.0708</td> <td>    0.045</td> <td>    1.575</td> <td> 0.116</td> <td>   -0.017</td> <td>    0.159</td>\n",
       "</tr>\n",
       "<tr>\n",
       "  <th>pcip_3</th> <td>    0.0674</td> <td>    0.043</td> <td>    1.584</td> <td> 0.114</td> <td>   -0.016</td> <td>    0.151</td>\n",
       "</tr>\n",
       "</table>\n",
       "<table class=\"simpletable\">\n",
       "<tr>\n",
       "  <th>Omnibus:</th>       <td>184.426</td> <th>  Durbin-Watson:     </th> <td>   1.999</td>\n",
       "</tr>\n",
       "<tr>\n",
       "  <th>Prob(Omnibus):</th> <td> 0.000</td>  <th>  Jarque-Bera (JB):  </th> <td>1740.263</td>\n",
       "</tr>\n",
       "<tr>\n",
       "  <th>Skew:</th>          <td> 1.179</td>  <th>  Prob(JB):          </th> <td>    0.00</td>\n",
       "</tr>\n",
       "<tr>\n",
       "  <th>Kurtosis:</th>      <td>11.356</td>  <th>  Cond. No.          </th> <td>    19.4</td>\n",
       "</tr>\n",
       "</table><br/><br/>Notes:<br/>[1] Standard Errors assume that the covariance matrix of the errors is correctly specified."
      ],
      "text/plain": [
       "<class 'statsmodels.iolib.summary.Summary'>\n",
       "\"\"\"\n",
       "                            OLS Regression Results                            \n",
       "==============================================================================\n",
       "Dep. Variable:                   pcip   R-squared:                       0.166\n",
       "Model:                            OLS   Adj. R-squared:                  0.161\n",
       "Method:                 Least Squares   F-statistic:                     36.40\n",
       "Date:                Sun, 27 Nov 2022   Prob (F-statistic):           1.81e-21\n",
       "Time:                        01:26:39   Log-Likelihood:                -2167.7\n",
       "No. Observations:                 554   AIC:                             4343.\n",
       "Df Residuals:                     550   BIC:                             4361.\n",
       "Df Model:                           3                                         \n",
       "Covariance Type:            nonrobust                                         \n",
       "==============================================================================\n",
       "                 coef    std err          t      P>|t|      [0.025      0.975]\n",
       "------------------------------------------------------------------------------\n",
       "const          1.8042      0.548      3.292      0.001       0.728       2.881\n",
       "pcip_1         0.3491      0.043      8.210      0.000       0.266       0.433\n",
       "pcip_2         0.0708      0.045      1.575      0.116      -0.017       0.159\n",
       "pcip_3         0.0674      0.043      1.584      0.114      -0.016       0.151\n",
       "==============================================================================\n",
       "Omnibus:                      184.426   Durbin-Watson:                   1.999\n",
       "Prob(Omnibus):                  0.000   Jarque-Bera (JB):             1740.263\n",
       "Skew:                           1.179   Prob(JB):                         0.00\n",
       "Kurtosis:                      11.356   Cond. No.                         19.4\n",
       "==============================================================================\n",
       "\n",
       "Notes:\n",
       "[1] Standard Errors assume that the covariance matrix of the errors is correctly specified.\n",
       "\"\"\""
      ]
     },
     "execution_count": 8,
     "metadata": {},
     "output_type": "execute_result"
    }
   ],
   "source": [
    "# Exercise 3\n",
    "volat = pd.read_stata(\"./stata/VOLAT.DTA\")\n",
    "X = sm.add_constant(volat[[\"pcip_1\", \"pcip_2\", \"pcip_3\"]])\n",
    "model = sm.OLS(volat[\"pcip\"], X, missing=\"drop\").fit()\n",
    "model.summary()"
   ]
  },
  {
   "cell_type": "code",
   "execution_count": 9,
   "id": "2024a235-09d6-4998-a596-1fddda22babe",
   "metadata": {},
   "outputs": [
    {
     "data": {
      "text/html": [
       "<table class=\"simpletable\">\n",
       "<caption>OLS Regression Results</caption>\n",
       "<tr>\n",
       "  <th>Dep. Variable:</th>          <td>pcip</td>       <th>  R-squared:         </th> <td>   0.166</td>\n",
       "</tr>\n",
       "<tr>\n",
       "  <th>Model:</th>                   <td>OLS</td>       <th>  Adj. R-squared:    </th> <td>   0.160</td>\n",
       "</tr>\n",
       "<tr>\n",
       "  <th>Method:</th>             <td>Least Squares</td>  <th>  F-statistic:       </th> <td>   27.24</td>\n",
       "</tr>\n",
       "<tr>\n",
       "  <th>Date:</th>             <td>Sun, 27 Nov 2022</td> <th>  Prob (F-statistic):</th> <td>1.22e-20</td>\n",
       "</tr>\n",
       "<tr>\n",
       "  <th>Time:</th>                 <td>01:26:39</td>     <th>  Log-Likelihood:    </th> <td> -2164.2</td>\n",
       "</tr>\n",
       "<tr>\n",
       "  <th>No. Observations:</th>      <td>   553</td>      <th>  AIC:               </th> <td>   4338.</td>\n",
       "</tr>\n",
       "<tr>\n",
       "  <th>Df Residuals:</th>          <td>   548</td>      <th>  BIC:               </th> <td>   4360.</td>\n",
       "</tr>\n",
       "<tr>\n",
       "  <th>Df Model:</th>              <td>     4</td>      <th>                     </th>     <td> </td>   \n",
       "</tr>\n",
       "<tr>\n",
       "  <th>Covariance Type:</th>      <td>nonrobust</td>    <th>                     </th>     <td> </td>   \n",
       "</tr>\n",
       "</table>\n",
       "<table class=\"simpletable\">\n",
       "<tr>\n",
       "     <td></td>       <th>coef</th>     <th>std err</th>      <th>t</th>      <th>P>|t|</th>  <th>[0.025</th>    <th>0.975]</th>  \n",
       "</tr>\n",
       "<tr>\n",
       "  <th>const</th>  <td>    1.7873</td> <td>    0.555</td> <td>    3.221</td> <td> 0.001</td> <td>    0.697</td> <td>    2.877</td>\n",
       "</tr>\n",
       "<tr>\n",
       "  <th>pcip_1</th> <td>    0.3494</td> <td>    0.043</td> <td>    8.179</td> <td> 0.000</td> <td>    0.265</td> <td>    0.433</td>\n",
       "</tr>\n",
       "<tr>\n",
       "  <th>pcip_2</th> <td>    0.0702</td> <td>    0.045</td> <td>    1.556</td> <td> 0.120</td> <td>   -0.018</td> <td>    0.159</td>\n",
       "</tr>\n",
       "<tr>\n",
       "  <th>pcip_3</th> <td>    0.0658</td> <td>    0.045</td> <td>    1.457</td> <td> 0.146</td> <td>   -0.023</td> <td>    0.154</td>\n",
       "</tr>\n",
       "<tr>\n",
       "  <th>pcip_4</th> <td>    0.0043</td> <td>    0.043</td> <td>    0.101</td> <td> 0.920</td> <td>   -0.080</td> <td>    0.088</td>\n",
       "</tr>\n",
       "</table>\n",
       "<table class=\"simpletable\">\n",
       "<tr>\n",
       "  <th>Omnibus:</th>       <td>184.693</td> <th>  Durbin-Watson:     </th> <td>   1.999</td>\n",
       "</tr>\n",
       "<tr>\n",
       "  <th>Prob(Omnibus):</th> <td> 0.000</td>  <th>  Jarque-Bera (JB):  </th> <td>1741.966</td>\n",
       "</tr>\n",
       "<tr>\n",
       "  <th>Skew:</th>          <td> 1.184</td>  <th>  Prob(JB):          </th> <td>    0.00</td>\n",
       "</tr>\n",
       "<tr>\n",
       "  <th>Kurtosis:</th>      <td>11.366</td>  <th>  Cond. No.          </th> <td>    21.1</td>\n",
       "</tr>\n",
       "</table><br/><br/>Notes:<br/>[1] Standard Errors assume that the covariance matrix of the errors is correctly specified."
      ],
      "text/plain": [
       "<class 'statsmodels.iolib.summary.Summary'>\n",
       "\"\"\"\n",
       "                            OLS Regression Results                            \n",
       "==============================================================================\n",
       "Dep. Variable:                   pcip   R-squared:                       0.166\n",
       "Model:                            OLS   Adj. R-squared:                  0.160\n",
       "Method:                 Least Squares   F-statistic:                     27.24\n",
       "Date:                Sun, 27 Nov 2022   Prob (F-statistic):           1.22e-20\n",
       "Time:                        01:26:39   Log-Likelihood:                -2164.2\n",
       "No. Observations:                 553   AIC:                             4338.\n",
       "Df Residuals:                     548   BIC:                             4360.\n",
       "Df Model:                           4                                         \n",
       "Covariance Type:            nonrobust                                         \n",
       "==============================================================================\n",
       "                 coef    std err          t      P>|t|      [0.025      0.975]\n",
       "------------------------------------------------------------------------------\n",
       "const          1.7873      0.555      3.221      0.001       0.697       2.877\n",
       "pcip_1         0.3494      0.043      8.179      0.000       0.265       0.433\n",
       "pcip_2         0.0702      0.045      1.556      0.120      -0.018       0.159\n",
       "pcip_3         0.0658      0.045      1.457      0.146      -0.023       0.154\n",
       "pcip_4         0.0043      0.043      0.101      0.920      -0.080       0.088\n",
       "==============================================================================\n",
       "Omnibus:                      184.693   Durbin-Watson:                   1.999\n",
       "Prob(Omnibus):                  0.000   Jarque-Bera (JB):             1741.966\n",
       "Skew:                           1.184   Prob(JB):                         0.00\n",
       "Kurtosis:                      11.366   Cond. No.                         21.1\n",
       "==============================================================================\n",
       "\n",
       "Notes:\n",
       "[1] Standard Errors assume that the covariance matrix of the errors is correctly specified.\n",
       "\"\"\""
      ]
     },
     "execution_count": 9,
     "metadata": {},
     "output_type": "execute_result"
    }
   ],
   "source": [
    "volat[\"pcip_4\"] = volat[\"pcip_3\"].shift(1)\n",
    "X = sm.add_constant(volat[[\"pcip_1\", \"pcip_2\", \"pcip_3\", \"pcip_4\"]])\n",
    "model = sm.OLS(volat[\"pcip\"], X, missing=\"drop\").fit()\n",
    "model.summary()"
   ]
  },
  {
   "cell_type": "code",
   "execution_count": 10,
   "id": "5e81e435-9a44-4e3f-ad50-d8f8c13ad664",
   "metadata": {},
   "outputs": [
    {
     "data": {
      "text/plain": [
       "<class 'statsmodels.stats.contrast.ContrastResults'>\n",
       "<F test: F=5.371828372897618, p=0.001190404630174995, df_denom=547, df_num=3>"
      ]
     },
     "execution_count": 10,
     "metadata": {},
     "output_type": "execute_result"
    }
   ],
   "source": [
    "X = sm.add_constant(\n",
    "    volat[[\"pcip_1\", \"pcip_2\", \"pcip_3\", \"pcsp_1\", \"pcsp_2\", \"pcsp_3\"]])\n",
    "model = sm.OLS(volat[\"pcip\"], X, missing=\"drop\").fit()\n",
    "model.f_test(\"pcsp_1 = pcsp_2 = pcsp_3 = 0\")"
   ]
  },
  {
   "cell_type": "code",
   "execution_count": 11,
   "id": "f0cab818-c62e-443f-bc36-c638505c6418",
   "metadata": {},
   "outputs": [
    {
     "data": {
      "text/plain": [
       "<class 'statsmodels.stats.contrast.ContrastResults'>\n",
       "<F test: F=5.076975015753397, p=0.0017866714063804869, df_denom=544, df_num=3>"
      ]
     },
     "execution_count": 11,
     "metadata": {},
     "output_type": "execute_result"
    }
   ],
   "source": [
    "volat[\"ci3_3\"] = volat[\"ci3_2\"].shift(1)\n",
    "X = sm.add_constant(volat[[\"pcip_1\", \"pcip_2\", \"pcip_3\", \"pcsp_1\",\n",
    "                           \"pcsp_2\", \"pcsp_3\", \"ci3_1\", \"ci3_2\", \"ci3_3\"]])\n",
    "model = sm.OLS(volat[\"pcip\"], X, missing=\"drop\").fit()\n",
    "model.f_test(\"pcsp_1 = pcsp_2 = pcsp_3 = 0\")"
   ]
  },
  {
   "cell_type": "markdown",
   "id": "dacb7f91-450f-4a24-b8f5-a04c82ebf36a",
   "metadata": {},
   "source": [
    "C3.i Results above. The 4th lag is significant at the 95% level (i.e. not at all).\n",
    "\n",
    "C3.ii The joint significance test is significant at the 1% level. The null hypothesis is that all of the coefficients for pcsp are 0 which we reject. Granger causality is defined in 18.51 ($E(y_t|I_{t-1} \\neq E(y_t|J_{t-1})$) and, since we have strong evidence that at least one of the coefficients for pcsp is not zero, we conclude that pscp Granger causes pcip.\n",
    "\n",
    "C3.iii Adding the change in the three-month T-bill does shrink the F-statistic (from 5.37 to 5.08, p-value 0.002) but the joint hypothesis test is still significant even at the 1% level. We still conclude pcsp Granger causes pcip conditional on past $\\Delta i3$."
   ]
  },
  {
   "cell_type": "code",
   "execution_count": 12,
   "id": "d525141b-4c9b-4447-877e-b864c8e87fe6",
   "metadata": {},
   "outputs": [
    {
     "data": {
      "text/html": [
       "<table class=\"simpletable\">\n",
       "<caption>OLS Regression Results</caption>\n",
       "<tr>\n",
       "  <th>Dep. Variable:</th>         <td>delta_u</td>     <th>  R-squared:         </th> <td>   0.129</td>\n",
       "</tr>\n",
       "<tr>\n",
       "  <th>Model:</th>                   <td>OLS</td>       <th>  Adj. R-squared:    </th> <td>   0.103</td>\n",
       "</tr>\n",
       "<tr>\n",
       "  <th>Method:</th>             <td>Least Squares</td>  <th>  F-statistic:       </th> <td>   4.959</td>\n",
       "</tr>\n",
       "<tr>\n",
       "  <th>Date:</th>             <td>Sun, 27 Nov 2022</td> <th>  Prob (F-statistic):</th>  <td>0.00980</td>\n",
       "</tr>\n",
       "<tr>\n",
       "  <th>Time:</th>                 <td>01:26:39</td>     <th>  Log-Likelihood:    </th> <td> -228.96</td>\n",
       "</tr>\n",
       "<tr>\n",
       "  <th>No. Observations:</th>      <td>    70</td>      <th>  AIC:               </th> <td>   463.9</td>\n",
       "</tr>\n",
       "<tr>\n",
       "  <th>Df Residuals:</th>          <td>    67</td>      <th>  BIC:               </th> <td>   470.7</td>\n",
       "</tr>\n",
       "<tr>\n",
       "  <th>Df Model:</th>              <td>     2</td>      <th>                     </th>     <td> </td>   \n",
       "</tr>\n",
       "<tr>\n",
       "  <th>Covariance Type:</th>      <td>nonrobust</td>    <th>                     </th>     <td> </td>   \n",
       "</tr>\n",
       "</table>\n",
       "<table class=\"simpletable\">\n",
       "<tr>\n",
       "      <td></td>         <th>coef</th>     <th>std err</th>      <th>t</th>      <th>P>|t|</th>  <th>[0.025</th>    <th>0.975]</th>  \n",
       "</tr>\n",
       "<tr>\n",
       "  <th>const</th>     <td>   -0.1224</td> <td>    0.779</td> <td>   -0.157</td> <td> 0.876</td> <td>   -1.676</td> <td>    1.432</td>\n",
       "</tr>\n",
       "<tr>\n",
       "  <th>u_hat_1</th>   <td>   -0.1650</td> <td>    0.060</td> <td>   -2.761</td> <td> 0.007</td> <td>   -0.284</td> <td>   -0.046</td>\n",
       "</tr>\n",
       "<tr>\n",
       "  <th>delta_u_1</th> <td>    0.2542</td> <td>    0.118</td> <td>    2.161</td> <td> 0.034</td> <td>    0.019</td> <td>    0.489</td>\n",
       "</tr>\n",
       "</table>\n",
       "<table class=\"simpletable\">\n",
       "<tr>\n",
       "  <th>Omnibus:</th>       <td>47.831</td> <th>  Durbin-Watson:     </th> <td>   1.852</td>\n",
       "</tr>\n",
       "<tr>\n",
       "  <th>Prob(Omnibus):</th> <td> 0.000</td> <th>  Jarque-Bera (JB):  </th> <td> 439.013</td>\n",
       "</tr>\n",
       "<tr>\n",
       "  <th>Skew:</th>          <td>-1.588</td> <th>  Prob(JB):          </th> <td>4.67e-96</td>\n",
       "</tr>\n",
       "<tr>\n",
       "  <th>Kurtosis:</th>      <td>14.850</td> <th>  Cond. No.          </th> <td>    13.6</td>\n",
       "</tr>\n",
       "</table><br/><br/>Notes:<br/>[1] Standard Errors assume that the covariance matrix of the errors is correctly specified."
      ],
      "text/plain": [
       "<class 'statsmodels.iolib.summary.Summary'>\n",
       "\"\"\"\n",
       "                            OLS Regression Results                            \n",
       "==============================================================================\n",
       "Dep. Variable:                delta_u   R-squared:                       0.129\n",
       "Model:                            OLS   Adj. R-squared:                  0.103\n",
       "Method:                 Least Squares   F-statistic:                     4.959\n",
       "Date:                Sun, 27 Nov 2022   Prob (F-statistic):            0.00980\n",
       "Time:                        01:26:39   Log-Likelihood:                -228.96\n",
       "No. Observations:                  70   AIC:                             463.9\n",
       "Df Residuals:                      67   BIC:                             470.7\n",
       "Df Model:                           2                                         \n",
       "Covariance Type:            nonrobust                                         \n",
       "==============================================================================\n",
       "                 coef    std err          t      P>|t|      [0.025      0.975]\n",
       "------------------------------------------------------------------------------\n",
       "const         -0.1224      0.779     -0.157      0.876      -1.676       1.432\n",
       "u_hat_1       -0.1650      0.060     -2.761      0.007      -0.284      -0.046\n",
       "delta_u_1      0.2542      0.118      2.161      0.034       0.019       0.489\n",
       "==============================================================================\n",
       "Omnibus:                       47.831   Durbin-Watson:                   1.852\n",
       "Prob(Omnibus):                  0.000   Jarque-Bera (JB):              439.013\n",
       "Skew:                          -1.588   Prob(JB):                     4.67e-96\n",
       "Kurtosis:                      14.850   Cond. No.                         13.6\n",
       "==============================================================================\n",
       "\n",
       "Notes:\n",
       "[1] Standard Errors assume that the covariance matrix of the errors is correctly specified.\n",
       "\"\"\""
      ]
     },
     "execution_count": 12,
     "metadata": {},
     "output_type": "execute_result"
    }
   ],
   "source": [
    "# Exercise 4\n",
    "fertil3 = pd.read_stata(\"./stata/FERTIL3.DTA\")\n",
    "X = sm.add_constant(fertil3[[\"pe\", \"t\", \"tsq\"]])\n",
    "model = sm.OLS(fertil3[\"gfr\"], X, missing=\"drop\").fit()\n",
    "fertil3[\"u_hat\"] = model.resid\n",
    "fertil3[\"u_hat_1\"] = model.resid.shift(1)\n",
    "fertil3[\"delta_u\"] = fertil3[\"u_hat\"] - fertil3[\"u_hat_1\"]\n",
    "fertil3[\"delta_u_1\"] = fertil3[\"u_hat_1\"] - fertil3[\"u_hat_1\"].shift(1)\n",
    "X = sm.add_constant(fertil3[[\"u_hat_1\", \"delta_u_1\"]])\n",
    "\n",
    "sm.OLS(fertil3[\"delta_u\"], X, missing=\"drop\").fit().summary()"
   ]
  },
  {
   "cell_type": "markdown",
   "id": "97fb69fe-08f0-4099-94d9-ba5d25133e22",
   "metadata": {},
   "source": [
    "C4 Results above. The t-statatistic on the lag of the residual is -2.761. The critical value (given in the question) is -4.15, considerably higher than the t-statistic. We fail to reject the null hypothesis of no cointegration between gfr and pe."
   ]
  },
  {
   "cell_type": "code",
   "execution_count": 13,
   "id": "1120df05-cdb1-478b-b0a6-a18fe39d07e4",
   "metadata": {},
   "outputs": [
    {
     "data": {
      "text/html": [
       "<table class=\"simpletable\">\n",
       "<caption>OLS Regression Results</caption>\n",
       "<tr>\n",
       "  <th>Dep. Variable:</th>           <td>hy6</td>       <th>  R-squared:         </th> <td>   0.982</td>\n",
       "</tr>\n",
       "<tr>\n",
       "  <th>Model:</th>                   <td>OLS</td>       <th>  Adj. R-squared:    </th> <td>   0.981</td>\n",
       "</tr>\n",
       "<tr>\n",
       "  <th>Method:</th>             <td>Least Squares</td>  <th>  F-statistic:       </th> <td>   1551.</td>\n",
       "</tr>\n",
       "<tr>\n",
       "  <th>Date:</th>             <td>Sun, 27 Nov 2022</td> <th>  Prob (F-statistic):</th> <td>1.17e-99</td>\n",
       "</tr>\n",
       "<tr>\n",
       "  <th>Time:</th>                 <td>01:26:40</td>     <th>  Log-Likelihood:    </th> <td>  84.067</td>\n",
       "</tr>\n",
       "<tr>\n",
       "  <th>No. Observations:</th>      <td>   121</td>      <th>  AIC:               </th> <td>  -158.1</td>\n",
       "</tr>\n",
       "<tr>\n",
       "  <th>Df Residuals:</th>          <td>   116</td>      <th>  BIC:               </th> <td>  -144.2</td>\n",
       "</tr>\n",
       "<tr>\n",
       "  <th>Df Model:</th>              <td>     4</td>      <th>                     </th>     <td> </td>   \n",
       "</tr>\n",
       "<tr>\n",
       "  <th>Covariance Type:</th>      <td>nonrobust</td>    <th>                     </th>     <td> </td>   \n",
       "</tr>\n",
       "</table>\n",
       "<table class=\"simpletable\">\n",
       "<tr>\n",
       "     <td></td>       <th>coef</th>     <th>std err</th>      <th>t</th>      <th>P>|t|</th>  <th>[0.025</th>    <th>0.975]</th>  \n",
       "</tr>\n",
       "<tr>\n",
       "  <th>const</th>  <td>    0.0775</td> <td>    0.028</td> <td>    2.794</td> <td> 0.006</td> <td>    0.023</td> <td>    0.132</td>\n",
       "</tr>\n",
       "<tr>\n",
       "  <th>hy3_1</th>  <td>    1.0271</td> <td>    0.016</td> <td>   65.363</td> <td> 0.000</td> <td>    0.996</td> <td>    1.058</td>\n",
       "</tr>\n",
       "<tr>\n",
       "  <th>chy3</th>   <td>   -1.0211</td> <td>    0.038</td> <td>  -27.171</td> <td> 0.000</td> <td>   -1.096</td> <td>   -0.947</td>\n",
       "</tr>\n",
       "<tr>\n",
       "  <th>chy3_1</th> <td>   -0.0854</td> <td>    0.037</td> <td>   -2.301</td> <td> 0.023</td> <td>   -0.159</td> <td>   -0.012</td>\n",
       "</tr>\n",
       "<tr>\n",
       "  <th>chy3_2</th> <td>   -0.1044</td> <td>    0.037</td> <td>   -2.787</td> <td> 0.006</td> <td>   -0.179</td> <td>   -0.030</td>\n",
       "</tr>\n",
       "</table>\n",
       "<table class=\"simpletable\">\n",
       "<tr>\n",
       "  <th>Omnibus:</th>       <td>24.667</td> <th>  Durbin-Watson:     </th> <td>   1.613</td>\n",
       "</tr>\n",
       "<tr>\n",
       "  <th>Prob(Omnibus):</th> <td> 0.000</td> <th>  Jarque-Bera (JB):  </th> <td> 191.842</td>\n",
       "</tr>\n",
       "<tr>\n",
       "  <th>Skew:</th>          <td>-0.012</td> <th>  Prob(JB):          </th> <td>2.20e-42</td>\n",
       "</tr>\n",
       "<tr>\n",
       "  <th>Kurtosis:</th>      <td> 9.169</td> <th>  Cond. No.          </th> <td>    7.75</td>\n",
       "</tr>\n",
       "</table><br/><br/>Notes:<br/>[1] Standard Errors assume that the covariance matrix of the errors is correctly specified."
      ],
      "text/plain": [
       "<class 'statsmodels.iolib.summary.Summary'>\n",
       "\"\"\"\n",
       "                            OLS Regression Results                            \n",
       "==============================================================================\n",
       "Dep. Variable:                    hy6   R-squared:                       0.982\n",
       "Model:                            OLS   Adj. R-squared:                  0.981\n",
       "Method:                 Least Squares   F-statistic:                     1551.\n",
       "Date:                Sun, 27 Nov 2022   Prob (F-statistic):           1.17e-99\n",
       "Time:                        01:26:40   Log-Likelihood:                 84.067\n",
       "No. Observations:                 121   AIC:                            -158.1\n",
       "Df Residuals:                     116   BIC:                            -144.2\n",
       "Df Model:                           4                                         \n",
       "Covariance Type:            nonrobust                                         \n",
       "==============================================================================\n",
       "                 coef    std err          t      P>|t|      [0.025      0.975]\n",
       "------------------------------------------------------------------------------\n",
       "const          0.0775      0.028      2.794      0.006       0.023       0.132\n",
       "hy3_1          1.0271      0.016     65.363      0.000       0.996       1.058\n",
       "chy3          -1.0211      0.038    -27.171      0.000      -1.096      -0.947\n",
       "chy3_1        -0.0854      0.037     -2.301      0.023      -0.159      -0.012\n",
       "chy3_2        -0.1044      0.037     -2.787      0.006      -0.179      -0.030\n",
       "==============================================================================\n",
       "Omnibus:                       24.667   Durbin-Watson:                   1.613\n",
       "Prob(Omnibus):                  0.000   Jarque-Bera (JB):              191.842\n",
       "Skew:                          -0.012   Prob(JB):                     2.20e-42\n",
       "Kurtosis:                       9.169   Cond. No.                         7.75\n",
       "==============================================================================\n",
       "\n",
       "Notes:\n",
       "[1] Standard Errors assume that the covariance matrix of the errors is correctly specified.\n",
       "\"\"\""
      ]
     },
     "execution_count": 13,
     "metadata": {},
     "output_type": "execute_result"
    }
   ],
   "source": [
    "# Exercise 5\n",
    "intqrt = pd.read_stata(\"./stata/INTQRT.DTA\")\n",
    "intqrt[\"chy3_2\"] = intqrt[\"chy3_1\"].shift(1)\n",
    "X = sm.add_constant(intqrt[[\"hy3_1\", \"chy3\", \"chy3_1\", \"chy3_2\"]])\n",
    "model = sm.OLS(intqrt[\"hy6\"], X, missing=\"drop\").fit()\n",
    "model.summary()"
   ]
  },
  {
   "cell_type": "code",
   "execution_count": 14,
   "id": "cf4af63c-9c8c-4fab-a200-ee744c03bdaf",
   "metadata": {},
   "outputs": [
    {
     "data": {
      "text/plain": [
       "<class 'statsmodels.stats.contrast.ContrastResults'>\n",
       "                             Test for Constraints                             \n",
       "==============================================================================\n",
       "                 coef    std err          t      P>|t|      [0.025      0.975]\n",
       "------------------------------------------------------------------------------\n",
       "c0             1.0271      0.016      1.723      0.088       0.996       1.058\n",
       "=============================================================================="
      ]
     },
     "execution_count": 14,
     "metadata": {},
     "output_type": "execute_result"
    }
   ],
   "source": [
    "model.t_test(\"hy3_1 = 1\")"
   ]
  },
  {
   "cell_type": "code",
   "execution_count": 15,
   "id": "136fd48b-f81c-4962-8a26-f198f237a50f",
   "metadata": {},
   "outputs": [
    {
     "data": {
      "text/html": [
       "<table class=\"simpletable\">\n",
       "<caption>OLS Regression Results</caption>\n",
       "<tr>\n",
       "  <th>Dep. Variable:</th>          <td>chy6</td>       <th>  R-squared:         </th> <td>   0.795</td>\n",
       "</tr>\n",
       "<tr>\n",
       "  <th>Model:</th>                   <td>OLS</td>       <th>  Adj. R-squared:    </th> <td>   0.788</td>\n",
       "</tr>\n",
       "<tr>\n",
       "  <th>Method:</th>             <td>Least Squares</td>  <th>  F-statistic:       </th> <td>   112.5</td>\n",
       "</tr>\n",
       "<tr>\n",
       "  <th>Date:</th>             <td>Sun, 27 Nov 2022</td> <th>  Prob (F-statistic):</th> <td>5.62e-39</td>\n",
       "</tr>\n",
       "<tr>\n",
       "  <th>Time:</th>                 <td>01:26:40</td>     <th>  Log-Likelihood:    </th> <td> -38.838</td>\n",
       "</tr>\n",
       "<tr>\n",
       "  <th>No. Observations:</th>      <td>   121</td>      <th>  AIC:               </th> <td>   87.68</td>\n",
       "</tr>\n",
       "<tr>\n",
       "  <th>Df Residuals:</th>          <td>   116</td>      <th>  BIC:               </th> <td>   101.7</td>\n",
       "</tr>\n",
       "<tr>\n",
       "  <th>Df Model:</th>              <td>     4</td>      <th>                     </th>     <td> </td>   \n",
       "</tr>\n",
       "<tr>\n",
       "  <th>Covariance Type:</th>      <td>nonrobust</td>    <th>                     </th>     <td> </td>   \n",
       "</tr>\n",
       "</table>\n",
       "<table class=\"simpletable\">\n",
       "<tr>\n",
       "          <td></td>            <th>coef</th>     <th>std err</th>      <th>t</th>      <th>P>|t|</th>  <th>[0.025</th>    <th>0.975]</th>  \n",
       "</tr>\n",
       "<tr>\n",
       "  <th>const</th>            <td>    0.0704</td> <td>    0.049</td> <td>    1.438</td> <td> 0.153</td> <td>   -0.027</td> <td>    0.167</td>\n",
       "</tr>\n",
       "<tr>\n",
       "  <th>chy3_1</th>           <td>    1.2592</td> <td>    0.278</td> <td>    4.533</td> <td> 0.000</td> <td>    0.709</td> <td>    1.809</td>\n",
       "</tr>\n",
       "<tr>\n",
       "  <th>hy6_1_less_hy3_2</th> <td>   -0.8158</td> <td>    0.256</td> <td>   -3.186</td> <td> 0.002</td> <td>   -1.323</td> <td>   -0.309</td>\n",
       "</tr>\n",
       "<tr>\n",
       "  <th>chy3_2</th>           <td>    0.2827</td> <td>    0.272</td> <td>    1.039</td> <td> 0.301</td> <td>   -0.256</td> <td>    0.821</td>\n",
       "</tr>\n",
       "<tr>\n",
       "  <th>hy6_2_less_hy3_3</th> <td>    0.1268</td> <td>    0.256</td> <td>    0.495</td> <td> 0.621</td> <td>   -0.380</td> <td>    0.634</td>\n",
       "</tr>\n",
       "</table>\n",
       "<table class=\"simpletable\">\n",
       "<tr>\n",
       "  <th>Omnibus:</th>       <td>68.053</td> <th>  Durbin-Watson:     </th> <td>   1.942</td>\n",
       "</tr>\n",
       "<tr>\n",
       "  <th>Prob(Omnibus):</th> <td> 0.000</td> <th>  Jarque-Bera (JB):  </th> <td> 395.160</td>\n",
       "</tr>\n",
       "<tr>\n",
       "  <th>Skew:</th>          <td> 1.837</td> <th>  Prob(JB):          </th> <td>1.56e-86</td>\n",
       "</tr>\n",
       "<tr>\n",
       "  <th>Kurtosis:</th>      <td>11.054</td> <th>  Cond. No.          </th> <td>    13.4</td>\n",
       "</tr>\n",
       "</table><br/><br/>Notes:<br/>[1] Standard Errors assume that the covariance matrix of the errors is correctly specified."
      ],
      "text/plain": [
       "<class 'statsmodels.iolib.summary.Summary'>\n",
       "\"\"\"\n",
       "                            OLS Regression Results                            \n",
       "==============================================================================\n",
       "Dep. Variable:                   chy6   R-squared:                       0.795\n",
       "Model:                            OLS   Adj. R-squared:                  0.788\n",
       "Method:                 Least Squares   F-statistic:                     112.5\n",
       "Date:                Sun, 27 Nov 2022   Prob (F-statistic):           5.62e-39\n",
       "Time:                        01:26:40   Log-Likelihood:                -38.838\n",
       "No. Observations:                 121   AIC:                             87.68\n",
       "Df Residuals:                     116   BIC:                             101.7\n",
       "Df Model:                           4                                         \n",
       "Covariance Type:            nonrobust                                         \n",
       "====================================================================================\n",
       "                       coef    std err          t      P>|t|      [0.025      0.975]\n",
       "------------------------------------------------------------------------------------\n",
       "const                0.0704      0.049      1.438      0.153      -0.027       0.167\n",
       "chy3_1               1.2592      0.278      4.533      0.000       0.709       1.809\n",
       "hy6_1_less_hy3_2    -0.8158      0.256     -3.186      0.002      -1.323      -0.309\n",
       "chy3_2               0.2827      0.272      1.039      0.301      -0.256       0.821\n",
       "hy6_2_less_hy3_3     0.1268      0.256      0.495      0.621      -0.380       0.634\n",
       "==============================================================================\n",
       "Omnibus:                       68.053   Durbin-Watson:                   1.942\n",
       "Prob(Omnibus):                  0.000   Jarque-Bera (JB):              395.160\n",
       "Skew:                           1.837   Prob(JB):                     1.56e-86\n",
       "Kurtosis:                      11.054   Cond. No.                         13.4\n",
       "==============================================================================\n",
       "\n",
       "Notes:\n",
       "[1] Standard Errors assume that the covariance matrix of the errors is correctly specified.\n",
       "\"\"\""
      ]
     },
     "execution_count": 15,
     "metadata": {},
     "output_type": "execute_result"
    }
   ],
   "source": [
    "intqrt[\"hy3_2\"] = intqrt[\"hy3_1\"].shift(1)\n",
    "intqrt[\"hy6_2\"] = intqrt[\"hy6_1\"].shift(1)\n",
    "intqrt[\"hy3_3\"] = intqrt[\"hy3_2\"].shift(1)\n",
    "intqrt[\"hy6_1_less_hy3_2\"] = intqrt[\"hy6_1\"] - intqrt[\"hy3_2\"]\n",
    "intqrt[\"hy6_2_less_hy3_3\"] = intqrt[\"hy6_2\"] - intqrt[\"hy3_3\"]\n",
    "\n",
    "X = sm.add_constant(intqrt[[\"chy3_1\", \"hy6_1_less_hy3_2\",\n",
    "                            \"chy3_2\", \"hy6_2_less_hy3_3\"]])\n",
    "model = sm.OLS(intqrt[\"chy6\"], X, missing=\"drop\").fit()\n",
    "model.summary()"
   ]
  },
  {
   "cell_type": "code",
   "execution_count": 16,
   "id": "49b4d09c-4a12-4068-9590-1edf05cb74a0",
   "metadata": {},
   "outputs": [
    {
     "data": {
      "text/plain": [
       "<class 'statsmodels.stats.contrast.ContrastResults'>\n",
       "<F test: F=1.3468793672456028, p=0.2640864731055969, df_denom=116, df_num=2>"
      ]
     },
     "execution_count": 16,
     "metadata": {},
     "output_type": "execute_result"
    }
   ],
   "source": [
    "model.f_test(\"chy3_2 = hy6_2_less_hy3_3 = 0\")"
   ]
  },
  {
   "cell_type": "markdown",
   "id": "925fd9d7-0d25-443f-b38e-99c884370e35",
   "metadata": {},
   "source": [
    "C5.i Results above. The p-value for the test for $\\beta = 1$ is 0.088 and so significant at the 10% level but not the 5%.\n",
    "\n",
    "C5.ii The joint significance test is not significant at any value of use to us (p-value 0.264). This should mean that the model from 18.39 should be sufficient."
   ]
  },
  {
   "cell_type": "code",
   "execution_count": 17,
   "id": "940d78db-181d-42ec-88b0-24563187837f",
   "metadata": {},
   "outputs": [
    {
     "data": {
      "text/html": [
       "<table class=\"simpletable\">\n",
       "<caption>OLS Regression Results</caption>\n",
       "<tr>\n",
       "  <th>Dep. Variable:</th>          <td>unem</td>       <th>  R-squared:         </th> <td>   0.554</td>\n",
       "</tr>\n",
       "<tr>\n",
       "  <th>Model:</th>                   <td>OLS</td>       <th>  Adj. R-squared:    </th> <td>   0.544</td>\n",
       "</tr>\n",
       "<tr>\n",
       "  <th>Method:</th>             <td>Least Squares</td>  <th>  F-statistic:       </th> <td>   58.28</td>\n",
       "</tr>\n",
       "<tr>\n",
       "  <th>Date:</th>             <td>Sun, 27 Nov 2022</td> <th>  Prob (F-statistic):</th> <td>9.00e-10</td>\n",
       "</tr>\n",
       "<tr>\n",
       "  <th>Time:</th>                 <td>01:26:40</td>     <th>  Log-Likelihood:    </th> <td> -70.489</td>\n",
       "</tr>\n",
       "<tr>\n",
       "  <th>No. Observations:</th>      <td>    49</td>      <th>  AIC:               </th> <td>   145.0</td>\n",
       "</tr>\n",
       "<tr>\n",
       "  <th>Df Residuals:</th>          <td>    47</td>      <th>  BIC:               </th> <td>   148.8</td>\n",
       "</tr>\n",
       "<tr>\n",
       "  <th>Df Model:</th>              <td>     1</td>      <th>                     </th>     <td> </td>   \n",
       "</tr>\n",
       "<tr>\n",
       "  <th>Covariance Type:</th>      <td>nonrobust</td>    <th>                     </th>     <td> </td>   \n",
       "</tr>\n",
       "</table>\n",
       "<table class=\"simpletable\">\n",
       "<tr>\n",
       "     <td></td>       <th>coef</th>     <th>std err</th>      <th>t</th>      <th>P>|t|</th>  <th>[0.025</th>    <th>0.975]</th>  \n",
       "</tr>\n",
       "<tr>\n",
       "  <th>const</th>  <td>    1.5485</td> <td>    0.572</td> <td>    2.708</td> <td> 0.009</td> <td>    0.398</td> <td>    2.699</td>\n",
       "</tr>\n",
       "<tr>\n",
       "  <th>unem_1</th> <td>    0.7342</td> <td>    0.096</td> <td>    7.634</td> <td> 0.000</td> <td>    0.541</td> <td>    0.928</td>\n",
       "</tr>\n",
       "</table>\n",
       "<table class=\"simpletable\">\n",
       "<tr>\n",
       "  <th>Omnibus:</th>       <td> 7.733</td> <th>  Durbin-Watson:     </th> <td>   1.687</td>\n",
       "</tr>\n",
       "<tr>\n",
       "  <th>Prob(Omnibus):</th> <td> 0.021</td> <th>  Jarque-Bera (JB):  </th> <td>   6.900</td>\n",
       "</tr>\n",
       "<tr>\n",
       "  <th>Skew:</th>          <td> 0.885</td> <th>  Prob(JB):          </th> <td>  0.0317</td>\n",
       "</tr>\n",
       "<tr>\n",
       "  <th>Kurtosis:</th>      <td> 3.500</td> <th>  Cond. No.          </th> <td>    23.5</td>\n",
       "</tr>\n",
       "</table><br/><br/>Notes:<br/>[1] Standard Errors assume that the covariance matrix of the errors is correctly specified."
      ],
      "text/plain": [
       "<class 'statsmodels.iolib.summary.Summary'>\n",
       "\"\"\"\n",
       "                            OLS Regression Results                            \n",
       "==============================================================================\n",
       "Dep. Variable:                   unem   R-squared:                       0.554\n",
       "Model:                            OLS   Adj. R-squared:                  0.544\n",
       "Method:                 Least Squares   F-statistic:                     58.28\n",
       "Date:                Sun, 27 Nov 2022   Prob (F-statistic):           9.00e-10\n",
       "Time:                        01:26:40   Log-Likelihood:                -70.489\n",
       "No. Observations:                  49   AIC:                             145.0\n",
       "Df Residuals:                      47   BIC:                             148.8\n",
       "Df Model:                           1                                         \n",
       "Covariance Type:            nonrobust                                         \n",
       "==============================================================================\n",
       "                 coef    std err          t      P>|t|      [0.025      0.975]\n",
       "------------------------------------------------------------------------------\n",
       "const          1.5485      0.572      2.708      0.009       0.398       2.699\n",
       "unem_1         0.7342      0.096      7.634      0.000       0.541       0.928\n",
       "==============================================================================\n",
       "Omnibus:                        7.733   Durbin-Watson:                   1.687\n",
       "Prob(Omnibus):                  0.021   Jarque-Bera (JB):                6.900\n",
       "Skew:                           0.885   Prob(JB):                       0.0317\n",
       "Kurtosis:                       3.500   Cond. No.                         23.5\n",
       "==============================================================================\n",
       "\n",
       "Notes:\n",
       "[1] Standard Errors assume that the covariance matrix of the errors is correctly specified.\n",
       "\"\"\""
      ]
     },
     "execution_count": 17,
     "metadata": {},
     "output_type": "execute_result"
    }
   ],
   "source": [
    "# Exercise 6\n",
    "phillips = pd.read_stata(\"./stata/phillips.dta\")\n",
    "phil_1997 = phillips[phillips.year <= 1997]\n",
    "X = sm.add_constant(phil_1997[\"unem_1\"])\n",
    "model_lag = sm.OLS(phil_1997.unem, X, missing=\"drop\").fit()\n",
    "model_lag.summary()"
   ]
  },
  {
   "cell_type": "code",
   "execution_count": 18,
   "id": "c18f619b-5bcf-4d1d-b90a-e731e340e950",
   "metadata": {},
   "outputs": [
    {
     "data": {
      "text/html": [
       "<table class=\"simpletable\">\n",
       "<caption>OLS Regression Results</caption>\n",
       "<tr>\n",
       "  <th>Dep. Variable:</th>          <td>unem</td>       <th>  R-squared:         </th> <td>   0.691</td>\n",
       "</tr>\n",
       "<tr>\n",
       "  <th>Model:</th>                   <td>OLS</td>       <th>  Adj. R-squared:    </th> <td>   0.677</td>\n",
       "</tr>\n",
       "<tr>\n",
       "  <th>Method:</th>             <td>Least Squares</td>  <th>  F-statistic:       </th> <td>   51.42</td>\n",
       "</tr>\n",
       "<tr>\n",
       "  <th>Date:</th>             <td>Sun, 27 Nov 2022</td> <th>  Prob (F-statistic):</th> <td>1.87e-12</td>\n",
       "</tr>\n",
       "<tr>\n",
       "  <th>Time:</th>                 <td>01:26:41</td>     <th>  Log-Likelihood:    </th> <td> -61.480</td>\n",
       "</tr>\n",
       "<tr>\n",
       "  <th>No. Observations:</th>      <td>    49</td>      <th>  AIC:               </th> <td>   129.0</td>\n",
       "</tr>\n",
       "<tr>\n",
       "  <th>Df Residuals:</th>          <td>    46</td>      <th>  BIC:               </th> <td>   134.6</td>\n",
       "</tr>\n",
       "<tr>\n",
       "  <th>Df Model:</th>              <td>     2</td>      <th>                     </th>     <td> </td>   \n",
       "</tr>\n",
       "<tr>\n",
       "  <th>Covariance Type:</th>      <td>nonrobust</td>    <th>                     </th>     <td> </td>   \n",
       "</tr>\n",
       "</table>\n",
       "<table class=\"simpletable\">\n",
       "<tr>\n",
       "     <td></td>       <th>coef</th>     <th>std err</th>      <th>t</th>      <th>P>|t|</th>  <th>[0.025</th>    <th>0.975]</th>  \n",
       "</tr>\n",
       "<tr>\n",
       "  <th>const</th>  <td>    1.2858</td> <td>    0.484</td> <td>    2.655</td> <td> 0.011</td> <td>    0.311</td> <td>    2.261</td>\n",
       "</tr>\n",
       "<tr>\n",
       "  <th>unem_1</th> <td>    0.6479</td> <td>    0.083</td> <td>    7.796</td> <td> 0.000</td> <td>    0.481</td> <td>    0.815</td>\n",
       "</tr>\n",
       "<tr>\n",
       "  <th>inf_1</th>  <td>    0.1845</td> <td>    0.041</td> <td>    4.521</td> <td> 0.000</td> <td>    0.102</td> <td>    0.267</td>\n",
       "</tr>\n",
       "</table>\n",
       "<table class=\"simpletable\">\n",
       "<tr>\n",
       "  <th>Omnibus:</th>       <td> 4.494</td> <th>  Durbin-Watson:     </th> <td>   1.864</td>\n",
       "</tr>\n",
       "<tr>\n",
       "  <th>Prob(Omnibus):</th> <td> 0.106</td> <th>  Jarque-Bera (JB):  </th> <td>   3.407</td>\n",
       "</tr>\n",
       "<tr>\n",
       "  <th>Skew:</th>          <td> 0.600</td> <th>  Prob(JB):          </th> <td>   0.182</td>\n",
       "</tr>\n",
       "<tr>\n",
       "  <th>Kurtosis:</th>      <td> 3.476</td> <th>  Cond. No.          </th> <td>    29.6</td>\n",
       "</tr>\n",
       "</table><br/><br/>Notes:<br/>[1] Standard Errors assume that the covariance matrix of the errors is correctly specified."
      ],
      "text/plain": [
       "<class 'statsmodels.iolib.summary.Summary'>\n",
       "\"\"\"\n",
       "                            OLS Regression Results                            \n",
       "==============================================================================\n",
       "Dep. Variable:                   unem   R-squared:                       0.691\n",
       "Model:                            OLS   Adj. R-squared:                  0.677\n",
       "Method:                 Least Squares   F-statistic:                     51.42\n",
       "Date:                Sun, 27 Nov 2022   Prob (F-statistic):           1.87e-12\n",
       "Time:                        01:26:41   Log-Likelihood:                -61.480\n",
       "No. Observations:                  49   AIC:                             129.0\n",
       "Df Residuals:                      46   BIC:                             134.6\n",
       "Df Model:                           2                                         \n",
       "Covariance Type:            nonrobust                                         \n",
       "==============================================================================\n",
       "                 coef    std err          t      P>|t|      [0.025      0.975]\n",
       "------------------------------------------------------------------------------\n",
       "const          1.2858      0.484      2.655      0.011       0.311       2.261\n",
       "unem_1         0.6479      0.083      7.796      0.000       0.481       0.815\n",
       "inf_1          0.1845      0.041      4.521      0.000       0.102       0.267\n",
       "==============================================================================\n",
       "Omnibus:                        4.494   Durbin-Watson:                   1.864\n",
       "Prob(Omnibus):                  0.106   Jarque-Bera (JB):                3.407\n",
       "Skew:                           0.600   Prob(JB):                        0.182\n",
       "Kurtosis:                       3.476   Cond. No.                         29.6\n",
       "==============================================================================\n",
       "\n",
       "Notes:\n",
       "[1] Standard Errors assume that the covariance matrix of the errors is correctly specified.\n",
       "\"\"\""
      ]
     },
     "execution_count": 18,
     "metadata": {},
     "output_type": "execute_result"
    }
   ],
   "source": [
    "X = sm.add_constant(phil_1997[[\"unem_1\", \"inf_1\"]])\n",
    "model_lag_inf = sm.OLS(phil_1997.unem, X, missing=\"drop\").fit()\n",
    "model_lag_inf.summary()"
   ]
  },
  {
   "cell_type": "code",
   "execution_count": 19,
   "id": "8932cadc-ae3f-47dc-acc1-fe490585fdf1",
   "metadata": {},
   "outputs": [
    {
     "data": {
      "text/plain": [
       "50    5.145959\n",
       "dtype: float64"
      ]
     },
     "execution_count": 19,
     "metadata": {},
     "output_type": "execute_result"
    }
   ],
   "source": [
    "X_1998 = sm.add_constant(phillips).loc[phillips.year == 1998,\n",
    "                                       [\"const\", \"unem_1\", \"inf_1\"]]\n",
    "model_lag.predict(X_1998[[\"const\", \"unem_1\"]])"
   ]
  },
  {
   "cell_type": "code",
   "execution_count": 20,
   "id": "e9fe20a4-7bf9-495c-b530-281287828abc",
   "metadata": {},
   "outputs": [
    {
     "data": {
      "text/plain": [
       "50    4.884895\n",
       "dtype: float64"
      ]
     },
     "execution_count": 20,
     "metadata": {},
     "output_type": "execute_result"
    }
   ],
   "source": [
    "model_lag_inf.predict(X_1998[[\"const\", \"unem_1\", \"inf_1\"]])"
   ]
  },
  {
   "cell_type": "code",
   "execution_count": 21,
   "id": "d237d672-394d-42a8-b38a-753c816009bf",
   "metadata": {},
   "outputs": [
    {
     "data": {
      "text/plain": [
       "50    4.5\n",
       "Name: unem, dtype: float32"
      ]
     },
     "execution_count": 21,
     "metadata": {},
     "output_type": "execute_result"
    }
   ],
   "source": [
    "phillips.loc[phillips.year == 1998, \"unem\"]"
   ]
  },
  {
   "cell_type": "code",
   "execution_count": 22,
   "id": "ddceb42e-40b7-42dc-ad23-d3dae01f2280",
   "metadata": {},
   "outputs": [
    {
     "data": {
      "text/plain": [
       "5.6161536000000005"
      ]
     },
     "execution_count": 22,
     "metadata": {},
     "output_type": "execute_result"
    }
   ],
   "source": [
    "alpha_hat = 1.572\n",
    "rho_hat = 0.732\n",
    "forecast = (1 + rho_hat) * alpha_hat + (rho_hat**2) * 5.4 \n",
    "forecast"
   ]
  },
  {
   "cell_type": "markdown",
   "id": "70310ae1-6108-4651-a262-5db6f48172e3",
   "metadata": {},
   "source": [
    "C6.i Results above. The differences are hardly noticable, but then, we only added one year.\n",
    "\n",
    "C6.ii The real value for unemployment was 4.5. The model using only lagged unemployment was over by 0.65, while the model including lagged inflation was higher by about 0.39, and so was the better one.\n",
    "\n",
    "C6.iii As expected from (i), there is a small but not very practical improvement in the prediction.\n",
    "\n",
    "C6.iv The one step ahead forecast from 18.48 was 5.15 while the two step ahead forecast is 5.62. The true value is 4.5 and so the one step ahead forecast is better."
   ]
  },
  {
   "cell_type": "code",
   "execution_count": 23,
   "id": "70943566-4428-4efa-9152-f2625d13aa7f",
   "metadata": {},
   "outputs": [
    {
     "data": {
      "text/html": [
       "<table class=\"simpletable\">\n",
       "<caption>OLS Regression Results</caption>\n",
       "<tr>\n",
       "  <th>Dep. Variable:</th>         <td>chnimp</td>      <th>  R-squared:         </th> <td>   0.277</td>\n",
       "</tr>\n",
       "<tr>\n",
       "  <th>Model:</th>                   <td>OLS</td>       <th>  Adj. R-squared:    </th> <td>   0.271</td>\n",
       "</tr>\n",
       "<tr>\n",
       "  <th>Method:</th>             <td>Least Squares</td>  <th>  F-statistic:       </th> <td>   44.84</td>\n",
       "</tr>\n",
       "<tr>\n",
       "  <th>Date:</th>             <td>Sun, 27 Nov 2022</td> <th>  Prob (F-statistic):</th> <td>7.83e-10</td>\n",
       "</tr>\n",
       "<tr>\n",
       "  <th>Time:</th>                 <td>01:26:42</td>     <th>  Log-Likelihood:    </th> <td> -841.87</td>\n",
       "</tr>\n",
       "<tr>\n",
       "  <th>No. Observations:</th>      <td>   119</td>      <th>  AIC:               </th> <td>   1688.</td>\n",
       "</tr>\n",
       "<tr>\n",
       "  <th>Df Residuals:</th>          <td>   117</td>      <th>  BIC:               </th> <td>   1693.</td>\n",
       "</tr>\n",
       "<tr>\n",
       "  <th>Df Model:</th>              <td>     1</td>      <th>                     </th>     <td> </td>   \n",
       "</tr>\n",
       "<tr>\n",
       "  <th>Covariance Type:</th>      <td>nonrobust</td>    <th>                     </th>     <td> </td>   \n",
       "</tr>\n",
       "</table>\n",
       "<table class=\"simpletable\">\n",
       "<tr>\n",
       "    <td></td>       <th>coef</th>     <th>std err</th>      <th>t</th>      <th>P>|t|</th>  <th>[0.025</th>    <th>0.975]</th>  \n",
       "</tr>\n",
       "<tr>\n",
       "  <th>const</th> <td>  248.5788</td> <td>   53.198</td> <td>    4.673</td> <td> 0.000</td> <td>  143.224</td> <td>  353.934</td>\n",
       "</tr>\n",
       "<tr>\n",
       "  <th>t</th>     <td>    5.1526</td> <td>    0.769</td> <td>    6.696</td> <td> 0.000</td> <td>    3.629</td> <td>    6.676</td>\n",
       "</tr>\n",
       "</table>\n",
       "<table class=\"simpletable\">\n",
       "<tr>\n",
       "  <th>Omnibus:</th>       <td>15.488</td> <th>  Durbin-Watson:     </th> <td>   1.602</td>\n",
       "</tr>\n",
       "<tr>\n",
       "  <th>Prob(Omnibus):</th> <td> 0.000</td> <th>  Jarque-Bera (JB):  </th> <td>  17.215</td>\n",
       "</tr>\n",
       "<tr>\n",
       "  <th>Skew:</th>          <td> 0.852</td> <th>  Prob(JB):          </th> <td>0.000183</td>\n",
       "</tr>\n",
       "<tr>\n",
       "  <th>Kurtosis:</th>      <td> 3.753</td> <th>  Cond. No.          </th> <td>    139.</td>\n",
       "</tr>\n",
       "</table><br/><br/>Notes:<br/>[1] Standard Errors assume that the covariance matrix of the errors is correctly specified."
      ],
      "text/plain": [
       "<class 'statsmodels.iolib.summary.Summary'>\n",
       "\"\"\"\n",
       "                            OLS Regression Results                            \n",
       "==============================================================================\n",
       "Dep. Variable:                 chnimp   R-squared:                       0.277\n",
       "Model:                            OLS   Adj. R-squared:                  0.271\n",
       "Method:                 Least Squares   F-statistic:                     44.84\n",
       "Date:                Sun, 27 Nov 2022   Prob (F-statistic):           7.83e-10\n",
       "Time:                        01:26:42   Log-Likelihood:                -841.87\n",
       "No. Observations:                 119   AIC:                             1688.\n",
       "Df Residuals:                     117   BIC:                             1693.\n",
       "Df Model:                           1                                         \n",
       "Covariance Type:            nonrobust                                         \n",
       "==============================================================================\n",
       "                 coef    std err          t      P>|t|      [0.025      0.975]\n",
       "------------------------------------------------------------------------------\n",
       "const        248.5788     53.198      4.673      0.000     143.224     353.934\n",
       "t              5.1526      0.769      6.696      0.000       3.629       6.676\n",
       "==============================================================================\n",
       "Omnibus:                       15.488   Durbin-Watson:                   1.602\n",
       "Prob(Omnibus):                  0.000   Jarque-Bera (JB):               17.215\n",
       "Skew:                           0.852   Prob(JB):                     0.000183\n",
       "Kurtosis:                       3.753   Cond. No.                         139.\n",
       "==============================================================================\n",
       "\n",
       "Notes:\n",
       "[1] Standard Errors assume that the covariance matrix of the errors is correctly specified.\n",
       "\"\"\""
      ]
     },
     "execution_count": 23,
     "metadata": {},
     "output_type": "execute_result"
    }
   ],
   "source": [
    "# Exercise 7\n",
    "barium = pd.read_stata(\"./stata/BARIUM.DTA\")\n",
    "barium[\"chnimp_1\"] = barium[\"chnimp\"].shift(1)\n",
    "barium_trim = barium.iloc[:-12]\n",
    "X = sm.add_constant(barium_trim[\"t\"])\n",
    "model1 = sm.OLS(barium_trim.chnimp, X, missing=\"drop\").fit()\n",
    "model1.summary()"
   ]
  },
  {
   "cell_type": "code",
   "execution_count": 24,
   "id": "90c42ee8-85b6-423a-9bfb-104f0d46258c",
   "metadata": {},
   "outputs": [
    {
     "data": {
      "text/plain": [
       "288.3318561773377"
      ]
     },
     "execution_count": 24,
     "metadata": {},
     "output_type": "execute_result"
    }
   ],
   "source": [
    "np.sqrt(model1.scale)"
   ]
  },
  {
   "cell_type": "code",
   "execution_count": 25,
   "id": "2f07334e-2092-47ae-bd9e-b298ae42698c",
   "metadata": {},
   "outputs": [
    {
     "data": {
      "text/html": [
       "<table class=\"simpletable\">\n",
       "<caption>OLS Regression Results</caption>\n",
       "<tr>\n",
       "  <th>Dep. Variable:</th>         <td>chnimp</td>      <th>  R-squared:         </th> <td>   0.174</td>\n",
       "</tr>\n",
       "<tr>\n",
       "  <th>Model:</th>                   <td>OLS</td>       <th>  Adj. R-squared:    </th> <td>   0.167</td>\n",
       "</tr>\n",
       "<tr>\n",
       "  <th>Method:</th>             <td>Least Squares</td>  <th>  F-statistic:       </th> <td>   24.47</td>\n",
       "</tr>\n",
       "<tr>\n",
       "  <th>Date:</th>             <td>Sun, 27 Nov 2022</td> <th>  Prob (F-statistic):</th> <td>2.58e-06</td>\n",
       "</tr>\n",
       "<tr>\n",
       "  <th>Time:</th>                 <td>01:26:42</td>     <th>  Log-Likelihood:    </th> <td> -842.64</td>\n",
       "</tr>\n",
       "<tr>\n",
       "  <th>No. Observations:</th>      <td>   118</td>      <th>  AIC:               </th> <td>   1689.</td>\n",
       "</tr>\n",
       "<tr>\n",
       "  <th>Df Residuals:</th>          <td>   116</td>      <th>  BIC:               </th> <td>   1695.</td>\n",
       "</tr>\n",
       "<tr>\n",
       "  <th>Df Model:</th>              <td>     1</td>      <th>                     </th>     <td> </td>   \n",
       "</tr>\n",
       "<tr>\n",
       "  <th>Covariance Type:</th>      <td>nonrobust</td>    <th>                     </th>     <td> </td>   \n",
       "</tr>\n",
       "</table>\n",
       "<table class=\"simpletable\">\n",
       "<tr>\n",
       "      <td></td>        <th>coef</th>     <th>std err</th>      <th>t</th>      <th>P>|t|</th>  <th>[0.025</th>    <th>0.975]</th>  \n",
       "</tr>\n",
       "<tr>\n",
       "  <th>const</th>    <td>  329.1756</td> <td>   54.715</td> <td>    6.016</td> <td> 0.000</td> <td>  220.806</td> <td>  437.545</td>\n",
       "</tr>\n",
       "<tr>\n",
       "  <th>chnimp_1</th> <td>    0.4162</td> <td>    0.084</td> <td>    4.946</td> <td> 0.000</td> <td>    0.250</td> <td>    0.583</td>\n",
       "</tr>\n",
       "</table>\n",
       "<table class=\"simpletable\">\n",
       "<tr>\n",
       "  <th>Omnibus:</th>       <td>11.603</td> <th>  Durbin-Watson:     </th> <td>   2.214</td>\n",
       "</tr>\n",
       "<tr>\n",
       "  <th>Prob(Omnibus):</th> <td> 0.003</td> <th>  Jarque-Bera (JB):  </th> <td>  11.973</td>\n",
       "</tr>\n",
       "<tr>\n",
       "  <th>Skew:</th>          <td> 0.720</td> <th>  Prob(JB):          </th> <td> 0.00251</td>\n",
       "</tr>\n",
       "<tr>\n",
       "  <th>Kurtosis:</th>      <td> 3.600</td> <th>  Cond. No.          </th> <td>1.25e+03</td>\n",
       "</tr>\n",
       "</table><br/><br/>Notes:<br/>[1] Standard Errors assume that the covariance matrix of the errors is correctly specified.<br/>[2] The condition number is large, 1.25e+03. This might indicate that there are<br/>strong multicollinearity or other numerical problems."
      ],
      "text/plain": [
       "<class 'statsmodels.iolib.summary.Summary'>\n",
       "\"\"\"\n",
       "                            OLS Regression Results                            \n",
       "==============================================================================\n",
       "Dep. Variable:                 chnimp   R-squared:                       0.174\n",
       "Model:                            OLS   Adj. R-squared:                  0.167\n",
       "Method:                 Least Squares   F-statistic:                     24.47\n",
       "Date:                Sun, 27 Nov 2022   Prob (F-statistic):           2.58e-06\n",
       "Time:                        01:26:42   Log-Likelihood:                -842.64\n",
       "No. Observations:                 118   AIC:                             1689.\n",
       "Df Residuals:                     116   BIC:                             1695.\n",
       "Df Model:                           1                                         \n",
       "Covariance Type:            nonrobust                                         \n",
       "==============================================================================\n",
       "                 coef    std err          t      P>|t|      [0.025      0.975]\n",
       "------------------------------------------------------------------------------\n",
       "const        329.1756     54.715      6.016      0.000     220.806     437.545\n",
       "chnimp_1       0.4162      0.084      4.946      0.000       0.250       0.583\n",
       "==============================================================================\n",
       "Omnibus:                       11.603   Durbin-Watson:                   2.214\n",
       "Prob(Omnibus):                  0.003   Jarque-Bera (JB):               11.973\n",
       "Skew:                           0.720   Prob(JB):                      0.00251\n",
       "Kurtosis:                       3.600   Cond. No.                     1.25e+03\n",
       "==============================================================================\n",
       "\n",
       "Notes:\n",
       "[1] Standard Errors assume that the covariance matrix of the errors is correctly specified.\n",
       "[2] The condition number is large, 1.25e+03. This might indicate that there are\n",
       "strong multicollinearity or other numerical problems.\n",
       "\"\"\""
      ]
     },
     "execution_count": 25,
     "metadata": {},
     "output_type": "execute_result"
    }
   ],
   "source": [
    "X = sm.add_constant(barium_trim[\"chnimp_1\"])\n",
    "model2 = sm.OLS(barium_trim.chnimp, X, missing=\"drop\").fit()\n",
    "model2.summary()"
   ]
  },
  {
   "cell_type": "code",
   "execution_count": 26,
   "id": "53aa7674-5269-45d6-a7ce-bed36e29b2a5",
   "metadata": {},
   "outputs": [
    {
     "data": {
      "text/plain": [
       "308.17276531263934"
      ]
     },
     "execution_count": 26,
     "metadata": {},
     "output_type": "execute_result"
    }
   ],
   "source": [
    "np.sqrt(model2.scale)"
   ]
  },
  {
   "cell_type": "code",
   "execution_count": 27,
   "id": "fb77640d-9869-402c-a279-f45a85bd8f55",
   "metadata": {},
   "outputs": [
    {
     "data": {
      "text/plain": [
       "315.5003085662447"
      ]
     },
     "execution_count": 27,
     "metadata": {},
     "output_type": "execute_result"
    }
   ],
   "source": [
    "barium_back12 = barium.iloc[-12:]\n",
    "X = sm.add_constant(barium_back12[\"t\"])\n",
    "np.sqrt(((model1.predict(X) - barium_back12[\"chnimp\"]\n",
    "         )**2).sum() / len(model1.predict(X)))"
   ]
  },
  {
   "cell_type": "code",
   "execution_count": 28,
   "id": "8415379e-b9f9-424e-9bd6-186cd7f022d0",
   "metadata": {},
   "outputs": [
    {
     "data": {
      "text/plain": [
       "201.92975332750666"
      ]
     },
     "execution_count": 28,
     "metadata": {},
     "output_type": "execute_result"
    }
   ],
   "source": [
    "(abs(model1.predict(X) - barium_back12[\"chnimp\"]).sum() \n",
    " / len(model1.predict(X)))"
   ]
  },
  {
   "cell_type": "code",
   "execution_count": 29,
   "id": "2fc7dd1d-7860-4201-b3cc-a3a0e1de2546",
   "metadata": {},
   "outputs": [
    {
     "data": {
      "text/plain": [
       "388.6478585223456"
      ]
     },
     "execution_count": 29,
     "metadata": {},
     "output_type": "execute_result"
    }
   ],
   "source": [
    "X = sm.add_constant(barium_back12[\"chnimp_1\"])\n",
    "np.sqrt(((model2.predict(X) - barium_back12[\"chnimp\"]\n",
    "         )**2).sum() / len(model2.predict(X)))"
   ]
  },
  {
   "cell_type": "code",
   "execution_count": 30,
   "id": "9497d38f-1038-4c59-9b68-7373fe3c60d8",
   "metadata": {},
   "outputs": [
    {
     "data": {
      "text/plain": [
       "246.13029183953222"
      ]
     },
     "execution_count": 30,
     "metadata": {},
     "output_type": "execute_result"
    }
   ],
   "source": [
    "(abs(model2.predict(X) - barium_back12[\"chnimp\"]).sum() \n",
    " / len(model2.predict(X)))"
   ]
  },
  {
   "cell_type": "code",
   "execution_count": 31,
   "id": "2921e8a1-9ed7-468e-937d-213091e7bd72",
   "metadata": {},
   "outputs": [
    {
     "data": {
      "text/html": [
       "<table class=\"simpletable\">\n",
       "<caption>OLS Regression Results</caption>\n",
       "<tr>\n",
       "  <th>Dep. Variable:</th>         <td>chnimp</td>      <th>  R-squared:         </th> <td>   0.354</td>\n",
       "</tr>\n",
       "<tr>\n",
       "  <th>Model:</th>                   <td>OLS</td>       <th>  Adj. R-squared:    </th> <td>   0.281</td>\n",
       "</tr>\n",
       "<tr>\n",
       "  <th>Method:</th>             <td>Least Squares</td>  <th>  F-statistic:       </th> <td>   4.850</td>\n",
       "</tr>\n",
       "<tr>\n",
       "  <th>Date:</th>             <td>Sun, 27 Nov 2022</td> <th>  Prob (F-statistic):</th> <td>2.58e-06</td>\n",
       "</tr>\n",
       "<tr>\n",
       "  <th>Time:</th>                 <td>01:26:43</td>     <th>  Log-Likelihood:    </th> <td> -835.14</td>\n",
       "</tr>\n",
       "<tr>\n",
       "  <th>No. Observations:</th>      <td>   119</td>      <th>  AIC:               </th> <td>   1696.</td>\n",
       "</tr>\n",
       "<tr>\n",
       "  <th>Df Residuals:</th>          <td>   106</td>      <th>  BIC:               </th> <td>   1732.</td>\n",
       "</tr>\n",
       "<tr>\n",
       "  <th>Df Model:</th>              <td>    12</td>      <th>                     </th>     <td> </td>   \n",
       "</tr>\n",
       "<tr>\n",
       "  <th>Covariance Type:</th>      <td>nonrobust</td>    <th>                     </th>     <td> </td>   \n",
       "</tr>\n",
       "</table>\n",
       "<table class=\"simpletable\">\n",
       "<tr>\n",
       "    <td></td>       <th>coef</th>     <th>std err</th>      <th>t</th>      <th>P>|t|</th>  <th>[0.025</th>    <th>0.975]</th>  \n",
       "</tr>\n",
       "<tr>\n",
       "  <th>const</th> <td>  213.9850</td> <td>  105.934</td> <td>    2.020</td> <td> 0.046</td> <td>    3.960</td> <td>  424.010</td>\n",
       "</tr>\n",
       "<tr>\n",
       "  <th>t</th>     <td>    5.0732</td> <td>    0.767</td> <td>    6.615</td> <td> 0.000</td> <td>    3.553</td> <td>    6.594</td>\n",
       "</tr>\n",
       "<tr>\n",
       "  <th>feb</th>   <td>  -79.3167</td> <td>  131.582</td> <td>   -0.603</td> <td> 0.548</td> <td> -340.190</td> <td>  181.556</td>\n",
       "</tr>\n",
       "<tr>\n",
       "  <th>mar</th>   <td>  145.1167</td> <td>  131.561</td> <td>    1.103</td> <td> 0.273</td> <td> -115.717</td> <td>  405.950</td>\n",
       "</tr>\n",
       "<tr>\n",
       "  <th>apr</th>   <td> -159.9673</td> <td>  131.546</td> <td>   -1.216</td> <td> 0.227</td> <td> -420.770</td> <td>  100.835</td>\n",
       "</tr>\n",
       "<tr>\n",
       "  <th>may</th>   <td>  104.7032</td> <td>  131.535</td> <td>    0.796</td> <td> 0.428</td> <td> -156.077</td> <td>  365.483</td>\n",
       "</tr>\n",
       "<tr>\n",
       "  <th>jun</th>   <td>  -13.0195</td> <td>  131.528</td> <td>   -0.099</td> <td> 0.921</td> <td> -273.786</td> <td>  247.747</td>\n",
       "</tr>\n",
       "<tr>\n",
       "  <th>jul</th>   <td>   91.6428</td> <td>  131.526</td> <td>    0.697</td> <td> 0.487</td> <td> -169.120</td> <td>  352.405</td>\n",
       "</tr>\n",
       "<tr>\n",
       "  <th>aug</th>   <td>   42.0477</td> <td>  131.528</td> <td>    0.320</td> <td> 0.750</td> <td> -218.719</td> <td>  302.814</td>\n",
       "</tr>\n",
       "<tr>\n",
       "  <th>sep</th>   <td>  171.6832</td> <td>  131.535</td> <td>    1.305</td> <td> 0.195</td> <td>  -89.097</td> <td>  432.463</td>\n",
       "</tr>\n",
       "<tr>\n",
       "  <th>oct</th>   <td>  110.5809</td> <td>  131.546</td> <td>    0.841</td> <td> 0.402</td> <td> -150.221</td> <td>  371.383</td>\n",
       "</tr>\n",
       "<tr>\n",
       "  <th>nov</th>   <td>  -23.3848</td> <td>  131.561</td> <td>   -0.178</td> <td> 0.859</td> <td> -284.218</td> <td>  237.449</td>\n",
       "</tr>\n",
       "<tr>\n",
       "  <th>dec</th>   <td>   78.2496</td> <td>  131.582</td> <td>    0.595</td> <td> 0.553</td> <td> -182.624</td> <td>  339.123</td>\n",
       "</tr>\n",
       "</table>\n",
       "<table class=\"simpletable\">\n",
       "<tr>\n",
       "  <th>Omnibus:</th>       <td> 9.509</td> <th>  Durbin-Watson:     </th> <td>   1.444</td>\n",
       "</tr>\n",
       "<tr>\n",
       "  <th>Prob(Omnibus):</th> <td> 0.009</td> <th>  Jarque-Bera (JB):  </th> <td>   9.611</td>\n",
       "</tr>\n",
       "<tr>\n",
       "  <th>Skew:</th>          <td> 0.684</td> <th>  Prob(JB):          </th> <td> 0.00818</td>\n",
       "</tr>\n",
       "<tr>\n",
       "  <th>Kurtosis:</th>      <td> 3.261</td> <th>  Cond. No.          </th> <td>    901.</td>\n",
       "</tr>\n",
       "</table><br/><br/>Notes:<br/>[1] Standard Errors assume that the covariance matrix of the errors is correctly specified."
      ],
      "text/plain": [
       "<class 'statsmodels.iolib.summary.Summary'>\n",
       "\"\"\"\n",
       "                            OLS Regression Results                            \n",
       "==============================================================================\n",
       "Dep. Variable:                 chnimp   R-squared:                       0.354\n",
       "Model:                            OLS   Adj. R-squared:                  0.281\n",
       "Method:                 Least Squares   F-statistic:                     4.850\n",
       "Date:                Sun, 27 Nov 2022   Prob (F-statistic):           2.58e-06\n",
       "Time:                        01:26:43   Log-Likelihood:                -835.14\n",
       "No. Observations:                 119   AIC:                             1696.\n",
       "Df Residuals:                     106   BIC:                             1732.\n",
       "Df Model:                          12                                         \n",
       "Covariance Type:            nonrobust                                         \n",
       "==============================================================================\n",
       "                 coef    std err          t      P>|t|      [0.025      0.975]\n",
       "------------------------------------------------------------------------------\n",
       "const        213.9850    105.934      2.020      0.046       3.960     424.010\n",
       "t              5.0732      0.767      6.615      0.000       3.553       6.594\n",
       "feb          -79.3167    131.582     -0.603      0.548    -340.190     181.556\n",
       "mar          145.1167    131.561      1.103      0.273    -115.717     405.950\n",
       "apr         -159.9673    131.546     -1.216      0.227    -420.770     100.835\n",
       "may          104.7032    131.535      0.796      0.428    -156.077     365.483\n",
       "jun          -13.0195    131.528     -0.099      0.921    -273.786     247.747\n",
       "jul           91.6428    131.526      0.697      0.487    -169.120     352.405\n",
       "aug           42.0477    131.528      0.320      0.750    -218.719     302.814\n",
       "sep          171.6832    131.535      1.305      0.195     -89.097     432.463\n",
       "oct          110.5809    131.546      0.841      0.402    -150.221     371.383\n",
       "nov          -23.3848    131.561     -0.178      0.859    -284.218     237.449\n",
       "dec           78.2496    131.582      0.595      0.553    -182.624     339.123\n",
       "==============================================================================\n",
       "Omnibus:                        9.509   Durbin-Watson:                   1.444\n",
       "Prob(Omnibus):                  0.009   Jarque-Bera (JB):                9.611\n",
       "Skew:                           0.684   Prob(JB):                      0.00818\n",
       "Kurtosis:                       3.261   Cond. No.                         901.\n",
       "==============================================================================\n",
       "\n",
       "Notes:\n",
       "[1] Standard Errors assume that the covariance matrix of the errors is correctly specified.\n",
       "\"\"\""
      ]
     },
     "execution_count": 31,
     "metadata": {},
     "output_type": "execute_result"
    }
   ],
   "source": [
    "X = sm.add_constant(barium_trim[[\"t\", \"feb\", \"mar\", \"apr\", \"may\", \"jun\",\n",
    "                                 \"jul\", \"aug\", \"sep\", \"oct\", \"nov\", \"dec\"]])\n",
    "model = sm.OLS(barium_trim.chnimp, X, missing=\"drop\").fit()\n",
    "model.summary()"
   ]
  },
  {
   "cell_type": "code",
   "execution_count": 32,
   "id": "5b1cb115-05d2-4d20-8ab9-34e716963031",
   "metadata": {},
   "outputs": [
    {
     "data": {
      "text/plain": [
       "<class 'statsmodels.stats.contrast.ContrastResults'>\n",
       "<F test: F=1.1548116402471562, p=0.32745779990611446, df_denom=106, df_num=11>"
      ]
     },
     "execution_count": 32,
     "metadata": {},
     "output_type": "execute_result"
    }
   ],
   "source": [
    "model.f_test(\"feb=mar=apr=may=jun=jul=aug=sep=oct=nov=dec=0\")"
   ]
  },
  {
   "cell_type": "markdown",
   "id": "1a1a2327-3982-46b8-b82c-8ee86342ce48",
   "metadata": {},
   "source": [
    "C7.i Results above. The standard error of the regression is 288.33.\n",
    "\n",
    "C7.ii Results above. The standard error for the AR(1) regression is 308.17. Based on the standard errors for the two regressions, the linear time trend has the better in-sample fit becasue of the lower standard error.\n",
    "\n",
    "C7.iii The RSME for the linear time trend is 315.5 while the AR(1) is 388.65 (MAE is 201.93 and 246.13 respectively). Again, the linear time trend has the better performance, though in this case it is the out-of-sample fit.\n",
    "\n",
    "C7.iv Results from the dummies above. The p-value for the f-test is 0.33. We do not have "
   ]
  }
 ],
 "metadata": {
  "kernelspec": {
   "display_name": "Python 3 (ipykernel)",
   "language": "python",
   "name": "python3"
  },
  "language_info": {
   "codemirror_mode": {
    "name": "ipython",
    "version": 3
   },
   "file_extension": ".py",
   "mimetype": "text/x-python",
   "name": "python",
   "nbconvert_exporter": "python",
   "pygments_lexer": "ipython3",
   "version": "3.9.13"
  }
 },
 "nbformat": 4,
 "nbformat_minor": 5
}
